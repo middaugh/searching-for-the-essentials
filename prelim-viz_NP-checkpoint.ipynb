{
 "cells": [
  {
   "cell_type": "code",
   "execution_count": 1,
   "metadata": {},
   "outputs": [
    {
     "name": "stdout",
     "output_type": "stream",
     "text": [
      "Collecting package metadata (repodata.json): done\n",
      "Solving environment: done\n",
      "\n",
      "\n",
      "==> WARNING: A newer version of conda exists. <==\n",
      "  current version: 4.7.12\n",
      "  latest version: 4.9.2\n",
      "\n",
      "Please update conda by running\n",
      "\n",
      "    $ conda update -n base conda\n",
      "\n",
      "\n",
      "\n",
      "# All requested packages already installed.\n",
      "\n",
      "\n",
      "Note: you may need to restart the kernel to use updated packages.\n"
     ]
    }
   ],
   "source": [
    "#%conda install -c conda-forge -c plotly jupyter-dash"
   ]
  },
  {
   "cell_type": "code",
   "execution_count": 1,
   "metadata": {},
   "outputs": [],
   "source": [
    "import pandas as pd \n",
    "import numpy as np \n",
    "\n",
    "import plotly.express as px\n",
    "from jupyter_dash import JupyterDash\n",
    "import dash_core_components as dcc\n",
    "import dash_html_components as html\n",
    "from dash.dependencies import Input, Output\n",
    "import dash\n",
    "from dash.exceptions import PreventUpdate\n",
    "import plotly.graph_objects as go"
   ]
  },
  {
   "cell_type": "code",
   "execution_count": 44,
   "metadata": {},
   "outputs": [],
   "source": [
    "# Base Settings\n",
    "fontFamily = 'Roboto'"
   ]
  },
  {
   "cell_type": "code",
   "execution_count": 45,
   "metadata": {},
   "outputs": [],
   "source": [
    "# Load Data\n",
    "parse_dates = ['date']\n",
    "input_dir = './output-data/'\n",
    "df = px.data.tips()"
   ]
  },
  {
   "cell_type": "code",
   "execution_count": 20,
   "metadata": {
    "scrolled": true
   },
   "outputs": [
    {
     "data": {
      "text/html": [
       "\n",
       "        <iframe\n",
       "            width=\"100%\"\n",
       "            height=\"650\"\n",
       "            src=\"http://127.0.0.1:8050/\"\n",
       "            frameborder=\"0\"\n",
       "            allowfullscreen\n",
       "        ></iframe>\n",
       "        "
      ],
      "text/plain": [
       "<IPython.lib.display.IFrame at 0x25bdd731e80>"
      ]
     },
     "metadata": {},
     "output_type": "display_data"
    }
   ],
   "source": [
    "# Build App\n",
    "app = JupyterDash(__name__)\n",
    "app.layout = html.Div([\n",
    "    html.H1(\"Searching for the Essentials\", style={'fontFamily': fontFamily}),\n",
    "    dcc.Graph(id='graph'),\n",
    "    html.H2(\"Select\", style={'fontFamily': fontFamily}),\n",
    "    dcc.Dropdown(\n",
    "        id='colorscale-dropdown', clearable=False,\n",
    "        style={'fontFamily': fontFamily},\n",
    "        value='plasma', options=[\n",
    "            {'label': c, 'value': c}\n",
    "            for c in px.colors.named_colorscales()\n",
    "        ])\n",
    "])\n",
    "# Define callback to update graph\n",
    "@app.callback(\n",
    "    Output('graph', 'figure'),\n",
    "    [Input(\"colorscale-dropdown\", \"value\")]\n",
    ")\n",
    "def update_figure(colorscale):\n",
    "    return px.scatter(\n",
    "        df, x=\"total_bill\", y=\"tip\", color=\"size\",\n",
    "        color_continuous_scale=colorscale,\n",
    "        render_mode=\"webgl\", title=\"Tips\"\n",
    "    )\n",
    "# Run app and display result \"external\" on the web or \"inline\" in the notebook\n",
    "app.run_server(mode='inline')"
   ]
  },
  {
   "cell_type": "code",
   "execution_count": 46,
   "metadata": {},
   "outputs": [],
   "source": [
    "###########################\n",
    "# PREP\n",
    "###########################\n",
    "timeseries_update_layout_range_selector = dict(\n",
    "    # title_text='Records Ingested by Day',\n",
    "    margin=dict(l=75, r=40, b=40, t=75, pad=4),\n",
    "    clickmode='event+select',\n",
    "    xaxis=dict(\n",
    "        rangeselector=dict(\n",
    "            buttons=list([\n",
    "                dict(count=1,\n",
    "                     label=\"1m\",\n",
    "                     step=\"month\",\n",
    "                     stepmode=\"backward\"),\n",
    "                dict(count=6,\n",
    "                     label=\"6m\",\n",
    "                     step=\"month\",\n",
    "                     stepmode=\"backward\"),\n",
    "                dict(count=1,\n",
    "                     label=\"YTD\",\n",
    "                     step=\"year\",\n",
    "                     stepmode=\"todate\"),\n",
    "                dict(count=1,\n",
    "                     label=\"1y\",\n",
    "                     step=\"year\",\n",
    "                     stepmode=\"backward\"),\n",
    "                dict(count=2,\n",
    "                     label=\"2y\",\n",
    "                     step=\"year\",\n",
    "                     stepmode=\"backward\"),\n",
    "                dict(step=\"all\")\n",
    "            ])\n",
    "        ),\n",
    "        rangeslider=dict(\n",
    "            visible=True\n",
    "        ),\n",
    "        type=\"date\"\n",
    "    )\n",
    "\n",
    ")"
   ]
  },
  {
   "cell_type": "code",
   "execution_count": 47,
   "metadata": {
    "scrolled": false
   },
   "outputs": [
    {
     "ename": "NameError",
     "evalue": "name 'app' is not defined",
     "output_type": "error",
     "traceback": [
      "\u001b[1;31m---------------------------------------------------------------------------\u001b[0m",
      "\u001b[1;31mNameError\u001b[0m                                 Traceback (most recent call last)",
      "\u001b[1;32m<ipython-input-47-735e1b4b8f7a>\u001b[0m in \u001b[0;36m<module>\u001b[1;34m\u001b[0m\n\u001b[0;32m     48\u001b[0m                 dcc.Graph(id=\"timeseries_graph\",\n\u001b[0;32m     49\u001b[0m                           \u001b[0mclassName\u001b[0m\u001b[1;33m=\u001b[0m\u001b[1;34m'viz-card__graph viz-card__graph--timeseries flex-three'\u001b[0m\u001b[1;33m,\u001b[0m\u001b[1;33m\u001b[0m\u001b[1;33m\u001b[0m\u001b[0m\n\u001b[1;32m---> 50\u001b[1;33m                           \u001b[0mfigure\u001b[0m\u001b[1;33m=\u001b[0m\u001b[0mtimeseries_fig\u001b[0m\u001b[1;33m\u001b[0m\u001b[1;33m\u001b[0m\u001b[0m\n\u001b[0m\u001b[0;32m     51\u001b[0m                           ),\n\u001b[0;32m     52\u001b[0m             ]\n",
      "\u001b[1;31mNameError\u001b[0m: name 'app' is not defined"
     ]
    }
   ],
   "source": [
    "# *** Time Series Figure Creation\n",
    "timeseries_fig = go.Figure()\n",
    "# Count Per Day Bars\n",
    "# Cumulative Registered\n",
    "timeseries_fig.add_trace(go.Scatter(x=uk['date'],\n",
    "                                    y=uk['score_difference'],\n",
    "                                    name=\"uk\",\n",
    "                                    line_color='lightgrey', line=dict(shape=\"spline\")))\n",
    "timeseries_fig.add_trace(go.Scatter(x=nl['date'],\n",
    "                                    y=nl['score_difference'],\n",
    "                                    name=\"nl\",\n",
    "                                    line=dict(shape=\"spline\")))\n",
    "timeseries_fig.add_trace(go.Scatter(x=ger['date'],\n",
    "                                    y=ger['score_difference'],\n",
    "                                    name=\"ger\",\n",
    "                                    line=dict(shape=\"spline\")))\n",
    "\n",
    "timeseries_fig.update_layout(\n",
    "    **timeseries_update_layout_range_selector,\n",
    "    legend=dict(\n",
    "    yanchor=\"top\",\n",
    "    y=0.99,\n",
    "    xanchor=\"left\",\n",
    "    x=0.01\n",
    "))\n",
    "# *** End Time Series Figure\n",
    "\n",
    "###########################\n",
    "# LAYOUT TO BE USED IN INDEX.PY\n",
    "###########################\n",
    "app.layout = html.Div(\n",
    "    className=\"viz-card viz-card--timeseries flex-one\",\n",
    "    children=[\n",
    "        dcc.Store(id=\"timeseries_output\"),\n",
    "        html.Div(\n",
    "            className=\"row\",\n",
    "            children=[\n",
    "                html.P(\n",
    "                    className=\"viz-card__explainer viz-card_explainer--timeseries flex-two\",\n",
    "                    children=\"Select a time range (1Y, 6M, etc. or with the slider at bottom of graph)\"\n",
    "                ),\n",
    "                # wrap all dcc.Dropdown in Div with className because otherwise not applied to outermost div, https://github.com/plotly/dash-core-components/issues/606\n",
    "            ]\n",
    "        ),\n",
    "        html.Div(\n",
    "            className=\"row mobile-interaction-disabled\",\n",
    "            children=[\n",
    "                dcc.Graph(id=\"timeseries_graph\",\n",
    "                          className='viz-card__graph viz-card__graph--timeseries flex-three',\n",
    "                          figure=timeseries_fig\n",
    "                          ),\n",
    "            ]\n",
    "        )\n",
    "    ])\n",
    "app.run_server(mode='external')"
   ]
  },
  {
   "cell_type": "code",
   "execution_count": 48,
   "metadata": {},
   "outputs": [
    {
     "name": "stderr",
     "output_type": "stream",
     "text": [
      "C:\\Users\\nelea\\anaconda3\\envs\\venv\\lib\\site-packages\\plotly\\graph_objs\\_deprecations.py:40: DeprecationWarning:\n",
      "\n",
      "plotly.graph_objs.Data is deprecated.\n",
      "Please replace it with a list or tuple of instances of the following types\n",
      "  - plotly.graph_objs.Scatter\n",
      "  - plotly.graph_objs.Bar\n",
      "  - plotly.graph_objs.Area\n",
      "  - plotly.graph_objs.Histogram\n",
      "  - etc.\n",
      "\n",
      "\n"
     ]
    },
    {
     "data": {
      "application/vnd.plotly.v1+json": {
       "config": {
        "plotlyServerURL": "https://plot.ly"
       },
       "data": [
        {
         "autocolorscale": true,
         "geo": "geo",
         "locationmode": "country names",
         "locations": [
          "Germany",
          "Great Britain",
          "Netherlands"
         ],
         "showscale": true,
         "type": "choropleth",
         "z": [
          "6",
          "4",
          "5"
         ]
        }
       ],
       "layout": {
        "geo": {
         "coastlinecolor": "rgb(0, 255, 255)",
         "countrycolor": "rgb(255, 0, 255)",
         "domain": {
          "x": [
           0,
           1
          ],
          "y": [
           0,
           1
          ]
         },
         "landcolor": "rgb(229, 229, 229)",
         "lataxis": {
          "range": [
           35,
           70
          ]
         },
         "lonaxis": {
          "range": [
           -9,
           38
          ]
         },
         "projection": {
          "type": "mercator"
         },
         "resolution": 50,
         "scope": "europe",
         "showcoastlines": true,
         "showframe": true,
         "showland": true
        },
        "legend": {
         "traceorder": "reversed"
        },
        "template": {
         "data": {
          "bar": [
           {
            "error_x": {
             "color": "#2a3f5f"
            },
            "error_y": {
             "color": "#2a3f5f"
            },
            "marker": {
             "line": {
              "color": "#E5ECF6",
              "width": 0.5
             }
            },
            "type": "bar"
           }
          ],
          "barpolar": [
           {
            "marker": {
             "line": {
              "color": "#E5ECF6",
              "width": 0.5
             }
            },
            "type": "barpolar"
           }
          ],
          "carpet": [
           {
            "aaxis": {
             "endlinecolor": "#2a3f5f",
             "gridcolor": "white",
             "linecolor": "white",
             "minorgridcolor": "white",
             "startlinecolor": "#2a3f5f"
            },
            "baxis": {
             "endlinecolor": "#2a3f5f",
             "gridcolor": "white",
             "linecolor": "white",
             "minorgridcolor": "white",
             "startlinecolor": "#2a3f5f"
            },
            "type": "carpet"
           }
          ],
          "choropleth": [
           {
            "colorbar": {
             "outlinewidth": 0,
             "ticks": ""
            },
            "type": "choropleth"
           }
          ],
          "contour": [
           {
            "colorbar": {
             "outlinewidth": 0,
             "ticks": ""
            },
            "colorscale": [
             [
              0,
              "#0d0887"
             ],
             [
              0.1111111111111111,
              "#46039f"
             ],
             [
              0.2222222222222222,
              "#7201a8"
             ],
             [
              0.3333333333333333,
              "#9c179e"
             ],
             [
              0.4444444444444444,
              "#bd3786"
             ],
             [
              0.5555555555555556,
              "#d8576b"
             ],
             [
              0.6666666666666666,
              "#ed7953"
             ],
             [
              0.7777777777777778,
              "#fb9f3a"
             ],
             [
              0.8888888888888888,
              "#fdca26"
             ],
             [
              1,
              "#f0f921"
             ]
            ],
            "type": "contour"
           }
          ],
          "contourcarpet": [
           {
            "colorbar": {
             "outlinewidth": 0,
             "ticks": ""
            },
            "type": "contourcarpet"
           }
          ],
          "heatmap": [
           {
            "colorbar": {
             "outlinewidth": 0,
             "ticks": ""
            },
            "colorscale": [
             [
              0,
              "#0d0887"
             ],
             [
              0.1111111111111111,
              "#46039f"
             ],
             [
              0.2222222222222222,
              "#7201a8"
             ],
             [
              0.3333333333333333,
              "#9c179e"
             ],
             [
              0.4444444444444444,
              "#bd3786"
             ],
             [
              0.5555555555555556,
              "#d8576b"
             ],
             [
              0.6666666666666666,
              "#ed7953"
             ],
             [
              0.7777777777777778,
              "#fb9f3a"
             ],
             [
              0.8888888888888888,
              "#fdca26"
             ],
             [
              1,
              "#f0f921"
             ]
            ],
            "type": "heatmap"
           }
          ],
          "heatmapgl": [
           {
            "colorbar": {
             "outlinewidth": 0,
             "ticks": ""
            },
            "colorscale": [
             [
              0,
              "#0d0887"
             ],
             [
              0.1111111111111111,
              "#46039f"
             ],
             [
              0.2222222222222222,
              "#7201a8"
             ],
             [
              0.3333333333333333,
              "#9c179e"
             ],
             [
              0.4444444444444444,
              "#bd3786"
             ],
             [
              0.5555555555555556,
              "#d8576b"
             ],
             [
              0.6666666666666666,
              "#ed7953"
             ],
             [
              0.7777777777777778,
              "#fb9f3a"
             ],
             [
              0.8888888888888888,
              "#fdca26"
             ],
             [
              1,
              "#f0f921"
             ]
            ],
            "type": "heatmapgl"
           }
          ],
          "histogram": [
           {
            "marker": {
             "colorbar": {
              "outlinewidth": 0,
              "ticks": ""
             }
            },
            "type": "histogram"
           }
          ],
          "histogram2d": [
           {
            "colorbar": {
             "outlinewidth": 0,
             "ticks": ""
            },
            "colorscale": [
             [
              0,
              "#0d0887"
             ],
             [
              0.1111111111111111,
              "#46039f"
             ],
             [
              0.2222222222222222,
              "#7201a8"
             ],
             [
              0.3333333333333333,
              "#9c179e"
             ],
             [
              0.4444444444444444,
              "#bd3786"
             ],
             [
              0.5555555555555556,
              "#d8576b"
             ],
             [
              0.6666666666666666,
              "#ed7953"
             ],
             [
              0.7777777777777778,
              "#fb9f3a"
             ],
             [
              0.8888888888888888,
              "#fdca26"
             ],
             [
              1,
              "#f0f921"
             ]
            ],
            "type": "histogram2d"
           }
          ],
          "histogram2dcontour": [
           {
            "colorbar": {
             "outlinewidth": 0,
             "ticks": ""
            },
            "colorscale": [
             [
              0,
              "#0d0887"
             ],
             [
              0.1111111111111111,
              "#46039f"
             ],
             [
              0.2222222222222222,
              "#7201a8"
             ],
             [
              0.3333333333333333,
              "#9c179e"
             ],
             [
              0.4444444444444444,
              "#bd3786"
             ],
             [
              0.5555555555555556,
              "#d8576b"
             ],
             [
              0.6666666666666666,
              "#ed7953"
             ],
             [
              0.7777777777777778,
              "#fb9f3a"
             ],
             [
              0.8888888888888888,
              "#fdca26"
             ],
             [
              1,
              "#f0f921"
             ]
            ],
            "type": "histogram2dcontour"
           }
          ],
          "mesh3d": [
           {
            "colorbar": {
             "outlinewidth": 0,
             "ticks": ""
            },
            "type": "mesh3d"
           }
          ],
          "parcoords": [
           {
            "line": {
             "colorbar": {
              "outlinewidth": 0,
              "ticks": ""
             }
            },
            "type": "parcoords"
           }
          ],
          "pie": [
           {
            "automargin": true,
            "type": "pie"
           }
          ],
          "scatter": [
           {
            "marker": {
             "colorbar": {
              "outlinewidth": 0,
              "ticks": ""
             }
            },
            "type": "scatter"
           }
          ],
          "scatter3d": [
           {
            "line": {
             "colorbar": {
              "outlinewidth": 0,
              "ticks": ""
             }
            },
            "marker": {
             "colorbar": {
              "outlinewidth": 0,
              "ticks": ""
             }
            },
            "type": "scatter3d"
           }
          ],
          "scattercarpet": [
           {
            "marker": {
             "colorbar": {
              "outlinewidth": 0,
              "ticks": ""
             }
            },
            "type": "scattercarpet"
           }
          ],
          "scattergeo": [
           {
            "marker": {
             "colorbar": {
              "outlinewidth": 0,
              "ticks": ""
             }
            },
            "type": "scattergeo"
           }
          ],
          "scattergl": [
           {
            "marker": {
             "colorbar": {
              "outlinewidth": 0,
              "ticks": ""
             }
            },
            "type": "scattergl"
           }
          ],
          "scattermapbox": [
           {
            "marker": {
             "colorbar": {
              "outlinewidth": 0,
              "ticks": ""
             }
            },
            "type": "scattermapbox"
           }
          ],
          "scatterpolar": [
           {
            "marker": {
             "colorbar": {
              "outlinewidth": 0,
              "ticks": ""
             }
            },
            "type": "scatterpolar"
           }
          ],
          "scatterpolargl": [
           {
            "marker": {
             "colorbar": {
              "outlinewidth": 0,
              "ticks": ""
             }
            },
            "type": "scatterpolargl"
           }
          ],
          "scatterternary": [
           {
            "marker": {
             "colorbar": {
              "outlinewidth": 0,
              "ticks": ""
             }
            },
            "type": "scatterternary"
           }
          ],
          "surface": [
           {
            "colorbar": {
             "outlinewidth": 0,
             "ticks": ""
            },
            "colorscale": [
             [
              0,
              "#0d0887"
             ],
             [
              0.1111111111111111,
              "#46039f"
             ],
             [
              0.2222222222222222,
              "#7201a8"
             ],
             [
              0.3333333333333333,
              "#9c179e"
             ],
             [
              0.4444444444444444,
              "#bd3786"
             ],
             [
              0.5555555555555556,
              "#d8576b"
             ],
             [
              0.6666666666666666,
              "#ed7953"
             ],
             [
              0.7777777777777778,
              "#fb9f3a"
             ],
             [
              0.8888888888888888,
              "#fdca26"
             ],
             [
              1,
              "#f0f921"
             ]
            ],
            "type": "surface"
           }
          ],
          "table": [
           {
            "cells": {
             "fill": {
              "color": "#EBF0F8"
             },
             "line": {
              "color": "white"
             }
            },
            "header": {
             "fill": {
              "color": "#C8D4E3"
             },
             "line": {
              "color": "white"
             }
            },
            "type": "table"
           }
          ]
         },
         "layout": {
          "annotationdefaults": {
           "arrowcolor": "#2a3f5f",
           "arrowhead": 0,
           "arrowwidth": 1
          },
          "coloraxis": {
           "colorbar": {
            "outlinewidth": 0,
            "ticks": ""
           }
          },
          "colorscale": {
           "diverging": [
            [
             0,
             "#8e0152"
            ],
            [
             0.1,
             "#c51b7d"
            ],
            [
             0.2,
             "#de77ae"
            ],
            [
             0.3,
             "#f1b6da"
            ],
            [
             0.4,
             "#fde0ef"
            ],
            [
             0.5,
             "#f7f7f7"
            ],
            [
             0.6,
             "#e6f5d0"
            ],
            [
             0.7,
             "#b8e186"
            ],
            [
             0.8,
             "#7fbc41"
            ],
            [
             0.9,
             "#4d9221"
            ],
            [
             1,
             "#276419"
            ]
           ],
           "sequential": [
            [
             0,
             "#0d0887"
            ],
            [
             0.1111111111111111,
             "#46039f"
            ],
            [
             0.2222222222222222,
             "#7201a8"
            ],
            [
             0.3333333333333333,
             "#9c179e"
            ],
            [
             0.4444444444444444,
             "#bd3786"
            ],
            [
             0.5555555555555556,
             "#d8576b"
            ],
            [
             0.6666666666666666,
             "#ed7953"
            ],
            [
             0.7777777777777778,
             "#fb9f3a"
            ],
            [
             0.8888888888888888,
             "#fdca26"
            ],
            [
             1,
             "#f0f921"
            ]
           ],
           "sequentialminus": [
            [
             0,
             "#0d0887"
            ],
            [
             0.1111111111111111,
             "#46039f"
            ],
            [
             0.2222222222222222,
             "#7201a8"
            ],
            [
             0.3333333333333333,
             "#9c179e"
            ],
            [
             0.4444444444444444,
             "#bd3786"
            ],
            [
             0.5555555555555556,
             "#d8576b"
            ],
            [
             0.6666666666666666,
             "#ed7953"
            ],
            [
             0.7777777777777778,
             "#fb9f3a"
            ],
            [
             0.8888888888888888,
             "#fdca26"
            ],
            [
             1,
             "#f0f921"
            ]
           ]
          },
          "colorway": [
           "#636efa",
           "#EF553B",
           "#00cc96",
           "#ab63fa",
           "#FFA15A",
           "#19d3f3",
           "#FF6692",
           "#B6E880",
           "#FF97FF",
           "#FECB52"
          ],
          "font": {
           "color": "#2a3f5f"
          },
          "geo": {
           "bgcolor": "white",
           "lakecolor": "white",
           "landcolor": "#E5ECF6",
           "showlakes": true,
           "showland": true,
           "subunitcolor": "white"
          },
          "hoverlabel": {
           "align": "left"
          },
          "hovermode": "closest",
          "mapbox": {
           "style": "light"
          },
          "paper_bgcolor": "white",
          "plot_bgcolor": "#E5ECF6",
          "polar": {
           "angularaxis": {
            "gridcolor": "white",
            "linecolor": "white",
            "ticks": ""
           },
           "bgcolor": "#E5ECF6",
           "radialaxis": {
            "gridcolor": "white",
            "linecolor": "white",
            "ticks": ""
           }
          },
          "scene": {
           "xaxis": {
            "backgroundcolor": "#E5ECF6",
            "gridcolor": "white",
            "gridwidth": 2,
            "linecolor": "white",
            "showbackground": true,
            "ticks": "",
            "zerolinecolor": "white"
           },
           "yaxis": {
            "backgroundcolor": "#E5ECF6",
            "gridcolor": "white",
            "gridwidth": 2,
            "linecolor": "white",
            "showbackground": true,
            "ticks": "",
            "zerolinecolor": "white"
           },
           "zaxis": {
            "backgroundcolor": "#E5ECF6",
            "gridcolor": "white",
            "gridwidth": 2,
            "linecolor": "white",
            "showbackground": true,
            "ticks": "",
            "zerolinecolor": "white"
           }
          },
          "shapedefaults": {
           "line": {
            "color": "#2a3f5f"
           }
          },
          "ternary": {
           "aaxis": {
            "gridcolor": "white",
            "linecolor": "white",
            "ticks": ""
           },
           "baxis": {
            "gridcolor": "white",
            "linecolor": "white",
            "ticks": ""
           },
           "bgcolor": "#E5ECF6",
           "caxis": {
            "gridcolor": "white",
            "linecolor": "white",
            "ticks": ""
           }
          },
          "title": {
           "x": 0.05
          },
          "xaxis": {
           "automargin": true,
           "gridcolor": "white",
           "linecolor": "white",
           "ticks": "",
           "title": {
            "standoff": 15
           },
           "zerolinecolor": "white",
           "zerolinewidth": 2
          },
          "yaxis": {
           "automargin": true,
           "gridcolor": "white",
           "linecolor": "white",
           "ticks": "",
           "title": {
            "standoff": 15
           },
           "zerolinecolor": "white",
           "zerolinewidth": 2
          }
         }
        },
        "title": {
         "text": "map of Europe"
        }
       }
      },
      "text/html": [
       "<div>\n",
       "        \n",
       "        \n",
       "            <div id=\"f521d544-d722-4570-aa4e-8d167d304381\" class=\"plotly-graph-div\" style=\"height:525px; width:100%;\"></div>\n",
       "            <script type=\"text/javascript\">\n",
       "                require([\"plotly\"], function(Plotly) {\n",
       "                    window.PLOTLYENV=window.PLOTLYENV || {};\n",
       "                    \n",
       "                if (document.getElementById(\"f521d544-d722-4570-aa4e-8d167d304381\")) {\n",
       "                    Plotly.newPlot(\n",
       "                        'f521d544-d722-4570-aa4e-8d167d304381',\n",
       "                        [{\"autocolorscale\": true, \"geo\": \"geo\", \"locationmode\": \"country names\", \"locations\": [\"Germany\", \"Great Britain\", \"Netherlands\"], \"showscale\": true, \"type\": \"choropleth\", \"z\": [\"6\", \"4\", \"5\"]}],\n",
       "                        {\"geo\": {\"coastlinecolor\": \"rgb(0, 255, 255)\", \"countrycolor\": \"rgb(255, 0, 255)\", \"domain\": {\"x\": [0, 1], \"y\": [0, 1]}, \"landcolor\": \"rgb(229, 229, 229)\", \"lataxis\": {\"range\": [35.0, 70.0]}, \"lonaxis\": {\"range\": [-9.0, 38.0]}, \"projection\": {\"type\": \"mercator\"}, \"resolution\": 50, \"scope\": \"europe\", \"showcoastlines\": true, \"showframe\": true, \"showland\": true}, \"legend\": {\"traceorder\": \"reversed\"}, \"template\": {\"data\": {\"bar\": [{\"error_x\": {\"color\": \"#2a3f5f\"}, \"error_y\": {\"color\": \"#2a3f5f\"}, \"marker\": {\"line\": {\"color\": \"#E5ECF6\", \"width\": 0.5}}, \"type\": \"bar\"}], \"barpolar\": [{\"marker\": {\"line\": {\"color\": \"#E5ECF6\", \"width\": 0.5}}, \"type\": \"barpolar\"}], \"carpet\": [{\"aaxis\": {\"endlinecolor\": \"#2a3f5f\", \"gridcolor\": \"white\", \"linecolor\": \"white\", \"minorgridcolor\": \"white\", \"startlinecolor\": \"#2a3f5f\"}, \"baxis\": {\"endlinecolor\": \"#2a3f5f\", \"gridcolor\": \"white\", \"linecolor\": \"white\", \"minorgridcolor\": \"white\", \"startlinecolor\": \"#2a3f5f\"}, \"type\": \"carpet\"}], \"choropleth\": [{\"colorbar\": {\"outlinewidth\": 0, \"ticks\": \"\"}, \"type\": \"choropleth\"}], \"contour\": [{\"colorbar\": {\"outlinewidth\": 0, \"ticks\": \"\"}, \"colorscale\": [[0.0, \"#0d0887\"], [0.1111111111111111, \"#46039f\"], [0.2222222222222222, \"#7201a8\"], [0.3333333333333333, \"#9c179e\"], [0.4444444444444444, \"#bd3786\"], [0.5555555555555556, \"#d8576b\"], [0.6666666666666666, \"#ed7953\"], [0.7777777777777778, \"#fb9f3a\"], [0.8888888888888888, \"#fdca26\"], [1.0, \"#f0f921\"]], \"type\": \"contour\"}], \"contourcarpet\": [{\"colorbar\": {\"outlinewidth\": 0, \"ticks\": \"\"}, \"type\": \"contourcarpet\"}], \"heatmap\": [{\"colorbar\": {\"outlinewidth\": 0, \"ticks\": \"\"}, \"colorscale\": [[0.0, \"#0d0887\"], [0.1111111111111111, \"#46039f\"], [0.2222222222222222, \"#7201a8\"], [0.3333333333333333, \"#9c179e\"], [0.4444444444444444, \"#bd3786\"], [0.5555555555555556, \"#d8576b\"], [0.6666666666666666, \"#ed7953\"], [0.7777777777777778, \"#fb9f3a\"], [0.8888888888888888, \"#fdca26\"], [1.0, \"#f0f921\"]], \"type\": \"heatmap\"}], \"heatmapgl\": [{\"colorbar\": {\"outlinewidth\": 0, \"ticks\": \"\"}, \"colorscale\": [[0.0, \"#0d0887\"], [0.1111111111111111, \"#46039f\"], [0.2222222222222222, \"#7201a8\"], [0.3333333333333333, \"#9c179e\"], [0.4444444444444444, \"#bd3786\"], [0.5555555555555556, \"#d8576b\"], [0.6666666666666666, \"#ed7953\"], [0.7777777777777778, \"#fb9f3a\"], [0.8888888888888888, \"#fdca26\"], [1.0, \"#f0f921\"]], \"type\": \"heatmapgl\"}], \"histogram\": [{\"marker\": {\"colorbar\": {\"outlinewidth\": 0, \"ticks\": \"\"}}, \"type\": \"histogram\"}], \"histogram2d\": [{\"colorbar\": {\"outlinewidth\": 0, \"ticks\": \"\"}, \"colorscale\": [[0.0, \"#0d0887\"], [0.1111111111111111, \"#46039f\"], [0.2222222222222222, \"#7201a8\"], [0.3333333333333333, \"#9c179e\"], [0.4444444444444444, \"#bd3786\"], [0.5555555555555556, \"#d8576b\"], [0.6666666666666666, \"#ed7953\"], [0.7777777777777778, \"#fb9f3a\"], [0.8888888888888888, \"#fdca26\"], [1.0, \"#f0f921\"]], \"type\": \"histogram2d\"}], \"histogram2dcontour\": [{\"colorbar\": {\"outlinewidth\": 0, \"ticks\": \"\"}, \"colorscale\": [[0.0, \"#0d0887\"], [0.1111111111111111, \"#46039f\"], [0.2222222222222222, \"#7201a8\"], [0.3333333333333333, \"#9c179e\"], [0.4444444444444444, \"#bd3786\"], [0.5555555555555556, \"#d8576b\"], [0.6666666666666666, \"#ed7953\"], [0.7777777777777778, \"#fb9f3a\"], [0.8888888888888888, \"#fdca26\"], [1.0, \"#f0f921\"]], \"type\": \"histogram2dcontour\"}], \"mesh3d\": [{\"colorbar\": {\"outlinewidth\": 0, \"ticks\": \"\"}, \"type\": \"mesh3d\"}], \"parcoords\": [{\"line\": {\"colorbar\": {\"outlinewidth\": 0, \"ticks\": \"\"}}, \"type\": \"parcoords\"}], \"pie\": [{\"automargin\": true, \"type\": \"pie\"}], \"scatter\": [{\"marker\": {\"colorbar\": {\"outlinewidth\": 0, \"ticks\": \"\"}}, \"type\": \"scatter\"}], \"scatter3d\": [{\"line\": {\"colorbar\": {\"outlinewidth\": 0, \"ticks\": \"\"}}, \"marker\": {\"colorbar\": {\"outlinewidth\": 0, \"ticks\": \"\"}}, \"type\": \"scatter3d\"}], \"scattercarpet\": [{\"marker\": {\"colorbar\": {\"outlinewidth\": 0, \"ticks\": \"\"}}, \"type\": \"scattercarpet\"}], \"scattergeo\": [{\"marker\": {\"colorbar\": {\"outlinewidth\": 0, \"ticks\": \"\"}}, \"type\": \"scattergeo\"}], \"scattergl\": [{\"marker\": {\"colorbar\": {\"outlinewidth\": 0, \"ticks\": \"\"}}, \"type\": \"scattergl\"}], \"scattermapbox\": [{\"marker\": {\"colorbar\": {\"outlinewidth\": 0, \"ticks\": \"\"}}, \"type\": \"scattermapbox\"}], \"scatterpolar\": [{\"marker\": {\"colorbar\": {\"outlinewidth\": 0, \"ticks\": \"\"}}, \"type\": \"scatterpolar\"}], \"scatterpolargl\": [{\"marker\": {\"colorbar\": {\"outlinewidth\": 0, \"ticks\": \"\"}}, \"type\": \"scatterpolargl\"}], \"scatterternary\": [{\"marker\": {\"colorbar\": {\"outlinewidth\": 0, \"ticks\": \"\"}}, \"type\": \"scatterternary\"}], \"surface\": [{\"colorbar\": {\"outlinewidth\": 0, \"ticks\": \"\"}, \"colorscale\": [[0.0, \"#0d0887\"], [0.1111111111111111, \"#46039f\"], [0.2222222222222222, \"#7201a8\"], [0.3333333333333333, \"#9c179e\"], [0.4444444444444444, \"#bd3786\"], [0.5555555555555556, \"#d8576b\"], [0.6666666666666666, \"#ed7953\"], [0.7777777777777778, \"#fb9f3a\"], [0.8888888888888888, \"#fdca26\"], [1.0, \"#f0f921\"]], \"type\": \"surface\"}], \"table\": [{\"cells\": {\"fill\": {\"color\": \"#EBF0F8\"}, \"line\": {\"color\": \"white\"}}, \"header\": {\"fill\": {\"color\": \"#C8D4E3\"}, \"line\": {\"color\": \"white\"}}, \"type\": \"table\"}]}, \"layout\": {\"annotationdefaults\": {\"arrowcolor\": \"#2a3f5f\", \"arrowhead\": 0, \"arrowwidth\": 1}, \"coloraxis\": {\"colorbar\": {\"outlinewidth\": 0, \"ticks\": \"\"}}, \"colorscale\": {\"diverging\": [[0, \"#8e0152\"], [0.1, \"#c51b7d\"], [0.2, \"#de77ae\"], [0.3, \"#f1b6da\"], [0.4, \"#fde0ef\"], [0.5, \"#f7f7f7\"], [0.6, \"#e6f5d0\"], [0.7, \"#b8e186\"], [0.8, \"#7fbc41\"], [0.9, \"#4d9221\"], [1, \"#276419\"]], \"sequential\": [[0.0, \"#0d0887\"], [0.1111111111111111, \"#46039f\"], [0.2222222222222222, \"#7201a8\"], [0.3333333333333333, \"#9c179e\"], [0.4444444444444444, \"#bd3786\"], [0.5555555555555556, \"#d8576b\"], [0.6666666666666666, \"#ed7953\"], [0.7777777777777778, \"#fb9f3a\"], [0.8888888888888888, \"#fdca26\"], [1.0, \"#f0f921\"]], \"sequentialminus\": [[0.0, \"#0d0887\"], [0.1111111111111111, \"#46039f\"], [0.2222222222222222, \"#7201a8\"], [0.3333333333333333, \"#9c179e\"], [0.4444444444444444, \"#bd3786\"], [0.5555555555555556, \"#d8576b\"], [0.6666666666666666, \"#ed7953\"], [0.7777777777777778, \"#fb9f3a\"], [0.8888888888888888, \"#fdca26\"], [1.0, \"#f0f921\"]]}, \"colorway\": [\"#636efa\", \"#EF553B\", \"#00cc96\", \"#ab63fa\", \"#FFA15A\", \"#19d3f3\", \"#FF6692\", \"#B6E880\", \"#FF97FF\", \"#FECB52\"], \"font\": {\"color\": \"#2a3f5f\"}, \"geo\": {\"bgcolor\": \"white\", \"lakecolor\": \"white\", \"landcolor\": \"#E5ECF6\", \"showlakes\": true, \"showland\": true, \"subunitcolor\": \"white\"}, \"hoverlabel\": {\"align\": \"left\"}, \"hovermode\": \"closest\", \"mapbox\": {\"style\": \"light\"}, \"paper_bgcolor\": \"white\", \"plot_bgcolor\": \"#E5ECF6\", \"polar\": {\"angularaxis\": {\"gridcolor\": \"white\", \"linecolor\": \"white\", \"ticks\": \"\"}, \"bgcolor\": \"#E5ECF6\", \"radialaxis\": {\"gridcolor\": \"white\", \"linecolor\": \"white\", \"ticks\": \"\"}}, \"scene\": {\"xaxis\": {\"backgroundcolor\": \"#E5ECF6\", \"gridcolor\": \"white\", \"gridwidth\": 2, \"linecolor\": \"white\", \"showbackground\": true, \"ticks\": \"\", \"zerolinecolor\": \"white\"}, \"yaxis\": {\"backgroundcolor\": \"#E5ECF6\", \"gridcolor\": \"white\", \"gridwidth\": 2, \"linecolor\": \"white\", \"showbackground\": true, \"ticks\": \"\", \"zerolinecolor\": \"white\"}, \"zaxis\": {\"backgroundcolor\": \"#E5ECF6\", \"gridcolor\": \"white\", \"gridwidth\": 2, \"linecolor\": \"white\", \"showbackground\": true, \"ticks\": \"\", \"zerolinecolor\": \"white\"}}, \"shapedefaults\": {\"line\": {\"color\": \"#2a3f5f\"}}, \"ternary\": {\"aaxis\": {\"gridcolor\": \"white\", \"linecolor\": \"white\", \"ticks\": \"\"}, \"baxis\": {\"gridcolor\": \"white\", \"linecolor\": \"white\", \"ticks\": \"\"}, \"bgcolor\": \"#E5ECF6\", \"caxis\": {\"gridcolor\": \"white\", \"linecolor\": \"white\", \"ticks\": \"\"}}, \"title\": {\"x\": 0.05}, \"xaxis\": {\"automargin\": true, \"gridcolor\": \"white\", \"linecolor\": \"white\", \"ticks\": \"\", \"title\": {\"standoff\": 15}, \"zerolinecolor\": \"white\", \"zerolinewidth\": 2}, \"yaxis\": {\"automargin\": true, \"gridcolor\": \"white\", \"linecolor\": \"white\", \"ticks\": \"\", \"title\": {\"standoff\": 15}, \"zerolinecolor\": \"white\", \"zerolinewidth\": 2}}}, \"title\": {\"text\": \"map of Europe\"}},\n",
       "                        {\"responsive\": true}\n",
       "                    ).then(function(){\n",
       "                            \n",
       "var gd = document.getElementById('f521d544-d722-4570-aa4e-8d167d304381');\n",
       "var x = new MutationObserver(function (mutations, observer) {{\n",
       "        var display = window.getComputedStyle(gd).display;\n",
       "        if (!display || display === 'none') {{\n",
       "            console.log([gd, 'removed!']);\n",
       "            Plotly.purge(gd);\n",
       "            observer.disconnect();\n",
       "        }}\n",
       "}});\n",
       "\n",
       "// Listen for the removal of the full notebook cells\n",
       "var notebookContainer = gd.closest('#notebook-container');\n",
       "if (notebookContainer) {{\n",
       "    x.observe(notebookContainer, {childList: true});\n",
       "}}\n",
       "\n",
       "// Listen for the clearing of the current output cell\n",
       "var outputEl = gd.closest('.output');\n",
       "if (outputEl) {{\n",
       "    x.observe(outputEl, {childList: true});\n",
       "}}\n",
       "\n",
       "                        })\n",
       "                };\n",
       "                });\n",
       "            </script>\n",
       "        </div>"
      ]
     },
     "metadata": {},
     "output_type": "display_data"
    }
   ],
   "source": [
    "from plotly.graph_objs import *\n",
    "trace1 = {\n",
    "  \"geo\": \"geo\", \n",
    "  \"type\": \"choropleth\", \n",
    "  \"z\": [\"6\", \"4\", \"5\"], \n",
    "  \"showscale\": True, \n",
    "  \"locationmode\": \"country names\", \n",
    "  \"locations\": [\"Germany\", \"Great Britain\", \"Netherlands\"], \n",
    "  \"autocolorscale\": True\n",
    "}\n",
    "data = Data([trace1])\n",
    "layout = {\n",
    "  \"geo\": {\n",
    "    \"scope\": \"europe\", \n",
    "    \"domain\": {\n",
    "      \"x\": [0, 1], \n",
    "      \"y\": [0, 1]\n",
    "    }, \n",
    "    \"lataxis\": {\"range\": [35.0, 70.0]}, \n",
    "    \"lonaxis\": {\"range\": [-9.0, 38.0]}, \n",
    "    \"showland\": True, \n",
    "    \"landcolor\": \"rgb(229, 229, 229)\", \n",
    "    \"showframe\": True, \n",
    "    \"projection\": {\"type\": \"mercator\"}, \n",
    "    \"resolution\": 50, \n",
    "    \"countrycolor\": \"rgb(255, 0, 255)\", \n",
    "    \"coastlinecolor\": \"rgb(0, 255, 255)\", \n",
    "    \"showcoastlines\": True\n",
    "  }, \n",
    "  \"title\": \"map of Europe\", \n",
    "  \"legend\": {\"traceorder\": \"reversed\"}\n",
    "}\n",
    "fig = Figure(data=data, layout=layout)\n",
    "fig.show()"
   ]
  },
  {
   "cell_type": "markdown",
   "metadata": {},
   "source": [
    "# Map Template"
   ]
  },
  {
   "cell_type": "code",
   "execution_count": 58,
   "metadata": {},
   "outputs": [],
   "source": [
    "df = pd.read_csv(input_dir + 'google-trends-difference-terms-ordered.csv', parse_dates=parse_dates)\n",
    "df = df[df.score_difference.notna()]\n",
    "df['date_str'] = df['date'].astype(str)"
   ]
  },
  {
   "cell_type": "code",
   "execution_count": 59,
   "metadata": {},
   "outputs": [],
   "source": [
    "# Adding iso_alpha and iso_num to df to use it as location for creating the map\n",
    "def add_location(data):\n",
    "    for index,row in data.iterrows():\n",
    "        if row['country'] == \"ger\":\n",
    "            data.at[index,'iso_num'] = 276\n",
    "            data.at[index,'iso_alpha'] = \"DEU\"\n",
    "        elif row['country'] == \"nl\":\n",
    "            data.at[index,'iso_num'] = 533\n",
    "            data.at[index,'iso_alpha'] = \"NLD\"\n",
    "        elif row['country'] == \"uk\":\n",
    "            data.at[index,'iso_num'] = 826\n",
    "            data.at[index,'iso_alpha'] = \"GBR\"   \n",
    "    return data\n",
    "\n",
    "df = add_location(df)"
   ]
  },
  {
   "cell_type": "code",
   "execution_count": 60,
   "metadata": {},
   "outputs": [],
   "source": [
    "uk = df[df.country==\"uk\"]\n",
    "nl = df[df.country==\"nl\"]\n",
    "ger = df[df.country==\"ger\"]"
   ]
  },
  {
   "cell_type": "code",
   "execution_count": 61,
   "metadata": {},
   "outputs": [],
   "source": [
    "def filter_data(data, term):\n",
    "    queryable_data = data.copy()\n",
    "    queryable_data.query('term == \"'+term+'\"', inplace = True)\n",
    "    return queryable_data\n",
    "\n",
    "def transform_data(data):\n",
    "    for index,row in data.iterrows():\n",
    "        if row['score_difference'] >= 0:\n",
    "            data.at[index,'score_diff_positive'] = \"positive\"\n",
    "        else:\n",
    "            data.at[index,'score_diff_positive'] = \"negative\"\n",
    "        data.at[index,'score_difference'] = abs(data.at[index,'score_difference'])\n",
    "    return data"
   ]
  },
  {
   "cell_type": "code",
   "execution_count": 62,
   "metadata": {},
   "outputs": [
    {
     "data": {
      "text/html": [
       "<div>\n",
       "<style scoped>\n",
       "    .dataframe tbody tr th:only-of-type {\n",
       "        vertical-align: middle;\n",
       "    }\n",
       "\n",
       "    .dataframe tbody tr th {\n",
       "        vertical-align: top;\n",
       "    }\n",
       "\n",
       "    .dataframe thead th {\n",
       "        text-align: right;\n",
       "    }\n",
       "</style>\n",
       "<table border=\"1\" class=\"dataframe\">\n",
       "  <thead>\n",
       "    <tr style=\"text-align: right;\">\n",
       "      <th></th>\n",
       "      <th>date</th>\n",
       "      <th>score</th>\n",
       "      <th>country</th>\n",
       "      <th>term</th>\n",
       "      <th>translated_term</th>\n",
       "      <th>score_difference</th>\n",
       "      <th>date_str</th>\n",
       "      <th>iso_num</th>\n",
       "      <th>iso_alpha</th>\n",
       "      <th>score_diff_positive</th>\n",
       "    </tr>\n",
       "  </thead>\n",
       "  <tbody>\n",
       "    <tr>\n",
       "      <th>530</th>\n",
       "      <td>2019-11-03</td>\n",
       "      <td>68</td>\n",
       "      <td>uk</td>\n",
       "      <td>restaurant</td>\n",
       "      <td>restaurant</td>\n",
       "      <td>0.0</td>\n",
       "      <td>2019-11-03</td>\n",
       "      <td>826.0</td>\n",
       "      <td>GBR</td>\n",
       "      <td>positive</td>\n",
       "    </tr>\n",
       "    <tr>\n",
       "      <th>531</th>\n",
       "      <td>2019-11-10</td>\n",
       "      <td>69</td>\n",
       "      <td>uk</td>\n",
       "      <td>restaurant</td>\n",
       "      <td>restaurant</td>\n",
       "      <td>2.0</td>\n",
       "      <td>2019-11-10</td>\n",
       "      <td>826.0</td>\n",
       "      <td>GBR</td>\n",
       "      <td>positive</td>\n",
       "    </tr>\n",
       "    <tr>\n",
       "      <th>532</th>\n",
       "      <td>2019-11-17</td>\n",
       "      <td>65</td>\n",
       "      <td>uk</td>\n",
       "      <td>restaurant</td>\n",
       "      <td>restaurant</td>\n",
       "      <td>3.0</td>\n",
       "      <td>2019-11-17</td>\n",
       "      <td>826.0</td>\n",
       "      <td>GBR</td>\n",
       "      <td>positive</td>\n",
       "    </tr>\n",
       "    <tr>\n",
       "      <th>533</th>\n",
       "      <td>2019-11-24</td>\n",
       "      <td>62</td>\n",
       "      <td>uk</td>\n",
       "      <td>restaurant</td>\n",
       "      <td>restaurant</td>\n",
       "      <td>2.0</td>\n",
       "      <td>2019-11-24</td>\n",
       "      <td>826.0</td>\n",
       "      <td>GBR</td>\n",
       "      <td>negative</td>\n",
       "    </tr>\n",
       "    <tr>\n",
       "      <th>534</th>\n",
       "      <td>2019-12-01</td>\n",
       "      <td>62</td>\n",
       "      <td>uk</td>\n",
       "      <td>restaurant</td>\n",
       "      <td>restaurant</td>\n",
       "      <td>3.0</td>\n",
       "      <td>2019-12-01</td>\n",
       "      <td>826.0</td>\n",
       "      <td>GBR</td>\n",
       "      <td>negative</td>\n",
       "    </tr>\n",
       "  </tbody>\n",
       "</table>\n",
       "</div>"
      ],
      "text/plain": [
       "          date  score country        term translated_term  score_difference  \\\n",
       "530 2019-11-03     68      uk  restaurant      restaurant               0.0   \n",
       "531 2019-11-10     69      uk  restaurant      restaurant               2.0   \n",
       "532 2019-11-17     65      uk  restaurant      restaurant               3.0   \n",
       "533 2019-11-24     62      uk  restaurant      restaurant               2.0   \n",
       "534 2019-12-01     62      uk  restaurant      restaurant               3.0   \n",
       "\n",
       "       date_str  iso_num iso_alpha score_diff_positive  \n",
       "530  2019-11-03    826.0       GBR            positive  \n",
       "531  2019-11-10    826.0       GBR            positive  \n",
       "532  2019-11-17    826.0       GBR            positive  \n",
       "533  2019-11-24    826.0       GBR            negative  \n",
       "534  2019-12-01    826.0       GBR            negative  "
      ]
     },
     "execution_count": 62,
     "metadata": {},
     "output_type": "execute_result"
    }
   ],
   "source": [
    "transformed_data.head()"
   ]
  },
  {
   "cell_type": "code",
   "execution_count": 64,
   "metadata": {},
   "outputs": [
    {
     "data": {
      "application/vnd.plotly.v1+json": {
       "config": {
        "plotlyServerURL": "https://plot.ly"
       },
       "data": [
        {
         "geo": "geo",
         "hovertemplate": "<b>%{hovertext}</b><br><br>Search query compared to previous year =positive<br>Date =2019-03-11<br>Search query value =%{marker.size}<br>Country abbreviation =%{location}<extra></extra>",
         "hovertext": [
          "uk",
          "nl",
          "ger"
         ],
         "legendgroup": "positive",
         "locations": [
          "GBR",
          "NLD",
          "DEU"
         ],
         "marker": {
          "color": "#636efa",
          "size": [
           0,
           1,
           11
          ],
          "sizemode": "area",
          "sizeref": 0.1425
         },
         "name": "positive",
         "showlegend": true,
         "type": "scattergeo"
        }
       ],
       "frames": [
        {
         "data": [
          {
           "geo": "geo",
           "hovertemplate": "<b>%{hovertext}</b><br><br>Search query compared to previous year =positive<br>Date =2019-03-11<br>Search query value =%{marker.size}<br>Country abbreviation =%{location}<extra></extra>",
           "hovertext": [
            "uk",
            "nl",
            "ger"
           ],
           "legendgroup": "positive",
           "locations": [
            "GBR",
            "NLD",
            "DEU"
           ],
           "marker": {
            "color": "#636efa",
            "size": [
             0,
             1,
             11
            ],
            "sizemode": "area",
            "sizeref": 0.1425
           },
           "name": "positive",
           "showlegend": true,
           "type": "scattergeo"
          }
         ],
         "name": "2019-03-11"
        },
        {
         "data": [
          {
           "geo": "geo",
           "hovertemplate": "<b>%{hovertext}</b><br><br>Search query compared to previous year =positive<br>Date =2019-10-11<br>Search query value =%{marker.size}<br>Country abbreviation =%{location}<extra></extra>",
           "hovertext": [
            "uk",
            "nl",
            "ger"
           ],
           "legendgroup": "positive",
           "locations": [
            "GBR",
            "NLD",
            "DEU"
           ],
           "marker": {
            "color": "#636efa",
            "size": [
             2,
             2,
             8
            ],
            "sizemode": "area",
            "sizeref": 0.1425
           },
           "name": "positive",
           "showlegend": true,
           "type": "scattergeo"
          }
         ],
         "name": "2019-10-11"
        },
        {
         "data": [
          {
           "geo": "geo",
           "hovertemplate": "<b>%{hovertext}</b><br><br>Search query compared to previous year =positive<br>Date =2019-11-17<br>Search query value =%{marker.size}<br>Country abbreviation =%{location}<extra></extra>",
           "hovertext": [
            "uk",
            "nl",
            "ger"
           ],
           "legendgroup": "positive",
           "locations": [
            "GBR",
            "NLD",
            "DEU"
           ],
           "marker": {
            "color": "#636efa",
            "size": [
             3,
             6,
             9
            ],
            "sizemode": "area",
            "sizeref": 0.1425
           },
           "name": "positive",
           "showlegend": true,
           "type": "scattergeo"
          }
         ],
         "name": "2019-11-17"
        },
        {
         "data": [
          {
           "geo": "geo",
           "hovertemplate": "<b>%{hovertext}</b><br><br>Search query compared to previous year =positive<br>Date =2019-11-24<br>Search query value =%{marker.size}<br>Country abbreviation =%{location}<extra></extra>",
           "hovertext": [
            "nl",
            "ger"
           ],
           "legendgroup": "positive",
           "locations": [
            "NLD",
            "DEU"
           ],
           "marker": {
            "color": "#636efa",
            "size": [
             1,
             5
            ],
            "sizemode": "area",
            "sizeref": 0.1425
           },
           "name": "positive",
           "showlegend": true,
           "type": "scattergeo"
          },
          {
           "geo": "geo",
           "hovertemplate": "<b>%{hovertext}</b><br><br>Search query compared to previous year =negative<br>Date =2019-11-24<br>Search query value =%{marker.size}<br>Country abbreviation =%{location}<extra></extra>",
           "hovertext": [
            "uk"
           ],
           "legendgroup": "negative",
           "locations": [
            "GBR"
           ],
           "marker": {
            "color": "#EF553B",
            "size": [
             2
            ],
            "sizemode": "area",
            "sizeref": 0.1425
           },
           "name": "negative",
           "showlegend": true,
           "type": "scattergeo"
          }
         ],
         "name": "2019-11-24"
        },
        {
         "data": [
          {
           "geo": "geo",
           "hovertemplate": "<b>%{hovertext}</b><br><br>Search query compared to previous year =positive<br>Date =2019-01-12<br>Search query value =%{marker.size}<br>Country abbreviation =%{location}<extra></extra>",
           "hovertext": [
            "nl",
            "ger"
           ],
           "legendgroup": "positive",
           "locations": [
            "NLD",
            "DEU"
           ],
           "marker": {
            "color": "#636efa",
            "size": [
             2,
             3
            ],
            "sizemode": "area",
            "sizeref": 0.1425
           },
           "name": "positive",
           "showlegend": true,
           "type": "scattergeo"
          },
          {
           "geo": "geo",
           "hovertemplate": "<b>%{hovertext}</b><br><br>Search query compared to previous year =negative<br>Date =2019-01-12<br>Search query value =%{marker.size}<br>Country abbreviation =%{location}<extra></extra>",
           "hovertext": [
            "uk"
           ],
           "legendgroup": "negative",
           "locations": [
            "GBR"
           ],
           "marker": {
            "color": "#EF553B",
            "size": [
             3
            ],
            "sizemode": "area",
            "sizeref": 0.1425
           },
           "name": "negative",
           "showlegend": true,
           "type": "scattergeo"
          }
         ],
         "name": "2019-01-12"
        },
        {
         "data": [
          {
           "geo": "geo",
           "hovertemplate": "<b>%{hovertext}</b><br><br>Search query compared to previous year =positive<br>Date =2019-08-12<br>Search query value =%{marker.size}<br>Country abbreviation =%{location}<extra></extra>",
           "hovertext": [
            "uk",
            "nl",
            "ger"
           ],
           "legendgroup": "positive",
           "locations": [
            "GBR",
            "NLD",
            "DEU"
           ],
           "marker": {
            "color": "#636efa",
            "size": [
             7,
             1,
             3
            ],
            "sizemode": "area",
            "sizeref": 0.1425
           },
           "name": "positive",
           "showlegend": true,
           "type": "scattergeo"
          }
         ],
         "name": "2019-08-12"
        },
        {
         "data": [
          {
           "geo": "geo",
           "hovertemplate": "<b>%{hovertext}</b><br><br>Search query compared to previous year =positive<br>Date =2019-12-15<br>Search query value =%{marker.size}<br>Country abbreviation =%{location}<extra></extra>",
           "hovertext": [
            "uk",
            "ger"
           ],
           "legendgroup": "positive",
           "locations": [
            "GBR",
            "DEU"
           ],
           "marker": {
            "color": "#636efa",
            "size": [
             6,
             6
            ],
            "sizemode": "area",
            "sizeref": 0.1425
           },
           "name": "positive",
           "showlegend": true,
           "type": "scattergeo"
          },
          {
           "geo": "geo",
           "hovertemplate": "<b>%{hovertext}</b><br><br>Search query compared to previous year =negative<br>Date =2019-12-15<br>Search query value =%{marker.size}<br>Country abbreviation =%{location}<extra></extra>",
           "hovertext": [
            "nl"
           ],
           "legendgroup": "negative",
           "locations": [
            "NLD"
           ],
           "marker": {
            "color": "#EF553B",
            "size": [
             4
            ],
            "sizemode": "area",
            "sizeref": 0.1425
           },
           "name": "negative",
           "showlegend": true,
           "type": "scattergeo"
          }
         ],
         "name": "2019-12-15"
        },
        {
         "data": [
          {
           "geo": "geo",
           "hovertemplate": "<b>%{hovertext}</b><br><br>Search query compared to previous year =positive<br>Date =2019-12-22<br>Search query value =%{marker.size}<br>Country abbreviation =%{location}<extra></extra>",
           "hovertext": [
            "uk",
            "nl",
            "ger"
           ],
           "legendgroup": "positive",
           "locations": [
            "GBR",
            "NLD",
            "DEU"
           ],
           "marker": {
            "color": "#636efa",
            "size": [
             3,
             3,
             7
            ],
            "sizemode": "area",
            "sizeref": 0.1425
           },
           "name": "positive",
           "showlegend": true,
           "type": "scattergeo"
          }
         ],
         "name": "2019-12-22"
        },
        {
         "data": [
          {
           "geo": "geo",
           "hovertemplate": "<b>%{hovertext}</b><br><br>Search query compared to previous year =positive<br>Date =2019-12-29<br>Search query value =%{marker.size}<br>Country abbreviation =%{location}<extra></extra>",
           "hovertext": [
            "uk",
            "nl",
            "ger"
           ],
           "legendgroup": "positive",
           "locations": [
            "GBR",
            "NLD",
            "DEU"
           ],
           "marker": {
            "color": "#636efa",
            "size": [
             6,
             0,
             15
            ],
            "sizemode": "area",
            "sizeref": 0.1425
           },
           "name": "positive",
           "showlegend": true,
           "type": "scattergeo"
          }
         ],
         "name": "2019-12-29"
        },
        {
         "data": [
          {
           "geo": "geo",
           "hovertemplate": "<b>%{hovertext}</b><br><br>Search query compared to previous year =positive<br>Date =2020-05-01<br>Search query value =%{marker.size}<br>Country abbreviation =%{location}<extra></extra>",
           "hovertext": [
            "uk",
            "nl",
            "ger"
           ],
           "legendgroup": "positive",
           "locations": [
            "GBR",
            "NLD",
            "DEU"
           ],
           "marker": {
            "color": "#636efa",
            "size": [
             0,
             1,
             10
            ],
            "sizemode": "area",
            "sizeref": 0.1425
           },
           "name": "positive",
           "showlegend": true,
           "type": "scattergeo"
          }
         ],
         "name": "2020-05-01"
        },
        {
         "data": [
          {
           "geo": "geo",
           "hovertemplate": "<b>%{hovertext}</b><br><br>Search query compared to previous year =positive<br>Date =2020-12-01<br>Search query value =%{marker.size}<br>Country abbreviation =%{location}<extra></extra>",
           "hovertext": [
            "uk",
            "nl",
            "ger"
           ],
           "legendgroup": "positive",
           "locations": [
            "GBR",
            "NLD",
            "DEU"
           ],
           "marker": {
            "color": "#636efa",
            "size": [
             3,
             10,
             9
            ],
            "sizemode": "area",
            "sizeref": 0.1425
           },
           "name": "positive",
           "showlegend": true,
           "type": "scattergeo"
          }
         ],
         "name": "2020-12-01"
        },
        {
         "data": [
          {
           "geo": "geo",
           "hovertemplate": "<b>%{hovertext}</b><br><br>Search query compared to previous year =positive<br>Date =2020-01-19<br>Search query value =%{marker.size}<br>Country abbreviation =%{location}<extra></extra>",
           "hovertext": [
            "uk",
            "nl",
            "ger"
           ],
           "legendgroup": "positive",
           "locations": [
            "GBR",
            "NLD",
            "DEU"
           ],
           "marker": {
            "color": "#636efa",
            "size": [
             2,
             7,
             11
            ],
            "sizemode": "area",
            "sizeref": 0.1425
           },
           "name": "positive",
           "showlegend": true,
           "type": "scattergeo"
          }
         ],
         "name": "2020-01-19"
        },
        {
         "data": [
          {
           "geo": "geo",
           "hovertemplate": "<b>%{hovertext}</b><br><br>Search query compared to previous year =positive<br>Date =2020-01-26<br>Search query value =%{marker.size}<br>Country abbreviation =%{location}<extra></extra>",
           "hovertext": [
            "uk",
            "nl",
            "ger"
           ],
           "legendgroup": "positive",
           "locations": [
            "GBR",
            "NLD",
            "DEU"
           ],
           "marker": {
            "color": "#636efa",
            "size": [
             5,
             4,
             9
            ],
            "sizemode": "area",
            "sizeref": 0.1425
           },
           "name": "positive",
           "showlegend": true,
           "type": "scattergeo"
          }
         ],
         "name": "2020-01-26"
        },
        {
         "data": [
          {
           "geo": "geo",
           "hovertemplate": "<b>%{hovertext}</b><br><br>Search query compared to previous year =positive<br>Date =2020-02-02<br>Search query value =%{marker.size}<br>Country abbreviation =%{location}<extra></extra>",
           "hovertext": [
            "ger"
           ],
           "legendgroup": "positive",
           "locations": [
            "DEU"
           ],
           "marker": {
            "color": "#636efa",
            "size": [
             2
            ],
            "sizemode": "area",
            "sizeref": 0.1425
           },
           "name": "positive",
           "showlegend": true,
           "type": "scattergeo"
          },
          {
           "geo": "geo",
           "hovertemplate": "<b>%{hovertext}</b><br><br>Search query compared to previous year =negative<br>Date =2020-02-02<br>Search query value =%{marker.size}<br>Country abbreviation =%{location}<extra></extra>",
           "hovertext": [
            "uk",
            "nl"
           ],
           "legendgroup": "negative",
           "locations": [
            "GBR",
            "NLD"
           ],
           "marker": {
            "color": "#EF553B",
            "size": [
             2,
             1
            ],
            "sizemode": "area",
            "sizeref": 0.1425
           },
           "name": "negative",
           "showlegend": true,
           "type": "scattergeo"
          }
         ],
         "name": "2020-02-02"
        },
        {
         "data": [
          {
           "geo": "geo",
           "hovertemplate": "<b>%{hovertext}</b><br><br>Search query compared to previous year =positive<br>Date =2020-09-02<br>Search query value =%{marker.size}<br>Country abbreviation =%{location}<extra></extra>",
           "hovertext": [
            "nl",
            "ger"
           ],
           "legendgroup": "positive",
           "locations": [
            "NLD",
            "DEU"
           ],
           "marker": {
            "color": "#636efa",
            "size": [
             3,
             3
            ],
            "sizemode": "area",
            "sizeref": 0.1425
           },
           "name": "positive",
           "showlegend": true,
           "type": "scattergeo"
          },
          {
           "geo": "geo",
           "hovertemplate": "<b>%{hovertext}</b><br><br>Search query compared to previous year =negative<br>Date =2020-09-02<br>Search query value =%{marker.size}<br>Country abbreviation =%{location}<extra></extra>",
           "hovertext": [
            "uk"
           ],
           "legendgroup": "negative",
           "locations": [
            "GBR"
           ],
           "marker": {
            "color": "#EF553B",
            "size": [
             1
            ],
            "sizemode": "area",
            "sizeref": 0.1425
           },
           "name": "negative",
           "showlegend": true,
           "type": "scattergeo"
          }
         ],
         "name": "2020-09-02"
        },
        {
         "data": [
          {
           "geo": "geo",
           "hovertemplate": "<b>%{hovertext}</b><br><br>Search query compared to previous year =positive<br>Date =2020-02-16<br>Search query value =%{marker.size}<br>Country abbreviation =%{location}<extra></extra>",
           "hovertext": [
            "uk",
            "nl",
            "ger"
           ],
           "legendgroup": "positive",
           "locations": [
            "GBR",
            "NLD",
            "DEU"
           ],
           "marker": {
            "color": "#636efa",
            "size": [
             0,
             1,
             5
            ],
            "sizemode": "area",
            "sizeref": 0.1425
           },
           "name": "positive",
           "showlegend": true,
           "type": "scattergeo"
          }
         ],
         "name": "2020-02-16"
        },
        {
         "data": [
          {
           "geo": "geo",
           "hovertemplate": "<b>%{hovertext}</b><br><br>Search query compared to previous year =positive<br>Date =2020-02-23<br>Search query value =%{marker.size}<br>Country abbreviation =%{location}<extra></extra>",
           "hovertext": [
            "nl"
           ],
           "legendgroup": "positive",
           "locations": [
            "NLD"
           ],
           "marker": {
            "color": "#636efa",
            "size": [
             8
            ],
            "sizemode": "area",
            "sizeref": 0.1425
           },
           "name": "positive",
           "showlegend": true,
           "type": "scattergeo"
          },
          {
           "geo": "geo",
           "hovertemplate": "<b>%{hovertext}</b><br><br>Search query compared to previous year =negative<br>Date =2020-02-23<br>Search query value =%{marker.size}<br>Country abbreviation =%{location}<extra></extra>",
           "hovertext": [
            "uk",
            "ger"
           ],
           "legendgroup": "negative",
           "locations": [
            "GBR",
            "DEU"
           ],
           "marker": {
            "color": "#EF553B",
            "size": [
             1,
             2
            ],
            "sizemode": "area",
            "sizeref": 0.1425
           },
           "name": "negative",
           "showlegend": true,
           "type": "scattergeo"
          }
         ],
         "name": "2020-02-23"
        },
        {
         "data": [
          {
           "geo": "geo",
           "hovertemplate": "<b>%{hovertext}</b><br><br>Search query compared to previous year =negative<br>Date =2020-01-03<br>Search query value =%{marker.size}<br>Country abbreviation =%{location}<extra></extra>",
           "hovertext": [
            "uk",
            "nl",
            "ger"
           ],
           "legendgroup": "negative",
           "locations": [
            "GBR",
            "NLD",
            "DEU"
           ],
           "marker": {
            "color": "#EF553B",
            "size": [
             3,
             3,
             7
            ],
            "sizemode": "area",
            "sizeref": 0.1425
           },
           "name": "negative",
           "showlegend": true,
           "type": "scattergeo"
          }
         ],
         "name": "2020-01-03"
        },
        {
         "data": [
          {
           "geo": "geo",
           "hovertemplate": "<b>%{hovertext}</b><br><br>Search query compared to previous year =negative<br>Date =2020-08-03<br>Search query value =%{marker.size}<br>Country abbreviation =%{location}<extra></extra>",
           "hovertext": [
            "uk",
            "nl",
            "ger"
           ],
           "legendgroup": "negative",
           "locations": [
            "GBR",
            "NLD",
            "DEU"
           ],
           "marker": {
            "color": "#EF553B",
            "size": [
             17,
             13,
             19
            ],
            "sizemode": "area",
            "sizeref": 0.1425
           },
           "name": "negative",
           "showlegend": true,
           "type": "scattergeo"
          }
         ],
         "name": "2020-08-03"
        },
        {
         "data": [
          {
           "geo": "geo",
           "hovertemplate": "<b>%{hovertext}</b><br><br>Search query compared to previous year =negative<br>Date =2020-03-15<br>Search query value =%{marker.size}<br>Country abbreviation =%{location}<extra></extra>",
           "hovertext": [
            "uk",
            "nl",
            "ger"
           ],
           "legendgroup": "negative",
           "locations": [
            "GBR",
            "NLD",
            "DEU"
           ],
           "marker": {
            "color": "#EF553B",
            "size": [
             35,
             36,
             37
            ],
            "sizemode": "area",
            "sizeref": 0.1425
           },
           "name": "negative",
           "showlegend": true,
           "type": "scattergeo"
          }
         ],
         "name": "2020-03-15"
        },
        {
         "data": [
          {
           "geo": "geo",
           "hovertemplate": "<b>%{hovertext}</b><br><br>Search query compared to previous year =negative<br>Date =2020-03-22<br>Search query value =%{marker.size}<br>Country abbreviation =%{location}<extra></extra>",
           "hovertext": [
            "uk",
            "nl",
            "ger"
           ],
           "legendgroup": "negative",
           "locations": [
            "GBR",
            "NLD",
            "DEU"
           ],
           "marker": {
            "color": "#EF553B",
            "size": [
             47,
             43,
             51
            ],
            "sizemode": "area",
            "sizeref": 0.1425
           },
           "name": "negative",
           "showlegend": true,
           "type": "scattergeo"
          }
         ],
         "name": "2020-03-22"
        },
        {
         "data": [
          {
           "geo": "geo",
           "hovertemplate": "<b>%{hovertext}</b><br><br>Search query compared to previous year =negative<br>Date =2020-03-29<br>Search query value =%{marker.size}<br>Country abbreviation =%{location}<extra></extra>",
           "hovertext": [
            "uk",
            "nl",
            "ger"
           ],
           "legendgroup": "negative",
           "locations": [
            "GBR",
            "NLD",
            "DEU"
           ],
           "marker": {
            "color": "#EF553B",
            "size": [
             43,
             40,
             45
            ],
            "sizemode": "area",
            "sizeref": 0.1425
           },
           "name": "negative",
           "showlegend": true,
           "type": "scattergeo"
          }
         ],
         "name": "2020-03-29"
        },
        {
         "data": [
          {
           "geo": "geo",
           "hovertemplate": "<b>%{hovertext}</b><br><br>Search query compared to previous year =negative<br>Date =2020-05-04<br>Search query value =%{marker.size}<br>Country abbreviation =%{location}<extra></extra>",
           "hovertext": [
            "uk",
            "nl",
            "ger"
           ],
           "legendgroup": "negative",
           "locations": [
            "GBR",
            "NLD",
            "DEU"
           ],
           "marker": {
            "color": "#EF553B",
            "size": [
             44,
             45,
             46
            ],
            "sizemode": "area",
            "sizeref": 0.1425
           },
           "name": "negative",
           "showlegend": true,
           "type": "scattergeo"
          }
         ],
         "name": "2020-05-04"
        },
        {
         "data": [
          {
           "geo": "geo",
           "hovertemplate": "<b>%{hovertext}</b><br><br>Search query compared to previous year =negative<br>Date =2020-12-04<br>Search query value =%{marker.size}<br>Country abbreviation =%{location}<extra></extra>",
           "hovertext": [
            "uk",
            "nl",
            "ger"
           ],
           "legendgroup": "negative",
           "locations": [
            "GBR",
            "NLD",
            "DEU"
           ],
           "marker": {
            "color": "#EF553B",
            "size": [
             42,
             42,
             57
            ],
            "sizemode": "area",
            "sizeref": 0.1425
           },
           "name": "negative",
           "showlegend": true,
           "type": "scattergeo"
          }
         ],
         "name": "2020-12-04"
        },
        {
         "data": [
          {
           "geo": "geo",
           "hovertemplate": "<b>%{hovertext}</b><br><br>Search query compared to previous year =negative<br>Date =2020-04-19<br>Search query value =%{marker.size}<br>Country abbreviation =%{location}<extra></extra>",
           "hovertext": [
            "uk",
            "nl",
            "ger"
           ],
           "legendgroup": "negative",
           "locations": [
            "GBR",
            "NLD",
            "DEU"
           ],
           "marker": {
            "color": "#EF553B",
            "size": [
             38,
             44,
             50
            ],
            "sizemode": "area",
            "sizeref": 0.1425
           },
           "name": "negative",
           "showlegend": true,
           "type": "scattergeo"
          }
         ],
         "name": "2020-04-19"
        },
        {
         "data": [
          {
           "geo": "geo",
           "hovertemplate": "<b>%{hovertext}</b><br><br>Search query compared to previous year =negative<br>Date =2020-04-26<br>Search query value =%{marker.size}<br>Country abbreviation =%{location}<extra></extra>",
           "hovertext": [
            "uk",
            "nl",
            "ger"
           ],
           "legendgroup": "negative",
           "locations": [
            "GBR",
            "NLD",
            "DEU"
           ],
           "marker": {
            "color": "#EF553B",
            "size": [
             38,
             48,
             45
            ],
            "sizemode": "area",
            "sizeref": 0.1425
           },
           "name": "negative",
           "showlegend": true,
           "type": "scattergeo"
          }
         ],
         "name": "2020-04-26"
        },
        {
         "data": [
          {
           "geo": "geo",
           "hovertemplate": "<b>%{hovertext}</b><br><br>Search query compared to previous year =negative<br>Date =2020-03-05<br>Search query value =%{marker.size}<br>Country abbreviation =%{location}<extra></extra>",
           "hovertext": [
            "uk",
            "nl",
            "ger"
           ],
           "legendgroup": "negative",
           "locations": [
            "GBR",
            "NLD",
            "DEU"
           ],
           "marker": {
            "color": "#EF553B",
            "size": [
             38,
             35,
             41
            ],
            "sizemode": "area",
            "sizeref": 0.1425
           },
           "name": "negative",
           "showlegend": true,
           "type": "scattergeo"
          }
         ],
         "name": "2020-03-05"
        },
        {
         "data": [
          {
           "geo": "geo",
           "hovertemplate": "<b>%{hovertext}</b><br><br>Search query compared to previous year =negative<br>Date =2020-10-05<br>Search query value =%{marker.size}<br>Country abbreviation =%{location}<extra></extra>",
           "hovertext": [
            "uk",
            "nl",
            "ger"
           ],
           "legendgroup": "negative",
           "locations": [
            "GBR",
            "NLD",
            "DEU"
           ],
           "marker": {
            "color": "#EF553B",
            "size": [
             39,
             37,
             25
            ],
            "sizemode": "area",
            "sizeref": 0.1425
           },
           "name": "negative",
           "showlegend": true,
           "type": "scattergeo"
          }
         ],
         "name": "2020-10-05"
        },
        {
         "data": [
          {
           "geo": "geo",
           "hovertemplate": "<b>%{hovertext}</b><br><br>Search query compared to previous year =negative<br>Date =2020-05-17<br>Search query value =%{marker.size}<br>Country abbreviation =%{location}<extra></extra>",
           "hovertext": [
            "uk",
            "nl",
            "ger"
           ],
           "legendgroup": "negative",
           "locations": [
            "GBR",
            "NLD",
            "DEU"
           ],
           "marker": {
            "color": "#EF553B",
            "size": [
             40,
             30,
             7
            ],
            "sizemode": "area",
            "sizeref": 0.1425
           },
           "name": "negative",
           "showlegend": true,
           "type": "scattergeo"
          }
         ],
         "name": "2020-05-17"
        },
        {
         "data": [
          {
           "geo": "geo",
           "hovertemplate": "<b>%{hovertext}</b><br><br>Search query compared to previous year =negative<br>Date =2020-05-24<br>Search query value =%{marker.size}<br>Country abbreviation =%{location}<extra></extra>",
           "hovertext": [
            "uk",
            "nl",
            "ger"
           ],
           "legendgroup": "negative",
           "locations": [
            "GBR",
            "NLD",
            "DEU"
           ],
           "marker": {
            "color": "#EF553B",
            "size": [
             43,
             38,
             17
            ],
            "sizemode": "area",
            "sizeref": 0.1425
           },
           "name": "negative",
           "showlegend": true,
           "type": "scattergeo"
          }
         ],
         "name": "2020-05-24"
        },
        {
         "data": [
          {
           "geo": "geo",
           "hovertemplate": "<b>%{hovertext}</b><br><br>Search query compared to previous year =negative<br>Date =2020-05-31<br>Search query value =%{marker.size}<br>Country abbreviation =%{location}<extra></extra>",
           "hovertext": [
            "uk",
            "nl",
            "ger"
           ],
           "legendgroup": "negative",
           "locations": [
            "GBR",
            "NLD",
            "DEU"
           ],
           "marker": {
            "color": "#EF553B",
            "size": [
             37,
             9,
             1
            ],
            "sizemode": "area",
            "sizeref": 0.1425
           },
           "name": "negative",
           "showlegend": true,
           "type": "scattergeo"
          }
         ],
         "name": "2020-05-31"
        },
        {
         "data": [
          {
           "geo": "geo",
           "hovertemplate": "<b>%{hovertext}</b><br><br>Search query compared to previous year =negative<br>Date =2020-07-06<br>Search query value =%{marker.size}<br>Country abbreviation =%{location}<extra></extra>",
           "hovertext": [
            "uk",
            "nl",
            "ger"
           ],
           "legendgroup": "negative",
           "locations": [
            "GBR",
            "NLD",
            "DEU"
           ],
           "marker": {
            "color": "#EF553B",
            "size": [
             41,
             8,
             3
            ],
            "sizemode": "area",
            "sizeref": 0.1425
           },
           "name": "negative",
           "showlegend": true,
           "type": "scattergeo"
          }
         ],
         "name": "2020-07-06"
        },
        {
         "data": [
          {
           "geo": "geo",
           "hovertemplate": "<b>%{hovertext}</b><br><br>Search query compared to previous year =positive<br>Date =2020-06-14<br>Search query value =%{marker.size}<br>Country abbreviation =%{location}<extra></extra>",
           "hovertext": [
            "nl"
           ],
           "legendgroup": "positive",
           "locations": [
            "NLD"
           ],
           "marker": {
            "color": "#636efa",
            "size": [
             0
            ],
            "sizemode": "area",
            "sizeref": 0.1425
           },
           "name": "positive",
           "showlegend": true,
           "type": "scattergeo"
          },
          {
           "geo": "geo",
           "hovertemplate": "<b>%{hovertext}</b><br><br>Search query compared to previous year =negative<br>Date =2020-06-14<br>Search query value =%{marker.size}<br>Country abbreviation =%{location}<extra></extra>",
           "hovertext": [
            "uk",
            "ger"
           ],
           "legendgroup": "negative",
           "locations": [
            "GBR",
            "DEU"
           ],
           "marker": {
            "color": "#EF553B",
            "size": [
             38,
             8
            ],
            "sizemode": "area",
            "sizeref": 0.1425
           },
           "name": "negative",
           "showlegend": true,
           "type": "scattergeo"
          }
         ],
         "name": "2020-06-14"
        },
        {
         "data": [
          {
           "geo": "geo",
           "hovertemplate": "<b>%{hovertext}</b><br><br>Search query compared to previous year =positive<br>Date =2020-06-21<br>Search query value =%{marker.size}<br>Country abbreviation =%{location}<extra></extra>",
           "hovertext": [
            "nl",
            "ger"
           ],
           "legendgroup": "positive",
           "locations": [
            "NLD",
            "DEU"
           ],
           "marker": {
            "color": "#636efa",
            "size": [
             8,
             5
            ],
            "sizemode": "area",
            "sizeref": 0.1425
           },
           "name": "positive",
           "showlegend": true,
           "type": "scattergeo"
          },
          {
           "geo": "geo",
           "hovertemplate": "<b>%{hovertext}</b><br><br>Search query compared to previous year =negative<br>Date =2020-06-21<br>Search query value =%{marker.size}<br>Country abbreviation =%{location}<extra></extra>",
           "hovertext": [
            "uk"
           ],
           "legendgroup": "negative",
           "locations": [
            "GBR"
           ],
           "marker": {
            "color": "#EF553B",
            "size": [
             31
            ],
            "sizemode": "area",
            "sizeref": 0.1425
           },
           "name": "negative",
           "showlegend": true,
           "type": "scattergeo"
          }
         ],
         "name": "2020-06-21"
        },
        {
         "data": [
          {
           "geo": "geo",
           "hovertemplate": "<b>%{hovertext}</b><br><br>Search query compared to previous year =positive<br>Date =2020-06-28<br>Search query value =%{marker.size}<br>Country abbreviation =%{location}<extra></extra>",
           "hovertext": [
            "nl",
            "ger"
           ],
           "legendgroup": "positive",
           "locations": [
            "NLD",
            "DEU"
           ],
           "marker": {
            "color": "#636efa",
            "size": [
             7,
             6
            ],
            "sizemode": "area",
            "sizeref": 0.1425
           },
           "name": "positive",
           "showlegend": true,
           "type": "scattergeo"
          },
          {
           "geo": "geo",
           "hovertemplate": "<b>%{hovertext}</b><br><br>Search query compared to previous year =negative<br>Date =2020-06-28<br>Search query value =%{marker.size}<br>Country abbreviation =%{location}<extra></extra>",
           "hovertext": [
            "uk"
           ],
           "legendgroup": "negative",
           "locations": [
            "GBR"
           ],
           "marker": {
            "color": "#EF553B",
            "size": [
             23
            ],
            "sizemode": "area",
            "sizeref": 0.1425
           },
           "name": "negative",
           "showlegend": true,
           "type": "scattergeo"
          }
         ],
         "name": "2020-06-28"
        },
        {
         "data": [
          {
           "geo": "geo",
           "hovertemplate": "<b>%{hovertext}</b><br><br>Search query compared to previous year =positive<br>Date =2020-05-07<br>Search query value =%{marker.size}<br>Country abbreviation =%{location}<extra></extra>",
           "hovertext": [
            "nl",
            "ger"
           ],
           "legendgroup": "positive",
           "locations": [
            "NLD",
            "DEU"
           ],
           "marker": {
            "color": "#636efa",
            "size": [
             13,
             8
            ],
            "sizemode": "area",
            "sizeref": 0.1425
           },
           "name": "positive",
           "showlegend": true,
           "type": "scattergeo"
          },
          {
           "geo": "geo",
           "hovertemplate": "<b>%{hovertext}</b><br><br>Search query compared to previous year =negative<br>Date =2020-05-07<br>Search query value =%{marker.size}<br>Country abbreviation =%{location}<extra></extra>",
           "hovertext": [
            "uk"
           ],
           "legendgroup": "negative",
           "locations": [
            "GBR"
           ],
           "marker": {
            "color": "#EF553B",
            "size": [
             14
            ],
            "sizemode": "area",
            "sizeref": 0.1425
           },
           "name": "negative",
           "showlegend": true,
           "type": "scattergeo"
          }
         ],
         "name": "2020-05-07"
        },
        {
         "data": [
          {
           "geo": "geo",
           "hovertemplate": "<b>%{hovertext}</b><br><br>Search query compared to previous year =positive<br>Date =2020-12-07<br>Search query value =%{marker.size}<br>Country abbreviation =%{location}<extra></extra>",
           "hovertext": [
            "nl",
            "ger"
           ],
           "legendgroup": "positive",
           "locations": [
            "NLD",
            "DEU"
           ],
           "marker": {
            "color": "#636efa",
            "size": [
             13,
             10
            ],
            "sizemode": "area",
            "sizeref": 0.1425
           },
           "name": "positive",
           "showlegend": true,
           "type": "scattergeo"
          },
          {
           "geo": "geo",
           "hovertemplate": "<b>%{hovertext}</b><br><br>Search query compared to previous year =negative<br>Date =2020-12-07<br>Search query value =%{marker.size}<br>Country abbreviation =%{location}<extra></extra>",
           "hovertext": [
            "uk"
           ],
           "legendgroup": "negative",
           "locations": [
            "GBR"
           ],
           "marker": {
            "color": "#EF553B",
            "size": [
             9
            ],
            "sizemode": "area",
            "sizeref": 0.1425
           },
           "name": "negative",
           "showlegend": true,
           "type": "scattergeo"
          }
         ],
         "name": "2020-12-07"
        },
        {
         "data": [
          {
           "geo": "geo",
           "hovertemplate": "<b>%{hovertext}</b><br><br>Search query compared to previous year =positive<br>Date =2020-07-19<br>Search query value =%{marker.size}<br>Country abbreviation =%{location}<extra></extra>",
           "hovertext": [
            "nl",
            "ger"
           ],
           "legendgroup": "positive",
           "locations": [
            "NLD",
            "DEU"
           ],
           "marker": {
            "color": "#636efa",
            "size": [
             20,
             16
            ],
            "sizemode": "area",
            "sizeref": 0.1425
           },
           "name": "positive",
           "showlegend": true,
           "type": "scattergeo"
          },
          {
           "geo": "geo",
           "hovertemplate": "<b>%{hovertext}</b><br><br>Search query compared to previous year =negative<br>Date =2020-07-19<br>Search query value =%{marker.size}<br>Country abbreviation =%{location}<extra></extra>",
           "hovertext": [
            "uk"
           ],
           "legendgroup": "negative",
           "locations": [
            "GBR"
           ],
           "marker": {
            "color": "#EF553B",
            "size": [
             3
            ],
            "sizemode": "area",
            "sizeref": 0.1425
           },
           "name": "negative",
           "showlegend": true,
           "type": "scattergeo"
          }
         ],
         "name": "2020-07-19"
        },
        {
         "data": [
          {
           "geo": "geo",
           "hovertemplate": "<b>%{hovertext}</b><br><br>Search query compared to previous year =positive<br>Date =2020-07-26<br>Search query value =%{marker.size}<br>Country abbreviation =%{location}<extra></extra>",
           "hovertext": [
            "nl",
            "ger"
           ],
           "legendgroup": "positive",
           "locations": [
            "NLD",
            "DEU"
           ],
           "marker": {
            "color": "#636efa",
            "size": [
             12,
             10
            ],
            "sizemode": "area",
            "sizeref": 0.1425
           },
           "name": "positive",
           "showlegend": true,
           "type": "scattergeo"
          },
          {
           "geo": "geo",
           "hovertemplate": "<b>%{hovertext}</b><br><br>Search query compared to previous year =negative<br>Date =2020-07-26<br>Search query value =%{marker.size}<br>Country abbreviation =%{location}<extra></extra>",
           "hovertext": [
            "uk"
           ],
           "legendgroup": "negative",
           "locations": [
            "GBR"
           ],
           "marker": {
            "color": "#EF553B",
            "size": [
             4
            ],
            "sizemode": "area",
            "sizeref": 0.1425
           },
           "name": "negative",
           "showlegend": true,
           "type": "scattergeo"
          }
         ],
         "name": "2020-07-26"
        },
        {
         "data": [
          {
           "geo": "geo",
           "hovertemplate": "<b>%{hovertext}</b><br><br>Search query compared to previous year =positive<br>Date =2020-02-08<br>Search query value =%{marker.size}<br>Country abbreviation =%{location}<extra></extra>",
           "hovertext": [
            "uk",
            "nl",
            "ger"
           ],
           "legendgroup": "positive",
           "locations": [
            "GBR",
            "NLD",
            "DEU"
           ],
           "marker": {
            "color": "#636efa",
            "size": [
             13,
             8,
             6
            ],
            "sizemode": "area",
            "sizeref": 0.1425
           },
           "name": "positive",
           "showlegend": true,
           "type": "scattergeo"
          }
         ],
         "name": "2020-02-08"
        },
        {
         "data": [
          {
           "geo": "geo",
           "hovertemplate": "<b>%{hovertext}</b><br><br>Search query compared to previous year =positive<br>Date =2020-09-08<br>Search query value =%{marker.size}<br>Country abbreviation =%{location}<extra></extra>",
           "hovertext": [
            "uk",
            "nl",
            "ger"
           ],
           "legendgroup": "positive",
           "locations": [
            "GBR",
            "NLD",
            "DEU"
           ],
           "marker": {
            "color": "#636efa",
            "size": [
             16,
             4,
             8
            ],
            "sizemode": "area",
            "sizeref": 0.1425
           },
           "name": "positive",
           "showlegend": true,
           "type": "scattergeo"
          }
         ],
         "name": "2020-09-08"
        },
        {
         "data": [
          {
           "geo": "geo",
           "hovertemplate": "<b>%{hovertext}</b><br><br>Search query compared to previous year =positive<br>Date =2020-08-16<br>Search query value =%{marker.size}<br>Country abbreviation =%{location}<extra></extra>",
           "hovertext": [
            "uk",
            "nl",
            "ger"
           ],
           "legendgroup": "positive",
           "locations": [
            "GBR",
            "NLD",
            "DEU"
           ],
           "marker": {
            "color": "#636efa",
            "size": [
             25,
             16,
             17
            ],
            "sizemode": "area",
            "sizeref": 0.1425
           },
           "name": "positive",
           "showlegend": true,
           "type": "scattergeo"
          }
         ],
         "name": "2020-08-16"
        },
        {
         "data": [
          {
           "geo": "geo",
           "hovertemplate": "<b>%{hovertext}</b><br><br>Search query compared to previous year =positive<br>Date =2020-08-23<br>Search query value =%{marker.size}<br>Country abbreviation =%{location}<extra></extra>",
           "hovertext": [
            "uk",
            "nl",
            "ger"
           ],
           "legendgroup": "positive",
           "locations": [
            "GBR",
            "NLD",
            "DEU"
           ],
           "marker": {
            "color": "#636efa",
            "size": [
             26,
             13,
             19
            ],
            "sizemode": "area",
            "sizeref": 0.1425
           },
           "name": "positive",
           "showlegend": true,
           "type": "scattergeo"
          }
         ],
         "name": "2020-08-23"
        },
        {
         "data": [
          {
           "geo": "geo",
           "hovertemplate": "<b>%{hovertext}</b><br><br>Search query compared to previous year =positive<br>Date =2020-08-30<br>Search query value =%{marker.size}<br>Country abbreviation =%{location}<extra></extra>",
           "hovertext": [
            "uk",
            "nl",
            "ger"
           ],
           "legendgroup": "positive",
           "locations": [
            "GBR",
            "NLD",
            "DEU"
           ],
           "marker": {
            "color": "#636efa",
            "size": [
             17,
             15,
             11
            ],
            "sizemode": "area",
            "sizeref": 0.1425
           },
           "name": "positive",
           "showlegend": true,
           "type": "scattergeo"
          }
         ],
         "name": "2020-08-30"
        },
        {
         "data": [
          {
           "geo": "geo",
           "hovertemplate": "<b>%{hovertext}</b><br><br>Search query compared to previous year =positive<br>Date =2020-06-09<br>Search query value =%{marker.size}<br>Country abbreviation =%{location}<extra></extra>",
           "hovertext": [
            "uk",
            "nl",
            "ger"
           ],
           "legendgroup": "positive",
           "locations": [
            "GBR",
            "NLD",
            "DEU"
           ],
           "marker": {
            "color": "#636efa",
            "size": [
             1,
             20,
             16
            ],
            "sizemode": "area",
            "sizeref": 0.1425
           },
           "name": "positive",
           "showlegend": true,
           "type": "scattergeo"
          }
         ],
         "name": "2020-06-09"
        },
        {
         "data": [
          {
           "geo": "geo",
           "hovertemplate": "<b>%{hovertext}</b><br><br>Search query compared to previous year =positive<br>Date =2020-09-13<br>Search query value =%{marker.size}<br>Country abbreviation =%{location}<extra></extra>",
           "hovertext": [
            "nl",
            "ger"
           ],
           "legendgroup": "positive",
           "locations": [
            "NLD",
            "DEU"
           ],
           "marker": {
            "color": "#636efa",
            "size": [
             13,
             11
            ],
            "sizemode": "area",
            "sizeref": 0.1425
           },
           "name": "positive",
           "showlegend": true,
           "type": "scattergeo"
          },
          {
           "geo": "geo",
           "hovertemplate": "<b>%{hovertext}</b><br><br>Search query compared to previous year =negative<br>Date =2020-09-13<br>Search query value =%{marker.size}<br>Country abbreviation =%{location}<extra></extra>",
           "hovertext": [
            "uk"
           ],
           "legendgroup": "negative",
           "locations": [
            "GBR"
           ],
           "marker": {
            "color": "#EF553B",
            "size": [
             3
            ],
            "sizemode": "area",
            "sizeref": 0.1425
           },
           "name": "negative",
           "showlegend": true,
           "type": "scattergeo"
          }
         ],
         "name": "2020-09-13"
        },
        {
         "data": [
          {
           "geo": "geo",
           "hovertemplate": "<b>%{hovertext}</b><br><br>Search query compared to previous year =positive<br>Date =2020-09-20<br>Search query value =%{marker.size}<br>Country abbreviation =%{location}<extra></extra>",
           "hovertext": [
            "nl",
            "ger"
           ],
           "legendgroup": "positive",
           "locations": [
            "NLD",
            "DEU"
           ],
           "marker": {
            "color": "#636efa",
            "size": [
             8,
             11
            ],
            "sizemode": "area",
            "sizeref": 0.1425
           },
           "name": "positive",
           "showlegend": true,
           "type": "scattergeo"
          },
          {
           "geo": "geo",
           "hovertemplate": "<b>%{hovertext}</b><br><br>Search query compared to previous year =negative<br>Date =2020-09-20<br>Search query value =%{marker.size}<br>Country abbreviation =%{location}<extra></extra>",
           "hovertext": [
            "uk"
           ],
           "legendgroup": "negative",
           "locations": [
            "GBR"
           ],
           "marker": {
            "color": "#EF553B",
            "size": [
             5
            ],
            "sizemode": "area",
            "sizeref": 0.1425
           },
           "name": "negative",
           "showlegend": true,
           "type": "scattergeo"
          }
         ],
         "name": "2020-09-20"
        },
        {
         "data": [
          {
           "geo": "geo",
           "hovertemplate": "<b>%{hovertext}</b><br><br>Search query compared to previous year =positive<br>Date =2020-09-27<br>Search query value =%{marker.size}<br>Country abbreviation =%{location}<extra></extra>",
           "hovertext": [
            "nl"
           ],
           "legendgroup": "positive",
           "locations": [
            "NLD"
           ],
           "marker": {
            "color": "#636efa",
            "size": [
             0
            ],
            "sizemode": "area",
            "sizeref": 0.1425
           },
           "name": "positive",
           "showlegend": true,
           "type": "scattergeo"
          },
          {
           "geo": "geo",
           "hovertemplate": "<b>%{hovertext}</b><br><br>Search query compared to previous year =negative<br>Date =2020-09-27<br>Search query value =%{marker.size}<br>Country abbreviation =%{location}<extra></extra>",
           "hovertext": [
            "uk",
            "ger"
           ],
           "legendgroup": "negative",
           "locations": [
            "GBR",
            "DEU"
           ],
           "marker": {
            "color": "#EF553B",
            "size": [
             7,
             5
            ],
            "sizemode": "area",
            "sizeref": 0.1425
           },
           "name": "negative",
           "showlegend": true,
           "type": "scattergeo"
          }
         ],
         "name": "2020-09-27"
        },
        {
         "data": [
          {
           "geo": "geo",
           "hovertemplate": "<b>%{hovertext}</b><br><br>Search query compared to previous year =positive<br>Date =2020-04-10<br>Search query value =%{marker.size}<br>Country abbreviation =%{location}<extra></extra>",
           "hovertext": [
            "ger"
           ],
           "legendgroup": "positive",
           "locations": [
            "DEU"
           ],
           "marker": {
            "color": "#636efa",
            "size": [
             2
            ],
            "sizemode": "area",
            "sizeref": 0.1425
           },
           "name": "positive",
           "showlegend": true,
           "type": "scattergeo"
          },
          {
           "geo": "geo",
           "hovertemplate": "<b>%{hovertext}</b><br><br>Search query compared to previous year =negative<br>Date =2020-04-10<br>Search query value =%{marker.size}<br>Country abbreviation =%{location}<extra></extra>",
           "hovertext": [
            "uk",
            "nl"
           ],
           "legendgroup": "negative",
           "locations": [
            "GBR",
            "NLD"
           ],
           "marker": {
            "color": "#EF553B",
            "size": [
             11,
             11
            ],
            "sizemode": "area",
            "sizeref": 0.1425
           },
           "name": "negative",
           "showlegend": true,
           "type": "scattergeo"
          }
         ],
         "name": "2020-04-10"
        },
        {
         "data": [
          {
           "geo": "geo",
           "hovertemplate": "<b>%{hovertext}</b><br><br>Search query compared to previous year =negative<br>Date =2020-11-10<br>Search query value =%{marker.size}<br>Country abbreviation =%{location}<extra></extra>",
           "hovertext": [
            "uk",
            "nl",
            "ger"
           ],
           "legendgroup": "negative",
           "locations": [
            "GBR",
            "NLD",
            "DEU"
           ],
           "marker": {
            "color": "#EF553B",
            "size": [
             13,
             27,
             6
            ],
            "sizemode": "area",
            "sizeref": 0.1425
           },
           "name": "negative",
           "showlegend": true,
           "type": "scattergeo"
          }
         ],
         "name": "2020-11-10"
        },
        {
         "data": [
          {
           "geo": "geo",
           "hovertemplate": "<b>%{hovertext}</b><br><br>Search query compared to previous year =negative<br>Date =2020-10-18<br>Search query value =%{marker.size}<br>Country abbreviation =%{location}<extra></extra>",
           "hovertext": [
            "uk",
            "nl",
            "ger"
           ],
           "legendgroup": "negative",
           "locations": [
            "GBR",
            "NLD",
            "DEU"
           ],
           "marker": {
            "color": "#EF553B",
            "size": [
             17,
             48,
             14
            ],
            "sizemode": "area",
            "sizeref": 0.1425
           },
           "name": "negative",
           "showlegend": true,
           "type": "scattergeo"
          }
         ],
         "name": "2020-10-18"
        },
        {
         "data": [
          {
           "geo": "geo",
           "hovertemplate": "<b>%{hovertext}</b><br><br>Search query compared to previous year =negative<br>Date =2020-10-25<br>Search query value =%{marker.size}<br>Country abbreviation =%{location}<extra></extra>",
           "hovertext": [
            "uk",
            "nl",
            "ger"
           ],
           "legendgroup": "negative",
           "locations": [
            "GBR",
            "NLD",
            "DEU"
           ],
           "marker": {
            "color": "#EF553B",
            "size": [
             14,
             43,
             23
            ],
            "sizemode": "area",
            "sizeref": 0.1425
           },
           "name": "negative",
           "showlegend": true,
           "type": "scattergeo"
          }
         ],
         "name": "2020-10-25"
        },
        {
         "data": [
          {
           "geo": "geo",
           "hovertemplate": "<b>%{hovertext}</b><br><br>Search query compared to previous year =negative<br>Date =2020-01-11<br>Search query value =%{marker.size}<br>Country abbreviation =%{location}<extra></extra>",
           "hovertext": [
            "uk",
            "nl",
            "ger"
           ],
           "legendgroup": "negative",
           "locations": [
            "GBR",
            "NLD",
            "DEU"
           ],
           "marker": {
            "color": "#EF553B",
            "size": [
             29,
             50,
             50
            ],
            "sizemode": "area",
            "sizeref": 0.1425
           },
           "name": "negative",
           "showlegend": true,
           "type": "scattergeo"
          }
         ],
         "name": "2020-01-11"
        }
       ],
       "layout": {
        "geo": {
         "center": {
          "lat": 52.370216,
          "lon": 4.895168
         },
         "domain": {
          "x": [
           0,
           1
          ],
          "y": [
           0,
           1
          ]
         },
         "oceancolor": "#ffffff",
         "projection": {
          "scale": 4,
          "type": "conic conformal"
         },
         "scope": "europe",
         "showland": false,
         "showocean": true
        },
        "legend": {
         "itemsizing": "constant",
         "title": {
          "text": "Search query compared to previous year "
         },
         "tracegroupgap": 0
        },
        "margin": {
         "t": 60
        },
        "sliders": [
         {
          "active": 0,
          "currentvalue": {
           "prefix": "Date ="
          },
          "len": 0.9,
          "pad": {
           "b": 10,
           "t": 60
          },
          "steps": [
           {
            "args": [
             [
              "2019-03-11"
             ],
             {
              "frame": {
               "duration": 0,
               "redraw": true
              },
              "fromcurrent": true,
              "mode": "immediate",
              "transition": {
               "duration": 0,
               "easing": "linear"
              }
             }
            ],
            "label": "2019-03-11",
            "method": "animate"
           },
           {
            "args": [
             [
              "2019-10-11"
             ],
             {
              "frame": {
               "duration": 0,
               "redraw": true
              },
              "fromcurrent": true,
              "mode": "immediate",
              "transition": {
               "duration": 0,
               "easing": "linear"
              }
             }
            ],
            "label": "2019-10-11",
            "method": "animate"
           },
           {
            "args": [
             [
              "2019-11-17"
             ],
             {
              "frame": {
               "duration": 0,
               "redraw": true
              },
              "fromcurrent": true,
              "mode": "immediate",
              "transition": {
               "duration": 0,
               "easing": "linear"
              }
             }
            ],
            "label": "2019-11-17",
            "method": "animate"
           },
           {
            "args": [
             [
              "2019-11-24"
             ],
             {
              "frame": {
               "duration": 0,
               "redraw": true
              },
              "fromcurrent": true,
              "mode": "immediate",
              "transition": {
               "duration": 0,
               "easing": "linear"
              }
             }
            ],
            "label": "2019-11-24",
            "method": "animate"
           },
           {
            "args": [
             [
              "2019-01-12"
             ],
             {
              "frame": {
               "duration": 0,
               "redraw": true
              },
              "fromcurrent": true,
              "mode": "immediate",
              "transition": {
               "duration": 0,
               "easing": "linear"
              }
             }
            ],
            "label": "2019-01-12",
            "method": "animate"
           },
           {
            "args": [
             [
              "2019-08-12"
             ],
             {
              "frame": {
               "duration": 0,
               "redraw": true
              },
              "fromcurrent": true,
              "mode": "immediate",
              "transition": {
               "duration": 0,
               "easing": "linear"
              }
             }
            ],
            "label": "2019-08-12",
            "method": "animate"
           },
           {
            "args": [
             [
              "2019-12-15"
             ],
             {
              "frame": {
               "duration": 0,
               "redraw": true
              },
              "fromcurrent": true,
              "mode": "immediate",
              "transition": {
               "duration": 0,
               "easing": "linear"
              }
             }
            ],
            "label": "2019-12-15",
            "method": "animate"
           },
           {
            "args": [
             [
              "2019-12-22"
             ],
             {
              "frame": {
               "duration": 0,
               "redraw": true
              },
              "fromcurrent": true,
              "mode": "immediate",
              "transition": {
               "duration": 0,
               "easing": "linear"
              }
             }
            ],
            "label": "2019-12-22",
            "method": "animate"
           },
           {
            "args": [
             [
              "2019-12-29"
             ],
             {
              "frame": {
               "duration": 0,
               "redraw": true
              },
              "fromcurrent": true,
              "mode": "immediate",
              "transition": {
               "duration": 0,
               "easing": "linear"
              }
             }
            ],
            "label": "2019-12-29",
            "method": "animate"
           },
           {
            "args": [
             [
              "2020-05-01"
             ],
             {
              "frame": {
               "duration": 0,
               "redraw": true
              },
              "fromcurrent": true,
              "mode": "immediate",
              "transition": {
               "duration": 0,
               "easing": "linear"
              }
             }
            ],
            "label": "2020-05-01",
            "method": "animate"
           },
           {
            "args": [
             [
              "2020-12-01"
             ],
             {
              "frame": {
               "duration": 0,
               "redraw": true
              },
              "fromcurrent": true,
              "mode": "immediate",
              "transition": {
               "duration": 0,
               "easing": "linear"
              }
             }
            ],
            "label": "2020-12-01",
            "method": "animate"
           },
           {
            "args": [
             [
              "2020-01-19"
             ],
             {
              "frame": {
               "duration": 0,
               "redraw": true
              },
              "fromcurrent": true,
              "mode": "immediate",
              "transition": {
               "duration": 0,
               "easing": "linear"
              }
             }
            ],
            "label": "2020-01-19",
            "method": "animate"
           },
           {
            "args": [
             [
              "2020-01-26"
             ],
             {
              "frame": {
               "duration": 0,
               "redraw": true
              },
              "fromcurrent": true,
              "mode": "immediate",
              "transition": {
               "duration": 0,
               "easing": "linear"
              }
             }
            ],
            "label": "2020-01-26",
            "method": "animate"
           },
           {
            "args": [
             [
              "2020-02-02"
             ],
             {
              "frame": {
               "duration": 0,
               "redraw": true
              },
              "fromcurrent": true,
              "mode": "immediate",
              "transition": {
               "duration": 0,
               "easing": "linear"
              }
             }
            ],
            "label": "2020-02-02",
            "method": "animate"
           },
           {
            "args": [
             [
              "2020-09-02"
             ],
             {
              "frame": {
               "duration": 0,
               "redraw": true
              },
              "fromcurrent": true,
              "mode": "immediate",
              "transition": {
               "duration": 0,
               "easing": "linear"
              }
             }
            ],
            "label": "2020-09-02",
            "method": "animate"
           },
           {
            "args": [
             [
              "2020-02-16"
             ],
             {
              "frame": {
               "duration": 0,
               "redraw": true
              },
              "fromcurrent": true,
              "mode": "immediate",
              "transition": {
               "duration": 0,
               "easing": "linear"
              }
             }
            ],
            "label": "2020-02-16",
            "method": "animate"
           },
           {
            "args": [
             [
              "2020-02-23"
             ],
             {
              "frame": {
               "duration": 0,
               "redraw": true
              },
              "fromcurrent": true,
              "mode": "immediate",
              "transition": {
               "duration": 0,
               "easing": "linear"
              }
             }
            ],
            "label": "2020-02-23",
            "method": "animate"
           },
           {
            "args": [
             [
              "2020-01-03"
             ],
             {
              "frame": {
               "duration": 0,
               "redraw": true
              },
              "fromcurrent": true,
              "mode": "immediate",
              "transition": {
               "duration": 0,
               "easing": "linear"
              }
             }
            ],
            "label": "2020-01-03",
            "method": "animate"
           },
           {
            "args": [
             [
              "2020-08-03"
             ],
             {
              "frame": {
               "duration": 0,
               "redraw": true
              },
              "fromcurrent": true,
              "mode": "immediate",
              "transition": {
               "duration": 0,
               "easing": "linear"
              }
             }
            ],
            "label": "2020-08-03",
            "method": "animate"
           },
           {
            "args": [
             [
              "2020-03-15"
             ],
             {
              "frame": {
               "duration": 0,
               "redraw": true
              },
              "fromcurrent": true,
              "mode": "immediate",
              "transition": {
               "duration": 0,
               "easing": "linear"
              }
             }
            ],
            "label": "2020-03-15",
            "method": "animate"
           },
           {
            "args": [
             [
              "2020-03-22"
             ],
             {
              "frame": {
               "duration": 0,
               "redraw": true
              },
              "fromcurrent": true,
              "mode": "immediate",
              "transition": {
               "duration": 0,
               "easing": "linear"
              }
             }
            ],
            "label": "2020-03-22",
            "method": "animate"
           },
           {
            "args": [
             [
              "2020-03-29"
             ],
             {
              "frame": {
               "duration": 0,
               "redraw": true
              },
              "fromcurrent": true,
              "mode": "immediate",
              "transition": {
               "duration": 0,
               "easing": "linear"
              }
             }
            ],
            "label": "2020-03-29",
            "method": "animate"
           },
           {
            "args": [
             [
              "2020-05-04"
             ],
             {
              "frame": {
               "duration": 0,
               "redraw": true
              },
              "fromcurrent": true,
              "mode": "immediate",
              "transition": {
               "duration": 0,
               "easing": "linear"
              }
             }
            ],
            "label": "2020-05-04",
            "method": "animate"
           },
           {
            "args": [
             [
              "2020-12-04"
             ],
             {
              "frame": {
               "duration": 0,
               "redraw": true
              },
              "fromcurrent": true,
              "mode": "immediate",
              "transition": {
               "duration": 0,
               "easing": "linear"
              }
             }
            ],
            "label": "2020-12-04",
            "method": "animate"
           },
           {
            "args": [
             [
              "2020-04-19"
             ],
             {
              "frame": {
               "duration": 0,
               "redraw": true
              },
              "fromcurrent": true,
              "mode": "immediate",
              "transition": {
               "duration": 0,
               "easing": "linear"
              }
             }
            ],
            "label": "2020-04-19",
            "method": "animate"
           },
           {
            "args": [
             [
              "2020-04-26"
             ],
             {
              "frame": {
               "duration": 0,
               "redraw": true
              },
              "fromcurrent": true,
              "mode": "immediate",
              "transition": {
               "duration": 0,
               "easing": "linear"
              }
             }
            ],
            "label": "2020-04-26",
            "method": "animate"
           },
           {
            "args": [
             [
              "2020-03-05"
             ],
             {
              "frame": {
               "duration": 0,
               "redraw": true
              },
              "fromcurrent": true,
              "mode": "immediate",
              "transition": {
               "duration": 0,
               "easing": "linear"
              }
             }
            ],
            "label": "2020-03-05",
            "method": "animate"
           },
           {
            "args": [
             [
              "2020-10-05"
             ],
             {
              "frame": {
               "duration": 0,
               "redraw": true
              },
              "fromcurrent": true,
              "mode": "immediate",
              "transition": {
               "duration": 0,
               "easing": "linear"
              }
             }
            ],
            "label": "2020-10-05",
            "method": "animate"
           },
           {
            "args": [
             [
              "2020-05-17"
             ],
             {
              "frame": {
               "duration": 0,
               "redraw": true
              },
              "fromcurrent": true,
              "mode": "immediate",
              "transition": {
               "duration": 0,
               "easing": "linear"
              }
             }
            ],
            "label": "2020-05-17",
            "method": "animate"
           },
           {
            "args": [
             [
              "2020-05-24"
             ],
             {
              "frame": {
               "duration": 0,
               "redraw": true
              },
              "fromcurrent": true,
              "mode": "immediate",
              "transition": {
               "duration": 0,
               "easing": "linear"
              }
             }
            ],
            "label": "2020-05-24",
            "method": "animate"
           },
           {
            "args": [
             [
              "2020-05-31"
             ],
             {
              "frame": {
               "duration": 0,
               "redraw": true
              },
              "fromcurrent": true,
              "mode": "immediate",
              "transition": {
               "duration": 0,
               "easing": "linear"
              }
             }
            ],
            "label": "2020-05-31",
            "method": "animate"
           },
           {
            "args": [
             [
              "2020-07-06"
             ],
             {
              "frame": {
               "duration": 0,
               "redraw": true
              },
              "fromcurrent": true,
              "mode": "immediate",
              "transition": {
               "duration": 0,
               "easing": "linear"
              }
             }
            ],
            "label": "2020-07-06",
            "method": "animate"
           },
           {
            "args": [
             [
              "2020-06-14"
             ],
             {
              "frame": {
               "duration": 0,
               "redraw": true
              },
              "fromcurrent": true,
              "mode": "immediate",
              "transition": {
               "duration": 0,
               "easing": "linear"
              }
             }
            ],
            "label": "2020-06-14",
            "method": "animate"
           },
           {
            "args": [
             [
              "2020-06-21"
             ],
             {
              "frame": {
               "duration": 0,
               "redraw": true
              },
              "fromcurrent": true,
              "mode": "immediate",
              "transition": {
               "duration": 0,
               "easing": "linear"
              }
             }
            ],
            "label": "2020-06-21",
            "method": "animate"
           },
           {
            "args": [
             [
              "2020-06-28"
             ],
             {
              "frame": {
               "duration": 0,
               "redraw": true
              },
              "fromcurrent": true,
              "mode": "immediate",
              "transition": {
               "duration": 0,
               "easing": "linear"
              }
             }
            ],
            "label": "2020-06-28",
            "method": "animate"
           },
           {
            "args": [
             [
              "2020-05-07"
             ],
             {
              "frame": {
               "duration": 0,
               "redraw": true
              },
              "fromcurrent": true,
              "mode": "immediate",
              "transition": {
               "duration": 0,
               "easing": "linear"
              }
             }
            ],
            "label": "2020-05-07",
            "method": "animate"
           },
           {
            "args": [
             [
              "2020-12-07"
             ],
             {
              "frame": {
               "duration": 0,
               "redraw": true
              },
              "fromcurrent": true,
              "mode": "immediate",
              "transition": {
               "duration": 0,
               "easing": "linear"
              }
             }
            ],
            "label": "2020-12-07",
            "method": "animate"
           },
           {
            "args": [
             [
              "2020-07-19"
             ],
             {
              "frame": {
               "duration": 0,
               "redraw": true
              },
              "fromcurrent": true,
              "mode": "immediate",
              "transition": {
               "duration": 0,
               "easing": "linear"
              }
             }
            ],
            "label": "2020-07-19",
            "method": "animate"
           },
           {
            "args": [
             [
              "2020-07-26"
             ],
             {
              "frame": {
               "duration": 0,
               "redraw": true
              },
              "fromcurrent": true,
              "mode": "immediate",
              "transition": {
               "duration": 0,
               "easing": "linear"
              }
             }
            ],
            "label": "2020-07-26",
            "method": "animate"
           },
           {
            "args": [
             [
              "2020-02-08"
             ],
             {
              "frame": {
               "duration": 0,
               "redraw": true
              },
              "fromcurrent": true,
              "mode": "immediate",
              "transition": {
               "duration": 0,
               "easing": "linear"
              }
             }
            ],
            "label": "2020-02-08",
            "method": "animate"
           },
           {
            "args": [
             [
              "2020-09-08"
             ],
             {
              "frame": {
               "duration": 0,
               "redraw": true
              },
              "fromcurrent": true,
              "mode": "immediate",
              "transition": {
               "duration": 0,
               "easing": "linear"
              }
             }
            ],
            "label": "2020-09-08",
            "method": "animate"
           },
           {
            "args": [
             [
              "2020-08-16"
             ],
             {
              "frame": {
               "duration": 0,
               "redraw": true
              },
              "fromcurrent": true,
              "mode": "immediate",
              "transition": {
               "duration": 0,
               "easing": "linear"
              }
             }
            ],
            "label": "2020-08-16",
            "method": "animate"
           },
           {
            "args": [
             [
              "2020-08-23"
             ],
             {
              "frame": {
               "duration": 0,
               "redraw": true
              },
              "fromcurrent": true,
              "mode": "immediate",
              "transition": {
               "duration": 0,
               "easing": "linear"
              }
             }
            ],
            "label": "2020-08-23",
            "method": "animate"
           },
           {
            "args": [
             [
              "2020-08-30"
             ],
             {
              "frame": {
               "duration": 0,
               "redraw": true
              },
              "fromcurrent": true,
              "mode": "immediate",
              "transition": {
               "duration": 0,
               "easing": "linear"
              }
             }
            ],
            "label": "2020-08-30",
            "method": "animate"
           },
           {
            "args": [
             [
              "2020-06-09"
             ],
             {
              "frame": {
               "duration": 0,
               "redraw": true
              },
              "fromcurrent": true,
              "mode": "immediate",
              "transition": {
               "duration": 0,
               "easing": "linear"
              }
             }
            ],
            "label": "2020-06-09",
            "method": "animate"
           },
           {
            "args": [
             [
              "2020-09-13"
             ],
             {
              "frame": {
               "duration": 0,
               "redraw": true
              },
              "fromcurrent": true,
              "mode": "immediate",
              "transition": {
               "duration": 0,
               "easing": "linear"
              }
             }
            ],
            "label": "2020-09-13",
            "method": "animate"
           },
           {
            "args": [
             [
              "2020-09-20"
             ],
             {
              "frame": {
               "duration": 0,
               "redraw": true
              },
              "fromcurrent": true,
              "mode": "immediate",
              "transition": {
               "duration": 0,
               "easing": "linear"
              }
             }
            ],
            "label": "2020-09-20",
            "method": "animate"
           },
           {
            "args": [
             [
              "2020-09-27"
             ],
             {
              "frame": {
               "duration": 0,
               "redraw": true
              },
              "fromcurrent": true,
              "mode": "immediate",
              "transition": {
               "duration": 0,
               "easing": "linear"
              }
             }
            ],
            "label": "2020-09-27",
            "method": "animate"
           },
           {
            "args": [
             [
              "2020-04-10"
             ],
             {
              "frame": {
               "duration": 0,
               "redraw": true
              },
              "fromcurrent": true,
              "mode": "immediate",
              "transition": {
               "duration": 0,
               "easing": "linear"
              }
             }
            ],
            "label": "2020-04-10",
            "method": "animate"
           },
           {
            "args": [
             [
              "2020-11-10"
             ],
             {
              "frame": {
               "duration": 0,
               "redraw": true
              },
              "fromcurrent": true,
              "mode": "immediate",
              "transition": {
               "duration": 0,
               "easing": "linear"
              }
             }
            ],
            "label": "2020-11-10",
            "method": "animate"
           },
           {
            "args": [
             [
              "2020-10-18"
             ],
             {
              "frame": {
               "duration": 0,
               "redraw": true
              },
              "fromcurrent": true,
              "mode": "immediate",
              "transition": {
               "duration": 0,
               "easing": "linear"
              }
             }
            ],
            "label": "2020-10-18",
            "method": "animate"
           },
           {
            "args": [
             [
              "2020-10-25"
             ],
             {
              "frame": {
               "duration": 0,
               "redraw": true
              },
              "fromcurrent": true,
              "mode": "immediate",
              "transition": {
               "duration": 0,
               "easing": "linear"
              }
             }
            ],
            "label": "2020-10-25",
            "method": "animate"
           },
           {
            "args": [
             [
              "2020-01-11"
             ],
             {
              "frame": {
               "duration": 0,
               "redraw": true
              },
              "fromcurrent": true,
              "mode": "immediate",
              "transition": {
               "duration": 0,
               "easing": "linear"
              }
             }
            ],
            "label": "2020-01-11",
            "method": "animate"
           }
          ],
          "x": 0.1,
          "xanchor": "left",
          "y": 0,
          "yanchor": "top"
         }
        ],
        "template": {
         "data": {
          "bar": [
           {
            "error_x": {
             "color": "#2a3f5f"
            },
            "error_y": {
             "color": "#2a3f5f"
            },
            "marker": {
             "line": {
              "color": "#E5ECF6",
              "width": 0.5
             }
            },
            "type": "bar"
           }
          ],
          "barpolar": [
           {
            "marker": {
             "line": {
              "color": "#E5ECF6",
              "width": 0.5
             }
            },
            "type": "barpolar"
           }
          ],
          "carpet": [
           {
            "aaxis": {
             "endlinecolor": "#2a3f5f",
             "gridcolor": "white",
             "linecolor": "white",
             "minorgridcolor": "white",
             "startlinecolor": "#2a3f5f"
            },
            "baxis": {
             "endlinecolor": "#2a3f5f",
             "gridcolor": "white",
             "linecolor": "white",
             "minorgridcolor": "white",
             "startlinecolor": "#2a3f5f"
            },
            "type": "carpet"
           }
          ],
          "choropleth": [
           {
            "colorbar": {
             "outlinewidth": 0,
             "ticks": ""
            },
            "type": "choropleth"
           }
          ],
          "contour": [
           {
            "colorbar": {
             "outlinewidth": 0,
             "ticks": ""
            },
            "colorscale": [
             [
              0,
              "#0d0887"
             ],
             [
              0.1111111111111111,
              "#46039f"
             ],
             [
              0.2222222222222222,
              "#7201a8"
             ],
             [
              0.3333333333333333,
              "#9c179e"
             ],
             [
              0.4444444444444444,
              "#bd3786"
             ],
             [
              0.5555555555555556,
              "#d8576b"
             ],
             [
              0.6666666666666666,
              "#ed7953"
             ],
             [
              0.7777777777777778,
              "#fb9f3a"
             ],
             [
              0.8888888888888888,
              "#fdca26"
             ],
             [
              1,
              "#f0f921"
             ]
            ],
            "type": "contour"
           }
          ],
          "contourcarpet": [
           {
            "colorbar": {
             "outlinewidth": 0,
             "ticks": ""
            },
            "type": "contourcarpet"
           }
          ],
          "heatmap": [
           {
            "colorbar": {
             "outlinewidth": 0,
             "ticks": ""
            },
            "colorscale": [
             [
              0,
              "#0d0887"
             ],
             [
              0.1111111111111111,
              "#46039f"
             ],
             [
              0.2222222222222222,
              "#7201a8"
             ],
             [
              0.3333333333333333,
              "#9c179e"
             ],
             [
              0.4444444444444444,
              "#bd3786"
             ],
             [
              0.5555555555555556,
              "#d8576b"
             ],
             [
              0.6666666666666666,
              "#ed7953"
             ],
             [
              0.7777777777777778,
              "#fb9f3a"
             ],
             [
              0.8888888888888888,
              "#fdca26"
             ],
             [
              1,
              "#f0f921"
             ]
            ],
            "type": "heatmap"
           }
          ],
          "heatmapgl": [
           {
            "colorbar": {
             "outlinewidth": 0,
             "ticks": ""
            },
            "colorscale": [
             [
              0,
              "#0d0887"
             ],
             [
              0.1111111111111111,
              "#46039f"
             ],
             [
              0.2222222222222222,
              "#7201a8"
             ],
             [
              0.3333333333333333,
              "#9c179e"
             ],
             [
              0.4444444444444444,
              "#bd3786"
             ],
             [
              0.5555555555555556,
              "#d8576b"
             ],
             [
              0.6666666666666666,
              "#ed7953"
             ],
             [
              0.7777777777777778,
              "#fb9f3a"
             ],
             [
              0.8888888888888888,
              "#fdca26"
             ],
             [
              1,
              "#f0f921"
             ]
            ],
            "type": "heatmapgl"
           }
          ],
          "histogram": [
           {
            "marker": {
             "colorbar": {
              "outlinewidth": 0,
              "ticks": ""
             }
            },
            "type": "histogram"
           }
          ],
          "histogram2d": [
           {
            "colorbar": {
             "outlinewidth": 0,
             "ticks": ""
            },
            "colorscale": [
             [
              0,
              "#0d0887"
             ],
             [
              0.1111111111111111,
              "#46039f"
             ],
             [
              0.2222222222222222,
              "#7201a8"
             ],
             [
              0.3333333333333333,
              "#9c179e"
             ],
             [
              0.4444444444444444,
              "#bd3786"
             ],
             [
              0.5555555555555556,
              "#d8576b"
             ],
             [
              0.6666666666666666,
              "#ed7953"
             ],
             [
              0.7777777777777778,
              "#fb9f3a"
             ],
             [
              0.8888888888888888,
              "#fdca26"
             ],
             [
              1,
              "#f0f921"
             ]
            ],
            "type": "histogram2d"
           }
          ],
          "histogram2dcontour": [
           {
            "colorbar": {
             "outlinewidth": 0,
             "ticks": ""
            },
            "colorscale": [
             [
              0,
              "#0d0887"
             ],
             [
              0.1111111111111111,
              "#46039f"
             ],
             [
              0.2222222222222222,
              "#7201a8"
             ],
             [
              0.3333333333333333,
              "#9c179e"
             ],
             [
              0.4444444444444444,
              "#bd3786"
             ],
             [
              0.5555555555555556,
              "#d8576b"
             ],
             [
              0.6666666666666666,
              "#ed7953"
             ],
             [
              0.7777777777777778,
              "#fb9f3a"
             ],
             [
              0.8888888888888888,
              "#fdca26"
             ],
             [
              1,
              "#f0f921"
             ]
            ],
            "type": "histogram2dcontour"
           }
          ],
          "mesh3d": [
           {
            "colorbar": {
             "outlinewidth": 0,
             "ticks": ""
            },
            "type": "mesh3d"
           }
          ],
          "parcoords": [
           {
            "line": {
             "colorbar": {
              "outlinewidth": 0,
              "ticks": ""
             }
            },
            "type": "parcoords"
           }
          ],
          "pie": [
           {
            "automargin": true,
            "type": "pie"
           }
          ],
          "scatter": [
           {
            "marker": {
             "colorbar": {
              "outlinewidth": 0,
              "ticks": ""
             }
            },
            "type": "scatter"
           }
          ],
          "scatter3d": [
           {
            "line": {
             "colorbar": {
              "outlinewidth": 0,
              "ticks": ""
             }
            },
            "marker": {
             "colorbar": {
              "outlinewidth": 0,
              "ticks": ""
             }
            },
            "type": "scatter3d"
           }
          ],
          "scattercarpet": [
           {
            "marker": {
             "colorbar": {
              "outlinewidth": 0,
              "ticks": ""
             }
            },
            "type": "scattercarpet"
           }
          ],
          "scattergeo": [
           {
            "marker": {
             "colorbar": {
              "outlinewidth": 0,
              "ticks": ""
             }
            },
            "type": "scattergeo"
           }
          ],
          "scattergl": [
           {
            "marker": {
             "colorbar": {
              "outlinewidth": 0,
              "ticks": ""
             }
            },
            "type": "scattergl"
           }
          ],
          "scattermapbox": [
           {
            "marker": {
             "colorbar": {
              "outlinewidth": 0,
              "ticks": ""
             }
            },
            "type": "scattermapbox"
           }
          ],
          "scatterpolar": [
           {
            "marker": {
             "colorbar": {
              "outlinewidth": 0,
              "ticks": ""
             }
            },
            "type": "scatterpolar"
           }
          ],
          "scatterpolargl": [
           {
            "marker": {
             "colorbar": {
              "outlinewidth": 0,
              "ticks": ""
             }
            },
            "type": "scatterpolargl"
           }
          ],
          "scatterternary": [
           {
            "marker": {
             "colorbar": {
              "outlinewidth": 0,
              "ticks": ""
             }
            },
            "type": "scatterternary"
           }
          ],
          "surface": [
           {
            "colorbar": {
             "outlinewidth": 0,
             "ticks": ""
            },
            "colorscale": [
             [
              0,
              "#0d0887"
             ],
             [
              0.1111111111111111,
              "#46039f"
             ],
             [
              0.2222222222222222,
              "#7201a8"
             ],
             [
              0.3333333333333333,
              "#9c179e"
             ],
             [
              0.4444444444444444,
              "#bd3786"
             ],
             [
              0.5555555555555556,
              "#d8576b"
             ],
             [
              0.6666666666666666,
              "#ed7953"
             ],
             [
              0.7777777777777778,
              "#fb9f3a"
             ],
             [
              0.8888888888888888,
              "#fdca26"
             ],
             [
              1,
              "#f0f921"
             ]
            ],
            "type": "surface"
           }
          ],
          "table": [
           {
            "cells": {
             "fill": {
              "color": "#EBF0F8"
             },
             "line": {
              "color": "white"
             }
            },
            "header": {
             "fill": {
              "color": "#C8D4E3"
             },
             "line": {
              "color": "white"
             }
            },
            "type": "table"
           }
          ]
         },
         "layout": {
          "annotationdefaults": {
           "arrowcolor": "#2a3f5f",
           "arrowhead": 0,
           "arrowwidth": 1
          },
          "coloraxis": {
           "colorbar": {
            "outlinewidth": 0,
            "ticks": ""
           }
          },
          "colorscale": {
           "diverging": [
            [
             0,
             "#8e0152"
            ],
            [
             0.1,
             "#c51b7d"
            ],
            [
             0.2,
             "#de77ae"
            ],
            [
             0.3,
             "#f1b6da"
            ],
            [
             0.4,
             "#fde0ef"
            ],
            [
             0.5,
             "#f7f7f7"
            ],
            [
             0.6,
             "#e6f5d0"
            ],
            [
             0.7,
             "#b8e186"
            ],
            [
             0.8,
             "#7fbc41"
            ],
            [
             0.9,
             "#4d9221"
            ],
            [
             1,
             "#276419"
            ]
           ],
           "sequential": [
            [
             0,
             "#0d0887"
            ],
            [
             0.1111111111111111,
             "#46039f"
            ],
            [
             0.2222222222222222,
             "#7201a8"
            ],
            [
             0.3333333333333333,
             "#9c179e"
            ],
            [
             0.4444444444444444,
             "#bd3786"
            ],
            [
             0.5555555555555556,
             "#d8576b"
            ],
            [
             0.6666666666666666,
             "#ed7953"
            ],
            [
             0.7777777777777778,
             "#fb9f3a"
            ],
            [
             0.8888888888888888,
             "#fdca26"
            ],
            [
             1,
             "#f0f921"
            ]
           ],
           "sequentialminus": [
            [
             0,
             "#0d0887"
            ],
            [
             0.1111111111111111,
             "#46039f"
            ],
            [
             0.2222222222222222,
             "#7201a8"
            ],
            [
             0.3333333333333333,
             "#9c179e"
            ],
            [
             0.4444444444444444,
             "#bd3786"
            ],
            [
             0.5555555555555556,
             "#d8576b"
            ],
            [
             0.6666666666666666,
             "#ed7953"
            ],
            [
             0.7777777777777778,
             "#fb9f3a"
            ],
            [
             0.8888888888888888,
             "#fdca26"
            ],
            [
             1,
             "#f0f921"
            ]
           ]
          },
          "colorway": [
           "#636efa",
           "#EF553B",
           "#00cc96",
           "#ab63fa",
           "#FFA15A",
           "#19d3f3",
           "#FF6692",
           "#B6E880",
           "#FF97FF",
           "#FECB52"
          ],
          "font": {
           "color": "#2a3f5f"
          },
          "geo": {
           "bgcolor": "white",
           "lakecolor": "white",
           "landcolor": "#E5ECF6",
           "showlakes": true,
           "showland": true,
           "subunitcolor": "white"
          },
          "hoverlabel": {
           "align": "left"
          },
          "hovermode": "closest",
          "mapbox": {
           "style": "light"
          },
          "paper_bgcolor": "white",
          "plot_bgcolor": "#E5ECF6",
          "polar": {
           "angularaxis": {
            "gridcolor": "white",
            "linecolor": "white",
            "ticks": ""
           },
           "bgcolor": "#E5ECF6",
           "radialaxis": {
            "gridcolor": "white",
            "linecolor": "white",
            "ticks": ""
           }
          },
          "scene": {
           "xaxis": {
            "backgroundcolor": "#E5ECF6",
            "gridcolor": "white",
            "gridwidth": 2,
            "linecolor": "white",
            "showbackground": true,
            "ticks": "",
            "zerolinecolor": "white"
           },
           "yaxis": {
            "backgroundcolor": "#E5ECF6",
            "gridcolor": "white",
            "gridwidth": 2,
            "linecolor": "white",
            "showbackground": true,
            "ticks": "",
            "zerolinecolor": "white"
           },
           "zaxis": {
            "backgroundcolor": "#E5ECF6",
            "gridcolor": "white",
            "gridwidth": 2,
            "linecolor": "white",
            "showbackground": true,
            "ticks": "",
            "zerolinecolor": "white"
           }
          },
          "shapedefaults": {
           "line": {
            "color": "#2a3f5f"
           }
          },
          "ternary": {
           "aaxis": {
            "gridcolor": "white",
            "linecolor": "white",
            "ticks": ""
           },
           "baxis": {
            "gridcolor": "white",
            "linecolor": "white",
            "ticks": ""
           },
           "bgcolor": "#E5ECF6",
           "caxis": {
            "gridcolor": "white",
            "linecolor": "white",
            "ticks": ""
           }
          },
          "title": {
           "x": 0.05
          },
          "xaxis": {
           "automargin": true,
           "gridcolor": "white",
           "linecolor": "white",
           "ticks": "",
           "title": {
            "standoff": 15
           },
           "zerolinecolor": "white",
           "zerolinewidth": 2
          },
          "yaxis": {
           "automargin": true,
           "gridcolor": "white",
           "linecolor": "white",
           "ticks": "",
           "title": {
            "standoff": 15
           },
           "zerolinecolor": "white",
           "zerolinewidth": 2
          }
         }
        },
        "updatemenus": [
         {
          "buttons": [
           {
            "args": [
             null,
             {
              "frame": {
               "duration": 500,
               "redraw": true
              },
              "fromcurrent": true,
              "mode": "immediate",
              "transition": {
               "duration": 500,
               "easing": "linear"
              }
             }
            ],
            "label": "&#9654;",
            "method": "animate"
           },
           {
            "args": [
             [
              null
             ],
             {
              "frame": {
               "duration": 0,
               "redraw": true
              },
              "fromcurrent": true,
              "mode": "immediate",
              "transition": {
               "duration": 0,
               "easing": "linear"
              }
             }
            ],
            "label": "&#9724;",
            "method": "animate"
           }
          ],
          "direction": "left",
          "pad": {
           "r": 10,
           "t": 70
          },
          "showactive": false,
          "type": "buttons",
          "x": 0.1,
          "xanchor": "right",
          "y": 0,
          "yanchor": "top"
         }
        ]
       }
      },
      "text/html": [
       "<div>\n",
       "        \n",
       "        \n",
       "            <div id=\"b860fb06-35f9-41ce-9785-c2cf635957e2\" class=\"plotly-graph-div\" style=\"height:525px; width:100%;\"></div>\n",
       "            <script type=\"text/javascript\">\n",
       "                require([\"plotly\"], function(Plotly) {\n",
       "                    window.PLOTLYENV=window.PLOTLYENV || {};\n",
       "                    \n",
       "                if (document.getElementById(\"b860fb06-35f9-41ce-9785-c2cf635957e2\")) {\n",
       "                    Plotly.newPlot(\n",
       "                        'b860fb06-35f9-41ce-9785-c2cf635957e2',\n",
       "                        [{\"geo\": \"geo\", \"hovertemplate\": \"<b>%{hovertext}</b><br><br>Search query compared to previous year =positive<br>Date =2019-03-11<br>Search query value =%{marker.size}<br>Country abbreviation =%{location}<extra></extra>\", \"hovertext\": [\"uk\", \"nl\", \"ger\"], \"legendgroup\": \"positive\", \"locations\": [\"GBR\", \"NLD\", \"DEU\"], \"marker\": {\"color\": \"#636efa\", \"size\": [0.0, 1.0, 11.0], \"sizemode\": \"area\", \"sizeref\": 0.1425}, \"name\": \"positive\", \"showlegend\": true, \"type\": \"scattergeo\"}],\n",
       "                        {\"geo\": {\"center\": {\"lat\": 52.370216, \"lon\": 4.895168}, \"domain\": {\"x\": [0.0, 1.0], \"y\": [0.0, 1.0]}, \"oceancolor\": \"#ffffff\", \"projection\": {\"scale\": 4, \"type\": \"conic conformal\"}, \"scope\": \"europe\", \"showland\": false, \"showocean\": true}, \"legend\": {\"itemsizing\": \"constant\", \"title\": {\"text\": \"Search query compared to previous year \"}, \"tracegroupgap\": 0}, \"margin\": {\"t\": 60}, \"sliders\": [{\"active\": 0, \"currentvalue\": {\"prefix\": \"Date =\"}, \"len\": 0.9, \"pad\": {\"b\": 10, \"t\": 60}, \"steps\": [{\"args\": [[\"2019-03-11\"], {\"frame\": {\"duration\": 0, \"redraw\": true}, \"fromcurrent\": true, \"mode\": \"immediate\", \"transition\": {\"duration\": 0, \"easing\": \"linear\"}}], \"label\": \"2019-03-11\", \"method\": \"animate\"}, {\"args\": [[\"2019-10-11\"], {\"frame\": {\"duration\": 0, \"redraw\": true}, \"fromcurrent\": true, \"mode\": \"immediate\", \"transition\": {\"duration\": 0, \"easing\": \"linear\"}}], \"label\": \"2019-10-11\", \"method\": \"animate\"}, {\"args\": [[\"2019-11-17\"], {\"frame\": {\"duration\": 0, \"redraw\": true}, \"fromcurrent\": true, \"mode\": \"immediate\", \"transition\": {\"duration\": 0, \"easing\": \"linear\"}}], \"label\": \"2019-11-17\", \"method\": \"animate\"}, {\"args\": [[\"2019-11-24\"], {\"frame\": {\"duration\": 0, \"redraw\": true}, \"fromcurrent\": true, \"mode\": \"immediate\", \"transition\": {\"duration\": 0, \"easing\": \"linear\"}}], \"label\": \"2019-11-24\", \"method\": \"animate\"}, {\"args\": [[\"2019-01-12\"], {\"frame\": {\"duration\": 0, \"redraw\": true}, \"fromcurrent\": true, \"mode\": \"immediate\", \"transition\": {\"duration\": 0, \"easing\": \"linear\"}}], \"label\": \"2019-01-12\", \"method\": \"animate\"}, {\"args\": [[\"2019-08-12\"], {\"frame\": {\"duration\": 0, \"redraw\": true}, \"fromcurrent\": true, \"mode\": \"immediate\", \"transition\": {\"duration\": 0, \"easing\": \"linear\"}}], \"label\": \"2019-08-12\", \"method\": \"animate\"}, {\"args\": [[\"2019-12-15\"], {\"frame\": {\"duration\": 0, \"redraw\": true}, \"fromcurrent\": true, \"mode\": \"immediate\", \"transition\": {\"duration\": 0, \"easing\": \"linear\"}}], \"label\": \"2019-12-15\", \"method\": \"animate\"}, {\"args\": [[\"2019-12-22\"], {\"frame\": {\"duration\": 0, \"redraw\": true}, \"fromcurrent\": true, \"mode\": \"immediate\", \"transition\": {\"duration\": 0, \"easing\": \"linear\"}}], \"label\": \"2019-12-22\", \"method\": \"animate\"}, {\"args\": [[\"2019-12-29\"], {\"frame\": {\"duration\": 0, \"redraw\": true}, \"fromcurrent\": true, \"mode\": \"immediate\", \"transition\": {\"duration\": 0, \"easing\": \"linear\"}}], \"label\": \"2019-12-29\", \"method\": \"animate\"}, {\"args\": [[\"2020-05-01\"], {\"frame\": {\"duration\": 0, \"redraw\": true}, \"fromcurrent\": true, \"mode\": \"immediate\", \"transition\": {\"duration\": 0, \"easing\": \"linear\"}}], \"label\": \"2020-05-01\", \"method\": \"animate\"}, {\"args\": [[\"2020-12-01\"], {\"frame\": {\"duration\": 0, \"redraw\": true}, \"fromcurrent\": true, \"mode\": \"immediate\", \"transition\": {\"duration\": 0, \"easing\": \"linear\"}}], \"label\": \"2020-12-01\", \"method\": \"animate\"}, {\"args\": [[\"2020-01-19\"], {\"frame\": {\"duration\": 0, \"redraw\": true}, \"fromcurrent\": true, \"mode\": \"immediate\", \"transition\": {\"duration\": 0, \"easing\": \"linear\"}}], \"label\": \"2020-01-19\", \"method\": \"animate\"}, {\"args\": [[\"2020-01-26\"], {\"frame\": {\"duration\": 0, \"redraw\": true}, \"fromcurrent\": true, \"mode\": \"immediate\", \"transition\": {\"duration\": 0, \"easing\": \"linear\"}}], \"label\": \"2020-01-26\", \"method\": \"animate\"}, {\"args\": [[\"2020-02-02\"], {\"frame\": {\"duration\": 0, \"redraw\": true}, \"fromcurrent\": true, \"mode\": \"immediate\", \"transition\": {\"duration\": 0, \"easing\": \"linear\"}}], \"label\": \"2020-02-02\", \"method\": \"animate\"}, {\"args\": [[\"2020-09-02\"], {\"frame\": {\"duration\": 0, \"redraw\": true}, \"fromcurrent\": true, \"mode\": \"immediate\", \"transition\": {\"duration\": 0, \"easing\": \"linear\"}}], \"label\": \"2020-09-02\", \"method\": \"animate\"}, {\"args\": [[\"2020-02-16\"], {\"frame\": {\"duration\": 0, \"redraw\": true}, \"fromcurrent\": true, \"mode\": \"immediate\", \"transition\": {\"duration\": 0, \"easing\": \"linear\"}}], \"label\": \"2020-02-16\", \"method\": \"animate\"}, {\"args\": [[\"2020-02-23\"], {\"frame\": {\"duration\": 0, \"redraw\": true}, \"fromcurrent\": true, \"mode\": \"immediate\", \"transition\": {\"duration\": 0, \"easing\": \"linear\"}}], \"label\": \"2020-02-23\", \"method\": \"animate\"}, {\"args\": [[\"2020-01-03\"], {\"frame\": {\"duration\": 0, \"redraw\": true}, \"fromcurrent\": true, \"mode\": \"immediate\", \"transition\": {\"duration\": 0, \"easing\": \"linear\"}}], \"label\": \"2020-01-03\", \"method\": \"animate\"}, {\"args\": [[\"2020-08-03\"], {\"frame\": {\"duration\": 0, \"redraw\": true}, \"fromcurrent\": true, \"mode\": \"immediate\", \"transition\": {\"duration\": 0, \"easing\": \"linear\"}}], \"label\": \"2020-08-03\", \"method\": \"animate\"}, {\"args\": [[\"2020-03-15\"], {\"frame\": {\"duration\": 0, \"redraw\": true}, \"fromcurrent\": true, \"mode\": \"immediate\", \"transition\": {\"duration\": 0, \"easing\": \"linear\"}}], \"label\": \"2020-03-15\", \"method\": \"animate\"}, {\"args\": [[\"2020-03-22\"], {\"frame\": {\"duration\": 0, \"redraw\": true}, \"fromcurrent\": true, \"mode\": \"immediate\", \"transition\": {\"duration\": 0, \"easing\": \"linear\"}}], \"label\": \"2020-03-22\", \"method\": \"animate\"}, {\"args\": [[\"2020-03-29\"], {\"frame\": {\"duration\": 0, \"redraw\": true}, \"fromcurrent\": true, \"mode\": \"immediate\", \"transition\": {\"duration\": 0, \"easing\": \"linear\"}}], \"label\": \"2020-03-29\", \"method\": \"animate\"}, {\"args\": [[\"2020-05-04\"], {\"frame\": {\"duration\": 0, \"redraw\": true}, \"fromcurrent\": true, \"mode\": \"immediate\", \"transition\": {\"duration\": 0, \"easing\": \"linear\"}}], \"label\": \"2020-05-04\", \"method\": \"animate\"}, {\"args\": [[\"2020-12-04\"], {\"frame\": {\"duration\": 0, \"redraw\": true}, \"fromcurrent\": true, \"mode\": \"immediate\", \"transition\": {\"duration\": 0, \"easing\": \"linear\"}}], \"label\": \"2020-12-04\", \"method\": \"animate\"}, {\"args\": [[\"2020-04-19\"], {\"frame\": {\"duration\": 0, \"redraw\": true}, \"fromcurrent\": true, \"mode\": \"immediate\", \"transition\": {\"duration\": 0, \"easing\": \"linear\"}}], \"label\": \"2020-04-19\", \"method\": \"animate\"}, {\"args\": [[\"2020-04-26\"], {\"frame\": {\"duration\": 0, \"redraw\": true}, \"fromcurrent\": true, \"mode\": \"immediate\", \"transition\": {\"duration\": 0, \"easing\": \"linear\"}}], \"label\": \"2020-04-26\", \"method\": \"animate\"}, {\"args\": [[\"2020-03-05\"], {\"frame\": {\"duration\": 0, \"redraw\": true}, \"fromcurrent\": true, \"mode\": \"immediate\", \"transition\": {\"duration\": 0, \"easing\": \"linear\"}}], \"label\": \"2020-03-05\", \"method\": \"animate\"}, {\"args\": [[\"2020-10-05\"], {\"frame\": {\"duration\": 0, \"redraw\": true}, \"fromcurrent\": true, \"mode\": \"immediate\", \"transition\": {\"duration\": 0, \"easing\": \"linear\"}}], \"label\": \"2020-10-05\", \"method\": \"animate\"}, {\"args\": [[\"2020-05-17\"], {\"frame\": {\"duration\": 0, \"redraw\": true}, \"fromcurrent\": true, \"mode\": \"immediate\", \"transition\": {\"duration\": 0, \"easing\": \"linear\"}}], \"label\": \"2020-05-17\", \"method\": \"animate\"}, {\"args\": [[\"2020-05-24\"], {\"frame\": {\"duration\": 0, \"redraw\": true}, \"fromcurrent\": true, \"mode\": \"immediate\", \"transition\": {\"duration\": 0, \"easing\": \"linear\"}}], \"label\": \"2020-05-24\", \"method\": \"animate\"}, {\"args\": [[\"2020-05-31\"], {\"frame\": {\"duration\": 0, \"redraw\": true}, \"fromcurrent\": true, \"mode\": \"immediate\", \"transition\": {\"duration\": 0, \"easing\": \"linear\"}}], \"label\": \"2020-05-31\", \"method\": \"animate\"}, {\"args\": [[\"2020-07-06\"], {\"frame\": {\"duration\": 0, \"redraw\": true}, \"fromcurrent\": true, \"mode\": \"immediate\", \"transition\": {\"duration\": 0, \"easing\": \"linear\"}}], \"label\": \"2020-07-06\", \"method\": \"animate\"}, {\"args\": [[\"2020-06-14\"], {\"frame\": {\"duration\": 0, \"redraw\": true}, \"fromcurrent\": true, \"mode\": \"immediate\", \"transition\": {\"duration\": 0, \"easing\": \"linear\"}}], \"label\": \"2020-06-14\", \"method\": \"animate\"}, {\"args\": [[\"2020-06-21\"], {\"frame\": {\"duration\": 0, \"redraw\": true}, \"fromcurrent\": true, \"mode\": \"immediate\", \"transition\": {\"duration\": 0, \"easing\": \"linear\"}}], \"label\": \"2020-06-21\", \"method\": \"animate\"}, {\"args\": [[\"2020-06-28\"], {\"frame\": {\"duration\": 0, \"redraw\": true}, \"fromcurrent\": true, \"mode\": \"immediate\", \"transition\": {\"duration\": 0, \"easing\": \"linear\"}}], \"label\": \"2020-06-28\", \"method\": \"animate\"}, {\"args\": [[\"2020-05-07\"], {\"frame\": {\"duration\": 0, \"redraw\": true}, \"fromcurrent\": true, \"mode\": \"immediate\", \"transition\": {\"duration\": 0, \"easing\": \"linear\"}}], \"label\": \"2020-05-07\", \"method\": \"animate\"}, {\"args\": [[\"2020-12-07\"], {\"frame\": {\"duration\": 0, \"redraw\": true}, \"fromcurrent\": true, \"mode\": \"immediate\", \"transition\": {\"duration\": 0, \"easing\": \"linear\"}}], \"label\": \"2020-12-07\", \"method\": \"animate\"}, {\"args\": [[\"2020-07-19\"], {\"frame\": {\"duration\": 0, \"redraw\": true}, \"fromcurrent\": true, \"mode\": \"immediate\", \"transition\": {\"duration\": 0, \"easing\": \"linear\"}}], \"label\": \"2020-07-19\", \"method\": \"animate\"}, {\"args\": [[\"2020-07-26\"], {\"frame\": {\"duration\": 0, \"redraw\": true}, \"fromcurrent\": true, \"mode\": \"immediate\", \"transition\": {\"duration\": 0, \"easing\": \"linear\"}}], \"label\": \"2020-07-26\", \"method\": \"animate\"}, {\"args\": [[\"2020-02-08\"], {\"frame\": {\"duration\": 0, \"redraw\": true}, \"fromcurrent\": true, \"mode\": \"immediate\", \"transition\": {\"duration\": 0, \"easing\": \"linear\"}}], \"label\": \"2020-02-08\", \"method\": \"animate\"}, {\"args\": [[\"2020-09-08\"], {\"frame\": {\"duration\": 0, \"redraw\": true}, \"fromcurrent\": true, \"mode\": \"immediate\", \"transition\": {\"duration\": 0, \"easing\": \"linear\"}}], \"label\": \"2020-09-08\", \"method\": \"animate\"}, {\"args\": [[\"2020-08-16\"], {\"frame\": {\"duration\": 0, \"redraw\": true}, \"fromcurrent\": true, \"mode\": \"immediate\", \"transition\": {\"duration\": 0, \"easing\": \"linear\"}}], \"label\": \"2020-08-16\", \"method\": \"animate\"}, {\"args\": [[\"2020-08-23\"], {\"frame\": {\"duration\": 0, \"redraw\": true}, \"fromcurrent\": true, \"mode\": \"immediate\", \"transition\": {\"duration\": 0, \"easing\": \"linear\"}}], \"label\": \"2020-08-23\", \"method\": \"animate\"}, {\"args\": [[\"2020-08-30\"], {\"frame\": {\"duration\": 0, \"redraw\": true}, \"fromcurrent\": true, \"mode\": \"immediate\", \"transition\": {\"duration\": 0, \"easing\": \"linear\"}}], \"label\": \"2020-08-30\", \"method\": \"animate\"}, {\"args\": [[\"2020-06-09\"], {\"frame\": {\"duration\": 0, \"redraw\": true}, \"fromcurrent\": true, \"mode\": \"immediate\", \"transition\": {\"duration\": 0, \"easing\": \"linear\"}}], \"label\": \"2020-06-09\", \"method\": \"animate\"}, {\"args\": [[\"2020-09-13\"], {\"frame\": {\"duration\": 0, \"redraw\": true}, \"fromcurrent\": true, \"mode\": \"immediate\", \"transition\": {\"duration\": 0, \"easing\": \"linear\"}}], \"label\": \"2020-09-13\", \"method\": \"animate\"}, {\"args\": [[\"2020-09-20\"], {\"frame\": {\"duration\": 0, \"redraw\": true}, \"fromcurrent\": true, \"mode\": \"immediate\", \"transition\": {\"duration\": 0, \"easing\": \"linear\"}}], \"label\": \"2020-09-20\", \"method\": \"animate\"}, {\"args\": [[\"2020-09-27\"], {\"frame\": {\"duration\": 0, \"redraw\": true}, \"fromcurrent\": true, \"mode\": \"immediate\", \"transition\": {\"duration\": 0, \"easing\": \"linear\"}}], \"label\": \"2020-09-27\", \"method\": \"animate\"}, {\"args\": [[\"2020-04-10\"], {\"frame\": {\"duration\": 0, \"redraw\": true}, \"fromcurrent\": true, \"mode\": \"immediate\", \"transition\": {\"duration\": 0, \"easing\": \"linear\"}}], \"label\": \"2020-04-10\", \"method\": \"animate\"}, {\"args\": [[\"2020-11-10\"], {\"frame\": {\"duration\": 0, \"redraw\": true}, \"fromcurrent\": true, \"mode\": \"immediate\", \"transition\": {\"duration\": 0, \"easing\": \"linear\"}}], \"label\": \"2020-11-10\", \"method\": \"animate\"}, {\"args\": [[\"2020-10-18\"], {\"frame\": {\"duration\": 0, \"redraw\": true}, \"fromcurrent\": true, \"mode\": \"immediate\", \"transition\": {\"duration\": 0, \"easing\": \"linear\"}}], \"label\": \"2020-10-18\", \"method\": \"animate\"}, {\"args\": [[\"2020-10-25\"], {\"frame\": {\"duration\": 0, \"redraw\": true}, \"fromcurrent\": true, \"mode\": \"immediate\", \"transition\": {\"duration\": 0, \"easing\": \"linear\"}}], \"label\": \"2020-10-25\", \"method\": \"animate\"}, {\"args\": [[\"2020-01-11\"], {\"frame\": {\"duration\": 0, \"redraw\": true}, \"fromcurrent\": true, \"mode\": \"immediate\", \"transition\": {\"duration\": 0, \"easing\": \"linear\"}}], \"label\": \"2020-01-11\", \"method\": \"animate\"}], \"x\": 0.1, \"xanchor\": \"left\", \"y\": 0, \"yanchor\": \"top\"}], \"template\": {\"data\": {\"bar\": [{\"error_x\": {\"color\": \"#2a3f5f\"}, \"error_y\": {\"color\": \"#2a3f5f\"}, \"marker\": {\"line\": {\"color\": \"#E5ECF6\", \"width\": 0.5}}, \"type\": \"bar\"}], \"barpolar\": [{\"marker\": {\"line\": {\"color\": \"#E5ECF6\", \"width\": 0.5}}, \"type\": \"barpolar\"}], \"carpet\": [{\"aaxis\": {\"endlinecolor\": \"#2a3f5f\", \"gridcolor\": \"white\", \"linecolor\": \"white\", \"minorgridcolor\": \"white\", \"startlinecolor\": \"#2a3f5f\"}, \"baxis\": {\"endlinecolor\": \"#2a3f5f\", \"gridcolor\": \"white\", \"linecolor\": \"white\", \"minorgridcolor\": \"white\", \"startlinecolor\": \"#2a3f5f\"}, \"type\": \"carpet\"}], \"choropleth\": [{\"colorbar\": {\"outlinewidth\": 0, \"ticks\": \"\"}, \"type\": \"choropleth\"}], \"contour\": [{\"colorbar\": {\"outlinewidth\": 0, \"ticks\": \"\"}, \"colorscale\": [[0.0, \"#0d0887\"], [0.1111111111111111, \"#46039f\"], [0.2222222222222222, \"#7201a8\"], [0.3333333333333333, \"#9c179e\"], [0.4444444444444444, \"#bd3786\"], [0.5555555555555556, \"#d8576b\"], [0.6666666666666666, \"#ed7953\"], [0.7777777777777778, \"#fb9f3a\"], [0.8888888888888888, \"#fdca26\"], [1.0, \"#f0f921\"]], \"type\": \"contour\"}], \"contourcarpet\": [{\"colorbar\": {\"outlinewidth\": 0, \"ticks\": \"\"}, \"type\": \"contourcarpet\"}], \"heatmap\": [{\"colorbar\": {\"outlinewidth\": 0, \"ticks\": \"\"}, \"colorscale\": [[0.0, \"#0d0887\"], [0.1111111111111111, \"#46039f\"], [0.2222222222222222, \"#7201a8\"], [0.3333333333333333, \"#9c179e\"], [0.4444444444444444, \"#bd3786\"], [0.5555555555555556, \"#d8576b\"], [0.6666666666666666, \"#ed7953\"], [0.7777777777777778, \"#fb9f3a\"], [0.8888888888888888, \"#fdca26\"], [1.0, \"#f0f921\"]], \"type\": \"heatmap\"}], \"heatmapgl\": [{\"colorbar\": {\"outlinewidth\": 0, \"ticks\": \"\"}, \"colorscale\": [[0.0, \"#0d0887\"], [0.1111111111111111, \"#46039f\"], [0.2222222222222222, \"#7201a8\"], [0.3333333333333333, \"#9c179e\"], [0.4444444444444444, \"#bd3786\"], [0.5555555555555556, \"#d8576b\"], [0.6666666666666666, \"#ed7953\"], [0.7777777777777778, \"#fb9f3a\"], [0.8888888888888888, \"#fdca26\"], [1.0, \"#f0f921\"]], \"type\": \"heatmapgl\"}], \"histogram\": [{\"marker\": {\"colorbar\": {\"outlinewidth\": 0, \"ticks\": \"\"}}, \"type\": \"histogram\"}], \"histogram2d\": [{\"colorbar\": {\"outlinewidth\": 0, \"ticks\": \"\"}, \"colorscale\": [[0.0, \"#0d0887\"], [0.1111111111111111, \"#46039f\"], [0.2222222222222222, \"#7201a8\"], [0.3333333333333333, \"#9c179e\"], [0.4444444444444444, \"#bd3786\"], [0.5555555555555556, \"#d8576b\"], [0.6666666666666666, \"#ed7953\"], [0.7777777777777778, \"#fb9f3a\"], [0.8888888888888888, \"#fdca26\"], [1.0, \"#f0f921\"]], \"type\": \"histogram2d\"}], \"histogram2dcontour\": [{\"colorbar\": {\"outlinewidth\": 0, \"ticks\": \"\"}, \"colorscale\": [[0.0, \"#0d0887\"], [0.1111111111111111, \"#46039f\"], [0.2222222222222222, \"#7201a8\"], [0.3333333333333333, \"#9c179e\"], [0.4444444444444444, \"#bd3786\"], [0.5555555555555556, \"#d8576b\"], [0.6666666666666666, \"#ed7953\"], [0.7777777777777778, \"#fb9f3a\"], [0.8888888888888888, \"#fdca26\"], [1.0, \"#f0f921\"]], \"type\": \"histogram2dcontour\"}], \"mesh3d\": [{\"colorbar\": {\"outlinewidth\": 0, \"ticks\": \"\"}, \"type\": \"mesh3d\"}], \"parcoords\": [{\"line\": {\"colorbar\": {\"outlinewidth\": 0, \"ticks\": \"\"}}, \"type\": \"parcoords\"}], \"pie\": [{\"automargin\": true, \"type\": \"pie\"}], \"scatter\": [{\"marker\": {\"colorbar\": {\"outlinewidth\": 0, \"ticks\": \"\"}}, \"type\": \"scatter\"}], \"scatter3d\": [{\"line\": {\"colorbar\": {\"outlinewidth\": 0, \"ticks\": \"\"}}, \"marker\": {\"colorbar\": {\"outlinewidth\": 0, \"ticks\": \"\"}}, \"type\": \"scatter3d\"}], \"scattercarpet\": [{\"marker\": {\"colorbar\": {\"outlinewidth\": 0, \"ticks\": \"\"}}, \"type\": \"scattercarpet\"}], \"scattergeo\": [{\"marker\": {\"colorbar\": {\"outlinewidth\": 0, \"ticks\": \"\"}}, \"type\": \"scattergeo\"}], \"scattergl\": [{\"marker\": {\"colorbar\": {\"outlinewidth\": 0, \"ticks\": \"\"}}, \"type\": \"scattergl\"}], \"scattermapbox\": [{\"marker\": {\"colorbar\": {\"outlinewidth\": 0, \"ticks\": \"\"}}, \"type\": \"scattermapbox\"}], \"scatterpolar\": [{\"marker\": {\"colorbar\": {\"outlinewidth\": 0, \"ticks\": \"\"}}, \"type\": \"scatterpolar\"}], \"scatterpolargl\": [{\"marker\": {\"colorbar\": {\"outlinewidth\": 0, \"ticks\": \"\"}}, \"type\": \"scatterpolargl\"}], \"scatterternary\": [{\"marker\": {\"colorbar\": {\"outlinewidth\": 0, \"ticks\": \"\"}}, \"type\": \"scatterternary\"}], \"surface\": [{\"colorbar\": {\"outlinewidth\": 0, \"ticks\": \"\"}, \"colorscale\": [[0.0, \"#0d0887\"], [0.1111111111111111, \"#46039f\"], [0.2222222222222222, \"#7201a8\"], [0.3333333333333333, \"#9c179e\"], [0.4444444444444444, \"#bd3786\"], [0.5555555555555556, \"#d8576b\"], [0.6666666666666666, \"#ed7953\"], [0.7777777777777778, \"#fb9f3a\"], [0.8888888888888888, \"#fdca26\"], [1.0, \"#f0f921\"]], \"type\": \"surface\"}], \"table\": [{\"cells\": {\"fill\": {\"color\": \"#EBF0F8\"}, \"line\": {\"color\": \"white\"}}, \"header\": {\"fill\": {\"color\": \"#C8D4E3\"}, \"line\": {\"color\": \"white\"}}, \"type\": \"table\"}]}, \"layout\": {\"annotationdefaults\": {\"arrowcolor\": \"#2a3f5f\", \"arrowhead\": 0, \"arrowwidth\": 1}, \"coloraxis\": {\"colorbar\": {\"outlinewidth\": 0, \"ticks\": \"\"}}, \"colorscale\": {\"diverging\": [[0, \"#8e0152\"], [0.1, \"#c51b7d\"], [0.2, \"#de77ae\"], [0.3, \"#f1b6da\"], [0.4, \"#fde0ef\"], [0.5, \"#f7f7f7\"], [0.6, \"#e6f5d0\"], [0.7, \"#b8e186\"], [0.8, \"#7fbc41\"], [0.9, \"#4d9221\"], [1, \"#276419\"]], \"sequential\": [[0.0, \"#0d0887\"], [0.1111111111111111, \"#46039f\"], [0.2222222222222222, \"#7201a8\"], [0.3333333333333333, \"#9c179e\"], [0.4444444444444444, \"#bd3786\"], [0.5555555555555556, \"#d8576b\"], [0.6666666666666666, \"#ed7953\"], [0.7777777777777778, \"#fb9f3a\"], [0.8888888888888888, \"#fdca26\"], [1.0, \"#f0f921\"]], \"sequentialminus\": [[0.0, \"#0d0887\"], [0.1111111111111111, \"#46039f\"], [0.2222222222222222, \"#7201a8\"], [0.3333333333333333, \"#9c179e\"], [0.4444444444444444, \"#bd3786\"], [0.5555555555555556, \"#d8576b\"], [0.6666666666666666, \"#ed7953\"], [0.7777777777777778, \"#fb9f3a\"], [0.8888888888888888, \"#fdca26\"], [1.0, \"#f0f921\"]]}, \"colorway\": [\"#636efa\", \"#EF553B\", \"#00cc96\", \"#ab63fa\", \"#FFA15A\", \"#19d3f3\", \"#FF6692\", \"#B6E880\", \"#FF97FF\", \"#FECB52\"], \"font\": {\"color\": \"#2a3f5f\"}, \"geo\": {\"bgcolor\": \"white\", \"lakecolor\": \"white\", \"landcolor\": \"#E5ECF6\", \"showlakes\": true, \"showland\": true, \"subunitcolor\": \"white\"}, \"hoverlabel\": {\"align\": \"left\"}, \"hovermode\": \"closest\", \"mapbox\": {\"style\": \"light\"}, \"paper_bgcolor\": \"white\", \"plot_bgcolor\": \"#E5ECF6\", \"polar\": {\"angularaxis\": {\"gridcolor\": \"white\", \"linecolor\": \"white\", \"ticks\": \"\"}, \"bgcolor\": \"#E5ECF6\", \"radialaxis\": {\"gridcolor\": \"white\", \"linecolor\": \"white\", \"ticks\": \"\"}}, \"scene\": {\"xaxis\": {\"backgroundcolor\": \"#E5ECF6\", \"gridcolor\": \"white\", \"gridwidth\": 2, \"linecolor\": \"white\", \"showbackground\": true, \"ticks\": \"\", \"zerolinecolor\": \"white\"}, \"yaxis\": {\"backgroundcolor\": \"#E5ECF6\", \"gridcolor\": \"white\", \"gridwidth\": 2, \"linecolor\": \"white\", \"showbackground\": true, \"ticks\": \"\", \"zerolinecolor\": \"white\"}, \"zaxis\": {\"backgroundcolor\": \"#E5ECF6\", \"gridcolor\": \"white\", \"gridwidth\": 2, \"linecolor\": \"white\", \"showbackground\": true, \"ticks\": \"\", \"zerolinecolor\": \"white\"}}, \"shapedefaults\": {\"line\": {\"color\": \"#2a3f5f\"}}, \"ternary\": {\"aaxis\": {\"gridcolor\": \"white\", \"linecolor\": \"white\", \"ticks\": \"\"}, \"baxis\": {\"gridcolor\": \"white\", \"linecolor\": \"white\", \"ticks\": \"\"}, \"bgcolor\": \"#E5ECF6\", \"caxis\": {\"gridcolor\": \"white\", \"linecolor\": \"white\", \"ticks\": \"\"}}, \"title\": {\"x\": 0.05}, \"xaxis\": {\"automargin\": true, \"gridcolor\": \"white\", \"linecolor\": \"white\", \"ticks\": \"\", \"title\": {\"standoff\": 15}, \"zerolinecolor\": \"white\", \"zerolinewidth\": 2}, \"yaxis\": {\"automargin\": true, \"gridcolor\": \"white\", \"linecolor\": \"white\", \"ticks\": \"\", \"title\": {\"standoff\": 15}, \"zerolinecolor\": \"white\", \"zerolinewidth\": 2}}}, \"updatemenus\": [{\"buttons\": [{\"args\": [null, {\"frame\": {\"duration\": 500, \"redraw\": true}, \"fromcurrent\": true, \"mode\": \"immediate\", \"transition\": {\"duration\": 500, \"easing\": \"linear\"}}], \"label\": \"&#9654;\", \"method\": \"animate\"}, {\"args\": [[null], {\"frame\": {\"duration\": 0, \"redraw\": true}, \"fromcurrent\": true, \"mode\": \"immediate\", \"transition\": {\"duration\": 0, \"easing\": \"linear\"}}], \"label\": \"&#9724;\", \"method\": \"animate\"}], \"direction\": \"left\", \"pad\": {\"r\": 10, \"t\": 70}, \"showactive\": false, \"type\": \"buttons\", \"x\": 0.1, \"xanchor\": \"right\", \"y\": 0, \"yanchor\": \"top\"}]},\n",
       "                        {\"responsive\": true}\n",
       "                    ).then(function(){\n",
       "                            Plotly.addFrames('b860fb06-35f9-41ce-9785-c2cf635957e2', [{\"data\": [{\"geo\": \"geo\", \"hovertemplate\": \"<b>%{hovertext}</b><br><br>Search query compared to previous year =positive<br>Date =2019-03-11<br>Search query value =%{marker.size}<br>Country abbreviation =%{location}<extra></extra>\", \"hovertext\": [\"uk\", \"nl\", \"ger\"], \"legendgroup\": \"positive\", \"locations\": [\"GBR\", \"NLD\", \"DEU\"], \"marker\": {\"color\": \"#636efa\", \"size\": [0.0, 1.0, 11.0], \"sizemode\": \"area\", \"sizeref\": 0.1425}, \"name\": \"positive\", \"showlegend\": true, \"type\": \"scattergeo\"}], \"name\": \"2019-03-11\"}, {\"data\": [{\"geo\": \"geo\", \"hovertemplate\": \"<b>%{hovertext}</b><br><br>Search query compared to previous year =positive<br>Date =2019-10-11<br>Search query value =%{marker.size}<br>Country abbreviation =%{location}<extra></extra>\", \"hovertext\": [\"uk\", \"nl\", \"ger\"], \"legendgroup\": \"positive\", \"locations\": [\"GBR\", \"NLD\", \"DEU\"], \"marker\": {\"color\": \"#636efa\", \"size\": [2.0, 2.0, 8.0], \"sizemode\": \"area\", \"sizeref\": 0.1425}, \"name\": \"positive\", \"showlegend\": true, \"type\": \"scattergeo\"}], \"name\": \"2019-10-11\"}, {\"data\": [{\"geo\": \"geo\", \"hovertemplate\": \"<b>%{hovertext}</b><br><br>Search query compared to previous year =positive<br>Date =2019-11-17<br>Search query value =%{marker.size}<br>Country abbreviation =%{location}<extra></extra>\", \"hovertext\": [\"uk\", \"nl\", \"ger\"], \"legendgroup\": \"positive\", \"locations\": [\"GBR\", \"NLD\", \"DEU\"], \"marker\": {\"color\": \"#636efa\", \"size\": [3.0, 6.0, 9.0], \"sizemode\": \"area\", \"sizeref\": 0.1425}, \"name\": \"positive\", \"showlegend\": true, \"type\": \"scattergeo\"}], \"name\": \"2019-11-17\"}, {\"data\": [{\"geo\": \"geo\", \"hovertemplate\": \"<b>%{hovertext}</b><br><br>Search query compared to previous year =positive<br>Date =2019-11-24<br>Search query value =%{marker.size}<br>Country abbreviation =%{location}<extra></extra>\", \"hovertext\": [\"nl\", \"ger\"], \"legendgroup\": \"positive\", \"locations\": [\"NLD\", \"DEU\"], \"marker\": {\"color\": \"#636efa\", \"size\": [1.0, 5.0], \"sizemode\": \"area\", \"sizeref\": 0.1425}, \"name\": \"positive\", \"showlegend\": true, \"type\": \"scattergeo\"}, {\"geo\": \"geo\", \"hovertemplate\": \"<b>%{hovertext}</b><br><br>Search query compared to previous year =negative<br>Date =2019-11-24<br>Search query value =%{marker.size}<br>Country abbreviation =%{location}<extra></extra>\", \"hovertext\": [\"uk\"], \"legendgroup\": \"negative\", \"locations\": [\"GBR\"], \"marker\": {\"color\": \"#EF553B\", \"size\": [2.0], \"sizemode\": \"area\", \"sizeref\": 0.1425}, \"name\": \"negative\", \"showlegend\": true, \"type\": \"scattergeo\"}], \"name\": \"2019-11-24\"}, {\"data\": [{\"geo\": \"geo\", \"hovertemplate\": \"<b>%{hovertext}</b><br><br>Search query compared to previous year =positive<br>Date =2019-01-12<br>Search query value =%{marker.size}<br>Country abbreviation =%{location}<extra></extra>\", \"hovertext\": [\"nl\", \"ger\"], \"legendgroup\": \"positive\", \"locations\": [\"NLD\", \"DEU\"], \"marker\": {\"color\": \"#636efa\", \"size\": [2.0, 3.0], \"sizemode\": \"area\", \"sizeref\": 0.1425}, \"name\": \"positive\", \"showlegend\": true, \"type\": \"scattergeo\"}, {\"geo\": \"geo\", \"hovertemplate\": \"<b>%{hovertext}</b><br><br>Search query compared to previous year =negative<br>Date =2019-01-12<br>Search query value =%{marker.size}<br>Country abbreviation =%{location}<extra></extra>\", \"hovertext\": [\"uk\"], \"legendgroup\": \"negative\", \"locations\": [\"GBR\"], \"marker\": {\"color\": \"#EF553B\", \"size\": [3.0], \"sizemode\": \"area\", \"sizeref\": 0.1425}, \"name\": \"negative\", \"showlegend\": true, \"type\": \"scattergeo\"}], \"name\": \"2019-01-12\"}, {\"data\": [{\"geo\": \"geo\", \"hovertemplate\": \"<b>%{hovertext}</b><br><br>Search query compared to previous year =positive<br>Date =2019-08-12<br>Search query value =%{marker.size}<br>Country abbreviation =%{location}<extra></extra>\", \"hovertext\": [\"uk\", \"nl\", \"ger\"], \"legendgroup\": \"positive\", \"locations\": [\"GBR\", \"NLD\", \"DEU\"], \"marker\": {\"color\": \"#636efa\", \"size\": [7.0, 1.0, 3.0], \"sizemode\": \"area\", \"sizeref\": 0.1425}, \"name\": \"positive\", \"showlegend\": true, \"type\": \"scattergeo\"}], \"name\": \"2019-08-12\"}, {\"data\": [{\"geo\": \"geo\", \"hovertemplate\": \"<b>%{hovertext}</b><br><br>Search query compared to previous year =positive<br>Date =2019-12-15<br>Search query value =%{marker.size}<br>Country abbreviation =%{location}<extra></extra>\", \"hovertext\": [\"uk\", \"ger\"], \"legendgroup\": \"positive\", \"locations\": [\"GBR\", \"DEU\"], \"marker\": {\"color\": \"#636efa\", \"size\": [6.0, 6.0], \"sizemode\": \"area\", \"sizeref\": 0.1425}, \"name\": \"positive\", \"showlegend\": true, \"type\": \"scattergeo\"}, {\"geo\": \"geo\", \"hovertemplate\": \"<b>%{hovertext}</b><br><br>Search query compared to previous year =negative<br>Date =2019-12-15<br>Search query value =%{marker.size}<br>Country abbreviation =%{location}<extra></extra>\", \"hovertext\": [\"nl\"], \"legendgroup\": \"negative\", \"locations\": [\"NLD\"], \"marker\": {\"color\": \"#EF553B\", \"size\": [4.0], \"sizemode\": \"area\", \"sizeref\": 0.1425}, \"name\": \"negative\", \"showlegend\": true, \"type\": \"scattergeo\"}], \"name\": \"2019-12-15\"}, {\"data\": [{\"geo\": \"geo\", \"hovertemplate\": \"<b>%{hovertext}</b><br><br>Search query compared to previous year =positive<br>Date =2019-12-22<br>Search query value =%{marker.size}<br>Country abbreviation =%{location}<extra></extra>\", \"hovertext\": [\"uk\", \"nl\", \"ger\"], \"legendgroup\": \"positive\", \"locations\": [\"GBR\", \"NLD\", \"DEU\"], \"marker\": {\"color\": \"#636efa\", \"size\": [3.0, 3.0, 7.0], \"sizemode\": \"area\", \"sizeref\": 0.1425}, \"name\": \"positive\", \"showlegend\": true, \"type\": \"scattergeo\"}], \"name\": \"2019-12-22\"}, {\"data\": [{\"geo\": \"geo\", \"hovertemplate\": \"<b>%{hovertext}</b><br><br>Search query compared to previous year =positive<br>Date =2019-12-29<br>Search query value =%{marker.size}<br>Country abbreviation =%{location}<extra></extra>\", \"hovertext\": [\"uk\", \"nl\", \"ger\"], \"legendgroup\": \"positive\", \"locations\": [\"GBR\", \"NLD\", \"DEU\"], \"marker\": {\"color\": \"#636efa\", \"size\": [6.0, 0.0, 15.0], \"sizemode\": \"area\", \"sizeref\": 0.1425}, \"name\": \"positive\", \"showlegend\": true, \"type\": \"scattergeo\"}], \"name\": \"2019-12-29\"}, {\"data\": [{\"geo\": \"geo\", \"hovertemplate\": \"<b>%{hovertext}</b><br><br>Search query compared to previous year =positive<br>Date =2020-05-01<br>Search query value =%{marker.size}<br>Country abbreviation =%{location}<extra></extra>\", \"hovertext\": [\"uk\", \"nl\", \"ger\"], \"legendgroup\": \"positive\", \"locations\": [\"GBR\", \"NLD\", \"DEU\"], \"marker\": {\"color\": \"#636efa\", \"size\": [0.0, 1.0, 10.0], \"sizemode\": \"area\", \"sizeref\": 0.1425}, \"name\": \"positive\", \"showlegend\": true, \"type\": \"scattergeo\"}], \"name\": \"2020-05-01\"}, {\"data\": [{\"geo\": \"geo\", \"hovertemplate\": \"<b>%{hovertext}</b><br><br>Search query compared to previous year =positive<br>Date =2020-12-01<br>Search query value =%{marker.size}<br>Country abbreviation =%{location}<extra></extra>\", \"hovertext\": [\"uk\", \"nl\", \"ger\"], \"legendgroup\": \"positive\", \"locations\": [\"GBR\", \"NLD\", \"DEU\"], \"marker\": {\"color\": \"#636efa\", \"size\": [3.0, 10.0, 9.0], \"sizemode\": \"area\", \"sizeref\": 0.1425}, \"name\": \"positive\", \"showlegend\": true, \"type\": \"scattergeo\"}], \"name\": \"2020-12-01\"}, {\"data\": [{\"geo\": \"geo\", \"hovertemplate\": \"<b>%{hovertext}</b><br><br>Search query compared to previous year =positive<br>Date =2020-01-19<br>Search query value =%{marker.size}<br>Country abbreviation =%{location}<extra></extra>\", \"hovertext\": [\"uk\", \"nl\", \"ger\"], \"legendgroup\": \"positive\", \"locations\": [\"GBR\", \"NLD\", \"DEU\"], \"marker\": {\"color\": \"#636efa\", \"size\": [2.0, 7.0, 11.0], \"sizemode\": \"area\", \"sizeref\": 0.1425}, \"name\": \"positive\", \"showlegend\": true, \"type\": \"scattergeo\"}], \"name\": \"2020-01-19\"}, {\"data\": [{\"geo\": \"geo\", \"hovertemplate\": \"<b>%{hovertext}</b><br><br>Search query compared to previous year =positive<br>Date =2020-01-26<br>Search query value =%{marker.size}<br>Country abbreviation =%{location}<extra></extra>\", \"hovertext\": [\"uk\", \"nl\", \"ger\"], \"legendgroup\": \"positive\", \"locations\": [\"GBR\", \"NLD\", \"DEU\"], \"marker\": {\"color\": \"#636efa\", \"size\": [5.0, 4.0, 9.0], \"sizemode\": \"area\", \"sizeref\": 0.1425}, \"name\": \"positive\", \"showlegend\": true, \"type\": \"scattergeo\"}], \"name\": \"2020-01-26\"}, {\"data\": [{\"geo\": \"geo\", \"hovertemplate\": \"<b>%{hovertext}</b><br><br>Search query compared to previous year =positive<br>Date =2020-02-02<br>Search query value =%{marker.size}<br>Country abbreviation =%{location}<extra></extra>\", \"hovertext\": [\"ger\"], \"legendgroup\": \"positive\", \"locations\": [\"DEU\"], \"marker\": {\"color\": \"#636efa\", \"size\": [2.0], \"sizemode\": \"area\", \"sizeref\": 0.1425}, \"name\": \"positive\", \"showlegend\": true, \"type\": \"scattergeo\"}, {\"geo\": \"geo\", \"hovertemplate\": \"<b>%{hovertext}</b><br><br>Search query compared to previous year =negative<br>Date =2020-02-02<br>Search query value =%{marker.size}<br>Country abbreviation =%{location}<extra></extra>\", \"hovertext\": [\"uk\", \"nl\"], \"legendgroup\": \"negative\", \"locations\": [\"GBR\", \"NLD\"], \"marker\": {\"color\": \"#EF553B\", \"size\": [2.0, 1.0], \"sizemode\": \"area\", \"sizeref\": 0.1425}, \"name\": \"negative\", \"showlegend\": true, \"type\": \"scattergeo\"}], \"name\": \"2020-02-02\"}, {\"data\": [{\"geo\": \"geo\", \"hovertemplate\": \"<b>%{hovertext}</b><br><br>Search query compared to previous year =positive<br>Date =2020-09-02<br>Search query value =%{marker.size}<br>Country abbreviation =%{location}<extra></extra>\", \"hovertext\": [\"nl\", \"ger\"], \"legendgroup\": \"positive\", \"locations\": [\"NLD\", \"DEU\"], \"marker\": {\"color\": \"#636efa\", \"size\": [3.0, 3.0], \"sizemode\": \"area\", \"sizeref\": 0.1425}, \"name\": \"positive\", \"showlegend\": true, \"type\": \"scattergeo\"}, {\"geo\": \"geo\", \"hovertemplate\": \"<b>%{hovertext}</b><br><br>Search query compared to previous year =negative<br>Date =2020-09-02<br>Search query value =%{marker.size}<br>Country abbreviation =%{location}<extra></extra>\", \"hovertext\": [\"uk\"], \"legendgroup\": \"negative\", \"locations\": [\"GBR\"], \"marker\": {\"color\": \"#EF553B\", \"size\": [1.0], \"sizemode\": \"area\", \"sizeref\": 0.1425}, \"name\": \"negative\", \"showlegend\": true, \"type\": \"scattergeo\"}], \"name\": \"2020-09-02\"}, {\"data\": [{\"geo\": \"geo\", \"hovertemplate\": \"<b>%{hovertext}</b><br><br>Search query compared to previous year =positive<br>Date =2020-02-16<br>Search query value =%{marker.size}<br>Country abbreviation =%{location}<extra></extra>\", \"hovertext\": [\"uk\", \"nl\", \"ger\"], \"legendgroup\": \"positive\", \"locations\": [\"GBR\", \"NLD\", \"DEU\"], \"marker\": {\"color\": \"#636efa\", \"size\": [0.0, 1.0, 5.0], \"sizemode\": \"area\", \"sizeref\": 0.1425}, \"name\": \"positive\", \"showlegend\": true, \"type\": \"scattergeo\"}], \"name\": \"2020-02-16\"}, {\"data\": [{\"geo\": \"geo\", \"hovertemplate\": \"<b>%{hovertext}</b><br><br>Search query compared to previous year =positive<br>Date =2020-02-23<br>Search query value =%{marker.size}<br>Country abbreviation =%{location}<extra></extra>\", \"hovertext\": [\"nl\"], \"legendgroup\": \"positive\", \"locations\": [\"NLD\"], \"marker\": {\"color\": \"#636efa\", \"size\": [8.0], \"sizemode\": \"area\", \"sizeref\": 0.1425}, \"name\": \"positive\", \"showlegend\": true, \"type\": \"scattergeo\"}, {\"geo\": \"geo\", \"hovertemplate\": \"<b>%{hovertext}</b><br><br>Search query compared to previous year =negative<br>Date =2020-02-23<br>Search query value =%{marker.size}<br>Country abbreviation =%{location}<extra></extra>\", \"hovertext\": [\"uk\", \"ger\"], \"legendgroup\": \"negative\", \"locations\": [\"GBR\", \"DEU\"], \"marker\": {\"color\": \"#EF553B\", \"size\": [1.0, 2.0], \"sizemode\": \"area\", \"sizeref\": 0.1425}, \"name\": \"negative\", \"showlegend\": true, \"type\": \"scattergeo\"}], \"name\": \"2020-02-23\"}, {\"data\": [{\"geo\": \"geo\", \"hovertemplate\": \"<b>%{hovertext}</b><br><br>Search query compared to previous year =negative<br>Date =2020-01-03<br>Search query value =%{marker.size}<br>Country abbreviation =%{location}<extra></extra>\", \"hovertext\": [\"uk\", \"nl\", \"ger\"], \"legendgroup\": \"negative\", \"locations\": [\"GBR\", \"NLD\", \"DEU\"], \"marker\": {\"color\": \"#EF553B\", \"size\": [3.0, 3.0, 7.0], \"sizemode\": \"area\", \"sizeref\": 0.1425}, \"name\": \"negative\", \"showlegend\": true, \"type\": \"scattergeo\"}], \"name\": \"2020-01-03\"}, {\"data\": [{\"geo\": \"geo\", \"hovertemplate\": \"<b>%{hovertext}</b><br><br>Search query compared to previous year =negative<br>Date =2020-08-03<br>Search query value =%{marker.size}<br>Country abbreviation =%{location}<extra></extra>\", \"hovertext\": [\"uk\", \"nl\", \"ger\"], \"legendgroup\": \"negative\", \"locations\": [\"GBR\", \"NLD\", \"DEU\"], \"marker\": {\"color\": \"#EF553B\", \"size\": [17.0, 13.0, 19.0], \"sizemode\": \"area\", \"sizeref\": 0.1425}, \"name\": \"negative\", \"showlegend\": true, \"type\": \"scattergeo\"}], \"name\": \"2020-08-03\"}, {\"data\": [{\"geo\": \"geo\", \"hovertemplate\": \"<b>%{hovertext}</b><br><br>Search query compared to previous year =negative<br>Date =2020-03-15<br>Search query value =%{marker.size}<br>Country abbreviation =%{location}<extra></extra>\", \"hovertext\": [\"uk\", \"nl\", \"ger\"], \"legendgroup\": \"negative\", \"locations\": [\"GBR\", \"NLD\", \"DEU\"], \"marker\": {\"color\": \"#EF553B\", \"size\": [35.0, 36.0, 37.0], \"sizemode\": \"area\", \"sizeref\": 0.1425}, \"name\": \"negative\", \"showlegend\": true, \"type\": \"scattergeo\"}], \"name\": \"2020-03-15\"}, {\"data\": [{\"geo\": \"geo\", \"hovertemplate\": \"<b>%{hovertext}</b><br><br>Search query compared to previous year =negative<br>Date =2020-03-22<br>Search query value =%{marker.size}<br>Country abbreviation =%{location}<extra></extra>\", \"hovertext\": [\"uk\", \"nl\", \"ger\"], \"legendgroup\": \"negative\", \"locations\": [\"GBR\", \"NLD\", \"DEU\"], \"marker\": {\"color\": \"#EF553B\", \"size\": [47.0, 43.0, 51.0], \"sizemode\": \"area\", \"sizeref\": 0.1425}, \"name\": \"negative\", \"showlegend\": true, \"type\": \"scattergeo\"}], \"name\": \"2020-03-22\"}, {\"data\": [{\"geo\": \"geo\", \"hovertemplate\": \"<b>%{hovertext}</b><br><br>Search query compared to previous year =negative<br>Date =2020-03-29<br>Search query value =%{marker.size}<br>Country abbreviation =%{location}<extra></extra>\", \"hovertext\": [\"uk\", \"nl\", \"ger\"], \"legendgroup\": \"negative\", \"locations\": [\"GBR\", \"NLD\", \"DEU\"], \"marker\": {\"color\": \"#EF553B\", \"size\": [43.0, 40.0, 45.0], \"sizemode\": \"area\", \"sizeref\": 0.1425}, \"name\": \"negative\", \"showlegend\": true, \"type\": \"scattergeo\"}], \"name\": \"2020-03-29\"}, {\"data\": [{\"geo\": \"geo\", \"hovertemplate\": \"<b>%{hovertext}</b><br><br>Search query compared to previous year =negative<br>Date =2020-05-04<br>Search query value =%{marker.size}<br>Country abbreviation =%{location}<extra></extra>\", \"hovertext\": [\"uk\", \"nl\", \"ger\"], \"legendgroup\": \"negative\", \"locations\": [\"GBR\", \"NLD\", \"DEU\"], \"marker\": {\"color\": \"#EF553B\", \"size\": [44.0, 45.0, 46.0], \"sizemode\": \"area\", \"sizeref\": 0.1425}, \"name\": \"negative\", \"showlegend\": true, \"type\": \"scattergeo\"}], \"name\": \"2020-05-04\"}, {\"data\": [{\"geo\": \"geo\", \"hovertemplate\": \"<b>%{hovertext}</b><br><br>Search query compared to previous year =negative<br>Date =2020-12-04<br>Search query value =%{marker.size}<br>Country abbreviation =%{location}<extra></extra>\", \"hovertext\": [\"uk\", \"nl\", \"ger\"], \"legendgroup\": \"negative\", \"locations\": [\"GBR\", \"NLD\", \"DEU\"], \"marker\": {\"color\": \"#EF553B\", \"size\": [42.0, 42.0, 57.0], \"sizemode\": \"area\", \"sizeref\": 0.1425}, \"name\": \"negative\", \"showlegend\": true, \"type\": \"scattergeo\"}], \"name\": \"2020-12-04\"}, {\"data\": [{\"geo\": \"geo\", \"hovertemplate\": \"<b>%{hovertext}</b><br><br>Search query compared to previous year =negative<br>Date =2020-04-19<br>Search query value =%{marker.size}<br>Country abbreviation =%{location}<extra></extra>\", \"hovertext\": [\"uk\", \"nl\", \"ger\"], \"legendgroup\": \"negative\", \"locations\": [\"GBR\", \"NLD\", \"DEU\"], \"marker\": {\"color\": \"#EF553B\", \"size\": [38.0, 44.0, 50.0], \"sizemode\": \"area\", \"sizeref\": 0.1425}, \"name\": \"negative\", \"showlegend\": true, \"type\": \"scattergeo\"}], \"name\": \"2020-04-19\"}, {\"data\": [{\"geo\": \"geo\", \"hovertemplate\": \"<b>%{hovertext}</b><br><br>Search query compared to previous year =negative<br>Date =2020-04-26<br>Search query value =%{marker.size}<br>Country abbreviation =%{location}<extra></extra>\", \"hovertext\": [\"uk\", \"nl\", \"ger\"], \"legendgroup\": \"negative\", \"locations\": [\"GBR\", \"NLD\", \"DEU\"], \"marker\": {\"color\": \"#EF553B\", \"size\": [38.0, 48.0, 45.0], \"sizemode\": \"area\", \"sizeref\": 0.1425}, \"name\": \"negative\", \"showlegend\": true, \"type\": \"scattergeo\"}], \"name\": \"2020-04-26\"}, {\"data\": [{\"geo\": \"geo\", \"hovertemplate\": \"<b>%{hovertext}</b><br><br>Search query compared to previous year =negative<br>Date =2020-03-05<br>Search query value =%{marker.size}<br>Country abbreviation =%{location}<extra></extra>\", \"hovertext\": [\"uk\", \"nl\", \"ger\"], \"legendgroup\": \"negative\", \"locations\": [\"GBR\", \"NLD\", \"DEU\"], \"marker\": {\"color\": \"#EF553B\", \"size\": [38.0, 35.0, 41.0], \"sizemode\": \"area\", \"sizeref\": 0.1425}, \"name\": \"negative\", \"showlegend\": true, \"type\": \"scattergeo\"}], \"name\": \"2020-03-05\"}, {\"data\": [{\"geo\": \"geo\", \"hovertemplate\": \"<b>%{hovertext}</b><br><br>Search query compared to previous year =negative<br>Date =2020-10-05<br>Search query value =%{marker.size}<br>Country abbreviation =%{location}<extra></extra>\", \"hovertext\": [\"uk\", \"nl\", \"ger\"], \"legendgroup\": \"negative\", \"locations\": [\"GBR\", \"NLD\", \"DEU\"], \"marker\": {\"color\": \"#EF553B\", \"size\": [39.0, 37.0, 25.0], \"sizemode\": \"area\", \"sizeref\": 0.1425}, \"name\": \"negative\", \"showlegend\": true, \"type\": \"scattergeo\"}], \"name\": \"2020-10-05\"}, {\"data\": [{\"geo\": \"geo\", \"hovertemplate\": \"<b>%{hovertext}</b><br><br>Search query compared to previous year =negative<br>Date =2020-05-17<br>Search query value =%{marker.size}<br>Country abbreviation =%{location}<extra></extra>\", \"hovertext\": [\"uk\", \"nl\", \"ger\"], \"legendgroup\": \"negative\", \"locations\": [\"GBR\", \"NLD\", \"DEU\"], \"marker\": {\"color\": \"#EF553B\", \"size\": [40.0, 30.0, 7.0], \"sizemode\": \"area\", \"sizeref\": 0.1425}, \"name\": \"negative\", \"showlegend\": true, \"type\": \"scattergeo\"}], \"name\": \"2020-05-17\"}, {\"data\": [{\"geo\": \"geo\", \"hovertemplate\": \"<b>%{hovertext}</b><br><br>Search query compared to previous year =negative<br>Date =2020-05-24<br>Search query value =%{marker.size}<br>Country abbreviation =%{location}<extra></extra>\", \"hovertext\": [\"uk\", \"nl\", \"ger\"], \"legendgroup\": \"negative\", \"locations\": [\"GBR\", \"NLD\", \"DEU\"], \"marker\": {\"color\": \"#EF553B\", \"size\": [43.0, 38.0, 17.0], \"sizemode\": \"area\", \"sizeref\": 0.1425}, \"name\": \"negative\", \"showlegend\": true, \"type\": \"scattergeo\"}], \"name\": \"2020-05-24\"}, {\"data\": [{\"geo\": \"geo\", \"hovertemplate\": \"<b>%{hovertext}</b><br><br>Search query compared to previous year =negative<br>Date =2020-05-31<br>Search query value =%{marker.size}<br>Country abbreviation =%{location}<extra></extra>\", \"hovertext\": [\"uk\", \"nl\", \"ger\"], \"legendgroup\": \"negative\", \"locations\": [\"GBR\", \"NLD\", \"DEU\"], \"marker\": {\"color\": \"#EF553B\", \"size\": [37.0, 9.0, 1.0], \"sizemode\": \"area\", \"sizeref\": 0.1425}, \"name\": \"negative\", \"showlegend\": true, \"type\": \"scattergeo\"}], \"name\": \"2020-05-31\"}, {\"data\": [{\"geo\": \"geo\", \"hovertemplate\": \"<b>%{hovertext}</b><br><br>Search query compared to previous year =negative<br>Date =2020-07-06<br>Search query value =%{marker.size}<br>Country abbreviation =%{location}<extra></extra>\", \"hovertext\": [\"uk\", \"nl\", \"ger\"], \"legendgroup\": \"negative\", \"locations\": [\"GBR\", \"NLD\", \"DEU\"], \"marker\": {\"color\": \"#EF553B\", \"size\": [41.0, 8.0, 3.0], \"sizemode\": \"area\", \"sizeref\": 0.1425}, \"name\": \"negative\", \"showlegend\": true, \"type\": \"scattergeo\"}], \"name\": \"2020-07-06\"}, {\"data\": [{\"geo\": \"geo\", \"hovertemplate\": \"<b>%{hovertext}</b><br><br>Search query compared to previous year =positive<br>Date =2020-06-14<br>Search query value =%{marker.size}<br>Country abbreviation =%{location}<extra></extra>\", \"hovertext\": [\"nl\"], \"legendgroup\": \"positive\", \"locations\": [\"NLD\"], \"marker\": {\"color\": \"#636efa\", \"size\": [0.0], \"sizemode\": \"area\", \"sizeref\": 0.1425}, \"name\": \"positive\", \"showlegend\": true, \"type\": \"scattergeo\"}, {\"geo\": \"geo\", \"hovertemplate\": \"<b>%{hovertext}</b><br><br>Search query compared to previous year =negative<br>Date =2020-06-14<br>Search query value =%{marker.size}<br>Country abbreviation =%{location}<extra></extra>\", \"hovertext\": [\"uk\", \"ger\"], \"legendgroup\": \"negative\", \"locations\": [\"GBR\", \"DEU\"], \"marker\": {\"color\": \"#EF553B\", \"size\": [38.0, 8.0], \"sizemode\": \"area\", \"sizeref\": 0.1425}, \"name\": \"negative\", \"showlegend\": true, \"type\": \"scattergeo\"}], \"name\": \"2020-06-14\"}, {\"data\": [{\"geo\": \"geo\", \"hovertemplate\": \"<b>%{hovertext}</b><br><br>Search query compared to previous year =positive<br>Date =2020-06-21<br>Search query value =%{marker.size}<br>Country abbreviation =%{location}<extra></extra>\", \"hovertext\": [\"nl\", \"ger\"], \"legendgroup\": \"positive\", \"locations\": [\"NLD\", \"DEU\"], \"marker\": {\"color\": \"#636efa\", \"size\": [8.0, 5.0], \"sizemode\": \"area\", \"sizeref\": 0.1425}, \"name\": \"positive\", \"showlegend\": true, \"type\": \"scattergeo\"}, {\"geo\": \"geo\", \"hovertemplate\": \"<b>%{hovertext}</b><br><br>Search query compared to previous year =negative<br>Date =2020-06-21<br>Search query value =%{marker.size}<br>Country abbreviation =%{location}<extra></extra>\", \"hovertext\": [\"uk\"], \"legendgroup\": \"negative\", \"locations\": [\"GBR\"], \"marker\": {\"color\": \"#EF553B\", \"size\": [31.0], \"sizemode\": \"area\", \"sizeref\": 0.1425}, \"name\": \"negative\", \"showlegend\": true, \"type\": \"scattergeo\"}], \"name\": \"2020-06-21\"}, {\"data\": [{\"geo\": \"geo\", \"hovertemplate\": \"<b>%{hovertext}</b><br><br>Search query compared to previous year =positive<br>Date =2020-06-28<br>Search query value =%{marker.size}<br>Country abbreviation =%{location}<extra></extra>\", \"hovertext\": [\"nl\", \"ger\"], \"legendgroup\": \"positive\", \"locations\": [\"NLD\", \"DEU\"], \"marker\": {\"color\": \"#636efa\", \"size\": [7.0, 6.0], \"sizemode\": \"area\", \"sizeref\": 0.1425}, \"name\": \"positive\", \"showlegend\": true, \"type\": \"scattergeo\"}, {\"geo\": \"geo\", \"hovertemplate\": \"<b>%{hovertext}</b><br><br>Search query compared to previous year =negative<br>Date =2020-06-28<br>Search query value =%{marker.size}<br>Country abbreviation =%{location}<extra></extra>\", \"hovertext\": [\"uk\"], \"legendgroup\": \"negative\", \"locations\": [\"GBR\"], \"marker\": {\"color\": \"#EF553B\", \"size\": [23.0], \"sizemode\": \"area\", \"sizeref\": 0.1425}, \"name\": \"negative\", \"showlegend\": true, \"type\": \"scattergeo\"}], \"name\": \"2020-06-28\"}, {\"data\": [{\"geo\": \"geo\", \"hovertemplate\": \"<b>%{hovertext}</b><br><br>Search query compared to previous year =positive<br>Date =2020-05-07<br>Search query value =%{marker.size}<br>Country abbreviation =%{location}<extra></extra>\", \"hovertext\": [\"nl\", \"ger\"], \"legendgroup\": \"positive\", \"locations\": [\"NLD\", \"DEU\"], \"marker\": {\"color\": \"#636efa\", \"size\": [13.0, 8.0], \"sizemode\": \"area\", \"sizeref\": 0.1425}, \"name\": \"positive\", \"showlegend\": true, \"type\": \"scattergeo\"}, {\"geo\": \"geo\", \"hovertemplate\": \"<b>%{hovertext}</b><br><br>Search query compared to previous year =negative<br>Date =2020-05-07<br>Search query value =%{marker.size}<br>Country abbreviation =%{location}<extra></extra>\", \"hovertext\": [\"uk\"], \"legendgroup\": \"negative\", \"locations\": [\"GBR\"], \"marker\": {\"color\": \"#EF553B\", \"size\": [14.0], \"sizemode\": \"area\", \"sizeref\": 0.1425}, \"name\": \"negative\", \"showlegend\": true, \"type\": \"scattergeo\"}], \"name\": \"2020-05-07\"}, {\"data\": [{\"geo\": \"geo\", \"hovertemplate\": \"<b>%{hovertext}</b><br><br>Search query compared to previous year =positive<br>Date =2020-12-07<br>Search query value =%{marker.size}<br>Country abbreviation =%{location}<extra></extra>\", \"hovertext\": [\"nl\", \"ger\"], \"legendgroup\": \"positive\", \"locations\": [\"NLD\", \"DEU\"], \"marker\": {\"color\": \"#636efa\", \"size\": [13.0, 10.0], \"sizemode\": \"area\", \"sizeref\": 0.1425}, \"name\": \"positive\", \"showlegend\": true, \"type\": \"scattergeo\"}, {\"geo\": \"geo\", \"hovertemplate\": \"<b>%{hovertext}</b><br><br>Search query compared to previous year =negative<br>Date =2020-12-07<br>Search query value =%{marker.size}<br>Country abbreviation =%{location}<extra></extra>\", \"hovertext\": [\"uk\"], \"legendgroup\": \"negative\", \"locations\": [\"GBR\"], \"marker\": {\"color\": \"#EF553B\", \"size\": [9.0], \"sizemode\": \"area\", \"sizeref\": 0.1425}, \"name\": \"negative\", \"showlegend\": true, \"type\": \"scattergeo\"}], \"name\": \"2020-12-07\"}, {\"data\": [{\"geo\": \"geo\", \"hovertemplate\": \"<b>%{hovertext}</b><br><br>Search query compared to previous year =positive<br>Date =2020-07-19<br>Search query value =%{marker.size}<br>Country abbreviation =%{location}<extra></extra>\", \"hovertext\": [\"nl\", \"ger\"], \"legendgroup\": \"positive\", \"locations\": [\"NLD\", \"DEU\"], \"marker\": {\"color\": \"#636efa\", \"size\": [20.0, 16.0], \"sizemode\": \"area\", \"sizeref\": 0.1425}, \"name\": \"positive\", \"showlegend\": true, \"type\": \"scattergeo\"}, {\"geo\": \"geo\", \"hovertemplate\": \"<b>%{hovertext}</b><br><br>Search query compared to previous year =negative<br>Date =2020-07-19<br>Search query value =%{marker.size}<br>Country abbreviation =%{location}<extra></extra>\", \"hovertext\": [\"uk\"], \"legendgroup\": \"negative\", \"locations\": [\"GBR\"], \"marker\": {\"color\": \"#EF553B\", \"size\": [3.0], \"sizemode\": \"area\", \"sizeref\": 0.1425}, \"name\": \"negative\", \"showlegend\": true, \"type\": \"scattergeo\"}], \"name\": \"2020-07-19\"}, {\"data\": [{\"geo\": \"geo\", \"hovertemplate\": \"<b>%{hovertext}</b><br><br>Search query compared to previous year =positive<br>Date =2020-07-26<br>Search query value =%{marker.size}<br>Country abbreviation =%{location}<extra></extra>\", \"hovertext\": [\"nl\", \"ger\"], \"legendgroup\": \"positive\", \"locations\": [\"NLD\", \"DEU\"], \"marker\": {\"color\": \"#636efa\", \"size\": [12.0, 10.0], \"sizemode\": \"area\", \"sizeref\": 0.1425}, \"name\": \"positive\", \"showlegend\": true, \"type\": \"scattergeo\"}, {\"geo\": \"geo\", \"hovertemplate\": \"<b>%{hovertext}</b><br><br>Search query compared to previous year =negative<br>Date =2020-07-26<br>Search query value =%{marker.size}<br>Country abbreviation =%{location}<extra></extra>\", \"hovertext\": [\"uk\"], \"legendgroup\": \"negative\", \"locations\": [\"GBR\"], \"marker\": {\"color\": \"#EF553B\", \"size\": [4.0], \"sizemode\": \"area\", \"sizeref\": 0.1425}, \"name\": \"negative\", \"showlegend\": true, \"type\": \"scattergeo\"}], \"name\": \"2020-07-26\"}, {\"data\": [{\"geo\": \"geo\", \"hovertemplate\": \"<b>%{hovertext}</b><br><br>Search query compared to previous year =positive<br>Date =2020-02-08<br>Search query value =%{marker.size}<br>Country abbreviation =%{location}<extra></extra>\", \"hovertext\": [\"uk\", \"nl\", \"ger\"], \"legendgroup\": \"positive\", \"locations\": [\"GBR\", \"NLD\", \"DEU\"], \"marker\": {\"color\": \"#636efa\", \"size\": [13.0, 8.0, 6.0], \"sizemode\": \"area\", \"sizeref\": 0.1425}, \"name\": \"positive\", \"showlegend\": true, \"type\": \"scattergeo\"}], \"name\": \"2020-02-08\"}, {\"data\": [{\"geo\": \"geo\", \"hovertemplate\": \"<b>%{hovertext}</b><br><br>Search query compared to previous year =positive<br>Date =2020-09-08<br>Search query value =%{marker.size}<br>Country abbreviation =%{location}<extra></extra>\", \"hovertext\": [\"uk\", \"nl\", \"ger\"], \"legendgroup\": \"positive\", \"locations\": [\"GBR\", \"NLD\", \"DEU\"], \"marker\": {\"color\": \"#636efa\", \"size\": [16.0, 4.0, 8.0], \"sizemode\": \"area\", \"sizeref\": 0.1425}, \"name\": \"positive\", \"showlegend\": true, \"type\": \"scattergeo\"}], \"name\": \"2020-09-08\"}, {\"data\": [{\"geo\": \"geo\", \"hovertemplate\": \"<b>%{hovertext}</b><br><br>Search query compared to previous year =positive<br>Date =2020-08-16<br>Search query value =%{marker.size}<br>Country abbreviation =%{location}<extra></extra>\", \"hovertext\": [\"uk\", \"nl\", \"ger\"], \"legendgroup\": \"positive\", \"locations\": [\"GBR\", \"NLD\", \"DEU\"], \"marker\": {\"color\": \"#636efa\", \"size\": [25.0, 16.0, 17.0], \"sizemode\": \"area\", \"sizeref\": 0.1425}, \"name\": \"positive\", \"showlegend\": true, \"type\": \"scattergeo\"}], \"name\": \"2020-08-16\"}, {\"data\": [{\"geo\": \"geo\", \"hovertemplate\": \"<b>%{hovertext}</b><br><br>Search query compared to previous year =positive<br>Date =2020-08-23<br>Search query value =%{marker.size}<br>Country abbreviation =%{location}<extra></extra>\", \"hovertext\": [\"uk\", \"nl\", \"ger\"], \"legendgroup\": \"positive\", \"locations\": [\"GBR\", \"NLD\", \"DEU\"], \"marker\": {\"color\": \"#636efa\", \"size\": [26.0, 13.0, 19.0], \"sizemode\": \"area\", \"sizeref\": 0.1425}, \"name\": \"positive\", \"showlegend\": true, \"type\": \"scattergeo\"}], \"name\": \"2020-08-23\"}, {\"data\": [{\"geo\": \"geo\", \"hovertemplate\": \"<b>%{hovertext}</b><br><br>Search query compared to previous year =positive<br>Date =2020-08-30<br>Search query value =%{marker.size}<br>Country abbreviation =%{location}<extra></extra>\", \"hovertext\": [\"uk\", \"nl\", \"ger\"], \"legendgroup\": \"positive\", \"locations\": [\"GBR\", \"NLD\", \"DEU\"], \"marker\": {\"color\": \"#636efa\", \"size\": [17.0, 15.0, 11.0], \"sizemode\": \"area\", \"sizeref\": 0.1425}, \"name\": \"positive\", \"showlegend\": true, \"type\": \"scattergeo\"}], \"name\": \"2020-08-30\"}, {\"data\": [{\"geo\": \"geo\", \"hovertemplate\": \"<b>%{hovertext}</b><br><br>Search query compared to previous year =positive<br>Date =2020-06-09<br>Search query value =%{marker.size}<br>Country abbreviation =%{location}<extra></extra>\", \"hovertext\": [\"uk\", \"nl\", \"ger\"], \"legendgroup\": \"positive\", \"locations\": [\"GBR\", \"NLD\", \"DEU\"], \"marker\": {\"color\": \"#636efa\", \"size\": [1.0, 20.0, 16.0], \"sizemode\": \"area\", \"sizeref\": 0.1425}, \"name\": \"positive\", \"showlegend\": true, \"type\": \"scattergeo\"}], \"name\": \"2020-06-09\"}, {\"data\": [{\"geo\": \"geo\", \"hovertemplate\": \"<b>%{hovertext}</b><br><br>Search query compared to previous year =positive<br>Date =2020-09-13<br>Search query value =%{marker.size}<br>Country abbreviation =%{location}<extra></extra>\", \"hovertext\": [\"nl\", \"ger\"], \"legendgroup\": \"positive\", \"locations\": [\"NLD\", \"DEU\"], \"marker\": {\"color\": \"#636efa\", \"size\": [13.0, 11.0], \"sizemode\": \"area\", \"sizeref\": 0.1425}, \"name\": \"positive\", \"showlegend\": true, \"type\": \"scattergeo\"}, {\"geo\": \"geo\", \"hovertemplate\": \"<b>%{hovertext}</b><br><br>Search query compared to previous year =negative<br>Date =2020-09-13<br>Search query value =%{marker.size}<br>Country abbreviation =%{location}<extra></extra>\", \"hovertext\": [\"uk\"], \"legendgroup\": \"negative\", \"locations\": [\"GBR\"], \"marker\": {\"color\": \"#EF553B\", \"size\": [3.0], \"sizemode\": \"area\", \"sizeref\": 0.1425}, \"name\": \"negative\", \"showlegend\": true, \"type\": \"scattergeo\"}], \"name\": \"2020-09-13\"}, {\"data\": [{\"geo\": \"geo\", \"hovertemplate\": \"<b>%{hovertext}</b><br><br>Search query compared to previous year =positive<br>Date =2020-09-20<br>Search query value =%{marker.size}<br>Country abbreviation =%{location}<extra></extra>\", \"hovertext\": [\"nl\", \"ger\"], \"legendgroup\": \"positive\", \"locations\": [\"NLD\", \"DEU\"], \"marker\": {\"color\": \"#636efa\", \"size\": [8.0, 11.0], \"sizemode\": \"area\", \"sizeref\": 0.1425}, \"name\": \"positive\", \"showlegend\": true, \"type\": \"scattergeo\"}, {\"geo\": \"geo\", \"hovertemplate\": \"<b>%{hovertext}</b><br><br>Search query compared to previous year =negative<br>Date =2020-09-20<br>Search query value =%{marker.size}<br>Country abbreviation =%{location}<extra></extra>\", \"hovertext\": [\"uk\"], \"legendgroup\": \"negative\", \"locations\": [\"GBR\"], \"marker\": {\"color\": \"#EF553B\", \"size\": [5.0], \"sizemode\": \"area\", \"sizeref\": 0.1425}, \"name\": \"negative\", \"showlegend\": true, \"type\": \"scattergeo\"}], \"name\": \"2020-09-20\"}, {\"data\": [{\"geo\": \"geo\", \"hovertemplate\": \"<b>%{hovertext}</b><br><br>Search query compared to previous year =positive<br>Date =2020-09-27<br>Search query value =%{marker.size}<br>Country abbreviation =%{location}<extra></extra>\", \"hovertext\": [\"nl\"], \"legendgroup\": \"positive\", \"locations\": [\"NLD\"], \"marker\": {\"color\": \"#636efa\", \"size\": [0.0], \"sizemode\": \"area\", \"sizeref\": 0.1425}, \"name\": \"positive\", \"showlegend\": true, \"type\": \"scattergeo\"}, {\"geo\": \"geo\", \"hovertemplate\": \"<b>%{hovertext}</b><br><br>Search query compared to previous year =negative<br>Date =2020-09-27<br>Search query value =%{marker.size}<br>Country abbreviation =%{location}<extra></extra>\", \"hovertext\": [\"uk\", \"ger\"], \"legendgroup\": \"negative\", \"locations\": [\"GBR\", \"DEU\"], \"marker\": {\"color\": \"#EF553B\", \"size\": [7.0, 5.0], \"sizemode\": \"area\", \"sizeref\": 0.1425}, \"name\": \"negative\", \"showlegend\": true, \"type\": \"scattergeo\"}], \"name\": \"2020-09-27\"}, {\"data\": [{\"geo\": \"geo\", \"hovertemplate\": \"<b>%{hovertext}</b><br><br>Search query compared to previous year =positive<br>Date =2020-04-10<br>Search query value =%{marker.size}<br>Country abbreviation =%{location}<extra></extra>\", \"hovertext\": [\"ger\"], \"legendgroup\": \"positive\", \"locations\": [\"DEU\"], \"marker\": {\"color\": \"#636efa\", \"size\": [2.0], \"sizemode\": \"area\", \"sizeref\": 0.1425}, \"name\": \"positive\", \"showlegend\": true, \"type\": \"scattergeo\"}, {\"geo\": \"geo\", \"hovertemplate\": \"<b>%{hovertext}</b><br><br>Search query compared to previous year =negative<br>Date =2020-04-10<br>Search query value =%{marker.size}<br>Country abbreviation =%{location}<extra></extra>\", \"hovertext\": [\"uk\", \"nl\"], \"legendgroup\": \"negative\", \"locations\": [\"GBR\", \"NLD\"], \"marker\": {\"color\": \"#EF553B\", \"size\": [11.0, 11.0], \"sizemode\": \"area\", \"sizeref\": 0.1425}, \"name\": \"negative\", \"showlegend\": true, \"type\": \"scattergeo\"}], \"name\": \"2020-04-10\"}, {\"data\": [{\"geo\": \"geo\", \"hovertemplate\": \"<b>%{hovertext}</b><br><br>Search query compared to previous year =negative<br>Date =2020-11-10<br>Search query value =%{marker.size}<br>Country abbreviation =%{location}<extra></extra>\", \"hovertext\": [\"uk\", \"nl\", \"ger\"], \"legendgroup\": \"negative\", \"locations\": [\"GBR\", \"NLD\", \"DEU\"], \"marker\": {\"color\": \"#EF553B\", \"size\": [13.0, 27.0, 6.0], \"sizemode\": \"area\", \"sizeref\": 0.1425}, \"name\": \"negative\", \"showlegend\": true, \"type\": \"scattergeo\"}], \"name\": \"2020-11-10\"}, {\"data\": [{\"geo\": \"geo\", \"hovertemplate\": \"<b>%{hovertext}</b><br><br>Search query compared to previous year =negative<br>Date =2020-10-18<br>Search query value =%{marker.size}<br>Country abbreviation =%{location}<extra></extra>\", \"hovertext\": [\"uk\", \"nl\", \"ger\"], \"legendgroup\": \"negative\", \"locations\": [\"GBR\", \"NLD\", \"DEU\"], \"marker\": {\"color\": \"#EF553B\", \"size\": [17.0, 48.0, 14.0], \"sizemode\": \"area\", \"sizeref\": 0.1425}, \"name\": \"negative\", \"showlegend\": true, \"type\": \"scattergeo\"}], \"name\": \"2020-10-18\"}, {\"data\": [{\"geo\": \"geo\", \"hovertemplate\": \"<b>%{hovertext}</b><br><br>Search query compared to previous year =negative<br>Date =2020-10-25<br>Search query value =%{marker.size}<br>Country abbreviation =%{location}<extra></extra>\", \"hovertext\": [\"uk\", \"nl\", \"ger\"], \"legendgroup\": \"negative\", \"locations\": [\"GBR\", \"NLD\", \"DEU\"], \"marker\": {\"color\": \"#EF553B\", \"size\": [14.0, 43.0, 23.0], \"sizemode\": \"area\", \"sizeref\": 0.1425}, \"name\": \"negative\", \"showlegend\": true, \"type\": \"scattergeo\"}], \"name\": \"2020-10-25\"}, {\"data\": [{\"geo\": \"geo\", \"hovertemplate\": \"<b>%{hovertext}</b><br><br>Search query compared to previous year =negative<br>Date =2020-01-11<br>Search query value =%{marker.size}<br>Country abbreviation =%{location}<extra></extra>\", \"hovertext\": [\"uk\", \"nl\", \"ger\"], \"legendgroup\": \"negative\", \"locations\": [\"GBR\", \"NLD\", \"DEU\"], \"marker\": {\"color\": \"#EF553B\", \"size\": [29.0, 50.0, 50.0], \"sizemode\": \"area\", \"sizeref\": 0.1425}, \"name\": \"negative\", \"showlegend\": true, \"type\": \"scattergeo\"}], \"name\": \"2020-01-11\"}]);\n",
       "                        }).then(function(){\n",
       "                            \n",
       "var gd = document.getElementById('b860fb06-35f9-41ce-9785-c2cf635957e2');\n",
       "var x = new MutationObserver(function (mutations, observer) {{\n",
       "        var display = window.getComputedStyle(gd).display;\n",
       "        if (!display || display === 'none') {{\n",
       "            console.log([gd, 'removed!']);\n",
       "            Plotly.purge(gd);\n",
       "            observer.disconnect();\n",
       "        }}\n",
       "}});\n",
       "\n",
       "// Listen for the removal of the full notebook cells\n",
       "var notebookContainer = gd.closest('#notebook-container');\n",
       "if (notebookContainer) {{\n",
       "    x.observe(notebookContainer, {childList: true});\n",
       "}}\n",
       "\n",
       "// Listen for the clearing of the current output cell\n",
       "var outputEl = gd.closest('.output');\n",
       "if (outputEl) {{\n",
       "    x.observe(outputEl, {childList: true});\n",
       "}}\n",
       "\n",
       "                        })\n",
       "                };\n",
       "                });\n",
       "            </script>\n",
       "        </div>"
      ]
     },
     "metadata": {},
     "output_type": "display_data"
    }
   ],
   "source": [
    "filtered_data = filter_data(df,\"restaurant\")\n",
    "transformed_data = transform_data(filtered_data)\n",
    "\n",
    "fig = px.scatter_geo(transformed_data, \n",
    "                     locations = \"iso_alpha\", \n",
    "                     color=\"score_diff_positive\", \n",
    "                     hover_name=\"country\", \n",
    "                     size=\"score_difference\", # has to be changed to score_difference as soon as values have been transformed to positive values\n",
    "                     animation_frame=\"date_str\", # has to be edited\n",
    "                     labels = {\"score_diff_positive\":\"Search query compared to previous year \",\n",
    "                               \"date_str\": \"Date \",\n",
    "                               \"iso_alpha\":\"Country abbreviation \",\n",
    "                               \"score_difference\":\"Search query value \"\n",
    "                              },\n",
    "                     projection=\"conic conformal\") # to represent Europe: conic conformal OR azimuthal equal area;    \n",
    "fig.update_layout(geo_scope = \"europe\")\n",
    "\n",
    "fig.update_geos(projection_scale = 4, # set value; default = 1 (Europe scale)\n",
    "                # set map extent              \n",
    "                center_lon = 4.895168, # set coordinates of Amsterdam as center of map \n",
    "                center_lat= 52.370216,\n",
    "                showland= False,\n",
    "                showocean = True,\n",
    "                oceancolor=\"#ffffff\")\n",
    "fig.show()\n"
   ]
  },
  {
   "cell_type": "code",
   "execution_count": 38,
   "metadata": {},
   "outputs": [
    {
     "data": {
      "text/html": [
       "<div>\n",
       "<style scoped>\n",
       "    .dataframe tbody tr th:only-of-type {\n",
       "        vertical-align: middle;\n",
       "    }\n",
       "\n",
       "    .dataframe tbody tr th {\n",
       "        vertical-align: top;\n",
       "    }\n",
       "\n",
       "    .dataframe thead th {\n",
       "        text-align: right;\n",
       "    }\n",
       "</style>\n",
       "<table border=\"1\" class=\"dataframe\">\n",
       "  <thead>\n",
       "    <tr style=\"text-align: right;\">\n",
       "      <th></th>\n",
       "      <th>date</th>\n",
       "      <th>score</th>\n",
       "      <th>country</th>\n",
       "      <th>term</th>\n",
       "      <th>translated_term</th>\n",
       "      <th>score_difference</th>\n",
       "      <th>date_str</th>\n",
       "      <th>iso_num</th>\n",
       "      <th>iso_alpha</th>\n",
       "      <th>score_diff_positive</th>\n",
       "    </tr>\n",
       "  </thead>\n",
       "  <tbody>\n",
       "    <tr>\n",
       "      <th>530</th>\n",
       "      <td>2019-11-03</td>\n",
       "      <td>68</td>\n",
       "      <td>uk</td>\n",
       "      <td>restaurant</td>\n",
       "      <td>restaurant</td>\n",
       "      <td>0.0</td>\n",
       "      <td>2019-11-03</td>\n",
       "      <td>826.0</td>\n",
       "      <td>GBR</td>\n",
       "      <td>positive</td>\n",
       "    </tr>\n",
       "    <tr>\n",
       "      <th>531</th>\n",
       "      <td>2019-11-10</td>\n",
       "      <td>69</td>\n",
       "      <td>uk</td>\n",
       "      <td>restaurant</td>\n",
       "      <td>restaurant</td>\n",
       "      <td>2.0</td>\n",
       "      <td>2019-11-10</td>\n",
       "      <td>826.0</td>\n",
       "      <td>GBR</td>\n",
       "      <td>positive</td>\n",
       "    </tr>\n",
       "    <tr>\n",
       "      <th>532</th>\n",
       "      <td>2019-11-17</td>\n",
       "      <td>65</td>\n",
       "      <td>uk</td>\n",
       "      <td>restaurant</td>\n",
       "      <td>restaurant</td>\n",
       "      <td>3.0</td>\n",
       "      <td>2019-11-17</td>\n",
       "      <td>826.0</td>\n",
       "      <td>GBR</td>\n",
       "      <td>positive</td>\n",
       "    </tr>\n",
       "    <tr>\n",
       "      <th>533</th>\n",
       "      <td>2019-11-24</td>\n",
       "      <td>62</td>\n",
       "      <td>uk</td>\n",
       "      <td>restaurant</td>\n",
       "      <td>restaurant</td>\n",
       "      <td>2.0</td>\n",
       "      <td>2019-11-24</td>\n",
       "      <td>826.0</td>\n",
       "      <td>GBR</td>\n",
       "      <td>negative</td>\n",
       "    </tr>\n",
       "    <tr>\n",
       "      <th>534</th>\n",
       "      <td>2019-12-01</td>\n",
       "      <td>62</td>\n",
       "      <td>uk</td>\n",
       "      <td>restaurant</td>\n",
       "      <td>restaurant</td>\n",
       "      <td>3.0</td>\n",
       "      <td>2019-12-01</td>\n",
       "      <td>826.0</td>\n",
       "      <td>GBR</td>\n",
       "      <td>negative</td>\n",
       "    </tr>\n",
       "  </tbody>\n",
       "</table>\n",
       "</div>"
      ],
      "text/plain": [
       "          date  score country        term translated_term  score_difference  \\\n",
       "530 2019-11-03     68      uk  restaurant      restaurant               0.0   \n",
       "531 2019-11-10     69      uk  restaurant      restaurant               2.0   \n",
       "532 2019-11-17     65      uk  restaurant      restaurant               3.0   \n",
       "533 2019-11-24     62      uk  restaurant      restaurant               2.0   \n",
       "534 2019-12-01     62      uk  restaurant      restaurant               3.0   \n",
       "\n",
       "       date_str  iso_num iso_alpha score_diff_positive  \n",
       "530  2019-11-03    826.0       GBR            positive  \n",
       "531  2019-11-10    826.0       GBR            positive  \n",
       "532  2019-11-17    826.0       GBR            positive  \n",
       "533  2019-11-24    826.0       GBR            negative  \n",
       "534  2019-12-01    826.0       GBR            negative  "
      ]
     },
     "execution_count": 38,
     "metadata": {},
     "output_type": "execute_result"
    }
   ],
   "source": [
    "transformed_data.head()"
   ]
  },
  {
   "cell_type": "code",
   "execution_count": 39,
   "metadata": {},
   "outputs": [
    {
     "data": {
      "text/html": [
       "<div>\n",
       "<style scoped>\n",
       "    .dataframe tbody tr th:only-of-type {\n",
       "        vertical-align: middle;\n",
       "    }\n",
       "\n",
       "    .dataframe tbody tr th {\n",
       "        vertical-align: top;\n",
       "    }\n",
       "\n",
       "    .dataframe thead th {\n",
       "        text-align: right;\n",
       "    }\n",
       "</style>\n",
       "<table border=\"1\" class=\"dataframe\">\n",
       "  <thead>\n",
       "    <tr style=\"text-align: right;\">\n",
       "      <th></th>\n",
       "      <th>date</th>\n",
       "      <th>score</th>\n",
       "      <th>country</th>\n",
       "      <th>term</th>\n",
       "      <th>translated_term</th>\n",
       "      <th>score_difference</th>\n",
       "      <th>date_str</th>\n",
       "      <th>iso_num</th>\n",
       "      <th>iso_alpha</th>\n",
       "    </tr>\n",
       "  </thead>\n",
       "  <tbody>\n",
       "    <tr>\n",
       "      <th>53</th>\n",
       "      <td>2019-03-11</td>\n",
       "      <td>28</td>\n",
       "      <td>uk</td>\n",
       "      <td>baking</td>\n",
       "      <td>baking</td>\n",
       "      <td>-1.0</td>\n",
       "      <td>2019-03-11</td>\n",
       "      <td>826.0</td>\n",
       "      <td>GBR</td>\n",
       "    </tr>\n",
       "    <tr>\n",
       "      <th>54</th>\n",
       "      <td>2019-10-11</td>\n",
       "      <td>29</td>\n",
       "      <td>uk</td>\n",
       "      <td>baking</td>\n",
       "      <td>baking</td>\n",
       "      <td>1.0</td>\n",
       "      <td>2019-10-11</td>\n",
       "      <td>826.0</td>\n",
       "      <td>GBR</td>\n",
       "    </tr>\n",
       "    <tr>\n",
       "      <th>55</th>\n",
       "      <td>2019-11-17</td>\n",
       "      <td>31</td>\n",
       "      <td>uk</td>\n",
       "      <td>baking</td>\n",
       "      <td>baking</td>\n",
       "      <td>3.0</td>\n",
       "      <td>2019-11-17</td>\n",
       "      <td>826.0</td>\n",
       "      <td>GBR</td>\n",
       "    </tr>\n",
       "    <tr>\n",
       "      <th>56</th>\n",
       "      <td>2019-11-24</td>\n",
       "      <td>28</td>\n",
       "      <td>uk</td>\n",
       "      <td>baking</td>\n",
       "      <td>baking</td>\n",
       "      <td>0.0</td>\n",
       "      <td>2019-11-24</td>\n",
       "      <td>826.0</td>\n",
       "      <td>GBR</td>\n",
       "    </tr>\n",
       "    <tr>\n",
       "      <th>57</th>\n",
       "      <td>2019-01-12</td>\n",
       "      <td>30</td>\n",
       "      <td>uk</td>\n",
       "      <td>baking</td>\n",
       "      <td>baking</td>\n",
       "      <td>-1.0</td>\n",
       "      <td>2019-01-12</td>\n",
       "      <td>826.0</td>\n",
       "      <td>GBR</td>\n",
       "    </tr>\n",
       "  </tbody>\n",
       "</table>\n",
       "</div>"
      ],
      "text/plain": [
       "         date  score country    term translated_term  score_difference  \\\n",
       "53 2019-03-11     28      uk  baking          baking              -1.0   \n",
       "54 2019-10-11     29      uk  baking          baking               1.0   \n",
       "55 2019-11-17     31      uk  baking          baking               3.0   \n",
       "56 2019-11-24     28      uk  baking          baking               0.0   \n",
       "57 2019-01-12     30      uk  baking          baking              -1.0   \n",
       "\n",
       "      date_str  iso_num iso_alpha  \n",
       "53  2019-03-11    826.0       GBR  \n",
       "54  2019-10-11    826.0       GBR  \n",
       "55  2019-11-17    826.0       GBR  \n",
       "56  2019-11-24    826.0       GBR  \n",
       "57  2019-01-12    826.0       GBR  "
      ]
     },
     "execution_count": 39,
     "metadata": {},
     "output_type": "execute_result"
    }
   ],
   "source": [
    "uk.head()"
   ]
  },
  {
   "cell_type": "code",
   "execution_count": 65,
   "metadata": {},
   "outputs": [
    {
     "data": {
      "application/vnd.plotly.v1+json": {
       "config": {
        "plotlyServerURL": "https://plot.ly"
       },
       "data": [
        {
         "hovertemplate": "country=uk<br>Date=2019-03-11<br>score_difference=%{r}<br>term=%{theta}<extra></extra>",
         "legendgroup": "uk",
         "line": {
          "color": "red",
          "dash": "solid",
          "shape": "spline"
         },
         "mode": "lines",
         "name": "uk",
         "r": [
          -1,
          2,
          6,
          3,
          -1,
          0,
          0,
          0,
          5,
          0,
          3,
          5,
          1,
          2,
          0,
          -1
         ],
         "showlegend": true,
         "subplot": "polar",
         "theta": [
          "baking",
          "bananabread",
          "beans",
          "coffee",
          "cooking",
          "facemask",
          "grocerydelivery",
          "hand-sanitizer",
          "pasta",
          "restaurant",
          "rice",
          "spices",
          "takeaway",
          "to-go",
          "toiletpaper",
          "baking"
         ],
         "type": "scatterpolar"
        }
       ],
       "frames": [
        {
         "data": [
          {
           "hovertemplate": "country=uk<br>Date=2019-03-11<br>score_difference=%{r}<br>term=%{theta}<extra></extra>",
           "legendgroup": "uk",
           "line": {
            "color": "red",
            "dash": "solid",
            "shape": "spline"
           },
           "mode": "lines",
           "name": "uk",
           "r": [
            -1,
            2,
            6,
            3,
            -1,
            0,
            0,
            0,
            5,
            0,
            3,
            5,
            1,
            2,
            0,
            -1
           ],
           "showlegend": true,
           "subplot": "polar",
           "theta": [
            "baking",
            "bananabread",
            "beans",
            "coffee",
            "cooking",
            "facemask",
            "grocerydelivery",
            "hand-sanitizer",
            "pasta",
            "restaurant",
            "rice",
            "spices",
            "takeaway",
            "to-go",
            "toiletpaper",
            "baking"
           ],
           "type": "scatterpolar"
          }
         ],
         "name": "2019-03-11"
        },
        {
         "data": [
          {
           "hovertemplate": "country=uk<br>Date=2019-10-11<br>score_difference=%{r}<br>term=%{theta}<extra></extra>",
           "legendgroup": "uk",
           "line": {
            "color": "red",
            "dash": "solid",
            "shape": "spline"
           },
           "mode": "lines",
           "name": "uk",
           "r": [
            1,
            1,
            8,
            3,
            0,
            0,
            2,
            0,
            4,
            2,
            4,
            -5,
            -7,
            1,
            -1,
            1
           ],
           "showlegend": true,
           "subplot": "polar",
           "theta": [
            "baking",
            "bananabread",
            "beans",
            "coffee",
            "cooking",
            "facemask",
            "grocerydelivery",
            "hand-sanitizer",
            "pasta",
            "restaurant",
            "rice",
            "spices",
            "takeaway",
            "to-go",
            "toiletpaper",
            "baking"
           ],
           "type": "scatterpolar"
          }
         ],
         "name": "2019-10-11"
        },
        {
         "data": [
          {
           "hovertemplate": "country=uk<br>Date=2019-11-17<br>score_difference=%{r}<br>term=%{theta}<extra></extra>",
           "legendgroup": "uk",
           "line": {
            "color": "red",
            "dash": "solid",
            "shape": "spline"
           },
           "mode": "lines",
           "name": "uk",
           "r": [
            3,
            2,
            3,
            0,
            1,
            1,
            2,
            0,
            5,
            3,
            2,
            4,
            -3,
            2,
            -1,
            3
           ],
           "showlegend": true,
           "subplot": "polar",
           "theta": [
            "baking",
            "bananabread",
            "beans",
            "coffee",
            "cooking",
            "facemask",
            "grocerydelivery",
            "hand-sanitizer",
            "pasta",
            "restaurant",
            "rice",
            "spices",
            "takeaway",
            "to-go",
            "toiletpaper",
            "baking"
           ],
           "type": "scatterpolar"
          }
         ],
         "name": "2019-11-17"
        },
        {
         "data": [
          {
           "hovertemplate": "country=uk<br>Date=2019-11-24<br>score_difference=%{r}<br>term=%{theta}<extra></extra>",
           "legendgroup": "uk",
           "line": {
            "color": "red",
            "dash": "solid",
            "shape": "spline"
           },
           "mode": "lines",
           "name": "uk",
           "r": [
            0,
            -1,
            10,
            6,
            0,
            0,
            0,
            0,
            3,
            -2,
            2,
            -7,
            0,
            1,
            0,
            0
           ],
           "showlegend": true,
           "subplot": "polar",
           "theta": [
            "baking",
            "bananabread",
            "beans",
            "coffee",
            "cooking",
            "facemask",
            "grocerydelivery",
            "hand-sanitizer",
            "pasta",
            "restaurant",
            "rice",
            "spices",
            "takeaway",
            "to-go",
            "toiletpaper",
            "baking"
           ],
           "type": "scatterpolar"
          }
         ],
         "name": "2019-11-24"
        },
        {
         "data": [
          {
           "hovertemplate": "country=uk<br>Date=2019-01-12<br>score_difference=%{r}<br>term=%{theta}<extra></extra>",
           "legendgroup": "uk",
           "line": {
            "color": "red",
            "dash": "solid",
            "shape": "spline"
           },
           "mode": "lines",
           "name": "uk",
           "r": [
            -1,
            1,
            4,
            8,
            -2,
            1,
            0,
            0,
            3,
            -3,
            -4,
            0,
            0,
            0,
            0,
            -1
           ],
           "showlegend": true,
           "subplot": "polar",
           "theta": [
            "baking",
            "bananabread",
            "beans",
            "coffee",
            "cooking",
            "facemask",
            "grocerydelivery",
            "hand-sanitizer",
            "pasta",
            "restaurant",
            "rice",
            "spices",
            "takeaway",
            "to-go",
            "toiletpaper",
            "baking"
           ],
           "type": "scatterpolar"
          }
         ],
         "name": "2019-01-12"
        },
        {
         "data": [
          {
           "hovertemplate": "country=uk<br>Date=2019-08-12<br>score_difference=%{r}<br>term=%{theta}<extra></extra>",
           "legendgroup": "uk",
           "line": {
            "color": "red",
            "dash": "solid",
            "shape": "spline"
           },
           "mode": "lines",
           "name": "uk",
           "r": [
            -3,
            0,
            0,
            1,
            -1,
            1,
            1,
            0,
            1,
            7,
            3,
            -6,
            -7,
            1,
            0,
            -3
           ],
           "showlegend": true,
           "subplot": "polar",
           "theta": [
            "baking",
            "bananabread",
            "beans",
            "coffee",
            "cooking",
            "facemask",
            "grocerydelivery",
            "hand-sanitizer",
            "pasta",
            "restaurant",
            "rice",
            "spices",
            "takeaway",
            "to-go",
            "toiletpaper",
            "baking"
           ],
           "type": "scatterpolar"
          }
         ],
         "name": "2019-08-12"
        },
        {
         "data": [
          {
           "hovertemplate": "country=uk<br>Date=2019-12-15<br>score_difference=%{r}<br>term=%{theta}<extra></extra>",
           "legendgroup": "uk",
           "line": {
            "color": "red",
            "dash": "solid",
            "shape": "spline"
           },
           "mode": "lines",
           "name": "uk",
           "r": [
            0,
            0,
            8,
            4,
            -3,
            0,
            2,
            0,
            9,
            6,
            2,
            9,
            -6,
            4,
            1,
            0
           ],
           "showlegend": true,
           "subplot": "polar",
           "theta": [
            "baking",
            "bananabread",
            "beans",
            "coffee",
            "cooking",
            "facemask",
            "grocerydelivery",
            "hand-sanitizer",
            "pasta",
            "restaurant",
            "rice",
            "spices",
            "takeaway",
            "to-go",
            "toiletpaper",
            "baking"
           ],
           "type": "scatterpolar"
          }
         ],
         "name": "2019-12-15"
        },
        {
         "data": [
          {
           "hovertemplate": "country=uk<br>Date=2019-12-22<br>score_difference=%{r}<br>term=%{theta}<extra></extra>",
           "legendgroup": "uk",
           "line": {
            "color": "red",
            "dash": "solid",
            "shape": "spline"
           },
           "mode": "lines",
           "name": "uk",
           "r": [
            1,
            -2,
            0,
            4,
            0,
            0,
            2,
            0,
            3,
            3,
            0,
            -3,
            -2,
            -4,
            1,
            1
           ],
           "showlegend": true,
           "subplot": "polar",
           "theta": [
            "baking",
            "bananabread",
            "beans",
            "coffee",
            "cooking",
            "facemask",
            "grocerydelivery",
            "hand-sanitizer",
            "pasta",
            "restaurant",
            "rice",
            "spices",
            "takeaway",
            "to-go",
            "toiletpaper",
            "baking"
           ],
           "type": "scatterpolar"
          }
         ],
         "name": "2019-12-22"
        },
        {
         "data": [
          {
           "hovertemplate": "country=uk<br>Date=2019-12-29<br>score_difference=%{r}<br>term=%{theta}<extra></extra>",
           "legendgroup": "uk",
           "line": {
            "color": "red",
            "dash": "solid",
            "shape": "spline"
           },
           "mode": "lines",
           "name": "uk",
           "r": [
            -2,
            -1,
            -2,
            3,
            -1,
            0,
            2,
            0,
            2,
            6,
            13,
            -7,
            -8,
            -3,
            0,
            -2
           ],
           "showlegend": true,
           "subplot": "polar",
           "theta": [
            "baking",
            "bananabread",
            "beans",
            "coffee",
            "cooking",
            "facemask",
            "grocerydelivery",
            "hand-sanitizer",
            "pasta",
            "restaurant",
            "rice",
            "spices",
            "takeaway",
            "to-go",
            "toiletpaper",
            "baking"
           ],
           "type": "scatterpolar"
          }
         ],
         "name": "2019-12-29"
        },
        {
         "data": [
          {
           "hovertemplate": "country=uk<br>Date=2020-05-01<br>score_difference=%{r}<br>term=%{theta}<extra></extra>",
           "legendgroup": "uk",
           "line": {
            "color": "red",
            "dash": "solid",
            "shape": "spline"
           },
           "mode": "lines",
           "name": "uk",
           "r": [
            0,
            2,
            2,
            5,
            1,
            -1,
            1,
            0,
            5,
            0,
            1,
            3,
            -5,
            4,
            2,
            0
           ],
           "showlegend": true,
           "subplot": "polar",
           "theta": [
            "baking",
            "bananabread",
            "beans",
            "coffee",
            "cooking",
            "facemask",
            "grocerydelivery",
            "hand-sanitizer",
            "pasta",
            "restaurant",
            "rice",
            "spices",
            "takeaway",
            "to-go",
            "toiletpaper",
            "baking"
           ],
           "type": "scatterpolar"
          }
         ],
         "name": "2020-05-01"
        },
        {
         "data": [
          {
           "hovertemplate": "country=uk<br>Date=2020-12-01<br>score_difference=%{r}<br>term=%{theta}<extra></extra>",
           "legendgroup": "uk",
           "line": {
            "color": "red",
            "dash": "solid",
            "shape": "spline"
           },
           "mode": "lines",
           "name": "uk",
           "r": [
            3,
            1,
            1,
            3,
            0,
            0,
            0,
            0,
            1,
            3,
            -2,
            13,
            -9,
            4,
            1,
            3
           ],
           "showlegend": true,
           "subplot": "polar",
           "theta": [
            "baking",
            "bananabread",
            "beans",
            "coffee",
            "cooking",
            "facemask",
            "grocerydelivery",
            "hand-sanitizer",
            "pasta",
            "restaurant",
            "rice",
            "spices",
            "takeaway",
            "to-go",
            "toiletpaper",
            "baking"
           ],
           "type": "scatterpolar"
          }
         ],
         "name": "2020-12-01"
        },
        {
         "data": [
          {
           "hovertemplate": "country=uk<br>Date=2020-01-19<br>score_difference=%{r}<br>term=%{theta}<extra></extra>",
           "legendgroup": "uk",
           "line": {
            "color": "red",
            "dash": "solid",
            "shape": "spline"
           },
           "mode": "lines",
           "name": "uk",
           "r": [
            -1,
            2,
            6,
            6,
            0,
            2,
            1,
            0,
            8,
            2,
            8,
            -6,
            1,
            2,
            0,
            -1
           ],
           "showlegend": true,
           "subplot": "polar",
           "theta": [
            "baking",
            "bananabread",
            "beans",
            "coffee",
            "cooking",
            "facemask",
            "grocerydelivery",
            "hand-sanitizer",
            "pasta",
            "restaurant",
            "rice",
            "spices",
            "takeaway",
            "to-go",
            "toiletpaper",
            "baking"
           ],
           "type": "scatterpolar"
          }
         ],
         "name": "2020-01-19"
        },
        {
         "data": [
          {
           "hovertemplate": "country=uk<br>Date=2020-01-26<br>score_difference=%{r}<br>term=%{theta}<extra></extra>",
           "legendgroup": "uk",
           "line": {
            "color": "red",
            "dash": "solid",
            "shape": "spline"
           },
           "mode": "lines",
           "name": "uk",
           "r": [
            2,
            1,
            2,
            2,
            1,
            7,
            1,
            0,
            5,
            5,
            9,
            7,
            4,
            5,
            1,
            2
           ],
           "showlegend": true,
           "subplot": "polar",
           "theta": [
            "baking",
            "bananabread",
            "beans",
            "coffee",
            "cooking",
            "facemask",
            "grocerydelivery",
            "hand-sanitizer",
            "pasta",
            "restaurant",
            "rice",
            "spices",
            "takeaway",
            "to-go",
            "toiletpaper",
            "baking"
           ],
           "type": "scatterpolar"
          }
         ],
         "name": "2020-01-26"
        },
        {
         "data": [
          {
           "hovertemplate": "country=uk<br>Date=2020-02-02<br>score_difference=%{r}<br>term=%{theta}<extra></extra>",
           "legendgroup": "uk",
           "line": {
            "color": "red",
            "dash": "solid",
            "shape": "spline"
           },
           "mode": "lines",
           "name": "uk",
           "r": [
            2,
            2,
            4,
            4,
            -1,
            4,
            0,
            0,
            5,
            -2,
            -3,
            3,
            -9,
            3,
            1,
            2
           ],
           "showlegend": true,
           "subplot": "polar",
           "theta": [
            "baking",
            "bananabread",
            "beans",
            "coffee",
            "cooking",
            "facemask",
            "grocerydelivery",
            "hand-sanitizer",
            "pasta",
            "restaurant",
            "rice",
            "spices",
            "takeaway",
            "to-go",
            "toiletpaper",
            "baking"
           ],
           "type": "scatterpolar"
          }
         ],
         "name": "2020-02-02"
        },
        {
         "data": [
          {
           "hovertemplate": "country=uk<br>Date=2020-09-02<br>score_difference=%{r}<br>term=%{theta}<extra></extra>",
           "legendgroup": "uk",
           "line": {
            "color": "red",
            "dash": "solid",
            "shape": "spline"
           },
           "mode": "lines",
           "name": "uk",
           "r": [
            0,
            2,
            -2,
            1,
            0,
            4,
            2,
            2,
            7,
            -1,
            0,
            -3,
            -2,
            2,
            -2,
            0
           ],
           "showlegend": true,
           "subplot": "polar",
           "theta": [
            "baking",
            "bananabread",
            "beans",
            "coffee",
            "cooking",
            "facemask",
            "grocerydelivery",
            "hand-sanitizer",
            "pasta",
            "restaurant",
            "rice",
            "spices",
            "takeaway",
            "to-go",
            "toiletpaper",
            "baking"
           ],
           "type": "scatterpolar"
          }
         ],
         "name": "2020-09-02"
        },
        {
         "data": [
          {
           "hovertemplate": "country=uk<br>Date=2020-02-16<br>score_difference=%{r}<br>term=%{theta}<extra></extra>",
           "legendgroup": "uk",
           "line": {
            "color": "red",
            "dash": "solid",
            "shape": "spline"
           },
           "mode": "lines",
           "name": "uk",
           "r": [
            4,
            2,
            -1,
            2,
            2,
            0,
            2,
            0,
            7,
            0,
            2,
            -5,
            1,
            3,
            -18,
            4
           ],
           "showlegend": true,
           "subplot": "polar",
           "theta": [
            "baking",
            "bananabread",
            "beans",
            "coffee",
            "cooking",
            "facemask",
            "grocerydelivery",
            "hand-sanitizer",
            "pasta",
            "restaurant",
            "rice",
            "spices",
            "takeaway",
            "to-go",
            "toiletpaper",
            "baking"
           ],
           "type": "scatterpolar"
          }
         ],
         "name": "2020-02-16"
        },
        {
         "data": [
          {
           "hovertemplate": "country=uk<br>Date=2020-02-23<br>score_difference=%{r}<br>term=%{theta}<extra></extra>",
           "legendgroup": "uk",
           "line": {
            "color": "red",
            "dash": "solid",
            "shape": "spline"
           },
           "mode": "lines",
           "name": "uk",
           "r": [
            3,
            1,
            0,
            3,
            2,
            9,
            1,
            12,
            5,
            -1,
            3,
            -1,
            0,
            2,
            0,
            3
           ],
           "showlegend": true,
           "subplot": "polar",
           "theta": [
            "baking",
            "bananabread",
            "beans",
            "coffee",
            "cooking",
            "facemask",
            "grocerydelivery",
            "hand-sanitizer",
            "pasta",
            "restaurant",
            "rice",
            "spices",
            "takeaway",
            "to-go",
            "toiletpaper",
            "baking"
           ],
           "type": "scatterpolar"
          }
         ],
         "name": "2020-02-23"
        },
        {
         "data": [
          {
           "hovertemplate": "country=uk<br>Date=2020-01-03<br>score_difference=%{r}<br>term=%{theta}<extra></extra>",
           "legendgroup": "uk",
           "line": {
            "color": "red",
            "dash": "solid",
            "shape": "spline"
           },
           "mode": "lines",
           "name": "uk",
           "r": [
            -2,
            3,
            3,
            0,
            0,
            8,
            2,
            89,
            7,
            -3,
            3,
            6,
            5,
            3,
            26,
            -2
           ],
           "showlegend": true,
           "subplot": "polar",
           "theta": [
            "baking",
            "bananabread",
            "beans",
            "coffee",
            "cooking",
            "facemask",
            "grocerydelivery",
            "hand-sanitizer",
            "pasta",
            "restaurant",
            "rice",
            "spices",
            "takeaway",
            "to-go",
            "toiletpaper",
            "baking"
           ],
           "type": "scatterpolar"
          }
         ],
         "name": "2020-01-03"
        },
        {
         "data": [
          {
           "hovertemplate": "country=uk<br>Date=2020-08-03<br>score_difference=%{r}<br>term=%{theta}<extra></extra>",
           "legendgroup": "uk",
           "line": {
            "color": "red",
            "dash": "solid",
            "shape": "spline"
           },
           "mode": "lines",
           "name": "uk",
           "r": [
            0,
            3,
            1,
            -6,
            -3,
            8,
            6,
            99,
            9,
            -17,
            2,
            5,
            1,
            13,
            86,
            0
           ],
           "showlegend": true,
           "subplot": "polar",
           "theta": [
            "baking",
            "bananabread",
            "beans",
            "coffee",
            "cooking",
            "facemask",
            "grocerydelivery",
            "hand-sanitizer",
            "pasta",
            "restaurant",
            "rice",
            "spices",
            "takeaway",
            "to-go",
            "toiletpaper",
            "baking"
           ],
           "type": "scatterpolar"
          }
         ],
         "name": "2020-08-03"
        },
        {
         "data": [
          {
           "hovertemplate": "country=uk<br>Date=2020-03-15<br>score_difference=%{r}<br>term=%{theta}<extra></extra>",
           "legendgroup": "uk",
           "line": {
            "color": "red",
            "dash": "solid",
            "shape": "spline"
           },
           "mode": "lines",
           "name": "uk",
           "r": [
            8,
            19,
            1,
            -12,
            0,
            12,
            41,
            84,
            35,
            -35,
            3,
            -3,
            13,
            26,
            95,
            8
           ],
           "showlegend": true,
           "subplot": "polar",
           "theta": [
            "baking",
            "bananabread",
            "beans",
            "coffee",
            "cooking",
            "facemask",
            "grocerydelivery",
            "hand-sanitizer",
            "pasta",
            "restaurant",
            "rice",
            "spices",
            "takeaway",
            "to-go",
            "toiletpaper",
            "baking"
           ],
           "type": "scatterpolar"
          }
         ],
         "name": "2020-03-15"
        },
        {
         "data": [
          {
           "hovertemplate": "country=uk<br>Date=2020-03-22<br>score_difference=%{r}<br>term=%{theta}<extra></extra>",
           "legendgroup": "uk",
           "line": {
            "color": "red",
            "dash": "solid",
            "shape": "spline"
           },
           "mode": "lines",
           "name": "uk",
           "r": [
            37,
            59,
            14,
            -15,
            11,
            16,
            97,
            26,
            31,
            -47,
            18,
            24,
            47,
            40,
            36,
            37
           ],
           "showlegend": true,
           "subplot": "polar",
           "theta": [
            "baking",
            "bananabread",
            "beans",
            "coffee",
            "cooking",
            "facemask",
            "grocerydelivery",
            "hand-sanitizer",
            "pasta",
            "restaurant",
            "rice",
            "spices",
            "takeaway",
            "to-go",
            "toiletpaper",
            "baking"
           ],
           "type": "scatterpolar"
          }
         ],
         "name": "2020-03-22"
        },
        {
         "data": [
          {
           "hovertemplate": "country=uk<br>Date=2020-03-29<br>score_difference=%{r}<br>term=%{theta}<extra></extra>",
           "legendgroup": "uk",
           "line": {
            "color": "red",
            "dash": "solid",
            "shape": "spline"
           },
           "mode": "lines",
           "name": "uk",
           "r": [
            66,
            87,
            26,
            9,
            17,
            20,
            61,
            16,
            45,
            -43,
            30,
            25,
            8,
            12,
            12,
            66
           ],
           "showlegend": true,
           "subplot": "polar",
           "theta": [
            "baking",
            "bananabread",
            "beans",
            "coffee",
            "cooking",
            "facemask",
            "grocerydelivery",
            "hand-sanitizer",
            "pasta",
            "restaurant",
            "rice",
            "spices",
            "takeaway",
            "to-go",
            "toiletpaper",
            "baking"
           ],
           "type": "scatterpolar"
          }
         ],
         "name": "2020-03-29"
        },
        {
         "data": [
          {
           "hovertemplate": "country=uk<br>Date=2020-05-04<br>score_difference=%{r}<br>term=%{theta}<extra></extra>",
           "legendgroup": "uk",
           "line": {
            "color": "red",
            "dash": "solid",
            "shape": "spline"
           },
           "mode": "lines",
           "name": "uk",
           "r": [
            73,
            74,
            32,
            12,
            21,
            15,
            37,
            10,
            40,
            -44,
            31,
            34,
            -6,
            2,
            6,
            73
           ],
           "showlegend": true,
           "subplot": "polar",
           "theta": [
            "baking",
            "bananabread",
            "beans",
            "coffee",
            "cooking",
            "facemask",
            "grocerydelivery",
            "hand-sanitizer",
            "pasta",
            "restaurant",
            "rice",
            "spices",
            "takeaway",
            "to-go",
            "toiletpaper",
            "baking"
           ],
           "type": "scatterpolar"
          }
         ],
         "name": "2020-05-04"
        },
        {
         "data": [
          {
           "hovertemplate": "country=uk<br>Date=2020-12-04<br>score_difference=%{r}<br>term=%{theta}<extra></extra>",
           "legendgroup": "uk",
           "line": {
            "color": "red",
            "dash": "solid",
            "shape": "spline"
           },
           "mode": "lines",
           "name": "uk",
           "r": [
            69,
            77,
            37,
            12,
            25,
            20,
            29,
            9,
            47,
            -42,
            41,
            47,
            18,
            4,
            5,
            69
           ],
           "showlegend": true,
           "subplot": "polar",
           "theta": [
            "baking",
            "bananabread",
            "beans",
            "coffee",
            "cooking",
            "facemask",
            "grocerydelivery",
            "hand-sanitizer",
            "pasta",
            "restaurant",
            "rice",
            "spices",
            "takeaway",
            "to-go",
            "toiletpaper",
            "baking"
           ],
           "type": "scatterpolar"
          }
         ],
         "name": "2020-12-04"
        },
        {
         "data": [
          {
           "hovertemplate": "country=uk<br>Date=2020-04-19<br>score_difference=%{r}<br>term=%{theta}<extra></extra>",
           "legendgroup": "uk",
           "line": {
            "color": "red",
            "dash": "solid",
            "shape": "spline"
           },
           "mode": "lines",
           "name": "uk",
           "r": [
            64,
            56,
            38,
            11,
            16,
            22,
            20,
            7,
            43,
            -38,
            40,
            39,
            8,
            8,
            5,
            64
           ],
           "showlegend": true,
           "subplot": "polar",
           "theta": [
            "baking",
            "bananabread",
            "beans",
            "coffee",
            "cooking",
            "facemask",
            "grocerydelivery",
            "hand-sanitizer",
            "pasta",
            "restaurant",
            "rice",
            "spices",
            "takeaway",
            "to-go",
            "toiletpaper",
            "baking"
           ],
           "type": "scatterpolar"
          }
         ],
         "name": "2020-04-19"
        },
        {
         "data": [
          {
           "hovertemplate": "country=uk<br>Date=2020-04-26<br>score_difference=%{r}<br>term=%{theta}<extra></extra>",
           "legendgroup": "uk",
           "line": {
            "color": "red",
            "dash": "solid",
            "shape": "spline"
           },
           "mode": "lines",
           "name": "uk",
           "r": [
            72,
            55,
            41,
            10,
            19,
            28,
            13,
            6,
            34,
            -38,
            38,
            48,
            37,
            8,
            4,
            72
           ],
           "showlegend": true,
           "subplot": "polar",
           "theta": [
            "baking",
            "bananabread",
            "beans",
            "coffee",
            "cooking",
            "facemask",
            "grocerydelivery",
            "hand-sanitizer",
            "pasta",
            "restaurant",
            "rice",
            "spices",
            "takeaway",
            "to-go",
            "toiletpaper",
            "baking"
           ],
           "type": "scatterpolar"
          }
         ],
         "name": "2020-04-26"
        },
        {
         "data": [
          {
           "hovertemplate": "country=uk<br>Date=2020-03-05<br>score_difference=%{r}<br>term=%{theta}<extra></extra>",
           "legendgroup": "uk",
           "line": {
            "color": "red",
            "dash": "solid",
            "shape": "spline"
           },
           "mode": "lines",
           "name": "uk",
           "r": [
            68,
            42,
            36,
            6,
            16,
            24,
            9,
            6,
            31,
            -38,
            32,
            26,
            40,
            8,
            4,
            68
           ],
           "showlegend": true,
           "subplot": "polar",
           "theta": [
            "baking",
            "bananabread",
            "beans",
            "coffee",
            "cooking",
            "facemask",
            "grocerydelivery",
            "hand-sanitizer",
            "pasta",
            "restaurant",
            "rice",
            "spices",
            "takeaway",
            "to-go",
            "toiletpaper",
            "baking"
           ],
           "type": "scatterpolar"
          }
         ],
         "name": "2020-03-05"
        },
        {
         "data": [
          {
           "hovertemplate": "country=uk<br>Date=2020-10-05<br>score_difference=%{r}<br>term=%{theta}<extra></extra>",
           "legendgroup": "uk",
           "line": {
            "color": "red",
            "dash": "solid",
            "shape": "spline"
           },
           "mode": "lines",
           "name": "uk",
           "r": [
            62,
            42,
            35,
            13,
            16,
            44,
            10,
            8,
            34,
            -39,
            24,
            23,
            38,
            21,
            5,
            62
           ],
           "showlegend": true,
           "subplot": "polar",
           "theta": [
            "baking",
            "bananabread",
            "beans",
            "coffee",
            "cooking",
            "facemask",
            "grocerydelivery",
            "hand-sanitizer",
            "pasta",
            "restaurant",
            "rice",
            "spices",
            "takeaway",
            "to-go",
            "toiletpaper",
            "baking"
           ],
           "type": "scatterpolar"
          }
         ],
         "name": "2020-10-05"
        },
        {
         "data": [
          {
           "hovertemplate": "country=uk<br>Date=2020-05-17<br>score_difference=%{r}<br>term=%{theta}<extra></extra>",
           "legendgroup": "uk",
           "line": {
            "color": "red",
            "dash": "solid",
            "shape": "spline"
           },
           "mode": "lines",
           "name": "uk",
           "r": [
            54,
            29,
            35,
            19,
            14,
            22,
            8,
            7,
            32,
            -40,
            27,
            37,
            40,
            11,
            3,
            54
           ],
           "showlegend": true,
           "subplot": "polar",
           "theta": [
            "baking",
            "bananabread",
            "beans",
            "coffee",
            "cooking",
            "facemask",
            "grocerydelivery",
            "hand-sanitizer",
            "pasta",
            "restaurant",
            "rice",
            "spices",
            "takeaway",
            "to-go",
            "toiletpaper",
            "baking"
           ],
           "type": "scatterpolar"
          }
         ],
         "name": "2020-05-17"
        },
        {
         "data": [
          {
           "hovertemplate": "country=uk<br>Date=2020-05-24<br>score_difference=%{r}<br>term=%{theta}<extra></extra>",
           "legendgroup": "uk",
           "line": {
            "color": "red",
            "dash": "solid",
            "shape": "spline"
           },
           "mode": "lines",
           "name": "uk",
           "r": [
            37,
            22,
            35,
            17,
            12,
            15,
            6,
            6,
            25,
            -43,
            24,
            35,
            42,
            12,
            3,
            37
           ],
           "showlegend": true,
           "subplot": "polar",
           "theta": [
            "baking",
            "bananabread",
            "beans",
            "coffee",
            "cooking",
            "facemask",
            "grocerydelivery",
            "hand-sanitizer",
            "pasta",
            "restaurant",
            "rice",
            "spices",
            "takeaway",
            "to-go",
            "toiletpaper",
            "baking"
           ],
           "type": "scatterpolar"
          }
         ],
         "name": "2020-05-24"
        },
        {
         "data": [
          {
           "hovertemplate": "country=uk<br>Date=2020-05-31<br>score_difference=%{r}<br>term=%{theta}<extra></extra>",
           "legendgroup": "uk",
           "line": {
            "color": "red",
            "dash": "solid",
            "shape": "spline"
           },
           "mode": "lines",
           "name": "uk",
           "r": [
            38,
            24,
            31,
            13,
            8,
            32,
            5,
            6,
            24,
            -37,
            19,
            20,
            37,
            11,
            3,
            38
           ],
           "showlegend": true,
           "subplot": "polar",
           "theta": [
            "baking",
            "bananabread",
            "beans",
            "coffee",
            "cooking",
            "facemask",
            "grocerydelivery",
            "hand-sanitizer",
            "pasta",
            "restaurant",
            "rice",
            "spices",
            "takeaway",
            "to-go",
            "toiletpaper",
            "baking"
           ],
           "type": "scatterpolar"
          }
         ],
         "name": "2020-05-31"
        },
        {
         "data": [
          {
           "hovertemplate": "country=uk<br>Date=2020-07-06<br>score_difference=%{r}<br>term=%{theta}<extra></extra>",
           "legendgroup": "uk",
           "line": {
            "color": "red",
            "dash": "solid",
            "shape": "spline"
           },
           "mode": "lines",
           "name": "uk",
           "r": [
            36,
            20,
            21,
            14,
            6,
            30,
            4,
            5,
            21,
            -41,
            19,
            22,
            48,
            8,
            0,
            36
           ],
           "showlegend": true,
           "subplot": "polar",
           "theta": [
            "baking",
            "bananabread",
            "beans",
            "coffee",
            "cooking",
            "facemask",
            "grocerydelivery",
            "hand-sanitizer",
            "pasta",
            "restaurant",
            "rice",
            "spices",
            "takeaway",
            "to-go",
            "toiletpaper",
            "baking"
           ],
           "type": "scatterpolar"
          }
         ],
         "name": "2020-07-06"
        },
        {
         "data": [
          {
           "hovertemplate": "country=uk<br>Date=2020-06-14<br>score_difference=%{r}<br>term=%{theta}<extra></extra>",
           "legendgroup": "uk",
           "line": {
            "color": "red",
            "dash": "solid",
            "shape": "spline"
           },
           "mode": "lines",
           "name": "uk",
           "r": [
            28,
            16,
            21,
            12,
            7,
            27,
            4,
            5,
            17,
            -38,
            20,
            20,
            43,
            7,
            1,
            28
           ],
           "showlegend": true,
           "subplot": "polar",
           "theta": [
            "baking",
            "bananabread",
            "beans",
            "coffee",
            "cooking",
            "facemask",
            "grocerydelivery",
            "hand-sanitizer",
            "pasta",
            "restaurant",
            "rice",
            "spices",
            "takeaway",
            "to-go",
            "toiletpaper",
            "baking"
           ],
           "type": "scatterpolar"
          }
         ],
         "name": "2020-06-14"
        },
        {
         "data": [
          {
           "hovertemplate": "country=uk<br>Date=2020-06-21<br>score_difference=%{r}<br>term=%{theta}<extra></extra>",
           "legendgroup": "uk",
           "line": {
            "color": "red",
            "dash": "solid",
            "shape": "spline"
           },
           "mode": "lines",
           "name": "uk",
           "r": [
            20,
            12,
            24,
            10,
            8,
            18,
            3,
            6,
            19,
            -31,
            17,
            14,
            37,
            8,
            1,
            20
           ],
           "showlegend": true,
           "subplot": "polar",
           "theta": [
            "baking",
            "bananabread",
            "beans",
            "coffee",
            "cooking",
            "facemask",
            "grocerydelivery",
            "hand-sanitizer",
            "pasta",
            "restaurant",
            "rice",
            "spices",
            "takeaway",
            "to-go",
            "toiletpaper",
            "baking"
           ],
           "type": "scatterpolar"
          }
         ],
         "name": "2020-06-21"
        },
        {
         "data": [
          {
           "hovertemplate": "country=uk<br>Date=2020-06-28<br>score_difference=%{r}<br>term=%{theta}<extra></extra>",
           "legendgroup": "uk",
           "line": {
            "color": "red",
            "dash": "solid",
            "shape": "spline"
           },
           "mode": "lines",
           "name": "uk",
           "r": [
            22,
            15,
            23,
            14,
            7,
            23,
            1,
            5,
            17,
            -23,
            23,
            22,
            37,
            11,
            1,
            22
           ],
           "showlegend": true,
           "subplot": "polar",
           "theta": [
            "baking",
            "bananabread",
            "beans",
            "coffee",
            "cooking",
            "facemask",
            "grocerydelivery",
            "hand-sanitizer",
            "pasta",
            "restaurant",
            "rice",
            "spices",
            "takeaway",
            "to-go",
            "toiletpaper",
            "baking"
           ],
           "type": "scatterpolar"
          }
         ],
         "name": "2020-06-28"
        },
        {
         "data": [
          {
           "hovertemplate": "country=uk<br>Date=2020-05-07<br>score_difference=%{r}<br>term=%{theta}<extra></extra>",
           "legendgroup": "uk",
           "line": {
            "color": "red",
            "dash": "solid",
            "shape": "spline"
           },
           "mode": "lines",
           "name": "uk",
           "r": [
            18,
            11,
            18,
            14,
            7,
            32,
            2,
            5,
            15,
            -14,
            16,
            19,
            33,
            7,
            0,
            18
           ],
           "showlegend": true,
           "subplot": "polar",
           "theta": [
            "baking",
            "bananabread",
            "beans",
            "coffee",
            "cooking",
            "facemask",
            "grocerydelivery",
            "hand-sanitizer",
            "pasta",
            "restaurant",
            "rice",
            "spices",
            "takeaway",
            "to-go",
            "toiletpaper",
            "baking"
           ],
           "type": "scatterpolar"
          }
         ],
         "name": "2020-05-07"
        },
        {
         "data": [
          {
           "hovertemplate": "country=uk<br>Date=2020-12-07<br>score_difference=%{r}<br>term=%{theta}<extra></extra>",
           "legendgroup": "uk",
           "line": {
            "color": "red",
            "dash": "solid",
            "shape": "spline"
           },
           "mode": "lines",
           "name": "uk",
           "r": [
            16,
            8,
            22,
            8,
            6,
            98,
            1,
            5,
            8,
            -9,
            18,
            20,
            25,
            2,
            0,
            16
           ],
           "showlegend": true,
           "subplot": "polar",
           "theta": [
            "baking",
            "bananabread",
            "beans",
            "coffee",
            "cooking",
            "facemask",
            "grocerydelivery",
            "hand-sanitizer",
            "pasta",
            "restaurant",
            "rice",
            "spices",
            "takeaway",
            "to-go",
            "toiletpaper",
            "baking"
           ],
           "type": "scatterpolar"
          }
         ],
         "name": "2020-12-07"
        },
        {
         "data": [
          {
           "hovertemplate": "country=uk<br>Date=2020-07-19<br>score_difference=%{r}<br>term=%{theta}<extra></extra>",
           "legendgroup": "uk",
           "line": {
            "color": "red",
            "dash": "solid",
            "shape": "spline"
           },
           "mode": "lines",
           "name": "uk",
           "r": [
            17,
            9,
            16,
            13,
            7,
            73,
            3,
            4,
            17,
            -3,
            24,
            14,
            27,
            8,
            1,
            17
           ],
           "showlegend": true,
           "subplot": "polar",
           "theta": [
            "baking",
            "bananabread",
            "beans",
            "coffee",
            "cooking",
            "facemask",
            "grocerydelivery",
            "hand-sanitizer",
            "pasta",
            "restaurant",
            "rice",
            "spices",
            "takeaway",
            "to-go",
            "toiletpaper",
            "baking"
           ],
           "type": "scatterpolar"
          }
         ],
         "name": "2020-07-19"
        },
        {
         "data": [
          {
           "hovertemplate": "country=uk<br>Date=2020-07-26<br>score_difference=%{r}<br>term=%{theta}<extra></extra>",
           "legendgroup": "uk",
           "line": {
            "color": "red",
            "dash": "solid",
            "shape": "spline"
           },
           "mode": "lines",
           "name": "uk",
           "r": [
            10,
            7,
            9,
            11,
            5,
            42,
            3,
            3,
            9,
            -4,
            23,
            3,
            35,
            12,
            2,
            10
           ],
           "showlegend": true,
           "subplot": "polar",
           "theta": [
            "baking",
            "bananabread",
            "beans",
            "coffee",
            "cooking",
            "facemask",
            "grocerydelivery",
            "hand-sanitizer",
            "pasta",
            "restaurant",
            "rice",
            "spices",
            "takeaway",
            "to-go",
            "toiletpaper",
            "baking"
           ],
           "type": "scatterpolar"
          }
         ],
         "name": "2020-07-26"
        },
        {
         "data": [
          {
           "hovertemplate": "country=uk<br>Date=2020-02-08<br>score_difference=%{r}<br>term=%{theta}<extra></extra>",
           "legendgroup": "uk",
           "line": {
            "color": "red",
            "dash": "solid",
            "shape": "spline"
           },
           "mode": "lines",
           "name": "uk",
           "r": [
            5,
            5,
            18,
            10,
            6,
            30,
            3,
            4,
            9,
            13,
            12,
            6,
            43,
            4,
            -1,
            5
           ],
           "showlegend": true,
           "subplot": "polar",
           "theta": [
            "baking",
            "bananabread",
            "beans",
            "coffee",
            "cooking",
            "facemask",
            "grocerydelivery",
            "hand-sanitizer",
            "pasta",
            "restaurant",
            "rice",
            "spices",
            "takeaway",
            "to-go",
            "toiletpaper",
            "baking"
           ],
           "type": "scatterpolar"
          }
         ],
         "name": "2020-02-08"
        },
        {
         "data": [
          {
           "hovertemplate": "country=uk<br>Date=2020-09-08<br>score_difference=%{r}<br>term=%{theta}<extra></extra>",
           "legendgroup": "uk",
           "line": {
            "color": "red",
            "dash": "solid",
            "shape": "spline"
           },
           "mode": "lines",
           "name": "uk",
           "r": [
            4,
            5,
            10,
            4,
            1,
            21,
            2,
            3,
            10,
            16,
            13,
            2,
            38,
            5,
            -1,
            4
           ],
           "showlegend": true,
           "subplot": "polar",
           "theta": [
            "baking",
            "bananabread",
            "beans",
            "coffee",
            "cooking",
            "facemask",
            "grocerydelivery",
            "hand-sanitizer",
            "pasta",
            "restaurant",
            "rice",
            "spices",
            "takeaway",
            "to-go",
            "toiletpaper",
            "baking"
           ],
           "type": "scatterpolar"
          }
         ],
         "name": "2020-09-08"
        },
        {
         "data": [
          {
           "hovertemplate": "country=uk<br>Date=2020-08-16<br>score_difference=%{r}<br>term=%{theta}<extra></extra>",
           "legendgroup": "uk",
           "line": {
            "color": "red",
            "dash": "solid",
            "shape": "spline"
           },
           "mode": "lines",
           "name": "uk",
           "r": [
            5,
            4,
            16,
            8,
            4,
            18,
            2,
            3,
            8,
            25,
            12,
            18,
            35,
            4,
            1,
            5
           ],
           "showlegend": true,
           "subplot": "polar",
           "theta": [
            "baking",
            "bananabread",
            "beans",
            "coffee",
            "cooking",
            "facemask",
            "grocerydelivery",
            "hand-sanitizer",
            "pasta",
            "restaurant",
            "rice",
            "spices",
            "takeaway",
            "to-go",
            "toiletpaper",
            "baking"
           ],
           "type": "scatterpolar"
          }
         ],
         "name": "2020-08-16"
        },
        {
         "data": [
          {
           "hovertemplate": "country=uk<br>Date=2020-08-23<br>score_difference=%{r}<br>term=%{theta}<extra></extra>",
           "legendgroup": "uk",
           "line": {
            "color": "red",
            "dash": "solid",
            "shape": "spline"
           },
           "mode": "lines",
           "name": "uk",
           "r": [
            5,
            1,
            8,
            12,
            3,
            22,
            4,
            3,
            10,
            26,
            13,
            11,
            27,
            4,
            1,
            5
           ],
           "showlegend": true,
           "subplot": "polar",
           "theta": [
            "baking",
            "bananabread",
            "beans",
            "coffee",
            "cooking",
            "facemask",
            "grocerydelivery",
            "hand-sanitizer",
            "pasta",
            "restaurant",
            "rice",
            "spices",
            "takeaway",
            "to-go",
            "toiletpaper",
            "baking"
           ],
           "type": "scatterpolar"
          }
         ],
         "name": "2020-08-23"
        },
        {
         "data": [
          {
           "hovertemplate": "country=uk<br>Date=2020-08-30<br>score_difference=%{r}<br>term=%{theta}<extra></extra>",
           "legendgroup": "uk",
           "line": {
            "color": "red",
            "dash": "solid",
            "shape": "spline"
           },
           "mode": "lines",
           "name": "uk",
           "r": [
            2,
            3,
            -2,
            13,
            4,
            19,
            5,
            4,
            12,
            17,
            1,
            13,
            36,
            10,
            1,
            2
           ],
           "showlegend": true,
           "subplot": "polar",
           "theta": [
            "baking",
            "bananabread",
            "beans",
            "coffee",
            "cooking",
            "facemask",
            "grocerydelivery",
            "hand-sanitizer",
            "pasta",
            "restaurant",
            "rice",
            "spices",
            "takeaway",
            "to-go",
            "toiletpaper",
            "baking"
           ],
           "type": "scatterpolar"
          }
         ],
         "name": "2020-08-30"
        },
        {
         "data": [
          {
           "hovertemplate": "country=uk<br>Date=2020-06-09<br>score_difference=%{r}<br>term=%{theta}<extra></extra>",
           "legendgroup": "uk",
           "line": {
            "color": "red",
            "dash": "solid",
            "shape": "spline"
           },
           "mode": "lines",
           "name": "uk",
           "r": [
            4,
            3,
            1,
            12,
            5,
            17,
            4,
            3,
            12,
            1,
            1,
            23,
            32,
            7,
            1,
            4
           ],
           "showlegend": true,
           "subplot": "polar",
           "theta": [
            "baking",
            "bananabread",
            "beans",
            "coffee",
            "cooking",
            "facemask",
            "grocerydelivery",
            "hand-sanitizer",
            "pasta",
            "restaurant",
            "rice",
            "spices",
            "takeaway",
            "to-go",
            "toiletpaper",
            "baking"
           ],
           "type": "scatterpolar"
          }
         ],
         "name": "2020-06-09"
        },
        {
         "data": [
          {
           "hovertemplate": "country=uk<br>Date=2020-09-13<br>score_difference=%{r}<br>term=%{theta}<extra></extra>",
           "legendgroup": "uk",
           "line": {
            "color": "red",
            "dash": "solid",
            "shape": "spline"
           },
           "mode": "lines",
           "name": "uk",
           "r": [
            -1,
            3,
            7,
            6,
            5,
            17,
            2,
            3,
            8,
            -3,
            -6,
            10,
            30,
            7,
            1,
            -1
           ],
           "showlegend": true,
           "subplot": "polar",
           "theta": [
            "baking",
            "bananabread",
            "beans",
            "coffee",
            "cooking",
            "facemask",
            "grocerydelivery",
            "hand-sanitizer",
            "pasta",
            "restaurant",
            "rice",
            "spices",
            "takeaway",
            "to-go",
            "toiletpaper",
            "baking"
           ],
           "type": "scatterpolar"
          }
         ],
         "name": "2020-09-13"
        },
        {
         "data": [
          {
           "hovertemplate": "country=uk<br>Date=2020-09-20<br>score_difference=%{r}<br>term=%{theta}<extra></extra>",
           "legendgroup": "uk",
           "line": {
            "color": "red",
            "dash": "solid",
            "shape": "spline"
           },
           "mode": "lines",
           "name": "uk",
           "r": [
            4,
            3,
            4,
            5,
            3,
            25,
            6,
            4,
            13,
            -5,
            -1,
            19,
            31,
            6,
            5,
            4
           ],
           "showlegend": true,
           "subplot": "polar",
           "theta": [
            "baking",
            "bananabread",
            "beans",
            "coffee",
            "cooking",
            "facemask",
            "grocerydelivery",
            "hand-sanitizer",
            "pasta",
            "restaurant",
            "rice",
            "spices",
            "takeaway",
            "to-go",
            "toiletpaper",
            "baking"
           ],
           "type": "scatterpolar"
          }
         ],
         "name": "2020-09-20"
        },
        {
         "data": [
          {
           "hovertemplate": "country=uk<br>Date=2020-09-27<br>score_difference=%{r}<br>term=%{theta}<extra></extra>",
           "legendgroup": "uk",
           "line": {
            "color": "red",
            "dash": "solid",
            "shape": "spline"
           },
           "mode": "lines",
           "name": "uk",
           "r": [
            9,
            4,
            6,
            -15,
            6,
            20,
            6,
            2,
            13,
            -7,
            0,
            20,
            25,
            4,
            4,
            9
           ],
           "showlegend": true,
           "subplot": "polar",
           "theta": [
            "baking",
            "bananabread",
            "beans",
            "coffee",
            "cooking",
            "facemask",
            "grocerydelivery",
            "hand-sanitizer",
            "pasta",
            "restaurant",
            "rice",
            "spices",
            "takeaway",
            "to-go",
            "toiletpaper",
            "baking"
           ],
           "type": "scatterpolar"
          }
         ],
         "name": "2020-09-27"
        },
        {
         "data": [
          {
           "hovertemplate": "country=uk<br>Date=2020-04-10<br>score_difference=%{r}<br>term=%{theta}<extra></extra>",
           "legendgroup": "uk",
           "line": {
            "color": "red",
            "dash": "solid",
            "shape": "spline"
           },
           "mode": "lines",
           "name": "uk",
           "r": [
            11,
            6,
            3,
            10,
            5,
            17,
            6,
            2,
            9,
            -11,
            25,
            20,
            13,
            3,
            1,
            11
           ],
           "showlegend": true,
           "subplot": "polar",
           "theta": [
            "baking",
            "bananabread",
            "beans",
            "coffee",
            "cooking",
            "facemask",
            "grocerydelivery",
            "hand-sanitizer",
            "pasta",
            "restaurant",
            "rice",
            "spices",
            "takeaway",
            "to-go",
            "toiletpaper",
            "baking"
           ],
           "type": "scatterpolar"
          }
         ],
         "name": "2020-04-10"
        },
        {
         "data": [
          {
           "hovertemplate": "country=uk<br>Date=2020-11-10<br>score_difference=%{r}<br>term=%{theta}<extra></extra>",
           "legendgroup": "uk",
           "line": {
            "color": "red",
            "dash": "solid",
            "shape": "spline"
           },
           "mode": "lines",
           "name": "uk",
           "r": [
            12,
            5,
            5,
            11,
            5,
            16,
            4,
            2,
            14,
            -13,
            28,
            19,
            10,
            9,
            -1,
            12
           ],
           "showlegend": true,
           "subplot": "polar",
           "theta": [
            "baking",
            "bananabread",
            "beans",
            "coffee",
            "cooking",
            "facemask",
            "grocerydelivery",
            "hand-sanitizer",
            "pasta",
            "restaurant",
            "rice",
            "spices",
            "takeaway",
            "to-go",
            "toiletpaper",
            "baking"
           ],
           "type": "scatterpolar"
          }
         ],
         "name": "2020-11-10"
        },
        {
         "data": [
          {
           "hovertemplate": "country=uk<br>Date=2020-10-18<br>score_difference=%{r}<br>term=%{theta}<extra></extra>",
           "legendgroup": "uk",
           "line": {
            "color": "red",
            "dash": "solid",
            "shape": "spline"
           },
           "mode": "lines",
           "name": "uk",
           "r": [
            11,
            5,
            6,
            11,
            6,
            14,
            2,
            1,
            11,
            -17,
            18,
            23,
            14,
            10,
            2,
            11
           ],
           "showlegend": true,
           "subplot": "polar",
           "theta": [
            "baking",
            "bananabread",
            "beans",
            "coffee",
            "cooking",
            "facemask",
            "grocerydelivery",
            "hand-sanitizer",
            "pasta",
            "restaurant",
            "rice",
            "spices",
            "takeaway",
            "to-go",
            "toiletpaper",
            "baking"
           ],
           "type": "scatterpolar"
          }
         ],
         "name": "2020-10-18"
        },
        {
         "data": [
          {
           "hovertemplate": "country=uk<br>Date=2020-10-25<br>score_difference=%{r}<br>term=%{theta}<extra></extra>",
           "legendgroup": "uk",
           "line": {
            "color": "red",
            "dash": "solid",
            "shape": "spline"
           },
           "mode": "lines",
           "name": "uk",
           "r": [
            18,
            5,
            8,
            18,
            5,
            15,
            3,
            1,
            11,
            -14,
            18,
            16,
            19,
            14,
            3,
            18
           ],
           "showlegend": true,
           "subplot": "polar",
           "theta": [
            "baking",
            "bananabread",
            "beans",
            "coffee",
            "cooking",
            "facemask",
            "grocerydelivery",
            "hand-sanitizer",
            "pasta",
            "restaurant",
            "rice",
            "spices",
            "takeaway",
            "to-go",
            "toiletpaper",
            "baking"
           ],
           "type": "scatterpolar"
          }
         ],
         "name": "2020-10-25"
        },
        {
         "data": [
          {
           "hovertemplate": "country=uk<br>Date=2020-01-11<br>score_difference=%{r}<br>term=%{theta}<extra></extra>",
           "legendgroup": "uk",
           "line": {
            "color": "red",
            "dash": "solid",
            "shape": "spline"
           },
           "mode": "lines",
           "name": "uk",
           "r": [
            10,
            8,
            4,
            5,
            3,
            14,
            7,
            1,
            9,
            -29,
            10,
            16,
            27,
            6,
            2,
            10
           ],
           "showlegend": true,
           "subplot": "polar",
           "theta": [
            "baking",
            "bananabread",
            "beans",
            "coffee",
            "cooking",
            "facemask",
            "grocerydelivery",
            "hand-sanitizer",
            "pasta",
            "restaurant",
            "rice",
            "spices",
            "takeaway",
            "to-go",
            "toiletpaper",
            "baking"
           ],
           "type": "scatterpolar"
          }
         ],
         "name": "2020-01-11"
        }
       ],
       "layout": {
        "height": 700,
        "legend": {
         "title": {
          "text": "country"
         },
         "tracegroupgap": 0
        },
        "margin": {
         "t": 60
        },
        "polar": {
         "angularaxis": {
          "direction": "clockwise",
          "rotation": 90
         },
         "domain": {
          "x": [
           0,
           1
          ],
          "y": [
           0,
           1
          ]
         },
         "radialaxis": {
          "range": [
           -47,
           99
          ]
         }
        },
        "sliders": [
         {
          "active": 0,
          "currentvalue": {
           "prefix": "Date="
          },
          "len": 0.9,
          "pad": {
           "b": 10,
           "t": 60
          },
          "steps": [
           {
            "args": [
             [
              "2019-03-11"
             ],
             {
              "frame": {
               "duration": 0,
               "redraw": true
              },
              "fromcurrent": true,
              "mode": "immediate",
              "transition": {
               "duration": 0,
               "easing": "linear"
              }
             }
            ],
            "label": "2019-03-11",
            "method": "animate"
           },
           {
            "args": [
             [
              "2019-10-11"
             ],
             {
              "frame": {
               "duration": 0,
               "redraw": true
              },
              "fromcurrent": true,
              "mode": "immediate",
              "transition": {
               "duration": 0,
               "easing": "linear"
              }
             }
            ],
            "label": "2019-10-11",
            "method": "animate"
           },
           {
            "args": [
             [
              "2019-11-17"
             ],
             {
              "frame": {
               "duration": 0,
               "redraw": true
              },
              "fromcurrent": true,
              "mode": "immediate",
              "transition": {
               "duration": 0,
               "easing": "linear"
              }
             }
            ],
            "label": "2019-11-17",
            "method": "animate"
           },
           {
            "args": [
             [
              "2019-11-24"
             ],
             {
              "frame": {
               "duration": 0,
               "redraw": true
              },
              "fromcurrent": true,
              "mode": "immediate",
              "transition": {
               "duration": 0,
               "easing": "linear"
              }
             }
            ],
            "label": "2019-11-24",
            "method": "animate"
           },
           {
            "args": [
             [
              "2019-01-12"
             ],
             {
              "frame": {
               "duration": 0,
               "redraw": true
              },
              "fromcurrent": true,
              "mode": "immediate",
              "transition": {
               "duration": 0,
               "easing": "linear"
              }
             }
            ],
            "label": "2019-01-12",
            "method": "animate"
           },
           {
            "args": [
             [
              "2019-08-12"
             ],
             {
              "frame": {
               "duration": 0,
               "redraw": true
              },
              "fromcurrent": true,
              "mode": "immediate",
              "transition": {
               "duration": 0,
               "easing": "linear"
              }
             }
            ],
            "label": "2019-08-12",
            "method": "animate"
           },
           {
            "args": [
             [
              "2019-12-15"
             ],
             {
              "frame": {
               "duration": 0,
               "redraw": true
              },
              "fromcurrent": true,
              "mode": "immediate",
              "transition": {
               "duration": 0,
               "easing": "linear"
              }
             }
            ],
            "label": "2019-12-15",
            "method": "animate"
           },
           {
            "args": [
             [
              "2019-12-22"
             ],
             {
              "frame": {
               "duration": 0,
               "redraw": true
              },
              "fromcurrent": true,
              "mode": "immediate",
              "transition": {
               "duration": 0,
               "easing": "linear"
              }
             }
            ],
            "label": "2019-12-22",
            "method": "animate"
           },
           {
            "args": [
             [
              "2019-12-29"
             ],
             {
              "frame": {
               "duration": 0,
               "redraw": true
              },
              "fromcurrent": true,
              "mode": "immediate",
              "transition": {
               "duration": 0,
               "easing": "linear"
              }
             }
            ],
            "label": "2019-12-29",
            "method": "animate"
           },
           {
            "args": [
             [
              "2020-05-01"
             ],
             {
              "frame": {
               "duration": 0,
               "redraw": true
              },
              "fromcurrent": true,
              "mode": "immediate",
              "transition": {
               "duration": 0,
               "easing": "linear"
              }
             }
            ],
            "label": "2020-05-01",
            "method": "animate"
           },
           {
            "args": [
             [
              "2020-12-01"
             ],
             {
              "frame": {
               "duration": 0,
               "redraw": true
              },
              "fromcurrent": true,
              "mode": "immediate",
              "transition": {
               "duration": 0,
               "easing": "linear"
              }
             }
            ],
            "label": "2020-12-01",
            "method": "animate"
           },
           {
            "args": [
             [
              "2020-01-19"
             ],
             {
              "frame": {
               "duration": 0,
               "redraw": true
              },
              "fromcurrent": true,
              "mode": "immediate",
              "transition": {
               "duration": 0,
               "easing": "linear"
              }
             }
            ],
            "label": "2020-01-19",
            "method": "animate"
           },
           {
            "args": [
             [
              "2020-01-26"
             ],
             {
              "frame": {
               "duration": 0,
               "redraw": true
              },
              "fromcurrent": true,
              "mode": "immediate",
              "transition": {
               "duration": 0,
               "easing": "linear"
              }
             }
            ],
            "label": "2020-01-26",
            "method": "animate"
           },
           {
            "args": [
             [
              "2020-02-02"
             ],
             {
              "frame": {
               "duration": 0,
               "redraw": true
              },
              "fromcurrent": true,
              "mode": "immediate",
              "transition": {
               "duration": 0,
               "easing": "linear"
              }
             }
            ],
            "label": "2020-02-02",
            "method": "animate"
           },
           {
            "args": [
             [
              "2020-09-02"
             ],
             {
              "frame": {
               "duration": 0,
               "redraw": true
              },
              "fromcurrent": true,
              "mode": "immediate",
              "transition": {
               "duration": 0,
               "easing": "linear"
              }
             }
            ],
            "label": "2020-09-02",
            "method": "animate"
           },
           {
            "args": [
             [
              "2020-02-16"
             ],
             {
              "frame": {
               "duration": 0,
               "redraw": true
              },
              "fromcurrent": true,
              "mode": "immediate",
              "transition": {
               "duration": 0,
               "easing": "linear"
              }
             }
            ],
            "label": "2020-02-16",
            "method": "animate"
           },
           {
            "args": [
             [
              "2020-02-23"
             ],
             {
              "frame": {
               "duration": 0,
               "redraw": true
              },
              "fromcurrent": true,
              "mode": "immediate",
              "transition": {
               "duration": 0,
               "easing": "linear"
              }
             }
            ],
            "label": "2020-02-23",
            "method": "animate"
           },
           {
            "args": [
             [
              "2020-01-03"
             ],
             {
              "frame": {
               "duration": 0,
               "redraw": true
              },
              "fromcurrent": true,
              "mode": "immediate",
              "transition": {
               "duration": 0,
               "easing": "linear"
              }
             }
            ],
            "label": "2020-01-03",
            "method": "animate"
           },
           {
            "args": [
             [
              "2020-08-03"
             ],
             {
              "frame": {
               "duration": 0,
               "redraw": true
              },
              "fromcurrent": true,
              "mode": "immediate",
              "transition": {
               "duration": 0,
               "easing": "linear"
              }
             }
            ],
            "label": "2020-08-03",
            "method": "animate"
           },
           {
            "args": [
             [
              "2020-03-15"
             ],
             {
              "frame": {
               "duration": 0,
               "redraw": true
              },
              "fromcurrent": true,
              "mode": "immediate",
              "transition": {
               "duration": 0,
               "easing": "linear"
              }
             }
            ],
            "label": "2020-03-15",
            "method": "animate"
           },
           {
            "args": [
             [
              "2020-03-22"
             ],
             {
              "frame": {
               "duration": 0,
               "redraw": true
              },
              "fromcurrent": true,
              "mode": "immediate",
              "transition": {
               "duration": 0,
               "easing": "linear"
              }
             }
            ],
            "label": "2020-03-22",
            "method": "animate"
           },
           {
            "args": [
             [
              "2020-03-29"
             ],
             {
              "frame": {
               "duration": 0,
               "redraw": true
              },
              "fromcurrent": true,
              "mode": "immediate",
              "transition": {
               "duration": 0,
               "easing": "linear"
              }
             }
            ],
            "label": "2020-03-29",
            "method": "animate"
           },
           {
            "args": [
             [
              "2020-05-04"
             ],
             {
              "frame": {
               "duration": 0,
               "redraw": true
              },
              "fromcurrent": true,
              "mode": "immediate",
              "transition": {
               "duration": 0,
               "easing": "linear"
              }
             }
            ],
            "label": "2020-05-04",
            "method": "animate"
           },
           {
            "args": [
             [
              "2020-12-04"
             ],
             {
              "frame": {
               "duration": 0,
               "redraw": true
              },
              "fromcurrent": true,
              "mode": "immediate",
              "transition": {
               "duration": 0,
               "easing": "linear"
              }
             }
            ],
            "label": "2020-12-04",
            "method": "animate"
           },
           {
            "args": [
             [
              "2020-04-19"
             ],
             {
              "frame": {
               "duration": 0,
               "redraw": true
              },
              "fromcurrent": true,
              "mode": "immediate",
              "transition": {
               "duration": 0,
               "easing": "linear"
              }
             }
            ],
            "label": "2020-04-19",
            "method": "animate"
           },
           {
            "args": [
             [
              "2020-04-26"
             ],
             {
              "frame": {
               "duration": 0,
               "redraw": true
              },
              "fromcurrent": true,
              "mode": "immediate",
              "transition": {
               "duration": 0,
               "easing": "linear"
              }
             }
            ],
            "label": "2020-04-26",
            "method": "animate"
           },
           {
            "args": [
             [
              "2020-03-05"
             ],
             {
              "frame": {
               "duration": 0,
               "redraw": true
              },
              "fromcurrent": true,
              "mode": "immediate",
              "transition": {
               "duration": 0,
               "easing": "linear"
              }
             }
            ],
            "label": "2020-03-05",
            "method": "animate"
           },
           {
            "args": [
             [
              "2020-10-05"
             ],
             {
              "frame": {
               "duration": 0,
               "redraw": true
              },
              "fromcurrent": true,
              "mode": "immediate",
              "transition": {
               "duration": 0,
               "easing": "linear"
              }
             }
            ],
            "label": "2020-10-05",
            "method": "animate"
           },
           {
            "args": [
             [
              "2020-05-17"
             ],
             {
              "frame": {
               "duration": 0,
               "redraw": true
              },
              "fromcurrent": true,
              "mode": "immediate",
              "transition": {
               "duration": 0,
               "easing": "linear"
              }
             }
            ],
            "label": "2020-05-17",
            "method": "animate"
           },
           {
            "args": [
             [
              "2020-05-24"
             ],
             {
              "frame": {
               "duration": 0,
               "redraw": true
              },
              "fromcurrent": true,
              "mode": "immediate",
              "transition": {
               "duration": 0,
               "easing": "linear"
              }
             }
            ],
            "label": "2020-05-24",
            "method": "animate"
           },
           {
            "args": [
             [
              "2020-05-31"
             ],
             {
              "frame": {
               "duration": 0,
               "redraw": true
              },
              "fromcurrent": true,
              "mode": "immediate",
              "transition": {
               "duration": 0,
               "easing": "linear"
              }
             }
            ],
            "label": "2020-05-31",
            "method": "animate"
           },
           {
            "args": [
             [
              "2020-07-06"
             ],
             {
              "frame": {
               "duration": 0,
               "redraw": true
              },
              "fromcurrent": true,
              "mode": "immediate",
              "transition": {
               "duration": 0,
               "easing": "linear"
              }
             }
            ],
            "label": "2020-07-06",
            "method": "animate"
           },
           {
            "args": [
             [
              "2020-06-14"
             ],
             {
              "frame": {
               "duration": 0,
               "redraw": true
              },
              "fromcurrent": true,
              "mode": "immediate",
              "transition": {
               "duration": 0,
               "easing": "linear"
              }
             }
            ],
            "label": "2020-06-14",
            "method": "animate"
           },
           {
            "args": [
             [
              "2020-06-21"
             ],
             {
              "frame": {
               "duration": 0,
               "redraw": true
              },
              "fromcurrent": true,
              "mode": "immediate",
              "transition": {
               "duration": 0,
               "easing": "linear"
              }
             }
            ],
            "label": "2020-06-21",
            "method": "animate"
           },
           {
            "args": [
             [
              "2020-06-28"
             ],
             {
              "frame": {
               "duration": 0,
               "redraw": true
              },
              "fromcurrent": true,
              "mode": "immediate",
              "transition": {
               "duration": 0,
               "easing": "linear"
              }
             }
            ],
            "label": "2020-06-28",
            "method": "animate"
           },
           {
            "args": [
             [
              "2020-05-07"
             ],
             {
              "frame": {
               "duration": 0,
               "redraw": true
              },
              "fromcurrent": true,
              "mode": "immediate",
              "transition": {
               "duration": 0,
               "easing": "linear"
              }
             }
            ],
            "label": "2020-05-07",
            "method": "animate"
           },
           {
            "args": [
             [
              "2020-12-07"
             ],
             {
              "frame": {
               "duration": 0,
               "redraw": true
              },
              "fromcurrent": true,
              "mode": "immediate",
              "transition": {
               "duration": 0,
               "easing": "linear"
              }
             }
            ],
            "label": "2020-12-07",
            "method": "animate"
           },
           {
            "args": [
             [
              "2020-07-19"
             ],
             {
              "frame": {
               "duration": 0,
               "redraw": true
              },
              "fromcurrent": true,
              "mode": "immediate",
              "transition": {
               "duration": 0,
               "easing": "linear"
              }
             }
            ],
            "label": "2020-07-19",
            "method": "animate"
           },
           {
            "args": [
             [
              "2020-07-26"
             ],
             {
              "frame": {
               "duration": 0,
               "redraw": true
              },
              "fromcurrent": true,
              "mode": "immediate",
              "transition": {
               "duration": 0,
               "easing": "linear"
              }
             }
            ],
            "label": "2020-07-26",
            "method": "animate"
           },
           {
            "args": [
             [
              "2020-02-08"
             ],
             {
              "frame": {
               "duration": 0,
               "redraw": true
              },
              "fromcurrent": true,
              "mode": "immediate",
              "transition": {
               "duration": 0,
               "easing": "linear"
              }
             }
            ],
            "label": "2020-02-08",
            "method": "animate"
           },
           {
            "args": [
             [
              "2020-09-08"
             ],
             {
              "frame": {
               "duration": 0,
               "redraw": true
              },
              "fromcurrent": true,
              "mode": "immediate",
              "transition": {
               "duration": 0,
               "easing": "linear"
              }
             }
            ],
            "label": "2020-09-08",
            "method": "animate"
           },
           {
            "args": [
             [
              "2020-08-16"
             ],
             {
              "frame": {
               "duration": 0,
               "redraw": true
              },
              "fromcurrent": true,
              "mode": "immediate",
              "transition": {
               "duration": 0,
               "easing": "linear"
              }
             }
            ],
            "label": "2020-08-16",
            "method": "animate"
           },
           {
            "args": [
             [
              "2020-08-23"
             ],
             {
              "frame": {
               "duration": 0,
               "redraw": true
              },
              "fromcurrent": true,
              "mode": "immediate",
              "transition": {
               "duration": 0,
               "easing": "linear"
              }
             }
            ],
            "label": "2020-08-23",
            "method": "animate"
           },
           {
            "args": [
             [
              "2020-08-30"
             ],
             {
              "frame": {
               "duration": 0,
               "redraw": true
              },
              "fromcurrent": true,
              "mode": "immediate",
              "transition": {
               "duration": 0,
               "easing": "linear"
              }
             }
            ],
            "label": "2020-08-30",
            "method": "animate"
           },
           {
            "args": [
             [
              "2020-06-09"
             ],
             {
              "frame": {
               "duration": 0,
               "redraw": true
              },
              "fromcurrent": true,
              "mode": "immediate",
              "transition": {
               "duration": 0,
               "easing": "linear"
              }
             }
            ],
            "label": "2020-06-09",
            "method": "animate"
           },
           {
            "args": [
             [
              "2020-09-13"
             ],
             {
              "frame": {
               "duration": 0,
               "redraw": true
              },
              "fromcurrent": true,
              "mode": "immediate",
              "transition": {
               "duration": 0,
               "easing": "linear"
              }
             }
            ],
            "label": "2020-09-13",
            "method": "animate"
           },
           {
            "args": [
             [
              "2020-09-20"
             ],
             {
              "frame": {
               "duration": 0,
               "redraw": true
              },
              "fromcurrent": true,
              "mode": "immediate",
              "transition": {
               "duration": 0,
               "easing": "linear"
              }
             }
            ],
            "label": "2020-09-20",
            "method": "animate"
           },
           {
            "args": [
             [
              "2020-09-27"
             ],
             {
              "frame": {
               "duration": 0,
               "redraw": true
              },
              "fromcurrent": true,
              "mode": "immediate",
              "transition": {
               "duration": 0,
               "easing": "linear"
              }
             }
            ],
            "label": "2020-09-27",
            "method": "animate"
           },
           {
            "args": [
             [
              "2020-04-10"
             ],
             {
              "frame": {
               "duration": 0,
               "redraw": true
              },
              "fromcurrent": true,
              "mode": "immediate",
              "transition": {
               "duration": 0,
               "easing": "linear"
              }
             }
            ],
            "label": "2020-04-10",
            "method": "animate"
           },
           {
            "args": [
             [
              "2020-11-10"
             ],
             {
              "frame": {
               "duration": 0,
               "redraw": true
              },
              "fromcurrent": true,
              "mode": "immediate",
              "transition": {
               "duration": 0,
               "easing": "linear"
              }
             }
            ],
            "label": "2020-11-10",
            "method": "animate"
           },
           {
            "args": [
             [
              "2020-10-18"
             ],
             {
              "frame": {
               "duration": 0,
               "redraw": true
              },
              "fromcurrent": true,
              "mode": "immediate",
              "transition": {
               "duration": 0,
               "easing": "linear"
              }
             }
            ],
            "label": "2020-10-18",
            "method": "animate"
           },
           {
            "args": [
             [
              "2020-10-25"
             ],
             {
              "frame": {
               "duration": 0,
               "redraw": true
              },
              "fromcurrent": true,
              "mode": "immediate",
              "transition": {
               "duration": 0,
               "easing": "linear"
              }
             }
            ],
            "label": "2020-10-25",
            "method": "animate"
           },
           {
            "args": [
             [
              "2020-01-11"
             ],
             {
              "frame": {
               "duration": 0,
               "redraw": true
              },
              "fromcurrent": true,
              "mode": "immediate",
              "transition": {
               "duration": 0,
               "easing": "linear"
              }
             }
            ],
            "label": "2020-01-11",
            "method": "animate"
           }
          ],
          "x": 0.1,
          "xanchor": "left",
          "y": 0,
          "yanchor": "top"
         }
        ],
        "template": {
         "data": {
          "bar": [
           {
            "error_x": {
             "color": "#2a3f5f"
            },
            "error_y": {
             "color": "#2a3f5f"
            },
            "marker": {
             "line": {
              "color": "#E5ECF6",
              "width": 0.5
             }
            },
            "type": "bar"
           }
          ],
          "barpolar": [
           {
            "marker": {
             "line": {
              "color": "#E5ECF6",
              "width": 0.5
             }
            },
            "type": "barpolar"
           }
          ],
          "carpet": [
           {
            "aaxis": {
             "endlinecolor": "#2a3f5f",
             "gridcolor": "white",
             "linecolor": "white",
             "minorgridcolor": "white",
             "startlinecolor": "#2a3f5f"
            },
            "baxis": {
             "endlinecolor": "#2a3f5f",
             "gridcolor": "white",
             "linecolor": "white",
             "minorgridcolor": "white",
             "startlinecolor": "#2a3f5f"
            },
            "type": "carpet"
           }
          ],
          "choropleth": [
           {
            "colorbar": {
             "outlinewidth": 0,
             "ticks": ""
            },
            "type": "choropleth"
           }
          ],
          "contour": [
           {
            "colorbar": {
             "outlinewidth": 0,
             "ticks": ""
            },
            "colorscale": [
             [
              0,
              "#0d0887"
             ],
             [
              0.1111111111111111,
              "#46039f"
             ],
             [
              0.2222222222222222,
              "#7201a8"
             ],
             [
              0.3333333333333333,
              "#9c179e"
             ],
             [
              0.4444444444444444,
              "#bd3786"
             ],
             [
              0.5555555555555556,
              "#d8576b"
             ],
             [
              0.6666666666666666,
              "#ed7953"
             ],
             [
              0.7777777777777778,
              "#fb9f3a"
             ],
             [
              0.8888888888888888,
              "#fdca26"
             ],
             [
              1,
              "#f0f921"
             ]
            ],
            "type": "contour"
           }
          ],
          "contourcarpet": [
           {
            "colorbar": {
             "outlinewidth": 0,
             "ticks": ""
            },
            "type": "contourcarpet"
           }
          ],
          "heatmap": [
           {
            "colorbar": {
             "outlinewidth": 0,
             "ticks": ""
            },
            "colorscale": [
             [
              0,
              "#0d0887"
             ],
             [
              0.1111111111111111,
              "#46039f"
             ],
             [
              0.2222222222222222,
              "#7201a8"
             ],
             [
              0.3333333333333333,
              "#9c179e"
             ],
             [
              0.4444444444444444,
              "#bd3786"
             ],
             [
              0.5555555555555556,
              "#d8576b"
             ],
             [
              0.6666666666666666,
              "#ed7953"
             ],
             [
              0.7777777777777778,
              "#fb9f3a"
             ],
             [
              0.8888888888888888,
              "#fdca26"
             ],
             [
              1,
              "#f0f921"
             ]
            ],
            "type": "heatmap"
           }
          ],
          "heatmapgl": [
           {
            "colorbar": {
             "outlinewidth": 0,
             "ticks": ""
            },
            "colorscale": [
             [
              0,
              "#0d0887"
             ],
             [
              0.1111111111111111,
              "#46039f"
             ],
             [
              0.2222222222222222,
              "#7201a8"
             ],
             [
              0.3333333333333333,
              "#9c179e"
             ],
             [
              0.4444444444444444,
              "#bd3786"
             ],
             [
              0.5555555555555556,
              "#d8576b"
             ],
             [
              0.6666666666666666,
              "#ed7953"
             ],
             [
              0.7777777777777778,
              "#fb9f3a"
             ],
             [
              0.8888888888888888,
              "#fdca26"
             ],
             [
              1,
              "#f0f921"
             ]
            ],
            "type": "heatmapgl"
           }
          ],
          "histogram": [
           {
            "marker": {
             "colorbar": {
              "outlinewidth": 0,
              "ticks": ""
             }
            },
            "type": "histogram"
           }
          ],
          "histogram2d": [
           {
            "colorbar": {
             "outlinewidth": 0,
             "ticks": ""
            },
            "colorscale": [
             [
              0,
              "#0d0887"
             ],
             [
              0.1111111111111111,
              "#46039f"
             ],
             [
              0.2222222222222222,
              "#7201a8"
             ],
             [
              0.3333333333333333,
              "#9c179e"
             ],
             [
              0.4444444444444444,
              "#bd3786"
             ],
             [
              0.5555555555555556,
              "#d8576b"
             ],
             [
              0.6666666666666666,
              "#ed7953"
             ],
             [
              0.7777777777777778,
              "#fb9f3a"
             ],
             [
              0.8888888888888888,
              "#fdca26"
             ],
             [
              1,
              "#f0f921"
             ]
            ],
            "type": "histogram2d"
           }
          ],
          "histogram2dcontour": [
           {
            "colorbar": {
             "outlinewidth": 0,
             "ticks": ""
            },
            "colorscale": [
             [
              0,
              "#0d0887"
             ],
             [
              0.1111111111111111,
              "#46039f"
             ],
             [
              0.2222222222222222,
              "#7201a8"
             ],
             [
              0.3333333333333333,
              "#9c179e"
             ],
             [
              0.4444444444444444,
              "#bd3786"
             ],
             [
              0.5555555555555556,
              "#d8576b"
             ],
             [
              0.6666666666666666,
              "#ed7953"
             ],
             [
              0.7777777777777778,
              "#fb9f3a"
             ],
             [
              0.8888888888888888,
              "#fdca26"
             ],
             [
              1,
              "#f0f921"
             ]
            ],
            "type": "histogram2dcontour"
           }
          ],
          "mesh3d": [
           {
            "colorbar": {
             "outlinewidth": 0,
             "ticks": ""
            },
            "type": "mesh3d"
           }
          ],
          "parcoords": [
           {
            "line": {
             "colorbar": {
              "outlinewidth": 0,
              "ticks": ""
             }
            },
            "type": "parcoords"
           }
          ],
          "pie": [
           {
            "automargin": true,
            "type": "pie"
           }
          ],
          "scatter": [
           {
            "marker": {
             "colorbar": {
              "outlinewidth": 0,
              "ticks": ""
             }
            },
            "type": "scatter"
           }
          ],
          "scatter3d": [
           {
            "line": {
             "colorbar": {
              "outlinewidth": 0,
              "ticks": ""
             }
            },
            "marker": {
             "colorbar": {
              "outlinewidth": 0,
              "ticks": ""
             }
            },
            "type": "scatter3d"
           }
          ],
          "scattercarpet": [
           {
            "marker": {
             "colorbar": {
              "outlinewidth": 0,
              "ticks": ""
             }
            },
            "type": "scattercarpet"
           }
          ],
          "scattergeo": [
           {
            "marker": {
             "colorbar": {
              "outlinewidth": 0,
              "ticks": ""
             }
            },
            "type": "scattergeo"
           }
          ],
          "scattergl": [
           {
            "marker": {
             "colorbar": {
              "outlinewidth": 0,
              "ticks": ""
             }
            },
            "type": "scattergl"
           }
          ],
          "scattermapbox": [
           {
            "marker": {
             "colorbar": {
              "outlinewidth": 0,
              "ticks": ""
             }
            },
            "type": "scattermapbox"
           }
          ],
          "scatterpolar": [
           {
            "marker": {
             "colorbar": {
              "outlinewidth": 0,
              "ticks": ""
             }
            },
            "type": "scatterpolar"
           }
          ],
          "scatterpolargl": [
           {
            "marker": {
             "colorbar": {
              "outlinewidth": 0,
              "ticks": ""
             }
            },
            "type": "scatterpolargl"
           }
          ],
          "scatterternary": [
           {
            "marker": {
             "colorbar": {
              "outlinewidth": 0,
              "ticks": ""
             }
            },
            "type": "scatterternary"
           }
          ],
          "surface": [
           {
            "colorbar": {
             "outlinewidth": 0,
             "ticks": ""
            },
            "colorscale": [
             [
              0,
              "#0d0887"
             ],
             [
              0.1111111111111111,
              "#46039f"
             ],
             [
              0.2222222222222222,
              "#7201a8"
             ],
             [
              0.3333333333333333,
              "#9c179e"
             ],
             [
              0.4444444444444444,
              "#bd3786"
             ],
             [
              0.5555555555555556,
              "#d8576b"
             ],
             [
              0.6666666666666666,
              "#ed7953"
             ],
             [
              0.7777777777777778,
              "#fb9f3a"
             ],
             [
              0.8888888888888888,
              "#fdca26"
             ],
             [
              1,
              "#f0f921"
             ]
            ],
            "type": "surface"
           }
          ],
          "table": [
           {
            "cells": {
             "fill": {
              "color": "#EBF0F8"
             },
             "line": {
              "color": "white"
             }
            },
            "header": {
             "fill": {
              "color": "#C8D4E3"
             },
             "line": {
              "color": "white"
             }
            },
            "type": "table"
           }
          ]
         },
         "layout": {
          "annotationdefaults": {
           "arrowcolor": "#2a3f5f",
           "arrowhead": 0,
           "arrowwidth": 1
          },
          "coloraxis": {
           "colorbar": {
            "outlinewidth": 0,
            "ticks": ""
           }
          },
          "colorscale": {
           "diverging": [
            [
             0,
             "#8e0152"
            ],
            [
             0.1,
             "#c51b7d"
            ],
            [
             0.2,
             "#de77ae"
            ],
            [
             0.3,
             "#f1b6da"
            ],
            [
             0.4,
             "#fde0ef"
            ],
            [
             0.5,
             "#f7f7f7"
            ],
            [
             0.6,
             "#e6f5d0"
            ],
            [
             0.7,
             "#b8e186"
            ],
            [
             0.8,
             "#7fbc41"
            ],
            [
             0.9,
             "#4d9221"
            ],
            [
             1,
             "#276419"
            ]
           ],
           "sequential": [
            [
             0,
             "#0d0887"
            ],
            [
             0.1111111111111111,
             "#46039f"
            ],
            [
             0.2222222222222222,
             "#7201a8"
            ],
            [
             0.3333333333333333,
             "#9c179e"
            ],
            [
             0.4444444444444444,
             "#bd3786"
            ],
            [
             0.5555555555555556,
             "#d8576b"
            ],
            [
             0.6666666666666666,
             "#ed7953"
            ],
            [
             0.7777777777777778,
             "#fb9f3a"
            ],
            [
             0.8888888888888888,
             "#fdca26"
            ],
            [
             1,
             "#f0f921"
            ]
           ],
           "sequentialminus": [
            [
             0,
             "#0d0887"
            ],
            [
             0.1111111111111111,
             "#46039f"
            ],
            [
             0.2222222222222222,
             "#7201a8"
            ],
            [
             0.3333333333333333,
             "#9c179e"
            ],
            [
             0.4444444444444444,
             "#bd3786"
            ],
            [
             0.5555555555555556,
             "#d8576b"
            ],
            [
             0.6666666666666666,
             "#ed7953"
            ],
            [
             0.7777777777777778,
             "#fb9f3a"
            ],
            [
             0.8888888888888888,
             "#fdca26"
            ],
            [
             1,
             "#f0f921"
            ]
           ]
          },
          "colorway": [
           "#636efa",
           "#EF553B",
           "#00cc96",
           "#ab63fa",
           "#FFA15A",
           "#19d3f3",
           "#FF6692",
           "#B6E880",
           "#FF97FF",
           "#FECB52"
          ],
          "font": {
           "color": "#2a3f5f"
          },
          "geo": {
           "bgcolor": "white",
           "lakecolor": "white",
           "landcolor": "#E5ECF6",
           "showlakes": true,
           "showland": true,
           "subunitcolor": "white"
          },
          "hoverlabel": {
           "align": "left"
          },
          "hovermode": "closest",
          "mapbox": {
           "style": "light"
          },
          "paper_bgcolor": "white",
          "plot_bgcolor": "#E5ECF6",
          "polar": {
           "angularaxis": {
            "gridcolor": "white",
            "linecolor": "white",
            "ticks": ""
           },
           "bgcolor": "#E5ECF6",
           "radialaxis": {
            "gridcolor": "white",
            "linecolor": "white",
            "ticks": ""
           }
          },
          "scene": {
           "xaxis": {
            "backgroundcolor": "#E5ECF6",
            "gridcolor": "white",
            "gridwidth": 2,
            "linecolor": "white",
            "showbackground": true,
            "ticks": "",
            "zerolinecolor": "white"
           },
           "yaxis": {
            "backgroundcolor": "#E5ECF6",
            "gridcolor": "white",
            "gridwidth": 2,
            "linecolor": "white",
            "showbackground": true,
            "ticks": "",
            "zerolinecolor": "white"
           },
           "zaxis": {
            "backgroundcolor": "#E5ECF6",
            "gridcolor": "white",
            "gridwidth": 2,
            "linecolor": "white",
            "showbackground": true,
            "ticks": "",
            "zerolinecolor": "white"
           }
          },
          "shapedefaults": {
           "line": {
            "color": "#2a3f5f"
           }
          },
          "ternary": {
           "aaxis": {
            "gridcolor": "white",
            "linecolor": "white",
            "ticks": ""
           },
           "baxis": {
            "gridcolor": "white",
            "linecolor": "white",
            "ticks": ""
           },
           "bgcolor": "#E5ECF6",
           "caxis": {
            "gridcolor": "white",
            "linecolor": "white",
            "ticks": ""
           }
          },
          "title": {
           "x": 0.05
          },
          "xaxis": {
           "automargin": true,
           "gridcolor": "white",
           "linecolor": "white",
           "ticks": "",
           "title": {
            "standoff": 15
           },
           "zerolinecolor": "white",
           "zerolinewidth": 2
          },
          "yaxis": {
           "automargin": true,
           "gridcolor": "white",
           "linecolor": "white",
           "ticks": "",
           "title": {
            "standoff": 15
           },
           "zerolinecolor": "white",
           "zerolinewidth": 2
          }
         }
        },
        "updatemenus": [
         {
          "buttons": [
           {
            "args": [
             null,
             {
              "frame": {
               "duration": 500,
               "redraw": true
              },
              "fromcurrent": true,
              "mode": "immediate",
              "transition": {
               "duration": 500,
               "easing": "linear"
              }
             }
            ],
            "label": "&#9654;",
            "method": "animate"
           },
           {
            "args": [
             [
              null
             ],
             {
              "frame": {
               "duration": 0,
               "redraw": true
              },
              "fromcurrent": true,
              "mode": "immediate",
              "transition": {
               "duration": 0,
               "easing": "linear"
              }
             }
            ],
            "label": "&#9724;",
            "method": "animate"
           }
          ],
          "direction": "left",
          "pad": {
           "r": 10,
           "t": 70
          },
          "showactive": false,
          "type": "buttons",
          "x": 0.1,
          "xanchor": "right",
          "y": 0,
          "yanchor": "top"
         }
        ],
        "width": 700
       }
      },
      "text/html": [
       "<div>\n",
       "        \n",
       "        \n",
       "            <div id=\"f21c9fa0-3934-44b1-b5d8-5655ae344c2b\" class=\"plotly-graph-div\" style=\"height:700px; width:700px;\"></div>\n",
       "            <script type=\"text/javascript\">\n",
       "                require([\"plotly\"], function(Plotly) {\n",
       "                    window.PLOTLYENV=window.PLOTLYENV || {};\n",
       "                    \n",
       "                if (document.getElementById(\"f21c9fa0-3934-44b1-b5d8-5655ae344c2b\")) {\n",
       "                    Plotly.newPlot(\n",
       "                        'f21c9fa0-3934-44b1-b5d8-5655ae344c2b',\n",
       "                        [{\"hovertemplate\": \"country=uk<br>Date=2019-03-11<br>score_difference=%{r}<br>term=%{theta}<extra></extra>\", \"legendgroup\": \"uk\", \"line\": {\"color\": \"red\", \"dash\": \"solid\", \"shape\": \"spline\"}, \"mode\": \"lines\", \"name\": \"uk\", \"r\": [-1.0, 2.0, 6.0, 3.0, -1.0, 0.0, 0.0, 0.0, 5.0, 0.0, 3.0, 5.0, 1.0, 2.0, 0.0, -1.0], \"showlegend\": true, \"subplot\": \"polar\", \"theta\": [\"baking\", \"bananabread\", \"beans\", \"coffee\", \"cooking\", \"facemask\", \"grocerydelivery\", \"hand-sanitizer\", \"pasta\", \"restaurant\", \"rice\", \"spices\", \"takeaway\", \"to-go\", \"toiletpaper\", \"baking\"], \"type\": \"scatterpolar\"}],\n",
       "                        {\"height\": 700, \"legend\": {\"title\": {\"text\": \"country\"}, \"tracegroupgap\": 0}, \"margin\": {\"t\": 60}, \"polar\": {\"angularaxis\": {\"direction\": \"clockwise\", \"rotation\": 90}, \"domain\": {\"x\": [0.0, 1.0], \"y\": [0.0, 1.0]}, \"radialaxis\": {\"range\": [-47.0, 99.0]}}, \"sliders\": [{\"active\": 0, \"currentvalue\": {\"prefix\": \"Date=\"}, \"len\": 0.9, \"pad\": {\"b\": 10, \"t\": 60}, \"steps\": [{\"args\": [[\"2019-03-11\"], {\"frame\": {\"duration\": 0, \"redraw\": true}, \"fromcurrent\": true, \"mode\": \"immediate\", \"transition\": {\"duration\": 0, \"easing\": \"linear\"}}], \"label\": \"2019-03-11\", \"method\": \"animate\"}, {\"args\": [[\"2019-10-11\"], {\"frame\": {\"duration\": 0, \"redraw\": true}, \"fromcurrent\": true, \"mode\": \"immediate\", \"transition\": {\"duration\": 0, \"easing\": \"linear\"}}], \"label\": \"2019-10-11\", \"method\": \"animate\"}, {\"args\": [[\"2019-11-17\"], {\"frame\": {\"duration\": 0, \"redraw\": true}, \"fromcurrent\": true, \"mode\": \"immediate\", \"transition\": {\"duration\": 0, \"easing\": \"linear\"}}], \"label\": \"2019-11-17\", \"method\": \"animate\"}, {\"args\": [[\"2019-11-24\"], {\"frame\": {\"duration\": 0, \"redraw\": true}, \"fromcurrent\": true, \"mode\": \"immediate\", \"transition\": {\"duration\": 0, \"easing\": \"linear\"}}], \"label\": \"2019-11-24\", \"method\": \"animate\"}, {\"args\": [[\"2019-01-12\"], {\"frame\": {\"duration\": 0, \"redraw\": true}, \"fromcurrent\": true, \"mode\": \"immediate\", \"transition\": {\"duration\": 0, \"easing\": \"linear\"}}], \"label\": \"2019-01-12\", \"method\": \"animate\"}, {\"args\": [[\"2019-08-12\"], {\"frame\": {\"duration\": 0, \"redraw\": true}, \"fromcurrent\": true, \"mode\": \"immediate\", \"transition\": {\"duration\": 0, \"easing\": \"linear\"}}], \"label\": \"2019-08-12\", \"method\": \"animate\"}, {\"args\": [[\"2019-12-15\"], {\"frame\": {\"duration\": 0, \"redraw\": true}, \"fromcurrent\": true, \"mode\": \"immediate\", \"transition\": {\"duration\": 0, \"easing\": \"linear\"}}], \"label\": \"2019-12-15\", \"method\": \"animate\"}, {\"args\": [[\"2019-12-22\"], {\"frame\": {\"duration\": 0, \"redraw\": true}, \"fromcurrent\": true, \"mode\": \"immediate\", \"transition\": {\"duration\": 0, \"easing\": \"linear\"}}], \"label\": \"2019-12-22\", \"method\": \"animate\"}, {\"args\": [[\"2019-12-29\"], {\"frame\": {\"duration\": 0, \"redraw\": true}, \"fromcurrent\": true, \"mode\": \"immediate\", \"transition\": {\"duration\": 0, \"easing\": \"linear\"}}], \"label\": \"2019-12-29\", \"method\": \"animate\"}, {\"args\": [[\"2020-05-01\"], {\"frame\": {\"duration\": 0, \"redraw\": true}, \"fromcurrent\": true, \"mode\": \"immediate\", \"transition\": {\"duration\": 0, \"easing\": \"linear\"}}], \"label\": \"2020-05-01\", \"method\": \"animate\"}, {\"args\": [[\"2020-12-01\"], {\"frame\": {\"duration\": 0, \"redraw\": true}, \"fromcurrent\": true, \"mode\": \"immediate\", \"transition\": {\"duration\": 0, \"easing\": \"linear\"}}], \"label\": \"2020-12-01\", \"method\": \"animate\"}, {\"args\": [[\"2020-01-19\"], {\"frame\": {\"duration\": 0, \"redraw\": true}, \"fromcurrent\": true, \"mode\": \"immediate\", \"transition\": {\"duration\": 0, \"easing\": \"linear\"}}], \"label\": \"2020-01-19\", \"method\": \"animate\"}, {\"args\": [[\"2020-01-26\"], {\"frame\": {\"duration\": 0, \"redraw\": true}, \"fromcurrent\": true, \"mode\": \"immediate\", \"transition\": {\"duration\": 0, \"easing\": \"linear\"}}], \"label\": \"2020-01-26\", \"method\": \"animate\"}, {\"args\": [[\"2020-02-02\"], {\"frame\": {\"duration\": 0, \"redraw\": true}, \"fromcurrent\": true, \"mode\": \"immediate\", \"transition\": {\"duration\": 0, \"easing\": \"linear\"}}], \"label\": \"2020-02-02\", \"method\": \"animate\"}, {\"args\": [[\"2020-09-02\"], {\"frame\": {\"duration\": 0, \"redraw\": true}, \"fromcurrent\": true, \"mode\": \"immediate\", \"transition\": {\"duration\": 0, \"easing\": \"linear\"}}], \"label\": \"2020-09-02\", \"method\": \"animate\"}, {\"args\": [[\"2020-02-16\"], {\"frame\": {\"duration\": 0, \"redraw\": true}, \"fromcurrent\": true, \"mode\": \"immediate\", \"transition\": {\"duration\": 0, \"easing\": \"linear\"}}], \"label\": \"2020-02-16\", \"method\": \"animate\"}, {\"args\": [[\"2020-02-23\"], {\"frame\": {\"duration\": 0, \"redraw\": true}, \"fromcurrent\": true, \"mode\": \"immediate\", \"transition\": {\"duration\": 0, \"easing\": \"linear\"}}], \"label\": \"2020-02-23\", \"method\": \"animate\"}, {\"args\": [[\"2020-01-03\"], {\"frame\": {\"duration\": 0, \"redraw\": true}, \"fromcurrent\": true, \"mode\": \"immediate\", \"transition\": {\"duration\": 0, \"easing\": \"linear\"}}], \"label\": \"2020-01-03\", \"method\": \"animate\"}, {\"args\": [[\"2020-08-03\"], {\"frame\": {\"duration\": 0, \"redraw\": true}, \"fromcurrent\": true, \"mode\": \"immediate\", \"transition\": {\"duration\": 0, \"easing\": \"linear\"}}], \"label\": \"2020-08-03\", \"method\": \"animate\"}, {\"args\": [[\"2020-03-15\"], {\"frame\": {\"duration\": 0, \"redraw\": true}, \"fromcurrent\": true, \"mode\": \"immediate\", \"transition\": {\"duration\": 0, \"easing\": \"linear\"}}], \"label\": \"2020-03-15\", \"method\": \"animate\"}, {\"args\": [[\"2020-03-22\"], {\"frame\": {\"duration\": 0, \"redraw\": true}, \"fromcurrent\": true, \"mode\": \"immediate\", \"transition\": {\"duration\": 0, \"easing\": \"linear\"}}], \"label\": \"2020-03-22\", \"method\": \"animate\"}, {\"args\": [[\"2020-03-29\"], {\"frame\": {\"duration\": 0, \"redraw\": true}, \"fromcurrent\": true, \"mode\": \"immediate\", \"transition\": {\"duration\": 0, \"easing\": \"linear\"}}], \"label\": \"2020-03-29\", \"method\": \"animate\"}, {\"args\": [[\"2020-05-04\"], {\"frame\": {\"duration\": 0, \"redraw\": true}, \"fromcurrent\": true, \"mode\": \"immediate\", \"transition\": {\"duration\": 0, \"easing\": \"linear\"}}], \"label\": \"2020-05-04\", \"method\": \"animate\"}, {\"args\": [[\"2020-12-04\"], {\"frame\": {\"duration\": 0, \"redraw\": true}, \"fromcurrent\": true, \"mode\": \"immediate\", \"transition\": {\"duration\": 0, \"easing\": \"linear\"}}], \"label\": \"2020-12-04\", \"method\": \"animate\"}, {\"args\": [[\"2020-04-19\"], {\"frame\": {\"duration\": 0, \"redraw\": true}, \"fromcurrent\": true, \"mode\": \"immediate\", \"transition\": {\"duration\": 0, \"easing\": \"linear\"}}], \"label\": \"2020-04-19\", \"method\": \"animate\"}, {\"args\": [[\"2020-04-26\"], {\"frame\": {\"duration\": 0, \"redraw\": true}, \"fromcurrent\": true, \"mode\": \"immediate\", \"transition\": {\"duration\": 0, \"easing\": \"linear\"}}], \"label\": \"2020-04-26\", \"method\": \"animate\"}, {\"args\": [[\"2020-03-05\"], {\"frame\": {\"duration\": 0, \"redraw\": true}, \"fromcurrent\": true, \"mode\": \"immediate\", \"transition\": {\"duration\": 0, \"easing\": \"linear\"}}], \"label\": \"2020-03-05\", \"method\": \"animate\"}, {\"args\": [[\"2020-10-05\"], {\"frame\": {\"duration\": 0, \"redraw\": true}, \"fromcurrent\": true, \"mode\": \"immediate\", \"transition\": {\"duration\": 0, \"easing\": \"linear\"}}], \"label\": \"2020-10-05\", \"method\": \"animate\"}, {\"args\": [[\"2020-05-17\"], {\"frame\": {\"duration\": 0, \"redraw\": true}, \"fromcurrent\": true, \"mode\": \"immediate\", \"transition\": {\"duration\": 0, \"easing\": \"linear\"}}], \"label\": \"2020-05-17\", \"method\": \"animate\"}, {\"args\": [[\"2020-05-24\"], {\"frame\": {\"duration\": 0, \"redraw\": true}, \"fromcurrent\": true, \"mode\": \"immediate\", \"transition\": {\"duration\": 0, \"easing\": \"linear\"}}], \"label\": \"2020-05-24\", \"method\": \"animate\"}, {\"args\": [[\"2020-05-31\"], {\"frame\": {\"duration\": 0, \"redraw\": true}, \"fromcurrent\": true, \"mode\": \"immediate\", \"transition\": {\"duration\": 0, \"easing\": \"linear\"}}], \"label\": \"2020-05-31\", \"method\": \"animate\"}, {\"args\": [[\"2020-07-06\"], {\"frame\": {\"duration\": 0, \"redraw\": true}, \"fromcurrent\": true, \"mode\": \"immediate\", \"transition\": {\"duration\": 0, \"easing\": \"linear\"}}], \"label\": \"2020-07-06\", \"method\": \"animate\"}, {\"args\": [[\"2020-06-14\"], {\"frame\": {\"duration\": 0, \"redraw\": true}, \"fromcurrent\": true, \"mode\": \"immediate\", \"transition\": {\"duration\": 0, \"easing\": \"linear\"}}], \"label\": \"2020-06-14\", \"method\": \"animate\"}, {\"args\": [[\"2020-06-21\"], {\"frame\": {\"duration\": 0, \"redraw\": true}, \"fromcurrent\": true, \"mode\": \"immediate\", \"transition\": {\"duration\": 0, \"easing\": \"linear\"}}], \"label\": \"2020-06-21\", \"method\": \"animate\"}, {\"args\": [[\"2020-06-28\"], {\"frame\": {\"duration\": 0, \"redraw\": true}, \"fromcurrent\": true, \"mode\": \"immediate\", \"transition\": {\"duration\": 0, \"easing\": \"linear\"}}], \"label\": \"2020-06-28\", \"method\": \"animate\"}, {\"args\": [[\"2020-05-07\"], {\"frame\": {\"duration\": 0, \"redraw\": true}, \"fromcurrent\": true, \"mode\": \"immediate\", \"transition\": {\"duration\": 0, \"easing\": \"linear\"}}], \"label\": \"2020-05-07\", \"method\": \"animate\"}, {\"args\": [[\"2020-12-07\"], {\"frame\": {\"duration\": 0, \"redraw\": true}, \"fromcurrent\": true, \"mode\": \"immediate\", \"transition\": {\"duration\": 0, \"easing\": \"linear\"}}], \"label\": \"2020-12-07\", \"method\": \"animate\"}, {\"args\": [[\"2020-07-19\"], {\"frame\": {\"duration\": 0, \"redraw\": true}, \"fromcurrent\": true, \"mode\": \"immediate\", \"transition\": {\"duration\": 0, \"easing\": \"linear\"}}], \"label\": \"2020-07-19\", \"method\": \"animate\"}, {\"args\": [[\"2020-07-26\"], {\"frame\": {\"duration\": 0, \"redraw\": true}, \"fromcurrent\": true, \"mode\": \"immediate\", \"transition\": {\"duration\": 0, \"easing\": \"linear\"}}], \"label\": \"2020-07-26\", \"method\": \"animate\"}, {\"args\": [[\"2020-02-08\"], {\"frame\": {\"duration\": 0, \"redraw\": true}, \"fromcurrent\": true, \"mode\": \"immediate\", \"transition\": {\"duration\": 0, \"easing\": \"linear\"}}], \"label\": \"2020-02-08\", \"method\": \"animate\"}, {\"args\": [[\"2020-09-08\"], {\"frame\": {\"duration\": 0, \"redraw\": true}, \"fromcurrent\": true, \"mode\": \"immediate\", \"transition\": {\"duration\": 0, \"easing\": \"linear\"}}], \"label\": \"2020-09-08\", \"method\": \"animate\"}, {\"args\": [[\"2020-08-16\"], {\"frame\": {\"duration\": 0, \"redraw\": true}, \"fromcurrent\": true, \"mode\": \"immediate\", \"transition\": {\"duration\": 0, \"easing\": \"linear\"}}], \"label\": \"2020-08-16\", \"method\": \"animate\"}, {\"args\": [[\"2020-08-23\"], {\"frame\": {\"duration\": 0, \"redraw\": true}, \"fromcurrent\": true, \"mode\": \"immediate\", \"transition\": {\"duration\": 0, \"easing\": \"linear\"}}], \"label\": \"2020-08-23\", \"method\": \"animate\"}, {\"args\": [[\"2020-08-30\"], {\"frame\": {\"duration\": 0, \"redraw\": true}, \"fromcurrent\": true, \"mode\": \"immediate\", \"transition\": {\"duration\": 0, \"easing\": \"linear\"}}], \"label\": \"2020-08-30\", \"method\": \"animate\"}, {\"args\": [[\"2020-06-09\"], {\"frame\": {\"duration\": 0, \"redraw\": true}, \"fromcurrent\": true, \"mode\": \"immediate\", \"transition\": {\"duration\": 0, \"easing\": \"linear\"}}], \"label\": \"2020-06-09\", \"method\": \"animate\"}, {\"args\": [[\"2020-09-13\"], {\"frame\": {\"duration\": 0, \"redraw\": true}, \"fromcurrent\": true, \"mode\": \"immediate\", \"transition\": {\"duration\": 0, \"easing\": \"linear\"}}], \"label\": \"2020-09-13\", \"method\": \"animate\"}, {\"args\": [[\"2020-09-20\"], {\"frame\": {\"duration\": 0, \"redraw\": true}, \"fromcurrent\": true, \"mode\": \"immediate\", \"transition\": {\"duration\": 0, \"easing\": \"linear\"}}], \"label\": \"2020-09-20\", \"method\": \"animate\"}, {\"args\": [[\"2020-09-27\"], {\"frame\": {\"duration\": 0, \"redraw\": true}, \"fromcurrent\": true, \"mode\": \"immediate\", \"transition\": {\"duration\": 0, \"easing\": \"linear\"}}], \"label\": \"2020-09-27\", \"method\": \"animate\"}, {\"args\": [[\"2020-04-10\"], {\"frame\": {\"duration\": 0, \"redraw\": true}, \"fromcurrent\": true, \"mode\": \"immediate\", \"transition\": {\"duration\": 0, \"easing\": \"linear\"}}], \"label\": \"2020-04-10\", \"method\": \"animate\"}, {\"args\": [[\"2020-11-10\"], {\"frame\": {\"duration\": 0, \"redraw\": true}, \"fromcurrent\": true, \"mode\": \"immediate\", \"transition\": {\"duration\": 0, \"easing\": \"linear\"}}], \"label\": \"2020-11-10\", \"method\": \"animate\"}, {\"args\": [[\"2020-10-18\"], {\"frame\": {\"duration\": 0, \"redraw\": true}, \"fromcurrent\": true, \"mode\": \"immediate\", \"transition\": {\"duration\": 0, \"easing\": \"linear\"}}], \"label\": \"2020-10-18\", \"method\": \"animate\"}, {\"args\": [[\"2020-10-25\"], {\"frame\": {\"duration\": 0, \"redraw\": true}, \"fromcurrent\": true, \"mode\": \"immediate\", \"transition\": {\"duration\": 0, \"easing\": \"linear\"}}], \"label\": \"2020-10-25\", \"method\": \"animate\"}, {\"args\": [[\"2020-01-11\"], {\"frame\": {\"duration\": 0, \"redraw\": true}, \"fromcurrent\": true, \"mode\": \"immediate\", \"transition\": {\"duration\": 0, \"easing\": \"linear\"}}], \"label\": \"2020-01-11\", \"method\": \"animate\"}], \"x\": 0.1, \"xanchor\": \"left\", \"y\": 0, \"yanchor\": \"top\"}], \"template\": {\"data\": {\"bar\": [{\"error_x\": {\"color\": \"#2a3f5f\"}, \"error_y\": {\"color\": \"#2a3f5f\"}, \"marker\": {\"line\": {\"color\": \"#E5ECF6\", \"width\": 0.5}}, \"type\": \"bar\"}], \"barpolar\": [{\"marker\": {\"line\": {\"color\": \"#E5ECF6\", \"width\": 0.5}}, \"type\": \"barpolar\"}], \"carpet\": [{\"aaxis\": {\"endlinecolor\": \"#2a3f5f\", \"gridcolor\": \"white\", \"linecolor\": \"white\", \"minorgridcolor\": \"white\", \"startlinecolor\": \"#2a3f5f\"}, \"baxis\": {\"endlinecolor\": \"#2a3f5f\", \"gridcolor\": \"white\", \"linecolor\": \"white\", \"minorgridcolor\": \"white\", \"startlinecolor\": \"#2a3f5f\"}, \"type\": \"carpet\"}], \"choropleth\": [{\"colorbar\": {\"outlinewidth\": 0, \"ticks\": \"\"}, \"type\": \"choropleth\"}], \"contour\": [{\"colorbar\": {\"outlinewidth\": 0, \"ticks\": \"\"}, \"colorscale\": [[0.0, \"#0d0887\"], [0.1111111111111111, \"#46039f\"], [0.2222222222222222, \"#7201a8\"], [0.3333333333333333, \"#9c179e\"], [0.4444444444444444, \"#bd3786\"], [0.5555555555555556, \"#d8576b\"], [0.6666666666666666, \"#ed7953\"], [0.7777777777777778, \"#fb9f3a\"], [0.8888888888888888, \"#fdca26\"], [1.0, \"#f0f921\"]], \"type\": \"contour\"}], \"contourcarpet\": [{\"colorbar\": {\"outlinewidth\": 0, \"ticks\": \"\"}, \"type\": \"contourcarpet\"}], \"heatmap\": [{\"colorbar\": {\"outlinewidth\": 0, \"ticks\": \"\"}, \"colorscale\": [[0.0, \"#0d0887\"], [0.1111111111111111, \"#46039f\"], [0.2222222222222222, \"#7201a8\"], [0.3333333333333333, \"#9c179e\"], [0.4444444444444444, \"#bd3786\"], [0.5555555555555556, \"#d8576b\"], [0.6666666666666666, \"#ed7953\"], [0.7777777777777778, \"#fb9f3a\"], [0.8888888888888888, \"#fdca26\"], [1.0, \"#f0f921\"]], \"type\": \"heatmap\"}], \"heatmapgl\": [{\"colorbar\": {\"outlinewidth\": 0, \"ticks\": \"\"}, \"colorscale\": [[0.0, \"#0d0887\"], [0.1111111111111111, \"#46039f\"], [0.2222222222222222, \"#7201a8\"], [0.3333333333333333, \"#9c179e\"], [0.4444444444444444, \"#bd3786\"], [0.5555555555555556, \"#d8576b\"], [0.6666666666666666, \"#ed7953\"], [0.7777777777777778, \"#fb9f3a\"], [0.8888888888888888, \"#fdca26\"], [1.0, \"#f0f921\"]], \"type\": \"heatmapgl\"}], \"histogram\": [{\"marker\": {\"colorbar\": {\"outlinewidth\": 0, \"ticks\": \"\"}}, \"type\": \"histogram\"}], \"histogram2d\": [{\"colorbar\": {\"outlinewidth\": 0, \"ticks\": \"\"}, \"colorscale\": [[0.0, \"#0d0887\"], [0.1111111111111111, \"#46039f\"], [0.2222222222222222, \"#7201a8\"], [0.3333333333333333, \"#9c179e\"], [0.4444444444444444, \"#bd3786\"], [0.5555555555555556, \"#d8576b\"], [0.6666666666666666, \"#ed7953\"], [0.7777777777777778, \"#fb9f3a\"], [0.8888888888888888, \"#fdca26\"], [1.0, \"#f0f921\"]], \"type\": \"histogram2d\"}], \"histogram2dcontour\": [{\"colorbar\": {\"outlinewidth\": 0, \"ticks\": \"\"}, \"colorscale\": [[0.0, \"#0d0887\"], [0.1111111111111111, \"#46039f\"], [0.2222222222222222, \"#7201a8\"], [0.3333333333333333, \"#9c179e\"], [0.4444444444444444, \"#bd3786\"], [0.5555555555555556, \"#d8576b\"], [0.6666666666666666, \"#ed7953\"], [0.7777777777777778, \"#fb9f3a\"], [0.8888888888888888, \"#fdca26\"], [1.0, \"#f0f921\"]], \"type\": \"histogram2dcontour\"}], \"mesh3d\": [{\"colorbar\": {\"outlinewidth\": 0, \"ticks\": \"\"}, \"type\": \"mesh3d\"}], \"parcoords\": [{\"line\": {\"colorbar\": {\"outlinewidth\": 0, \"ticks\": \"\"}}, \"type\": \"parcoords\"}], \"pie\": [{\"automargin\": true, \"type\": \"pie\"}], \"scatter\": [{\"marker\": {\"colorbar\": {\"outlinewidth\": 0, \"ticks\": \"\"}}, \"type\": \"scatter\"}], \"scatter3d\": [{\"line\": {\"colorbar\": {\"outlinewidth\": 0, \"ticks\": \"\"}}, \"marker\": {\"colorbar\": {\"outlinewidth\": 0, \"ticks\": \"\"}}, \"type\": \"scatter3d\"}], \"scattercarpet\": [{\"marker\": {\"colorbar\": {\"outlinewidth\": 0, \"ticks\": \"\"}}, \"type\": \"scattercarpet\"}], \"scattergeo\": [{\"marker\": {\"colorbar\": {\"outlinewidth\": 0, \"ticks\": \"\"}}, \"type\": \"scattergeo\"}], \"scattergl\": [{\"marker\": {\"colorbar\": {\"outlinewidth\": 0, \"ticks\": \"\"}}, \"type\": \"scattergl\"}], \"scattermapbox\": [{\"marker\": {\"colorbar\": {\"outlinewidth\": 0, \"ticks\": \"\"}}, \"type\": \"scattermapbox\"}], \"scatterpolar\": [{\"marker\": {\"colorbar\": {\"outlinewidth\": 0, \"ticks\": \"\"}}, \"type\": \"scatterpolar\"}], \"scatterpolargl\": [{\"marker\": {\"colorbar\": {\"outlinewidth\": 0, \"ticks\": \"\"}}, \"type\": \"scatterpolargl\"}], \"scatterternary\": [{\"marker\": {\"colorbar\": {\"outlinewidth\": 0, \"ticks\": \"\"}}, \"type\": \"scatterternary\"}], \"surface\": [{\"colorbar\": {\"outlinewidth\": 0, \"ticks\": \"\"}, \"colorscale\": [[0.0, \"#0d0887\"], [0.1111111111111111, \"#46039f\"], [0.2222222222222222, \"#7201a8\"], [0.3333333333333333, \"#9c179e\"], [0.4444444444444444, \"#bd3786\"], [0.5555555555555556, \"#d8576b\"], [0.6666666666666666, \"#ed7953\"], [0.7777777777777778, \"#fb9f3a\"], [0.8888888888888888, \"#fdca26\"], [1.0, \"#f0f921\"]], \"type\": \"surface\"}], \"table\": [{\"cells\": {\"fill\": {\"color\": \"#EBF0F8\"}, \"line\": {\"color\": \"white\"}}, \"header\": {\"fill\": {\"color\": \"#C8D4E3\"}, \"line\": {\"color\": \"white\"}}, \"type\": \"table\"}]}, \"layout\": {\"annotationdefaults\": {\"arrowcolor\": \"#2a3f5f\", \"arrowhead\": 0, \"arrowwidth\": 1}, \"coloraxis\": {\"colorbar\": {\"outlinewidth\": 0, \"ticks\": \"\"}}, \"colorscale\": {\"diverging\": [[0, \"#8e0152\"], [0.1, \"#c51b7d\"], [0.2, \"#de77ae\"], [0.3, \"#f1b6da\"], [0.4, \"#fde0ef\"], [0.5, \"#f7f7f7\"], [0.6, \"#e6f5d0\"], [0.7, \"#b8e186\"], [0.8, \"#7fbc41\"], [0.9, \"#4d9221\"], [1, \"#276419\"]], \"sequential\": [[0.0, \"#0d0887\"], [0.1111111111111111, \"#46039f\"], [0.2222222222222222, \"#7201a8\"], [0.3333333333333333, \"#9c179e\"], [0.4444444444444444, \"#bd3786\"], [0.5555555555555556, \"#d8576b\"], [0.6666666666666666, \"#ed7953\"], [0.7777777777777778, \"#fb9f3a\"], [0.8888888888888888, \"#fdca26\"], [1.0, \"#f0f921\"]], \"sequentialminus\": [[0.0, \"#0d0887\"], [0.1111111111111111, \"#46039f\"], [0.2222222222222222, \"#7201a8\"], [0.3333333333333333, \"#9c179e\"], [0.4444444444444444, \"#bd3786\"], [0.5555555555555556, \"#d8576b\"], [0.6666666666666666, \"#ed7953\"], [0.7777777777777778, \"#fb9f3a\"], [0.8888888888888888, \"#fdca26\"], [1.0, \"#f0f921\"]]}, \"colorway\": [\"#636efa\", \"#EF553B\", \"#00cc96\", \"#ab63fa\", \"#FFA15A\", \"#19d3f3\", \"#FF6692\", \"#B6E880\", \"#FF97FF\", \"#FECB52\"], \"font\": {\"color\": \"#2a3f5f\"}, \"geo\": {\"bgcolor\": \"white\", \"lakecolor\": \"white\", \"landcolor\": \"#E5ECF6\", \"showlakes\": true, \"showland\": true, \"subunitcolor\": \"white\"}, \"hoverlabel\": {\"align\": \"left\"}, \"hovermode\": \"closest\", \"mapbox\": {\"style\": \"light\"}, \"paper_bgcolor\": \"white\", \"plot_bgcolor\": \"#E5ECF6\", \"polar\": {\"angularaxis\": {\"gridcolor\": \"white\", \"linecolor\": \"white\", \"ticks\": \"\"}, \"bgcolor\": \"#E5ECF6\", \"radialaxis\": {\"gridcolor\": \"white\", \"linecolor\": \"white\", \"ticks\": \"\"}}, \"scene\": {\"xaxis\": {\"backgroundcolor\": \"#E5ECF6\", \"gridcolor\": \"white\", \"gridwidth\": 2, \"linecolor\": \"white\", \"showbackground\": true, \"ticks\": \"\", \"zerolinecolor\": \"white\"}, \"yaxis\": {\"backgroundcolor\": \"#E5ECF6\", \"gridcolor\": \"white\", \"gridwidth\": 2, \"linecolor\": \"white\", \"showbackground\": true, \"ticks\": \"\", \"zerolinecolor\": \"white\"}, \"zaxis\": {\"backgroundcolor\": \"#E5ECF6\", \"gridcolor\": \"white\", \"gridwidth\": 2, \"linecolor\": \"white\", \"showbackground\": true, \"ticks\": \"\", \"zerolinecolor\": \"white\"}}, \"shapedefaults\": {\"line\": {\"color\": \"#2a3f5f\"}}, \"ternary\": {\"aaxis\": {\"gridcolor\": \"white\", \"linecolor\": \"white\", \"ticks\": \"\"}, \"baxis\": {\"gridcolor\": \"white\", \"linecolor\": \"white\", \"ticks\": \"\"}, \"bgcolor\": \"#E5ECF6\", \"caxis\": {\"gridcolor\": \"white\", \"linecolor\": \"white\", \"ticks\": \"\"}}, \"title\": {\"x\": 0.05}, \"xaxis\": {\"automargin\": true, \"gridcolor\": \"white\", \"linecolor\": \"white\", \"ticks\": \"\", \"title\": {\"standoff\": 15}, \"zerolinecolor\": \"white\", \"zerolinewidth\": 2}, \"yaxis\": {\"automargin\": true, \"gridcolor\": \"white\", \"linecolor\": \"white\", \"ticks\": \"\", \"title\": {\"standoff\": 15}, \"zerolinecolor\": \"white\", \"zerolinewidth\": 2}}}, \"updatemenus\": [{\"buttons\": [{\"args\": [null, {\"frame\": {\"duration\": 500, \"redraw\": true}, \"fromcurrent\": true, \"mode\": \"immediate\", \"transition\": {\"duration\": 500, \"easing\": \"linear\"}}], \"label\": \"&#9654;\", \"method\": \"animate\"}, {\"args\": [[null], {\"frame\": {\"duration\": 0, \"redraw\": true}, \"fromcurrent\": true, \"mode\": \"immediate\", \"transition\": {\"duration\": 0, \"easing\": \"linear\"}}], \"label\": \"&#9724;\", \"method\": \"animate\"}], \"direction\": \"left\", \"pad\": {\"r\": 10, \"t\": 70}, \"showactive\": false, \"type\": \"buttons\", \"x\": 0.1, \"xanchor\": \"right\", \"y\": 0, \"yanchor\": \"top\"}], \"width\": 700},\n",
       "                        {\"responsive\": true}\n",
       "                    ).then(function(){\n",
       "                            Plotly.addFrames('f21c9fa0-3934-44b1-b5d8-5655ae344c2b', [{\"data\": [{\"hovertemplate\": \"country=uk<br>Date=2019-03-11<br>score_difference=%{r}<br>term=%{theta}<extra></extra>\", \"legendgroup\": \"uk\", \"line\": {\"color\": \"red\", \"dash\": \"solid\", \"shape\": \"spline\"}, \"mode\": \"lines\", \"name\": \"uk\", \"r\": [-1.0, 2.0, 6.0, 3.0, -1.0, 0.0, 0.0, 0.0, 5.0, 0.0, 3.0, 5.0, 1.0, 2.0, 0.0, -1.0], \"showlegend\": true, \"subplot\": \"polar\", \"theta\": [\"baking\", \"bananabread\", \"beans\", \"coffee\", \"cooking\", \"facemask\", \"grocerydelivery\", \"hand-sanitizer\", \"pasta\", \"restaurant\", \"rice\", \"spices\", \"takeaway\", \"to-go\", \"toiletpaper\", \"baking\"], \"type\": \"scatterpolar\"}], \"name\": \"2019-03-11\"}, {\"data\": [{\"hovertemplate\": \"country=uk<br>Date=2019-10-11<br>score_difference=%{r}<br>term=%{theta}<extra></extra>\", \"legendgroup\": \"uk\", \"line\": {\"color\": \"red\", \"dash\": \"solid\", \"shape\": \"spline\"}, \"mode\": \"lines\", \"name\": \"uk\", \"r\": [1.0, 1.0, 8.0, 3.0, 0.0, 0.0, 2.0, 0.0, 4.0, 2.0, 4.0, -5.0, -7.0, 1.0, -1.0, 1.0], \"showlegend\": true, \"subplot\": \"polar\", \"theta\": [\"baking\", \"bananabread\", \"beans\", \"coffee\", \"cooking\", \"facemask\", \"grocerydelivery\", \"hand-sanitizer\", \"pasta\", \"restaurant\", \"rice\", \"spices\", \"takeaway\", \"to-go\", \"toiletpaper\", \"baking\"], \"type\": \"scatterpolar\"}], \"name\": \"2019-10-11\"}, {\"data\": [{\"hovertemplate\": \"country=uk<br>Date=2019-11-17<br>score_difference=%{r}<br>term=%{theta}<extra></extra>\", \"legendgroup\": \"uk\", \"line\": {\"color\": \"red\", \"dash\": \"solid\", \"shape\": \"spline\"}, \"mode\": \"lines\", \"name\": \"uk\", \"r\": [3.0, 2.0, 3.0, 0.0, 1.0, 1.0, 2.0, 0.0, 5.0, 3.0, 2.0, 4.0, -3.0, 2.0, -1.0, 3.0], \"showlegend\": true, \"subplot\": \"polar\", \"theta\": [\"baking\", \"bananabread\", \"beans\", \"coffee\", \"cooking\", \"facemask\", \"grocerydelivery\", \"hand-sanitizer\", \"pasta\", \"restaurant\", \"rice\", \"spices\", \"takeaway\", \"to-go\", \"toiletpaper\", \"baking\"], \"type\": \"scatterpolar\"}], \"name\": \"2019-11-17\"}, {\"data\": [{\"hovertemplate\": \"country=uk<br>Date=2019-11-24<br>score_difference=%{r}<br>term=%{theta}<extra></extra>\", \"legendgroup\": \"uk\", \"line\": {\"color\": \"red\", \"dash\": \"solid\", \"shape\": \"spline\"}, \"mode\": \"lines\", \"name\": \"uk\", \"r\": [0.0, -1.0, 10.0, 6.0, 0.0, 0.0, 0.0, 0.0, 3.0, -2.0, 2.0, -7.0, 0.0, 1.0, 0.0, 0.0], \"showlegend\": true, \"subplot\": \"polar\", \"theta\": [\"baking\", \"bananabread\", \"beans\", \"coffee\", \"cooking\", \"facemask\", \"grocerydelivery\", \"hand-sanitizer\", \"pasta\", \"restaurant\", \"rice\", \"spices\", \"takeaway\", \"to-go\", \"toiletpaper\", \"baking\"], \"type\": \"scatterpolar\"}], \"name\": \"2019-11-24\"}, {\"data\": [{\"hovertemplate\": \"country=uk<br>Date=2019-01-12<br>score_difference=%{r}<br>term=%{theta}<extra></extra>\", \"legendgroup\": \"uk\", \"line\": {\"color\": \"red\", \"dash\": \"solid\", \"shape\": \"spline\"}, \"mode\": \"lines\", \"name\": \"uk\", \"r\": [-1.0, 1.0, 4.0, 8.0, -2.0, 1.0, 0.0, 0.0, 3.0, -3.0, -4.0, 0.0, 0.0, 0.0, 0.0, -1.0], \"showlegend\": true, \"subplot\": \"polar\", \"theta\": [\"baking\", \"bananabread\", \"beans\", \"coffee\", \"cooking\", \"facemask\", \"grocerydelivery\", \"hand-sanitizer\", \"pasta\", \"restaurant\", \"rice\", \"spices\", \"takeaway\", \"to-go\", \"toiletpaper\", \"baking\"], \"type\": \"scatterpolar\"}], \"name\": \"2019-01-12\"}, {\"data\": [{\"hovertemplate\": \"country=uk<br>Date=2019-08-12<br>score_difference=%{r}<br>term=%{theta}<extra></extra>\", \"legendgroup\": \"uk\", \"line\": {\"color\": \"red\", \"dash\": \"solid\", \"shape\": \"spline\"}, \"mode\": \"lines\", \"name\": \"uk\", \"r\": [-3.0, 0.0, 0.0, 1.0, -1.0, 1.0, 1.0, 0.0, 1.0, 7.0, 3.0, -6.0, -7.0, 1.0, 0.0, -3.0], \"showlegend\": true, \"subplot\": \"polar\", \"theta\": [\"baking\", \"bananabread\", \"beans\", \"coffee\", \"cooking\", \"facemask\", \"grocerydelivery\", \"hand-sanitizer\", \"pasta\", \"restaurant\", \"rice\", \"spices\", \"takeaway\", \"to-go\", \"toiletpaper\", \"baking\"], \"type\": \"scatterpolar\"}], \"name\": \"2019-08-12\"}, {\"data\": [{\"hovertemplate\": \"country=uk<br>Date=2019-12-15<br>score_difference=%{r}<br>term=%{theta}<extra></extra>\", \"legendgroup\": \"uk\", \"line\": {\"color\": \"red\", \"dash\": \"solid\", \"shape\": \"spline\"}, \"mode\": \"lines\", \"name\": \"uk\", \"r\": [0.0, 0.0, 8.0, 4.0, -3.0, 0.0, 2.0, 0.0, 9.0, 6.0, 2.0, 9.0, -6.0, 4.0, 1.0, 0.0], \"showlegend\": true, \"subplot\": \"polar\", \"theta\": [\"baking\", \"bananabread\", \"beans\", \"coffee\", \"cooking\", \"facemask\", \"grocerydelivery\", \"hand-sanitizer\", \"pasta\", \"restaurant\", \"rice\", \"spices\", \"takeaway\", \"to-go\", \"toiletpaper\", \"baking\"], \"type\": \"scatterpolar\"}], \"name\": \"2019-12-15\"}, {\"data\": [{\"hovertemplate\": \"country=uk<br>Date=2019-12-22<br>score_difference=%{r}<br>term=%{theta}<extra></extra>\", \"legendgroup\": \"uk\", \"line\": {\"color\": \"red\", \"dash\": \"solid\", \"shape\": \"spline\"}, \"mode\": \"lines\", \"name\": \"uk\", \"r\": [1.0, -2.0, 0.0, 4.0, 0.0, 0.0, 2.0, 0.0, 3.0, 3.0, 0.0, -3.0, -2.0, -4.0, 1.0, 1.0], \"showlegend\": true, \"subplot\": \"polar\", \"theta\": [\"baking\", \"bananabread\", \"beans\", \"coffee\", \"cooking\", \"facemask\", \"grocerydelivery\", \"hand-sanitizer\", \"pasta\", \"restaurant\", \"rice\", \"spices\", \"takeaway\", \"to-go\", \"toiletpaper\", \"baking\"], \"type\": \"scatterpolar\"}], \"name\": \"2019-12-22\"}, {\"data\": [{\"hovertemplate\": \"country=uk<br>Date=2019-12-29<br>score_difference=%{r}<br>term=%{theta}<extra></extra>\", \"legendgroup\": \"uk\", \"line\": {\"color\": \"red\", \"dash\": \"solid\", \"shape\": \"spline\"}, \"mode\": \"lines\", \"name\": \"uk\", \"r\": [-2.0, -1.0, -2.0, 3.0, -1.0, 0.0, 2.0, 0.0, 2.0, 6.0, 13.0, -7.0, -8.0, -3.0, 0.0, -2.0], \"showlegend\": true, \"subplot\": \"polar\", \"theta\": [\"baking\", \"bananabread\", \"beans\", \"coffee\", \"cooking\", \"facemask\", \"grocerydelivery\", \"hand-sanitizer\", \"pasta\", \"restaurant\", \"rice\", \"spices\", \"takeaway\", \"to-go\", \"toiletpaper\", \"baking\"], \"type\": \"scatterpolar\"}], \"name\": \"2019-12-29\"}, {\"data\": [{\"hovertemplate\": \"country=uk<br>Date=2020-05-01<br>score_difference=%{r}<br>term=%{theta}<extra></extra>\", \"legendgroup\": \"uk\", \"line\": {\"color\": \"red\", \"dash\": \"solid\", \"shape\": \"spline\"}, \"mode\": \"lines\", \"name\": \"uk\", \"r\": [0.0, 2.0, 2.0, 5.0, 1.0, -1.0, 1.0, 0.0, 5.0, 0.0, 1.0, 3.0, -5.0, 4.0, 2.0, 0.0], \"showlegend\": true, \"subplot\": \"polar\", \"theta\": [\"baking\", \"bananabread\", \"beans\", \"coffee\", \"cooking\", \"facemask\", \"grocerydelivery\", \"hand-sanitizer\", \"pasta\", \"restaurant\", \"rice\", \"spices\", \"takeaway\", \"to-go\", \"toiletpaper\", \"baking\"], \"type\": \"scatterpolar\"}], \"name\": \"2020-05-01\"}, {\"data\": [{\"hovertemplate\": \"country=uk<br>Date=2020-12-01<br>score_difference=%{r}<br>term=%{theta}<extra></extra>\", \"legendgroup\": \"uk\", \"line\": {\"color\": \"red\", \"dash\": \"solid\", \"shape\": \"spline\"}, \"mode\": \"lines\", \"name\": \"uk\", \"r\": [3.0, 1.0, 1.0, 3.0, 0.0, 0.0, 0.0, 0.0, 1.0, 3.0, -2.0, 13.0, -9.0, 4.0, 1.0, 3.0], \"showlegend\": true, \"subplot\": \"polar\", \"theta\": [\"baking\", \"bananabread\", \"beans\", \"coffee\", \"cooking\", \"facemask\", \"grocerydelivery\", \"hand-sanitizer\", \"pasta\", \"restaurant\", \"rice\", \"spices\", \"takeaway\", \"to-go\", \"toiletpaper\", \"baking\"], \"type\": \"scatterpolar\"}], \"name\": \"2020-12-01\"}, {\"data\": [{\"hovertemplate\": \"country=uk<br>Date=2020-01-19<br>score_difference=%{r}<br>term=%{theta}<extra></extra>\", \"legendgroup\": \"uk\", \"line\": {\"color\": \"red\", \"dash\": \"solid\", \"shape\": \"spline\"}, \"mode\": \"lines\", \"name\": \"uk\", \"r\": [-1.0, 2.0, 6.0, 6.0, 0.0, 2.0, 1.0, 0.0, 8.0, 2.0, 8.0, -6.0, 1.0, 2.0, 0.0, -1.0], \"showlegend\": true, \"subplot\": \"polar\", \"theta\": [\"baking\", \"bananabread\", \"beans\", \"coffee\", \"cooking\", \"facemask\", \"grocerydelivery\", \"hand-sanitizer\", \"pasta\", \"restaurant\", \"rice\", \"spices\", \"takeaway\", \"to-go\", \"toiletpaper\", \"baking\"], \"type\": \"scatterpolar\"}], \"name\": \"2020-01-19\"}, {\"data\": [{\"hovertemplate\": \"country=uk<br>Date=2020-01-26<br>score_difference=%{r}<br>term=%{theta}<extra></extra>\", \"legendgroup\": \"uk\", \"line\": {\"color\": \"red\", \"dash\": \"solid\", \"shape\": \"spline\"}, \"mode\": \"lines\", \"name\": \"uk\", \"r\": [2.0, 1.0, 2.0, 2.0, 1.0, 7.0, 1.0, 0.0, 5.0, 5.0, 9.0, 7.0, 4.0, 5.0, 1.0, 2.0], \"showlegend\": true, \"subplot\": \"polar\", \"theta\": [\"baking\", \"bananabread\", \"beans\", \"coffee\", \"cooking\", \"facemask\", \"grocerydelivery\", \"hand-sanitizer\", \"pasta\", \"restaurant\", \"rice\", \"spices\", \"takeaway\", \"to-go\", \"toiletpaper\", \"baking\"], \"type\": \"scatterpolar\"}], \"name\": \"2020-01-26\"}, {\"data\": [{\"hovertemplate\": \"country=uk<br>Date=2020-02-02<br>score_difference=%{r}<br>term=%{theta}<extra></extra>\", \"legendgroup\": \"uk\", \"line\": {\"color\": \"red\", \"dash\": \"solid\", \"shape\": \"spline\"}, \"mode\": \"lines\", \"name\": \"uk\", \"r\": [2.0, 2.0, 4.0, 4.0, -1.0, 4.0, 0.0, 0.0, 5.0, -2.0, -3.0, 3.0, -9.0, 3.0, 1.0, 2.0], \"showlegend\": true, \"subplot\": \"polar\", \"theta\": [\"baking\", \"bananabread\", \"beans\", \"coffee\", \"cooking\", \"facemask\", \"grocerydelivery\", \"hand-sanitizer\", \"pasta\", \"restaurant\", \"rice\", \"spices\", \"takeaway\", \"to-go\", \"toiletpaper\", \"baking\"], \"type\": \"scatterpolar\"}], \"name\": \"2020-02-02\"}, {\"data\": [{\"hovertemplate\": \"country=uk<br>Date=2020-09-02<br>score_difference=%{r}<br>term=%{theta}<extra></extra>\", \"legendgroup\": \"uk\", \"line\": {\"color\": \"red\", \"dash\": \"solid\", \"shape\": \"spline\"}, \"mode\": \"lines\", \"name\": \"uk\", \"r\": [0.0, 2.0, -2.0, 1.0, 0.0, 4.0, 2.0, 2.0, 7.0, -1.0, 0.0, -3.0, -2.0, 2.0, -2.0, 0.0], \"showlegend\": true, \"subplot\": \"polar\", \"theta\": [\"baking\", \"bananabread\", \"beans\", \"coffee\", \"cooking\", \"facemask\", \"grocerydelivery\", \"hand-sanitizer\", \"pasta\", \"restaurant\", \"rice\", \"spices\", \"takeaway\", \"to-go\", \"toiletpaper\", \"baking\"], \"type\": \"scatterpolar\"}], \"name\": \"2020-09-02\"}, {\"data\": [{\"hovertemplate\": \"country=uk<br>Date=2020-02-16<br>score_difference=%{r}<br>term=%{theta}<extra></extra>\", \"legendgroup\": \"uk\", \"line\": {\"color\": \"red\", \"dash\": \"solid\", \"shape\": \"spline\"}, \"mode\": \"lines\", \"name\": \"uk\", \"r\": [4.0, 2.0, -1.0, 2.0, 2.0, 0.0, 2.0, 0.0, 7.0, 0.0, 2.0, -5.0, 1.0, 3.0, -18.0, 4.0], \"showlegend\": true, \"subplot\": \"polar\", \"theta\": [\"baking\", \"bananabread\", \"beans\", \"coffee\", \"cooking\", \"facemask\", \"grocerydelivery\", \"hand-sanitizer\", \"pasta\", \"restaurant\", \"rice\", \"spices\", \"takeaway\", \"to-go\", \"toiletpaper\", \"baking\"], \"type\": \"scatterpolar\"}], \"name\": \"2020-02-16\"}, {\"data\": [{\"hovertemplate\": \"country=uk<br>Date=2020-02-23<br>score_difference=%{r}<br>term=%{theta}<extra></extra>\", \"legendgroup\": \"uk\", \"line\": {\"color\": \"red\", \"dash\": \"solid\", \"shape\": \"spline\"}, \"mode\": \"lines\", \"name\": \"uk\", \"r\": [3.0, 1.0, 0.0, 3.0, 2.0, 9.0, 1.0, 12.0, 5.0, -1.0, 3.0, -1.0, 0.0, 2.0, 0.0, 3.0], \"showlegend\": true, \"subplot\": \"polar\", \"theta\": [\"baking\", \"bananabread\", \"beans\", \"coffee\", \"cooking\", \"facemask\", \"grocerydelivery\", \"hand-sanitizer\", \"pasta\", \"restaurant\", \"rice\", \"spices\", \"takeaway\", \"to-go\", \"toiletpaper\", \"baking\"], \"type\": \"scatterpolar\"}], \"name\": \"2020-02-23\"}, {\"data\": [{\"hovertemplate\": \"country=uk<br>Date=2020-01-03<br>score_difference=%{r}<br>term=%{theta}<extra></extra>\", \"legendgroup\": \"uk\", \"line\": {\"color\": \"red\", \"dash\": \"solid\", \"shape\": \"spline\"}, \"mode\": \"lines\", \"name\": \"uk\", \"r\": [-2.0, 3.0, 3.0, 0.0, 0.0, 8.0, 2.0, 89.0, 7.0, -3.0, 3.0, 6.0, 5.0, 3.0, 26.0, -2.0], \"showlegend\": true, \"subplot\": \"polar\", \"theta\": [\"baking\", \"bananabread\", \"beans\", \"coffee\", \"cooking\", \"facemask\", \"grocerydelivery\", \"hand-sanitizer\", \"pasta\", \"restaurant\", \"rice\", \"spices\", \"takeaway\", \"to-go\", \"toiletpaper\", \"baking\"], \"type\": \"scatterpolar\"}], \"name\": \"2020-01-03\"}, {\"data\": [{\"hovertemplate\": \"country=uk<br>Date=2020-08-03<br>score_difference=%{r}<br>term=%{theta}<extra></extra>\", \"legendgroup\": \"uk\", \"line\": {\"color\": \"red\", \"dash\": \"solid\", \"shape\": \"spline\"}, \"mode\": \"lines\", \"name\": \"uk\", \"r\": [0.0, 3.0, 1.0, -6.0, -3.0, 8.0, 6.0, 99.0, 9.0, -17.0, 2.0, 5.0, 1.0, 13.0, 86.0, 0.0], \"showlegend\": true, \"subplot\": \"polar\", \"theta\": [\"baking\", \"bananabread\", \"beans\", \"coffee\", \"cooking\", \"facemask\", \"grocerydelivery\", \"hand-sanitizer\", \"pasta\", \"restaurant\", \"rice\", \"spices\", \"takeaway\", \"to-go\", \"toiletpaper\", \"baking\"], \"type\": \"scatterpolar\"}], \"name\": \"2020-08-03\"}, {\"data\": [{\"hovertemplate\": \"country=uk<br>Date=2020-03-15<br>score_difference=%{r}<br>term=%{theta}<extra></extra>\", \"legendgroup\": \"uk\", \"line\": {\"color\": \"red\", \"dash\": \"solid\", \"shape\": \"spline\"}, \"mode\": \"lines\", \"name\": \"uk\", \"r\": [8.0, 19.0, 1.0, -12.0, 0.0, 12.0, 41.0, 84.0, 35.0, -35.0, 3.0, -3.0, 13.0, 26.0, 95.0, 8.0], \"showlegend\": true, \"subplot\": \"polar\", \"theta\": [\"baking\", \"bananabread\", \"beans\", \"coffee\", \"cooking\", \"facemask\", \"grocerydelivery\", \"hand-sanitizer\", \"pasta\", \"restaurant\", \"rice\", \"spices\", \"takeaway\", \"to-go\", \"toiletpaper\", \"baking\"], \"type\": \"scatterpolar\"}], \"name\": \"2020-03-15\"}, {\"data\": [{\"hovertemplate\": \"country=uk<br>Date=2020-03-22<br>score_difference=%{r}<br>term=%{theta}<extra></extra>\", \"legendgroup\": \"uk\", \"line\": {\"color\": \"red\", \"dash\": \"solid\", \"shape\": \"spline\"}, \"mode\": \"lines\", \"name\": \"uk\", \"r\": [37.0, 59.0, 14.0, -15.0, 11.0, 16.0, 97.0, 26.0, 31.0, -47.0, 18.0, 24.0, 47.0, 40.0, 36.0, 37.0], \"showlegend\": true, \"subplot\": \"polar\", \"theta\": [\"baking\", \"bananabread\", \"beans\", \"coffee\", \"cooking\", \"facemask\", \"grocerydelivery\", \"hand-sanitizer\", \"pasta\", \"restaurant\", \"rice\", \"spices\", \"takeaway\", \"to-go\", \"toiletpaper\", \"baking\"], \"type\": \"scatterpolar\"}], \"name\": \"2020-03-22\"}, {\"data\": [{\"hovertemplate\": \"country=uk<br>Date=2020-03-29<br>score_difference=%{r}<br>term=%{theta}<extra></extra>\", \"legendgroup\": \"uk\", \"line\": {\"color\": \"red\", \"dash\": \"solid\", \"shape\": \"spline\"}, \"mode\": \"lines\", \"name\": \"uk\", \"r\": [66.0, 87.0, 26.0, 9.0, 17.0, 20.0, 61.0, 16.0, 45.0, -43.0, 30.0, 25.0, 8.0, 12.0, 12.0, 66.0], \"showlegend\": true, \"subplot\": \"polar\", \"theta\": [\"baking\", \"bananabread\", \"beans\", \"coffee\", \"cooking\", \"facemask\", \"grocerydelivery\", \"hand-sanitizer\", \"pasta\", \"restaurant\", \"rice\", \"spices\", \"takeaway\", \"to-go\", \"toiletpaper\", \"baking\"], \"type\": \"scatterpolar\"}], \"name\": \"2020-03-29\"}, {\"data\": [{\"hovertemplate\": \"country=uk<br>Date=2020-05-04<br>score_difference=%{r}<br>term=%{theta}<extra></extra>\", \"legendgroup\": \"uk\", \"line\": {\"color\": \"red\", \"dash\": \"solid\", \"shape\": \"spline\"}, \"mode\": \"lines\", \"name\": \"uk\", \"r\": [73.0, 74.0, 32.0, 12.0, 21.0, 15.0, 37.0, 10.0, 40.0, -44.0, 31.0, 34.0, -6.0, 2.0, 6.0, 73.0], \"showlegend\": true, \"subplot\": \"polar\", \"theta\": [\"baking\", \"bananabread\", \"beans\", \"coffee\", \"cooking\", \"facemask\", \"grocerydelivery\", \"hand-sanitizer\", \"pasta\", \"restaurant\", \"rice\", \"spices\", \"takeaway\", \"to-go\", \"toiletpaper\", \"baking\"], \"type\": \"scatterpolar\"}], \"name\": \"2020-05-04\"}, {\"data\": [{\"hovertemplate\": \"country=uk<br>Date=2020-12-04<br>score_difference=%{r}<br>term=%{theta}<extra></extra>\", \"legendgroup\": \"uk\", \"line\": {\"color\": \"red\", \"dash\": \"solid\", \"shape\": \"spline\"}, \"mode\": \"lines\", \"name\": \"uk\", \"r\": [69.0, 77.0, 37.0, 12.0, 25.0, 20.0, 29.0, 9.0, 47.0, -42.0, 41.0, 47.0, 18.0, 4.0, 5.0, 69.0], \"showlegend\": true, \"subplot\": \"polar\", \"theta\": [\"baking\", \"bananabread\", \"beans\", \"coffee\", \"cooking\", \"facemask\", \"grocerydelivery\", \"hand-sanitizer\", \"pasta\", \"restaurant\", \"rice\", \"spices\", \"takeaway\", \"to-go\", \"toiletpaper\", \"baking\"], \"type\": \"scatterpolar\"}], \"name\": \"2020-12-04\"}, {\"data\": [{\"hovertemplate\": \"country=uk<br>Date=2020-04-19<br>score_difference=%{r}<br>term=%{theta}<extra></extra>\", \"legendgroup\": \"uk\", \"line\": {\"color\": \"red\", \"dash\": \"solid\", \"shape\": \"spline\"}, \"mode\": \"lines\", \"name\": \"uk\", \"r\": [64.0, 56.0, 38.0, 11.0, 16.0, 22.0, 20.0, 7.0, 43.0, -38.0, 40.0, 39.0, 8.0, 8.0, 5.0, 64.0], \"showlegend\": true, \"subplot\": \"polar\", \"theta\": [\"baking\", \"bananabread\", \"beans\", \"coffee\", \"cooking\", \"facemask\", \"grocerydelivery\", \"hand-sanitizer\", \"pasta\", \"restaurant\", \"rice\", \"spices\", \"takeaway\", \"to-go\", \"toiletpaper\", \"baking\"], \"type\": \"scatterpolar\"}], \"name\": \"2020-04-19\"}, {\"data\": [{\"hovertemplate\": \"country=uk<br>Date=2020-04-26<br>score_difference=%{r}<br>term=%{theta}<extra></extra>\", \"legendgroup\": \"uk\", \"line\": {\"color\": \"red\", \"dash\": \"solid\", \"shape\": \"spline\"}, \"mode\": \"lines\", \"name\": \"uk\", \"r\": [72.0, 55.0, 41.0, 10.0, 19.0, 28.0, 13.0, 6.0, 34.0, -38.0, 38.0, 48.0, 37.0, 8.0, 4.0, 72.0], \"showlegend\": true, \"subplot\": \"polar\", \"theta\": [\"baking\", \"bananabread\", \"beans\", \"coffee\", \"cooking\", \"facemask\", \"grocerydelivery\", \"hand-sanitizer\", \"pasta\", \"restaurant\", \"rice\", \"spices\", \"takeaway\", \"to-go\", \"toiletpaper\", \"baking\"], \"type\": \"scatterpolar\"}], \"name\": \"2020-04-26\"}, {\"data\": [{\"hovertemplate\": \"country=uk<br>Date=2020-03-05<br>score_difference=%{r}<br>term=%{theta}<extra></extra>\", \"legendgroup\": \"uk\", \"line\": {\"color\": \"red\", \"dash\": \"solid\", \"shape\": \"spline\"}, \"mode\": \"lines\", \"name\": \"uk\", \"r\": [68.0, 42.0, 36.0, 6.0, 16.0, 24.0, 9.0, 6.0, 31.0, -38.0, 32.0, 26.0, 40.0, 8.0, 4.0, 68.0], \"showlegend\": true, \"subplot\": \"polar\", \"theta\": [\"baking\", \"bananabread\", \"beans\", \"coffee\", \"cooking\", \"facemask\", \"grocerydelivery\", \"hand-sanitizer\", \"pasta\", \"restaurant\", \"rice\", \"spices\", \"takeaway\", \"to-go\", \"toiletpaper\", \"baking\"], \"type\": \"scatterpolar\"}], \"name\": \"2020-03-05\"}, {\"data\": [{\"hovertemplate\": \"country=uk<br>Date=2020-10-05<br>score_difference=%{r}<br>term=%{theta}<extra></extra>\", \"legendgroup\": \"uk\", \"line\": {\"color\": \"red\", \"dash\": \"solid\", \"shape\": \"spline\"}, \"mode\": \"lines\", \"name\": \"uk\", \"r\": [62.0, 42.0, 35.0, 13.0, 16.0, 44.0, 10.0, 8.0, 34.0, -39.0, 24.0, 23.0, 38.0, 21.0, 5.0, 62.0], \"showlegend\": true, \"subplot\": \"polar\", \"theta\": [\"baking\", \"bananabread\", \"beans\", \"coffee\", \"cooking\", \"facemask\", \"grocerydelivery\", \"hand-sanitizer\", \"pasta\", \"restaurant\", \"rice\", \"spices\", \"takeaway\", \"to-go\", \"toiletpaper\", \"baking\"], \"type\": \"scatterpolar\"}], \"name\": \"2020-10-05\"}, {\"data\": [{\"hovertemplate\": \"country=uk<br>Date=2020-05-17<br>score_difference=%{r}<br>term=%{theta}<extra></extra>\", \"legendgroup\": \"uk\", \"line\": {\"color\": \"red\", \"dash\": \"solid\", \"shape\": \"spline\"}, \"mode\": \"lines\", \"name\": \"uk\", \"r\": [54.0, 29.0, 35.0, 19.0, 14.0, 22.0, 8.0, 7.0, 32.0, -40.0, 27.0, 37.0, 40.0, 11.0, 3.0, 54.0], \"showlegend\": true, \"subplot\": \"polar\", \"theta\": [\"baking\", \"bananabread\", \"beans\", \"coffee\", \"cooking\", \"facemask\", \"grocerydelivery\", \"hand-sanitizer\", \"pasta\", \"restaurant\", \"rice\", \"spices\", \"takeaway\", \"to-go\", \"toiletpaper\", \"baking\"], \"type\": \"scatterpolar\"}], \"name\": \"2020-05-17\"}, {\"data\": [{\"hovertemplate\": \"country=uk<br>Date=2020-05-24<br>score_difference=%{r}<br>term=%{theta}<extra></extra>\", \"legendgroup\": \"uk\", \"line\": {\"color\": \"red\", \"dash\": \"solid\", \"shape\": \"spline\"}, \"mode\": \"lines\", \"name\": \"uk\", \"r\": [37.0, 22.0, 35.0, 17.0, 12.0, 15.0, 6.0, 6.0, 25.0, -43.0, 24.0, 35.0, 42.0, 12.0, 3.0, 37.0], \"showlegend\": true, \"subplot\": \"polar\", \"theta\": [\"baking\", \"bananabread\", \"beans\", \"coffee\", \"cooking\", \"facemask\", \"grocerydelivery\", \"hand-sanitizer\", \"pasta\", \"restaurant\", \"rice\", \"spices\", \"takeaway\", \"to-go\", \"toiletpaper\", \"baking\"], \"type\": \"scatterpolar\"}], \"name\": \"2020-05-24\"}, {\"data\": [{\"hovertemplate\": \"country=uk<br>Date=2020-05-31<br>score_difference=%{r}<br>term=%{theta}<extra></extra>\", \"legendgroup\": \"uk\", \"line\": {\"color\": \"red\", \"dash\": \"solid\", \"shape\": \"spline\"}, \"mode\": \"lines\", \"name\": \"uk\", \"r\": [38.0, 24.0, 31.0, 13.0, 8.0, 32.0, 5.0, 6.0, 24.0, -37.0, 19.0, 20.0, 37.0, 11.0, 3.0, 38.0], \"showlegend\": true, \"subplot\": \"polar\", \"theta\": [\"baking\", \"bananabread\", \"beans\", \"coffee\", \"cooking\", \"facemask\", \"grocerydelivery\", \"hand-sanitizer\", \"pasta\", \"restaurant\", \"rice\", \"spices\", \"takeaway\", \"to-go\", \"toiletpaper\", \"baking\"], \"type\": \"scatterpolar\"}], \"name\": \"2020-05-31\"}, {\"data\": [{\"hovertemplate\": \"country=uk<br>Date=2020-07-06<br>score_difference=%{r}<br>term=%{theta}<extra></extra>\", \"legendgroup\": \"uk\", \"line\": {\"color\": \"red\", \"dash\": \"solid\", \"shape\": \"spline\"}, \"mode\": \"lines\", \"name\": \"uk\", \"r\": [36.0, 20.0, 21.0, 14.0, 6.0, 30.0, 4.0, 5.0, 21.0, -41.0, 19.0, 22.0, 48.0, 8.0, 0.0, 36.0], \"showlegend\": true, \"subplot\": \"polar\", \"theta\": [\"baking\", \"bananabread\", \"beans\", \"coffee\", \"cooking\", \"facemask\", \"grocerydelivery\", \"hand-sanitizer\", \"pasta\", \"restaurant\", \"rice\", \"spices\", \"takeaway\", \"to-go\", \"toiletpaper\", \"baking\"], \"type\": \"scatterpolar\"}], \"name\": \"2020-07-06\"}, {\"data\": [{\"hovertemplate\": \"country=uk<br>Date=2020-06-14<br>score_difference=%{r}<br>term=%{theta}<extra></extra>\", \"legendgroup\": \"uk\", \"line\": {\"color\": \"red\", \"dash\": \"solid\", \"shape\": \"spline\"}, \"mode\": \"lines\", \"name\": \"uk\", \"r\": [28.0, 16.0, 21.0, 12.0, 7.0, 27.0, 4.0, 5.0, 17.0, -38.0, 20.0, 20.0, 43.0, 7.0, 1.0, 28.0], \"showlegend\": true, \"subplot\": \"polar\", \"theta\": [\"baking\", \"bananabread\", \"beans\", \"coffee\", \"cooking\", \"facemask\", \"grocerydelivery\", \"hand-sanitizer\", \"pasta\", \"restaurant\", \"rice\", \"spices\", \"takeaway\", \"to-go\", \"toiletpaper\", \"baking\"], \"type\": \"scatterpolar\"}], \"name\": \"2020-06-14\"}, {\"data\": [{\"hovertemplate\": \"country=uk<br>Date=2020-06-21<br>score_difference=%{r}<br>term=%{theta}<extra></extra>\", \"legendgroup\": \"uk\", \"line\": {\"color\": \"red\", \"dash\": \"solid\", \"shape\": \"spline\"}, \"mode\": \"lines\", \"name\": \"uk\", \"r\": [20.0, 12.0, 24.0, 10.0, 8.0, 18.0, 3.0, 6.0, 19.0, -31.0, 17.0, 14.0, 37.0, 8.0, 1.0, 20.0], \"showlegend\": true, \"subplot\": \"polar\", \"theta\": [\"baking\", \"bananabread\", \"beans\", \"coffee\", \"cooking\", \"facemask\", \"grocerydelivery\", \"hand-sanitizer\", \"pasta\", \"restaurant\", \"rice\", \"spices\", \"takeaway\", \"to-go\", \"toiletpaper\", \"baking\"], \"type\": \"scatterpolar\"}], \"name\": \"2020-06-21\"}, {\"data\": [{\"hovertemplate\": \"country=uk<br>Date=2020-06-28<br>score_difference=%{r}<br>term=%{theta}<extra></extra>\", \"legendgroup\": \"uk\", \"line\": {\"color\": \"red\", \"dash\": \"solid\", \"shape\": \"spline\"}, \"mode\": \"lines\", \"name\": \"uk\", \"r\": [22.0, 15.0, 23.0, 14.0, 7.0, 23.0, 1.0, 5.0, 17.0, -23.0, 23.0, 22.0, 37.0, 11.0, 1.0, 22.0], \"showlegend\": true, \"subplot\": \"polar\", \"theta\": [\"baking\", \"bananabread\", \"beans\", \"coffee\", \"cooking\", \"facemask\", \"grocerydelivery\", \"hand-sanitizer\", \"pasta\", \"restaurant\", \"rice\", \"spices\", \"takeaway\", \"to-go\", \"toiletpaper\", \"baking\"], \"type\": \"scatterpolar\"}], \"name\": \"2020-06-28\"}, {\"data\": [{\"hovertemplate\": \"country=uk<br>Date=2020-05-07<br>score_difference=%{r}<br>term=%{theta}<extra></extra>\", \"legendgroup\": \"uk\", \"line\": {\"color\": \"red\", \"dash\": \"solid\", \"shape\": \"spline\"}, \"mode\": \"lines\", \"name\": \"uk\", \"r\": [18.0, 11.0, 18.0, 14.0, 7.0, 32.0, 2.0, 5.0, 15.0, -14.0, 16.0, 19.0, 33.0, 7.0, 0.0, 18.0], \"showlegend\": true, \"subplot\": \"polar\", \"theta\": [\"baking\", \"bananabread\", \"beans\", \"coffee\", \"cooking\", \"facemask\", \"grocerydelivery\", \"hand-sanitizer\", \"pasta\", \"restaurant\", \"rice\", \"spices\", \"takeaway\", \"to-go\", \"toiletpaper\", \"baking\"], \"type\": \"scatterpolar\"}], \"name\": \"2020-05-07\"}, {\"data\": [{\"hovertemplate\": \"country=uk<br>Date=2020-12-07<br>score_difference=%{r}<br>term=%{theta}<extra></extra>\", \"legendgroup\": \"uk\", \"line\": {\"color\": \"red\", \"dash\": \"solid\", \"shape\": \"spline\"}, \"mode\": \"lines\", \"name\": \"uk\", \"r\": [16.0, 8.0, 22.0, 8.0, 6.0, 98.0, 1.0, 5.0, 8.0, -9.0, 18.0, 20.0, 25.0, 2.0, 0.0, 16.0], \"showlegend\": true, \"subplot\": \"polar\", \"theta\": [\"baking\", \"bananabread\", \"beans\", \"coffee\", \"cooking\", \"facemask\", \"grocerydelivery\", \"hand-sanitizer\", \"pasta\", \"restaurant\", \"rice\", \"spices\", \"takeaway\", \"to-go\", \"toiletpaper\", \"baking\"], \"type\": \"scatterpolar\"}], \"name\": \"2020-12-07\"}, {\"data\": [{\"hovertemplate\": \"country=uk<br>Date=2020-07-19<br>score_difference=%{r}<br>term=%{theta}<extra></extra>\", \"legendgroup\": \"uk\", \"line\": {\"color\": \"red\", \"dash\": \"solid\", \"shape\": \"spline\"}, \"mode\": \"lines\", \"name\": \"uk\", \"r\": [17.0, 9.0, 16.0, 13.0, 7.0, 73.0, 3.0, 4.0, 17.0, -3.0, 24.0, 14.0, 27.0, 8.0, 1.0, 17.0], \"showlegend\": true, \"subplot\": \"polar\", \"theta\": [\"baking\", \"bananabread\", \"beans\", \"coffee\", \"cooking\", \"facemask\", \"grocerydelivery\", \"hand-sanitizer\", \"pasta\", \"restaurant\", \"rice\", \"spices\", \"takeaway\", \"to-go\", \"toiletpaper\", \"baking\"], \"type\": \"scatterpolar\"}], \"name\": \"2020-07-19\"}, {\"data\": [{\"hovertemplate\": \"country=uk<br>Date=2020-07-26<br>score_difference=%{r}<br>term=%{theta}<extra></extra>\", \"legendgroup\": \"uk\", \"line\": {\"color\": \"red\", \"dash\": \"solid\", \"shape\": \"spline\"}, \"mode\": \"lines\", \"name\": \"uk\", \"r\": [10.0, 7.0, 9.0, 11.0, 5.0, 42.0, 3.0, 3.0, 9.0, -4.0, 23.0, 3.0, 35.0, 12.0, 2.0, 10.0], \"showlegend\": true, \"subplot\": \"polar\", \"theta\": [\"baking\", \"bananabread\", \"beans\", \"coffee\", \"cooking\", \"facemask\", \"grocerydelivery\", \"hand-sanitizer\", \"pasta\", \"restaurant\", \"rice\", \"spices\", \"takeaway\", \"to-go\", \"toiletpaper\", \"baking\"], \"type\": \"scatterpolar\"}], \"name\": \"2020-07-26\"}, {\"data\": [{\"hovertemplate\": \"country=uk<br>Date=2020-02-08<br>score_difference=%{r}<br>term=%{theta}<extra></extra>\", \"legendgroup\": \"uk\", \"line\": {\"color\": \"red\", \"dash\": \"solid\", \"shape\": \"spline\"}, \"mode\": \"lines\", \"name\": \"uk\", \"r\": [5.0, 5.0, 18.0, 10.0, 6.0, 30.0, 3.0, 4.0, 9.0, 13.0, 12.0, 6.0, 43.0, 4.0, -1.0, 5.0], \"showlegend\": true, \"subplot\": \"polar\", \"theta\": [\"baking\", \"bananabread\", \"beans\", \"coffee\", \"cooking\", \"facemask\", \"grocerydelivery\", \"hand-sanitizer\", \"pasta\", \"restaurant\", \"rice\", \"spices\", \"takeaway\", \"to-go\", \"toiletpaper\", \"baking\"], \"type\": \"scatterpolar\"}], \"name\": \"2020-02-08\"}, {\"data\": [{\"hovertemplate\": \"country=uk<br>Date=2020-09-08<br>score_difference=%{r}<br>term=%{theta}<extra></extra>\", \"legendgroup\": \"uk\", \"line\": {\"color\": \"red\", \"dash\": \"solid\", \"shape\": \"spline\"}, \"mode\": \"lines\", \"name\": \"uk\", \"r\": [4.0, 5.0, 10.0, 4.0, 1.0, 21.0, 2.0, 3.0, 10.0, 16.0, 13.0, 2.0, 38.0, 5.0, -1.0, 4.0], \"showlegend\": true, \"subplot\": \"polar\", \"theta\": [\"baking\", \"bananabread\", \"beans\", \"coffee\", \"cooking\", \"facemask\", \"grocerydelivery\", \"hand-sanitizer\", \"pasta\", \"restaurant\", \"rice\", \"spices\", \"takeaway\", \"to-go\", \"toiletpaper\", \"baking\"], \"type\": \"scatterpolar\"}], \"name\": \"2020-09-08\"}, {\"data\": [{\"hovertemplate\": \"country=uk<br>Date=2020-08-16<br>score_difference=%{r}<br>term=%{theta}<extra></extra>\", \"legendgroup\": \"uk\", \"line\": {\"color\": \"red\", \"dash\": \"solid\", \"shape\": \"spline\"}, \"mode\": \"lines\", \"name\": \"uk\", \"r\": [5.0, 4.0, 16.0, 8.0, 4.0, 18.0, 2.0, 3.0, 8.0, 25.0, 12.0, 18.0, 35.0, 4.0, 1.0, 5.0], \"showlegend\": true, \"subplot\": \"polar\", \"theta\": [\"baking\", \"bananabread\", \"beans\", \"coffee\", \"cooking\", \"facemask\", \"grocerydelivery\", \"hand-sanitizer\", \"pasta\", \"restaurant\", \"rice\", \"spices\", \"takeaway\", \"to-go\", \"toiletpaper\", \"baking\"], \"type\": \"scatterpolar\"}], \"name\": \"2020-08-16\"}, {\"data\": [{\"hovertemplate\": \"country=uk<br>Date=2020-08-23<br>score_difference=%{r}<br>term=%{theta}<extra></extra>\", \"legendgroup\": \"uk\", \"line\": {\"color\": \"red\", \"dash\": \"solid\", \"shape\": \"spline\"}, \"mode\": \"lines\", \"name\": \"uk\", \"r\": [5.0, 1.0, 8.0, 12.0, 3.0, 22.0, 4.0, 3.0, 10.0, 26.0, 13.0, 11.0, 27.0, 4.0, 1.0, 5.0], \"showlegend\": true, \"subplot\": \"polar\", \"theta\": [\"baking\", \"bananabread\", \"beans\", \"coffee\", \"cooking\", \"facemask\", \"grocerydelivery\", \"hand-sanitizer\", \"pasta\", \"restaurant\", \"rice\", \"spices\", \"takeaway\", \"to-go\", \"toiletpaper\", \"baking\"], \"type\": \"scatterpolar\"}], \"name\": \"2020-08-23\"}, {\"data\": [{\"hovertemplate\": \"country=uk<br>Date=2020-08-30<br>score_difference=%{r}<br>term=%{theta}<extra></extra>\", \"legendgroup\": \"uk\", \"line\": {\"color\": \"red\", \"dash\": \"solid\", \"shape\": \"spline\"}, \"mode\": \"lines\", \"name\": \"uk\", \"r\": [2.0, 3.0, -2.0, 13.0, 4.0, 19.0, 5.0, 4.0, 12.0, 17.0, 1.0, 13.0, 36.0, 10.0, 1.0, 2.0], \"showlegend\": true, \"subplot\": \"polar\", \"theta\": [\"baking\", \"bananabread\", \"beans\", \"coffee\", \"cooking\", \"facemask\", \"grocerydelivery\", \"hand-sanitizer\", \"pasta\", \"restaurant\", \"rice\", \"spices\", \"takeaway\", \"to-go\", \"toiletpaper\", \"baking\"], \"type\": \"scatterpolar\"}], \"name\": \"2020-08-30\"}, {\"data\": [{\"hovertemplate\": \"country=uk<br>Date=2020-06-09<br>score_difference=%{r}<br>term=%{theta}<extra></extra>\", \"legendgroup\": \"uk\", \"line\": {\"color\": \"red\", \"dash\": \"solid\", \"shape\": \"spline\"}, \"mode\": \"lines\", \"name\": \"uk\", \"r\": [4.0, 3.0, 1.0, 12.0, 5.0, 17.0, 4.0, 3.0, 12.0, 1.0, 1.0, 23.0, 32.0, 7.0, 1.0, 4.0], \"showlegend\": true, \"subplot\": \"polar\", \"theta\": [\"baking\", \"bananabread\", \"beans\", \"coffee\", \"cooking\", \"facemask\", \"grocerydelivery\", \"hand-sanitizer\", \"pasta\", \"restaurant\", \"rice\", \"spices\", \"takeaway\", \"to-go\", \"toiletpaper\", \"baking\"], \"type\": \"scatterpolar\"}], \"name\": \"2020-06-09\"}, {\"data\": [{\"hovertemplate\": \"country=uk<br>Date=2020-09-13<br>score_difference=%{r}<br>term=%{theta}<extra></extra>\", \"legendgroup\": \"uk\", \"line\": {\"color\": \"red\", \"dash\": \"solid\", \"shape\": \"spline\"}, \"mode\": \"lines\", \"name\": \"uk\", \"r\": [-1.0, 3.0, 7.0, 6.0, 5.0, 17.0, 2.0, 3.0, 8.0, -3.0, -6.0, 10.0, 30.0, 7.0, 1.0, -1.0], \"showlegend\": true, \"subplot\": \"polar\", \"theta\": [\"baking\", \"bananabread\", \"beans\", \"coffee\", \"cooking\", \"facemask\", \"grocerydelivery\", \"hand-sanitizer\", \"pasta\", \"restaurant\", \"rice\", \"spices\", \"takeaway\", \"to-go\", \"toiletpaper\", \"baking\"], \"type\": \"scatterpolar\"}], \"name\": \"2020-09-13\"}, {\"data\": [{\"hovertemplate\": \"country=uk<br>Date=2020-09-20<br>score_difference=%{r}<br>term=%{theta}<extra></extra>\", \"legendgroup\": \"uk\", \"line\": {\"color\": \"red\", \"dash\": \"solid\", \"shape\": \"spline\"}, \"mode\": \"lines\", \"name\": \"uk\", \"r\": [4.0, 3.0, 4.0, 5.0, 3.0, 25.0, 6.0, 4.0, 13.0, -5.0, -1.0, 19.0, 31.0, 6.0, 5.0, 4.0], \"showlegend\": true, \"subplot\": \"polar\", \"theta\": [\"baking\", \"bananabread\", \"beans\", \"coffee\", \"cooking\", \"facemask\", \"grocerydelivery\", \"hand-sanitizer\", \"pasta\", \"restaurant\", \"rice\", \"spices\", \"takeaway\", \"to-go\", \"toiletpaper\", \"baking\"], \"type\": \"scatterpolar\"}], \"name\": \"2020-09-20\"}, {\"data\": [{\"hovertemplate\": \"country=uk<br>Date=2020-09-27<br>score_difference=%{r}<br>term=%{theta}<extra></extra>\", \"legendgroup\": \"uk\", \"line\": {\"color\": \"red\", \"dash\": \"solid\", \"shape\": \"spline\"}, \"mode\": \"lines\", \"name\": \"uk\", \"r\": [9.0, 4.0, 6.0, -15.0, 6.0, 20.0, 6.0, 2.0, 13.0, -7.0, 0.0, 20.0, 25.0, 4.0, 4.0, 9.0], \"showlegend\": true, \"subplot\": \"polar\", \"theta\": [\"baking\", \"bananabread\", \"beans\", \"coffee\", \"cooking\", \"facemask\", \"grocerydelivery\", \"hand-sanitizer\", \"pasta\", \"restaurant\", \"rice\", \"spices\", \"takeaway\", \"to-go\", \"toiletpaper\", \"baking\"], \"type\": \"scatterpolar\"}], \"name\": \"2020-09-27\"}, {\"data\": [{\"hovertemplate\": \"country=uk<br>Date=2020-04-10<br>score_difference=%{r}<br>term=%{theta}<extra></extra>\", \"legendgroup\": \"uk\", \"line\": {\"color\": \"red\", \"dash\": \"solid\", \"shape\": \"spline\"}, \"mode\": \"lines\", \"name\": \"uk\", \"r\": [11.0, 6.0, 3.0, 10.0, 5.0, 17.0, 6.0, 2.0, 9.0, -11.0, 25.0, 20.0, 13.0, 3.0, 1.0, 11.0], \"showlegend\": true, \"subplot\": \"polar\", \"theta\": [\"baking\", \"bananabread\", \"beans\", \"coffee\", \"cooking\", \"facemask\", \"grocerydelivery\", \"hand-sanitizer\", \"pasta\", \"restaurant\", \"rice\", \"spices\", \"takeaway\", \"to-go\", \"toiletpaper\", \"baking\"], \"type\": \"scatterpolar\"}], \"name\": \"2020-04-10\"}, {\"data\": [{\"hovertemplate\": \"country=uk<br>Date=2020-11-10<br>score_difference=%{r}<br>term=%{theta}<extra></extra>\", \"legendgroup\": \"uk\", \"line\": {\"color\": \"red\", \"dash\": \"solid\", \"shape\": \"spline\"}, \"mode\": \"lines\", \"name\": \"uk\", \"r\": [12.0, 5.0, 5.0, 11.0, 5.0, 16.0, 4.0, 2.0, 14.0, -13.0, 28.0, 19.0, 10.0, 9.0, -1.0, 12.0], \"showlegend\": true, \"subplot\": \"polar\", \"theta\": [\"baking\", \"bananabread\", \"beans\", \"coffee\", \"cooking\", \"facemask\", \"grocerydelivery\", \"hand-sanitizer\", \"pasta\", \"restaurant\", \"rice\", \"spices\", \"takeaway\", \"to-go\", \"toiletpaper\", \"baking\"], \"type\": \"scatterpolar\"}], \"name\": \"2020-11-10\"}, {\"data\": [{\"hovertemplate\": \"country=uk<br>Date=2020-10-18<br>score_difference=%{r}<br>term=%{theta}<extra></extra>\", \"legendgroup\": \"uk\", \"line\": {\"color\": \"red\", \"dash\": \"solid\", \"shape\": \"spline\"}, \"mode\": \"lines\", \"name\": \"uk\", \"r\": [11.0, 5.0, 6.0, 11.0, 6.0, 14.0, 2.0, 1.0, 11.0, -17.0, 18.0, 23.0, 14.0, 10.0, 2.0, 11.0], \"showlegend\": true, \"subplot\": \"polar\", \"theta\": [\"baking\", \"bananabread\", \"beans\", \"coffee\", \"cooking\", \"facemask\", \"grocerydelivery\", \"hand-sanitizer\", \"pasta\", \"restaurant\", \"rice\", \"spices\", \"takeaway\", \"to-go\", \"toiletpaper\", \"baking\"], \"type\": \"scatterpolar\"}], \"name\": \"2020-10-18\"}, {\"data\": [{\"hovertemplate\": \"country=uk<br>Date=2020-10-25<br>score_difference=%{r}<br>term=%{theta}<extra></extra>\", \"legendgroup\": \"uk\", \"line\": {\"color\": \"red\", \"dash\": \"solid\", \"shape\": \"spline\"}, \"mode\": \"lines\", \"name\": \"uk\", \"r\": [18.0, 5.0, 8.0, 18.0, 5.0, 15.0, 3.0, 1.0, 11.0, -14.0, 18.0, 16.0, 19.0, 14.0, 3.0, 18.0], \"showlegend\": true, \"subplot\": \"polar\", \"theta\": [\"baking\", \"bananabread\", \"beans\", \"coffee\", \"cooking\", \"facemask\", \"grocerydelivery\", \"hand-sanitizer\", \"pasta\", \"restaurant\", \"rice\", \"spices\", \"takeaway\", \"to-go\", \"toiletpaper\", \"baking\"], \"type\": \"scatterpolar\"}], \"name\": \"2020-10-25\"}, {\"data\": [{\"hovertemplate\": \"country=uk<br>Date=2020-01-11<br>score_difference=%{r}<br>term=%{theta}<extra></extra>\", \"legendgroup\": \"uk\", \"line\": {\"color\": \"red\", \"dash\": \"solid\", \"shape\": \"spline\"}, \"mode\": \"lines\", \"name\": \"uk\", \"r\": [10.0, 8.0, 4.0, 5.0, 3.0, 14.0, 7.0, 1.0, 9.0, -29.0, 10.0, 16.0, 27.0, 6.0, 2.0, 10.0], \"showlegend\": true, \"subplot\": \"polar\", \"theta\": [\"baking\", \"bananabread\", \"beans\", \"coffee\", \"cooking\", \"facemask\", \"grocerydelivery\", \"hand-sanitizer\", \"pasta\", \"restaurant\", \"rice\", \"spices\", \"takeaway\", \"to-go\", \"toiletpaper\", \"baking\"], \"type\": \"scatterpolar\"}], \"name\": \"2020-01-11\"}]);\n",
       "                        }).then(function(){\n",
       "                            \n",
       "var gd = document.getElementById('f21c9fa0-3934-44b1-b5d8-5655ae344c2b');\n",
       "var x = new MutationObserver(function (mutations, observer) {{\n",
       "        var display = window.getComputedStyle(gd).display;\n",
       "        if (!display || display === 'none') {{\n",
       "            console.log([gd, 'removed!']);\n",
       "            Plotly.purge(gd);\n",
       "            observer.disconnect();\n",
       "        }}\n",
       "}});\n",
       "\n",
       "// Listen for the removal of the full notebook cells\n",
       "var notebookContainer = gd.closest('#notebook-container');\n",
       "if (notebookContainer) {{\n",
       "    x.observe(notebookContainer, {childList: true});\n",
       "}}\n",
       "\n",
       "// Listen for the clearing of the current output cell\n",
       "var outputEl = gd.closest('.output');\n",
       "if (outputEl) {{\n",
       "    x.observe(outputEl, {childList: true});\n",
       "}}\n",
       "\n",
       "                        })\n",
       "                };\n",
       "                });\n",
       "            </script>\n",
       "        </div>"
      ]
     },
     "metadata": {},
     "output_type": "display_data"
    }
   ],
   "source": [
    "fig = px.line_polar(uk, \n",
    "                    r=\"score_difference\", \n",
    "                    theta=\"term\", \n",
    "                    color=\"country\", \n",
    "                    line_close=True,\n",
    "                    line_shape=\"spline\", # or linear\n",
    "                    range_r = [min(uk[\"score_difference\"]), max(uk[\"score_difference\"])],\n",
    "                    render_mode=\"auto\",\n",
    "                    color_discrete_map = {\"uk\": \"red\"},\n",
    "                    #category_orders= {\"term\":[\"baking\",\"coffee\",\"toiletpaper\",\"to-go\",\"pasta\"]}, \n",
    "                    animation_frame = \"date_str\", \n",
    "                    width = 700,\n",
    "                    height = 700,\n",
    "                    labels={\"date_str\":\"Date\"})\n",
    "fig.show()"
   ]
  },
  {
   "cell_type": "code",
   "execution_count": 41,
   "metadata": {},
   "outputs": [
    {
     "data": {
      "application/vnd.plotly.v1+json": {
       "config": {
        "plotlyServerURL": "https://plot.ly"
       },
       "data": [
        {
         "hovertemplate": "country=nl<br>date_str=2019-03-11<br>score_difference=%{r}<br>term=%{theta}<extra></extra>",
         "legendgroup": "nl",
         "line": {
          "color": "#636efa",
          "dash": "solid",
          "shape": "spline"
         },
         "mode": "lines",
         "name": "nl",
         "r": [
          -1,
          -3,
          7,
          3,
          4,
          -2,
          2,
          0,
          6,
          1,
          3,
          12,
          -2,
          2,
          -1,
          -1
         ],
         "showlegend": true,
         "subplot": "polar",
         "theta": [
          "baking",
          "bananabread",
          "beans",
          "coffee",
          "cooking",
          "grocerydelivery",
          "handsanitizer",
          "mouthmask",
          "pasta",
          "restaurant",
          "rice",
          "spices",
          "takeaway",
          "to-go",
          "toiletpaper",
          "baking"
         ],
         "type": "scatterpolar"
        }
       ],
       "frames": [
        {
         "data": [
          {
           "hovertemplate": "country=nl<br>date_str=2019-03-11<br>score_difference=%{r}<br>term=%{theta}<extra></extra>",
           "legendgroup": "nl",
           "line": {
            "color": "#636efa",
            "dash": "solid",
            "shape": "spline"
           },
           "mode": "lines",
           "name": "nl",
           "r": [
            -1,
            -3,
            7,
            3,
            4,
            -2,
            2,
            0,
            6,
            1,
            3,
            12,
            -2,
            2,
            -1,
            -1
           ],
           "showlegend": true,
           "subplot": "polar",
           "theta": [
            "baking",
            "bananabread",
            "beans",
            "coffee",
            "cooking",
            "grocerydelivery",
            "handsanitizer",
            "mouthmask",
            "pasta",
            "restaurant",
            "rice",
            "spices",
            "takeaway",
            "to-go",
            "toiletpaper",
            "baking"
           ],
           "type": "scatterpolar"
          }
         ],
         "name": "2019-03-11"
        },
        {
         "data": [
          {
           "hovertemplate": "country=nl<br>date_str=2019-10-11<br>score_difference=%{r}<br>term=%{theta}<extra></extra>",
           "legendgroup": "nl",
           "line": {
            "color": "#636efa",
            "dash": "solid",
            "shape": "spline"
           },
           "mode": "lines",
           "name": "nl",
           "r": [
            -2,
            -4,
            6,
            3,
            7,
            -12,
            4,
            0,
            -1,
            2,
            -5,
            2,
            1,
            -2,
            0,
            -2
           ],
           "showlegend": true,
           "subplot": "polar",
           "theta": [
            "baking",
            "bananabread",
            "beans",
            "coffee",
            "cooking",
            "grocerydelivery",
            "handsanitizer",
            "mouthmask",
            "pasta",
            "restaurant",
            "rice",
            "spices",
            "takeaway",
            "to-go",
            "toiletpaper",
            "baking"
           ],
           "type": "scatterpolar"
          }
         ],
         "name": "2019-10-11"
        },
        {
         "data": [
          {
           "hovertemplate": "country=nl<br>date_str=2019-11-17<br>score_difference=%{r}<br>term=%{theta}<extra></extra>",
           "legendgroup": "nl",
           "line": {
            "color": "#636efa",
            "dash": "solid",
            "shape": "spline"
           },
           "mode": "lines",
           "name": "nl",
           "r": [
            3,
            5,
            2,
            5,
            5,
            0,
            -2,
            0,
            10,
            6,
            2,
            14,
            9,
            -3,
            -1,
            3
           ],
           "showlegend": true,
           "subplot": "polar",
           "theta": [
            "baking",
            "bananabread",
            "beans",
            "coffee",
            "cooking",
            "grocerydelivery",
            "handsanitizer",
            "mouthmask",
            "pasta",
            "restaurant",
            "rice",
            "spices",
            "takeaway",
            "to-go",
            "toiletpaper",
            "baking"
           ],
           "type": "scatterpolar"
          }
         ],
         "name": "2019-11-17"
        },
        {
         "data": [
          {
           "hovertemplate": "country=nl<br>date_str=2019-11-24<br>score_difference=%{r}<br>term=%{theta}<extra></extra>",
           "legendgroup": "nl",
           "line": {
            "color": "#636efa",
            "dash": "solid",
            "shape": "spline"
           },
           "mode": "lines",
           "name": "nl",
           "r": [
            -8,
            1,
            5,
            4,
            -1,
            0,
            0,
            0,
            2,
            1,
            9,
            -3,
            -2,
            -7,
            2,
            -8
           ],
           "showlegend": true,
           "subplot": "polar",
           "theta": [
            "baking",
            "bananabread",
            "beans",
            "coffee",
            "cooking",
            "grocerydelivery",
            "handsanitizer",
            "mouthmask",
            "pasta",
            "restaurant",
            "rice",
            "spices",
            "takeaway",
            "to-go",
            "toiletpaper",
            "baking"
           ],
           "type": "scatterpolar"
          }
         ],
         "name": "2019-11-24"
        },
        {
         "data": [
          {
           "hovertemplate": "country=nl<br>date_str=2019-01-12<br>score_difference=%{r}<br>term=%{theta}<extra></extra>",
           "legendgroup": "nl",
           "line": {
            "color": "#636efa",
            "dash": "solid",
            "shape": "spline"
           },
           "mode": "lines",
           "name": "nl",
           "r": [
            7,
            2,
            -9,
            -5,
            2,
            -2,
            0,
            0,
            8,
            2,
            0,
            -4,
            12,
            -5,
            -1,
            7
           ],
           "showlegend": true,
           "subplot": "polar",
           "theta": [
            "baking",
            "bananabread",
            "beans",
            "coffee",
            "cooking",
            "grocerydelivery",
            "handsanitizer",
            "mouthmask",
            "pasta",
            "restaurant",
            "rice",
            "spices",
            "takeaway",
            "to-go",
            "toiletpaper",
            "baking"
           ],
           "type": "scatterpolar"
          }
         ],
         "name": "2019-01-12"
        },
        {
         "data": [
          {
           "hovertemplate": "country=nl<br>date_str=2019-08-12<br>score_difference=%{r}<br>term=%{theta}<extra></extra>",
           "legendgroup": "nl",
           "line": {
            "color": "#636efa",
            "dash": "solid",
            "shape": "spline"
           },
           "mode": "lines",
           "name": "nl",
           "r": [
            -5,
            2,
            3,
            1,
            -1,
            -6,
            0,
            0,
            4,
            1,
            -8,
            0,
            5,
            -9,
            0,
            -5
           ],
           "showlegend": true,
           "subplot": "polar",
           "theta": [
            "baking",
            "bananabread",
            "beans",
            "coffee",
            "cooking",
            "grocerydelivery",
            "handsanitizer",
            "mouthmask",
            "pasta",
            "restaurant",
            "rice",
            "spices",
            "takeaway",
            "to-go",
            "toiletpaper",
            "baking"
           ],
           "type": "scatterpolar"
          }
         ],
         "name": "2019-08-12"
        },
        {
         "data": [
          {
           "hovertemplate": "country=nl<br>date_str=2019-12-15<br>score_difference=%{r}<br>term=%{theta}<extra></extra>",
           "legendgroup": "nl",
           "line": {
            "color": "#636efa",
            "dash": "solid",
            "shape": "spline"
           },
           "mode": "lines",
           "name": "nl",
           "r": [
            -3,
            -6,
            -7,
            9,
            1,
            1,
            2,
            0,
            -2,
            -4,
            -9,
            -5,
            -1,
            4,
            -3,
            -3
           ],
           "showlegend": true,
           "subplot": "polar",
           "theta": [
            "baking",
            "bananabread",
            "beans",
            "coffee",
            "cooking",
            "grocerydelivery",
            "handsanitizer",
            "mouthmask",
            "pasta",
            "restaurant",
            "rice",
            "spices",
            "takeaway",
            "to-go",
            "toiletpaper",
            "baking"
           ],
           "type": "scatterpolar"
          }
         ],
         "name": "2019-12-15"
        },
        {
         "data": [
          {
           "hovertemplate": "country=nl<br>date_str=2019-12-22<br>score_difference=%{r}<br>term=%{theta}<extra></extra>",
           "legendgroup": "nl",
           "line": {
            "color": "#636efa",
            "dash": "solid",
            "shape": "spline"
           },
           "mode": "lines",
           "name": "nl",
           "r": [
            -2,
            10,
            -9,
            13,
            -3,
            -5,
            -3,
            0,
            2,
            3,
            0,
            11,
            -2,
            -3,
            1,
            -2
           ],
           "showlegend": true,
           "subplot": "polar",
           "theta": [
            "baking",
            "bananabread",
            "beans",
            "coffee",
            "cooking",
            "grocerydelivery",
            "handsanitizer",
            "mouthmask",
            "pasta",
            "restaurant",
            "rice",
            "spices",
            "takeaway",
            "to-go",
            "toiletpaper",
            "baking"
           ],
           "type": "scatterpolar"
          }
         ],
         "name": "2019-12-22"
        },
        {
         "data": [
          {
           "hovertemplate": "country=nl<br>date_str=2019-12-29<br>score_difference=%{r}<br>term=%{theta}<extra></extra>",
           "legendgroup": "nl",
           "line": {
            "color": "#636efa",
            "dash": "solid",
            "shape": "spline"
           },
           "mode": "lines",
           "name": "nl",
           "r": [
            8,
            0,
            -2,
            5,
            -2,
            -8,
            2,
            0,
            0,
            0,
            1,
            8,
            -5,
            3,
            -2,
            8
           ],
           "showlegend": true,
           "subplot": "polar",
           "theta": [
            "baking",
            "bananabread",
            "beans",
            "coffee",
            "cooking",
            "grocerydelivery",
            "handsanitizer",
            "mouthmask",
            "pasta",
            "restaurant",
            "rice",
            "spices",
            "takeaway",
            "to-go",
            "toiletpaper",
            "baking"
           ],
           "type": "scatterpolar"
          }
         ],
         "name": "2019-12-29"
        },
        {
         "data": [
          {
           "hovertemplate": "country=nl<br>date_str=2020-05-01<br>score_difference=%{r}<br>term=%{theta}<extra></extra>",
           "legendgroup": "nl",
           "line": {
            "color": "#636efa",
            "dash": "solid",
            "shape": "spline"
           },
           "mode": "lines",
           "name": "nl",
           "r": [
            3,
            4,
            12,
            8,
            -1,
            0,
            0,
            0,
            16,
            1,
            13,
            5,
            4,
            0,
            5,
            3
           ],
           "showlegend": true,
           "subplot": "polar",
           "theta": [
            "baking",
            "bananabread",
            "beans",
            "coffee",
            "cooking",
            "grocerydelivery",
            "handsanitizer",
            "mouthmask",
            "pasta",
            "restaurant",
            "rice",
            "spices",
            "takeaway",
            "to-go",
            "toiletpaper",
            "baking"
           ],
           "type": "scatterpolar"
          }
         ],
         "name": "2020-05-01"
        },
        {
         "data": [
          {
           "hovertemplate": "country=nl<br>date_str=2020-12-01<br>score_difference=%{r}<br>term=%{theta}<extra></extra>",
           "legendgroup": "nl",
           "line": {
            "color": "#636efa",
            "dash": "solid",
            "shape": "spline"
           },
           "mode": "lines",
           "name": "nl",
           "r": [
            4,
            5,
            -2,
            14,
            2,
            -2,
            0,
            0,
            5,
            10,
            0,
            -1,
            4,
            5,
            5,
            4
           ],
           "showlegend": true,
           "subplot": "polar",
           "theta": [
            "baking",
            "bananabread",
            "beans",
            "coffee",
            "cooking",
            "grocerydelivery",
            "handsanitizer",
            "mouthmask",
            "pasta",
            "restaurant",
            "rice",
            "spices",
            "takeaway",
            "to-go",
            "toiletpaper",
            "baking"
           ],
           "type": "scatterpolar"
          }
         ],
         "name": "2020-12-01"
        },
        {
         "data": [
          {
           "hovertemplate": "country=nl<br>date_str=2020-01-19<br>score_difference=%{r}<br>term=%{theta}<extra></extra>",
           "legendgroup": "nl",
           "line": {
            "color": "#636efa",
            "dash": "solid",
            "shape": "spline"
           },
           "mode": "lines",
           "name": "nl",
           "r": [
            1,
            2,
            6,
            -5,
            4,
            -6,
            -2,
            1,
            11,
            7,
            13,
            14,
            -1,
            14,
            -1,
            1
           ],
           "showlegend": true,
           "subplot": "polar",
           "theta": [
            "baking",
            "bananabread",
            "beans",
            "coffee",
            "cooking",
            "grocerydelivery",
            "handsanitizer",
            "mouthmask",
            "pasta",
            "restaurant",
            "rice",
            "spices",
            "takeaway",
            "to-go",
            "toiletpaper",
            "baking"
           ],
           "type": "scatterpolar"
          }
         ],
         "name": "2020-01-19"
        },
        {
         "data": [
          {
           "hovertemplate": "country=nl<br>date_str=2020-01-26<br>score_difference=%{r}<br>term=%{theta}<extra></extra>",
           "legendgroup": "nl",
           "line": {
            "color": "#636efa",
            "dash": "solid",
            "shape": "spline"
           },
           "mode": "lines",
           "name": "nl",
           "r": [
            0,
            -4,
            11,
            2,
            1,
            -5,
            1,
            5,
            10,
            4,
            2,
            1,
            3,
            8,
            4,
            0
           ],
           "showlegend": true,
           "subplot": "polar",
           "theta": [
            "baking",
            "bananabread",
            "beans",
            "coffee",
            "cooking",
            "grocerydelivery",
            "handsanitizer",
            "mouthmask",
            "pasta",
            "restaurant",
            "rice",
            "spices",
            "takeaway",
            "to-go",
            "toiletpaper",
            "baking"
           ],
           "type": "scatterpolar"
          }
         ],
         "name": "2020-01-26"
        },
        {
         "data": [
          {
           "hovertemplate": "country=nl<br>date_str=2020-02-02<br>score_difference=%{r}<br>term=%{theta}<extra></extra>",
           "legendgroup": "nl",
           "line": {
            "color": "#636efa",
            "dash": "solid",
            "shape": "spline"
           },
           "mode": "lines",
           "name": "nl",
           "r": [
            0,
            -4,
            7,
            9,
            1,
            3,
            -2,
            1,
            5,
            -1,
            -2,
            3,
            -2,
            -7,
            5,
            0
           ],
           "showlegend": true,
           "subplot": "polar",
           "theta": [
            "baking",
            "bananabread",
            "beans",
            "coffee",
            "cooking",
            "grocerydelivery",
            "handsanitizer",
            "mouthmask",
            "pasta",
            "restaurant",
            "rice",
            "spices",
            "takeaway",
            "to-go",
            "toiletpaper",
            "baking"
           ],
           "type": "scatterpolar"
          }
         ],
         "name": "2020-02-02"
        },
        {
         "data": [
          {
           "hovertemplate": "country=nl<br>date_str=2020-09-02<br>score_difference=%{r}<br>term=%{theta}<extra></extra>",
           "legendgroup": "nl",
           "line": {
            "color": "#636efa",
            "dash": "solid",
            "shape": "spline"
           },
           "mode": "lines",
           "name": "nl",
           "r": [
            9,
            2,
            2,
            6,
            0,
            -3,
            0,
            0,
            6,
            3,
            -5,
            -2,
            22,
            3,
            1,
            9
           ],
           "showlegend": true,
           "subplot": "polar",
           "theta": [
            "baking",
            "bananabread",
            "beans",
            "coffee",
            "cooking",
            "grocerydelivery",
            "handsanitizer",
            "mouthmask",
            "pasta",
            "restaurant",
            "rice",
            "spices",
            "takeaway",
            "to-go",
            "toiletpaper",
            "baking"
           ],
           "type": "scatterpolar"
          }
         ],
         "name": "2020-09-02"
        },
        {
         "data": [
          {
           "hovertemplate": "country=nl<br>date_str=2020-02-16<br>score_difference=%{r}<br>term=%{theta}<extra></extra>",
           "legendgroup": "nl",
           "line": {
            "color": "#636efa",
            "dash": "solid",
            "shape": "spline"
           },
           "mode": "lines",
           "name": "nl",
           "r": [
            4,
            1,
            24,
            4,
            1,
            -4,
            4,
            0,
            12,
            1,
            6,
            -2,
            -19,
            3,
            -2,
            4
           ],
           "showlegend": true,
           "subplot": "polar",
           "theta": [
            "baking",
            "bananabread",
            "beans",
            "coffee",
            "cooking",
            "grocerydelivery",
            "handsanitizer",
            "mouthmask",
            "pasta",
            "restaurant",
            "rice",
            "spices",
            "takeaway",
            "to-go",
            "toiletpaper",
            "baking"
           ],
           "type": "scatterpolar"
          }
         ],
         "name": "2020-02-16"
        },
        {
         "data": [
          {
           "hovertemplate": "country=nl<br>date_str=2020-02-23<br>score_difference=%{r}<br>term=%{theta}<extra></extra>",
           "legendgroup": "nl",
           "line": {
            "color": "#636efa",
            "dash": "solid",
            "shape": "spline"
           },
           "mode": "lines",
           "name": "nl",
           "r": [
            7,
            0,
            27,
            10,
            8,
            8,
            15,
            25,
            5,
            8,
            16,
            4,
            14,
            3,
            5,
            7
           ],
           "showlegend": true,
           "subplot": "polar",
           "theta": [
            "baking",
            "bananabread",
            "beans",
            "coffee",
            "cooking",
            "grocerydelivery",
            "handsanitizer",
            "mouthmask",
            "pasta",
            "restaurant",
            "rice",
            "spices",
            "takeaway",
            "to-go",
            "toiletpaper",
            "baking"
           ],
           "type": "scatterpolar"
          }
         ],
         "name": "2020-02-23"
        },
        {
         "data": [
          {
           "hovertemplate": "country=nl<br>date_str=2020-01-03<br>score_difference=%{r}<br>term=%{theta}<extra></extra>",
           "legendgroup": "nl",
           "line": {
            "color": "#636efa",
            "dash": "solid",
            "shape": "spline"
           },
           "mode": "lines",
           "name": "nl",
           "r": [
            -1,
            14,
            6,
            6,
            -3,
            0,
            14,
            7,
            16,
            -3,
            -1,
            6,
            1,
            -1,
            5,
            -1
           ],
           "showlegend": true,
           "subplot": "polar",
           "theta": [
            "baking",
            "bananabread",
            "beans",
            "coffee",
            "cooking",
            "grocerydelivery",
            "handsanitizer",
            "mouthmask",
            "pasta",
            "restaurant",
            "rice",
            "spices",
            "takeaway",
            "to-go",
            "toiletpaper",
            "baking"
           ],
           "type": "scatterpolar"
          }
         ],
         "name": "2020-01-03"
        },
        {
         "data": [
          {
           "hovertemplate": "country=nl<br>date_str=2020-08-03<br>score_difference=%{r}<br>term=%{theta}<extra></extra>",
           "legendgroup": "nl",
           "line": {
            "color": "#636efa",
            "dash": "solid",
            "shape": "spline"
           },
           "mode": "lines",
           "name": "nl",
           "r": [
            2,
            4,
            -2,
            -3,
            -3,
            22,
            15,
            4,
            0,
            -13,
            7,
            3,
            -6,
            -4,
            81,
            2
           ],
           "showlegend": true,
           "subplot": "polar",
           "theta": [
            "baking",
            "bananabread",
            "beans",
            "coffee",
            "cooking",
            "grocerydelivery",
            "handsanitizer",
            "mouthmask",
            "pasta",
            "restaurant",
            "rice",
            "spices",
            "takeaway",
            "to-go",
            "toiletpaper",
            "baking"
           ],
           "type": "scatterpolar"
          }
         ],
         "name": "2020-08-03"
        },
        {
         "data": [
          {
           "hovertemplate": "country=nl<br>date_str=2020-03-15<br>score_difference=%{r}<br>term=%{theta}<extra></extra>",
           "legendgroup": "nl",
           "line": {
            "color": "#636efa",
            "dash": "solid",
            "shape": "spline"
           },
           "mode": "lines",
           "name": "nl",
           "r": [
            35,
            49,
            12,
            -2,
            5,
            87,
            27,
            15,
            3,
            -36,
            15,
            17,
            19,
            14,
            93,
            35
           ],
           "showlegend": true,
           "subplot": "polar",
           "theta": [
            "baking",
            "bananabread",
            "beans",
            "coffee",
            "cooking",
            "grocerydelivery",
            "handsanitizer",
            "mouthmask",
            "pasta",
            "restaurant",
            "rice",
            "spices",
            "takeaway",
            "to-go",
            "toiletpaper",
            "baking"
           ],
           "type": "scatterpolar"
          }
         ],
         "name": "2020-03-15"
        },
        {
         "data": [
          {
           "hovertemplate": "country=nl<br>date_str=2020-03-22<br>score_difference=%{r}<br>term=%{theta}<extra></extra>",
           "legendgroup": "nl",
           "line": {
            "color": "#636efa",
            "dash": "solid",
            "shape": "spline"
           },
           "mode": "lines",
           "name": "nl",
           "r": [
            40,
            67,
            29,
            -7,
            9,
            95,
            100,
            10,
            12,
            -43,
            18,
            21,
            15,
            15,
            27,
            40
           ],
           "showlegend": true,
           "subplot": "polar",
           "theta": [
            "baking",
            "bananabread",
            "beans",
            "coffee",
            "cooking",
            "grocerydelivery",
            "handsanitizer",
            "mouthmask",
            "pasta",
            "restaurant",
            "rice",
            "spices",
            "takeaway",
            "to-go",
            "toiletpaper",
            "baking"
           ],
           "type": "scatterpolar"
          }
         ],
         "name": "2020-03-22"
        },
        {
         "data": [
          {
           "hovertemplate": "country=nl<br>date_str=2020-03-29<br>score_difference=%{r}<br>term=%{theta}<extra></extra>",
           "legendgroup": "nl",
           "line": {
            "color": "#636efa",
            "dash": "solid",
            "shape": "spline"
           },
           "mode": "lines",
           "name": "nl",
           "r": [
            45,
            66,
            26,
            4,
            16,
            36,
            9,
            6,
            15,
            -40,
            27,
            26,
            26,
            18,
            10,
            45
           ],
           "showlegend": true,
           "subplot": "polar",
           "theta": [
            "baking",
            "bananabread",
            "beans",
            "coffee",
            "cooking",
            "grocerydelivery",
            "handsanitizer",
            "mouthmask",
            "pasta",
            "restaurant",
            "rice",
            "spices",
            "takeaway",
            "to-go",
            "toiletpaper",
            "baking"
           ],
           "type": "scatterpolar"
          }
         ],
         "name": "2020-03-29"
        },
        {
         "data": [
          {
           "hovertemplate": "country=nl<br>date_str=2020-05-04<br>score_difference=%{r}<br>term=%{theta}<extra></extra>",
           "legendgroup": "nl",
           "line": {
            "color": "#636efa",
            "dash": "solid",
            "shape": "spline"
           },
           "mode": "lines",
           "name": "nl",
           "r": [
            42,
            50,
            28,
            -9,
            14,
            10,
            12,
            4,
            17,
            -45,
            9,
            37,
            13,
            8,
            1,
            42
           ],
           "showlegend": true,
           "subplot": "polar",
           "theta": [
            "baking",
            "bananabread",
            "beans",
            "coffee",
            "cooking",
            "grocerydelivery",
            "handsanitizer",
            "mouthmask",
            "pasta",
            "restaurant",
            "rice",
            "spices",
            "takeaway",
            "to-go",
            "toiletpaper",
            "baking"
           ],
           "type": "scatterpolar"
          }
         ],
         "name": "2020-05-04"
        },
        {
         "data": [
          {
           "hovertemplate": "country=nl<br>date_str=2020-12-04<br>score_difference=%{r}<br>term=%{theta}<extra></extra>",
           "legendgroup": "nl",
           "line": {
            "color": "#636efa",
            "dash": "solid",
            "shape": "spline"
           },
           "mode": "lines",
           "name": "nl",
           "r": [
            35,
            50,
            37,
            24,
            33,
            10,
            6,
            7,
            25,
            -42,
            33,
            32,
            16,
            9,
            6,
            35
           ],
           "showlegend": true,
           "subplot": "polar",
           "theta": [
            "baking",
            "bananabread",
            "beans",
            "coffee",
            "cooking",
            "grocerydelivery",
            "handsanitizer",
            "mouthmask",
            "pasta",
            "restaurant",
            "rice",
            "spices",
            "takeaway",
            "to-go",
            "toiletpaper",
            "baking"
           ],
           "type": "scatterpolar"
          }
         ],
         "name": "2020-12-04"
        },
        {
         "data": [
          {
           "hovertemplate": "country=nl<br>date_str=2020-04-19<br>score_difference=%{r}<br>term=%{theta}<extra></extra>",
           "legendgroup": "nl",
           "line": {
            "color": "#636efa",
            "dash": "solid",
            "shape": "spline"
           },
           "mode": "lines",
           "name": "nl",
           "r": [
            31,
            38,
            31,
            14,
            13,
            14,
            12,
            6,
            36,
            -44,
            34,
            34,
            15,
            14,
            3,
            31
           ],
           "showlegend": true,
           "subplot": "polar",
           "theta": [
            "baking",
            "bananabread",
            "beans",
            "coffee",
            "cooking",
            "grocerydelivery",
            "handsanitizer",
            "mouthmask",
            "pasta",
            "restaurant",
            "rice",
            "spices",
            "takeaway",
            "to-go",
            "toiletpaper",
            "baking"
           ],
           "type": "scatterpolar"
          }
         ],
         "name": "2020-04-19"
        },
        {
         "data": [
          {
           "hovertemplate": "country=nl<br>date_str=2020-04-26<br>score_difference=%{r}<br>term=%{theta}<extra></extra>",
           "legendgroup": "nl",
           "line": {
            "color": "#636efa",
            "dash": "solid",
            "shape": "spline"
           },
           "mode": "lines",
           "name": "nl",
           "r": [
            42,
            49,
            36,
            -8,
            21,
            3,
            8,
            12,
            26,
            -48,
            34,
            39,
            45,
            19,
            3,
            42
           ],
           "showlegend": true,
           "subplot": "polar",
           "theta": [
            "baking",
            "bananabread",
            "beans",
            "coffee",
            "cooking",
            "grocerydelivery",
            "handsanitizer",
            "mouthmask",
            "pasta",
            "restaurant",
            "rice",
            "spices",
            "takeaway",
            "to-go",
            "toiletpaper",
            "baking"
           ],
           "type": "scatterpolar"
          }
         ],
         "name": "2020-04-26"
        },
        {
         "data": [
          {
           "hovertemplate": "country=nl<br>date_str=2020-03-05<br>score_difference=%{r}<br>term=%{theta}<extra></extra>",
           "legendgroup": "nl",
           "line": {
            "color": "#636efa",
            "dash": "solid",
            "shape": "spline"
           },
           "mode": "lines",
           "name": "nl",
           "r": [
            28,
            32,
            23,
            4,
            13,
            0,
            12,
            64,
            28,
            -35,
            21,
            39,
            63,
            23,
            2,
            28
           ],
           "showlegend": true,
           "subplot": "polar",
           "theta": [
            "baking",
            "bananabread",
            "beans",
            "coffee",
            "cooking",
            "grocerydelivery",
            "handsanitizer",
            "mouthmask",
            "pasta",
            "restaurant",
            "rice",
            "spices",
            "takeaway",
            "to-go",
            "toiletpaper",
            "baking"
           ],
           "type": "scatterpolar"
          }
         ],
         "name": "2020-03-05"
        },
        {
         "data": [
          {
           "hovertemplate": "country=nl<br>date_str=2020-10-05<br>score_difference=%{r}<br>term=%{theta}<extra></extra>",
           "legendgroup": "nl",
           "line": {
            "color": "#636efa",
            "dash": "solid",
            "shape": "spline"
           },
           "mode": "lines",
           "name": "nl",
           "r": [
            27,
            33,
            30,
            7,
            20,
            4,
            25,
            36,
            27,
            -37,
            14,
            33,
            57,
            16,
            4,
            27
           ],
           "showlegend": true,
           "subplot": "polar",
           "theta": [
            "baking",
            "bananabread",
            "beans",
            "coffee",
            "cooking",
            "grocerydelivery",
            "handsanitizer",
            "mouthmask",
            "pasta",
            "restaurant",
            "rice",
            "spices",
            "takeaway",
            "to-go",
            "toiletpaper",
            "baking"
           ],
           "type": "scatterpolar"
          }
         ],
         "name": "2020-10-05"
        },
        {
         "data": [
          {
           "hovertemplate": "country=nl<br>date_str=2020-05-17<br>score_difference=%{r}<br>term=%{theta}<extra></extra>",
           "legendgroup": "nl",
           "line": {
            "color": "#636efa",
            "dash": "solid",
            "shape": "spline"
           },
           "mode": "lines",
           "name": "nl",
           "r": [
            29,
            22,
            20,
            9,
            20,
            2,
            11,
            26,
            18,
            -30,
            9,
            24,
            52,
            26,
            2,
            29
           ],
           "showlegend": true,
           "subplot": "polar",
           "theta": [
            "baking",
            "bananabread",
            "beans",
            "coffee",
            "cooking",
            "grocerydelivery",
            "handsanitizer",
            "mouthmask",
            "pasta",
            "restaurant",
            "rice",
            "spices",
            "takeaway",
            "to-go",
            "toiletpaper",
            "baking"
           ],
           "type": "scatterpolar"
          }
         ],
         "name": "2020-05-17"
        },
        {
         "data": [
          {
           "hovertemplate": "country=nl<br>date_str=2020-05-24<br>score_difference=%{r}<br>term=%{theta}<extra></extra>",
           "legendgroup": "nl",
           "line": {
            "color": "#636efa",
            "dash": "solid",
            "shape": "spline"
           },
           "mode": "lines",
           "name": "nl",
           "r": [
            13,
            23,
            -1,
            11,
            5,
            2,
            9,
            19,
            18,
            -38,
            23,
            26,
            28,
            23,
            7,
            13
           ],
           "showlegend": true,
           "subplot": "polar",
           "theta": [
            "baking",
            "bananabread",
            "beans",
            "coffee",
            "cooking",
            "grocerydelivery",
            "handsanitizer",
            "mouthmask",
            "pasta",
            "restaurant",
            "rice",
            "spices",
            "takeaway",
            "to-go",
            "toiletpaper",
            "baking"
           ],
           "type": "scatterpolar"
          }
         ],
         "name": "2020-05-24"
        },
        {
         "data": [
          {
           "hovertemplate": "country=nl<br>date_str=2020-05-31<br>score_difference=%{r}<br>term=%{theta}<extra></extra>",
           "legendgroup": "nl",
           "line": {
            "color": "#636efa",
            "dash": "solid",
            "shape": "spline"
           },
           "mode": "lines",
           "name": "nl",
           "r": [
            12,
            11,
            10,
            11,
            7,
            2,
            4,
            25,
            17,
            -9,
            14,
            14,
            17,
            12,
            2,
            12
           ],
           "showlegend": true,
           "subplot": "polar",
           "theta": [
            "baking",
            "bananabread",
            "beans",
            "coffee",
            "cooking",
            "grocerydelivery",
            "handsanitizer",
            "mouthmask",
            "pasta",
            "restaurant",
            "rice",
            "spices",
            "takeaway",
            "to-go",
            "toiletpaper",
            "baking"
           ],
           "type": "scatterpolar"
          }
         ],
         "name": "2020-05-31"
        },
        {
         "data": [
          {
           "hovertemplate": "country=nl<br>date_str=2020-07-06<br>score_difference=%{r}<br>term=%{theta}<extra></extra>",
           "legendgroup": "nl",
           "line": {
            "color": "#636efa",
            "dash": "solid",
            "shape": "spline"
           },
           "mode": "lines",
           "name": "nl",
           "r": [
            10,
            17,
            9,
            13,
            10,
            2,
            5,
            15,
            28,
            -8,
            23,
            25,
            25,
            0,
            6,
            10
           ],
           "showlegend": true,
           "subplot": "polar",
           "theta": [
            "baking",
            "bananabread",
            "beans",
            "coffee",
            "cooking",
            "grocerydelivery",
            "handsanitizer",
            "mouthmask",
            "pasta",
            "restaurant",
            "rice",
            "spices",
            "takeaway",
            "to-go",
            "toiletpaper",
            "baking"
           ],
           "type": "scatterpolar"
          }
         ],
         "name": "2020-07-06"
        },
        {
         "data": [
          {
           "hovertemplate": "country=nl<br>date_str=2020-06-14<br>score_difference=%{r}<br>term=%{theta}<extra></extra>",
           "legendgroup": "nl",
           "line": {
            "color": "#636efa",
            "dash": "solid",
            "shape": "spline"
           },
           "mode": "lines",
           "name": "nl",
           "r": [
            15,
            27,
            20,
            14,
            12,
            5,
            -2,
            14,
            16,
            0,
            17,
            19,
            12,
            1,
            0,
            15
           ],
           "showlegend": true,
           "subplot": "polar",
           "theta": [
            "baking",
            "bananabread",
            "beans",
            "coffee",
            "cooking",
            "grocerydelivery",
            "handsanitizer",
            "mouthmask",
            "pasta",
            "restaurant",
            "rice",
            "spices",
            "takeaway",
            "to-go",
            "toiletpaper",
            "baking"
           ],
           "type": "scatterpolar"
          }
         ],
         "name": "2020-06-14"
        },
        {
         "data": [
          {
           "hovertemplate": "country=nl<br>date_str=2020-06-21<br>score_difference=%{r}<br>term=%{theta}<extra></extra>",
           "legendgroup": "nl",
           "line": {
            "color": "#636efa",
            "dash": "solid",
            "shape": "spline"
           },
           "mode": "lines",
           "name": "nl",
           "r": [
            12,
            15,
            10,
            15,
            7,
            -8,
            4,
            11,
            11,
            8,
            19,
            10,
            4,
            7,
            0,
            12
           ],
           "showlegend": true,
           "subplot": "polar",
           "theta": [
            "baking",
            "bananabread",
            "beans",
            "coffee",
            "cooking",
            "grocerydelivery",
            "handsanitizer",
            "mouthmask",
            "pasta",
            "restaurant",
            "rice",
            "spices",
            "takeaway",
            "to-go",
            "toiletpaper",
            "baking"
           ],
           "type": "scatterpolar"
          }
         ],
         "name": "2020-06-21"
        },
        {
         "data": [
          {
           "hovertemplate": "country=nl<br>date_str=2020-06-28<br>score_difference=%{r}<br>term=%{theta}<extra></extra>",
           "legendgroup": "nl",
           "line": {
            "color": "#636efa",
            "dash": "solid",
            "shape": "spline"
           },
           "mode": "lines",
           "name": "nl",
           "r": [
            12,
            25,
            33,
            15,
            12,
            -5,
            2,
            14,
            10,
            7,
            14,
            11,
            19,
            -8,
            1,
            12
           ],
           "showlegend": true,
           "subplot": "polar",
           "theta": [
            "baking",
            "bananabread",
            "beans",
            "coffee",
            "cooking",
            "grocerydelivery",
            "handsanitizer",
            "mouthmask",
            "pasta",
            "restaurant",
            "rice",
            "spices",
            "takeaway",
            "to-go",
            "toiletpaper",
            "baking"
           ],
           "type": "scatterpolar"
          }
         ],
         "name": "2020-06-28"
        },
        {
         "data": [
          {
           "hovertemplate": "country=nl<br>date_str=2020-05-07<br>score_difference=%{r}<br>term=%{theta}<extra></extra>",
           "legendgroup": "nl",
           "line": {
            "color": "#636efa",
            "dash": "solid",
            "shape": "spline"
           },
           "mode": "lines",
           "name": "nl",
           "r": [
            15,
            22,
            15,
            18,
            9,
            4,
            5,
            18,
            12,
            13,
            15,
            15,
            23,
            7,
            -3,
            15
           ],
           "showlegend": true,
           "subplot": "polar",
           "theta": [
            "baking",
            "bananabread",
            "beans",
            "coffee",
            "cooking",
            "grocerydelivery",
            "handsanitizer",
            "mouthmask",
            "pasta",
            "restaurant",
            "rice",
            "spices",
            "takeaway",
            "to-go",
            "toiletpaper",
            "baking"
           ],
           "type": "scatterpolar"
          }
         ],
         "name": "2020-05-07"
        },
        {
         "data": [
          {
           "hovertemplate": "country=nl<br>date_str=2020-12-07<br>score_difference=%{r}<br>term=%{theta}<extra></extra>",
           "legendgroup": "nl",
           "line": {
            "color": "#636efa",
            "dash": "solid",
            "shape": "spline"
           },
           "mode": "lines",
           "name": "nl",
           "r": [
            10,
            11,
            9,
            25,
            6,
            1,
            -3,
            24,
            7,
            13,
            12,
            7,
            -7,
            11,
            4,
            10
           ],
           "showlegend": true,
           "subplot": "polar",
           "theta": [
            "baking",
            "bananabread",
            "beans",
            "coffee",
            "cooking",
            "grocerydelivery",
            "handsanitizer",
            "mouthmask",
            "pasta",
            "restaurant",
            "rice",
            "spices",
            "takeaway",
            "to-go",
            "toiletpaper",
            "baking"
           ],
           "type": "scatterpolar"
          }
         ],
         "name": "2020-12-07"
        },
        {
         "data": [
          {
           "hovertemplate": "country=nl<br>date_str=2020-07-19<br>score_difference=%{r}<br>term=%{theta}<extra></extra>",
           "legendgroup": "nl",
           "line": {
            "color": "#636efa",
            "dash": "solid",
            "shape": "spline"
           },
           "mode": "lines",
           "name": "nl",
           "r": [
            23,
            20,
            26,
            24,
            12,
            1,
            4,
            35,
            11,
            20,
            25,
            5,
            4,
            5,
            2,
            23
           ],
           "showlegend": true,
           "subplot": "polar",
           "theta": [
            "baking",
            "bananabread",
            "beans",
            "coffee",
            "cooking",
            "grocerydelivery",
            "handsanitizer",
            "mouthmask",
            "pasta",
            "restaurant",
            "rice",
            "spices",
            "takeaway",
            "to-go",
            "toiletpaper",
            "baking"
           ],
           "type": "scatterpolar"
          }
         ],
         "name": "2020-07-19"
        },
        {
         "data": [
          {
           "hovertemplate": "country=nl<br>date_str=2020-07-26<br>score_difference=%{r}<br>term=%{theta}<extra></extra>",
           "legendgroup": "nl",
           "line": {
            "color": "#636efa",
            "dash": "solid",
            "shape": "spline"
           },
           "mode": "lines",
           "name": "nl",
           "r": [
            9,
            15,
            29,
            10,
            8,
            1,
            2,
            31,
            17,
            12,
            10,
            11,
            -12,
            -5,
            -2,
            9
           ],
           "showlegend": true,
           "subplot": "polar",
           "theta": [
            "baking",
            "bananabread",
            "beans",
            "coffee",
            "cooking",
            "grocerydelivery",
            "handsanitizer",
            "mouthmask",
            "pasta",
            "restaurant",
            "rice",
            "spices",
            "takeaway",
            "to-go",
            "toiletpaper",
            "baking"
           ],
           "type": "scatterpolar"
          }
         ],
         "name": "2020-07-26"
        },
        {
         "data": [
          {
           "hovertemplate": "country=nl<br>date_str=2020-02-08<br>score_difference=%{r}<br>term=%{theta}<extra></extra>",
           "legendgroup": "nl",
           "line": {
            "color": "#636efa",
            "dash": "solid",
            "shape": "spline"
           },
           "mode": "lines",
           "name": "nl",
           "r": [
            10,
            2,
            6,
            6,
            2,
            -5,
            4,
            25,
            21,
            8,
            -4,
            11,
            14,
            -7,
            1,
            10
           ],
           "showlegend": true,
           "subplot": "polar",
           "theta": [
            "baking",
            "bananabread",
            "beans",
            "coffee",
            "cooking",
            "grocerydelivery",
            "handsanitizer",
            "mouthmask",
            "pasta",
            "restaurant",
            "rice",
            "spices",
            "takeaway",
            "to-go",
            "toiletpaper",
            "baking"
           ],
           "type": "scatterpolar"
          }
         ],
         "name": "2020-02-08"
        },
        {
         "data": [
          {
           "hovertemplate": "country=nl<br>date_str=2020-09-08<br>score_difference=%{r}<br>term=%{theta}<extra></extra>",
           "legendgroup": "nl",
           "line": {
            "color": "#636efa",
            "dash": "solid",
            "shape": "spline"
           },
           "mode": "lines",
           "name": "nl",
           "r": [
            -3,
            1,
            -8,
            -1,
            -10,
            4,
            4,
            15,
            13,
            4,
            -10,
            3,
            3,
            -7,
            -1,
            -3
           ],
           "showlegend": true,
           "subplot": "polar",
           "theta": [
            "baking",
            "bananabread",
            "beans",
            "coffee",
            "cooking",
            "grocerydelivery",
            "handsanitizer",
            "mouthmask",
            "pasta",
            "restaurant",
            "rice",
            "spices",
            "takeaway",
            "to-go",
            "toiletpaper",
            "baking"
           ],
           "type": "scatterpolar"
          }
         ],
         "name": "2020-09-08"
        },
        {
         "data": [
          {
           "hovertemplate": "country=nl<br>date_str=2020-08-16<br>score_difference=%{r}<br>term=%{theta}<extra></extra>",
           "legendgroup": "nl",
           "line": {
            "color": "#636efa",
            "dash": "solid",
            "shape": "spline"
           },
           "mode": "lines",
           "name": "nl",
           "r": [
            6,
            -3,
            -15,
            -5,
            0,
            3,
            6,
            17,
            12,
            16,
            2,
            6,
            10,
            3,
            7,
            6
           ],
           "showlegend": true,
           "subplot": "polar",
           "theta": [
            "baking",
            "bananabread",
            "beans",
            "coffee",
            "cooking",
            "grocerydelivery",
            "handsanitizer",
            "mouthmask",
            "pasta",
            "restaurant",
            "rice",
            "spices",
            "takeaway",
            "to-go",
            "toiletpaper",
            "baking"
           ],
           "type": "scatterpolar"
          }
         ],
         "name": "2020-08-16"
        },
        {
         "data": [
          {
           "hovertemplate": "country=nl<br>date_str=2020-08-23<br>score_difference=%{r}<br>term=%{theta}<extra></extra>",
           "legendgroup": "nl",
           "line": {
            "color": "#636efa",
            "dash": "solid",
            "shape": "spline"
           },
           "mode": "lines",
           "name": "nl",
           "r": [
            18,
            14,
            12,
            12,
            7,
            4,
            7,
            15,
            12,
            13,
            18,
            11,
            0,
            7,
            2,
            18
           ],
           "showlegend": true,
           "subplot": "polar",
           "theta": [
            "baking",
            "bananabread",
            "beans",
            "coffee",
            "cooking",
            "grocerydelivery",
            "handsanitizer",
            "mouthmask",
            "pasta",
            "restaurant",
            "rice",
            "spices",
            "takeaway",
            "to-go",
            "toiletpaper",
            "baking"
           ],
           "type": "scatterpolar"
          }
         ],
         "name": "2020-08-23"
        },
        {
         "data": [
          {
           "hovertemplate": "country=nl<br>date_str=2020-08-30<br>score_difference=%{r}<br>term=%{theta}<extra></extra>",
           "legendgroup": "nl",
           "line": {
            "color": "#636efa",
            "dash": "solid",
            "shape": "spline"
           },
           "mode": "lines",
           "name": "nl",
           "r": [
            12,
            -6,
            9,
            1,
            5,
            5,
            0,
            11,
            17,
            15,
            10,
            12,
            9,
            3,
            0,
            12
           ],
           "showlegend": true,
           "subplot": "polar",
           "theta": [
            "baking",
            "bananabread",
            "beans",
            "coffee",
            "cooking",
            "grocerydelivery",
            "handsanitizer",
            "mouthmask",
            "pasta",
            "restaurant",
            "rice",
            "spices",
            "takeaway",
            "to-go",
            "toiletpaper",
            "baking"
           ],
           "type": "scatterpolar"
          }
         ],
         "name": "2020-08-30"
        },
        {
         "data": [
          {
           "hovertemplate": "country=nl<br>date_str=2020-06-09<br>score_difference=%{r}<br>term=%{theta}<extra></extra>",
           "legendgroup": "nl",
           "line": {
            "color": "#636efa",
            "dash": "solid",
            "shape": "spline"
           },
           "mode": "lines",
           "name": "nl",
           "r": [
            13,
            5,
            2,
            9,
            7,
            2,
            2,
            7,
            11,
            20,
            14,
            1,
            21,
            6,
            2,
            13
           ],
           "showlegend": true,
           "subplot": "polar",
           "theta": [
            "baking",
            "bananabread",
            "beans",
            "coffee",
            "cooking",
            "grocerydelivery",
            "handsanitizer",
            "mouthmask",
            "pasta",
            "restaurant",
            "rice",
            "spices",
            "takeaway",
            "to-go",
            "toiletpaper",
            "baking"
           ],
           "type": "scatterpolar"
          }
         ],
         "name": "2020-06-09"
        },
        {
         "data": [
          {
           "hovertemplate": "country=nl<br>date_str=2020-09-13<br>score_difference=%{r}<br>term=%{theta}<extra></extra>",
           "legendgroup": "nl",
           "line": {
            "color": "#636efa",
            "dash": "solid",
            "shape": "spline"
           },
           "mode": "lines",
           "name": "nl",
           "r": [
            13,
            0,
            1,
            -7,
            3,
            3,
            1,
            8,
            12,
            13,
            7,
            -1,
            13,
            -7,
            2,
            13
           ],
           "showlegend": true,
           "subplot": "polar",
           "theta": [
            "baking",
            "bananabread",
            "beans",
            "coffee",
            "cooking",
            "grocerydelivery",
            "handsanitizer",
            "mouthmask",
            "pasta",
            "restaurant",
            "rice",
            "spices",
            "takeaway",
            "to-go",
            "toiletpaper",
            "baking"
           ],
           "type": "scatterpolar"
          }
         ],
         "name": "2020-09-13"
        },
        {
         "data": [
          {
           "hovertemplate": "country=nl<br>date_str=2020-09-20<br>score_difference=%{r}<br>term=%{theta}<extra></extra>",
           "legendgroup": "nl",
           "line": {
            "color": "#636efa",
            "dash": "solid",
            "shape": "spline"
           },
           "mode": "lines",
           "name": "nl",
           "r": [
            7,
            5,
            0,
            7,
            1,
            5,
            2,
            9,
            9,
            8,
            12,
            6,
            -2,
            -3,
            3,
            7
           ],
           "showlegend": true,
           "subplot": "polar",
           "theta": [
            "baking",
            "bananabread",
            "beans",
            "coffee",
            "cooking",
            "grocerydelivery",
            "handsanitizer",
            "mouthmask",
            "pasta",
            "restaurant",
            "rice",
            "spices",
            "takeaway",
            "to-go",
            "toiletpaper",
            "baking"
           ],
           "type": "scatterpolar"
          }
         ],
         "name": "2020-09-20"
        },
        {
         "data": [
          {
           "hovertemplate": "country=nl<br>date_str=2020-09-27<br>score_difference=%{r}<br>term=%{theta}<extra></extra>",
           "legendgroup": "nl",
           "line": {
            "color": "#636efa",
            "dash": "solid",
            "shape": "spline"
           },
           "mode": "lines",
           "name": "nl",
           "r": [
            13,
            8,
            12,
            10,
            15,
            13,
            5,
            99,
            12,
            0,
            19,
            10,
            7,
            3,
            0,
            13
           ],
           "showlegend": true,
           "subplot": "polar",
           "theta": [
            "baking",
            "bananabread",
            "beans",
            "coffee",
            "cooking",
            "grocerydelivery",
            "handsanitizer",
            "mouthmask",
            "pasta",
            "restaurant",
            "rice",
            "spices",
            "takeaway",
            "to-go",
            "toiletpaper",
            "baking"
           ],
           "type": "scatterpolar"
          }
         ],
         "name": "2020-09-27"
        },
        {
         "data": [
          {
           "hovertemplate": "country=nl<br>date_str=2020-04-10<br>score_difference=%{r}<br>term=%{theta}<extra></extra>",
           "legendgroup": "nl",
           "line": {
            "color": "#636efa",
            "dash": "solid",
            "shape": "spline"
           },
           "mode": "lines",
           "name": "nl",
           "r": [
            18,
            1,
            39,
            9,
            12,
            20,
            1,
            69,
            14,
            -11,
            13,
            12,
            5,
            -2,
            3,
            18
           ],
           "showlegend": true,
           "subplot": "polar",
           "theta": [
            "baking",
            "bananabread",
            "beans",
            "coffee",
            "cooking",
            "grocerydelivery",
            "handsanitizer",
            "mouthmask",
            "pasta",
            "restaurant",
            "rice",
            "spices",
            "takeaway",
            "to-go",
            "toiletpaper",
            "baking"
           ],
           "type": "scatterpolar"
          }
         ],
         "name": "2020-04-10"
        },
        {
         "data": [
          {
           "hovertemplate": "country=nl<br>date_str=2020-11-10<br>score_difference=%{r}<br>term=%{theta}<extra></extra>",
           "legendgroup": "nl",
           "line": {
            "color": "#636efa",
            "dash": "solid",
            "shape": "spline"
           },
           "mode": "lines",
           "name": "nl",
           "r": [
            20,
            10,
            28,
            16,
            11,
            32,
            7,
            84,
            21,
            -27,
            17,
            10,
            47,
            6,
            3,
            20
           ],
           "showlegend": true,
           "subplot": "polar",
           "theta": [
            "baking",
            "bananabread",
            "beans",
            "coffee",
            "cooking",
            "grocerydelivery",
            "handsanitizer",
            "mouthmask",
            "pasta",
            "restaurant",
            "rice",
            "spices",
            "takeaway",
            "to-go",
            "toiletpaper",
            "baking"
           ],
           "type": "scatterpolar"
          }
         ],
         "name": "2020-11-10"
        },
        {
         "data": [
          {
           "hovertemplate": "country=nl<br>date_str=2020-10-18<br>score_difference=%{r}<br>term=%{theta}<extra></extra>",
           "legendgroup": "nl",
           "line": {
            "color": "#636efa",
            "dash": "solid",
            "shape": "spline"
           },
           "mode": "lines",
           "name": "nl",
           "r": [
            23,
            23,
            20,
            2,
            14,
            18,
            4,
            41,
            8,
            -48,
            23,
            7,
            72,
            22,
            4,
            23
           ],
           "showlegend": true,
           "subplot": "polar",
           "theta": [
            "baking",
            "bananabread",
            "beans",
            "coffee",
            "cooking",
            "grocerydelivery",
            "handsanitizer",
            "mouthmask",
            "pasta",
            "restaurant",
            "rice",
            "spices",
            "takeaway",
            "to-go",
            "toiletpaper",
            "baking"
           ],
           "type": "scatterpolar"
          }
         ],
         "name": "2020-10-18"
        },
        {
         "data": [
          {
           "hovertemplate": "country=nl<br>date_str=2020-10-25<br>score_difference=%{r}<br>term=%{theta}<extra></extra>",
           "legendgroup": "nl",
           "line": {
            "color": "#636efa",
            "dash": "solid",
            "shape": "spline"
           },
           "mode": "lines",
           "name": "nl",
           "r": [
            24,
            14,
            14,
            -5,
            11,
            20,
            2,
            27,
            13,
            -43,
            22,
            19,
            70,
            20,
            -3,
            24
           ],
           "showlegend": true,
           "subplot": "polar",
           "theta": [
            "baking",
            "bananabread",
            "beans",
            "coffee",
            "cooking",
            "grocerydelivery",
            "handsanitizer",
            "mouthmask",
            "pasta",
            "restaurant",
            "rice",
            "spices",
            "takeaway",
            "to-go",
            "toiletpaper",
            "baking"
           ],
           "type": "scatterpolar"
          }
         ],
         "name": "2020-10-25"
        },
        {
         "data": [
          {
           "hovertemplate": "country=nl<br>date_str=2020-01-11<br>score_difference=%{r}<br>term=%{theta}<extra></extra>",
           "legendgroup": "nl",
           "line": {
            "color": "#636efa",
            "dash": "solid",
            "shape": "spline"
           },
           "mode": "lines",
           "name": "nl",
           "r": [
            16,
            16,
            10,
            -5,
            0,
            3,
            2,
            18,
            15,
            -50,
            13,
            13,
            71,
            21,
            4,
            16
           ],
           "showlegend": true,
           "subplot": "polar",
           "theta": [
            "baking",
            "bananabread",
            "beans",
            "coffee",
            "cooking",
            "grocerydelivery",
            "handsanitizer",
            "mouthmask",
            "pasta",
            "restaurant",
            "rice",
            "spices",
            "takeaway",
            "to-go",
            "toiletpaper",
            "baking"
           ],
           "type": "scatterpolar"
          }
         ],
         "name": "2020-01-11"
        }
       ],
       "layout": {
        "height": 700,
        "legend": {
         "title": {
          "text": "country"
         },
         "tracegroupgap": 0
        },
        "polar": {
         "angularaxis": {
          "direction": "clockwise",
          "rotation": 90
         },
         "domain": {
          "x": [
           0,
           1
          ],
          "y": [
           0,
           1
          ]
         },
         "radialaxis": {
          "range": [
           -50,
           100
          ]
         }
        },
        "sliders": [
         {
          "active": 0,
          "currentvalue": {
           "prefix": "date_str="
          },
          "len": 0.9,
          "pad": {
           "b": 10,
           "t": 60
          },
          "steps": [
           {
            "args": [
             [
              "2019-03-11"
             ],
             {
              "frame": {
               "duration": 0,
               "redraw": true
              },
              "fromcurrent": true,
              "mode": "immediate",
              "transition": {
               "duration": 0,
               "easing": "linear"
              }
             }
            ],
            "label": "2019-03-11",
            "method": "animate"
           },
           {
            "args": [
             [
              "2019-10-11"
             ],
             {
              "frame": {
               "duration": 0,
               "redraw": true
              },
              "fromcurrent": true,
              "mode": "immediate",
              "transition": {
               "duration": 0,
               "easing": "linear"
              }
             }
            ],
            "label": "2019-10-11",
            "method": "animate"
           },
           {
            "args": [
             [
              "2019-11-17"
             ],
             {
              "frame": {
               "duration": 0,
               "redraw": true
              },
              "fromcurrent": true,
              "mode": "immediate",
              "transition": {
               "duration": 0,
               "easing": "linear"
              }
             }
            ],
            "label": "2019-11-17",
            "method": "animate"
           },
           {
            "args": [
             [
              "2019-11-24"
             ],
             {
              "frame": {
               "duration": 0,
               "redraw": true
              },
              "fromcurrent": true,
              "mode": "immediate",
              "transition": {
               "duration": 0,
               "easing": "linear"
              }
             }
            ],
            "label": "2019-11-24",
            "method": "animate"
           },
           {
            "args": [
             [
              "2019-01-12"
             ],
             {
              "frame": {
               "duration": 0,
               "redraw": true
              },
              "fromcurrent": true,
              "mode": "immediate",
              "transition": {
               "duration": 0,
               "easing": "linear"
              }
             }
            ],
            "label": "2019-01-12",
            "method": "animate"
           },
           {
            "args": [
             [
              "2019-08-12"
             ],
             {
              "frame": {
               "duration": 0,
               "redraw": true
              },
              "fromcurrent": true,
              "mode": "immediate",
              "transition": {
               "duration": 0,
               "easing": "linear"
              }
             }
            ],
            "label": "2019-08-12",
            "method": "animate"
           },
           {
            "args": [
             [
              "2019-12-15"
             ],
             {
              "frame": {
               "duration": 0,
               "redraw": true
              },
              "fromcurrent": true,
              "mode": "immediate",
              "transition": {
               "duration": 0,
               "easing": "linear"
              }
             }
            ],
            "label": "2019-12-15",
            "method": "animate"
           },
           {
            "args": [
             [
              "2019-12-22"
             ],
             {
              "frame": {
               "duration": 0,
               "redraw": true
              },
              "fromcurrent": true,
              "mode": "immediate",
              "transition": {
               "duration": 0,
               "easing": "linear"
              }
             }
            ],
            "label": "2019-12-22",
            "method": "animate"
           },
           {
            "args": [
             [
              "2019-12-29"
             ],
             {
              "frame": {
               "duration": 0,
               "redraw": true
              },
              "fromcurrent": true,
              "mode": "immediate",
              "transition": {
               "duration": 0,
               "easing": "linear"
              }
             }
            ],
            "label": "2019-12-29",
            "method": "animate"
           },
           {
            "args": [
             [
              "2020-05-01"
             ],
             {
              "frame": {
               "duration": 0,
               "redraw": true
              },
              "fromcurrent": true,
              "mode": "immediate",
              "transition": {
               "duration": 0,
               "easing": "linear"
              }
             }
            ],
            "label": "2020-05-01",
            "method": "animate"
           },
           {
            "args": [
             [
              "2020-12-01"
             ],
             {
              "frame": {
               "duration": 0,
               "redraw": true
              },
              "fromcurrent": true,
              "mode": "immediate",
              "transition": {
               "duration": 0,
               "easing": "linear"
              }
             }
            ],
            "label": "2020-12-01",
            "method": "animate"
           },
           {
            "args": [
             [
              "2020-01-19"
             ],
             {
              "frame": {
               "duration": 0,
               "redraw": true
              },
              "fromcurrent": true,
              "mode": "immediate",
              "transition": {
               "duration": 0,
               "easing": "linear"
              }
             }
            ],
            "label": "2020-01-19",
            "method": "animate"
           },
           {
            "args": [
             [
              "2020-01-26"
             ],
             {
              "frame": {
               "duration": 0,
               "redraw": true
              },
              "fromcurrent": true,
              "mode": "immediate",
              "transition": {
               "duration": 0,
               "easing": "linear"
              }
             }
            ],
            "label": "2020-01-26",
            "method": "animate"
           },
           {
            "args": [
             [
              "2020-02-02"
             ],
             {
              "frame": {
               "duration": 0,
               "redraw": true
              },
              "fromcurrent": true,
              "mode": "immediate",
              "transition": {
               "duration": 0,
               "easing": "linear"
              }
             }
            ],
            "label": "2020-02-02",
            "method": "animate"
           },
           {
            "args": [
             [
              "2020-09-02"
             ],
             {
              "frame": {
               "duration": 0,
               "redraw": true
              },
              "fromcurrent": true,
              "mode": "immediate",
              "transition": {
               "duration": 0,
               "easing": "linear"
              }
             }
            ],
            "label": "2020-09-02",
            "method": "animate"
           },
           {
            "args": [
             [
              "2020-02-16"
             ],
             {
              "frame": {
               "duration": 0,
               "redraw": true
              },
              "fromcurrent": true,
              "mode": "immediate",
              "transition": {
               "duration": 0,
               "easing": "linear"
              }
             }
            ],
            "label": "2020-02-16",
            "method": "animate"
           },
           {
            "args": [
             [
              "2020-02-23"
             ],
             {
              "frame": {
               "duration": 0,
               "redraw": true
              },
              "fromcurrent": true,
              "mode": "immediate",
              "transition": {
               "duration": 0,
               "easing": "linear"
              }
             }
            ],
            "label": "2020-02-23",
            "method": "animate"
           },
           {
            "args": [
             [
              "2020-01-03"
             ],
             {
              "frame": {
               "duration": 0,
               "redraw": true
              },
              "fromcurrent": true,
              "mode": "immediate",
              "transition": {
               "duration": 0,
               "easing": "linear"
              }
             }
            ],
            "label": "2020-01-03",
            "method": "animate"
           },
           {
            "args": [
             [
              "2020-08-03"
             ],
             {
              "frame": {
               "duration": 0,
               "redraw": true
              },
              "fromcurrent": true,
              "mode": "immediate",
              "transition": {
               "duration": 0,
               "easing": "linear"
              }
             }
            ],
            "label": "2020-08-03",
            "method": "animate"
           },
           {
            "args": [
             [
              "2020-03-15"
             ],
             {
              "frame": {
               "duration": 0,
               "redraw": true
              },
              "fromcurrent": true,
              "mode": "immediate",
              "transition": {
               "duration": 0,
               "easing": "linear"
              }
             }
            ],
            "label": "2020-03-15",
            "method": "animate"
           },
           {
            "args": [
             [
              "2020-03-22"
             ],
             {
              "frame": {
               "duration": 0,
               "redraw": true
              },
              "fromcurrent": true,
              "mode": "immediate",
              "transition": {
               "duration": 0,
               "easing": "linear"
              }
             }
            ],
            "label": "2020-03-22",
            "method": "animate"
           },
           {
            "args": [
             [
              "2020-03-29"
             ],
             {
              "frame": {
               "duration": 0,
               "redraw": true
              },
              "fromcurrent": true,
              "mode": "immediate",
              "transition": {
               "duration": 0,
               "easing": "linear"
              }
             }
            ],
            "label": "2020-03-29",
            "method": "animate"
           },
           {
            "args": [
             [
              "2020-05-04"
             ],
             {
              "frame": {
               "duration": 0,
               "redraw": true
              },
              "fromcurrent": true,
              "mode": "immediate",
              "transition": {
               "duration": 0,
               "easing": "linear"
              }
             }
            ],
            "label": "2020-05-04",
            "method": "animate"
           },
           {
            "args": [
             [
              "2020-12-04"
             ],
             {
              "frame": {
               "duration": 0,
               "redraw": true
              },
              "fromcurrent": true,
              "mode": "immediate",
              "transition": {
               "duration": 0,
               "easing": "linear"
              }
             }
            ],
            "label": "2020-12-04",
            "method": "animate"
           },
           {
            "args": [
             [
              "2020-04-19"
             ],
             {
              "frame": {
               "duration": 0,
               "redraw": true
              },
              "fromcurrent": true,
              "mode": "immediate",
              "transition": {
               "duration": 0,
               "easing": "linear"
              }
             }
            ],
            "label": "2020-04-19",
            "method": "animate"
           },
           {
            "args": [
             [
              "2020-04-26"
             ],
             {
              "frame": {
               "duration": 0,
               "redraw": true
              },
              "fromcurrent": true,
              "mode": "immediate",
              "transition": {
               "duration": 0,
               "easing": "linear"
              }
             }
            ],
            "label": "2020-04-26",
            "method": "animate"
           },
           {
            "args": [
             [
              "2020-03-05"
             ],
             {
              "frame": {
               "duration": 0,
               "redraw": true
              },
              "fromcurrent": true,
              "mode": "immediate",
              "transition": {
               "duration": 0,
               "easing": "linear"
              }
             }
            ],
            "label": "2020-03-05",
            "method": "animate"
           },
           {
            "args": [
             [
              "2020-10-05"
             ],
             {
              "frame": {
               "duration": 0,
               "redraw": true
              },
              "fromcurrent": true,
              "mode": "immediate",
              "transition": {
               "duration": 0,
               "easing": "linear"
              }
             }
            ],
            "label": "2020-10-05",
            "method": "animate"
           },
           {
            "args": [
             [
              "2020-05-17"
             ],
             {
              "frame": {
               "duration": 0,
               "redraw": true
              },
              "fromcurrent": true,
              "mode": "immediate",
              "transition": {
               "duration": 0,
               "easing": "linear"
              }
             }
            ],
            "label": "2020-05-17",
            "method": "animate"
           },
           {
            "args": [
             [
              "2020-05-24"
             ],
             {
              "frame": {
               "duration": 0,
               "redraw": true
              },
              "fromcurrent": true,
              "mode": "immediate",
              "transition": {
               "duration": 0,
               "easing": "linear"
              }
             }
            ],
            "label": "2020-05-24",
            "method": "animate"
           },
           {
            "args": [
             [
              "2020-05-31"
             ],
             {
              "frame": {
               "duration": 0,
               "redraw": true
              },
              "fromcurrent": true,
              "mode": "immediate",
              "transition": {
               "duration": 0,
               "easing": "linear"
              }
             }
            ],
            "label": "2020-05-31",
            "method": "animate"
           },
           {
            "args": [
             [
              "2020-07-06"
             ],
             {
              "frame": {
               "duration": 0,
               "redraw": true
              },
              "fromcurrent": true,
              "mode": "immediate",
              "transition": {
               "duration": 0,
               "easing": "linear"
              }
             }
            ],
            "label": "2020-07-06",
            "method": "animate"
           },
           {
            "args": [
             [
              "2020-06-14"
             ],
             {
              "frame": {
               "duration": 0,
               "redraw": true
              },
              "fromcurrent": true,
              "mode": "immediate",
              "transition": {
               "duration": 0,
               "easing": "linear"
              }
             }
            ],
            "label": "2020-06-14",
            "method": "animate"
           },
           {
            "args": [
             [
              "2020-06-21"
             ],
             {
              "frame": {
               "duration": 0,
               "redraw": true
              },
              "fromcurrent": true,
              "mode": "immediate",
              "transition": {
               "duration": 0,
               "easing": "linear"
              }
             }
            ],
            "label": "2020-06-21",
            "method": "animate"
           },
           {
            "args": [
             [
              "2020-06-28"
             ],
             {
              "frame": {
               "duration": 0,
               "redraw": true
              },
              "fromcurrent": true,
              "mode": "immediate",
              "transition": {
               "duration": 0,
               "easing": "linear"
              }
             }
            ],
            "label": "2020-06-28",
            "method": "animate"
           },
           {
            "args": [
             [
              "2020-05-07"
             ],
             {
              "frame": {
               "duration": 0,
               "redraw": true
              },
              "fromcurrent": true,
              "mode": "immediate",
              "transition": {
               "duration": 0,
               "easing": "linear"
              }
             }
            ],
            "label": "2020-05-07",
            "method": "animate"
           },
           {
            "args": [
             [
              "2020-12-07"
             ],
             {
              "frame": {
               "duration": 0,
               "redraw": true
              },
              "fromcurrent": true,
              "mode": "immediate",
              "transition": {
               "duration": 0,
               "easing": "linear"
              }
             }
            ],
            "label": "2020-12-07",
            "method": "animate"
           },
           {
            "args": [
             [
              "2020-07-19"
             ],
             {
              "frame": {
               "duration": 0,
               "redraw": true
              },
              "fromcurrent": true,
              "mode": "immediate",
              "transition": {
               "duration": 0,
               "easing": "linear"
              }
             }
            ],
            "label": "2020-07-19",
            "method": "animate"
           },
           {
            "args": [
             [
              "2020-07-26"
             ],
             {
              "frame": {
               "duration": 0,
               "redraw": true
              },
              "fromcurrent": true,
              "mode": "immediate",
              "transition": {
               "duration": 0,
               "easing": "linear"
              }
             }
            ],
            "label": "2020-07-26",
            "method": "animate"
           },
           {
            "args": [
             [
              "2020-02-08"
             ],
             {
              "frame": {
               "duration": 0,
               "redraw": true
              },
              "fromcurrent": true,
              "mode": "immediate",
              "transition": {
               "duration": 0,
               "easing": "linear"
              }
             }
            ],
            "label": "2020-02-08",
            "method": "animate"
           },
           {
            "args": [
             [
              "2020-09-08"
             ],
             {
              "frame": {
               "duration": 0,
               "redraw": true
              },
              "fromcurrent": true,
              "mode": "immediate",
              "transition": {
               "duration": 0,
               "easing": "linear"
              }
             }
            ],
            "label": "2020-09-08",
            "method": "animate"
           },
           {
            "args": [
             [
              "2020-08-16"
             ],
             {
              "frame": {
               "duration": 0,
               "redraw": true
              },
              "fromcurrent": true,
              "mode": "immediate",
              "transition": {
               "duration": 0,
               "easing": "linear"
              }
             }
            ],
            "label": "2020-08-16",
            "method": "animate"
           },
           {
            "args": [
             [
              "2020-08-23"
             ],
             {
              "frame": {
               "duration": 0,
               "redraw": true
              },
              "fromcurrent": true,
              "mode": "immediate",
              "transition": {
               "duration": 0,
               "easing": "linear"
              }
             }
            ],
            "label": "2020-08-23",
            "method": "animate"
           },
           {
            "args": [
             [
              "2020-08-30"
             ],
             {
              "frame": {
               "duration": 0,
               "redraw": true
              },
              "fromcurrent": true,
              "mode": "immediate",
              "transition": {
               "duration": 0,
               "easing": "linear"
              }
             }
            ],
            "label": "2020-08-30",
            "method": "animate"
           },
           {
            "args": [
             [
              "2020-06-09"
             ],
             {
              "frame": {
               "duration": 0,
               "redraw": true
              },
              "fromcurrent": true,
              "mode": "immediate",
              "transition": {
               "duration": 0,
               "easing": "linear"
              }
             }
            ],
            "label": "2020-06-09",
            "method": "animate"
           },
           {
            "args": [
             [
              "2020-09-13"
             ],
             {
              "frame": {
               "duration": 0,
               "redraw": true
              },
              "fromcurrent": true,
              "mode": "immediate",
              "transition": {
               "duration": 0,
               "easing": "linear"
              }
             }
            ],
            "label": "2020-09-13",
            "method": "animate"
           },
           {
            "args": [
             [
              "2020-09-20"
             ],
             {
              "frame": {
               "duration": 0,
               "redraw": true
              },
              "fromcurrent": true,
              "mode": "immediate",
              "transition": {
               "duration": 0,
               "easing": "linear"
              }
             }
            ],
            "label": "2020-09-20",
            "method": "animate"
           },
           {
            "args": [
             [
              "2020-09-27"
             ],
             {
              "frame": {
               "duration": 0,
               "redraw": true
              },
              "fromcurrent": true,
              "mode": "immediate",
              "transition": {
               "duration": 0,
               "easing": "linear"
              }
             }
            ],
            "label": "2020-09-27",
            "method": "animate"
           },
           {
            "args": [
             [
              "2020-04-10"
             ],
             {
              "frame": {
               "duration": 0,
               "redraw": true
              },
              "fromcurrent": true,
              "mode": "immediate",
              "transition": {
               "duration": 0,
               "easing": "linear"
              }
             }
            ],
            "label": "2020-04-10",
            "method": "animate"
           },
           {
            "args": [
             [
              "2020-11-10"
             ],
             {
              "frame": {
               "duration": 0,
               "redraw": true
              },
              "fromcurrent": true,
              "mode": "immediate",
              "transition": {
               "duration": 0,
               "easing": "linear"
              }
             }
            ],
            "label": "2020-11-10",
            "method": "animate"
           },
           {
            "args": [
             [
              "2020-10-18"
             ],
             {
              "frame": {
               "duration": 0,
               "redraw": true
              },
              "fromcurrent": true,
              "mode": "immediate",
              "transition": {
               "duration": 0,
               "easing": "linear"
              }
             }
            ],
            "label": "2020-10-18",
            "method": "animate"
           },
           {
            "args": [
             [
              "2020-10-25"
             ],
             {
              "frame": {
               "duration": 0,
               "redraw": true
              },
              "fromcurrent": true,
              "mode": "immediate",
              "transition": {
               "duration": 0,
               "easing": "linear"
              }
             }
            ],
            "label": "2020-10-25",
            "method": "animate"
           },
           {
            "args": [
             [
              "2020-01-11"
             ],
             {
              "frame": {
               "duration": 0,
               "redraw": true
              },
              "fromcurrent": true,
              "mode": "immediate",
              "transition": {
               "duration": 0,
               "easing": "linear"
              }
             }
            ],
            "label": "2020-01-11",
            "method": "animate"
           }
          ],
          "x": 0.1,
          "xanchor": "left",
          "y": 0,
          "yanchor": "top"
         }
        ],
        "template": {
         "data": {
          "bar": [
           {
            "error_x": {
             "color": "#2a3f5f"
            },
            "error_y": {
             "color": "#2a3f5f"
            },
            "marker": {
             "line": {
              "color": "#E5ECF6",
              "width": 0.5
             }
            },
            "type": "bar"
           }
          ],
          "barpolar": [
           {
            "marker": {
             "line": {
              "color": "#E5ECF6",
              "width": 0.5
             }
            },
            "type": "barpolar"
           }
          ],
          "carpet": [
           {
            "aaxis": {
             "endlinecolor": "#2a3f5f",
             "gridcolor": "white",
             "linecolor": "white",
             "minorgridcolor": "white",
             "startlinecolor": "#2a3f5f"
            },
            "baxis": {
             "endlinecolor": "#2a3f5f",
             "gridcolor": "white",
             "linecolor": "white",
             "minorgridcolor": "white",
             "startlinecolor": "#2a3f5f"
            },
            "type": "carpet"
           }
          ],
          "choropleth": [
           {
            "colorbar": {
             "outlinewidth": 0,
             "ticks": ""
            },
            "type": "choropleth"
           }
          ],
          "contour": [
           {
            "colorbar": {
             "outlinewidth": 0,
             "ticks": ""
            },
            "colorscale": [
             [
              0,
              "#0d0887"
             ],
             [
              0.1111111111111111,
              "#46039f"
             ],
             [
              0.2222222222222222,
              "#7201a8"
             ],
             [
              0.3333333333333333,
              "#9c179e"
             ],
             [
              0.4444444444444444,
              "#bd3786"
             ],
             [
              0.5555555555555556,
              "#d8576b"
             ],
             [
              0.6666666666666666,
              "#ed7953"
             ],
             [
              0.7777777777777778,
              "#fb9f3a"
             ],
             [
              0.8888888888888888,
              "#fdca26"
             ],
             [
              1,
              "#f0f921"
             ]
            ],
            "type": "contour"
           }
          ],
          "contourcarpet": [
           {
            "colorbar": {
             "outlinewidth": 0,
             "ticks": ""
            },
            "type": "contourcarpet"
           }
          ],
          "heatmap": [
           {
            "colorbar": {
             "outlinewidth": 0,
             "ticks": ""
            },
            "colorscale": [
             [
              0,
              "#0d0887"
             ],
             [
              0.1111111111111111,
              "#46039f"
             ],
             [
              0.2222222222222222,
              "#7201a8"
             ],
             [
              0.3333333333333333,
              "#9c179e"
             ],
             [
              0.4444444444444444,
              "#bd3786"
             ],
             [
              0.5555555555555556,
              "#d8576b"
             ],
             [
              0.6666666666666666,
              "#ed7953"
             ],
             [
              0.7777777777777778,
              "#fb9f3a"
             ],
             [
              0.8888888888888888,
              "#fdca26"
             ],
             [
              1,
              "#f0f921"
             ]
            ],
            "type": "heatmap"
           }
          ],
          "heatmapgl": [
           {
            "colorbar": {
             "outlinewidth": 0,
             "ticks": ""
            },
            "colorscale": [
             [
              0,
              "#0d0887"
             ],
             [
              0.1111111111111111,
              "#46039f"
             ],
             [
              0.2222222222222222,
              "#7201a8"
             ],
             [
              0.3333333333333333,
              "#9c179e"
             ],
             [
              0.4444444444444444,
              "#bd3786"
             ],
             [
              0.5555555555555556,
              "#d8576b"
             ],
             [
              0.6666666666666666,
              "#ed7953"
             ],
             [
              0.7777777777777778,
              "#fb9f3a"
             ],
             [
              0.8888888888888888,
              "#fdca26"
             ],
             [
              1,
              "#f0f921"
             ]
            ],
            "type": "heatmapgl"
           }
          ],
          "histogram": [
           {
            "marker": {
             "colorbar": {
              "outlinewidth": 0,
              "ticks": ""
             }
            },
            "type": "histogram"
           }
          ],
          "histogram2d": [
           {
            "colorbar": {
             "outlinewidth": 0,
             "ticks": ""
            },
            "colorscale": [
             [
              0,
              "#0d0887"
             ],
             [
              0.1111111111111111,
              "#46039f"
             ],
             [
              0.2222222222222222,
              "#7201a8"
             ],
             [
              0.3333333333333333,
              "#9c179e"
             ],
             [
              0.4444444444444444,
              "#bd3786"
             ],
             [
              0.5555555555555556,
              "#d8576b"
             ],
             [
              0.6666666666666666,
              "#ed7953"
             ],
             [
              0.7777777777777778,
              "#fb9f3a"
             ],
             [
              0.8888888888888888,
              "#fdca26"
             ],
             [
              1,
              "#f0f921"
             ]
            ],
            "type": "histogram2d"
           }
          ],
          "histogram2dcontour": [
           {
            "colorbar": {
             "outlinewidth": 0,
             "ticks": ""
            },
            "colorscale": [
             [
              0,
              "#0d0887"
             ],
             [
              0.1111111111111111,
              "#46039f"
             ],
             [
              0.2222222222222222,
              "#7201a8"
             ],
             [
              0.3333333333333333,
              "#9c179e"
             ],
             [
              0.4444444444444444,
              "#bd3786"
             ],
             [
              0.5555555555555556,
              "#d8576b"
             ],
             [
              0.6666666666666666,
              "#ed7953"
             ],
             [
              0.7777777777777778,
              "#fb9f3a"
             ],
             [
              0.8888888888888888,
              "#fdca26"
             ],
             [
              1,
              "#f0f921"
             ]
            ],
            "type": "histogram2dcontour"
           }
          ],
          "mesh3d": [
           {
            "colorbar": {
             "outlinewidth": 0,
             "ticks": ""
            },
            "type": "mesh3d"
           }
          ],
          "parcoords": [
           {
            "line": {
             "colorbar": {
              "outlinewidth": 0,
              "ticks": ""
             }
            },
            "type": "parcoords"
           }
          ],
          "pie": [
           {
            "automargin": true,
            "type": "pie"
           }
          ],
          "scatter": [
           {
            "marker": {
             "colorbar": {
              "outlinewidth": 0,
              "ticks": ""
             }
            },
            "type": "scatter"
           }
          ],
          "scatter3d": [
           {
            "line": {
             "colorbar": {
              "outlinewidth": 0,
              "ticks": ""
             }
            },
            "marker": {
             "colorbar": {
              "outlinewidth": 0,
              "ticks": ""
             }
            },
            "type": "scatter3d"
           }
          ],
          "scattercarpet": [
           {
            "marker": {
             "colorbar": {
              "outlinewidth": 0,
              "ticks": ""
             }
            },
            "type": "scattercarpet"
           }
          ],
          "scattergeo": [
           {
            "marker": {
             "colorbar": {
              "outlinewidth": 0,
              "ticks": ""
             }
            },
            "type": "scattergeo"
           }
          ],
          "scattergl": [
           {
            "marker": {
             "colorbar": {
              "outlinewidth": 0,
              "ticks": ""
             }
            },
            "type": "scattergl"
           }
          ],
          "scattermapbox": [
           {
            "marker": {
             "colorbar": {
              "outlinewidth": 0,
              "ticks": ""
             }
            },
            "type": "scattermapbox"
           }
          ],
          "scatterpolar": [
           {
            "marker": {
             "colorbar": {
              "outlinewidth": 0,
              "ticks": ""
             }
            },
            "type": "scatterpolar"
           }
          ],
          "scatterpolargl": [
           {
            "marker": {
             "colorbar": {
              "outlinewidth": 0,
              "ticks": ""
             }
            },
            "type": "scatterpolargl"
           }
          ],
          "scatterternary": [
           {
            "marker": {
             "colorbar": {
              "outlinewidth": 0,
              "ticks": ""
             }
            },
            "type": "scatterternary"
           }
          ],
          "surface": [
           {
            "colorbar": {
             "outlinewidth": 0,
             "ticks": ""
            },
            "colorscale": [
             [
              0,
              "#0d0887"
             ],
             [
              0.1111111111111111,
              "#46039f"
             ],
             [
              0.2222222222222222,
              "#7201a8"
             ],
             [
              0.3333333333333333,
              "#9c179e"
             ],
             [
              0.4444444444444444,
              "#bd3786"
             ],
             [
              0.5555555555555556,
              "#d8576b"
             ],
             [
              0.6666666666666666,
              "#ed7953"
             ],
             [
              0.7777777777777778,
              "#fb9f3a"
             ],
             [
              0.8888888888888888,
              "#fdca26"
             ],
             [
              1,
              "#f0f921"
             ]
            ],
            "type": "surface"
           }
          ],
          "table": [
           {
            "cells": {
             "fill": {
              "color": "#EBF0F8"
             },
             "line": {
              "color": "white"
             }
            },
            "header": {
             "fill": {
              "color": "#C8D4E3"
             },
             "line": {
              "color": "white"
             }
            },
            "type": "table"
           }
          ]
         },
         "layout": {
          "annotationdefaults": {
           "arrowcolor": "#2a3f5f",
           "arrowhead": 0,
           "arrowwidth": 1
          },
          "coloraxis": {
           "colorbar": {
            "outlinewidth": 0,
            "ticks": ""
           }
          },
          "colorscale": {
           "diverging": [
            [
             0,
             "#8e0152"
            ],
            [
             0.1,
             "#c51b7d"
            ],
            [
             0.2,
             "#de77ae"
            ],
            [
             0.3,
             "#f1b6da"
            ],
            [
             0.4,
             "#fde0ef"
            ],
            [
             0.5,
             "#f7f7f7"
            ],
            [
             0.6,
             "#e6f5d0"
            ],
            [
             0.7,
             "#b8e186"
            ],
            [
             0.8,
             "#7fbc41"
            ],
            [
             0.9,
             "#4d9221"
            ],
            [
             1,
             "#276419"
            ]
           ],
           "sequential": [
            [
             0,
             "#0d0887"
            ],
            [
             0.1111111111111111,
             "#46039f"
            ],
            [
             0.2222222222222222,
             "#7201a8"
            ],
            [
             0.3333333333333333,
             "#9c179e"
            ],
            [
             0.4444444444444444,
             "#bd3786"
            ],
            [
             0.5555555555555556,
             "#d8576b"
            ],
            [
             0.6666666666666666,
             "#ed7953"
            ],
            [
             0.7777777777777778,
             "#fb9f3a"
            ],
            [
             0.8888888888888888,
             "#fdca26"
            ],
            [
             1,
             "#f0f921"
            ]
           ],
           "sequentialminus": [
            [
             0,
             "#0d0887"
            ],
            [
             0.1111111111111111,
             "#46039f"
            ],
            [
             0.2222222222222222,
             "#7201a8"
            ],
            [
             0.3333333333333333,
             "#9c179e"
            ],
            [
             0.4444444444444444,
             "#bd3786"
            ],
            [
             0.5555555555555556,
             "#d8576b"
            ],
            [
             0.6666666666666666,
             "#ed7953"
            ],
            [
             0.7777777777777778,
             "#fb9f3a"
            ],
            [
             0.8888888888888888,
             "#fdca26"
            ],
            [
             1,
             "#f0f921"
            ]
           ]
          },
          "colorway": [
           "#636efa",
           "#EF553B",
           "#00cc96",
           "#ab63fa",
           "#FFA15A",
           "#19d3f3",
           "#FF6692",
           "#B6E880",
           "#FF97FF",
           "#FECB52"
          ],
          "font": {
           "color": "#2a3f5f"
          },
          "geo": {
           "bgcolor": "white",
           "lakecolor": "white",
           "landcolor": "#E5ECF6",
           "showlakes": true,
           "showland": true,
           "subunitcolor": "white"
          },
          "hoverlabel": {
           "align": "left"
          },
          "hovermode": "closest",
          "mapbox": {
           "style": "light"
          },
          "paper_bgcolor": "white",
          "plot_bgcolor": "#E5ECF6",
          "polar": {
           "angularaxis": {
            "gridcolor": "white",
            "linecolor": "white",
            "ticks": ""
           },
           "bgcolor": "#E5ECF6",
           "radialaxis": {
            "gridcolor": "white",
            "linecolor": "white",
            "ticks": ""
           }
          },
          "scene": {
           "xaxis": {
            "backgroundcolor": "#E5ECF6",
            "gridcolor": "white",
            "gridwidth": 2,
            "linecolor": "white",
            "showbackground": true,
            "ticks": "",
            "zerolinecolor": "white"
           },
           "yaxis": {
            "backgroundcolor": "#E5ECF6",
            "gridcolor": "white",
            "gridwidth": 2,
            "linecolor": "white",
            "showbackground": true,
            "ticks": "",
            "zerolinecolor": "white"
           },
           "zaxis": {
            "backgroundcolor": "#E5ECF6",
            "gridcolor": "white",
            "gridwidth": 2,
            "linecolor": "white",
            "showbackground": true,
            "ticks": "",
            "zerolinecolor": "white"
           }
          },
          "shapedefaults": {
           "line": {
            "color": "#2a3f5f"
           }
          },
          "ternary": {
           "aaxis": {
            "gridcolor": "white",
            "linecolor": "white",
            "ticks": ""
           },
           "baxis": {
            "gridcolor": "white",
            "linecolor": "white",
            "ticks": ""
           },
           "bgcolor": "#E5ECF6",
           "caxis": {
            "gridcolor": "white",
            "linecolor": "white",
            "ticks": ""
           }
          },
          "title": {
           "x": 0.05
          },
          "xaxis": {
           "automargin": true,
           "gridcolor": "white",
           "linecolor": "white",
           "ticks": "",
           "title": {
            "standoff": 15
           },
           "zerolinecolor": "white",
           "zerolinewidth": 2
          },
          "yaxis": {
           "automargin": true,
           "gridcolor": "white",
           "linecolor": "white",
           "ticks": "",
           "title": {
            "standoff": 15
           },
           "zerolinecolor": "white",
           "zerolinewidth": 2
          }
         }
        },
        "title": {
         "text": "Search term evolution for the Netherlands"
        },
        "updatemenus": [
         {
          "buttons": [
           {
            "args": [
             null,
             {
              "frame": {
               "duration": 500,
               "redraw": true
              },
              "fromcurrent": true,
              "mode": "immediate",
              "transition": {
               "duration": 500,
               "easing": "linear"
              }
             }
            ],
            "label": "&#9654;",
            "method": "animate"
           },
           {
            "args": [
             [
              null
             ],
             {
              "frame": {
               "duration": 0,
               "redraw": true
              },
              "fromcurrent": true,
              "mode": "immediate",
              "transition": {
               "duration": 0,
               "easing": "linear"
              }
             }
            ],
            "label": "&#9724;",
            "method": "animate"
           }
          ],
          "direction": "left",
          "pad": {
           "r": 10,
           "t": 70
          },
          "showactive": false,
          "type": "buttons",
          "x": 0.1,
          "xanchor": "right",
          "y": 0,
          "yanchor": "top"
         }
        ],
        "width": 700
       }
      },
      "text/html": [
       "<div>\n",
       "        \n",
       "        \n",
       "            <div id=\"9fed64e5-c90c-4b9d-9c36-5103c7b16f15\" class=\"plotly-graph-div\" style=\"height:700px; width:700px;\"></div>\n",
       "            <script type=\"text/javascript\">\n",
       "                require([\"plotly\"], function(Plotly) {\n",
       "                    window.PLOTLYENV=window.PLOTLYENV || {};\n",
       "                    \n",
       "                if (document.getElementById(\"9fed64e5-c90c-4b9d-9c36-5103c7b16f15\")) {\n",
       "                    Plotly.newPlot(\n",
       "                        '9fed64e5-c90c-4b9d-9c36-5103c7b16f15',\n",
       "                        [{\"hovertemplate\": \"country=nl<br>date_str=2019-03-11<br>score_difference=%{r}<br>term=%{theta}<extra></extra>\", \"legendgroup\": \"nl\", \"line\": {\"color\": \"#636efa\", \"dash\": \"solid\", \"shape\": \"spline\"}, \"mode\": \"lines\", \"name\": \"nl\", \"r\": [-1.0, -3.0, 7.0, 3.0, 4.0, -2.0, 2.0, 0.0, 6.0, 1.0, 3.0, 12.0, -2.0, 2.0, -1.0, -1.0], \"showlegend\": true, \"subplot\": \"polar\", \"theta\": [\"baking\", \"bananabread\", \"beans\", \"coffee\", \"cooking\", \"grocerydelivery\", \"handsanitizer\", \"mouthmask\", \"pasta\", \"restaurant\", \"rice\", \"spices\", \"takeaway\", \"to-go\", \"toiletpaper\", \"baking\"], \"type\": \"scatterpolar\"}],\n",
       "                        {\"height\": 700, \"legend\": {\"title\": {\"text\": \"country\"}, \"tracegroupgap\": 0}, \"polar\": {\"angularaxis\": {\"direction\": \"clockwise\", \"rotation\": 90}, \"domain\": {\"x\": [0.0, 1.0], \"y\": [0.0, 1.0]}, \"radialaxis\": {\"range\": [-50.0, 100.0]}}, \"sliders\": [{\"active\": 0, \"currentvalue\": {\"prefix\": \"date_str=\"}, \"len\": 0.9, \"pad\": {\"b\": 10, \"t\": 60}, \"steps\": [{\"args\": [[\"2019-03-11\"], {\"frame\": {\"duration\": 0, \"redraw\": true}, \"fromcurrent\": true, \"mode\": \"immediate\", \"transition\": {\"duration\": 0, \"easing\": \"linear\"}}], \"label\": \"2019-03-11\", \"method\": \"animate\"}, {\"args\": [[\"2019-10-11\"], {\"frame\": {\"duration\": 0, \"redraw\": true}, \"fromcurrent\": true, \"mode\": \"immediate\", \"transition\": {\"duration\": 0, \"easing\": \"linear\"}}], \"label\": \"2019-10-11\", \"method\": \"animate\"}, {\"args\": [[\"2019-11-17\"], {\"frame\": {\"duration\": 0, \"redraw\": true}, \"fromcurrent\": true, \"mode\": \"immediate\", \"transition\": {\"duration\": 0, \"easing\": \"linear\"}}], \"label\": \"2019-11-17\", \"method\": \"animate\"}, {\"args\": [[\"2019-11-24\"], {\"frame\": {\"duration\": 0, \"redraw\": true}, \"fromcurrent\": true, \"mode\": \"immediate\", \"transition\": {\"duration\": 0, \"easing\": \"linear\"}}], \"label\": \"2019-11-24\", \"method\": \"animate\"}, {\"args\": [[\"2019-01-12\"], {\"frame\": {\"duration\": 0, \"redraw\": true}, \"fromcurrent\": true, \"mode\": \"immediate\", \"transition\": {\"duration\": 0, \"easing\": \"linear\"}}], \"label\": \"2019-01-12\", \"method\": \"animate\"}, {\"args\": [[\"2019-08-12\"], {\"frame\": {\"duration\": 0, \"redraw\": true}, \"fromcurrent\": true, \"mode\": \"immediate\", \"transition\": {\"duration\": 0, \"easing\": \"linear\"}}], \"label\": \"2019-08-12\", \"method\": \"animate\"}, {\"args\": [[\"2019-12-15\"], {\"frame\": {\"duration\": 0, \"redraw\": true}, \"fromcurrent\": true, \"mode\": \"immediate\", \"transition\": {\"duration\": 0, \"easing\": \"linear\"}}], \"label\": \"2019-12-15\", \"method\": \"animate\"}, {\"args\": [[\"2019-12-22\"], {\"frame\": {\"duration\": 0, \"redraw\": true}, \"fromcurrent\": true, \"mode\": \"immediate\", \"transition\": {\"duration\": 0, \"easing\": \"linear\"}}], \"label\": \"2019-12-22\", \"method\": \"animate\"}, {\"args\": [[\"2019-12-29\"], {\"frame\": {\"duration\": 0, \"redraw\": true}, \"fromcurrent\": true, \"mode\": \"immediate\", \"transition\": {\"duration\": 0, \"easing\": \"linear\"}}], \"label\": \"2019-12-29\", \"method\": \"animate\"}, {\"args\": [[\"2020-05-01\"], {\"frame\": {\"duration\": 0, \"redraw\": true}, \"fromcurrent\": true, \"mode\": \"immediate\", \"transition\": {\"duration\": 0, \"easing\": \"linear\"}}], \"label\": \"2020-05-01\", \"method\": \"animate\"}, {\"args\": [[\"2020-12-01\"], {\"frame\": {\"duration\": 0, \"redraw\": true}, \"fromcurrent\": true, \"mode\": \"immediate\", \"transition\": {\"duration\": 0, \"easing\": \"linear\"}}], \"label\": \"2020-12-01\", \"method\": \"animate\"}, {\"args\": [[\"2020-01-19\"], {\"frame\": {\"duration\": 0, \"redraw\": true}, \"fromcurrent\": true, \"mode\": \"immediate\", \"transition\": {\"duration\": 0, \"easing\": \"linear\"}}], \"label\": \"2020-01-19\", \"method\": \"animate\"}, {\"args\": [[\"2020-01-26\"], {\"frame\": {\"duration\": 0, \"redraw\": true}, \"fromcurrent\": true, \"mode\": \"immediate\", \"transition\": {\"duration\": 0, \"easing\": \"linear\"}}], \"label\": \"2020-01-26\", \"method\": \"animate\"}, {\"args\": [[\"2020-02-02\"], {\"frame\": {\"duration\": 0, \"redraw\": true}, \"fromcurrent\": true, \"mode\": \"immediate\", \"transition\": {\"duration\": 0, \"easing\": \"linear\"}}], \"label\": \"2020-02-02\", \"method\": \"animate\"}, {\"args\": [[\"2020-09-02\"], {\"frame\": {\"duration\": 0, \"redraw\": true}, \"fromcurrent\": true, \"mode\": \"immediate\", \"transition\": {\"duration\": 0, \"easing\": \"linear\"}}], \"label\": \"2020-09-02\", \"method\": \"animate\"}, {\"args\": [[\"2020-02-16\"], {\"frame\": {\"duration\": 0, \"redraw\": true}, \"fromcurrent\": true, \"mode\": \"immediate\", \"transition\": {\"duration\": 0, \"easing\": \"linear\"}}], \"label\": \"2020-02-16\", \"method\": \"animate\"}, {\"args\": [[\"2020-02-23\"], {\"frame\": {\"duration\": 0, \"redraw\": true}, \"fromcurrent\": true, \"mode\": \"immediate\", \"transition\": {\"duration\": 0, \"easing\": \"linear\"}}], \"label\": \"2020-02-23\", \"method\": \"animate\"}, {\"args\": [[\"2020-01-03\"], {\"frame\": {\"duration\": 0, \"redraw\": true}, \"fromcurrent\": true, \"mode\": \"immediate\", \"transition\": {\"duration\": 0, \"easing\": \"linear\"}}], \"label\": \"2020-01-03\", \"method\": \"animate\"}, {\"args\": [[\"2020-08-03\"], {\"frame\": {\"duration\": 0, \"redraw\": true}, \"fromcurrent\": true, \"mode\": \"immediate\", \"transition\": {\"duration\": 0, \"easing\": \"linear\"}}], \"label\": \"2020-08-03\", \"method\": \"animate\"}, {\"args\": [[\"2020-03-15\"], {\"frame\": {\"duration\": 0, \"redraw\": true}, \"fromcurrent\": true, \"mode\": \"immediate\", \"transition\": {\"duration\": 0, \"easing\": \"linear\"}}], \"label\": \"2020-03-15\", \"method\": \"animate\"}, {\"args\": [[\"2020-03-22\"], {\"frame\": {\"duration\": 0, \"redraw\": true}, \"fromcurrent\": true, \"mode\": \"immediate\", \"transition\": {\"duration\": 0, \"easing\": \"linear\"}}], \"label\": \"2020-03-22\", \"method\": \"animate\"}, {\"args\": [[\"2020-03-29\"], {\"frame\": {\"duration\": 0, \"redraw\": true}, \"fromcurrent\": true, \"mode\": \"immediate\", \"transition\": {\"duration\": 0, \"easing\": \"linear\"}}], \"label\": \"2020-03-29\", \"method\": \"animate\"}, {\"args\": [[\"2020-05-04\"], {\"frame\": {\"duration\": 0, \"redraw\": true}, \"fromcurrent\": true, \"mode\": \"immediate\", \"transition\": {\"duration\": 0, \"easing\": \"linear\"}}], \"label\": \"2020-05-04\", \"method\": \"animate\"}, {\"args\": [[\"2020-12-04\"], {\"frame\": {\"duration\": 0, \"redraw\": true}, \"fromcurrent\": true, \"mode\": \"immediate\", \"transition\": {\"duration\": 0, \"easing\": \"linear\"}}], \"label\": \"2020-12-04\", \"method\": \"animate\"}, {\"args\": [[\"2020-04-19\"], {\"frame\": {\"duration\": 0, \"redraw\": true}, \"fromcurrent\": true, \"mode\": \"immediate\", \"transition\": {\"duration\": 0, \"easing\": \"linear\"}}], \"label\": \"2020-04-19\", \"method\": \"animate\"}, {\"args\": [[\"2020-04-26\"], {\"frame\": {\"duration\": 0, \"redraw\": true}, \"fromcurrent\": true, \"mode\": \"immediate\", \"transition\": {\"duration\": 0, \"easing\": \"linear\"}}], \"label\": \"2020-04-26\", \"method\": \"animate\"}, {\"args\": [[\"2020-03-05\"], {\"frame\": {\"duration\": 0, \"redraw\": true}, \"fromcurrent\": true, \"mode\": \"immediate\", \"transition\": {\"duration\": 0, \"easing\": \"linear\"}}], \"label\": \"2020-03-05\", \"method\": \"animate\"}, {\"args\": [[\"2020-10-05\"], {\"frame\": {\"duration\": 0, \"redraw\": true}, \"fromcurrent\": true, \"mode\": \"immediate\", \"transition\": {\"duration\": 0, \"easing\": \"linear\"}}], \"label\": \"2020-10-05\", \"method\": \"animate\"}, {\"args\": [[\"2020-05-17\"], {\"frame\": {\"duration\": 0, \"redraw\": true}, \"fromcurrent\": true, \"mode\": \"immediate\", \"transition\": {\"duration\": 0, \"easing\": \"linear\"}}], \"label\": \"2020-05-17\", \"method\": \"animate\"}, {\"args\": [[\"2020-05-24\"], {\"frame\": {\"duration\": 0, \"redraw\": true}, \"fromcurrent\": true, \"mode\": \"immediate\", \"transition\": {\"duration\": 0, \"easing\": \"linear\"}}], \"label\": \"2020-05-24\", \"method\": \"animate\"}, {\"args\": [[\"2020-05-31\"], {\"frame\": {\"duration\": 0, \"redraw\": true}, \"fromcurrent\": true, \"mode\": \"immediate\", \"transition\": {\"duration\": 0, \"easing\": \"linear\"}}], \"label\": \"2020-05-31\", \"method\": \"animate\"}, {\"args\": [[\"2020-07-06\"], {\"frame\": {\"duration\": 0, \"redraw\": true}, \"fromcurrent\": true, \"mode\": \"immediate\", \"transition\": {\"duration\": 0, \"easing\": \"linear\"}}], \"label\": \"2020-07-06\", \"method\": \"animate\"}, {\"args\": [[\"2020-06-14\"], {\"frame\": {\"duration\": 0, \"redraw\": true}, \"fromcurrent\": true, \"mode\": \"immediate\", \"transition\": {\"duration\": 0, \"easing\": \"linear\"}}], \"label\": \"2020-06-14\", \"method\": \"animate\"}, {\"args\": [[\"2020-06-21\"], {\"frame\": {\"duration\": 0, \"redraw\": true}, \"fromcurrent\": true, \"mode\": \"immediate\", \"transition\": {\"duration\": 0, \"easing\": \"linear\"}}], \"label\": \"2020-06-21\", \"method\": \"animate\"}, {\"args\": [[\"2020-06-28\"], {\"frame\": {\"duration\": 0, \"redraw\": true}, \"fromcurrent\": true, \"mode\": \"immediate\", \"transition\": {\"duration\": 0, \"easing\": \"linear\"}}], \"label\": \"2020-06-28\", \"method\": \"animate\"}, {\"args\": [[\"2020-05-07\"], {\"frame\": {\"duration\": 0, \"redraw\": true}, \"fromcurrent\": true, \"mode\": \"immediate\", \"transition\": {\"duration\": 0, \"easing\": \"linear\"}}], \"label\": \"2020-05-07\", \"method\": \"animate\"}, {\"args\": [[\"2020-12-07\"], {\"frame\": {\"duration\": 0, \"redraw\": true}, \"fromcurrent\": true, \"mode\": \"immediate\", \"transition\": {\"duration\": 0, \"easing\": \"linear\"}}], \"label\": \"2020-12-07\", \"method\": \"animate\"}, {\"args\": [[\"2020-07-19\"], {\"frame\": {\"duration\": 0, \"redraw\": true}, \"fromcurrent\": true, \"mode\": \"immediate\", \"transition\": {\"duration\": 0, \"easing\": \"linear\"}}], \"label\": \"2020-07-19\", \"method\": \"animate\"}, {\"args\": [[\"2020-07-26\"], {\"frame\": {\"duration\": 0, \"redraw\": true}, \"fromcurrent\": true, \"mode\": \"immediate\", \"transition\": {\"duration\": 0, \"easing\": \"linear\"}}], \"label\": \"2020-07-26\", \"method\": \"animate\"}, {\"args\": [[\"2020-02-08\"], {\"frame\": {\"duration\": 0, \"redraw\": true}, \"fromcurrent\": true, \"mode\": \"immediate\", \"transition\": {\"duration\": 0, \"easing\": \"linear\"}}], \"label\": \"2020-02-08\", \"method\": \"animate\"}, {\"args\": [[\"2020-09-08\"], {\"frame\": {\"duration\": 0, \"redraw\": true}, \"fromcurrent\": true, \"mode\": \"immediate\", \"transition\": {\"duration\": 0, \"easing\": \"linear\"}}], \"label\": \"2020-09-08\", \"method\": \"animate\"}, {\"args\": [[\"2020-08-16\"], {\"frame\": {\"duration\": 0, \"redraw\": true}, \"fromcurrent\": true, \"mode\": \"immediate\", \"transition\": {\"duration\": 0, \"easing\": \"linear\"}}], \"label\": \"2020-08-16\", \"method\": \"animate\"}, {\"args\": [[\"2020-08-23\"], {\"frame\": {\"duration\": 0, \"redraw\": true}, \"fromcurrent\": true, \"mode\": \"immediate\", \"transition\": {\"duration\": 0, \"easing\": \"linear\"}}], \"label\": \"2020-08-23\", \"method\": \"animate\"}, {\"args\": [[\"2020-08-30\"], {\"frame\": {\"duration\": 0, \"redraw\": true}, \"fromcurrent\": true, \"mode\": \"immediate\", \"transition\": {\"duration\": 0, \"easing\": \"linear\"}}], \"label\": \"2020-08-30\", \"method\": \"animate\"}, {\"args\": [[\"2020-06-09\"], {\"frame\": {\"duration\": 0, \"redraw\": true}, \"fromcurrent\": true, \"mode\": \"immediate\", \"transition\": {\"duration\": 0, \"easing\": \"linear\"}}], \"label\": \"2020-06-09\", \"method\": \"animate\"}, {\"args\": [[\"2020-09-13\"], {\"frame\": {\"duration\": 0, \"redraw\": true}, \"fromcurrent\": true, \"mode\": \"immediate\", \"transition\": {\"duration\": 0, \"easing\": \"linear\"}}], \"label\": \"2020-09-13\", \"method\": \"animate\"}, {\"args\": [[\"2020-09-20\"], {\"frame\": {\"duration\": 0, \"redraw\": true}, \"fromcurrent\": true, \"mode\": \"immediate\", \"transition\": {\"duration\": 0, \"easing\": \"linear\"}}], \"label\": \"2020-09-20\", \"method\": \"animate\"}, {\"args\": [[\"2020-09-27\"], {\"frame\": {\"duration\": 0, \"redraw\": true}, \"fromcurrent\": true, \"mode\": \"immediate\", \"transition\": {\"duration\": 0, \"easing\": \"linear\"}}], \"label\": \"2020-09-27\", \"method\": \"animate\"}, {\"args\": [[\"2020-04-10\"], {\"frame\": {\"duration\": 0, \"redraw\": true}, \"fromcurrent\": true, \"mode\": \"immediate\", \"transition\": {\"duration\": 0, \"easing\": \"linear\"}}], \"label\": \"2020-04-10\", \"method\": \"animate\"}, {\"args\": [[\"2020-11-10\"], {\"frame\": {\"duration\": 0, \"redraw\": true}, \"fromcurrent\": true, \"mode\": \"immediate\", \"transition\": {\"duration\": 0, \"easing\": \"linear\"}}], \"label\": \"2020-11-10\", \"method\": \"animate\"}, {\"args\": [[\"2020-10-18\"], {\"frame\": {\"duration\": 0, \"redraw\": true}, \"fromcurrent\": true, \"mode\": \"immediate\", \"transition\": {\"duration\": 0, \"easing\": \"linear\"}}], \"label\": \"2020-10-18\", \"method\": \"animate\"}, {\"args\": [[\"2020-10-25\"], {\"frame\": {\"duration\": 0, \"redraw\": true}, \"fromcurrent\": true, \"mode\": \"immediate\", \"transition\": {\"duration\": 0, \"easing\": \"linear\"}}], \"label\": \"2020-10-25\", \"method\": \"animate\"}, {\"args\": [[\"2020-01-11\"], {\"frame\": {\"duration\": 0, \"redraw\": true}, \"fromcurrent\": true, \"mode\": \"immediate\", \"transition\": {\"duration\": 0, \"easing\": \"linear\"}}], \"label\": \"2020-01-11\", \"method\": \"animate\"}], \"x\": 0.1, \"xanchor\": \"left\", \"y\": 0, \"yanchor\": \"top\"}], \"template\": {\"data\": {\"bar\": [{\"error_x\": {\"color\": \"#2a3f5f\"}, \"error_y\": {\"color\": \"#2a3f5f\"}, \"marker\": {\"line\": {\"color\": \"#E5ECF6\", \"width\": 0.5}}, \"type\": \"bar\"}], \"barpolar\": [{\"marker\": {\"line\": {\"color\": \"#E5ECF6\", \"width\": 0.5}}, \"type\": \"barpolar\"}], \"carpet\": [{\"aaxis\": {\"endlinecolor\": \"#2a3f5f\", \"gridcolor\": \"white\", \"linecolor\": \"white\", \"minorgridcolor\": \"white\", \"startlinecolor\": \"#2a3f5f\"}, \"baxis\": {\"endlinecolor\": \"#2a3f5f\", \"gridcolor\": \"white\", \"linecolor\": \"white\", \"minorgridcolor\": \"white\", \"startlinecolor\": \"#2a3f5f\"}, \"type\": \"carpet\"}], \"choropleth\": [{\"colorbar\": {\"outlinewidth\": 0, \"ticks\": \"\"}, \"type\": \"choropleth\"}], \"contour\": [{\"colorbar\": {\"outlinewidth\": 0, \"ticks\": \"\"}, \"colorscale\": [[0.0, \"#0d0887\"], [0.1111111111111111, \"#46039f\"], [0.2222222222222222, \"#7201a8\"], [0.3333333333333333, \"#9c179e\"], [0.4444444444444444, \"#bd3786\"], [0.5555555555555556, \"#d8576b\"], [0.6666666666666666, \"#ed7953\"], [0.7777777777777778, \"#fb9f3a\"], [0.8888888888888888, \"#fdca26\"], [1.0, \"#f0f921\"]], \"type\": \"contour\"}], \"contourcarpet\": [{\"colorbar\": {\"outlinewidth\": 0, \"ticks\": \"\"}, \"type\": \"contourcarpet\"}], \"heatmap\": [{\"colorbar\": {\"outlinewidth\": 0, \"ticks\": \"\"}, \"colorscale\": [[0.0, \"#0d0887\"], [0.1111111111111111, \"#46039f\"], [0.2222222222222222, \"#7201a8\"], [0.3333333333333333, \"#9c179e\"], [0.4444444444444444, \"#bd3786\"], [0.5555555555555556, \"#d8576b\"], [0.6666666666666666, \"#ed7953\"], [0.7777777777777778, \"#fb9f3a\"], [0.8888888888888888, \"#fdca26\"], [1.0, \"#f0f921\"]], \"type\": \"heatmap\"}], \"heatmapgl\": [{\"colorbar\": {\"outlinewidth\": 0, \"ticks\": \"\"}, \"colorscale\": [[0.0, \"#0d0887\"], [0.1111111111111111, \"#46039f\"], [0.2222222222222222, \"#7201a8\"], [0.3333333333333333, \"#9c179e\"], [0.4444444444444444, \"#bd3786\"], [0.5555555555555556, \"#d8576b\"], [0.6666666666666666, \"#ed7953\"], [0.7777777777777778, \"#fb9f3a\"], [0.8888888888888888, \"#fdca26\"], [1.0, \"#f0f921\"]], \"type\": \"heatmapgl\"}], \"histogram\": [{\"marker\": {\"colorbar\": {\"outlinewidth\": 0, \"ticks\": \"\"}}, \"type\": \"histogram\"}], \"histogram2d\": [{\"colorbar\": {\"outlinewidth\": 0, \"ticks\": \"\"}, \"colorscale\": [[0.0, \"#0d0887\"], [0.1111111111111111, \"#46039f\"], [0.2222222222222222, \"#7201a8\"], [0.3333333333333333, \"#9c179e\"], [0.4444444444444444, \"#bd3786\"], [0.5555555555555556, \"#d8576b\"], [0.6666666666666666, \"#ed7953\"], [0.7777777777777778, \"#fb9f3a\"], [0.8888888888888888, \"#fdca26\"], [1.0, \"#f0f921\"]], \"type\": \"histogram2d\"}], \"histogram2dcontour\": [{\"colorbar\": {\"outlinewidth\": 0, \"ticks\": \"\"}, \"colorscale\": [[0.0, \"#0d0887\"], [0.1111111111111111, \"#46039f\"], [0.2222222222222222, \"#7201a8\"], [0.3333333333333333, \"#9c179e\"], [0.4444444444444444, \"#bd3786\"], [0.5555555555555556, \"#d8576b\"], [0.6666666666666666, \"#ed7953\"], [0.7777777777777778, \"#fb9f3a\"], [0.8888888888888888, \"#fdca26\"], [1.0, \"#f0f921\"]], \"type\": \"histogram2dcontour\"}], \"mesh3d\": [{\"colorbar\": {\"outlinewidth\": 0, \"ticks\": \"\"}, \"type\": \"mesh3d\"}], \"parcoords\": [{\"line\": {\"colorbar\": {\"outlinewidth\": 0, \"ticks\": \"\"}}, \"type\": \"parcoords\"}], \"pie\": [{\"automargin\": true, \"type\": \"pie\"}], \"scatter\": [{\"marker\": {\"colorbar\": {\"outlinewidth\": 0, \"ticks\": \"\"}}, \"type\": \"scatter\"}], \"scatter3d\": [{\"line\": {\"colorbar\": {\"outlinewidth\": 0, \"ticks\": \"\"}}, \"marker\": {\"colorbar\": {\"outlinewidth\": 0, \"ticks\": \"\"}}, \"type\": \"scatter3d\"}], \"scattercarpet\": [{\"marker\": {\"colorbar\": {\"outlinewidth\": 0, \"ticks\": \"\"}}, \"type\": \"scattercarpet\"}], \"scattergeo\": [{\"marker\": {\"colorbar\": {\"outlinewidth\": 0, \"ticks\": \"\"}}, \"type\": \"scattergeo\"}], \"scattergl\": [{\"marker\": {\"colorbar\": {\"outlinewidth\": 0, \"ticks\": \"\"}}, \"type\": \"scattergl\"}], \"scattermapbox\": [{\"marker\": {\"colorbar\": {\"outlinewidth\": 0, \"ticks\": \"\"}}, \"type\": \"scattermapbox\"}], \"scatterpolar\": [{\"marker\": {\"colorbar\": {\"outlinewidth\": 0, \"ticks\": \"\"}}, \"type\": \"scatterpolar\"}], \"scatterpolargl\": [{\"marker\": {\"colorbar\": {\"outlinewidth\": 0, \"ticks\": \"\"}}, \"type\": \"scatterpolargl\"}], \"scatterternary\": [{\"marker\": {\"colorbar\": {\"outlinewidth\": 0, \"ticks\": \"\"}}, \"type\": \"scatterternary\"}], \"surface\": [{\"colorbar\": {\"outlinewidth\": 0, \"ticks\": \"\"}, \"colorscale\": [[0.0, \"#0d0887\"], [0.1111111111111111, \"#46039f\"], [0.2222222222222222, \"#7201a8\"], [0.3333333333333333, \"#9c179e\"], [0.4444444444444444, \"#bd3786\"], [0.5555555555555556, \"#d8576b\"], [0.6666666666666666, \"#ed7953\"], [0.7777777777777778, \"#fb9f3a\"], [0.8888888888888888, \"#fdca26\"], [1.0, \"#f0f921\"]], \"type\": \"surface\"}], \"table\": [{\"cells\": {\"fill\": {\"color\": \"#EBF0F8\"}, \"line\": {\"color\": \"white\"}}, \"header\": {\"fill\": {\"color\": \"#C8D4E3\"}, \"line\": {\"color\": \"white\"}}, \"type\": \"table\"}]}, \"layout\": {\"annotationdefaults\": {\"arrowcolor\": \"#2a3f5f\", \"arrowhead\": 0, \"arrowwidth\": 1}, \"coloraxis\": {\"colorbar\": {\"outlinewidth\": 0, \"ticks\": \"\"}}, \"colorscale\": {\"diverging\": [[0, \"#8e0152\"], [0.1, \"#c51b7d\"], [0.2, \"#de77ae\"], [0.3, \"#f1b6da\"], [0.4, \"#fde0ef\"], [0.5, \"#f7f7f7\"], [0.6, \"#e6f5d0\"], [0.7, \"#b8e186\"], [0.8, \"#7fbc41\"], [0.9, \"#4d9221\"], [1, \"#276419\"]], \"sequential\": [[0.0, \"#0d0887\"], [0.1111111111111111, \"#46039f\"], [0.2222222222222222, \"#7201a8\"], [0.3333333333333333, \"#9c179e\"], [0.4444444444444444, \"#bd3786\"], [0.5555555555555556, \"#d8576b\"], [0.6666666666666666, \"#ed7953\"], [0.7777777777777778, \"#fb9f3a\"], [0.8888888888888888, \"#fdca26\"], [1.0, \"#f0f921\"]], \"sequentialminus\": [[0.0, \"#0d0887\"], [0.1111111111111111, \"#46039f\"], [0.2222222222222222, \"#7201a8\"], [0.3333333333333333, \"#9c179e\"], [0.4444444444444444, \"#bd3786\"], [0.5555555555555556, \"#d8576b\"], [0.6666666666666666, \"#ed7953\"], [0.7777777777777778, \"#fb9f3a\"], [0.8888888888888888, \"#fdca26\"], [1.0, \"#f0f921\"]]}, \"colorway\": [\"#636efa\", \"#EF553B\", \"#00cc96\", \"#ab63fa\", \"#FFA15A\", \"#19d3f3\", \"#FF6692\", \"#B6E880\", \"#FF97FF\", \"#FECB52\"], \"font\": {\"color\": \"#2a3f5f\"}, \"geo\": {\"bgcolor\": \"white\", \"lakecolor\": \"white\", \"landcolor\": \"#E5ECF6\", \"showlakes\": true, \"showland\": true, \"subunitcolor\": \"white\"}, \"hoverlabel\": {\"align\": \"left\"}, \"hovermode\": \"closest\", \"mapbox\": {\"style\": \"light\"}, \"paper_bgcolor\": \"white\", \"plot_bgcolor\": \"#E5ECF6\", \"polar\": {\"angularaxis\": {\"gridcolor\": \"white\", \"linecolor\": \"white\", \"ticks\": \"\"}, \"bgcolor\": \"#E5ECF6\", \"radialaxis\": {\"gridcolor\": \"white\", \"linecolor\": \"white\", \"ticks\": \"\"}}, \"scene\": {\"xaxis\": {\"backgroundcolor\": \"#E5ECF6\", \"gridcolor\": \"white\", \"gridwidth\": 2, \"linecolor\": \"white\", \"showbackground\": true, \"ticks\": \"\", \"zerolinecolor\": \"white\"}, \"yaxis\": {\"backgroundcolor\": \"#E5ECF6\", \"gridcolor\": \"white\", \"gridwidth\": 2, \"linecolor\": \"white\", \"showbackground\": true, \"ticks\": \"\", \"zerolinecolor\": \"white\"}, \"zaxis\": {\"backgroundcolor\": \"#E5ECF6\", \"gridcolor\": \"white\", \"gridwidth\": 2, \"linecolor\": \"white\", \"showbackground\": true, \"ticks\": \"\", \"zerolinecolor\": \"white\"}}, \"shapedefaults\": {\"line\": {\"color\": \"#2a3f5f\"}}, \"ternary\": {\"aaxis\": {\"gridcolor\": \"white\", \"linecolor\": \"white\", \"ticks\": \"\"}, \"baxis\": {\"gridcolor\": \"white\", \"linecolor\": \"white\", \"ticks\": \"\"}, \"bgcolor\": \"#E5ECF6\", \"caxis\": {\"gridcolor\": \"white\", \"linecolor\": \"white\", \"ticks\": \"\"}}, \"title\": {\"x\": 0.05}, \"xaxis\": {\"automargin\": true, \"gridcolor\": \"white\", \"linecolor\": \"white\", \"ticks\": \"\", \"title\": {\"standoff\": 15}, \"zerolinecolor\": \"white\", \"zerolinewidth\": 2}, \"yaxis\": {\"automargin\": true, \"gridcolor\": \"white\", \"linecolor\": \"white\", \"ticks\": \"\", \"title\": {\"standoff\": 15}, \"zerolinecolor\": \"white\", \"zerolinewidth\": 2}}}, \"title\": {\"text\": \"Search term evolution for the Netherlands\"}, \"updatemenus\": [{\"buttons\": [{\"args\": [null, {\"frame\": {\"duration\": 500, \"redraw\": true}, \"fromcurrent\": true, \"mode\": \"immediate\", \"transition\": {\"duration\": 500, \"easing\": \"linear\"}}], \"label\": \"&#9654;\", \"method\": \"animate\"}, {\"args\": [[null], {\"frame\": {\"duration\": 0, \"redraw\": true}, \"fromcurrent\": true, \"mode\": \"immediate\", \"transition\": {\"duration\": 0, \"easing\": \"linear\"}}], \"label\": \"&#9724;\", \"method\": \"animate\"}], \"direction\": \"left\", \"pad\": {\"r\": 10, \"t\": 70}, \"showactive\": false, \"type\": \"buttons\", \"x\": 0.1, \"xanchor\": \"right\", \"y\": 0, \"yanchor\": \"top\"}], \"width\": 700},\n",
       "                        {\"responsive\": true}\n",
       "                    ).then(function(){\n",
       "                            Plotly.addFrames('9fed64e5-c90c-4b9d-9c36-5103c7b16f15', [{\"data\": [{\"hovertemplate\": \"country=nl<br>date_str=2019-03-11<br>score_difference=%{r}<br>term=%{theta}<extra></extra>\", \"legendgroup\": \"nl\", \"line\": {\"color\": \"#636efa\", \"dash\": \"solid\", \"shape\": \"spline\"}, \"mode\": \"lines\", \"name\": \"nl\", \"r\": [-1.0, -3.0, 7.0, 3.0, 4.0, -2.0, 2.0, 0.0, 6.0, 1.0, 3.0, 12.0, -2.0, 2.0, -1.0, -1.0], \"showlegend\": true, \"subplot\": \"polar\", \"theta\": [\"baking\", \"bananabread\", \"beans\", \"coffee\", \"cooking\", \"grocerydelivery\", \"handsanitizer\", \"mouthmask\", \"pasta\", \"restaurant\", \"rice\", \"spices\", \"takeaway\", \"to-go\", \"toiletpaper\", \"baking\"], \"type\": \"scatterpolar\"}], \"name\": \"2019-03-11\"}, {\"data\": [{\"hovertemplate\": \"country=nl<br>date_str=2019-10-11<br>score_difference=%{r}<br>term=%{theta}<extra></extra>\", \"legendgroup\": \"nl\", \"line\": {\"color\": \"#636efa\", \"dash\": \"solid\", \"shape\": \"spline\"}, \"mode\": \"lines\", \"name\": \"nl\", \"r\": [-2.0, -4.0, 6.0, 3.0, 7.0, -12.0, 4.0, 0.0, -1.0, 2.0, -5.0, 2.0, 1.0, -2.0, 0.0, -2.0], \"showlegend\": true, \"subplot\": \"polar\", \"theta\": [\"baking\", \"bananabread\", \"beans\", \"coffee\", \"cooking\", \"grocerydelivery\", \"handsanitizer\", \"mouthmask\", \"pasta\", \"restaurant\", \"rice\", \"spices\", \"takeaway\", \"to-go\", \"toiletpaper\", \"baking\"], \"type\": \"scatterpolar\"}], \"name\": \"2019-10-11\"}, {\"data\": [{\"hovertemplate\": \"country=nl<br>date_str=2019-11-17<br>score_difference=%{r}<br>term=%{theta}<extra></extra>\", \"legendgroup\": \"nl\", \"line\": {\"color\": \"#636efa\", \"dash\": \"solid\", \"shape\": \"spline\"}, \"mode\": \"lines\", \"name\": \"nl\", \"r\": [3.0, 5.0, 2.0, 5.0, 5.0, 0.0, -2.0, 0.0, 10.0, 6.0, 2.0, 14.0, 9.0, -3.0, -1.0, 3.0], \"showlegend\": true, \"subplot\": \"polar\", \"theta\": [\"baking\", \"bananabread\", \"beans\", \"coffee\", \"cooking\", \"grocerydelivery\", \"handsanitizer\", \"mouthmask\", \"pasta\", \"restaurant\", \"rice\", \"spices\", \"takeaway\", \"to-go\", \"toiletpaper\", \"baking\"], \"type\": \"scatterpolar\"}], \"name\": \"2019-11-17\"}, {\"data\": [{\"hovertemplate\": \"country=nl<br>date_str=2019-11-24<br>score_difference=%{r}<br>term=%{theta}<extra></extra>\", \"legendgroup\": \"nl\", \"line\": {\"color\": \"#636efa\", \"dash\": \"solid\", \"shape\": \"spline\"}, \"mode\": \"lines\", \"name\": \"nl\", \"r\": [-8.0, 1.0, 5.0, 4.0, -1.0, 0.0, 0.0, 0.0, 2.0, 1.0, 9.0, -3.0, -2.0, -7.0, 2.0, -8.0], \"showlegend\": true, \"subplot\": \"polar\", \"theta\": [\"baking\", \"bananabread\", \"beans\", \"coffee\", \"cooking\", \"grocerydelivery\", \"handsanitizer\", \"mouthmask\", \"pasta\", \"restaurant\", \"rice\", \"spices\", \"takeaway\", \"to-go\", \"toiletpaper\", \"baking\"], \"type\": \"scatterpolar\"}], \"name\": \"2019-11-24\"}, {\"data\": [{\"hovertemplate\": \"country=nl<br>date_str=2019-01-12<br>score_difference=%{r}<br>term=%{theta}<extra></extra>\", \"legendgroup\": \"nl\", \"line\": {\"color\": \"#636efa\", \"dash\": \"solid\", \"shape\": \"spline\"}, \"mode\": \"lines\", \"name\": \"nl\", \"r\": [7.0, 2.0, -9.0, -5.0, 2.0, -2.0, 0.0, 0.0, 8.0, 2.0, 0.0, -4.0, 12.0, -5.0, -1.0, 7.0], \"showlegend\": true, \"subplot\": \"polar\", \"theta\": [\"baking\", \"bananabread\", \"beans\", \"coffee\", \"cooking\", \"grocerydelivery\", \"handsanitizer\", \"mouthmask\", \"pasta\", \"restaurant\", \"rice\", \"spices\", \"takeaway\", \"to-go\", \"toiletpaper\", \"baking\"], \"type\": \"scatterpolar\"}], \"name\": \"2019-01-12\"}, {\"data\": [{\"hovertemplate\": \"country=nl<br>date_str=2019-08-12<br>score_difference=%{r}<br>term=%{theta}<extra></extra>\", \"legendgroup\": \"nl\", \"line\": {\"color\": \"#636efa\", \"dash\": \"solid\", \"shape\": \"spline\"}, \"mode\": \"lines\", \"name\": \"nl\", \"r\": [-5.0, 2.0, 3.0, 1.0, -1.0, -6.0, 0.0, 0.0, 4.0, 1.0, -8.0, 0.0, 5.0, -9.0, 0.0, -5.0], \"showlegend\": true, \"subplot\": \"polar\", \"theta\": [\"baking\", \"bananabread\", \"beans\", \"coffee\", \"cooking\", \"grocerydelivery\", \"handsanitizer\", \"mouthmask\", \"pasta\", \"restaurant\", \"rice\", \"spices\", \"takeaway\", \"to-go\", \"toiletpaper\", \"baking\"], \"type\": \"scatterpolar\"}], \"name\": \"2019-08-12\"}, {\"data\": [{\"hovertemplate\": \"country=nl<br>date_str=2019-12-15<br>score_difference=%{r}<br>term=%{theta}<extra></extra>\", \"legendgroup\": \"nl\", \"line\": {\"color\": \"#636efa\", \"dash\": \"solid\", \"shape\": \"spline\"}, \"mode\": \"lines\", \"name\": \"nl\", \"r\": [-3.0, -6.0, -7.0, 9.0, 1.0, 1.0, 2.0, 0.0, -2.0, -4.0, -9.0, -5.0, -1.0, 4.0, -3.0, -3.0], \"showlegend\": true, \"subplot\": \"polar\", \"theta\": [\"baking\", \"bananabread\", \"beans\", \"coffee\", \"cooking\", \"grocerydelivery\", \"handsanitizer\", \"mouthmask\", \"pasta\", \"restaurant\", \"rice\", \"spices\", \"takeaway\", \"to-go\", \"toiletpaper\", \"baking\"], \"type\": \"scatterpolar\"}], \"name\": \"2019-12-15\"}, {\"data\": [{\"hovertemplate\": \"country=nl<br>date_str=2019-12-22<br>score_difference=%{r}<br>term=%{theta}<extra></extra>\", \"legendgroup\": \"nl\", \"line\": {\"color\": \"#636efa\", \"dash\": \"solid\", \"shape\": \"spline\"}, \"mode\": \"lines\", \"name\": \"nl\", \"r\": [-2.0, 10.0, -9.0, 13.0, -3.0, -5.0, -3.0, 0.0, 2.0, 3.0, 0.0, 11.0, -2.0, -3.0, 1.0, -2.0], \"showlegend\": true, \"subplot\": \"polar\", \"theta\": [\"baking\", \"bananabread\", \"beans\", \"coffee\", \"cooking\", \"grocerydelivery\", \"handsanitizer\", \"mouthmask\", \"pasta\", \"restaurant\", \"rice\", \"spices\", \"takeaway\", \"to-go\", \"toiletpaper\", \"baking\"], \"type\": \"scatterpolar\"}], \"name\": \"2019-12-22\"}, {\"data\": [{\"hovertemplate\": \"country=nl<br>date_str=2019-12-29<br>score_difference=%{r}<br>term=%{theta}<extra></extra>\", \"legendgroup\": \"nl\", \"line\": {\"color\": \"#636efa\", \"dash\": \"solid\", \"shape\": \"spline\"}, \"mode\": \"lines\", \"name\": \"nl\", \"r\": [8.0, 0.0, -2.0, 5.0, -2.0, -8.0, 2.0, 0.0, 0.0, 0.0, 1.0, 8.0, -5.0, 3.0, -2.0, 8.0], \"showlegend\": true, \"subplot\": \"polar\", \"theta\": [\"baking\", \"bananabread\", \"beans\", \"coffee\", \"cooking\", \"grocerydelivery\", \"handsanitizer\", \"mouthmask\", \"pasta\", \"restaurant\", \"rice\", \"spices\", \"takeaway\", \"to-go\", \"toiletpaper\", \"baking\"], \"type\": \"scatterpolar\"}], \"name\": \"2019-12-29\"}, {\"data\": [{\"hovertemplate\": \"country=nl<br>date_str=2020-05-01<br>score_difference=%{r}<br>term=%{theta}<extra></extra>\", \"legendgroup\": \"nl\", \"line\": {\"color\": \"#636efa\", \"dash\": \"solid\", \"shape\": \"spline\"}, \"mode\": \"lines\", \"name\": \"nl\", \"r\": [3.0, 4.0, 12.0, 8.0, -1.0, 0.0, 0.0, 0.0, 16.0, 1.0, 13.0, 5.0, 4.0, 0.0, 5.0, 3.0], \"showlegend\": true, \"subplot\": \"polar\", \"theta\": [\"baking\", \"bananabread\", \"beans\", \"coffee\", \"cooking\", \"grocerydelivery\", \"handsanitizer\", \"mouthmask\", \"pasta\", \"restaurant\", \"rice\", \"spices\", \"takeaway\", \"to-go\", \"toiletpaper\", \"baking\"], \"type\": \"scatterpolar\"}], \"name\": \"2020-05-01\"}, {\"data\": [{\"hovertemplate\": \"country=nl<br>date_str=2020-12-01<br>score_difference=%{r}<br>term=%{theta}<extra></extra>\", \"legendgroup\": \"nl\", \"line\": {\"color\": \"#636efa\", \"dash\": \"solid\", \"shape\": \"spline\"}, \"mode\": \"lines\", \"name\": \"nl\", \"r\": [4.0, 5.0, -2.0, 14.0, 2.0, -2.0, 0.0, 0.0, 5.0, 10.0, 0.0, -1.0, 4.0, 5.0, 5.0, 4.0], \"showlegend\": true, \"subplot\": \"polar\", \"theta\": [\"baking\", \"bananabread\", \"beans\", \"coffee\", \"cooking\", \"grocerydelivery\", \"handsanitizer\", \"mouthmask\", \"pasta\", \"restaurant\", \"rice\", \"spices\", \"takeaway\", \"to-go\", \"toiletpaper\", \"baking\"], \"type\": \"scatterpolar\"}], \"name\": \"2020-12-01\"}, {\"data\": [{\"hovertemplate\": \"country=nl<br>date_str=2020-01-19<br>score_difference=%{r}<br>term=%{theta}<extra></extra>\", \"legendgroup\": \"nl\", \"line\": {\"color\": \"#636efa\", \"dash\": \"solid\", \"shape\": \"spline\"}, \"mode\": \"lines\", \"name\": \"nl\", \"r\": [1.0, 2.0, 6.0, -5.0, 4.0, -6.0, -2.0, 1.0, 11.0, 7.0, 13.0, 14.0, -1.0, 14.0, -1.0, 1.0], \"showlegend\": true, \"subplot\": \"polar\", \"theta\": [\"baking\", \"bananabread\", \"beans\", \"coffee\", \"cooking\", \"grocerydelivery\", \"handsanitizer\", \"mouthmask\", \"pasta\", \"restaurant\", \"rice\", \"spices\", \"takeaway\", \"to-go\", \"toiletpaper\", \"baking\"], \"type\": \"scatterpolar\"}], \"name\": \"2020-01-19\"}, {\"data\": [{\"hovertemplate\": \"country=nl<br>date_str=2020-01-26<br>score_difference=%{r}<br>term=%{theta}<extra></extra>\", \"legendgroup\": \"nl\", \"line\": {\"color\": \"#636efa\", \"dash\": \"solid\", \"shape\": \"spline\"}, \"mode\": \"lines\", \"name\": \"nl\", \"r\": [0.0, -4.0, 11.0, 2.0, 1.0, -5.0, 1.0, 5.0, 10.0, 4.0, 2.0, 1.0, 3.0, 8.0, 4.0, 0.0], \"showlegend\": true, \"subplot\": \"polar\", \"theta\": [\"baking\", \"bananabread\", \"beans\", \"coffee\", \"cooking\", \"grocerydelivery\", \"handsanitizer\", \"mouthmask\", \"pasta\", \"restaurant\", \"rice\", \"spices\", \"takeaway\", \"to-go\", \"toiletpaper\", \"baking\"], \"type\": \"scatterpolar\"}], \"name\": \"2020-01-26\"}, {\"data\": [{\"hovertemplate\": \"country=nl<br>date_str=2020-02-02<br>score_difference=%{r}<br>term=%{theta}<extra></extra>\", \"legendgroup\": \"nl\", \"line\": {\"color\": \"#636efa\", \"dash\": \"solid\", \"shape\": \"spline\"}, \"mode\": \"lines\", \"name\": \"nl\", \"r\": [0.0, -4.0, 7.0, 9.0, 1.0, 3.0, -2.0, 1.0, 5.0, -1.0, -2.0, 3.0, -2.0, -7.0, 5.0, 0.0], \"showlegend\": true, \"subplot\": \"polar\", \"theta\": [\"baking\", \"bananabread\", \"beans\", \"coffee\", \"cooking\", \"grocerydelivery\", \"handsanitizer\", \"mouthmask\", \"pasta\", \"restaurant\", \"rice\", \"spices\", \"takeaway\", \"to-go\", \"toiletpaper\", \"baking\"], \"type\": \"scatterpolar\"}], \"name\": \"2020-02-02\"}, {\"data\": [{\"hovertemplate\": \"country=nl<br>date_str=2020-09-02<br>score_difference=%{r}<br>term=%{theta}<extra></extra>\", \"legendgroup\": \"nl\", \"line\": {\"color\": \"#636efa\", \"dash\": \"solid\", \"shape\": \"spline\"}, \"mode\": \"lines\", \"name\": \"nl\", \"r\": [9.0, 2.0, 2.0, 6.0, 0.0, -3.0, 0.0, 0.0, 6.0, 3.0, -5.0, -2.0, 22.0, 3.0, 1.0, 9.0], \"showlegend\": true, \"subplot\": \"polar\", \"theta\": [\"baking\", \"bananabread\", \"beans\", \"coffee\", \"cooking\", \"grocerydelivery\", \"handsanitizer\", \"mouthmask\", \"pasta\", \"restaurant\", \"rice\", \"spices\", \"takeaway\", \"to-go\", \"toiletpaper\", \"baking\"], \"type\": \"scatterpolar\"}], \"name\": \"2020-09-02\"}, {\"data\": [{\"hovertemplate\": \"country=nl<br>date_str=2020-02-16<br>score_difference=%{r}<br>term=%{theta}<extra></extra>\", \"legendgroup\": \"nl\", \"line\": {\"color\": \"#636efa\", \"dash\": \"solid\", \"shape\": \"spline\"}, \"mode\": \"lines\", \"name\": \"nl\", \"r\": [4.0, 1.0, 24.0, 4.0, 1.0, -4.0, 4.0, 0.0, 12.0, 1.0, 6.0, -2.0, -19.0, 3.0, -2.0, 4.0], \"showlegend\": true, \"subplot\": \"polar\", \"theta\": [\"baking\", \"bananabread\", \"beans\", \"coffee\", \"cooking\", \"grocerydelivery\", \"handsanitizer\", \"mouthmask\", \"pasta\", \"restaurant\", \"rice\", \"spices\", \"takeaway\", \"to-go\", \"toiletpaper\", \"baking\"], \"type\": \"scatterpolar\"}], \"name\": \"2020-02-16\"}, {\"data\": [{\"hovertemplate\": \"country=nl<br>date_str=2020-02-23<br>score_difference=%{r}<br>term=%{theta}<extra></extra>\", \"legendgroup\": \"nl\", \"line\": {\"color\": \"#636efa\", \"dash\": \"solid\", \"shape\": \"spline\"}, \"mode\": \"lines\", \"name\": \"nl\", \"r\": [7.0, 0.0, 27.0, 10.0, 8.0, 8.0, 15.0, 25.0, 5.0, 8.0, 16.0, 4.0, 14.0, 3.0, 5.0, 7.0], \"showlegend\": true, \"subplot\": \"polar\", \"theta\": [\"baking\", \"bananabread\", \"beans\", \"coffee\", \"cooking\", \"grocerydelivery\", \"handsanitizer\", \"mouthmask\", \"pasta\", \"restaurant\", \"rice\", \"spices\", \"takeaway\", \"to-go\", \"toiletpaper\", \"baking\"], \"type\": \"scatterpolar\"}], \"name\": \"2020-02-23\"}, {\"data\": [{\"hovertemplate\": \"country=nl<br>date_str=2020-01-03<br>score_difference=%{r}<br>term=%{theta}<extra></extra>\", \"legendgroup\": \"nl\", \"line\": {\"color\": \"#636efa\", \"dash\": \"solid\", \"shape\": \"spline\"}, \"mode\": \"lines\", \"name\": \"nl\", \"r\": [-1.0, 14.0, 6.0, 6.0, -3.0, 0.0, 14.0, 7.0, 16.0, -3.0, -1.0, 6.0, 1.0, -1.0, 5.0, -1.0], \"showlegend\": true, \"subplot\": \"polar\", \"theta\": [\"baking\", \"bananabread\", \"beans\", \"coffee\", \"cooking\", \"grocerydelivery\", \"handsanitizer\", \"mouthmask\", \"pasta\", \"restaurant\", \"rice\", \"spices\", \"takeaway\", \"to-go\", \"toiletpaper\", \"baking\"], \"type\": \"scatterpolar\"}], \"name\": \"2020-01-03\"}, {\"data\": [{\"hovertemplate\": \"country=nl<br>date_str=2020-08-03<br>score_difference=%{r}<br>term=%{theta}<extra></extra>\", \"legendgroup\": \"nl\", \"line\": {\"color\": \"#636efa\", \"dash\": \"solid\", \"shape\": \"spline\"}, \"mode\": \"lines\", \"name\": \"nl\", \"r\": [2.0, 4.0, -2.0, -3.0, -3.0, 22.0, 15.0, 4.0, 0.0, -13.0, 7.0, 3.0, -6.0, -4.0, 81.0, 2.0], \"showlegend\": true, \"subplot\": \"polar\", \"theta\": [\"baking\", \"bananabread\", \"beans\", \"coffee\", \"cooking\", \"grocerydelivery\", \"handsanitizer\", \"mouthmask\", \"pasta\", \"restaurant\", \"rice\", \"spices\", \"takeaway\", \"to-go\", \"toiletpaper\", \"baking\"], \"type\": \"scatterpolar\"}], \"name\": \"2020-08-03\"}, {\"data\": [{\"hovertemplate\": \"country=nl<br>date_str=2020-03-15<br>score_difference=%{r}<br>term=%{theta}<extra></extra>\", \"legendgroup\": \"nl\", \"line\": {\"color\": \"#636efa\", \"dash\": \"solid\", \"shape\": \"spline\"}, \"mode\": \"lines\", \"name\": \"nl\", \"r\": [35.0, 49.0, 12.0, -2.0, 5.0, 87.0, 27.0, 15.0, 3.0, -36.0, 15.0, 17.0, 19.0, 14.0, 93.0, 35.0], \"showlegend\": true, \"subplot\": \"polar\", \"theta\": [\"baking\", \"bananabread\", \"beans\", \"coffee\", \"cooking\", \"grocerydelivery\", \"handsanitizer\", \"mouthmask\", \"pasta\", \"restaurant\", \"rice\", \"spices\", \"takeaway\", \"to-go\", \"toiletpaper\", \"baking\"], \"type\": \"scatterpolar\"}], \"name\": \"2020-03-15\"}, {\"data\": [{\"hovertemplate\": \"country=nl<br>date_str=2020-03-22<br>score_difference=%{r}<br>term=%{theta}<extra></extra>\", \"legendgroup\": \"nl\", \"line\": {\"color\": \"#636efa\", \"dash\": \"solid\", \"shape\": \"spline\"}, \"mode\": \"lines\", \"name\": \"nl\", \"r\": [40.0, 67.0, 29.0, -7.0, 9.0, 95.0, 100.0, 10.0, 12.0, -43.0, 18.0, 21.0, 15.0, 15.0, 27.0, 40.0], \"showlegend\": true, \"subplot\": \"polar\", \"theta\": [\"baking\", \"bananabread\", \"beans\", \"coffee\", \"cooking\", \"grocerydelivery\", \"handsanitizer\", \"mouthmask\", \"pasta\", \"restaurant\", \"rice\", \"spices\", \"takeaway\", \"to-go\", \"toiletpaper\", \"baking\"], \"type\": \"scatterpolar\"}], \"name\": \"2020-03-22\"}, {\"data\": [{\"hovertemplate\": \"country=nl<br>date_str=2020-03-29<br>score_difference=%{r}<br>term=%{theta}<extra></extra>\", \"legendgroup\": \"nl\", \"line\": {\"color\": \"#636efa\", \"dash\": \"solid\", \"shape\": \"spline\"}, \"mode\": \"lines\", \"name\": \"nl\", \"r\": [45.0, 66.0, 26.0, 4.0, 16.0, 36.0, 9.0, 6.0, 15.0, -40.0, 27.0, 26.0, 26.0, 18.0, 10.0, 45.0], \"showlegend\": true, \"subplot\": \"polar\", \"theta\": [\"baking\", \"bananabread\", \"beans\", \"coffee\", \"cooking\", \"grocerydelivery\", \"handsanitizer\", \"mouthmask\", \"pasta\", \"restaurant\", \"rice\", \"spices\", \"takeaway\", \"to-go\", \"toiletpaper\", \"baking\"], \"type\": \"scatterpolar\"}], \"name\": \"2020-03-29\"}, {\"data\": [{\"hovertemplate\": \"country=nl<br>date_str=2020-05-04<br>score_difference=%{r}<br>term=%{theta}<extra></extra>\", \"legendgroup\": \"nl\", \"line\": {\"color\": \"#636efa\", \"dash\": \"solid\", \"shape\": \"spline\"}, \"mode\": \"lines\", \"name\": \"nl\", \"r\": [42.0, 50.0, 28.0, -9.0, 14.0, 10.0, 12.0, 4.0, 17.0, -45.0, 9.0, 37.0, 13.0, 8.0, 1.0, 42.0], \"showlegend\": true, \"subplot\": \"polar\", \"theta\": [\"baking\", \"bananabread\", \"beans\", \"coffee\", \"cooking\", \"grocerydelivery\", \"handsanitizer\", \"mouthmask\", \"pasta\", \"restaurant\", \"rice\", \"spices\", \"takeaway\", \"to-go\", \"toiletpaper\", \"baking\"], \"type\": \"scatterpolar\"}], \"name\": \"2020-05-04\"}, {\"data\": [{\"hovertemplate\": \"country=nl<br>date_str=2020-12-04<br>score_difference=%{r}<br>term=%{theta}<extra></extra>\", \"legendgroup\": \"nl\", \"line\": {\"color\": \"#636efa\", \"dash\": \"solid\", \"shape\": \"spline\"}, \"mode\": \"lines\", \"name\": \"nl\", \"r\": [35.0, 50.0, 37.0, 24.0, 33.0, 10.0, 6.0, 7.0, 25.0, -42.0, 33.0, 32.0, 16.0, 9.0, 6.0, 35.0], \"showlegend\": true, \"subplot\": \"polar\", \"theta\": [\"baking\", \"bananabread\", \"beans\", \"coffee\", \"cooking\", \"grocerydelivery\", \"handsanitizer\", \"mouthmask\", \"pasta\", \"restaurant\", \"rice\", \"spices\", \"takeaway\", \"to-go\", \"toiletpaper\", \"baking\"], \"type\": \"scatterpolar\"}], \"name\": \"2020-12-04\"}, {\"data\": [{\"hovertemplate\": \"country=nl<br>date_str=2020-04-19<br>score_difference=%{r}<br>term=%{theta}<extra></extra>\", \"legendgroup\": \"nl\", \"line\": {\"color\": \"#636efa\", \"dash\": \"solid\", \"shape\": \"spline\"}, \"mode\": \"lines\", \"name\": \"nl\", \"r\": [31.0, 38.0, 31.0, 14.0, 13.0, 14.0, 12.0, 6.0, 36.0, -44.0, 34.0, 34.0, 15.0, 14.0, 3.0, 31.0], \"showlegend\": true, \"subplot\": \"polar\", \"theta\": [\"baking\", \"bananabread\", \"beans\", \"coffee\", \"cooking\", \"grocerydelivery\", \"handsanitizer\", \"mouthmask\", \"pasta\", \"restaurant\", \"rice\", \"spices\", \"takeaway\", \"to-go\", \"toiletpaper\", \"baking\"], \"type\": \"scatterpolar\"}], \"name\": \"2020-04-19\"}, {\"data\": [{\"hovertemplate\": \"country=nl<br>date_str=2020-04-26<br>score_difference=%{r}<br>term=%{theta}<extra></extra>\", \"legendgroup\": \"nl\", \"line\": {\"color\": \"#636efa\", \"dash\": \"solid\", \"shape\": \"spline\"}, \"mode\": \"lines\", \"name\": \"nl\", \"r\": [42.0, 49.0, 36.0, -8.0, 21.0, 3.0, 8.0, 12.0, 26.0, -48.0, 34.0, 39.0, 45.0, 19.0, 3.0, 42.0], \"showlegend\": true, \"subplot\": \"polar\", \"theta\": [\"baking\", \"bananabread\", \"beans\", \"coffee\", \"cooking\", \"grocerydelivery\", \"handsanitizer\", \"mouthmask\", \"pasta\", \"restaurant\", \"rice\", \"spices\", \"takeaway\", \"to-go\", \"toiletpaper\", \"baking\"], \"type\": \"scatterpolar\"}], \"name\": \"2020-04-26\"}, {\"data\": [{\"hovertemplate\": \"country=nl<br>date_str=2020-03-05<br>score_difference=%{r}<br>term=%{theta}<extra></extra>\", \"legendgroup\": \"nl\", \"line\": {\"color\": \"#636efa\", \"dash\": \"solid\", \"shape\": \"spline\"}, \"mode\": \"lines\", \"name\": \"nl\", \"r\": [28.0, 32.0, 23.0, 4.0, 13.0, 0.0, 12.0, 64.0, 28.0, -35.0, 21.0, 39.0, 63.0, 23.0, 2.0, 28.0], \"showlegend\": true, \"subplot\": \"polar\", \"theta\": [\"baking\", \"bananabread\", \"beans\", \"coffee\", \"cooking\", \"grocerydelivery\", \"handsanitizer\", \"mouthmask\", \"pasta\", \"restaurant\", \"rice\", \"spices\", \"takeaway\", \"to-go\", \"toiletpaper\", \"baking\"], \"type\": \"scatterpolar\"}], \"name\": \"2020-03-05\"}, {\"data\": [{\"hovertemplate\": \"country=nl<br>date_str=2020-10-05<br>score_difference=%{r}<br>term=%{theta}<extra></extra>\", \"legendgroup\": \"nl\", \"line\": {\"color\": \"#636efa\", \"dash\": \"solid\", \"shape\": \"spline\"}, \"mode\": \"lines\", \"name\": \"nl\", \"r\": [27.0, 33.0, 30.0, 7.0, 20.0, 4.0, 25.0, 36.0, 27.0, -37.0, 14.0, 33.0, 57.0, 16.0, 4.0, 27.0], \"showlegend\": true, \"subplot\": \"polar\", \"theta\": [\"baking\", \"bananabread\", \"beans\", \"coffee\", \"cooking\", \"grocerydelivery\", \"handsanitizer\", \"mouthmask\", \"pasta\", \"restaurant\", \"rice\", \"spices\", \"takeaway\", \"to-go\", \"toiletpaper\", \"baking\"], \"type\": \"scatterpolar\"}], \"name\": \"2020-10-05\"}, {\"data\": [{\"hovertemplate\": \"country=nl<br>date_str=2020-05-17<br>score_difference=%{r}<br>term=%{theta}<extra></extra>\", \"legendgroup\": \"nl\", \"line\": {\"color\": \"#636efa\", \"dash\": \"solid\", \"shape\": \"spline\"}, \"mode\": \"lines\", \"name\": \"nl\", \"r\": [29.0, 22.0, 20.0, 9.0, 20.0, 2.0, 11.0, 26.0, 18.0, -30.0, 9.0, 24.0, 52.0, 26.0, 2.0, 29.0], \"showlegend\": true, \"subplot\": \"polar\", \"theta\": [\"baking\", \"bananabread\", \"beans\", \"coffee\", \"cooking\", \"grocerydelivery\", \"handsanitizer\", \"mouthmask\", \"pasta\", \"restaurant\", \"rice\", \"spices\", \"takeaway\", \"to-go\", \"toiletpaper\", \"baking\"], \"type\": \"scatterpolar\"}], \"name\": \"2020-05-17\"}, {\"data\": [{\"hovertemplate\": \"country=nl<br>date_str=2020-05-24<br>score_difference=%{r}<br>term=%{theta}<extra></extra>\", \"legendgroup\": \"nl\", \"line\": {\"color\": \"#636efa\", \"dash\": \"solid\", \"shape\": \"spline\"}, \"mode\": \"lines\", \"name\": \"nl\", \"r\": [13.0, 23.0, -1.0, 11.0, 5.0, 2.0, 9.0, 19.0, 18.0, -38.0, 23.0, 26.0, 28.0, 23.0, 7.0, 13.0], \"showlegend\": true, \"subplot\": \"polar\", \"theta\": [\"baking\", \"bananabread\", \"beans\", \"coffee\", \"cooking\", \"grocerydelivery\", \"handsanitizer\", \"mouthmask\", \"pasta\", \"restaurant\", \"rice\", \"spices\", \"takeaway\", \"to-go\", \"toiletpaper\", \"baking\"], \"type\": \"scatterpolar\"}], \"name\": \"2020-05-24\"}, {\"data\": [{\"hovertemplate\": \"country=nl<br>date_str=2020-05-31<br>score_difference=%{r}<br>term=%{theta}<extra></extra>\", \"legendgroup\": \"nl\", \"line\": {\"color\": \"#636efa\", \"dash\": \"solid\", \"shape\": \"spline\"}, \"mode\": \"lines\", \"name\": \"nl\", \"r\": [12.0, 11.0, 10.0, 11.0, 7.0, 2.0, 4.0, 25.0, 17.0, -9.0, 14.0, 14.0, 17.0, 12.0, 2.0, 12.0], \"showlegend\": true, \"subplot\": \"polar\", \"theta\": [\"baking\", \"bananabread\", \"beans\", \"coffee\", \"cooking\", \"grocerydelivery\", \"handsanitizer\", \"mouthmask\", \"pasta\", \"restaurant\", \"rice\", \"spices\", \"takeaway\", \"to-go\", \"toiletpaper\", \"baking\"], \"type\": \"scatterpolar\"}], \"name\": \"2020-05-31\"}, {\"data\": [{\"hovertemplate\": \"country=nl<br>date_str=2020-07-06<br>score_difference=%{r}<br>term=%{theta}<extra></extra>\", \"legendgroup\": \"nl\", \"line\": {\"color\": \"#636efa\", \"dash\": \"solid\", \"shape\": \"spline\"}, \"mode\": \"lines\", \"name\": \"nl\", \"r\": [10.0, 17.0, 9.0, 13.0, 10.0, 2.0, 5.0, 15.0, 28.0, -8.0, 23.0, 25.0, 25.0, 0.0, 6.0, 10.0], \"showlegend\": true, \"subplot\": \"polar\", \"theta\": [\"baking\", \"bananabread\", \"beans\", \"coffee\", \"cooking\", \"grocerydelivery\", \"handsanitizer\", \"mouthmask\", \"pasta\", \"restaurant\", \"rice\", \"spices\", \"takeaway\", \"to-go\", \"toiletpaper\", \"baking\"], \"type\": \"scatterpolar\"}], \"name\": \"2020-07-06\"}, {\"data\": [{\"hovertemplate\": \"country=nl<br>date_str=2020-06-14<br>score_difference=%{r}<br>term=%{theta}<extra></extra>\", \"legendgroup\": \"nl\", \"line\": {\"color\": \"#636efa\", \"dash\": \"solid\", \"shape\": \"spline\"}, \"mode\": \"lines\", \"name\": \"nl\", \"r\": [15.0, 27.0, 20.0, 14.0, 12.0, 5.0, -2.0, 14.0, 16.0, 0.0, 17.0, 19.0, 12.0, 1.0, 0.0, 15.0], \"showlegend\": true, \"subplot\": \"polar\", \"theta\": [\"baking\", \"bananabread\", \"beans\", \"coffee\", \"cooking\", \"grocerydelivery\", \"handsanitizer\", \"mouthmask\", \"pasta\", \"restaurant\", \"rice\", \"spices\", \"takeaway\", \"to-go\", \"toiletpaper\", \"baking\"], \"type\": \"scatterpolar\"}], \"name\": \"2020-06-14\"}, {\"data\": [{\"hovertemplate\": \"country=nl<br>date_str=2020-06-21<br>score_difference=%{r}<br>term=%{theta}<extra></extra>\", \"legendgroup\": \"nl\", \"line\": {\"color\": \"#636efa\", \"dash\": \"solid\", \"shape\": \"spline\"}, \"mode\": \"lines\", \"name\": \"nl\", \"r\": [12.0, 15.0, 10.0, 15.0, 7.0, -8.0, 4.0, 11.0, 11.0, 8.0, 19.0, 10.0, 4.0, 7.0, 0.0, 12.0], \"showlegend\": true, \"subplot\": \"polar\", \"theta\": [\"baking\", \"bananabread\", \"beans\", \"coffee\", \"cooking\", \"grocerydelivery\", \"handsanitizer\", \"mouthmask\", \"pasta\", \"restaurant\", \"rice\", \"spices\", \"takeaway\", \"to-go\", \"toiletpaper\", \"baking\"], \"type\": \"scatterpolar\"}], \"name\": \"2020-06-21\"}, {\"data\": [{\"hovertemplate\": \"country=nl<br>date_str=2020-06-28<br>score_difference=%{r}<br>term=%{theta}<extra></extra>\", \"legendgroup\": \"nl\", \"line\": {\"color\": \"#636efa\", \"dash\": \"solid\", \"shape\": \"spline\"}, \"mode\": \"lines\", \"name\": \"nl\", \"r\": [12.0, 25.0, 33.0, 15.0, 12.0, -5.0, 2.0, 14.0, 10.0, 7.0, 14.0, 11.0, 19.0, -8.0, 1.0, 12.0], \"showlegend\": true, \"subplot\": \"polar\", \"theta\": [\"baking\", \"bananabread\", \"beans\", \"coffee\", \"cooking\", \"grocerydelivery\", \"handsanitizer\", \"mouthmask\", \"pasta\", \"restaurant\", \"rice\", \"spices\", \"takeaway\", \"to-go\", \"toiletpaper\", \"baking\"], \"type\": \"scatterpolar\"}], \"name\": \"2020-06-28\"}, {\"data\": [{\"hovertemplate\": \"country=nl<br>date_str=2020-05-07<br>score_difference=%{r}<br>term=%{theta}<extra></extra>\", \"legendgroup\": \"nl\", \"line\": {\"color\": \"#636efa\", \"dash\": \"solid\", \"shape\": \"spline\"}, \"mode\": \"lines\", \"name\": \"nl\", \"r\": [15.0, 22.0, 15.0, 18.0, 9.0, 4.0, 5.0, 18.0, 12.0, 13.0, 15.0, 15.0, 23.0, 7.0, -3.0, 15.0], \"showlegend\": true, \"subplot\": \"polar\", \"theta\": [\"baking\", \"bananabread\", \"beans\", \"coffee\", \"cooking\", \"grocerydelivery\", \"handsanitizer\", \"mouthmask\", \"pasta\", \"restaurant\", \"rice\", \"spices\", \"takeaway\", \"to-go\", \"toiletpaper\", \"baking\"], \"type\": \"scatterpolar\"}], \"name\": \"2020-05-07\"}, {\"data\": [{\"hovertemplate\": \"country=nl<br>date_str=2020-12-07<br>score_difference=%{r}<br>term=%{theta}<extra></extra>\", \"legendgroup\": \"nl\", \"line\": {\"color\": \"#636efa\", \"dash\": \"solid\", \"shape\": \"spline\"}, \"mode\": \"lines\", \"name\": \"nl\", \"r\": [10.0, 11.0, 9.0, 25.0, 6.0, 1.0, -3.0, 24.0, 7.0, 13.0, 12.0, 7.0, -7.0, 11.0, 4.0, 10.0], \"showlegend\": true, \"subplot\": \"polar\", \"theta\": [\"baking\", \"bananabread\", \"beans\", \"coffee\", \"cooking\", \"grocerydelivery\", \"handsanitizer\", \"mouthmask\", \"pasta\", \"restaurant\", \"rice\", \"spices\", \"takeaway\", \"to-go\", \"toiletpaper\", \"baking\"], \"type\": \"scatterpolar\"}], \"name\": \"2020-12-07\"}, {\"data\": [{\"hovertemplate\": \"country=nl<br>date_str=2020-07-19<br>score_difference=%{r}<br>term=%{theta}<extra></extra>\", \"legendgroup\": \"nl\", \"line\": {\"color\": \"#636efa\", \"dash\": \"solid\", \"shape\": \"spline\"}, \"mode\": \"lines\", \"name\": \"nl\", \"r\": [23.0, 20.0, 26.0, 24.0, 12.0, 1.0, 4.0, 35.0, 11.0, 20.0, 25.0, 5.0, 4.0, 5.0, 2.0, 23.0], \"showlegend\": true, \"subplot\": \"polar\", \"theta\": [\"baking\", \"bananabread\", \"beans\", \"coffee\", \"cooking\", \"grocerydelivery\", \"handsanitizer\", \"mouthmask\", \"pasta\", \"restaurant\", \"rice\", \"spices\", \"takeaway\", \"to-go\", \"toiletpaper\", \"baking\"], \"type\": \"scatterpolar\"}], \"name\": \"2020-07-19\"}, {\"data\": [{\"hovertemplate\": \"country=nl<br>date_str=2020-07-26<br>score_difference=%{r}<br>term=%{theta}<extra></extra>\", \"legendgroup\": \"nl\", \"line\": {\"color\": \"#636efa\", \"dash\": \"solid\", \"shape\": \"spline\"}, \"mode\": \"lines\", \"name\": \"nl\", \"r\": [9.0, 15.0, 29.0, 10.0, 8.0, 1.0, 2.0, 31.0, 17.0, 12.0, 10.0, 11.0, -12.0, -5.0, -2.0, 9.0], \"showlegend\": true, \"subplot\": \"polar\", \"theta\": [\"baking\", \"bananabread\", \"beans\", \"coffee\", \"cooking\", \"grocerydelivery\", \"handsanitizer\", \"mouthmask\", \"pasta\", \"restaurant\", \"rice\", \"spices\", \"takeaway\", \"to-go\", \"toiletpaper\", \"baking\"], \"type\": \"scatterpolar\"}], \"name\": \"2020-07-26\"}, {\"data\": [{\"hovertemplate\": \"country=nl<br>date_str=2020-02-08<br>score_difference=%{r}<br>term=%{theta}<extra></extra>\", \"legendgroup\": \"nl\", \"line\": {\"color\": \"#636efa\", \"dash\": \"solid\", \"shape\": \"spline\"}, \"mode\": \"lines\", \"name\": \"nl\", \"r\": [10.0, 2.0, 6.0, 6.0, 2.0, -5.0, 4.0, 25.0, 21.0, 8.0, -4.0, 11.0, 14.0, -7.0, 1.0, 10.0], \"showlegend\": true, \"subplot\": \"polar\", \"theta\": [\"baking\", \"bananabread\", \"beans\", \"coffee\", \"cooking\", \"grocerydelivery\", \"handsanitizer\", \"mouthmask\", \"pasta\", \"restaurant\", \"rice\", \"spices\", \"takeaway\", \"to-go\", \"toiletpaper\", \"baking\"], \"type\": \"scatterpolar\"}], \"name\": \"2020-02-08\"}, {\"data\": [{\"hovertemplate\": \"country=nl<br>date_str=2020-09-08<br>score_difference=%{r}<br>term=%{theta}<extra></extra>\", \"legendgroup\": \"nl\", \"line\": {\"color\": \"#636efa\", \"dash\": \"solid\", \"shape\": \"spline\"}, \"mode\": \"lines\", \"name\": \"nl\", \"r\": [-3.0, 1.0, -8.0, -1.0, -10.0, 4.0, 4.0, 15.0, 13.0, 4.0, -10.0, 3.0, 3.0, -7.0, -1.0, -3.0], \"showlegend\": true, \"subplot\": \"polar\", \"theta\": [\"baking\", \"bananabread\", \"beans\", \"coffee\", \"cooking\", \"grocerydelivery\", \"handsanitizer\", \"mouthmask\", \"pasta\", \"restaurant\", \"rice\", \"spices\", \"takeaway\", \"to-go\", \"toiletpaper\", \"baking\"], \"type\": \"scatterpolar\"}], \"name\": \"2020-09-08\"}, {\"data\": [{\"hovertemplate\": \"country=nl<br>date_str=2020-08-16<br>score_difference=%{r}<br>term=%{theta}<extra></extra>\", \"legendgroup\": \"nl\", \"line\": {\"color\": \"#636efa\", \"dash\": \"solid\", \"shape\": \"spline\"}, \"mode\": \"lines\", \"name\": \"nl\", \"r\": [6.0, -3.0, -15.0, -5.0, 0.0, 3.0, 6.0, 17.0, 12.0, 16.0, 2.0, 6.0, 10.0, 3.0, 7.0, 6.0], \"showlegend\": true, \"subplot\": \"polar\", \"theta\": [\"baking\", \"bananabread\", \"beans\", \"coffee\", \"cooking\", \"grocerydelivery\", \"handsanitizer\", \"mouthmask\", \"pasta\", \"restaurant\", \"rice\", \"spices\", \"takeaway\", \"to-go\", \"toiletpaper\", \"baking\"], \"type\": \"scatterpolar\"}], \"name\": \"2020-08-16\"}, {\"data\": [{\"hovertemplate\": \"country=nl<br>date_str=2020-08-23<br>score_difference=%{r}<br>term=%{theta}<extra></extra>\", \"legendgroup\": \"nl\", \"line\": {\"color\": \"#636efa\", \"dash\": \"solid\", \"shape\": \"spline\"}, \"mode\": \"lines\", \"name\": \"nl\", \"r\": [18.0, 14.0, 12.0, 12.0, 7.0, 4.0, 7.0, 15.0, 12.0, 13.0, 18.0, 11.0, 0.0, 7.0, 2.0, 18.0], \"showlegend\": true, \"subplot\": \"polar\", \"theta\": [\"baking\", \"bananabread\", \"beans\", \"coffee\", \"cooking\", \"grocerydelivery\", \"handsanitizer\", \"mouthmask\", \"pasta\", \"restaurant\", \"rice\", \"spices\", \"takeaway\", \"to-go\", \"toiletpaper\", \"baking\"], \"type\": \"scatterpolar\"}], \"name\": \"2020-08-23\"}, {\"data\": [{\"hovertemplate\": \"country=nl<br>date_str=2020-08-30<br>score_difference=%{r}<br>term=%{theta}<extra></extra>\", \"legendgroup\": \"nl\", \"line\": {\"color\": \"#636efa\", \"dash\": \"solid\", \"shape\": \"spline\"}, \"mode\": \"lines\", \"name\": \"nl\", \"r\": [12.0, -6.0, 9.0, 1.0, 5.0, 5.0, 0.0, 11.0, 17.0, 15.0, 10.0, 12.0, 9.0, 3.0, 0.0, 12.0], \"showlegend\": true, \"subplot\": \"polar\", \"theta\": [\"baking\", \"bananabread\", \"beans\", \"coffee\", \"cooking\", \"grocerydelivery\", \"handsanitizer\", \"mouthmask\", \"pasta\", \"restaurant\", \"rice\", \"spices\", \"takeaway\", \"to-go\", \"toiletpaper\", \"baking\"], \"type\": \"scatterpolar\"}], \"name\": \"2020-08-30\"}, {\"data\": [{\"hovertemplate\": \"country=nl<br>date_str=2020-06-09<br>score_difference=%{r}<br>term=%{theta}<extra></extra>\", \"legendgroup\": \"nl\", \"line\": {\"color\": \"#636efa\", \"dash\": \"solid\", \"shape\": \"spline\"}, \"mode\": \"lines\", \"name\": \"nl\", \"r\": [13.0, 5.0, 2.0, 9.0, 7.0, 2.0, 2.0, 7.0, 11.0, 20.0, 14.0, 1.0, 21.0, 6.0, 2.0, 13.0], \"showlegend\": true, \"subplot\": \"polar\", \"theta\": [\"baking\", \"bananabread\", \"beans\", \"coffee\", \"cooking\", \"grocerydelivery\", \"handsanitizer\", \"mouthmask\", \"pasta\", \"restaurant\", \"rice\", \"spices\", \"takeaway\", \"to-go\", \"toiletpaper\", \"baking\"], \"type\": \"scatterpolar\"}], \"name\": \"2020-06-09\"}, {\"data\": [{\"hovertemplate\": \"country=nl<br>date_str=2020-09-13<br>score_difference=%{r}<br>term=%{theta}<extra></extra>\", \"legendgroup\": \"nl\", \"line\": {\"color\": \"#636efa\", \"dash\": \"solid\", \"shape\": \"spline\"}, \"mode\": \"lines\", \"name\": \"nl\", \"r\": [13.0, 0.0, 1.0, -7.0, 3.0, 3.0, 1.0, 8.0, 12.0, 13.0, 7.0, -1.0, 13.0, -7.0, 2.0, 13.0], \"showlegend\": true, \"subplot\": \"polar\", \"theta\": [\"baking\", \"bananabread\", \"beans\", \"coffee\", \"cooking\", \"grocerydelivery\", \"handsanitizer\", \"mouthmask\", \"pasta\", \"restaurant\", \"rice\", \"spices\", \"takeaway\", \"to-go\", \"toiletpaper\", \"baking\"], \"type\": \"scatterpolar\"}], \"name\": \"2020-09-13\"}, {\"data\": [{\"hovertemplate\": \"country=nl<br>date_str=2020-09-20<br>score_difference=%{r}<br>term=%{theta}<extra></extra>\", \"legendgroup\": \"nl\", \"line\": {\"color\": \"#636efa\", \"dash\": \"solid\", \"shape\": \"spline\"}, \"mode\": \"lines\", \"name\": \"nl\", \"r\": [7.0, 5.0, 0.0, 7.0, 1.0, 5.0, 2.0, 9.0, 9.0, 8.0, 12.0, 6.0, -2.0, -3.0, 3.0, 7.0], \"showlegend\": true, \"subplot\": \"polar\", \"theta\": [\"baking\", \"bananabread\", \"beans\", \"coffee\", \"cooking\", \"grocerydelivery\", \"handsanitizer\", \"mouthmask\", \"pasta\", \"restaurant\", \"rice\", \"spices\", \"takeaway\", \"to-go\", \"toiletpaper\", \"baking\"], \"type\": \"scatterpolar\"}], \"name\": \"2020-09-20\"}, {\"data\": [{\"hovertemplate\": \"country=nl<br>date_str=2020-09-27<br>score_difference=%{r}<br>term=%{theta}<extra></extra>\", \"legendgroup\": \"nl\", \"line\": {\"color\": \"#636efa\", \"dash\": \"solid\", \"shape\": \"spline\"}, \"mode\": \"lines\", \"name\": \"nl\", \"r\": [13.0, 8.0, 12.0, 10.0, 15.0, 13.0, 5.0, 99.0, 12.0, 0.0, 19.0, 10.0, 7.0, 3.0, 0.0, 13.0], \"showlegend\": true, \"subplot\": \"polar\", \"theta\": [\"baking\", \"bananabread\", \"beans\", \"coffee\", \"cooking\", \"grocerydelivery\", \"handsanitizer\", \"mouthmask\", \"pasta\", \"restaurant\", \"rice\", \"spices\", \"takeaway\", \"to-go\", \"toiletpaper\", \"baking\"], \"type\": \"scatterpolar\"}], \"name\": \"2020-09-27\"}, {\"data\": [{\"hovertemplate\": \"country=nl<br>date_str=2020-04-10<br>score_difference=%{r}<br>term=%{theta}<extra></extra>\", \"legendgroup\": \"nl\", \"line\": {\"color\": \"#636efa\", \"dash\": \"solid\", \"shape\": \"spline\"}, \"mode\": \"lines\", \"name\": \"nl\", \"r\": [18.0, 1.0, 39.0, 9.0, 12.0, 20.0, 1.0, 69.0, 14.0, -11.0, 13.0, 12.0, 5.0, -2.0, 3.0, 18.0], \"showlegend\": true, \"subplot\": \"polar\", \"theta\": [\"baking\", \"bananabread\", \"beans\", \"coffee\", \"cooking\", \"grocerydelivery\", \"handsanitizer\", \"mouthmask\", \"pasta\", \"restaurant\", \"rice\", \"spices\", \"takeaway\", \"to-go\", \"toiletpaper\", \"baking\"], \"type\": \"scatterpolar\"}], \"name\": \"2020-04-10\"}, {\"data\": [{\"hovertemplate\": \"country=nl<br>date_str=2020-11-10<br>score_difference=%{r}<br>term=%{theta}<extra></extra>\", \"legendgroup\": \"nl\", \"line\": {\"color\": \"#636efa\", \"dash\": \"solid\", \"shape\": \"spline\"}, \"mode\": \"lines\", \"name\": \"nl\", \"r\": [20.0, 10.0, 28.0, 16.0, 11.0, 32.0, 7.0, 84.0, 21.0, -27.0, 17.0, 10.0, 47.0, 6.0, 3.0, 20.0], \"showlegend\": true, \"subplot\": \"polar\", \"theta\": [\"baking\", \"bananabread\", \"beans\", \"coffee\", \"cooking\", \"grocerydelivery\", \"handsanitizer\", \"mouthmask\", \"pasta\", \"restaurant\", \"rice\", \"spices\", \"takeaway\", \"to-go\", \"toiletpaper\", \"baking\"], \"type\": \"scatterpolar\"}], \"name\": \"2020-11-10\"}, {\"data\": [{\"hovertemplate\": \"country=nl<br>date_str=2020-10-18<br>score_difference=%{r}<br>term=%{theta}<extra></extra>\", \"legendgroup\": \"nl\", \"line\": {\"color\": \"#636efa\", \"dash\": \"solid\", \"shape\": \"spline\"}, \"mode\": \"lines\", \"name\": \"nl\", \"r\": [23.0, 23.0, 20.0, 2.0, 14.0, 18.0, 4.0, 41.0, 8.0, -48.0, 23.0, 7.0, 72.0, 22.0, 4.0, 23.0], \"showlegend\": true, \"subplot\": \"polar\", \"theta\": [\"baking\", \"bananabread\", \"beans\", \"coffee\", \"cooking\", \"grocerydelivery\", \"handsanitizer\", \"mouthmask\", \"pasta\", \"restaurant\", \"rice\", \"spices\", \"takeaway\", \"to-go\", \"toiletpaper\", \"baking\"], \"type\": \"scatterpolar\"}], \"name\": \"2020-10-18\"}, {\"data\": [{\"hovertemplate\": \"country=nl<br>date_str=2020-10-25<br>score_difference=%{r}<br>term=%{theta}<extra></extra>\", \"legendgroup\": \"nl\", \"line\": {\"color\": \"#636efa\", \"dash\": \"solid\", \"shape\": \"spline\"}, \"mode\": \"lines\", \"name\": \"nl\", \"r\": [24.0, 14.0, 14.0, -5.0, 11.0, 20.0, 2.0, 27.0, 13.0, -43.0, 22.0, 19.0, 70.0, 20.0, -3.0, 24.0], \"showlegend\": true, \"subplot\": \"polar\", \"theta\": [\"baking\", \"bananabread\", \"beans\", \"coffee\", \"cooking\", \"grocerydelivery\", \"handsanitizer\", \"mouthmask\", \"pasta\", \"restaurant\", \"rice\", \"spices\", \"takeaway\", \"to-go\", \"toiletpaper\", \"baking\"], \"type\": \"scatterpolar\"}], \"name\": \"2020-10-25\"}, {\"data\": [{\"hovertemplate\": \"country=nl<br>date_str=2020-01-11<br>score_difference=%{r}<br>term=%{theta}<extra></extra>\", \"legendgroup\": \"nl\", \"line\": {\"color\": \"#636efa\", \"dash\": \"solid\", \"shape\": \"spline\"}, \"mode\": \"lines\", \"name\": \"nl\", \"r\": [16.0, 16.0, 10.0, -5.0, 0.0, 3.0, 2.0, 18.0, 15.0, -50.0, 13.0, 13.0, 71.0, 21.0, 4.0, 16.0], \"showlegend\": true, \"subplot\": \"polar\", \"theta\": [\"baking\", \"bananabread\", \"beans\", \"coffee\", \"cooking\", \"grocerydelivery\", \"handsanitizer\", \"mouthmask\", \"pasta\", \"restaurant\", \"rice\", \"spices\", \"takeaway\", \"to-go\", \"toiletpaper\", \"baking\"], \"type\": \"scatterpolar\"}], \"name\": \"2020-01-11\"}]);\n",
       "                        }).then(function(){\n",
       "                            \n",
       "var gd = document.getElementById('9fed64e5-c90c-4b9d-9c36-5103c7b16f15');\n",
       "var x = new MutationObserver(function (mutations, observer) {{\n",
       "        var display = window.getComputedStyle(gd).display;\n",
       "        if (!display || display === 'none') {{\n",
       "            console.log([gd, 'removed!']);\n",
       "            Plotly.purge(gd);\n",
       "            observer.disconnect();\n",
       "        }}\n",
       "}});\n",
       "\n",
       "// Listen for the removal of the full notebook cells\n",
       "var notebookContainer = gd.closest('#notebook-container');\n",
       "if (notebookContainer) {{\n",
       "    x.observe(notebookContainer, {childList: true});\n",
       "}}\n",
       "\n",
       "// Listen for the clearing of the current output cell\n",
       "var outputEl = gd.closest('.output');\n",
       "if (outputEl) {{\n",
       "    x.observe(outputEl, {childList: true});\n",
       "}}\n",
       "\n",
       "                        })\n",
       "                };\n",
       "                });\n",
       "            </script>\n",
       "        </div>"
      ]
     },
     "metadata": {},
     "output_type": "display_data"
    }
   ],
   "source": [
    "def polar_chart(country_data):\n",
    "    fig = px.line_polar(country_data, \n",
    "                        r = \"score_difference\", \n",
    "                        theta = \"term\", \n",
    "                        color = \"country\", \n",
    "                        line_close = True,\n",
    "                        line_shape = \"spline\", # or linear\n",
    "                        range_r = [min(country_data[\"score_difference\"]), max(country_data[\"score_difference\"])],\n",
    "                        render_mode = \"auto\",\n",
    "                        animation_frame = \"date_str\", \n",
    "                        title = \"Search term evolution for the Netherlands\", # \"the Netherlands\" has to be replaced by name of input\n",
    "                        width = 700,\n",
    "                        height = 700,\n",
    "                        #color_discrete_sequence = px.colors.sequential.Plasma_r\n",
    "                        )\n",
    "    fig.show()\n",
    "    \n",
    "polar_chart(nl)"
   ]
  },
  {
   "cell_type": "code",
   "execution_count": 42,
   "metadata": {},
   "outputs": [
    {
     "data": {
      "application/vnd.plotly.v1+json": {
       "config": {
        "plotlyServerURL": "https://plot.ly"
       },
       "data": [
        {
         "hovertemplate": "country=ger<br>date_str=2019-03-11<br>score_difference=%{r}<br>term=%{theta}<extra></extra>",
         "legendgroup": "ger",
         "line": {
          "color": "#636efa",
          "dash": "solid",
          "shape": "spline"
         },
         "mode": "lines",
         "name": "ger",
         "r": [
          2,
          8,
          5,
          7,
          7,
          3,
          0,
          0,
          4,
          11,
          7,
          -3,
          2,
          0,
          2
         ],
         "showlegend": true,
         "subplot": "polar",
         "theta": [
          "baking",
          "bananabread",
          "beans",
          "coffee",
          "cooking",
          "grocerydelivery",
          "handsanitizer",
          "mouthcover",
          "pasta",
          "restaurant",
          "rice",
          "spices",
          "to-go",
          "toiletpaper",
          "baking"
         ],
         "type": "scatterpolar"
        }
       ],
       "frames": [
        {
         "data": [
          {
           "hovertemplate": "country=ger<br>date_str=2019-03-11<br>score_difference=%{r}<br>term=%{theta}<extra></extra>",
           "legendgroup": "ger",
           "line": {
            "color": "#636efa",
            "dash": "solid",
            "shape": "spline"
           },
           "mode": "lines",
           "name": "ger",
           "r": [
            2,
            8,
            5,
            7,
            7,
            3,
            0,
            0,
            4,
            11,
            7,
            -3,
            2,
            0,
            2
           ],
           "showlegend": true,
           "subplot": "polar",
           "theta": [
            "baking",
            "bananabread",
            "beans",
            "coffee",
            "cooking",
            "grocerydelivery",
            "handsanitizer",
            "mouthcover",
            "pasta",
            "restaurant",
            "rice",
            "spices",
            "to-go",
            "toiletpaper",
            "baking"
           ],
           "type": "scatterpolar"
          }
         ],
         "name": "2019-03-11"
        },
        {
         "data": [
          {
           "hovertemplate": "country=ger<br>date_str=2019-10-11<br>score_difference=%{r}<br>term=%{theta}<extra></extra>",
           "legendgroup": "ger",
           "line": {
            "color": "#636efa",
            "dash": "solid",
            "shape": "spline"
           },
           "mode": "lines",
           "name": "ger",
           "r": [
            6,
            6,
            3,
            0,
            11,
            2,
            0,
            0,
            1,
            8,
            5,
            -8,
            21,
            0,
            6
           ],
           "showlegend": true,
           "subplot": "polar",
           "theta": [
            "baking",
            "bananabread",
            "beans",
            "coffee",
            "cooking",
            "grocerydelivery",
            "handsanitizer",
            "mouthcover",
            "pasta",
            "restaurant",
            "rice",
            "spices",
            "to-go",
            "toiletpaper",
            "baking"
           ],
           "type": "scatterpolar"
          }
         ],
         "name": "2019-10-11"
        },
        {
         "data": [
          {
           "hovertemplate": "country=ger<br>date_str=2019-11-17<br>score_difference=%{r}<br>term=%{theta}<extra></extra>",
           "legendgroup": "ger",
           "line": {
            "color": "#636efa",
            "dash": "solid",
            "shape": "spline"
           },
           "mode": "lines",
           "name": "ger",
           "r": [
            5,
            6,
            2,
            4,
            9,
            3,
            1,
            0,
            23,
            9,
            11,
            5,
            -4,
            0,
            5
           ],
           "showlegend": true,
           "subplot": "polar",
           "theta": [
            "baking",
            "bananabread",
            "beans",
            "coffee",
            "cooking",
            "grocerydelivery",
            "handsanitizer",
            "mouthcover",
            "pasta",
            "restaurant",
            "rice",
            "spices",
            "to-go",
            "toiletpaper",
            "baking"
           ],
           "type": "scatterpolar"
          }
         ],
         "name": "2019-11-17"
        },
        {
         "data": [
          {
           "hovertemplate": "country=ger<br>date_str=2019-11-24<br>score_difference=%{r}<br>term=%{theta}<extra></extra>",
           "legendgroup": "ger",
           "line": {
            "color": "#636efa",
            "dash": "solid",
            "shape": "spline"
           },
           "mode": "lines",
           "name": "ger",
           "r": [
            5,
            5,
            0,
            -2,
            5,
            0,
            0,
            0,
            -4,
            5,
            6,
            1,
            8,
            -1,
            5
           ],
           "showlegend": true,
           "subplot": "polar",
           "theta": [
            "baking",
            "bananabread",
            "beans",
            "coffee",
            "cooking",
            "grocerydelivery",
            "handsanitizer",
            "mouthcover",
            "pasta",
            "restaurant",
            "rice",
            "spices",
            "to-go",
            "toiletpaper",
            "baking"
           ],
           "type": "scatterpolar"
          }
         ],
         "name": "2019-11-24"
        },
        {
         "data": [
          {
           "hovertemplate": "country=ger<br>date_str=2019-01-12<br>score_difference=%{r}<br>term=%{theta}<extra></extra>",
           "legendgroup": "ger",
           "line": {
            "color": "#636efa",
            "dash": "solid",
            "shape": "spline"
           },
           "mode": "lines",
           "name": "ger",
           "r": [
            6,
            6,
            -5,
            10,
            7,
            1,
            1,
            0,
            8,
            3,
            8,
            5,
            7,
            0,
            6
           ],
           "showlegend": true,
           "subplot": "polar",
           "theta": [
            "baking",
            "bananabread",
            "beans",
            "coffee",
            "cooking",
            "grocerydelivery",
            "handsanitizer",
            "mouthcover",
            "pasta",
            "restaurant",
            "rice",
            "spices",
            "to-go",
            "toiletpaper",
            "baking"
           ],
           "type": "scatterpolar"
          }
         ],
         "name": "2019-01-12"
        },
        {
         "data": [
          {
           "hovertemplate": "country=ger<br>date_str=2019-08-12<br>score_difference=%{r}<br>term=%{theta}<extra></extra>",
           "legendgroup": "ger",
           "line": {
            "color": "#636efa",
            "dash": "solid",
            "shape": "spline"
           },
           "mode": "lines",
           "name": "ger",
           "r": [
            5,
            4,
            7,
            9,
            4,
            -1,
            0,
            0,
            0,
            3,
            13,
            5,
            3,
            1,
            5
           ],
           "showlegend": true,
           "subplot": "polar",
           "theta": [
            "baking",
            "bananabread",
            "beans",
            "coffee",
            "cooking",
            "grocerydelivery",
            "handsanitizer",
            "mouthcover",
            "pasta",
            "restaurant",
            "rice",
            "spices",
            "to-go",
            "toiletpaper",
            "baking"
           ],
           "type": "scatterpolar"
          }
         ],
         "name": "2019-08-12"
        },
        {
         "data": [
          {
           "hovertemplate": "country=ger<br>date_str=2019-12-15<br>score_difference=%{r}<br>term=%{theta}<extra></extra>",
           "legendgroup": "ger",
           "line": {
            "color": "#636efa",
            "dash": "solid",
            "shape": "spline"
           },
           "mode": "lines",
           "name": "ger",
           "r": [
            7,
            1,
            0,
            2,
            3,
            2,
            0,
            0,
            -2,
            6,
            6,
            17,
            -7,
            0,
            7
           ],
           "showlegend": true,
           "subplot": "polar",
           "theta": [
            "baking",
            "bananabread",
            "beans",
            "coffee",
            "cooking",
            "grocerydelivery",
            "handsanitizer",
            "mouthcover",
            "pasta",
            "restaurant",
            "rice",
            "spices",
            "to-go",
            "toiletpaper",
            "baking"
           ],
           "type": "scatterpolar"
          }
         ],
         "name": "2019-12-15"
        },
        {
         "data": [
          {
           "hovertemplate": "country=ger<br>date_str=2019-12-22<br>score_difference=%{r}<br>term=%{theta}<extra></extra>",
           "legendgroup": "ger",
           "line": {
            "color": "#636efa",
            "dash": "solid",
            "shape": "spline"
           },
           "mode": "lines",
           "name": "ger",
           "r": [
            7,
            3,
            -1,
            13,
            14,
            4,
            0,
            -1,
            5,
            7,
            9,
            16,
            10,
            -1,
            7
           ],
           "showlegend": true,
           "subplot": "polar",
           "theta": [
            "baking",
            "bananabread",
            "beans",
            "coffee",
            "cooking",
            "grocerydelivery",
            "handsanitizer",
            "mouthcover",
            "pasta",
            "restaurant",
            "rice",
            "spices",
            "to-go",
            "toiletpaper",
            "baking"
           ],
           "type": "scatterpolar"
          }
         ],
         "name": "2019-12-22"
        },
        {
         "data": [
          {
           "hovertemplate": "country=ger<br>date_str=2019-12-29<br>score_difference=%{r}<br>term=%{theta}<extra></extra>",
           "legendgroup": "ger",
           "line": {
            "color": "#636efa",
            "dash": "solid",
            "shape": "spline"
           },
           "mode": "lines",
           "name": "ger",
           "r": [
            3,
            7,
            2,
            4,
            6,
            -2,
            0,
            -1,
            0,
            15,
            7,
            8,
            16,
            0,
            3
           ],
           "showlegend": true,
           "subplot": "polar",
           "theta": [
            "baking",
            "bananabread",
            "beans",
            "coffee",
            "cooking",
            "grocerydelivery",
            "handsanitizer",
            "mouthcover",
            "pasta",
            "restaurant",
            "rice",
            "spices",
            "to-go",
            "toiletpaper",
            "baking"
           ],
           "type": "scatterpolar"
          }
         ],
         "name": "2019-12-29"
        },
        {
         "data": [
          {
           "hovertemplate": "country=ger<br>date_str=2020-05-01<br>score_difference=%{r}<br>term=%{theta}<extra></extra>",
           "legendgroup": "ger",
           "line": {
            "color": "#636efa",
            "dash": "solid",
            "shape": "spline"
           },
           "mode": "lines",
           "name": "ger",
           "r": [
            1,
            3,
            7,
            10,
            6,
            0,
            1,
            0,
            3,
            10,
            8,
            10,
            0,
            -3,
            1
           ],
           "showlegend": true,
           "subplot": "polar",
           "theta": [
            "baking",
            "bananabread",
            "beans",
            "coffee",
            "cooking",
            "grocerydelivery",
            "handsanitizer",
            "mouthcover",
            "pasta",
            "restaurant",
            "rice",
            "spices",
            "to-go",
            "toiletpaper",
            "baking"
           ],
           "type": "scatterpolar"
          }
         ],
         "name": "2020-05-01"
        },
        {
         "data": [
          {
           "hovertemplate": "country=ger<br>date_str=2020-12-01<br>score_difference=%{r}<br>term=%{theta}<extra></extra>",
           "legendgroup": "ger",
           "line": {
            "color": "#636efa",
            "dash": "solid",
            "shape": "spline"
           },
           "mode": "lines",
           "name": "ger",
           "r": [
            5,
            7,
            9,
            6,
            7,
            3,
            0,
            -1,
            10,
            9,
            11,
            -2,
            -11,
            -2,
            5
           ],
           "showlegend": true,
           "subplot": "polar",
           "theta": [
            "baking",
            "bananabread",
            "beans",
            "coffee",
            "cooking",
            "grocerydelivery",
            "handsanitizer",
            "mouthcover",
            "pasta",
            "restaurant",
            "rice",
            "spices",
            "to-go",
            "toiletpaper",
            "baking"
           ],
           "type": "scatterpolar"
          }
         ],
         "name": "2020-12-01"
        },
        {
         "data": [
          {
           "hovertemplate": "country=ger<br>date_str=2020-01-19<br>score_difference=%{r}<br>term=%{theta}<extra></extra>",
           "legendgroup": "ger",
           "line": {
            "color": "#636efa",
            "dash": "solid",
            "shape": "spline"
           },
           "mode": "lines",
           "name": "ger",
           "r": [
            5,
            5,
            9,
            12,
            7,
            -2,
            1,
            0,
            8,
            11,
            17,
            8,
            4,
            0,
            5
           ],
           "showlegend": true,
           "subplot": "polar",
           "theta": [
            "baking",
            "bananabread",
            "beans",
            "coffee",
            "cooking",
            "grocerydelivery",
            "handsanitizer",
            "mouthcover",
            "pasta",
            "restaurant",
            "rice",
            "spices",
            "to-go",
            "toiletpaper",
            "baking"
           ],
           "type": "scatterpolar"
          }
         ],
         "name": "2020-01-19"
        },
        {
         "data": [
          {
           "hovertemplate": "country=ger<br>date_str=2020-01-26<br>score_difference=%{r}<br>term=%{theta}<extra></extra>",
           "legendgroup": "ger",
           "line": {
            "color": "#636efa",
            "dash": "solid",
            "shape": "spline"
           },
           "mode": "lines",
           "name": "ger",
           "r": [
            5,
            6,
            3,
            -2,
            4,
            4,
            2,
            4,
            0,
            9,
            11,
            7,
            -1,
            -1,
            5
           ],
           "showlegend": true,
           "subplot": "polar",
           "theta": [
            "baking",
            "bananabread",
            "beans",
            "coffee",
            "cooking",
            "grocerydelivery",
            "handsanitizer",
            "mouthcover",
            "pasta",
            "restaurant",
            "rice",
            "spices",
            "to-go",
            "toiletpaper",
            "baking"
           ],
           "type": "scatterpolar"
          }
         ],
         "name": "2020-01-26"
        },
        {
         "data": [
          {
           "hovertemplate": "country=ger<br>date_str=2020-02-02<br>score_difference=%{r}<br>term=%{theta}<extra></extra>",
           "legendgroup": "ger",
           "line": {
            "color": "#636efa",
            "dash": "solid",
            "shape": "spline"
           },
           "mode": "lines",
           "name": "ger",
           "r": [
            5,
            6,
            7,
            8,
            5,
            0,
            2,
            2,
            0,
            2,
            9,
            -8,
            1,
            -1,
            5
           ],
           "showlegend": true,
           "subplot": "polar",
           "theta": [
            "baking",
            "bananabread",
            "beans",
            "coffee",
            "cooking",
            "grocerydelivery",
            "handsanitizer",
            "mouthcover",
            "pasta",
            "restaurant",
            "rice",
            "spices",
            "to-go",
            "toiletpaper",
            "baking"
           ],
           "type": "scatterpolar"
          }
         ],
         "name": "2020-02-02"
        },
        {
         "data": [
          {
           "hovertemplate": "country=ger<br>date_str=2020-09-02<br>score_difference=%{r}<br>term=%{theta}<extra></extra>",
           "legendgroup": "ger",
           "line": {
            "color": "#636efa",
            "dash": "solid",
            "shape": "spline"
           },
           "mode": "lines",
           "name": "ger",
           "r": [
            7,
            6,
            5,
            8,
            5,
            2,
            1,
            1,
            3,
            3,
            9,
            -1,
            9,
            0,
            7
           ],
           "showlegend": true,
           "subplot": "polar",
           "theta": [
            "baking",
            "bananabread",
            "beans",
            "coffee",
            "cooking",
            "grocerydelivery",
            "handsanitizer",
            "mouthcover",
            "pasta",
            "restaurant",
            "rice",
            "spices",
            "to-go",
            "toiletpaper",
            "baking"
           ],
           "type": "scatterpolar"
          }
         ],
         "name": "2020-09-02"
        },
        {
         "data": [
          {
           "hovertemplate": "country=ger<br>date_str=2020-02-16<br>score_difference=%{r}<br>term=%{theta}<extra></extra>",
           "legendgroup": "ger",
           "line": {
            "color": "#636efa",
            "dash": "solid",
            "shape": "spline"
           },
           "mode": "lines",
           "name": "ger",
           "r": [
            8,
            8,
            0,
            8,
            6,
            1,
            0,
            1,
            5,
            5,
            8,
            6,
            7,
            0,
            8
           ],
           "showlegend": true,
           "subplot": "polar",
           "theta": [
            "baking",
            "bananabread",
            "beans",
            "coffee",
            "cooking",
            "grocerydelivery",
            "handsanitizer",
            "mouthcover",
            "pasta",
            "restaurant",
            "rice",
            "spices",
            "to-go",
            "toiletpaper",
            "baking"
           ],
           "type": "scatterpolar"
          }
         ],
         "name": "2020-02-16"
        },
        {
         "data": [
          {
           "hovertemplate": "country=ger<br>date_str=2020-02-23<br>score_difference=%{r}<br>term=%{theta}<extra></extra>",
           "legendgroup": "ger",
           "line": {
            "color": "#636efa",
            "dash": "solid",
            "shape": "spline"
           },
           "mode": "lines",
           "name": "ger",
           "r": [
            10,
            7,
            15,
            -3,
            10,
            0,
            71,
            17,
            7,
            -2,
            21,
            1,
            -2,
            0,
            10
           ],
           "showlegend": true,
           "subplot": "polar",
           "theta": [
            "baking",
            "bananabread",
            "beans",
            "coffee",
            "cooking",
            "grocerydelivery",
            "handsanitizer",
            "mouthcover",
            "pasta",
            "restaurant",
            "rice",
            "spices",
            "to-go",
            "toiletpaper",
            "baking"
           ],
           "type": "scatterpolar"
          }
         ],
         "name": "2020-02-23"
        },
        {
         "data": [
          {
           "hovertemplate": "country=ger<br>date_str=2020-01-03<br>score_difference=%{r}<br>term=%{theta}<extra></extra>",
           "legendgroup": "ger",
           "line": {
            "color": "#636efa",
            "dash": "solid",
            "shape": "spline"
           },
           "mode": "lines",
           "name": "ger",
           "r": [
            6,
            7,
            8,
            0,
            5,
            -5,
            89,
            5,
            8,
            -7,
            13,
            6,
            -5,
            6,
            6
           ],
           "showlegend": true,
           "subplot": "polar",
           "theta": [
            "baking",
            "bananabread",
            "beans",
            "coffee",
            "cooking",
            "grocerydelivery",
            "handsanitizer",
            "mouthcover",
            "pasta",
            "restaurant",
            "rice",
            "spices",
            "to-go",
            "toiletpaper",
            "baking"
           ],
           "type": "scatterpolar"
          }
         ],
         "name": "2020-01-03"
        },
        {
         "data": [
          {
           "hovertemplate": "country=ger<br>date_str=2020-08-03<br>score_difference=%{r}<br>term=%{theta}<extra></extra>",
           "legendgroup": "ger",
           "line": {
            "color": "#636efa",
            "dash": "solid",
            "shape": "spline"
           },
           "mode": "lines",
           "name": "ger",
           "r": [
            5,
            12,
            -4,
            -15,
            -1,
            11,
            92,
            6,
            2,
            -19,
            12,
            -5,
            -13,
            18,
            5
           ],
           "showlegend": true,
           "subplot": "polar",
           "theta": [
            "baking",
            "bananabread",
            "beans",
            "coffee",
            "cooking",
            "grocerydelivery",
            "handsanitizer",
            "mouthcover",
            "pasta",
            "restaurant",
            "rice",
            "spices",
            "to-go",
            "toiletpaper",
            "baking"
           ],
           "type": "scatterpolar"
          }
         ],
         "name": "2020-08-03"
        },
        {
         "data": [
          {
           "hovertemplate": "country=ger<br>date_str=2020-03-15<br>score_difference=%{r}<br>term=%{theta}<extra></extra>",
           "legendgroup": "ger",
           "line": {
            "color": "#636efa",
            "dash": "solid",
            "shape": "spline"
           },
           "mode": "lines",
           "name": "ger",
           "r": [
            28,
            26,
            6,
            -25,
            3,
            63,
            99,
            15,
            3,
            -37,
            5,
            -11,
            0,
            98,
            28
           ],
           "showlegend": true,
           "subplot": "polar",
           "theta": [
            "baking",
            "bananabread",
            "beans",
            "coffee",
            "cooking",
            "grocerydelivery",
            "handsanitizer",
            "mouthcover",
            "pasta",
            "restaurant",
            "rice",
            "spices",
            "to-go",
            "toiletpaper",
            "baking"
           ],
           "type": "scatterpolar"
          }
         ],
         "name": "2020-03-15"
        },
        {
         "data": [
          {
           "hovertemplate": "country=ger<br>date_str=2020-03-22<br>score_difference=%{r}<br>term=%{theta}<extra></extra>",
           "legendgroup": "ger",
           "line": {
            "color": "#636efa",
            "dash": "solid",
            "shape": "spline"
           },
           "mode": "lines",
           "name": "ger",
           "r": [
            40,
            68,
            13,
            -16,
            17,
            67,
            56,
            21,
            19,
            -51,
            24,
            5,
            19,
            71,
            40
           ],
           "showlegend": true,
           "subplot": "polar",
           "theta": [
            "baking",
            "bananabread",
            "beans",
            "coffee",
            "cooking",
            "grocerydelivery",
            "handsanitizer",
            "mouthcover",
            "pasta",
            "restaurant",
            "rice",
            "spices",
            "to-go",
            "toiletpaper",
            "baking"
           ],
           "type": "scatterpolar"
          }
         ],
         "name": "2020-03-22"
        },
        {
         "data": [
          {
           "hovertemplate": "country=ger<br>date_str=2020-03-29<br>score_difference=%{r}<br>term=%{theta}<extra></extra>",
           "legendgroup": "ger",
           "line": {
            "color": "#636efa",
            "dash": "solid",
            "shape": "spline"
           },
           "mode": "lines",
           "name": "ger",
           "r": [
            48,
            86,
            9,
            0,
            25,
            84,
            32,
            32,
            19,
            -45,
            31,
            25,
            -1,
            40,
            48
           ],
           "showlegend": true,
           "subplot": "polar",
           "theta": [
            "baking",
            "bananabread",
            "beans",
            "coffee",
            "cooking",
            "grocerydelivery",
            "handsanitizer",
            "mouthcover",
            "pasta",
            "restaurant",
            "rice",
            "spices",
            "to-go",
            "toiletpaper",
            "baking"
           ],
           "type": "scatterpolar"
          }
         ],
         "name": "2020-03-29"
        },
        {
         "data": [
          {
           "hovertemplate": "country=ger<br>date_str=2020-05-04<br>score_difference=%{r}<br>term=%{theta}<extra></extra>",
           "legendgroup": "ger",
           "line": {
            "color": "#636efa",
            "dash": "solid",
            "shape": "spline"
           },
           "mode": "lines",
           "name": "ger",
           "r": [
            69,
            61,
            18,
            -5,
            41,
            60,
            19,
            26,
            22,
            -46,
            25,
            28,
            10,
            18,
            69
           ],
           "showlegend": true,
           "subplot": "polar",
           "theta": [
            "baking",
            "bananabread",
            "beans",
            "coffee",
            "cooking",
            "grocerydelivery",
            "handsanitizer",
            "mouthcover",
            "pasta",
            "restaurant",
            "rice",
            "spices",
            "to-go",
            "toiletpaper",
            "baking"
           ],
           "type": "scatterpolar"
          }
         ],
         "name": "2020-05-04"
        },
        {
         "data": [
          {
           "hovertemplate": "country=ger<br>date_str=2020-12-04<br>score_difference=%{r}<br>term=%{theta}<extra></extra>",
           "legendgroup": "ger",
           "line": {
            "color": "#636efa",
            "dash": "solid",
            "shape": "spline"
           },
           "mode": "lines",
           "name": "ger",
           "r": [
            6,
            48,
            21,
            0,
            2,
            27,
            20,
            37,
            24,
            -57,
            22,
            19,
            9,
            8,
            6
           ],
           "showlegend": true,
           "subplot": "polar",
           "theta": [
            "baking",
            "bananabread",
            "beans",
            "coffee",
            "cooking",
            "grocerydelivery",
            "handsanitizer",
            "mouthcover",
            "pasta",
            "restaurant",
            "rice",
            "spices",
            "to-go",
            "toiletpaper",
            "baking"
           ],
           "type": "scatterpolar"
          }
         ],
         "name": "2020-12-04"
        },
        {
         "data": [
          {
           "hovertemplate": "country=ger<br>date_str=2020-04-19<br>score_difference=%{r}<br>term=%{theta}<extra></extra>",
           "legendgroup": "ger",
           "line": {
            "color": "#636efa",
            "dash": "solid",
            "shape": "spline"
           },
           "mode": "lines",
           "name": "ger",
           "r": [
            19,
            40,
            10,
            6,
            17,
            28,
            37,
            96,
            14,
            -50,
            33,
            17,
            29,
            5,
            19
           ],
           "showlegend": true,
           "subplot": "polar",
           "theta": [
            "baking",
            "bananabread",
            "beans",
            "coffee",
            "cooking",
            "grocerydelivery",
            "handsanitizer",
            "mouthcover",
            "pasta",
            "restaurant",
            "rice",
            "spices",
            "to-go",
            "toiletpaper",
            "baking"
           ],
           "type": "scatterpolar"
          }
         ],
         "name": "2020-04-19"
        },
        {
         "data": [
          {
           "hovertemplate": "country=ger<br>date_str=2020-04-26<br>score_difference=%{r}<br>term=%{theta}<extra></extra>",
           "legendgroup": "ger",
           "line": {
            "color": "#636efa",
            "dash": "solid",
            "shape": "spline"
           },
           "mode": "lines",
           "name": "ger",
           "r": [
            26,
            40,
            15,
            -5,
            17,
            35,
            26,
            74,
            37,
            -45,
            29,
            22,
            26,
            1,
            26
           ],
           "showlegend": true,
           "subplot": "polar",
           "theta": [
            "baking",
            "bananabread",
            "beans",
            "coffee",
            "cooking",
            "grocerydelivery",
            "handsanitizer",
            "mouthcover",
            "pasta",
            "restaurant",
            "rice",
            "spices",
            "to-go",
            "toiletpaper",
            "baking"
           ],
           "type": "scatterpolar"
          }
         ],
         "name": "2020-04-26"
        },
        {
         "data": [
          {
           "hovertemplate": "country=ger<br>date_str=2020-03-05<br>score_difference=%{r}<br>term=%{theta}<extra></extra>",
           "legendgroup": "ger",
           "line": {
            "color": "#636efa",
            "dash": "solid",
            "shape": "spline"
           },
           "mode": "lines",
           "name": "ger",
           "r": [
            19,
            24,
            15,
            4,
            9,
            17,
            14,
            32,
            18,
            -41,
            25,
            17,
            32,
            1,
            19
           ],
           "showlegend": true,
           "subplot": "polar",
           "theta": [
            "baking",
            "bananabread",
            "beans",
            "coffee",
            "cooking",
            "grocerydelivery",
            "handsanitizer",
            "mouthcover",
            "pasta",
            "restaurant",
            "rice",
            "spices",
            "to-go",
            "toiletpaper",
            "baking"
           ],
           "type": "scatterpolar"
          }
         ],
         "name": "2020-03-05"
        },
        {
         "data": [
          {
           "hovertemplate": "country=ger<br>date_str=2020-10-05<br>score_difference=%{r}<br>term=%{theta}<extra></extra>",
           "legendgroup": "ger",
           "line": {
            "color": "#636efa",
            "dash": "solid",
            "shape": "spline"
           },
           "mode": "lines",
           "name": "ger",
           "r": [
            19,
            21,
            17,
            4,
            14,
            18,
            15,
            28,
            4,
            -25,
            26,
            16,
            23,
            2,
            19
           ],
           "showlegend": true,
           "subplot": "polar",
           "theta": [
            "baking",
            "bananabread",
            "beans",
            "coffee",
            "cooking",
            "grocerydelivery",
            "handsanitizer",
            "mouthcover",
            "pasta",
            "restaurant",
            "rice",
            "spices",
            "to-go",
            "toiletpaper",
            "baking"
           ],
           "type": "scatterpolar"
          }
         ],
         "name": "2020-10-05"
        },
        {
         "data": [
          {
           "hovertemplate": "country=ger<br>date_str=2020-05-17<br>score_difference=%{r}<br>term=%{theta}<extra></extra>",
           "legendgroup": "ger",
           "line": {
            "color": "#636efa",
            "dash": "solid",
            "shape": "spline"
           },
           "mode": "lines",
           "name": "ger",
           "r": [
            21,
            14,
            20,
            16,
            14,
            27,
            10,
            20,
            15,
            -7,
            14,
            14,
            19,
            1,
            21
           ],
           "showlegend": true,
           "subplot": "polar",
           "theta": [
            "baking",
            "bananabread",
            "beans",
            "coffee",
            "cooking",
            "grocerydelivery",
            "handsanitizer",
            "mouthcover",
            "pasta",
            "restaurant",
            "rice",
            "spices",
            "to-go",
            "toiletpaper",
            "baking"
           ],
           "type": "scatterpolar"
          }
         ],
         "name": "2020-05-17"
        },
        {
         "data": [
          {
           "hovertemplate": "country=ger<br>date_str=2020-05-24<br>score_difference=%{r}<br>term=%{theta}<extra></extra>",
           "legendgroup": "ger",
           "line": {
            "color": "#636efa",
            "dash": "solid",
            "shape": "spline"
           },
           "mode": "lines",
           "name": "ger",
           "r": [
            12,
            21,
            24,
            13,
            11,
            15,
            9,
            16,
            13,
            -17,
            23,
            15,
            11,
            1,
            12
           ],
           "showlegend": true,
           "subplot": "polar",
           "theta": [
            "baking",
            "bananabread",
            "beans",
            "coffee",
            "cooking",
            "grocerydelivery",
            "handsanitizer",
            "mouthcover",
            "pasta",
            "restaurant",
            "rice",
            "spices",
            "to-go",
            "toiletpaper",
            "baking"
           ],
           "type": "scatterpolar"
          }
         ],
         "name": "2020-05-24"
        },
        {
         "data": [
          {
           "hovertemplate": "country=ger<br>date_str=2020-05-31<br>score_difference=%{r}<br>term=%{theta}<extra></extra>",
           "legendgroup": "ger",
           "line": {
            "color": "#636efa",
            "dash": "solid",
            "shape": "spline"
           },
           "mode": "lines",
           "name": "ger",
           "r": [
            18,
            15,
            23,
            17,
            16,
            16,
            6,
            13,
            21,
            -1,
            17,
            17,
            -4,
            0,
            18
           ],
           "showlegend": true,
           "subplot": "polar",
           "theta": [
            "baking",
            "bananabread",
            "beans",
            "coffee",
            "cooking",
            "grocerydelivery",
            "handsanitizer",
            "mouthcover",
            "pasta",
            "restaurant",
            "rice",
            "spices",
            "to-go",
            "toiletpaper",
            "baking"
           ],
           "type": "scatterpolar"
          }
         ],
         "name": "2020-05-31"
        },
        {
         "data": [
          {
           "hovertemplate": "country=ger<br>date_str=2020-07-06<br>score_difference=%{r}<br>term=%{theta}<extra></extra>",
           "legendgroup": "ger",
           "line": {
            "color": "#636efa",
            "dash": "solid",
            "shape": "spline"
           },
           "mode": "lines",
           "name": "ger",
           "r": [
            17,
            11,
            12,
            15,
            12,
            9,
            5,
            12,
            12,
            -3,
            32,
            11,
            14,
            1,
            17
           ],
           "showlegend": true,
           "subplot": "polar",
           "theta": [
            "baking",
            "bananabread",
            "beans",
            "coffee",
            "cooking",
            "grocerydelivery",
            "handsanitizer",
            "mouthcover",
            "pasta",
            "restaurant",
            "rice",
            "spices",
            "to-go",
            "toiletpaper",
            "baking"
           ],
           "type": "scatterpolar"
          }
         ],
         "name": "2020-07-06"
        },
        {
         "data": [
          {
           "hovertemplate": "country=ger<br>date_str=2020-06-14<br>score_difference=%{r}<br>term=%{theta}<extra></extra>",
           "legendgroup": "ger",
           "line": {
            "color": "#636efa",
            "dash": "solid",
            "shape": "spline"
           },
           "mode": "lines",
           "name": "ger",
           "r": [
            14,
            15,
            21,
            12,
            10,
            17,
            5,
            12,
            10,
            -8,
            28,
            21,
            -10,
            1,
            14
           ],
           "showlegend": true,
           "subplot": "polar",
           "theta": [
            "baking",
            "bananabread",
            "beans",
            "coffee",
            "cooking",
            "grocerydelivery",
            "handsanitizer",
            "mouthcover",
            "pasta",
            "restaurant",
            "rice",
            "spices",
            "to-go",
            "toiletpaper",
            "baking"
           ],
           "type": "scatterpolar"
          }
         ],
         "name": "2020-06-14"
        },
        {
         "data": [
          {
           "hovertemplate": "country=ger<br>date_str=2020-06-21<br>score_difference=%{r}<br>term=%{theta}<extra></extra>",
           "legendgroup": "ger",
           "line": {
            "color": "#636efa",
            "dash": "solid",
            "shape": "spline"
           },
           "mode": "lines",
           "name": "ger",
           "r": [
            11,
            8,
            12,
            23,
            12,
            8,
            3,
            10,
            9,
            5,
            24,
            15,
            -4,
            0,
            11
           ],
           "showlegend": true,
           "subplot": "polar",
           "theta": [
            "baking",
            "bananabread",
            "beans",
            "coffee",
            "cooking",
            "grocerydelivery",
            "handsanitizer",
            "mouthcover",
            "pasta",
            "restaurant",
            "rice",
            "spices",
            "to-go",
            "toiletpaper",
            "baking"
           ],
           "type": "scatterpolar"
          }
         ],
         "name": "2020-06-21"
        },
        {
         "data": [
          {
           "hovertemplate": "country=ger<br>date_str=2020-06-28<br>score_difference=%{r}<br>term=%{theta}<extra></extra>",
           "legendgroup": "ger",
           "line": {
            "color": "#636efa",
            "dash": "solid",
            "shape": "spline"
           },
           "mode": "lines",
           "name": "ger",
           "r": [
            13,
            16,
            10,
            15,
            11,
            9,
            4,
            11,
            11,
            6,
            21,
            14,
            7,
            0,
            13
           ],
           "showlegend": true,
           "subplot": "polar",
           "theta": [
            "baking",
            "bananabread",
            "beans",
            "coffee",
            "cooking",
            "grocerydelivery",
            "handsanitizer",
            "mouthcover",
            "pasta",
            "restaurant",
            "rice",
            "spices",
            "to-go",
            "toiletpaper",
            "baking"
           ],
           "type": "scatterpolar"
          }
         ],
         "name": "2020-06-28"
        },
        {
         "data": [
          {
           "hovertemplate": "country=ger<br>date_str=2020-05-07<br>score_difference=%{r}<br>term=%{theta}<extra></extra>",
           "legendgroup": "ger",
           "line": {
            "color": "#636efa",
            "dash": "solid",
            "shape": "spline"
           },
           "mode": "lines",
           "name": "ger",
           "r": [
            10,
            12,
            11,
            13,
            7,
            8,
            4,
            12,
            18,
            8,
            26,
            24,
            9,
            1,
            10
           ],
           "showlegend": true,
           "subplot": "polar",
           "theta": [
            "baking",
            "bananabread",
            "beans",
            "coffee",
            "cooking",
            "grocerydelivery",
            "handsanitizer",
            "mouthcover",
            "pasta",
            "restaurant",
            "rice",
            "spices",
            "to-go",
            "toiletpaper",
            "baking"
           ],
           "type": "scatterpolar"
          }
         ],
         "name": "2020-05-07"
        },
        {
         "data": [
          {
           "hovertemplate": "country=ger<br>date_str=2020-12-07<br>score_difference=%{r}<br>term=%{theta}<extra></extra>",
           "legendgroup": "ger",
           "line": {
            "color": "#636efa",
            "dash": "solid",
            "shape": "spline"
           },
           "mode": "lines",
           "name": "ger",
           "r": [
            8,
            9,
            19,
            9,
            8,
            9,
            2,
            14,
            24,
            10,
            22,
            3,
            11,
            0,
            8
           ],
           "showlegend": true,
           "subplot": "polar",
           "theta": [
            "baking",
            "bananabread",
            "beans",
            "coffee",
            "cooking",
            "grocerydelivery",
            "handsanitizer",
            "mouthcover",
            "pasta",
            "restaurant",
            "rice",
            "spices",
            "to-go",
            "toiletpaper",
            "baking"
           ],
           "type": "scatterpolar"
          }
         ],
         "name": "2020-12-07"
        },
        {
         "data": [
          {
           "hovertemplate": "country=ger<br>date_str=2020-07-19<br>score_difference=%{r}<br>term=%{theta}<extra></extra>",
           "legendgroup": "ger",
           "line": {
            "color": "#636efa",
            "dash": "solid",
            "shape": "spline"
           },
           "mode": "lines",
           "name": "ger",
           "r": [
            8,
            8,
            24,
            15,
            8,
            11,
            2,
            12,
            16,
            16,
            21,
            20,
            2,
            0,
            8
           ],
           "showlegend": true,
           "subplot": "polar",
           "theta": [
            "baking",
            "bananabread",
            "beans",
            "coffee",
            "cooking",
            "grocerydelivery",
            "handsanitizer",
            "mouthcover",
            "pasta",
            "restaurant",
            "rice",
            "spices",
            "to-go",
            "toiletpaper",
            "baking"
           ],
           "type": "scatterpolar"
          }
         ],
         "name": "2020-07-19"
        },
        {
         "data": [
          {
           "hovertemplate": "country=ger<br>date_str=2020-07-26<br>score_difference=%{r}<br>term=%{theta}<extra></extra>",
           "legendgroup": "ger",
           "line": {
            "color": "#636efa",
            "dash": "solid",
            "shape": "spline"
           },
           "mode": "lines",
           "name": "ger",
           "r": [
            6,
            6,
            22,
            12,
            7,
            7,
            2,
            13,
            14,
            10,
            11,
            17,
            16,
            0,
            6
           ],
           "showlegend": true,
           "subplot": "polar",
           "theta": [
            "baking",
            "bananabread",
            "beans",
            "coffee",
            "cooking",
            "grocerydelivery",
            "handsanitizer",
            "mouthcover",
            "pasta",
            "restaurant",
            "rice",
            "spices",
            "to-go",
            "toiletpaper",
            "baking"
           ],
           "type": "scatterpolar"
          }
         ],
         "name": "2020-07-26"
        },
        {
         "data": [
          {
           "hovertemplate": "country=ger<br>date_str=2020-02-08<br>score_difference=%{r}<br>term=%{theta}<extra></extra>",
           "legendgroup": "ger",
           "line": {
            "color": "#636efa",
            "dash": "solid",
            "shape": "spline"
           },
           "mode": "lines",
           "name": "ger",
           "r": [
            4,
            7,
            24,
            6,
            4,
            12,
            5,
            17,
            4,
            6,
            10,
            17,
            21,
            0,
            4
           ],
           "showlegend": true,
           "subplot": "polar",
           "theta": [
            "baking",
            "bananabread",
            "beans",
            "coffee",
            "cooking",
            "grocerydelivery",
            "handsanitizer",
            "mouthcover",
            "pasta",
            "restaurant",
            "rice",
            "spices",
            "to-go",
            "toiletpaper",
            "baking"
           ],
           "type": "scatterpolar"
          }
         ],
         "name": "2020-02-08"
        },
        {
         "data": [
          {
           "hovertemplate": "country=ger<br>date_str=2020-09-08<br>score_difference=%{r}<br>term=%{theta}<extra></extra>",
           "legendgroup": "ger",
           "line": {
            "color": "#636efa",
            "dash": "solid",
            "shape": "spline"
           },
           "mode": "lines",
           "name": "ger",
           "r": [
            3,
            2,
            13,
            0,
            0,
            10,
            5,
            18,
            3,
            8,
            8,
            5,
            27,
            0,
            3
           ],
           "showlegend": true,
           "subplot": "polar",
           "theta": [
            "baking",
            "bananabread",
            "beans",
            "coffee",
            "cooking",
            "grocerydelivery",
            "handsanitizer",
            "mouthcover",
            "pasta",
            "restaurant",
            "rice",
            "spices",
            "to-go",
            "toiletpaper",
            "baking"
           ],
           "type": "scatterpolar"
          }
         ],
         "name": "2020-09-08"
        },
        {
         "data": [
          {
           "hovertemplate": "country=ger<br>date_str=2020-08-16<br>score_difference=%{r}<br>term=%{theta}<extra></extra>",
           "legendgroup": "ger",
           "line": {
            "color": "#636efa",
            "dash": "solid",
            "shape": "spline"
           },
           "mode": "lines",
           "name": "ger",
           "r": [
            4,
            1,
            23,
            9,
            3,
            10,
            4,
            20,
            5,
            17,
            22,
            10,
            13,
            -1,
            4
           ],
           "showlegend": true,
           "subplot": "polar",
           "theta": [
            "baking",
            "bananabread",
            "beans",
            "coffee",
            "cooking",
            "grocerydelivery",
            "handsanitizer",
            "mouthcover",
            "pasta",
            "restaurant",
            "rice",
            "spices",
            "to-go",
            "toiletpaper",
            "baking"
           ],
           "type": "scatterpolar"
          }
         ],
         "name": "2020-08-16"
        },
        {
         "data": [
          {
           "hovertemplate": "country=ger<br>date_str=2020-08-23<br>score_difference=%{r}<br>term=%{theta}<extra></extra>",
           "legendgroup": "ger",
           "line": {
            "color": "#636efa",
            "dash": "solid",
            "shape": "spline"
           },
           "mode": "lines",
           "name": "ger",
           "r": [
            10,
            11,
            20,
            21,
            9,
            16,
            4,
            20,
            19,
            19,
            22,
            16,
            14,
            0,
            10
           ],
           "showlegend": true,
           "subplot": "polar",
           "theta": [
            "baking",
            "bananabread",
            "beans",
            "coffee",
            "cooking",
            "grocerydelivery",
            "handsanitizer",
            "mouthcover",
            "pasta",
            "restaurant",
            "rice",
            "spices",
            "to-go",
            "toiletpaper",
            "baking"
           ],
           "type": "scatterpolar"
          }
         ],
         "name": "2020-08-23"
        },
        {
         "data": [
          {
           "hovertemplate": "country=ger<br>date_str=2020-08-30<br>score_difference=%{r}<br>term=%{theta}<extra></extra>",
           "legendgroup": "ger",
           "line": {
            "color": "#636efa",
            "dash": "solid",
            "shape": "spline"
           },
           "mode": "lines",
           "name": "ger",
           "r": [
            -1,
            4,
            3,
            9,
            3,
            9,
            4,
            17,
            22,
            11,
            17,
            20,
            4,
            0,
            -1
           ],
           "showlegend": true,
           "subplot": "polar",
           "theta": [
            "baking",
            "bananabread",
            "beans",
            "coffee",
            "cooking",
            "grocerydelivery",
            "handsanitizer",
            "mouthcover",
            "pasta",
            "restaurant",
            "rice",
            "spices",
            "to-go",
            "toiletpaper",
            "baking"
           ],
           "type": "scatterpolar"
          }
         ],
         "name": "2020-08-30"
        },
        {
         "data": [
          {
           "hovertemplate": "country=ger<br>date_str=2020-06-09<br>score_difference=%{r}<br>term=%{theta}<extra></extra>",
           "legendgroup": "ger",
           "line": {
            "color": "#636efa",
            "dash": "solid",
            "shape": "spline"
           },
           "mode": "lines",
           "name": "ger",
           "r": [
            -2,
            7,
            0,
            15,
            6,
            7,
            3,
            15,
            6,
            16,
            12,
            14,
            9,
            0,
            -2
           ],
           "showlegend": true,
           "subplot": "polar",
           "theta": [
            "baking",
            "bananabread",
            "beans",
            "coffee",
            "cooking",
            "grocerydelivery",
            "handsanitizer",
            "mouthcover",
            "pasta",
            "restaurant",
            "rice",
            "spices",
            "to-go",
            "toiletpaper",
            "baking"
           ],
           "type": "scatterpolar"
          }
         ],
         "name": "2020-06-09"
        },
        {
         "data": [
          {
           "hovertemplate": "country=ger<br>date_str=2020-09-13<br>score_difference=%{r}<br>term=%{theta}<extra></extra>",
           "legendgroup": "ger",
           "line": {
            "color": "#636efa",
            "dash": "solid",
            "shape": "spline"
           },
           "mode": "lines",
           "name": "ger",
           "r": [
            -5,
            5,
            2,
            9,
            1,
            5,
            4,
            14,
            1,
            11,
            15,
            5,
            7,
            0,
            -5
           ],
           "showlegend": true,
           "subplot": "polar",
           "theta": [
            "baking",
            "bananabread",
            "beans",
            "coffee",
            "cooking",
            "grocerydelivery",
            "handsanitizer",
            "mouthcover",
            "pasta",
            "restaurant",
            "rice",
            "spices",
            "to-go",
            "toiletpaper",
            "baking"
           ],
           "type": "scatterpolar"
          }
         ],
         "name": "2020-09-13"
        },
        {
         "data": [
          {
           "hovertemplate": "country=ger<br>date_str=2020-09-20<br>score_difference=%{r}<br>term=%{theta}<extra></extra>",
           "legendgroup": "ger",
           "line": {
            "color": "#636efa",
            "dash": "solid",
            "shape": "spline"
           },
           "mode": "lines",
           "name": "ger",
           "r": [
            -6,
            4,
            6,
            8,
            4,
            10,
            3,
            14,
            8,
            11,
            17,
            13,
            10,
            0,
            -6
           ],
           "showlegend": true,
           "subplot": "polar",
           "theta": [
            "baking",
            "bananabread",
            "beans",
            "coffee",
            "cooking",
            "grocerydelivery",
            "handsanitizer",
            "mouthcover",
            "pasta",
            "restaurant",
            "rice",
            "spices",
            "to-go",
            "toiletpaper",
            "baking"
           ],
           "type": "scatterpolar"
          }
         ],
         "name": "2020-09-20"
        },
        {
         "data": [
          {
           "hovertemplate": "country=ger<br>date_str=2020-09-27<br>score_difference=%{r}<br>term=%{theta}<extra></extra>",
           "legendgroup": "ger",
           "line": {
            "color": "#636efa",
            "dash": "solid",
            "shape": "spline"
           },
           "mode": "lines",
           "name": "ger",
           "r": [
            -8,
            2,
            12,
            1,
            -1,
            7,
            4,
            17,
            5,
            -5,
            10,
            21,
            22,
            0,
            -8
           ],
           "showlegend": true,
           "subplot": "polar",
           "theta": [
            "baking",
            "bananabread",
            "beans",
            "coffee",
            "cooking",
            "grocerydelivery",
            "handsanitizer",
            "mouthcover",
            "pasta",
            "restaurant",
            "rice",
            "spices",
            "to-go",
            "toiletpaper",
            "baking"
           ],
           "type": "scatterpolar"
          }
         ],
         "name": "2020-09-27"
        },
        {
         "data": [
          {
           "hovertemplate": "country=ger<br>date_str=2020-04-10<br>score_difference=%{r}<br>term=%{theta}<extra></extra>",
           "legendgroup": "ger",
           "line": {
            "color": "#636efa",
            "dash": "solid",
            "shape": "spline"
           },
           "mode": "lines",
           "name": "ger",
           "r": [
            -5,
            8,
            4,
            3,
            -2,
            2,
            2,
            20,
            11,
            2,
            10,
            13,
            10,
            0,
            -5
           ],
           "showlegend": true,
           "subplot": "polar",
           "theta": [
            "baking",
            "bananabread",
            "beans",
            "coffee",
            "cooking",
            "grocerydelivery",
            "handsanitizer",
            "mouthcover",
            "pasta",
            "restaurant",
            "rice",
            "spices",
            "to-go",
            "toiletpaper",
            "baking"
           ],
           "type": "scatterpolar"
          }
         ],
         "name": "2020-04-10"
        },
        {
         "data": [
          {
           "hovertemplate": "country=ger<br>date_str=2020-11-10<br>score_difference=%{r}<br>term=%{theta}<extra></extra>",
           "legendgroup": "ger",
           "line": {
            "color": "#636efa",
            "dash": "solid",
            "shape": "spline"
           },
           "mode": "lines",
           "name": "ger",
           "r": [
            -7,
            6,
            15,
            9,
            7,
            15,
            3,
            26,
            22,
            -6,
            10,
            20,
            14,
            4,
            -7
           ],
           "showlegend": true,
           "subplot": "polar",
           "theta": [
            "baking",
            "bananabread",
            "beans",
            "coffee",
            "cooking",
            "grocerydelivery",
            "handsanitizer",
            "mouthcover",
            "pasta",
            "restaurant",
            "rice",
            "spices",
            "to-go",
            "toiletpaper",
            "baking"
           ],
           "type": "scatterpolar"
          }
         ],
         "name": "2020-11-10"
        },
        {
         "data": [
          {
           "hovertemplate": "country=ger<br>date_str=2020-10-18<br>score_difference=%{r}<br>term=%{theta}<extra></extra>",
           "legendgroup": "ger",
           "line": {
            "color": "#636efa",
            "dash": "solid",
            "shape": "spline"
           },
           "mode": "lines",
           "name": "ger",
           "r": [
            -13,
            10,
            11,
            10,
            6,
            16,
            4,
            34,
            8,
            -14,
            14,
            28,
            9,
            12,
            -13
           ],
           "showlegend": true,
           "subplot": "polar",
           "theta": [
            "baking",
            "bananabread",
            "beans",
            "coffee",
            "cooking",
            "grocerydelivery",
            "handsanitizer",
            "mouthcover",
            "pasta",
            "restaurant",
            "rice",
            "spices",
            "to-go",
            "toiletpaper",
            "baking"
           ],
           "type": "scatterpolar"
          }
         ],
         "name": "2020-10-18"
        },
        {
         "data": [
          {
           "hovertemplate": "country=ger<br>date_str=2020-10-25<br>score_difference=%{r}<br>term=%{theta}<extra></extra>",
           "legendgroup": "ger",
           "line": {
            "color": "#636efa",
            "dash": "solid",
            "shape": "spline"
           },
           "mode": "lines",
           "name": "ger",
           "r": [
            0,
            16,
            10,
            -3,
            3,
            9,
            4,
            44,
            10,
            -23,
            9,
            19,
            24,
            4,
            0
           ],
           "showlegend": true,
           "subplot": "polar",
           "theta": [
            "baking",
            "bananabread",
            "beans",
            "coffee",
            "cooking",
            "grocerydelivery",
            "handsanitizer",
            "mouthcover",
            "pasta",
            "restaurant",
            "rice",
            "spices",
            "to-go",
            "toiletpaper",
            "baking"
           ],
           "type": "scatterpolar"
          }
         ],
         "name": "2020-10-25"
        },
        {
         "data": [
          {
           "hovertemplate": "country=ger<br>date_str=2020-01-11<br>score_difference=%{r}<br>term=%{theta}<extra></extra>",
           "legendgroup": "ger",
           "line": {
            "color": "#636efa",
            "dash": "solid",
            "shape": "spline"
           },
           "mode": "lines",
           "name": "ger",
           "r": [
            9,
            11,
            5,
            -15,
            1,
            23,
            4,
            31,
            8,
            -50,
            8,
            15,
            63,
            1,
            9
           ],
           "showlegend": true,
           "subplot": "polar",
           "theta": [
            "baking",
            "bananabread",
            "beans",
            "coffee",
            "cooking",
            "grocerydelivery",
            "handsanitizer",
            "mouthcover",
            "pasta",
            "restaurant",
            "rice",
            "spices",
            "to-go",
            "toiletpaper",
            "baking"
           ],
           "type": "scatterpolar"
          }
         ],
         "name": "2020-01-11"
        }
       ],
       "layout": {
        "height": 700,
        "legend": {
         "title": {
          "text": "country"
         },
         "tracegroupgap": 0
        },
        "polar": {
         "angularaxis": {
          "direction": "clockwise",
          "rotation": 90
         },
         "domain": {
          "x": [
           0,
           1
          ],
          "y": [
           0,
           1
          ]
         },
         "radialaxis": {
          "range": [
           -57,
           99
          ]
         }
        },
        "sliders": [
         {
          "active": 0,
          "currentvalue": {
           "prefix": "date_str="
          },
          "len": 0.9,
          "pad": {
           "b": 10,
           "t": 60
          },
          "steps": [
           {
            "args": [
             [
              "2019-03-11"
             ],
             {
              "frame": {
               "duration": 0,
               "redraw": true
              },
              "fromcurrent": true,
              "mode": "immediate",
              "transition": {
               "duration": 0,
               "easing": "linear"
              }
             }
            ],
            "label": "2019-03-11",
            "method": "animate"
           },
           {
            "args": [
             [
              "2019-10-11"
             ],
             {
              "frame": {
               "duration": 0,
               "redraw": true
              },
              "fromcurrent": true,
              "mode": "immediate",
              "transition": {
               "duration": 0,
               "easing": "linear"
              }
             }
            ],
            "label": "2019-10-11",
            "method": "animate"
           },
           {
            "args": [
             [
              "2019-11-17"
             ],
             {
              "frame": {
               "duration": 0,
               "redraw": true
              },
              "fromcurrent": true,
              "mode": "immediate",
              "transition": {
               "duration": 0,
               "easing": "linear"
              }
             }
            ],
            "label": "2019-11-17",
            "method": "animate"
           },
           {
            "args": [
             [
              "2019-11-24"
             ],
             {
              "frame": {
               "duration": 0,
               "redraw": true
              },
              "fromcurrent": true,
              "mode": "immediate",
              "transition": {
               "duration": 0,
               "easing": "linear"
              }
             }
            ],
            "label": "2019-11-24",
            "method": "animate"
           },
           {
            "args": [
             [
              "2019-01-12"
             ],
             {
              "frame": {
               "duration": 0,
               "redraw": true
              },
              "fromcurrent": true,
              "mode": "immediate",
              "transition": {
               "duration": 0,
               "easing": "linear"
              }
             }
            ],
            "label": "2019-01-12",
            "method": "animate"
           },
           {
            "args": [
             [
              "2019-08-12"
             ],
             {
              "frame": {
               "duration": 0,
               "redraw": true
              },
              "fromcurrent": true,
              "mode": "immediate",
              "transition": {
               "duration": 0,
               "easing": "linear"
              }
             }
            ],
            "label": "2019-08-12",
            "method": "animate"
           },
           {
            "args": [
             [
              "2019-12-15"
             ],
             {
              "frame": {
               "duration": 0,
               "redraw": true
              },
              "fromcurrent": true,
              "mode": "immediate",
              "transition": {
               "duration": 0,
               "easing": "linear"
              }
             }
            ],
            "label": "2019-12-15",
            "method": "animate"
           },
           {
            "args": [
             [
              "2019-12-22"
             ],
             {
              "frame": {
               "duration": 0,
               "redraw": true
              },
              "fromcurrent": true,
              "mode": "immediate",
              "transition": {
               "duration": 0,
               "easing": "linear"
              }
             }
            ],
            "label": "2019-12-22",
            "method": "animate"
           },
           {
            "args": [
             [
              "2019-12-29"
             ],
             {
              "frame": {
               "duration": 0,
               "redraw": true
              },
              "fromcurrent": true,
              "mode": "immediate",
              "transition": {
               "duration": 0,
               "easing": "linear"
              }
             }
            ],
            "label": "2019-12-29",
            "method": "animate"
           },
           {
            "args": [
             [
              "2020-05-01"
             ],
             {
              "frame": {
               "duration": 0,
               "redraw": true
              },
              "fromcurrent": true,
              "mode": "immediate",
              "transition": {
               "duration": 0,
               "easing": "linear"
              }
             }
            ],
            "label": "2020-05-01",
            "method": "animate"
           },
           {
            "args": [
             [
              "2020-12-01"
             ],
             {
              "frame": {
               "duration": 0,
               "redraw": true
              },
              "fromcurrent": true,
              "mode": "immediate",
              "transition": {
               "duration": 0,
               "easing": "linear"
              }
             }
            ],
            "label": "2020-12-01",
            "method": "animate"
           },
           {
            "args": [
             [
              "2020-01-19"
             ],
             {
              "frame": {
               "duration": 0,
               "redraw": true
              },
              "fromcurrent": true,
              "mode": "immediate",
              "transition": {
               "duration": 0,
               "easing": "linear"
              }
             }
            ],
            "label": "2020-01-19",
            "method": "animate"
           },
           {
            "args": [
             [
              "2020-01-26"
             ],
             {
              "frame": {
               "duration": 0,
               "redraw": true
              },
              "fromcurrent": true,
              "mode": "immediate",
              "transition": {
               "duration": 0,
               "easing": "linear"
              }
             }
            ],
            "label": "2020-01-26",
            "method": "animate"
           },
           {
            "args": [
             [
              "2020-02-02"
             ],
             {
              "frame": {
               "duration": 0,
               "redraw": true
              },
              "fromcurrent": true,
              "mode": "immediate",
              "transition": {
               "duration": 0,
               "easing": "linear"
              }
             }
            ],
            "label": "2020-02-02",
            "method": "animate"
           },
           {
            "args": [
             [
              "2020-09-02"
             ],
             {
              "frame": {
               "duration": 0,
               "redraw": true
              },
              "fromcurrent": true,
              "mode": "immediate",
              "transition": {
               "duration": 0,
               "easing": "linear"
              }
             }
            ],
            "label": "2020-09-02",
            "method": "animate"
           },
           {
            "args": [
             [
              "2020-02-16"
             ],
             {
              "frame": {
               "duration": 0,
               "redraw": true
              },
              "fromcurrent": true,
              "mode": "immediate",
              "transition": {
               "duration": 0,
               "easing": "linear"
              }
             }
            ],
            "label": "2020-02-16",
            "method": "animate"
           },
           {
            "args": [
             [
              "2020-02-23"
             ],
             {
              "frame": {
               "duration": 0,
               "redraw": true
              },
              "fromcurrent": true,
              "mode": "immediate",
              "transition": {
               "duration": 0,
               "easing": "linear"
              }
             }
            ],
            "label": "2020-02-23",
            "method": "animate"
           },
           {
            "args": [
             [
              "2020-01-03"
             ],
             {
              "frame": {
               "duration": 0,
               "redraw": true
              },
              "fromcurrent": true,
              "mode": "immediate",
              "transition": {
               "duration": 0,
               "easing": "linear"
              }
             }
            ],
            "label": "2020-01-03",
            "method": "animate"
           },
           {
            "args": [
             [
              "2020-08-03"
             ],
             {
              "frame": {
               "duration": 0,
               "redraw": true
              },
              "fromcurrent": true,
              "mode": "immediate",
              "transition": {
               "duration": 0,
               "easing": "linear"
              }
             }
            ],
            "label": "2020-08-03",
            "method": "animate"
           },
           {
            "args": [
             [
              "2020-03-15"
             ],
             {
              "frame": {
               "duration": 0,
               "redraw": true
              },
              "fromcurrent": true,
              "mode": "immediate",
              "transition": {
               "duration": 0,
               "easing": "linear"
              }
             }
            ],
            "label": "2020-03-15",
            "method": "animate"
           },
           {
            "args": [
             [
              "2020-03-22"
             ],
             {
              "frame": {
               "duration": 0,
               "redraw": true
              },
              "fromcurrent": true,
              "mode": "immediate",
              "transition": {
               "duration": 0,
               "easing": "linear"
              }
             }
            ],
            "label": "2020-03-22",
            "method": "animate"
           },
           {
            "args": [
             [
              "2020-03-29"
             ],
             {
              "frame": {
               "duration": 0,
               "redraw": true
              },
              "fromcurrent": true,
              "mode": "immediate",
              "transition": {
               "duration": 0,
               "easing": "linear"
              }
             }
            ],
            "label": "2020-03-29",
            "method": "animate"
           },
           {
            "args": [
             [
              "2020-05-04"
             ],
             {
              "frame": {
               "duration": 0,
               "redraw": true
              },
              "fromcurrent": true,
              "mode": "immediate",
              "transition": {
               "duration": 0,
               "easing": "linear"
              }
             }
            ],
            "label": "2020-05-04",
            "method": "animate"
           },
           {
            "args": [
             [
              "2020-12-04"
             ],
             {
              "frame": {
               "duration": 0,
               "redraw": true
              },
              "fromcurrent": true,
              "mode": "immediate",
              "transition": {
               "duration": 0,
               "easing": "linear"
              }
             }
            ],
            "label": "2020-12-04",
            "method": "animate"
           },
           {
            "args": [
             [
              "2020-04-19"
             ],
             {
              "frame": {
               "duration": 0,
               "redraw": true
              },
              "fromcurrent": true,
              "mode": "immediate",
              "transition": {
               "duration": 0,
               "easing": "linear"
              }
             }
            ],
            "label": "2020-04-19",
            "method": "animate"
           },
           {
            "args": [
             [
              "2020-04-26"
             ],
             {
              "frame": {
               "duration": 0,
               "redraw": true
              },
              "fromcurrent": true,
              "mode": "immediate",
              "transition": {
               "duration": 0,
               "easing": "linear"
              }
             }
            ],
            "label": "2020-04-26",
            "method": "animate"
           },
           {
            "args": [
             [
              "2020-03-05"
             ],
             {
              "frame": {
               "duration": 0,
               "redraw": true
              },
              "fromcurrent": true,
              "mode": "immediate",
              "transition": {
               "duration": 0,
               "easing": "linear"
              }
             }
            ],
            "label": "2020-03-05",
            "method": "animate"
           },
           {
            "args": [
             [
              "2020-10-05"
             ],
             {
              "frame": {
               "duration": 0,
               "redraw": true
              },
              "fromcurrent": true,
              "mode": "immediate",
              "transition": {
               "duration": 0,
               "easing": "linear"
              }
             }
            ],
            "label": "2020-10-05",
            "method": "animate"
           },
           {
            "args": [
             [
              "2020-05-17"
             ],
             {
              "frame": {
               "duration": 0,
               "redraw": true
              },
              "fromcurrent": true,
              "mode": "immediate",
              "transition": {
               "duration": 0,
               "easing": "linear"
              }
             }
            ],
            "label": "2020-05-17",
            "method": "animate"
           },
           {
            "args": [
             [
              "2020-05-24"
             ],
             {
              "frame": {
               "duration": 0,
               "redraw": true
              },
              "fromcurrent": true,
              "mode": "immediate",
              "transition": {
               "duration": 0,
               "easing": "linear"
              }
             }
            ],
            "label": "2020-05-24",
            "method": "animate"
           },
           {
            "args": [
             [
              "2020-05-31"
             ],
             {
              "frame": {
               "duration": 0,
               "redraw": true
              },
              "fromcurrent": true,
              "mode": "immediate",
              "transition": {
               "duration": 0,
               "easing": "linear"
              }
             }
            ],
            "label": "2020-05-31",
            "method": "animate"
           },
           {
            "args": [
             [
              "2020-07-06"
             ],
             {
              "frame": {
               "duration": 0,
               "redraw": true
              },
              "fromcurrent": true,
              "mode": "immediate",
              "transition": {
               "duration": 0,
               "easing": "linear"
              }
             }
            ],
            "label": "2020-07-06",
            "method": "animate"
           },
           {
            "args": [
             [
              "2020-06-14"
             ],
             {
              "frame": {
               "duration": 0,
               "redraw": true
              },
              "fromcurrent": true,
              "mode": "immediate",
              "transition": {
               "duration": 0,
               "easing": "linear"
              }
             }
            ],
            "label": "2020-06-14",
            "method": "animate"
           },
           {
            "args": [
             [
              "2020-06-21"
             ],
             {
              "frame": {
               "duration": 0,
               "redraw": true
              },
              "fromcurrent": true,
              "mode": "immediate",
              "transition": {
               "duration": 0,
               "easing": "linear"
              }
             }
            ],
            "label": "2020-06-21",
            "method": "animate"
           },
           {
            "args": [
             [
              "2020-06-28"
             ],
             {
              "frame": {
               "duration": 0,
               "redraw": true
              },
              "fromcurrent": true,
              "mode": "immediate",
              "transition": {
               "duration": 0,
               "easing": "linear"
              }
             }
            ],
            "label": "2020-06-28",
            "method": "animate"
           },
           {
            "args": [
             [
              "2020-05-07"
             ],
             {
              "frame": {
               "duration": 0,
               "redraw": true
              },
              "fromcurrent": true,
              "mode": "immediate",
              "transition": {
               "duration": 0,
               "easing": "linear"
              }
             }
            ],
            "label": "2020-05-07",
            "method": "animate"
           },
           {
            "args": [
             [
              "2020-12-07"
             ],
             {
              "frame": {
               "duration": 0,
               "redraw": true
              },
              "fromcurrent": true,
              "mode": "immediate",
              "transition": {
               "duration": 0,
               "easing": "linear"
              }
             }
            ],
            "label": "2020-12-07",
            "method": "animate"
           },
           {
            "args": [
             [
              "2020-07-19"
             ],
             {
              "frame": {
               "duration": 0,
               "redraw": true
              },
              "fromcurrent": true,
              "mode": "immediate",
              "transition": {
               "duration": 0,
               "easing": "linear"
              }
             }
            ],
            "label": "2020-07-19",
            "method": "animate"
           },
           {
            "args": [
             [
              "2020-07-26"
             ],
             {
              "frame": {
               "duration": 0,
               "redraw": true
              },
              "fromcurrent": true,
              "mode": "immediate",
              "transition": {
               "duration": 0,
               "easing": "linear"
              }
             }
            ],
            "label": "2020-07-26",
            "method": "animate"
           },
           {
            "args": [
             [
              "2020-02-08"
             ],
             {
              "frame": {
               "duration": 0,
               "redraw": true
              },
              "fromcurrent": true,
              "mode": "immediate",
              "transition": {
               "duration": 0,
               "easing": "linear"
              }
             }
            ],
            "label": "2020-02-08",
            "method": "animate"
           },
           {
            "args": [
             [
              "2020-09-08"
             ],
             {
              "frame": {
               "duration": 0,
               "redraw": true
              },
              "fromcurrent": true,
              "mode": "immediate",
              "transition": {
               "duration": 0,
               "easing": "linear"
              }
             }
            ],
            "label": "2020-09-08",
            "method": "animate"
           },
           {
            "args": [
             [
              "2020-08-16"
             ],
             {
              "frame": {
               "duration": 0,
               "redraw": true
              },
              "fromcurrent": true,
              "mode": "immediate",
              "transition": {
               "duration": 0,
               "easing": "linear"
              }
             }
            ],
            "label": "2020-08-16",
            "method": "animate"
           },
           {
            "args": [
             [
              "2020-08-23"
             ],
             {
              "frame": {
               "duration": 0,
               "redraw": true
              },
              "fromcurrent": true,
              "mode": "immediate",
              "transition": {
               "duration": 0,
               "easing": "linear"
              }
             }
            ],
            "label": "2020-08-23",
            "method": "animate"
           },
           {
            "args": [
             [
              "2020-08-30"
             ],
             {
              "frame": {
               "duration": 0,
               "redraw": true
              },
              "fromcurrent": true,
              "mode": "immediate",
              "transition": {
               "duration": 0,
               "easing": "linear"
              }
             }
            ],
            "label": "2020-08-30",
            "method": "animate"
           },
           {
            "args": [
             [
              "2020-06-09"
             ],
             {
              "frame": {
               "duration": 0,
               "redraw": true
              },
              "fromcurrent": true,
              "mode": "immediate",
              "transition": {
               "duration": 0,
               "easing": "linear"
              }
             }
            ],
            "label": "2020-06-09",
            "method": "animate"
           },
           {
            "args": [
             [
              "2020-09-13"
             ],
             {
              "frame": {
               "duration": 0,
               "redraw": true
              },
              "fromcurrent": true,
              "mode": "immediate",
              "transition": {
               "duration": 0,
               "easing": "linear"
              }
             }
            ],
            "label": "2020-09-13",
            "method": "animate"
           },
           {
            "args": [
             [
              "2020-09-20"
             ],
             {
              "frame": {
               "duration": 0,
               "redraw": true
              },
              "fromcurrent": true,
              "mode": "immediate",
              "transition": {
               "duration": 0,
               "easing": "linear"
              }
             }
            ],
            "label": "2020-09-20",
            "method": "animate"
           },
           {
            "args": [
             [
              "2020-09-27"
             ],
             {
              "frame": {
               "duration": 0,
               "redraw": true
              },
              "fromcurrent": true,
              "mode": "immediate",
              "transition": {
               "duration": 0,
               "easing": "linear"
              }
             }
            ],
            "label": "2020-09-27",
            "method": "animate"
           },
           {
            "args": [
             [
              "2020-04-10"
             ],
             {
              "frame": {
               "duration": 0,
               "redraw": true
              },
              "fromcurrent": true,
              "mode": "immediate",
              "transition": {
               "duration": 0,
               "easing": "linear"
              }
             }
            ],
            "label": "2020-04-10",
            "method": "animate"
           },
           {
            "args": [
             [
              "2020-11-10"
             ],
             {
              "frame": {
               "duration": 0,
               "redraw": true
              },
              "fromcurrent": true,
              "mode": "immediate",
              "transition": {
               "duration": 0,
               "easing": "linear"
              }
             }
            ],
            "label": "2020-11-10",
            "method": "animate"
           },
           {
            "args": [
             [
              "2020-10-18"
             ],
             {
              "frame": {
               "duration": 0,
               "redraw": true
              },
              "fromcurrent": true,
              "mode": "immediate",
              "transition": {
               "duration": 0,
               "easing": "linear"
              }
             }
            ],
            "label": "2020-10-18",
            "method": "animate"
           },
           {
            "args": [
             [
              "2020-10-25"
             ],
             {
              "frame": {
               "duration": 0,
               "redraw": true
              },
              "fromcurrent": true,
              "mode": "immediate",
              "transition": {
               "duration": 0,
               "easing": "linear"
              }
             }
            ],
            "label": "2020-10-25",
            "method": "animate"
           },
           {
            "args": [
             [
              "2020-01-11"
             ],
             {
              "frame": {
               "duration": 0,
               "redraw": true
              },
              "fromcurrent": true,
              "mode": "immediate",
              "transition": {
               "duration": 0,
               "easing": "linear"
              }
             }
            ],
            "label": "2020-01-11",
            "method": "animate"
           }
          ],
          "x": 0.1,
          "xanchor": "left",
          "y": 0,
          "yanchor": "top"
         }
        ],
        "template": {
         "data": {
          "bar": [
           {
            "error_x": {
             "color": "#2a3f5f"
            },
            "error_y": {
             "color": "#2a3f5f"
            },
            "marker": {
             "line": {
              "color": "#E5ECF6",
              "width": 0.5
             }
            },
            "type": "bar"
           }
          ],
          "barpolar": [
           {
            "marker": {
             "line": {
              "color": "#E5ECF6",
              "width": 0.5
             }
            },
            "type": "barpolar"
           }
          ],
          "carpet": [
           {
            "aaxis": {
             "endlinecolor": "#2a3f5f",
             "gridcolor": "white",
             "linecolor": "white",
             "minorgridcolor": "white",
             "startlinecolor": "#2a3f5f"
            },
            "baxis": {
             "endlinecolor": "#2a3f5f",
             "gridcolor": "white",
             "linecolor": "white",
             "minorgridcolor": "white",
             "startlinecolor": "#2a3f5f"
            },
            "type": "carpet"
           }
          ],
          "choropleth": [
           {
            "colorbar": {
             "outlinewidth": 0,
             "ticks": ""
            },
            "type": "choropleth"
           }
          ],
          "contour": [
           {
            "colorbar": {
             "outlinewidth": 0,
             "ticks": ""
            },
            "colorscale": [
             [
              0,
              "#0d0887"
             ],
             [
              0.1111111111111111,
              "#46039f"
             ],
             [
              0.2222222222222222,
              "#7201a8"
             ],
             [
              0.3333333333333333,
              "#9c179e"
             ],
             [
              0.4444444444444444,
              "#bd3786"
             ],
             [
              0.5555555555555556,
              "#d8576b"
             ],
             [
              0.6666666666666666,
              "#ed7953"
             ],
             [
              0.7777777777777778,
              "#fb9f3a"
             ],
             [
              0.8888888888888888,
              "#fdca26"
             ],
             [
              1,
              "#f0f921"
             ]
            ],
            "type": "contour"
           }
          ],
          "contourcarpet": [
           {
            "colorbar": {
             "outlinewidth": 0,
             "ticks": ""
            },
            "type": "contourcarpet"
           }
          ],
          "heatmap": [
           {
            "colorbar": {
             "outlinewidth": 0,
             "ticks": ""
            },
            "colorscale": [
             [
              0,
              "#0d0887"
             ],
             [
              0.1111111111111111,
              "#46039f"
             ],
             [
              0.2222222222222222,
              "#7201a8"
             ],
             [
              0.3333333333333333,
              "#9c179e"
             ],
             [
              0.4444444444444444,
              "#bd3786"
             ],
             [
              0.5555555555555556,
              "#d8576b"
             ],
             [
              0.6666666666666666,
              "#ed7953"
             ],
             [
              0.7777777777777778,
              "#fb9f3a"
             ],
             [
              0.8888888888888888,
              "#fdca26"
             ],
             [
              1,
              "#f0f921"
             ]
            ],
            "type": "heatmap"
           }
          ],
          "heatmapgl": [
           {
            "colorbar": {
             "outlinewidth": 0,
             "ticks": ""
            },
            "colorscale": [
             [
              0,
              "#0d0887"
             ],
             [
              0.1111111111111111,
              "#46039f"
             ],
             [
              0.2222222222222222,
              "#7201a8"
             ],
             [
              0.3333333333333333,
              "#9c179e"
             ],
             [
              0.4444444444444444,
              "#bd3786"
             ],
             [
              0.5555555555555556,
              "#d8576b"
             ],
             [
              0.6666666666666666,
              "#ed7953"
             ],
             [
              0.7777777777777778,
              "#fb9f3a"
             ],
             [
              0.8888888888888888,
              "#fdca26"
             ],
             [
              1,
              "#f0f921"
             ]
            ],
            "type": "heatmapgl"
           }
          ],
          "histogram": [
           {
            "marker": {
             "colorbar": {
              "outlinewidth": 0,
              "ticks": ""
             }
            },
            "type": "histogram"
           }
          ],
          "histogram2d": [
           {
            "colorbar": {
             "outlinewidth": 0,
             "ticks": ""
            },
            "colorscale": [
             [
              0,
              "#0d0887"
             ],
             [
              0.1111111111111111,
              "#46039f"
             ],
             [
              0.2222222222222222,
              "#7201a8"
             ],
             [
              0.3333333333333333,
              "#9c179e"
             ],
             [
              0.4444444444444444,
              "#bd3786"
             ],
             [
              0.5555555555555556,
              "#d8576b"
             ],
             [
              0.6666666666666666,
              "#ed7953"
             ],
             [
              0.7777777777777778,
              "#fb9f3a"
             ],
             [
              0.8888888888888888,
              "#fdca26"
             ],
             [
              1,
              "#f0f921"
             ]
            ],
            "type": "histogram2d"
           }
          ],
          "histogram2dcontour": [
           {
            "colorbar": {
             "outlinewidth": 0,
             "ticks": ""
            },
            "colorscale": [
             [
              0,
              "#0d0887"
             ],
             [
              0.1111111111111111,
              "#46039f"
             ],
             [
              0.2222222222222222,
              "#7201a8"
             ],
             [
              0.3333333333333333,
              "#9c179e"
             ],
             [
              0.4444444444444444,
              "#bd3786"
             ],
             [
              0.5555555555555556,
              "#d8576b"
             ],
             [
              0.6666666666666666,
              "#ed7953"
             ],
             [
              0.7777777777777778,
              "#fb9f3a"
             ],
             [
              0.8888888888888888,
              "#fdca26"
             ],
             [
              1,
              "#f0f921"
             ]
            ],
            "type": "histogram2dcontour"
           }
          ],
          "mesh3d": [
           {
            "colorbar": {
             "outlinewidth": 0,
             "ticks": ""
            },
            "type": "mesh3d"
           }
          ],
          "parcoords": [
           {
            "line": {
             "colorbar": {
              "outlinewidth": 0,
              "ticks": ""
             }
            },
            "type": "parcoords"
           }
          ],
          "pie": [
           {
            "automargin": true,
            "type": "pie"
           }
          ],
          "scatter": [
           {
            "marker": {
             "colorbar": {
              "outlinewidth": 0,
              "ticks": ""
             }
            },
            "type": "scatter"
           }
          ],
          "scatter3d": [
           {
            "line": {
             "colorbar": {
              "outlinewidth": 0,
              "ticks": ""
             }
            },
            "marker": {
             "colorbar": {
              "outlinewidth": 0,
              "ticks": ""
             }
            },
            "type": "scatter3d"
           }
          ],
          "scattercarpet": [
           {
            "marker": {
             "colorbar": {
              "outlinewidth": 0,
              "ticks": ""
             }
            },
            "type": "scattercarpet"
           }
          ],
          "scattergeo": [
           {
            "marker": {
             "colorbar": {
              "outlinewidth": 0,
              "ticks": ""
             }
            },
            "type": "scattergeo"
           }
          ],
          "scattergl": [
           {
            "marker": {
             "colorbar": {
              "outlinewidth": 0,
              "ticks": ""
             }
            },
            "type": "scattergl"
           }
          ],
          "scattermapbox": [
           {
            "marker": {
             "colorbar": {
              "outlinewidth": 0,
              "ticks": ""
             }
            },
            "type": "scattermapbox"
           }
          ],
          "scatterpolar": [
           {
            "marker": {
             "colorbar": {
              "outlinewidth": 0,
              "ticks": ""
             }
            },
            "type": "scatterpolar"
           }
          ],
          "scatterpolargl": [
           {
            "marker": {
             "colorbar": {
              "outlinewidth": 0,
              "ticks": ""
             }
            },
            "type": "scatterpolargl"
           }
          ],
          "scatterternary": [
           {
            "marker": {
             "colorbar": {
              "outlinewidth": 0,
              "ticks": ""
             }
            },
            "type": "scatterternary"
           }
          ],
          "surface": [
           {
            "colorbar": {
             "outlinewidth": 0,
             "ticks": ""
            },
            "colorscale": [
             [
              0,
              "#0d0887"
             ],
             [
              0.1111111111111111,
              "#46039f"
             ],
             [
              0.2222222222222222,
              "#7201a8"
             ],
             [
              0.3333333333333333,
              "#9c179e"
             ],
             [
              0.4444444444444444,
              "#bd3786"
             ],
             [
              0.5555555555555556,
              "#d8576b"
             ],
             [
              0.6666666666666666,
              "#ed7953"
             ],
             [
              0.7777777777777778,
              "#fb9f3a"
             ],
             [
              0.8888888888888888,
              "#fdca26"
             ],
             [
              1,
              "#f0f921"
             ]
            ],
            "type": "surface"
           }
          ],
          "table": [
           {
            "cells": {
             "fill": {
              "color": "#EBF0F8"
             },
             "line": {
              "color": "white"
             }
            },
            "header": {
             "fill": {
              "color": "#C8D4E3"
             },
             "line": {
              "color": "white"
             }
            },
            "type": "table"
           }
          ]
         },
         "layout": {
          "annotationdefaults": {
           "arrowcolor": "#2a3f5f",
           "arrowhead": 0,
           "arrowwidth": 1
          },
          "coloraxis": {
           "colorbar": {
            "outlinewidth": 0,
            "ticks": ""
           }
          },
          "colorscale": {
           "diverging": [
            [
             0,
             "#8e0152"
            ],
            [
             0.1,
             "#c51b7d"
            ],
            [
             0.2,
             "#de77ae"
            ],
            [
             0.3,
             "#f1b6da"
            ],
            [
             0.4,
             "#fde0ef"
            ],
            [
             0.5,
             "#f7f7f7"
            ],
            [
             0.6,
             "#e6f5d0"
            ],
            [
             0.7,
             "#b8e186"
            ],
            [
             0.8,
             "#7fbc41"
            ],
            [
             0.9,
             "#4d9221"
            ],
            [
             1,
             "#276419"
            ]
           ],
           "sequential": [
            [
             0,
             "#0d0887"
            ],
            [
             0.1111111111111111,
             "#46039f"
            ],
            [
             0.2222222222222222,
             "#7201a8"
            ],
            [
             0.3333333333333333,
             "#9c179e"
            ],
            [
             0.4444444444444444,
             "#bd3786"
            ],
            [
             0.5555555555555556,
             "#d8576b"
            ],
            [
             0.6666666666666666,
             "#ed7953"
            ],
            [
             0.7777777777777778,
             "#fb9f3a"
            ],
            [
             0.8888888888888888,
             "#fdca26"
            ],
            [
             1,
             "#f0f921"
            ]
           ],
           "sequentialminus": [
            [
             0,
             "#0d0887"
            ],
            [
             0.1111111111111111,
             "#46039f"
            ],
            [
             0.2222222222222222,
             "#7201a8"
            ],
            [
             0.3333333333333333,
             "#9c179e"
            ],
            [
             0.4444444444444444,
             "#bd3786"
            ],
            [
             0.5555555555555556,
             "#d8576b"
            ],
            [
             0.6666666666666666,
             "#ed7953"
            ],
            [
             0.7777777777777778,
             "#fb9f3a"
            ],
            [
             0.8888888888888888,
             "#fdca26"
            ],
            [
             1,
             "#f0f921"
            ]
           ]
          },
          "colorway": [
           "#636efa",
           "#EF553B",
           "#00cc96",
           "#ab63fa",
           "#FFA15A",
           "#19d3f3",
           "#FF6692",
           "#B6E880",
           "#FF97FF",
           "#FECB52"
          ],
          "font": {
           "color": "#2a3f5f"
          },
          "geo": {
           "bgcolor": "white",
           "lakecolor": "white",
           "landcolor": "#E5ECF6",
           "showlakes": true,
           "showland": true,
           "subunitcolor": "white"
          },
          "hoverlabel": {
           "align": "left"
          },
          "hovermode": "closest",
          "mapbox": {
           "style": "light"
          },
          "paper_bgcolor": "white",
          "plot_bgcolor": "#E5ECF6",
          "polar": {
           "angularaxis": {
            "gridcolor": "white",
            "linecolor": "white",
            "ticks": ""
           },
           "bgcolor": "#E5ECF6",
           "radialaxis": {
            "gridcolor": "white",
            "linecolor": "white",
            "ticks": ""
           }
          },
          "scene": {
           "xaxis": {
            "backgroundcolor": "#E5ECF6",
            "gridcolor": "white",
            "gridwidth": 2,
            "linecolor": "white",
            "showbackground": true,
            "ticks": "",
            "zerolinecolor": "white"
           },
           "yaxis": {
            "backgroundcolor": "#E5ECF6",
            "gridcolor": "white",
            "gridwidth": 2,
            "linecolor": "white",
            "showbackground": true,
            "ticks": "",
            "zerolinecolor": "white"
           },
           "zaxis": {
            "backgroundcolor": "#E5ECF6",
            "gridcolor": "white",
            "gridwidth": 2,
            "linecolor": "white",
            "showbackground": true,
            "ticks": "",
            "zerolinecolor": "white"
           }
          },
          "shapedefaults": {
           "line": {
            "color": "#2a3f5f"
           }
          },
          "ternary": {
           "aaxis": {
            "gridcolor": "white",
            "linecolor": "white",
            "ticks": ""
           },
           "baxis": {
            "gridcolor": "white",
            "linecolor": "white",
            "ticks": ""
           },
           "bgcolor": "#E5ECF6",
           "caxis": {
            "gridcolor": "white",
            "linecolor": "white",
            "ticks": ""
           }
          },
          "title": {
           "x": 0.05
          },
          "xaxis": {
           "automargin": true,
           "gridcolor": "white",
           "linecolor": "white",
           "ticks": "",
           "title": {
            "standoff": 15
           },
           "zerolinecolor": "white",
           "zerolinewidth": 2
          },
          "yaxis": {
           "automargin": true,
           "gridcolor": "white",
           "linecolor": "white",
           "ticks": "",
           "title": {
            "standoff": 15
           },
           "zerolinecolor": "white",
           "zerolinewidth": 2
          }
         }
        },
        "title": {
         "text": "Search term evolution for Germany"
        },
        "updatemenus": [
         {
          "buttons": [
           {
            "args": [
             null,
             {
              "frame": {
               "duration": 500,
               "redraw": true
              },
              "fromcurrent": true,
              "mode": "immediate",
              "transition": {
               "duration": 500,
               "easing": "linear"
              }
             }
            ],
            "label": "&#9654;",
            "method": "animate"
           },
           {
            "args": [
             [
              null
             ],
             {
              "frame": {
               "duration": 0,
               "redraw": true
              },
              "fromcurrent": true,
              "mode": "immediate",
              "transition": {
               "duration": 0,
               "easing": "linear"
              }
             }
            ],
            "label": "&#9724;",
            "method": "animate"
           }
          ],
          "direction": "left",
          "pad": {
           "r": 10,
           "t": 70
          },
          "showactive": false,
          "type": "buttons",
          "x": 0.1,
          "xanchor": "right",
          "y": 0,
          "yanchor": "top"
         }
        ],
        "width": 700
       }
      },
      "text/html": [
       "<div>\n",
       "        \n",
       "        \n",
       "            <div id=\"aca9e8c3-a9be-4b55-8004-193a8aa5048e\" class=\"plotly-graph-div\" style=\"height:700px; width:700px;\"></div>\n",
       "            <script type=\"text/javascript\">\n",
       "                require([\"plotly\"], function(Plotly) {\n",
       "                    window.PLOTLYENV=window.PLOTLYENV || {};\n",
       "                    \n",
       "                if (document.getElementById(\"aca9e8c3-a9be-4b55-8004-193a8aa5048e\")) {\n",
       "                    Plotly.newPlot(\n",
       "                        'aca9e8c3-a9be-4b55-8004-193a8aa5048e',\n",
       "                        [{\"hovertemplate\": \"country=ger<br>date_str=2019-03-11<br>score_difference=%{r}<br>term=%{theta}<extra></extra>\", \"legendgroup\": \"ger\", \"line\": {\"color\": \"#636efa\", \"dash\": \"solid\", \"shape\": \"spline\"}, \"mode\": \"lines\", \"name\": \"ger\", \"r\": [2.0, 8.0, 5.0, 7.0, 7.0, 3.0, 0.0, 0.0, 4.0, 11.0, 7.0, -3.0, 2.0, 0.0, 2.0], \"showlegend\": true, \"subplot\": \"polar\", \"theta\": [\"baking\", \"bananabread\", \"beans\", \"coffee\", \"cooking\", \"grocerydelivery\", \"handsanitizer\", \"mouthcover\", \"pasta\", \"restaurant\", \"rice\", \"spices\", \"to-go\", \"toiletpaper\", \"baking\"], \"type\": \"scatterpolar\"}],\n",
       "                        {\"height\": 700, \"legend\": {\"title\": {\"text\": \"country\"}, \"tracegroupgap\": 0}, \"polar\": {\"angularaxis\": {\"direction\": \"clockwise\", \"rotation\": 90}, \"domain\": {\"x\": [0.0, 1.0], \"y\": [0.0, 1.0]}, \"radialaxis\": {\"range\": [-57.0, 99.0]}}, \"sliders\": [{\"active\": 0, \"currentvalue\": {\"prefix\": \"date_str=\"}, \"len\": 0.9, \"pad\": {\"b\": 10, \"t\": 60}, \"steps\": [{\"args\": [[\"2019-03-11\"], {\"frame\": {\"duration\": 0, \"redraw\": true}, \"fromcurrent\": true, \"mode\": \"immediate\", \"transition\": {\"duration\": 0, \"easing\": \"linear\"}}], \"label\": \"2019-03-11\", \"method\": \"animate\"}, {\"args\": [[\"2019-10-11\"], {\"frame\": {\"duration\": 0, \"redraw\": true}, \"fromcurrent\": true, \"mode\": \"immediate\", \"transition\": {\"duration\": 0, \"easing\": \"linear\"}}], \"label\": \"2019-10-11\", \"method\": \"animate\"}, {\"args\": [[\"2019-11-17\"], {\"frame\": {\"duration\": 0, \"redraw\": true}, \"fromcurrent\": true, \"mode\": \"immediate\", \"transition\": {\"duration\": 0, \"easing\": \"linear\"}}], \"label\": \"2019-11-17\", \"method\": \"animate\"}, {\"args\": [[\"2019-11-24\"], {\"frame\": {\"duration\": 0, \"redraw\": true}, \"fromcurrent\": true, \"mode\": \"immediate\", \"transition\": {\"duration\": 0, \"easing\": \"linear\"}}], \"label\": \"2019-11-24\", \"method\": \"animate\"}, {\"args\": [[\"2019-01-12\"], {\"frame\": {\"duration\": 0, \"redraw\": true}, \"fromcurrent\": true, \"mode\": \"immediate\", \"transition\": {\"duration\": 0, \"easing\": \"linear\"}}], \"label\": \"2019-01-12\", \"method\": \"animate\"}, {\"args\": [[\"2019-08-12\"], {\"frame\": {\"duration\": 0, \"redraw\": true}, \"fromcurrent\": true, \"mode\": \"immediate\", \"transition\": {\"duration\": 0, \"easing\": \"linear\"}}], \"label\": \"2019-08-12\", \"method\": \"animate\"}, {\"args\": [[\"2019-12-15\"], {\"frame\": {\"duration\": 0, \"redraw\": true}, \"fromcurrent\": true, \"mode\": \"immediate\", \"transition\": {\"duration\": 0, \"easing\": \"linear\"}}], \"label\": \"2019-12-15\", \"method\": \"animate\"}, {\"args\": [[\"2019-12-22\"], {\"frame\": {\"duration\": 0, \"redraw\": true}, \"fromcurrent\": true, \"mode\": \"immediate\", \"transition\": {\"duration\": 0, \"easing\": \"linear\"}}], \"label\": \"2019-12-22\", \"method\": \"animate\"}, {\"args\": [[\"2019-12-29\"], {\"frame\": {\"duration\": 0, \"redraw\": true}, \"fromcurrent\": true, \"mode\": \"immediate\", \"transition\": {\"duration\": 0, \"easing\": \"linear\"}}], \"label\": \"2019-12-29\", \"method\": \"animate\"}, {\"args\": [[\"2020-05-01\"], {\"frame\": {\"duration\": 0, \"redraw\": true}, \"fromcurrent\": true, \"mode\": \"immediate\", \"transition\": {\"duration\": 0, \"easing\": \"linear\"}}], \"label\": \"2020-05-01\", \"method\": \"animate\"}, {\"args\": [[\"2020-12-01\"], {\"frame\": {\"duration\": 0, \"redraw\": true}, \"fromcurrent\": true, \"mode\": \"immediate\", \"transition\": {\"duration\": 0, \"easing\": \"linear\"}}], \"label\": \"2020-12-01\", \"method\": \"animate\"}, {\"args\": [[\"2020-01-19\"], {\"frame\": {\"duration\": 0, \"redraw\": true}, \"fromcurrent\": true, \"mode\": \"immediate\", \"transition\": {\"duration\": 0, \"easing\": \"linear\"}}], \"label\": \"2020-01-19\", \"method\": \"animate\"}, {\"args\": [[\"2020-01-26\"], {\"frame\": {\"duration\": 0, \"redraw\": true}, \"fromcurrent\": true, \"mode\": \"immediate\", \"transition\": {\"duration\": 0, \"easing\": \"linear\"}}], \"label\": \"2020-01-26\", \"method\": \"animate\"}, {\"args\": [[\"2020-02-02\"], {\"frame\": {\"duration\": 0, \"redraw\": true}, \"fromcurrent\": true, \"mode\": \"immediate\", \"transition\": {\"duration\": 0, \"easing\": \"linear\"}}], \"label\": \"2020-02-02\", \"method\": \"animate\"}, {\"args\": [[\"2020-09-02\"], {\"frame\": {\"duration\": 0, \"redraw\": true}, \"fromcurrent\": true, \"mode\": \"immediate\", \"transition\": {\"duration\": 0, \"easing\": \"linear\"}}], \"label\": \"2020-09-02\", \"method\": \"animate\"}, {\"args\": [[\"2020-02-16\"], {\"frame\": {\"duration\": 0, \"redraw\": true}, \"fromcurrent\": true, \"mode\": \"immediate\", \"transition\": {\"duration\": 0, \"easing\": \"linear\"}}], \"label\": \"2020-02-16\", \"method\": \"animate\"}, {\"args\": [[\"2020-02-23\"], {\"frame\": {\"duration\": 0, \"redraw\": true}, \"fromcurrent\": true, \"mode\": \"immediate\", \"transition\": {\"duration\": 0, \"easing\": \"linear\"}}], \"label\": \"2020-02-23\", \"method\": \"animate\"}, {\"args\": [[\"2020-01-03\"], {\"frame\": {\"duration\": 0, \"redraw\": true}, \"fromcurrent\": true, \"mode\": \"immediate\", \"transition\": {\"duration\": 0, \"easing\": \"linear\"}}], \"label\": \"2020-01-03\", \"method\": \"animate\"}, {\"args\": [[\"2020-08-03\"], {\"frame\": {\"duration\": 0, \"redraw\": true}, \"fromcurrent\": true, \"mode\": \"immediate\", \"transition\": {\"duration\": 0, \"easing\": \"linear\"}}], \"label\": \"2020-08-03\", \"method\": \"animate\"}, {\"args\": [[\"2020-03-15\"], {\"frame\": {\"duration\": 0, \"redraw\": true}, \"fromcurrent\": true, \"mode\": \"immediate\", \"transition\": {\"duration\": 0, \"easing\": \"linear\"}}], \"label\": \"2020-03-15\", \"method\": \"animate\"}, {\"args\": [[\"2020-03-22\"], {\"frame\": {\"duration\": 0, \"redraw\": true}, \"fromcurrent\": true, \"mode\": \"immediate\", \"transition\": {\"duration\": 0, \"easing\": \"linear\"}}], \"label\": \"2020-03-22\", \"method\": \"animate\"}, {\"args\": [[\"2020-03-29\"], {\"frame\": {\"duration\": 0, \"redraw\": true}, \"fromcurrent\": true, \"mode\": \"immediate\", \"transition\": {\"duration\": 0, \"easing\": \"linear\"}}], \"label\": \"2020-03-29\", \"method\": \"animate\"}, {\"args\": [[\"2020-05-04\"], {\"frame\": {\"duration\": 0, \"redraw\": true}, \"fromcurrent\": true, \"mode\": \"immediate\", \"transition\": {\"duration\": 0, \"easing\": \"linear\"}}], \"label\": \"2020-05-04\", \"method\": \"animate\"}, {\"args\": [[\"2020-12-04\"], {\"frame\": {\"duration\": 0, \"redraw\": true}, \"fromcurrent\": true, \"mode\": \"immediate\", \"transition\": {\"duration\": 0, \"easing\": \"linear\"}}], \"label\": \"2020-12-04\", \"method\": \"animate\"}, {\"args\": [[\"2020-04-19\"], {\"frame\": {\"duration\": 0, \"redraw\": true}, \"fromcurrent\": true, \"mode\": \"immediate\", \"transition\": {\"duration\": 0, \"easing\": \"linear\"}}], \"label\": \"2020-04-19\", \"method\": \"animate\"}, {\"args\": [[\"2020-04-26\"], {\"frame\": {\"duration\": 0, \"redraw\": true}, \"fromcurrent\": true, \"mode\": \"immediate\", \"transition\": {\"duration\": 0, \"easing\": \"linear\"}}], \"label\": \"2020-04-26\", \"method\": \"animate\"}, {\"args\": [[\"2020-03-05\"], {\"frame\": {\"duration\": 0, \"redraw\": true}, \"fromcurrent\": true, \"mode\": \"immediate\", \"transition\": {\"duration\": 0, \"easing\": \"linear\"}}], \"label\": \"2020-03-05\", \"method\": \"animate\"}, {\"args\": [[\"2020-10-05\"], {\"frame\": {\"duration\": 0, \"redraw\": true}, \"fromcurrent\": true, \"mode\": \"immediate\", \"transition\": {\"duration\": 0, \"easing\": \"linear\"}}], \"label\": \"2020-10-05\", \"method\": \"animate\"}, {\"args\": [[\"2020-05-17\"], {\"frame\": {\"duration\": 0, \"redraw\": true}, \"fromcurrent\": true, \"mode\": \"immediate\", \"transition\": {\"duration\": 0, \"easing\": \"linear\"}}], \"label\": \"2020-05-17\", \"method\": \"animate\"}, {\"args\": [[\"2020-05-24\"], {\"frame\": {\"duration\": 0, \"redraw\": true}, \"fromcurrent\": true, \"mode\": \"immediate\", \"transition\": {\"duration\": 0, \"easing\": \"linear\"}}], \"label\": \"2020-05-24\", \"method\": \"animate\"}, {\"args\": [[\"2020-05-31\"], {\"frame\": {\"duration\": 0, \"redraw\": true}, \"fromcurrent\": true, \"mode\": \"immediate\", \"transition\": {\"duration\": 0, \"easing\": \"linear\"}}], \"label\": \"2020-05-31\", \"method\": \"animate\"}, {\"args\": [[\"2020-07-06\"], {\"frame\": {\"duration\": 0, \"redraw\": true}, \"fromcurrent\": true, \"mode\": \"immediate\", \"transition\": {\"duration\": 0, \"easing\": \"linear\"}}], \"label\": \"2020-07-06\", \"method\": \"animate\"}, {\"args\": [[\"2020-06-14\"], {\"frame\": {\"duration\": 0, \"redraw\": true}, \"fromcurrent\": true, \"mode\": \"immediate\", \"transition\": {\"duration\": 0, \"easing\": \"linear\"}}], \"label\": \"2020-06-14\", \"method\": \"animate\"}, {\"args\": [[\"2020-06-21\"], {\"frame\": {\"duration\": 0, \"redraw\": true}, \"fromcurrent\": true, \"mode\": \"immediate\", \"transition\": {\"duration\": 0, \"easing\": \"linear\"}}], \"label\": \"2020-06-21\", \"method\": \"animate\"}, {\"args\": [[\"2020-06-28\"], {\"frame\": {\"duration\": 0, \"redraw\": true}, \"fromcurrent\": true, \"mode\": \"immediate\", \"transition\": {\"duration\": 0, \"easing\": \"linear\"}}], \"label\": \"2020-06-28\", \"method\": \"animate\"}, {\"args\": [[\"2020-05-07\"], {\"frame\": {\"duration\": 0, \"redraw\": true}, \"fromcurrent\": true, \"mode\": \"immediate\", \"transition\": {\"duration\": 0, \"easing\": \"linear\"}}], \"label\": \"2020-05-07\", \"method\": \"animate\"}, {\"args\": [[\"2020-12-07\"], {\"frame\": {\"duration\": 0, \"redraw\": true}, \"fromcurrent\": true, \"mode\": \"immediate\", \"transition\": {\"duration\": 0, \"easing\": \"linear\"}}], \"label\": \"2020-12-07\", \"method\": \"animate\"}, {\"args\": [[\"2020-07-19\"], {\"frame\": {\"duration\": 0, \"redraw\": true}, \"fromcurrent\": true, \"mode\": \"immediate\", \"transition\": {\"duration\": 0, \"easing\": \"linear\"}}], \"label\": \"2020-07-19\", \"method\": \"animate\"}, {\"args\": [[\"2020-07-26\"], {\"frame\": {\"duration\": 0, \"redraw\": true}, \"fromcurrent\": true, \"mode\": \"immediate\", \"transition\": {\"duration\": 0, \"easing\": \"linear\"}}], \"label\": \"2020-07-26\", \"method\": \"animate\"}, {\"args\": [[\"2020-02-08\"], {\"frame\": {\"duration\": 0, \"redraw\": true}, \"fromcurrent\": true, \"mode\": \"immediate\", \"transition\": {\"duration\": 0, \"easing\": \"linear\"}}], \"label\": \"2020-02-08\", \"method\": \"animate\"}, {\"args\": [[\"2020-09-08\"], {\"frame\": {\"duration\": 0, \"redraw\": true}, \"fromcurrent\": true, \"mode\": \"immediate\", \"transition\": {\"duration\": 0, \"easing\": \"linear\"}}], \"label\": \"2020-09-08\", \"method\": \"animate\"}, {\"args\": [[\"2020-08-16\"], {\"frame\": {\"duration\": 0, \"redraw\": true}, \"fromcurrent\": true, \"mode\": \"immediate\", \"transition\": {\"duration\": 0, \"easing\": \"linear\"}}], \"label\": \"2020-08-16\", \"method\": \"animate\"}, {\"args\": [[\"2020-08-23\"], {\"frame\": {\"duration\": 0, \"redraw\": true}, \"fromcurrent\": true, \"mode\": \"immediate\", \"transition\": {\"duration\": 0, \"easing\": \"linear\"}}], \"label\": \"2020-08-23\", \"method\": \"animate\"}, {\"args\": [[\"2020-08-30\"], {\"frame\": {\"duration\": 0, \"redraw\": true}, \"fromcurrent\": true, \"mode\": \"immediate\", \"transition\": {\"duration\": 0, \"easing\": \"linear\"}}], \"label\": \"2020-08-30\", \"method\": \"animate\"}, {\"args\": [[\"2020-06-09\"], {\"frame\": {\"duration\": 0, \"redraw\": true}, \"fromcurrent\": true, \"mode\": \"immediate\", \"transition\": {\"duration\": 0, \"easing\": \"linear\"}}], \"label\": \"2020-06-09\", \"method\": \"animate\"}, {\"args\": [[\"2020-09-13\"], {\"frame\": {\"duration\": 0, \"redraw\": true}, \"fromcurrent\": true, \"mode\": \"immediate\", \"transition\": {\"duration\": 0, \"easing\": \"linear\"}}], \"label\": \"2020-09-13\", \"method\": \"animate\"}, {\"args\": [[\"2020-09-20\"], {\"frame\": {\"duration\": 0, \"redraw\": true}, \"fromcurrent\": true, \"mode\": \"immediate\", \"transition\": {\"duration\": 0, \"easing\": \"linear\"}}], \"label\": \"2020-09-20\", \"method\": \"animate\"}, {\"args\": [[\"2020-09-27\"], {\"frame\": {\"duration\": 0, \"redraw\": true}, \"fromcurrent\": true, \"mode\": \"immediate\", \"transition\": {\"duration\": 0, \"easing\": \"linear\"}}], \"label\": \"2020-09-27\", \"method\": \"animate\"}, {\"args\": [[\"2020-04-10\"], {\"frame\": {\"duration\": 0, \"redraw\": true}, \"fromcurrent\": true, \"mode\": \"immediate\", \"transition\": {\"duration\": 0, \"easing\": \"linear\"}}], \"label\": \"2020-04-10\", \"method\": \"animate\"}, {\"args\": [[\"2020-11-10\"], {\"frame\": {\"duration\": 0, \"redraw\": true}, \"fromcurrent\": true, \"mode\": \"immediate\", \"transition\": {\"duration\": 0, \"easing\": \"linear\"}}], \"label\": \"2020-11-10\", \"method\": \"animate\"}, {\"args\": [[\"2020-10-18\"], {\"frame\": {\"duration\": 0, \"redraw\": true}, \"fromcurrent\": true, \"mode\": \"immediate\", \"transition\": {\"duration\": 0, \"easing\": \"linear\"}}], \"label\": \"2020-10-18\", \"method\": \"animate\"}, {\"args\": [[\"2020-10-25\"], {\"frame\": {\"duration\": 0, \"redraw\": true}, \"fromcurrent\": true, \"mode\": \"immediate\", \"transition\": {\"duration\": 0, \"easing\": \"linear\"}}], \"label\": \"2020-10-25\", \"method\": \"animate\"}, {\"args\": [[\"2020-01-11\"], {\"frame\": {\"duration\": 0, \"redraw\": true}, \"fromcurrent\": true, \"mode\": \"immediate\", \"transition\": {\"duration\": 0, \"easing\": \"linear\"}}], \"label\": \"2020-01-11\", \"method\": \"animate\"}], \"x\": 0.1, \"xanchor\": \"left\", \"y\": 0, \"yanchor\": \"top\"}], \"template\": {\"data\": {\"bar\": [{\"error_x\": {\"color\": \"#2a3f5f\"}, \"error_y\": {\"color\": \"#2a3f5f\"}, \"marker\": {\"line\": {\"color\": \"#E5ECF6\", \"width\": 0.5}}, \"type\": \"bar\"}], \"barpolar\": [{\"marker\": {\"line\": {\"color\": \"#E5ECF6\", \"width\": 0.5}}, \"type\": \"barpolar\"}], \"carpet\": [{\"aaxis\": {\"endlinecolor\": \"#2a3f5f\", \"gridcolor\": \"white\", \"linecolor\": \"white\", \"minorgridcolor\": \"white\", \"startlinecolor\": \"#2a3f5f\"}, \"baxis\": {\"endlinecolor\": \"#2a3f5f\", \"gridcolor\": \"white\", \"linecolor\": \"white\", \"minorgridcolor\": \"white\", \"startlinecolor\": \"#2a3f5f\"}, \"type\": \"carpet\"}], \"choropleth\": [{\"colorbar\": {\"outlinewidth\": 0, \"ticks\": \"\"}, \"type\": \"choropleth\"}], \"contour\": [{\"colorbar\": {\"outlinewidth\": 0, \"ticks\": \"\"}, \"colorscale\": [[0.0, \"#0d0887\"], [0.1111111111111111, \"#46039f\"], [0.2222222222222222, \"#7201a8\"], [0.3333333333333333, \"#9c179e\"], [0.4444444444444444, \"#bd3786\"], [0.5555555555555556, \"#d8576b\"], [0.6666666666666666, \"#ed7953\"], [0.7777777777777778, \"#fb9f3a\"], [0.8888888888888888, \"#fdca26\"], [1.0, \"#f0f921\"]], \"type\": \"contour\"}], \"contourcarpet\": [{\"colorbar\": {\"outlinewidth\": 0, \"ticks\": \"\"}, \"type\": \"contourcarpet\"}], \"heatmap\": [{\"colorbar\": {\"outlinewidth\": 0, \"ticks\": \"\"}, \"colorscale\": [[0.0, \"#0d0887\"], [0.1111111111111111, \"#46039f\"], [0.2222222222222222, \"#7201a8\"], [0.3333333333333333, \"#9c179e\"], [0.4444444444444444, \"#bd3786\"], [0.5555555555555556, \"#d8576b\"], [0.6666666666666666, \"#ed7953\"], [0.7777777777777778, \"#fb9f3a\"], [0.8888888888888888, \"#fdca26\"], [1.0, \"#f0f921\"]], \"type\": \"heatmap\"}], \"heatmapgl\": [{\"colorbar\": {\"outlinewidth\": 0, \"ticks\": \"\"}, \"colorscale\": [[0.0, \"#0d0887\"], [0.1111111111111111, \"#46039f\"], [0.2222222222222222, \"#7201a8\"], [0.3333333333333333, \"#9c179e\"], [0.4444444444444444, \"#bd3786\"], [0.5555555555555556, \"#d8576b\"], [0.6666666666666666, \"#ed7953\"], [0.7777777777777778, \"#fb9f3a\"], [0.8888888888888888, \"#fdca26\"], [1.0, \"#f0f921\"]], \"type\": \"heatmapgl\"}], \"histogram\": [{\"marker\": {\"colorbar\": {\"outlinewidth\": 0, \"ticks\": \"\"}}, \"type\": \"histogram\"}], \"histogram2d\": [{\"colorbar\": {\"outlinewidth\": 0, \"ticks\": \"\"}, \"colorscale\": [[0.0, \"#0d0887\"], [0.1111111111111111, \"#46039f\"], [0.2222222222222222, \"#7201a8\"], [0.3333333333333333, \"#9c179e\"], [0.4444444444444444, \"#bd3786\"], [0.5555555555555556, \"#d8576b\"], [0.6666666666666666, \"#ed7953\"], [0.7777777777777778, \"#fb9f3a\"], [0.8888888888888888, \"#fdca26\"], [1.0, \"#f0f921\"]], \"type\": \"histogram2d\"}], \"histogram2dcontour\": [{\"colorbar\": {\"outlinewidth\": 0, \"ticks\": \"\"}, \"colorscale\": [[0.0, \"#0d0887\"], [0.1111111111111111, \"#46039f\"], [0.2222222222222222, \"#7201a8\"], [0.3333333333333333, \"#9c179e\"], [0.4444444444444444, \"#bd3786\"], [0.5555555555555556, \"#d8576b\"], [0.6666666666666666, \"#ed7953\"], [0.7777777777777778, \"#fb9f3a\"], [0.8888888888888888, \"#fdca26\"], [1.0, \"#f0f921\"]], \"type\": \"histogram2dcontour\"}], \"mesh3d\": [{\"colorbar\": {\"outlinewidth\": 0, \"ticks\": \"\"}, \"type\": \"mesh3d\"}], \"parcoords\": [{\"line\": {\"colorbar\": {\"outlinewidth\": 0, \"ticks\": \"\"}}, \"type\": \"parcoords\"}], \"pie\": [{\"automargin\": true, \"type\": \"pie\"}], \"scatter\": [{\"marker\": {\"colorbar\": {\"outlinewidth\": 0, \"ticks\": \"\"}}, \"type\": \"scatter\"}], \"scatter3d\": [{\"line\": {\"colorbar\": {\"outlinewidth\": 0, \"ticks\": \"\"}}, \"marker\": {\"colorbar\": {\"outlinewidth\": 0, \"ticks\": \"\"}}, \"type\": \"scatter3d\"}], \"scattercarpet\": [{\"marker\": {\"colorbar\": {\"outlinewidth\": 0, \"ticks\": \"\"}}, \"type\": \"scattercarpet\"}], \"scattergeo\": [{\"marker\": {\"colorbar\": {\"outlinewidth\": 0, \"ticks\": \"\"}}, \"type\": \"scattergeo\"}], \"scattergl\": [{\"marker\": {\"colorbar\": {\"outlinewidth\": 0, \"ticks\": \"\"}}, \"type\": \"scattergl\"}], \"scattermapbox\": [{\"marker\": {\"colorbar\": {\"outlinewidth\": 0, \"ticks\": \"\"}}, \"type\": \"scattermapbox\"}], \"scatterpolar\": [{\"marker\": {\"colorbar\": {\"outlinewidth\": 0, \"ticks\": \"\"}}, \"type\": \"scatterpolar\"}], \"scatterpolargl\": [{\"marker\": {\"colorbar\": {\"outlinewidth\": 0, \"ticks\": \"\"}}, \"type\": \"scatterpolargl\"}], \"scatterternary\": [{\"marker\": {\"colorbar\": {\"outlinewidth\": 0, \"ticks\": \"\"}}, \"type\": \"scatterternary\"}], \"surface\": [{\"colorbar\": {\"outlinewidth\": 0, \"ticks\": \"\"}, \"colorscale\": [[0.0, \"#0d0887\"], [0.1111111111111111, \"#46039f\"], [0.2222222222222222, \"#7201a8\"], [0.3333333333333333, \"#9c179e\"], [0.4444444444444444, \"#bd3786\"], [0.5555555555555556, \"#d8576b\"], [0.6666666666666666, \"#ed7953\"], [0.7777777777777778, \"#fb9f3a\"], [0.8888888888888888, \"#fdca26\"], [1.0, \"#f0f921\"]], \"type\": \"surface\"}], \"table\": [{\"cells\": {\"fill\": {\"color\": \"#EBF0F8\"}, \"line\": {\"color\": \"white\"}}, \"header\": {\"fill\": {\"color\": \"#C8D4E3\"}, \"line\": {\"color\": \"white\"}}, \"type\": \"table\"}]}, \"layout\": {\"annotationdefaults\": {\"arrowcolor\": \"#2a3f5f\", \"arrowhead\": 0, \"arrowwidth\": 1}, \"coloraxis\": {\"colorbar\": {\"outlinewidth\": 0, \"ticks\": \"\"}}, \"colorscale\": {\"diverging\": [[0, \"#8e0152\"], [0.1, \"#c51b7d\"], [0.2, \"#de77ae\"], [0.3, \"#f1b6da\"], [0.4, \"#fde0ef\"], [0.5, \"#f7f7f7\"], [0.6, \"#e6f5d0\"], [0.7, \"#b8e186\"], [0.8, \"#7fbc41\"], [0.9, \"#4d9221\"], [1, \"#276419\"]], \"sequential\": [[0.0, \"#0d0887\"], [0.1111111111111111, \"#46039f\"], [0.2222222222222222, \"#7201a8\"], [0.3333333333333333, \"#9c179e\"], [0.4444444444444444, \"#bd3786\"], [0.5555555555555556, \"#d8576b\"], [0.6666666666666666, \"#ed7953\"], [0.7777777777777778, \"#fb9f3a\"], [0.8888888888888888, \"#fdca26\"], [1.0, \"#f0f921\"]], \"sequentialminus\": [[0.0, \"#0d0887\"], [0.1111111111111111, \"#46039f\"], [0.2222222222222222, \"#7201a8\"], [0.3333333333333333, \"#9c179e\"], [0.4444444444444444, \"#bd3786\"], [0.5555555555555556, \"#d8576b\"], [0.6666666666666666, \"#ed7953\"], [0.7777777777777778, \"#fb9f3a\"], [0.8888888888888888, \"#fdca26\"], [1.0, \"#f0f921\"]]}, \"colorway\": [\"#636efa\", \"#EF553B\", \"#00cc96\", \"#ab63fa\", \"#FFA15A\", \"#19d3f3\", \"#FF6692\", \"#B6E880\", \"#FF97FF\", \"#FECB52\"], \"font\": {\"color\": \"#2a3f5f\"}, \"geo\": {\"bgcolor\": \"white\", \"lakecolor\": \"white\", \"landcolor\": \"#E5ECF6\", \"showlakes\": true, \"showland\": true, \"subunitcolor\": \"white\"}, \"hoverlabel\": {\"align\": \"left\"}, \"hovermode\": \"closest\", \"mapbox\": {\"style\": \"light\"}, \"paper_bgcolor\": \"white\", \"plot_bgcolor\": \"#E5ECF6\", \"polar\": {\"angularaxis\": {\"gridcolor\": \"white\", \"linecolor\": \"white\", \"ticks\": \"\"}, \"bgcolor\": \"#E5ECF6\", \"radialaxis\": {\"gridcolor\": \"white\", \"linecolor\": \"white\", \"ticks\": \"\"}}, \"scene\": {\"xaxis\": {\"backgroundcolor\": \"#E5ECF6\", \"gridcolor\": \"white\", \"gridwidth\": 2, \"linecolor\": \"white\", \"showbackground\": true, \"ticks\": \"\", \"zerolinecolor\": \"white\"}, \"yaxis\": {\"backgroundcolor\": \"#E5ECF6\", \"gridcolor\": \"white\", \"gridwidth\": 2, \"linecolor\": \"white\", \"showbackground\": true, \"ticks\": \"\", \"zerolinecolor\": \"white\"}, \"zaxis\": {\"backgroundcolor\": \"#E5ECF6\", \"gridcolor\": \"white\", \"gridwidth\": 2, \"linecolor\": \"white\", \"showbackground\": true, \"ticks\": \"\", \"zerolinecolor\": \"white\"}}, \"shapedefaults\": {\"line\": {\"color\": \"#2a3f5f\"}}, \"ternary\": {\"aaxis\": {\"gridcolor\": \"white\", \"linecolor\": \"white\", \"ticks\": \"\"}, \"baxis\": {\"gridcolor\": \"white\", \"linecolor\": \"white\", \"ticks\": \"\"}, \"bgcolor\": \"#E5ECF6\", \"caxis\": {\"gridcolor\": \"white\", \"linecolor\": \"white\", \"ticks\": \"\"}}, \"title\": {\"x\": 0.05}, \"xaxis\": {\"automargin\": true, \"gridcolor\": \"white\", \"linecolor\": \"white\", \"ticks\": \"\", \"title\": {\"standoff\": 15}, \"zerolinecolor\": \"white\", \"zerolinewidth\": 2}, \"yaxis\": {\"automargin\": true, \"gridcolor\": \"white\", \"linecolor\": \"white\", \"ticks\": \"\", \"title\": {\"standoff\": 15}, \"zerolinecolor\": \"white\", \"zerolinewidth\": 2}}}, \"title\": {\"text\": \"Search term evolution for Germany\"}, \"updatemenus\": [{\"buttons\": [{\"args\": [null, {\"frame\": {\"duration\": 500, \"redraw\": true}, \"fromcurrent\": true, \"mode\": \"immediate\", \"transition\": {\"duration\": 500, \"easing\": \"linear\"}}], \"label\": \"&#9654;\", \"method\": \"animate\"}, {\"args\": [[null], {\"frame\": {\"duration\": 0, \"redraw\": true}, \"fromcurrent\": true, \"mode\": \"immediate\", \"transition\": {\"duration\": 0, \"easing\": \"linear\"}}], \"label\": \"&#9724;\", \"method\": \"animate\"}], \"direction\": \"left\", \"pad\": {\"r\": 10, \"t\": 70}, \"showactive\": false, \"type\": \"buttons\", \"x\": 0.1, \"xanchor\": \"right\", \"y\": 0, \"yanchor\": \"top\"}], \"width\": 700},\n",
       "                        {\"responsive\": true}\n",
       "                    ).then(function(){\n",
       "                            Plotly.addFrames('aca9e8c3-a9be-4b55-8004-193a8aa5048e', [{\"data\": [{\"hovertemplate\": \"country=ger<br>date_str=2019-03-11<br>score_difference=%{r}<br>term=%{theta}<extra></extra>\", \"legendgroup\": \"ger\", \"line\": {\"color\": \"#636efa\", \"dash\": \"solid\", \"shape\": \"spline\"}, \"mode\": \"lines\", \"name\": \"ger\", \"r\": [2.0, 8.0, 5.0, 7.0, 7.0, 3.0, 0.0, 0.0, 4.0, 11.0, 7.0, -3.0, 2.0, 0.0, 2.0], \"showlegend\": true, \"subplot\": \"polar\", \"theta\": [\"baking\", \"bananabread\", \"beans\", \"coffee\", \"cooking\", \"grocerydelivery\", \"handsanitizer\", \"mouthcover\", \"pasta\", \"restaurant\", \"rice\", \"spices\", \"to-go\", \"toiletpaper\", \"baking\"], \"type\": \"scatterpolar\"}], \"name\": \"2019-03-11\"}, {\"data\": [{\"hovertemplate\": \"country=ger<br>date_str=2019-10-11<br>score_difference=%{r}<br>term=%{theta}<extra></extra>\", \"legendgroup\": \"ger\", \"line\": {\"color\": \"#636efa\", \"dash\": \"solid\", \"shape\": \"spline\"}, \"mode\": \"lines\", \"name\": \"ger\", \"r\": [6.0, 6.0, 3.0, 0.0, 11.0, 2.0, 0.0, 0.0, 1.0, 8.0, 5.0, -8.0, 21.0, 0.0, 6.0], \"showlegend\": true, \"subplot\": \"polar\", \"theta\": [\"baking\", \"bananabread\", \"beans\", \"coffee\", \"cooking\", \"grocerydelivery\", \"handsanitizer\", \"mouthcover\", \"pasta\", \"restaurant\", \"rice\", \"spices\", \"to-go\", \"toiletpaper\", \"baking\"], \"type\": \"scatterpolar\"}], \"name\": \"2019-10-11\"}, {\"data\": [{\"hovertemplate\": \"country=ger<br>date_str=2019-11-17<br>score_difference=%{r}<br>term=%{theta}<extra></extra>\", \"legendgroup\": \"ger\", \"line\": {\"color\": \"#636efa\", \"dash\": \"solid\", \"shape\": \"spline\"}, \"mode\": \"lines\", \"name\": \"ger\", \"r\": [5.0, 6.0, 2.0, 4.0, 9.0, 3.0, 1.0, 0.0, 23.0, 9.0, 11.0, 5.0, -4.0, 0.0, 5.0], \"showlegend\": true, \"subplot\": \"polar\", \"theta\": [\"baking\", \"bananabread\", \"beans\", \"coffee\", \"cooking\", \"grocerydelivery\", \"handsanitizer\", \"mouthcover\", \"pasta\", \"restaurant\", \"rice\", \"spices\", \"to-go\", \"toiletpaper\", \"baking\"], \"type\": \"scatterpolar\"}], \"name\": \"2019-11-17\"}, {\"data\": [{\"hovertemplate\": \"country=ger<br>date_str=2019-11-24<br>score_difference=%{r}<br>term=%{theta}<extra></extra>\", \"legendgroup\": \"ger\", \"line\": {\"color\": \"#636efa\", \"dash\": \"solid\", \"shape\": \"spline\"}, \"mode\": \"lines\", \"name\": \"ger\", \"r\": [5.0, 5.0, 0.0, -2.0, 5.0, 0.0, 0.0, 0.0, -4.0, 5.0, 6.0, 1.0, 8.0, -1.0, 5.0], \"showlegend\": true, \"subplot\": \"polar\", \"theta\": [\"baking\", \"bananabread\", \"beans\", \"coffee\", \"cooking\", \"grocerydelivery\", \"handsanitizer\", \"mouthcover\", \"pasta\", \"restaurant\", \"rice\", \"spices\", \"to-go\", \"toiletpaper\", \"baking\"], \"type\": \"scatterpolar\"}], \"name\": \"2019-11-24\"}, {\"data\": [{\"hovertemplate\": \"country=ger<br>date_str=2019-01-12<br>score_difference=%{r}<br>term=%{theta}<extra></extra>\", \"legendgroup\": \"ger\", \"line\": {\"color\": \"#636efa\", \"dash\": \"solid\", \"shape\": \"spline\"}, \"mode\": \"lines\", \"name\": \"ger\", \"r\": [6.0, 6.0, -5.0, 10.0, 7.0, 1.0, 1.0, 0.0, 8.0, 3.0, 8.0, 5.0, 7.0, 0.0, 6.0], \"showlegend\": true, \"subplot\": \"polar\", \"theta\": [\"baking\", \"bananabread\", \"beans\", \"coffee\", \"cooking\", \"grocerydelivery\", \"handsanitizer\", \"mouthcover\", \"pasta\", \"restaurant\", \"rice\", \"spices\", \"to-go\", \"toiletpaper\", \"baking\"], \"type\": \"scatterpolar\"}], \"name\": \"2019-01-12\"}, {\"data\": [{\"hovertemplate\": \"country=ger<br>date_str=2019-08-12<br>score_difference=%{r}<br>term=%{theta}<extra></extra>\", \"legendgroup\": \"ger\", \"line\": {\"color\": \"#636efa\", \"dash\": \"solid\", \"shape\": \"spline\"}, \"mode\": \"lines\", \"name\": \"ger\", \"r\": [5.0, 4.0, 7.0, 9.0, 4.0, -1.0, 0.0, 0.0, 0.0, 3.0, 13.0, 5.0, 3.0, 1.0, 5.0], \"showlegend\": true, \"subplot\": \"polar\", \"theta\": [\"baking\", \"bananabread\", \"beans\", \"coffee\", \"cooking\", \"grocerydelivery\", \"handsanitizer\", \"mouthcover\", \"pasta\", \"restaurant\", \"rice\", \"spices\", \"to-go\", \"toiletpaper\", \"baking\"], \"type\": \"scatterpolar\"}], \"name\": \"2019-08-12\"}, {\"data\": [{\"hovertemplate\": \"country=ger<br>date_str=2019-12-15<br>score_difference=%{r}<br>term=%{theta}<extra></extra>\", \"legendgroup\": \"ger\", \"line\": {\"color\": \"#636efa\", \"dash\": \"solid\", \"shape\": \"spline\"}, \"mode\": \"lines\", \"name\": \"ger\", \"r\": [7.0, 1.0, 0.0, 2.0, 3.0, 2.0, 0.0, 0.0, -2.0, 6.0, 6.0, 17.0, -7.0, 0.0, 7.0], \"showlegend\": true, \"subplot\": \"polar\", \"theta\": [\"baking\", \"bananabread\", \"beans\", \"coffee\", \"cooking\", \"grocerydelivery\", \"handsanitizer\", \"mouthcover\", \"pasta\", \"restaurant\", \"rice\", \"spices\", \"to-go\", \"toiletpaper\", \"baking\"], \"type\": \"scatterpolar\"}], \"name\": \"2019-12-15\"}, {\"data\": [{\"hovertemplate\": \"country=ger<br>date_str=2019-12-22<br>score_difference=%{r}<br>term=%{theta}<extra></extra>\", \"legendgroup\": \"ger\", \"line\": {\"color\": \"#636efa\", \"dash\": \"solid\", \"shape\": \"spline\"}, \"mode\": \"lines\", \"name\": \"ger\", \"r\": [7.0, 3.0, -1.0, 13.0, 14.0, 4.0, 0.0, -1.0, 5.0, 7.0, 9.0, 16.0, 10.0, -1.0, 7.0], \"showlegend\": true, \"subplot\": \"polar\", \"theta\": [\"baking\", \"bananabread\", \"beans\", \"coffee\", \"cooking\", \"grocerydelivery\", \"handsanitizer\", \"mouthcover\", \"pasta\", \"restaurant\", \"rice\", \"spices\", \"to-go\", \"toiletpaper\", \"baking\"], \"type\": \"scatterpolar\"}], \"name\": \"2019-12-22\"}, {\"data\": [{\"hovertemplate\": \"country=ger<br>date_str=2019-12-29<br>score_difference=%{r}<br>term=%{theta}<extra></extra>\", \"legendgroup\": \"ger\", \"line\": {\"color\": \"#636efa\", \"dash\": \"solid\", \"shape\": \"spline\"}, \"mode\": \"lines\", \"name\": \"ger\", \"r\": [3.0, 7.0, 2.0, 4.0, 6.0, -2.0, 0.0, -1.0, 0.0, 15.0, 7.0, 8.0, 16.0, 0.0, 3.0], \"showlegend\": true, \"subplot\": \"polar\", \"theta\": [\"baking\", \"bananabread\", \"beans\", \"coffee\", \"cooking\", \"grocerydelivery\", \"handsanitizer\", \"mouthcover\", \"pasta\", \"restaurant\", \"rice\", \"spices\", \"to-go\", \"toiletpaper\", \"baking\"], \"type\": \"scatterpolar\"}], \"name\": \"2019-12-29\"}, {\"data\": [{\"hovertemplate\": \"country=ger<br>date_str=2020-05-01<br>score_difference=%{r}<br>term=%{theta}<extra></extra>\", \"legendgroup\": \"ger\", \"line\": {\"color\": \"#636efa\", \"dash\": \"solid\", \"shape\": \"spline\"}, \"mode\": \"lines\", \"name\": \"ger\", \"r\": [1.0, 3.0, 7.0, 10.0, 6.0, 0.0, 1.0, 0.0, 3.0, 10.0, 8.0, 10.0, 0.0, -3.0, 1.0], \"showlegend\": true, \"subplot\": \"polar\", \"theta\": [\"baking\", \"bananabread\", \"beans\", \"coffee\", \"cooking\", \"grocerydelivery\", \"handsanitizer\", \"mouthcover\", \"pasta\", \"restaurant\", \"rice\", \"spices\", \"to-go\", \"toiletpaper\", \"baking\"], \"type\": \"scatterpolar\"}], \"name\": \"2020-05-01\"}, {\"data\": [{\"hovertemplate\": \"country=ger<br>date_str=2020-12-01<br>score_difference=%{r}<br>term=%{theta}<extra></extra>\", \"legendgroup\": \"ger\", \"line\": {\"color\": \"#636efa\", \"dash\": \"solid\", \"shape\": \"spline\"}, \"mode\": \"lines\", \"name\": \"ger\", \"r\": [5.0, 7.0, 9.0, 6.0, 7.0, 3.0, 0.0, -1.0, 10.0, 9.0, 11.0, -2.0, -11.0, -2.0, 5.0], \"showlegend\": true, \"subplot\": \"polar\", \"theta\": [\"baking\", \"bananabread\", \"beans\", \"coffee\", \"cooking\", \"grocerydelivery\", \"handsanitizer\", \"mouthcover\", \"pasta\", \"restaurant\", \"rice\", \"spices\", \"to-go\", \"toiletpaper\", \"baking\"], \"type\": \"scatterpolar\"}], \"name\": \"2020-12-01\"}, {\"data\": [{\"hovertemplate\": \"country=ger<br>date_str=2020-01-19<br>score_difference=%{r}<br>term=%{theta}<extra></extra>\", \"legendgroup\": \"ger\", \"line\": {\"color\": \"#636efa\", \"dash\": \"solid\", \"shape\": \"spline\"}, \"mode\": \"lines\", \"name\": \"ger\", \"r\": [5.0, 5.0, 9.0, 12.0, 7.0, -2.0, 1.0, 0.0, 8.0, 11.0, 17.0, 8.0, 4.0, 0.0, 5.0], \"showlegend\": true, \"subplot\": \"polar\", \"theta\": [\"baking\", \"bananabread\", \"beans\", \"coffee\", \"cooking\", \"grocerydelivery\", \"handsanitizer\", \"mouthcover\", \"pasta\", \"restaurant\", \"rice\", \"spices\", \"to-go\", \"toiletpaper\", \"baking\"], \"type\": \"scatterpolar\"}], \"name\": \"2020-01-19\"}, {\"data\": [{\"hovertemplate\": \"country=ger<br>date_str=2020-01-26<br>score_difference=%{r}<br>term=%{theta}<extra></extra>\", \"legendgroup\": \"ger\", \"line\": {\"color\": \"#636efa\", \"dash\": \"solid\", \"shape\": \"spline\"}, \"mode\": \"lines\", \"name\": \"ger\", \"r\": [5.0, 6.0, 3.0, -2.0, 4.0, 4.0, 2.0, 4.0, 0.0, 9.0, 11.0, 7.0, -1.0, -1.0, 5.0], \"showlegend\": true, \"subplot\": \"polar\", \"theta\": [\"baking\", \"bananabread\", \"beans\", \"coffee\", \"cooking\", \"grocerydelivery\", \"handsanitizer\", \"mouthcover\", \"pasta\", \"restaurant\", \"rice\", \"spices\", \"to-go\", \"toiletpaper\", \"baking\"], \"type\": \"scatterpolar\"}], \"name\": \"2020-01-26\"}, {\"data\": [{\"hovertemplate\": \"country=ger<br>date_str=2020-02-02<br>score_difference=%{r}<br>term=%{theta}<extra></extra>\", \"legendgroup\": \"ger\", \"line\": {\"color\": \"#636efa\", \"dash\": \"solid\", \"shape\": \"spline\"}, \"mode\": \"lines\", \"name\": \"ger\", \"r\": [5.0, 6.0, 7.0, 8.0, 5.0, 0.0, 2.0, 2.0, 0.0, 2.0, 9.0, -8.0, 1.0, -1.0, 5.0], \"showlegend\": true, \"subplot\": \"polar\", \"theta\": [\"baking\", \"bananabread\", \"beans\", \"coffee\", \"cooking\", \"grocerydelivery\", \"handsanitizer\", \"mouthcover\", \"pasta\", \"restaurant\", \"rice\", \"spices\", \"to-go\", \"toiletpaper\", \"baking\"], \"type\": \"scatterpolar\"}], \"name\": \"2020-02-02\"}, {\"data\": [{\"hovertemplate\": \"country=ger<br>date_str=2020-09-02<br>score_difference=%{r}<br>term=%{theta}<extra></extra>\", \"legendgroup\": \"ger\", \"line\": {\"color\": \"#636efa\", \"dash\": \"solid\", \"shape\": \"spline\"}, \"mode\": \"lines\", \"name\": \"ger\", \"r\": [7.0, 6.0, 5.0, 8.0, 5.0, 2.0, 1.0, 1.0, 3.0, 3.0, 9.0, -1.0, 9.0, 0.0, 7.0], \"showlegend\": true, \"subplot\": \"polar\", \"theta\": [\"baking\", \"bananabread\", \"beans\", \"coffee\", \"cooking\", \"grocerydelivery\", \"handsanitizer\", \"mouthcover\", \"pasta\", \"restaurant\", \"rice\", \"spices\", \"to-go\", \"toiletpaper\", \"baking\"], \"type\": \"scatterpolar\"}], \"name\": \"2020-09-02\"}, {\"data\": [{\"hovertemplate\": \"country=ger<br>date_str=2020-02-16<br>score_difference=%{r}<br>term=%{theta}<extra></extra>\", \"legendgroup\": \"ger\", \"line\": {\"color\": \"#636efa\", \"dash\": \"solid\", \"shape\": \"spline\"}, \"mode\": \"lines\", \"name\": \"ger\", \"r\": [8.0, 8.0, 0.0, 8.0, 6.0, 1.0, 0.0, 1.0, 5.0, 5.0, 8.0, 6.0, 7.0, 0.0, 8.0], \"showlegend\": true, \"subplot\": \"polar\", \"theta\": [\"baking\", \"bananabread\", \"beans\", \"coffee\", \"cooking\", \"grocerydelivery\", \"handsanitizer\", \"mouthcover\", \"pasta\", \"restaurant\", \"rice\", \"spices\", \"to-go\", \"toiletpaper\", \"baking\"], \"type\": \"scatterpolar\"}], \"name\": \"2020-02-16\"}, {\"data\": [{\"hovertemplate\": \"country=ger<br>date_str=2020-02-23<br>score_difference=%{r}<br>term=%{theta}<extra></extra>\", \"legendgroup\": \"ger\", \"line\": {\"color\": \"#636efa\", \"dash\": \"solid\", \"shape\": \"spline\"}, \"mode\": \"lines\", \"name\": \"ger\", \"r\": [10.0, 7.0, 15.0, -3.0, 10.0, 0.0, 71.0, 17.0, 7.0, -2.0, 21.0, 1.0, -2.0, 0.0, 10.0], \"showlegend\": true, \"subplot\": \"polar\", \"theta\": [\"baking\", \"bananabread\", \"beans\", \"coffee\", \"cooking\", \"grocerydelivery\", \"handsanitizer\", \"mouthcover\", \"pasta\", \"restaurant\", \"rice\", \"spices\", \"to-go\", \"toiletpaper\", \"baking\"], \"type\": \"scatterpolar\"}], \"name\": \"2020-02-23\"}, {\"data\": [{\"hovertemplate\": \"country=ger<br>date_str=2020-01-03<br>score_difference=%{r}<br>term=%{theta}<extra></extra>\", \"legendgroup\": \"ger\", \"line\": {\"color\": \"#636efa\", \"dash\": \"solid\", \"shape\": \"spline\"}, \"mode\": \"lines\", \"name\": \"ger\", \"r\": [6.0, 7.0, 8.0, 0.0, 5.0, -5.0, 89.0, 5.0, 8.0, -7.0, 13.0, 6.0, -5.0, 6.0, 6.0], \"showlegend\": true, \"subplot\": \"polar\", \"theta\": [\"baking\", \"bananabread\", \"beans\", \"coffee\", \"cooking\", \"grocerydelivery\", \"handsanitizer\", \"mouthcover\", \"pasta\", \"restaurant\", \"rice\", \"spices\", \"to-go\", \"toiletpaper\", \"baking\"], \"type\": \"scatterpolar\"}], \"name\": \"2020-01-03\"}, {\"data\": [{\"hovertemplate\": \"country=ger<br>date_str=2020-08-03<br>score_difference=%{r}<br>term=%{theta}<extra></extra>\", \"legendgroup\": \"ger\", \"line\": {\"color\": \"#636efa\", \"dash\": \"solid\", \"shape\": \"spline\"}, \"mode\": \"lines\", \"name\": \"ger\", \"r\": [5.0, 12.0, -4.0, -15.0, -1.0, 11.0, 92.0, 6.0, 2.0, -19.0, 12.0, -5.0, -13.0, 18.0, 5.0], \"showlegend\": true, \"subplot\": \"polar\", \"theta\": [\"baking\", \"bananabread\", \"beans\", \"coffee\", \"cooking\", \"grocerydelivery\", \"handsanitizer\", \"mouthcover\", \"pasta\", \"restaurant\", \"rice\", \"spices\", \"to-go\", \"toiletpaper\", \"baking\"], \"type\": \"scatterpolar\"}], \"name\": \"2020-08-03\"}, {\"data\": [{\"hovertemplate\": \"country=ger<br>date_str=2020-03-15<br>score_difference=%{r}<br>term=%{theta}<extra></extra>\", \"legendgroup\": \"ger\", \"line\": {\"color\": \"#636efa\", \"dash\": \"solid\", \"shape\": \"spline\"}, \"mode\": \"lines\", \"name\": \"ger\", \"r\": [28.0, 26.0, 6.0, -25.0, 3.0, 63.0, 99.0, 15.0, 3.0, -37.0, 5.0, -11.0, 0.0, 98.0, 28.0], \"showlegend\": true, \"subplot\": \"polar\", \"theta\": [\"baking\", \"bananabread\", \"beans\", \"coffee\", \"cooking\", \"grocerydelivery\", \"handsanitizer\", \"mouthcover\", \"pasta\", \"restaurant\", \"rice\", \"spices\", \"to-go\", \"toiletpaper\", \"baking\"], \"type\": \"scatterpolar\"}], \"name\": \"2020-03-15\"}, {\"data\": [{\"hovertemplate\": \"country=ger<br>date_str=2020-03-22<br>score_difference=%{r}<br>term=%{theta}<extra></extra>\", \"legendgroup\": \"ger\", \"line\": {\"color\": \"#636efa\", \"dash\": \"solid\", \"shape\": \"spline\"}, \"mode\": \"lines\", \"name\": \"ger\", \"r\": [40.0, 68.0, 13.0, -16.0, 17.0, 67.0, 56.0, 21.0, 19.0, -51.0, 24.0, 5.0, 19.0, 71.0, 40.0], \"showlegend\": true, \"subplot\": \"polar\", \"theta\": [\"baking\", \"bananabread\", \"beans\", \"coffee\", \"cooking\", \"grocerydelivery\", \"handsanitizer\", \"mouthcover\", \"pasta\", \"restaurant\", \"rice\", \"spices\", \"to-go\", \"toiletpaper\", \"baking\"], \"type\": \"scatterpolar\"}], \"name\": \"2020-03-22\"}, {\"data\": [{\"hovertemplate\": \"country=ger<br>date_str=2020-03-29<br>score_difference=%{r}<br>term=%{theta}<extra></extra>\", \"legendgroup\": \"ger\", \"line\": {\"color\": \"#636efa\", \"dash\": \"solid\", \"shape\": \"spline\"}, \"mode\": \"lines\", \"name\": \"ger\", \"r\": [48.0, 86.0, 9.0, 0.0, 25.0, 84.0, 32.0, 32.0, 19.0, -45.0, 31.0, 25.0, -1.0, 40.0, 48.0], \"showlegend\": true, \"subplot\": \"polar\", \"theta\": [\"baking\", \"bananabread\", \"beans\", \"coffee\", \"cooking\", \"grocerydelivery\", \"handsanitizer\", \"mouthcover\", \"pasta\", \"restaurant\", \"rice\", \"spices\", \"to-go\", \"toiletpaper\", \"baking\"], \"type\": \"scatterpolar\"}], \"name\": \"2020-03-29\"}, {\"data\": [{\"hovertemplate\": \"country=ger<br>date_str=2020-05-04<br>score_difference=%{r}<br>term=%{theta}<extra></extra>\", \"legendgroup\": \"ger\", \"line\": {\"color\": \"#636efa\", \"dash\": \"solid\", \"shape\": \"spline\"}, \"mode\": \"lines\", \"name\": \"ger\", \"r\": [69.0, 61.0, 18.0, -5.0, 41.0, 60.0, 19.0, 26.0, 22.0, -46.0, 25.0, 28.0, 10.0, 18.0, 69.0], \"showlegend\": true, \"subplot\": \"polar\", \"theta\": [\"baking\", \"bananabread\", \"beans\", \"coffee\", \"cooking\", \"grocerydelivery\", \"handsanitizer\", \"mouthcover\", \"pasta\", \"restaurant\", \"rice\", \"spices\", \"to-go\", \"toiletpaper\", \"baking\"], \"type\": \"scatterpolar\"}], \"name\": \"2020-05-04\"}, {\"data\": [{\"hovertemplate\": \"country=ger<br>date_str=2020-12-04<br>score_difference=%{r}<br>term=%{theta}<extra></extra>\", \"legendgroup\": \"ger\", \"line\": {\"color\": \"#636efa\", \"dash\": \"solid\", \"shape\": \"spline\"}, \"mode\": \"lines\", \"name\": \"ger\", \"r\": [6.0, 48.0, 21.0, 0.0, 2.0, 27.0, 20.0, 37.0, 24.0, -57.0, 22.0, 19.0, 9.0, 8.0, 6.0], \"showlegend\": true, \"subplot\": \"polar\", \"theta\": [\"baking\", \"bananabread\", \"beans\", \"coffee\", \"cooking\", \"grocerydelivery\", \"handsanitizer\", \"mouthcover\", \"pasta\", \"restaurant\", \"rice\", \"spices\", \"to-go\", \"toiletpaper\", \"baking\"], \"type\": \"scatterpolar\"}], \"name\": \"2020-12-04\"}, {\"data\": [{\"hovertemplate\": \"country=ger<br>date_str=2020-04-19<br>score_difference=%{r}<br>term=%{theta}<extra></extra>\", \"legendgroup\": \"ger\", \"line\": {\"color\": \"#636efa\", \"dash\": \"solid\", \"shape\": \"spline\"}, \"mode\": \"lines\", \"name\": \"ger\", \"r\": [19.0, 40.0, 10.0, 6.0, 17.0, 28.0, 37.0, 96.0, 14.0, -50.0, 33.0, 17.0, 29.0, 5.0, 19.0], \"showlegend\": true, \"subplot\": \"polar\", \"theta\": [\"baking\", \"bananabread\", \"beans\", \"coffee\", \"cooking\", \"grocerydelivery\", \"handsanitizer\", \"mouthcover\", \"pasta\", \"restaurant\", \"rice\", \"spices\", \"to-go\", \"toiletpaper\", \"baking\"], \"type\": \"scatterpolar\"}], \"name\": \"2020-04-19\"}, {\"data\": [{\"hovertemplate\": \"country=ger<br>date_str=2020-04-26<br>score_difference=%{r}<br>term=%{theta}<extra></extra>\", \"legendgroup\": \"ger\", \"line\": {\"color\": \"#636efa\", \"dash\": \"solid\", \"shape\": \"spline\"}, \"mode\": \"lines\", \"name\": \"ger\", \"r\": [26.0, 40.0, 15.0, -5.0, 17.0, 35.0, 26.0, 74.0, 37.0, -45.0, 29.0, 22.0, 26.0, 1.0, 26.0], \"showlegend\": true, \"subplot\": \"polar\", \"theta\": [\"baking\", \"bananabread\", \"beans\", \"coffee\", \"cooking\", \"grocerydelivery\", \"handsanitizer\", \"mouthcover\", \"pasta\", \"restaurant\", \"rice\", \"spices\", \"to-go\", \"toiletpaper\", \"baking\"], \"type\": \"scatterpolar\"}], \"name\": \"2020-04-26\"}, {\"data\": [{\"hovertemplate\": \"country=ger<br>date_str=2020-03-05<br>score_difference=%{r}<br>term=%{theta}<extra></extra>\", \"legendgroup\": \"ger\", \"line\": {\"color\": \"#636efa\", \"dash\": \"solid\", \"shape\": \"spline\"}, \"mode\": \"lines\", \"name\": \"ger\", \"r\": [19.0, 24.0, 15.0, 4.0, 9.0, 17.0, 14.0, 32.0, 18.0, -41.0, 25.0, 17.0, 32.0, 1.0, 19.0], \"showlegend\": true, \"subplot\": \"polar\", \"theta\": [\"baking\", \"bananabread\", \"beans\", \"coffee\", \"cooking\", \"grocerydelivery\", \"handsanitizer\", \"mouthcover\", \"pasta\", \"restaurant\", \"rice\", \"spices\", \"to-go\", \"toiletpaper\", \"baking\"], \"type\": \"scatterpolar\"}], \"name\": \"2020-03-05\"}, {\"data\": [{\"hovertemplate\": \"country=ger<br>date_str=2020-10-05<br>score_difference=%{r}<br>term=%{theta}<extra></extra>\", \"legendgroup\": \"ger\", \"line\": {\"color\": \"#636efa\", \"dash\": \"solid\", \"shape\": \"spline\"}, \"mode\": \"lines\", \"name\": \"ger\", \"r\": [19.0, 21.0, 17.0, 4.0, 14.0, 18.0, 15.0, 28.0, 4.0, -25.0, 26.0, 16.0, 23.0, 2.0, 19.0], \"showlegend\": true, \"subplot\": \"polar\", \"theta\": [\"baking\", \"bananabread\", \"beans\", \"coffee\", \"cooking\", \"grocerydelivery\", \"handsanitizer\", \"mouthcover\", \"pasta\", \"restaurant\", \"rice\", \"spices\", \"to-go\", \"toiletpaper\", \"baking\"], \"type\": \"scatterpolar\"}], \"name\": \"2020-10-05\"}, {\"data\": [{\"hovertemplate\": \"country=ger<br>date_str=2020-05-17<br>score_difference=%{r}<br>term=%{theta}<extra></extra>\", \"legendgroup\": \"ger\", \"line\": {\"color\": \"#636efa\", \"dash\": \"solid\", \"shape\": \"spline\"}, \"mode\": \"lines\", \"name\": \"ger\", \"r\": [21.0, 14.0, 20.0, 16.0, 14.0, 27.0, 10.0, 20.0, 15.0, -7.0, 14.0, 14.0, 19.0, 1.0, 21.0], \"showlegend\": true, \"subplot\": \"polar\", \"theta\": [\"baking\", \"bananabread\", \"beans\", \"coffee\", \"cooking\", \"grocerydelivery\", \"handsanitizer\", \"mouthcover\", \"pasta\", \"restaurant\", \"rice\", \"spices\", \"to-go\", \"toiletpaper\", \"baking\"], \"type\": \"scatterpolar\"}], \"name\": \"2020-05-17\"}, {\"data\": [{\"hovertemplate\": \"country=ger<br>date_str=2020-05-24<br>score_difference=%{r}<br>term=%{theta}<extra></extra>\", \"legendgroup\": \"ger\", \"line\": {\"color\": \"#636efa\", \"dash\": \"solid\", \"shape\": \"spline\"}, \"mode\": \"lines\", \"name\": \"ger\", \"r\": [12.0, 21.0, 24.0, 13.0, 11.0, 15.0, 9.0, 16.0, 13.0, -17.0, 23.0, 15.0, 11.0, 1.0, 12.0], \"showlegend\": true, \"subplot\": \"polar\", \"theta\": [\"baking\", \"bananabread\", \"beans\", \"coffee\", \"cooking\", \"grocerydelivery\", \"handsanitizer\", \"mouthcover\", \"pasta\", \"restaurant\", \"rice\", \"spices\", \"to-go\", \"toiletpaper\", \"baking\"], \"type\": \"scatterpolar\"}], \"name\": \"2020-05-24\"}, {\"data\": [{\"hovertemplate\": \"country=ger<br>date_str=2020-05-31<br>score_difference=%{r}<br>term=%{theta}<extra></extra>\", \"legendgroup\": \"ger\", \"line\": {\"color\": \"#636efa\", \"dash\": \"solid\", \"shape\": \"spline\"}, \"mode\": \"lines\", \"name\": \"ger\", \"r\": [18.0, 15.0, 23.0, 17.0, 16.0, 16.0, 6.0, 13.0, 21.0, -1.0, 17.0, 17.0, -4.0, 0.0, 18.0], \"showlegend\": true, \"subplot\": \"polar\", \"theta\": [\"baking\", \"bananabread\", \"beans\", \"coffee\", \"cooking\", \"grocerydelivery\", \"handsanitizer\", \"mouthcover\", \"pasta\", \"restaurant\", \"rice\", \"spices\", \"to-go\", \"toiletpaper\", \"baking\"], \"type\": \"scatterpolar\"}], \"name\": \"2020-05-31\"}, {\"data\": [{\"hovertemplate\": \"country=ger<br>date_str=2020-07-06<br>score_difference=%{r}<br>term=%{theta}<extra></extra>\", \"legendgroup\": \"ger\", \"line\": {\"color\": \"#636efa\", \"dash\": \"solid\", \"shape\": \"spline\"}, \"mode\": \"lines\", \"name\": \"ger\", \"r\": [17.0, 11.0, 12.0, 15.0, 12.0, 9.0, 5.0, 12.0, 12.0, -3.0, 32.0, 11.0, 14.0, 1.0, 17.0], \"showlegend\": true, \"subplot\": \"polar\", \"theta\": [\"baking\", \"bananabread\", \"beans\", \"coffee\", \"cooking\", \"grocerydelivery\", \"handsanitizer\", \"mouthcover\", \"pasta\", \"restaurant\", \"rice\", \"spices\", \"to-go\", \"toiletpaper\", \"baking\"], \"type\": \"scatterpolar\"}], \"name\": \"2020-07-06\"}, {\"data\": [{\"hovertemplate\": \"country=ger<br>date_str=2020-06-14<br>score_difference=%{r}<br>term=%{theta}<extra></extra>\", \"legendgroup\": \"ger\", \"line\": {\"color\": \"#636efa\", \"dash\": \"solid\", \"shape\": \"spline\"}, \"mode\": \"lines\", \"name\": \"ger\", \"r\": [14.0, 15.0, 21.0, 12.0, 10.0, 17.0, 5.0, 12.0, 10.0, -8.0, 28.0, 21.0, -10.0, 1.0, 14.0], \"showlegend\": true, \"subplot\": \"polar\", \"theta\": [\"baking\", \"bananabread\", \"beans\", \"coffee\", \"cooking\", \"grocerydelivery\", \"handsanitizer\", \"mouthcover\", \"pasta\", \"restaurant\", \"rice\", \"spices\", \"to-go\", \"toiletpaper\", \"baking\"], \"type\": \"scatterpolar\"}], \"name\": \"2020-06-14\"}, {\"data\": [{\"hovertemplate\": \"country=ger<br>date_str=2020-06-21<br>score_difference=%{r}<br>term=%{theta}<extra></extra>\", \"legendgroup\": \"ger\", \"line\": {\"color\": \"#636efa\", \"dash\": \"solid\", \"shape\": \"spline\"}, \"mode\": \"lines\", \"name\": \"ger\", \"r\": [11.0, 8.0, 12.0, 23.0, 12.0, 8.0, 3.0, 10.0, 9.0, 5.0, 24.0, 15.0, -4.0, 0.0, 11.0], \"showlegend\": true, \"subplot\": \"polar\", \"theta\": [\"baking\", \"bananabread\", \"beans\", \"coffee\", \"cooking\", \"grocerydelivery\", \"handsanitizer\", \"mouthcover\", \"pasta\", \"restaurant\", \"rice\", \"spices\", \"to-go\", \"toiletpaper\", \"baking\"], \"type\": \"scatterpolar\"}], \"name\": \"2020-06-21\"}, {\"data\": [{\"hovertemplate\": \"country=ger<br>date_str=2020-06-28<br>score_difference=%{r}<br>term=%{theta}<extra></extra>\", \"legendgroup\": \"ger\", \"line\": {\"color\": \"#636efa\", \"dash\": \"solid\", \"shape\": \"spline\"}, \"mode\": \"lines\", \"name\": \"ger\", \"r\": [13.0, 16.0, 10.0, 15.0, 11.0, 9.0, 4.0, 11.0, 11.0, 6.0, 21.0, 14.0, 7.0, 0.0, 13.0], \"showlegend\": true, \"subplot\": \"polar\", \"theta\": [\"baking\", \"bananabread\", \"beans\", \"coffee\", \"cooking\", \"grocerydelivery\", \"handsanitizer\", \"mouthcover\", \"pasta\", \"restaurant\", \"rice\", \"spices\", \"to-go\", \"toiletpaper\", \"baking\"], \"type\": \"scatterpolar\"}], \"name\": \"2020-06-28\"}, {\"data\": [{\"hovertemplate\": \"country=ger<br>date_str=2020-05-07<br>score_difference=%{r}<br>term=%{theta}<extra></extra>\", \"legendgroup\": \"ger\", \"line\": {\"color\": \"#636efa\", \"dash\": \"solid\", \"shape\": \"spline\"}, \"mode\": \"lines\", \"name\": \"ger\", \"r\": [10.0, 12.0, 11.0, 13.0, 7.0, 8.0, 4.0, 12.0, 18.0, 8.0, 26.0, 24.0, 9.0, 1.0, 10.0], \"showlegend\": true, \"subplot\": \"polar\", \"theta\": [\"baking\", \"bananabread\", \"beans\", \"coffee\", \"cooking\", \"grocerydelivery\", \"handsanitizer\", \"mouthcover\", \"pasta\", \"restaurant\", \"rice\", \"spices\", \"to-go\", \"toiletpaper\", \"baking\"], \"type\": \"scatterpolar\"}], \"name\": \"2020-05-07\"}, {\"data\": [{\"hovertemplate\": \"country=ger<br>date_str=2020-12-07<br>score_difference=%{r}<br>term=%{theta}<extra></extra>\", \"legendgroup\": \"ger\", \"line\": {\"color\": \"#636efa\", \"dash\": \"solid\", \"shape\": \"spline\"}, \"mode\": \"lines\", \"name\": \"ger\", \"r\": [8.0, 9.0, 19.0, 9.0, 8.0, 9.0, 2.0, 14.0, 24.0, 10.0, 22.0, 3.0, 11.0, 0.0, 8.0], \"showlegend\": true, \"subplot\": \"polar\", \"theta\": [\"baking\", \"bananabread\", \"beans\", \"coffee\", \"cooking\", \"grocerydelivery\", \"handsanitizer\", \"mouthcover\", \"pasta\", \"restaurant\", \"rice\", \"spices\", \"to-go\", \"toiletpaper\", \"baking\"], \"type\": \"scatterpolar\"}], \"name\": \"2020-12-07\"}, {\"data\": [{\"hovertemplate\": \"country=ger<br>date_str=2020-07-19<br>score_difference=%{r}<br>term=%{theta}<extra></extra>\", \"legendgroup\": \"ger\", \"line\": {\"color\": \"#636efa\", \"dash\": \"solid\", \"shape\": \"spline\"}, \"mode\": \"lines\", \"name\": \"ger\", \"r\": [8.0, 8.0, 24.0, 15.0, 8.0, 11.0, 2.0, 12.0, 16.0, 16.0, 21.0, 20.0, 2.0, 0.0, 8.0], \"showlegend\": true, \"subplot\": \"polar\", \"theta\": [\"baking\", \"bananabread\", \"beans\", \"coffee\", \"cooking\", \"grocerydelivery\", \"handsanitizer\", \"mouthcover\", \"pasta\", \"restaurant\", \"rice\", \"spices\", \"to-go\", \"toiletpaper\", \"baking\"], \"type\": \"scatterpolar\"}], \"name\": \"2020-07-19\"}, {\"data\": [{\"hovertemplate\": \"country=ger<br>date_str=2020-07-26<br>score_difference=%{r}<br>term=%{theta}<extra></extra>\", \"legendgroup\": \"ger\", \"line\": {\"color\": \"#636efa\", \"dash\": \"solid\", \"shape\": \"spline\"}, \"mode\": \"lines\", \"name\": \"ger\", \"r\": [6.0, 6.0, 22.0, 12.0, 7.0, 7.0, 2.0, 13.0, 14.0, 10.0, 11.0, 17.0, 16.0, 0.0, 6.0], \"showlegend\": true, \"subplot\": \"polar\", \"theta\": [\"baking\", \"bananabread\", \"beans\", \"coffee\", \"cooking\", \"grocerydelivery\", \"handsanitizer\", \"mouthcover\", \"pasta\", \"restaurant\", \"rice\", \"spices\", \"to-go\", \"toiletpaper\", \"baking\"], \"type\": \"scatterpolar\"}], \"name\": \"2020-07-26\"}, {\"data\": [{\"hovertemplate\": \"country=ger<br>date_str=2020-02-08<br>score_difference=%{r}<br>term=%{theta}<extra></extra>\", \"legendgroup\": \"ger\", \"line\": {\"color\": \"#636efa\", \"dash\": \"solid\", \"shape\": \"spline\"}, \"mode\": \"lines\", \"name\": \"ger\", \"r\": [4.0, 7.0, 24.0, 6.0, 4.0, 12.0, 5.0, 17.0, 4.0, 6.0, 10.0, 17.0, 21.0, 0.0, 4.0], \"showlegend\": true, \"subplot\": \"polar\", \"theta\": [\"baking\", \"bananabread\", \"beans\", \"coffee\", \"cooking\", \"grocerydelivery\", \"handsanitizer\", \"mouthcover\", \"pasta\", \"restaurant\", \"rice\", \"spices\", \"to-go\", \"toiletpaper\", \"baking\"], \"type\": \"scatterpolar\"}], \"name\": \"2020-02-08\"}, {\"data\": [{\"hovertemplate\": \"country=ger<br>date_str=2020-09-08<br>score_difference=%{r}<br>term=%{theta}<extra></extra>\", \"legendgroup\": \"ger\", \"line\": {\"color\": \"#636efa\", \"dash\": \"solid\", \"shape\": \"spline\"}, \"mode\": \"lines\", \"name\": \"ger\", \"r\": [3.0, 2.0, 13.0, 0.0, 0.0, 10.0, 5.0, 18.0, 3.0, 8.0, 8.0, 5.0, 27.0, 0.0, 3.0], \"showlegend\": true, \"subplot\": \"polar\", \"theta\": [\"baking\", \"bananabread\", \"beans\", \"coffee\", \"cooking\", \"grocerydelivery\", \"handsanitizer\", \"mouthcover\", \"pasta\", \"restaurant\", \"rice\", \"spices\", \"to-go\", \"toiletpaper\", \"baking\"], \"type\": \"scatterpolar\"}], \"name\": \"2020-09-08\"}, {\"data\": [{\"hovertemplate\": \"country=ger<br>date_str=2020-08-16<br>score_difference=%{r}<br>term=%{theta}<extra></extra>\", \"legendgroup\": \"ger\", \"line\": {\"color\": \"#636efa\", \"dash\": \"solid\", \"shape\": \"spline\"}, \"mode\": \"lines\", \"name\": \"ger\", \"r\": [4.0, 1.0, 23.0, 9.0, 3.0, 10.0, 4.0, 20.0, 5.0, 17.0, 22.0, 10.0, 13.0, -1.0, 4.0], \"showlegend\": true, \"subplot\": \"polar\", \"theta\": [\"baking\", \"bananabread\", \"beans\", \"coffee\", \"cooking\", \"grocerydelivery\", \"handsanitizer\", \"mouthcover\", \"pasta\", \"restaurant\", \"rice\", \"spices\", \"to-go\", \"toiletpaper\", \"baking\"], \"type\": \"scatterpolar\"}], \"name\": \"2020-08-16\"}, {\"data\": [{\"hovertemplate\": \"country=ger<br>date_str=2020-08-23<br>score_difference=%{r}<br>term=%{theta}<extra></extra>\", \"legendgroup\": \"ger\", \"line\": {\"color\": \"#636efa\", \"dash\": \"solid\", \"shape\": \"spline\"}, \"mode\": \"lines\", \"name\": \"ger\", \"r\": [10.0, 11.0, 20.0, 21.0, 9.0, 16.0, 4.0, 20.0, 19.0, 19.0, 22.0, 16.0, 14.0, 0.0, 10.0], \"showlegend\": true, \"subplot\": \"polar\", \"theta\": [\"baking\", \"bananabread\", \"beans\", \"coffee\", \"cooking\", \"grocerydelivery\", \"handsanitizer\", \"mouthcover\", \"pasta\", \"restaurant\", \"rice\", \"spices\", \"to-go\", \"toiletpaper\", \"baking\"], \"type\": \"scatterpolar\"}], \"name\": \"2020-08-23\"}, {\"data\": [{\"hovertemplate\": \"country=ger<br>date_str=2020-08-30<br>score_difference=%{r}<br>term=%{theta}<extra></extra>\", \"legendgroup\": \"ger\", \"line\": {\"color\": \"#636efa\", \"dash\": \"solid\", \"shape\": \"spline\"}, \"mode\": \"lines\", \"name\": \"ger\", \"r\": [-1.0, 4.0, 3.0, 9.0, 3.0, 9.0, 4.0, 17.0, 22.0, 11.0, 17.0, 20.0, 4.0, 0.0, -1.0], \"showlegend\": true, \"subplot\": \"polar\", \"theta\": [\"baking\", \"bananabread\", \"beans\", \"coffee\", \"cooking\", \"grocerydelivery\", \"handsanitizer\", \"mouthcover\", \"pasta\", \"restaurant\", \"rice\", \"spices\", \"to-go\", \"toiletpaper\", \"baking\"], \"type\": \"scatterpolar\"}], \"name\": \"2020-08-30\"}, {\"data\": [{\"hovertemplate\": \"country=ger<br>date_str=2020-06-09<br>score_difference=%{r}<br>term=%{theta}<extra></extra>\", \"legendgroup\": \"ger\", \"line\": {\"color\": \"#636efa\", \"dash\": \"solid\", \"shape\": \"spline\"}, \"mode\": \"lines\", \"name\": \"ger\", \"r\": [-2.0, 7.0, 0.0, 15.0, 6.0, 7.0, 3.0, 15.0, 6.0, 16.0, 12.0, 14.0, 9.0, 0.0, -2.0], \"showlegend\": true, \"subplot\": \"polar\", \"theta\": [\"baking\", \"bananabread\", \"beans\", \"coffee\", \"cooking\", \"grocerydelivery\", \"handsanitizer\", \"mouthcover\", \"pasta\", \"restaurant\", \"rice\", \"spices\", \"to-go\", \"toiletpaper\", \"baking\"], \"type\": \"scatterpolar\"}], \"name\": \"2020-06-09\"}, {\"data\": [{\"hovertemplate\": \"country=ger<br>date_str=2020-09-13<br>score_difference=%{r}<br>term=%{theta}<extra></extra>\", \"legendgroup\": \"ger\", \"line\": {\"color\": \"#636efa\", \"dash\": \"solid\", \"shape\": \"spline\"}, \"mode\": \"lines\", \"name\": \"ger\", \"r\": [-5.0, 5.0, 2.0, 9.0, 1.0, 5.0, 4.0, 14.0, 1.0, 11.0, 15.0, 5.0, 7.0, 0.0, -5.0], \"showlegend\": true, \"subplot\": \"polar\", \"theta\": [\"baking\", \"bananabread\", \"beans\", \"coffee\", \"cooking\", \"grocerydelivery\", \"handsanitizer\", \"mouthcover\", \"pasta\", \"restaurant\", \"rice\", \"spices\", \"to-go\", \"toiletpaper\", \"baking\"], \"type\": \"scatterpolar\"}], \"name\": \"2020-09-13\"}, {\"data\": [{\"hovertemplate\": \"country=ger<br>date_str=2020-09-20<br>score_difference=%{r}<br>term=%{theta}<extra></extra>\", \"legendgroup\": \"ger\", \"line\": {\"color\": \"#636efa\", \"dash\": \"solid\", \"shape\": \"spline\"}, \"mode\": \"lines\", \"name\": \"ger\", \"r\": [-6.0, 4.0, 6.0, 8.0, 4.0, 10.0, 3.0, 14.0, 8.0, 11.0, 17.0, 13.0, 10.0, 0.0, -6.0], \"showlegend\": true, \"subplot\": \"polar\", \"theta\": [\"baking\", \"bananabread\", \"beans\", \"coffee\", \"cooking\", \"grocerydelivery\", \"handsanitizer\", \"mouthcover\", \"pasta\", \"restaurant\", \"rice\", \"spices\", \"to-go\", \"toiletpaper\", \"baking\"], \"type\": \"scatterpolar\"}], \"name\": \"2020-09-20\"}, {\"data\": [{\"hovertemplate\": \"country=ger<br>date_str=2020-09-27<br>score_difference=%{r}<br>term=%{theta}<extra></extra>\", \"legendgroup\": \"ger\", \"line\": {\"color\": \"#636efa\", \"dash\": \"solid\", \"shape\": \"spline\"}, \"mode\": \"lines\", \"name\": \"ger\", \"r\": [-8.0, 2.0, 12.0, 1.0, -1.0, 7.0, 4.0, 17.0, 5.0, -5.0, 10.0, 21.0, 22.0, 0.0, -8.0], \"showlegend\": true, \"subplot\": \"polar\", \"theta\": [\"baking\", \"bananabread\", \"beans\", \"coffee\", \"cooking\", \"grocerydelivery\", \"handsanitizer\", \"mouthcover\", \"pasta\", \"restaurant\", \"rice\", \"spices\", \"to-go\", \"toiletpaper\", \"baking\"], \"type\": \"scatterpolar\"}], \"name\": \"2020-09-27\"}, {\"data\": [{\"hovertemplate\": \"country=ger<br>date_str=2020-04-10<br>score_difference=%{r}<br>term=%{theta}<extra></extra>\", \"legendgroup\": \"ger\", \"line\": {\"color\": \"#636efa\", \"dash\": \"solid\", \"shape\": \"spline\"}, \"mode\": \"lines\", \"name\": \"ger\", \"r\": [-5.0, 8.0, 4.0, 3.0, -2.0, 2.0, 2.0, 20.0, 11.0, 2.0, 10.0, 13.0, 10.0, 0.0, -5.0], \"showlegend\": true, \"subplot\": \"polar\", \"theta\": [\"baking\", \"bananabread\", \"beans\", \"coffee\", \"cooking\", \"grocerydelivery\", \"handsanitizer\", \"mouthcover\", \"pasta\", \"restaurant\", \"rice\", \"spices\", \"to-go\", \"toiletpaper\", \"baking\"], \"type\": \"scatterpolar\"}], \"name\": \"2020-04-10\"}, {\"data\": [{\"hovertemplate\": \"country=ger<br>date_str=2020-11-10<br>score_difference=%{r}<br>term=%{theta}<extra></extra>\", \"legendgroup\": \"ger\", \"line\": {\"color\": \"#636efa\", \"dash\": \"solid\", \"shape\": \"spline\"}, \"mode\": \"lines\", \"name\": \"ger\", \"r\": [-7.0, 6.0, 15.0, 9.0, 7.0, 15.0, 3.0, 26.0, 22.0, -6.0, 10.0, 20.0, 14.0, 4.0, -7.0], \"showlegend\": true, \"subplot\": \"polar\", \"theta\": [\"baking\", \"bananabread\", \"beans\", \"coffee\", \"cooking\", \"grocerydelivery\", \"handsanitizer\", \"mouthcover\", \"pasta\", \"restaurant\", \"rice\", \"spices\", \"to-go\", \"toiletpaper\", \"baking\"], \"type\": \"scatterpolar\"}], \"name\": \"2020-11-10\"}, {\"data\": [{\"hovertemplate\": \"country=ger<br>date_str=2020-10-18<br>score_difference=%{r}<br>term=%{theta}<extra></extra>\", \"legendgroup\": \"ger\", \"line\": {\"color\": \"#636efa\", \"dash\": \"solid\", \"shape\": \"spline\"}, \"mode\": \"lines\", \"name\": \"ger\", \"r\": [-13.0, 10.0, 11.0, 10.0, 6.0, 16.0, 4.0, 34.0, 8.0, -14.0, 14.0, 28.0, 9.0, 12.0, -13.0], \"showlegend\": true, \"subplot\": \"polar\", \"theta\": [\"baking\", \"bananabread\", \"beans\", \"coffee\", \"cooking\", \"grocerydelivery\", \"handsanitizer\", \"mouthcover\", \"pasta\", \"restaurant\", \"rice\", \"spices\", \"to-go\", \"toiletpaper\", \"baking\"], \"type\": \"scatterpolar\"}], \"name\": \"2020-10-18\"}, {\"data\": [{\"hovertemplate\": \"country=ger<br>date_str=2020-10-25<br>score_difference=%{r}<br>term=%{theta}<extra></extra>\", \"legendgroup\": \"ger\", \"line\": {\"color\": \"#636efa\", \"dash\": \"solid\", \"shape\": \"spline\"}, \"mode\": \"lines\", \"name\": \"ger\", \"r\": [0.0, 16.0, 10.0, -3.0, 3.0, 9.0, 4.0, 44.0, 10.0, -23.0, 9.0, 19.0, 24.0, 4.0, 0.0], \"showlegend\": true, \"subplot\": \"polar\", \"theta\": [\"baking\", \"bananabread\", \"beans\", \"coffee\", \"cooking\", \"grocerydelivery\", \"handsanitizer\", \"mouthcover\", \"pasta\", \"restaurant\", \"rice\", \"spices\", \"to-go\", \"toiletpaper\", \"baking\"], \"type\": \"scatterpolar\"}], \"name\": \"2020-10-25\"}, {\"data\": [{\"hovertemplate\": \"country=ger<br>date_str=2020-01-11<br>score_difference=%{r}<br>term=%{theta}<extra></extra>\", \"legendgroup\": \"ger\", \"line\": {\"color\": \"#636efa\", \"dash\": \"solid\", \"shape\": \"spline\"}, \"mode\": \"lines\", \"name\": \"ger\", \"r\": [9.0, 11.0, 5.0, -15.0, 1.0, 23.0, 4.0, 31.0, 8.0, -50.0, 8.0, 15.0, 63.0, 1.0, 9.0], \"showlegend\": true, \"subplot\": \"polar\", \"theta\": [\"baking\", \"bananabread\", \"beans\", \"coffee\", \"cooking\", \"grocerydelivery\", \"handsanitizer\", \"mouthcover\", \"pasta\", \"restaurant\", \"rice\", \"spices\", \"to-go\", \"toiletpaper\", \"baking\"], \"type\": \"scatterpolar\"}], \"name\": \"2020-01-11\"}]);\n",
       "                        }).then(function(){\n",
       "                            \n",
       "var gd = document.getElementById('aca9e8c3-a9be-4b55-8004-193a8aa5048e');\n",
       "var x = new MutationObserver(function (mutations, observer) {{\n",
       "        var display = window.getComputedStyle(gd).display;\n",
       "        if (!display || display === 'none') {{\n",
       "            console.log([gd, 'removed!']);\n",
       "            Plotly.purge(gd);\n",
       "            observer.disconnect();\n",
       "        }}\n",
       "}});\n",
       "\n",
       "// Listen for the removal of the full notebook cells\n",
       "var notebookContainer = gd.closest('#notebook-container');\n",
       "if (notebookContainer) {{\n",
       "    x.observe(notebookContainer, {childList: true});\n",
       "}}\n",
       "\n",
       "// Listen for the clearing of the current output cell\n",
       "var outputEl = gd.closest('.output');\n",
       "if (outputEl) {{\n",
       "    x.observe(outputEl, {childList: true});\n",
       "}}\n",
       "\n",
       "                        })\n",
       "                };\n",
       "                });\n",
       "            </script>\n",
       "        </div>"
      ]
     },
     "metadata": {},
     "output_type": "display_data"
    }
   ],
   "source": [
    "def polar_chart(country_data):\n",
    "    fig = px.line_polar(country_data, \n",
    "                        r = \"score_difference\", \n",
    "                        theta = \"term\", \n",
    "                        color = \"country\", \n",
    "                        line_close = True,\n",
    "                        line_shape = \"spline\", # or linear\n",
    "                        range_r = [min(country_data[\"score_difference\"]), max(country_data[\"score_difference\"])],\n",
    "                        render_mode = \"auto\",\n",
    "                        animation_frame = \"date_str\", \n",
    "                        title = \"Search term evolution for Germany\", # \"the Netherlands\" has to be replaced by name of input\n",
    "                        width = 700,\n",
    "                        height = 700,\n",
    "                        #color_discrete_sequence = px.colors.sequential.Plasma_r\n",
    "                        )\n",
    "    fig.show()\n",
    "    \n",
    "polar_chart(ger)"
   ]
  },
  {
   "cell_type": "code",
   "execution_count": 80,
   "metadata": {},
   "outputs": [
    {
     "data": {
      "application/vnd.plotly.v1+json": {
       "config": {
        "plotlyServerURL": "https://plot.ly"
       },
       "data": [
        {
         "hovertemplate": "country=ger<br>date_str=2019-11-03<br>score_difference=%{r}<br>term=%{theta}<extra></extra>",
         "legendgroup": "ger",
         "line": {
          "color": "#636efa",
          "dash": "solid",
          "shape": "spline"
         },
         "mode": "lines",
         "name": "ger",
         "r": [
          11,
          11
         ],
         "showlegend": true,
         "subplot": "polar",
         "theta": [
          "restaurant",
          "restaurant"
         ],
         "type": "scatterpolar"
        },
        {
         "hovertemplate": "country=nl<br>date_str=2019-11-03<br>score_difference=%{r}<br>term=%{theta}<extra></extra>",
         "legendgroup": "nl",
         "line": {
          "color": "#EF553B",
          "dash": "solid",
          "shape": "spline"
         },
         "mode": "lines",
         "name": "nl",
         "r": [
          1,
          1
         ],
         "showlegend": true,
         "subplot": "polar",
         "theta": [
          "restaurant",
          "restaurant"
         ],
         "type": "scatterpolar"
        },
        {
         "hovertemplate": "country=uk<br>date_str=2019-11-03<br>score_difference=%{r}<br>term=%{theta}<extra></extra>",
         "legendgroup": "uk",
         "line": {
          "color": "#00cc96",
          "dash": "solid",
          "shape": "spline"
         },
         "mode": "lines",
         "name": "uk",
         "r": [
          0,
          0
         ],
         "showlegend": true,
         "subplot": "polar",
         "theta": [
          "restaurant",
          "restaurant"
         ],
         "type": "scatterpolar"
        }
       ],
       "frames": [
        {
         "data": [
          {
           "hovertemplate": "country=ger<br>date_str=2019-11-03<br>score_difference=%{r}<br>term=%{theta}<extra></extra>",
           "legendgroup": "ger",
           "line": {
            "color": "#636efa",
            "dash": "solid",
            "shape": "spline"
           },
           "mode": "lines",
           "name": "ger",
           "r": [
            11,
            11
           ],
           "showlegend": true,
           "subplot": "polar",
           "theta": [
            "restaurant",
            "restaurant"
           ],
           "type": "scatterpolar"
          },
          {
           "hovertemplate": "country=nl<br>date_str=2019-11-03<br>score_difference=%{r}<br>term=%{theta}<extra></extra>",
           "legendgroup": "nl",
           "line": {
            "color": "#EF553B",
            "dash": "solid",
            "shape": "spline"
           },
           "mode": "lines",
           "name": "nl",
           "r": [
            1,
            1
           ],
           "showlegend": true,
           "subplot": "polar",
           "theta": [
            "restaurant",
            "restaurant"
           ],
           "type": "scatterpolar"
          },
          {
           "hovertemplate": "country=uk<br>date_str=2019-11-03<br>score_difference=%{r}<br>term=%{theta}<extra></extra>",
           "legendgroup": "uk",
           "line": {
            "color": "#00cc96",
            "dash": "solid",
            "shape": "spline"
           },
           "mode": "lines",
           "name": "uk",
           "r": [
            0,
            0
           ],
           "showlegend": true,
           "subplot": "polar",
           "theta": [
            "restaurant",
            "restaurant"
           ],
           "type": "scatterpolar"
          }
         ],
         "name": "2019-11-03"
        },
        {
         "data": [
          {
           "hovertemplate": "country=ger<br>date_str=2019-11-10<br>score_difference=%{r}<br>term=%{theta}<extra></extra>",
           "legendgroup": "ger",
           "line": {
            "color": "#636efa",
            "dash": "solid",
            "shape": "spline"
           },
           "mode": "lines",
           "name": "ger",
           "r": [
            8,
            8
           ],
           "showlegend": true,
           "subplot": "polar",
           "theta": [
            "restaurant",
            "restaurant"
           ],
           "type": "scatterpolar"
          },
          {
           "hovertemplate": "country=nl<br>date_str=2019-11-10<br>score_difference=%{r}<br>term=%{theta}<extra></extra>",
           "legendgroup": "nl",
           "line": {
            "color": "#EF553B",
            "dash": "solid",
            "shape": "spline"
           },
           "mode": "lines",
           "name": "nl",
           "r": [
            2,
            2
           ],
           "showlegend": true,
           "subplot": "polar",
           "theta": [
            "restaurant",
            "restaurant"
           ],
           "type": "scatterpolar"
          },
          {
           "hovertemplate": "country=uk<br>date_str=2019-11-10<br>score_difference=%{r}<br>term=%{theta}<extra></extra>",
           "legendgroup": "uk",
           "line": {
            "color": "#00cc96",
            "dash": "solid",
            "shape": "spline"
           },
           "mode": "lines",
           "name": "uk",
           "r": [
            2,
            2
           ],
           "showlegend": true,
           "subplot": "polar",
           "theta": [
            "restaurant",
            "restaurant"
           ],
           "type": "scatterpolar"
          }
         ],
         "name": "2019-11-10"
        },
        {
         "data": [
          {
           "hovertemplate": "country=ger<br>date_str=2019-11-17<br>score_difference=%{r}<br>term=%{theta}<extra></extra>",
           "legendgroup": "ger",
           "line": {
            "color": "#636efa",
            "dash": "solid",
            "shape": "spline"
           },
           "mode": "lines",
           "name": "ger",
           "r": [
            9,
            9
           ],
           "showlegend": true,
           "subplot": "polar",
           "theta": [
            "restaurant",
            "restaurant"
           ],
           "type": "scatterpolar"
          },
          {
           "hovertemplate": "country=nl<br>date_str=2019-11-17<br>score_difference=%{r}<br>term=%{theta}<extra></extra>",
           "legendgroup": "nl",
           "line": {
            "color": "#EF553B",
            "dash": "solid",
            "shape": "spline"
           },
           "mode": "lines",
           "name": "nl",
           "r": [
            6,
            6
           ],
           "showlegend": true,
           "subplot": "polar",
           "theta": [
            "restaurant",
            "restaurant"
           ],
           "type": "scatterpolar"
          },
          {
           "hovertemplate": "country=uk<br>date_str=2019-11-17<br>score_difference=%{r}<br>term=%{theta}<extra></extra>",
           "legendgroup": "uk",
           "line": {
            "color": "#00cc96",
            "dash": "solid",
            "shape": "spline"
           },
           "mode": "lines",
           "name": "uk",
           "r": [
            3,
            3
           ],
           "showlegend": true,
           "subplot": "polar",
           "theta": [
            "restaurant",
            "restaurant"
           ],
           "type": "scatterpolar"
          }
         ],
         "name": "2019-11-17"
        },
        {
         "data": [
          {
           "hovertemplate": "country=ger<br>date_str=2019-11-24<br>score_difference=%{r}<br>term=%{theta}<extra></extra>",
           "legendgroup": "ger",
           "line": {
            "color": "#636efa",
            "dash": "solid",
            "shape": "spline"
           },
           "mode": "lines",
           "name": "ger",
           "r": [
            5,
            5
           ],
           "showlegend": true,
           "subplot": "polar",
           "theta": [
            "restaurant",
            "restaurant"
           ],
           "type": "scatterpolar"
          },
          {
           "hovertemplate": "country=nl<br>date_str=2019-11-24<br>score_difference=%{r}<br>term=%{theta}<extra></extra>",
           "legendgroup": "nl",
           "line": {
            "color": "#EF553B",
            "dash": "solid",
            "shape": "spline"
           },
           "mode": "lines",
           "name": "nl",
           "r": [
            1,
            1
           ],
           "showlegend": true,
           "subplot": "polar",
           "theta": [
            "restaurant",
            "restaurant"
           ],
           "type": "scatterpolar"
          },
          {
           "hovertemplate": "country=uk<br>date_str=2019-11-24<br>score_difference=%{r}<br>term=%{theta}<extra></extra>",
           "legendgroup": "uk",
           "line": {
            "color": "#00cc96",
            "dash": "solid",
            "shape": "spline"
           },
           "mode": "lines",
           "name": "uk",
           "r": [
            2,
            2
           ],
           "showlegend": true,
           "subplot": "polar",
           "theta": [
            "restaurant",
            "restaurant"
           ],
           "type": "scatterpolar"
          }
         ],
         "name": "2019-11-24"
        },
        {
         "data": [
          {
           "hovertemplate": "country=ger<br>date_str=2019-12-01<br>score_difference=%{r}<br>term=%{theta}<extra></extra>",
           "legendgroup": "ger",
           "line": {
            "color": "#636efa",
            "dash": "solid",
            "shape": "spline"
           },
           "mode": "lines",
           "name": "ger",
           "r": [
            3,
            3
           ],
           "showlegend": true,
           "subplot": "polar",
           "theta": [
            "restaurant",
            "restaurant"
           ],
           "type": "scatterpolar"
          },
          {
           "hovertemplate": "country=nl<br>date_str=2019-12-01<br>score_difference=%{r}<br>term=%{theta}<extra></extra>",
           "legendgroup": "nl",
           "line": {
            "color": "#EF553B",
            "dash": "solid",
            "shape": "spline"
           },
           "mode": "lines",
           "name": "nl",
           "r": [
            2,
            2
           ],
           "showlegend": true,
           "subplot": "polar",
           "theta": [
            "restaurant",
            "restaurant"
           ],
           "type": "scatterpolar"
          },
          {
           "hovertemplate": "country=uk<br>date_str=2019-12-01<br>score_difference=%{r}<br>term=%{theta}<extra></extra>",
           "legendgroup": "uk",
           "line": {
            "color": "#00cc96",
            "dash": "solid",
            "shape": "spline"
           },
           "mode": "lines",
           "name": "uk",
           "r": [
            3,
            3
           ],
           "showlegend": true,
           "subplot": "polar",
           "theta": [
            "restaurant",
            "restaurant"
           ],
           "type": "scatterpolar"
          }
         ],
         "name": "2019-12-01"
        },
        {
         "data": [
          {
           "hovertemplate": "country=ger<br>date_str=2019-12-08<br>score_difference=%{r}<br>term=%{theta}<extra></extra>",
           "legendgroup": "ger",
           "line": {
            "color": "#636efa",
            "dash": "solid",
            "shape": "spline"
           },
           "mode": "lines",
           "name": "ger",
           "r": [
            3,
            3
           ],
           "showlegend": true,
           "subplot": "polar",
           "theta": [
            "restaurant",
            "restaurant"
           ],
           "type": "scatterpolar"
          },
          {
           "hovertemplate": "country=nl<br>date_str=2019-12-08<br>score_difference=%{r}<br>term=%{theta}<extra></extra>",
           "legendgroup": "nl",
           "line": {
            "color": "#EF553B",
            "dash": "solid",
            "shape": "spline"
           },
           "mode": "lines",
           "name": "nl",
           "r": [
            1,
            1
           ],
           "showlegend": true,
           "subplot": "polar",
           "theta": [
            "restaurant",
            "restaurant"
           ],
           "type": "scatterpolar"
          },
          {
           "hovertemplate": "country=uk<br>date_str=2019-12-08<br>score_difference=%{r}<br>term=%{theta}<extra></extra>",
           "legendgroup": "uk",
           "line": {
            "color": "#00cc96",
            "dash": "solid",
            "shape": "spline"
           },
           "mode": "lines",
           "name": "uk",
           "r": [
            7,
            7
           ],
           "showlegend": true,
           "subplot": "polar",
           "theta": [
            "restaurant",
            "restaurant"
           ],
           "type": "scatterpolar"
          }
         ],
         "name": "2019-12-08"
        },
        {
         "data": [
          {
           "hovertemplate": "country=ger<br>date_str=2019-12-15<br>score_difference=%{r}<br>term=%{theta}<extra></extra>",
           "legendgroup": "ger",
           "line": {
            "color": "#636efa",
            "dash": "solid",
            "shape": "spline"
           },
           "mode": "lines",
           "name": "ger",
           "r": [
            6,
            6
           ],
           "showlegend": true,
           "subplot": "polar",
           "theta": [
            "restaurant",
            "restaurant"
           ],
           "type": "scatterpolar"
          },
          {
           "hovertemplate": "country=nl<br>date_str=2019-12-15<br>score_difference=%{r}<br>term=%{theta}<extra></extra>",
           "legendgroup": "nl",
           "line": {
            "color": "#EF553B",
            "dash": "solid",
            "shape": "spline"
           },
           "mode": "lines",
           "name": "nl",
           "r": [
            4,
            4
           ],
           "showlegend": true,
           "subplot": "polar",
           "theta": [
            "restaurant",
            "restaurant"
           ],
           "type": "scatterpolar"
          },
          {
           "hovertemplate": "country=uk<br>date_str=2019-12-15<br>score_difference=%{r}<br>term=%{theta}<extra></extra>",
           "legendgroup": "uk",
           "line": {
            "color": "#00cc96",
            "dash": "solid",
            "shape": "spline"
           },
           "mode": "lines",
           "name": "uk",
           "r": [
            6,
            6
           ],
           "showlegend": true,
           "subplot": "polar",
           "theta": [
            "restaurant",
            "restaurant"
           ],
           "type": "scatterpolar"
          }
         ],
         "name": "2019-12-15"
        },
        {
         "data": [
          {
           "hovertemplate": "country=ger<br>date_str=2019-12-22<br>score_difference=%{r}<br>term=%{theta}<extra></extra>",
           "legendgroup": "ger",
           "line": {
            "color": "#636efa",
            "dash": "solid",
            "shape": "spline"
           },
           "mode": "lines",
           "name": "ger",
           "r": [
            7,
            7
           ],
           "showlegend": true,
           "subplot": "polar",
           "theta": [
            "restaurant",
            "restaurant"
           ],
           "type": "scatterpolar"
          },
          {
           "hovertemplate": "country=nl<br>date_str=2019-12-22<br>score_difference=%{r}<br>term=%{theta}<extra></extra>",
           "legendgroup": "nl",
           "line": {
            "color": "#EF553B",
            "dash": "solid",
            "shape": "spline"
           },
           "mode": "lines",
           "name": "nl",
           "r": [
            3,
            3
           ],
           "showlegend": true,
           "subplot": "polar",
           "theta": [
            "restaurant",
            "restaurant"
           ],
           "type": "scatterpolar"
          },
          {
           "hovertemplate": "country=uk<br>date_str=2019-12-22<br>score_difference=%{r}<br>term=%{theta}<extra></extra>",
           "legendgroup": "uk",
           "line": {
            "color": "#00cc96",
            "dash": "solid",
            "shape": "spline"
           },
           "mode": "lines",
           "name": "uk",
           "r": [
            3,
            3
           ],
           "showlegend": true,
           "subplot": "polar",
           "theta": [
            "restaurant",
            "restaurant"
           ],
           "type": "scatterpolar"
          }
         ],
         "name": "2019-12-22"
        },
        {
         "data": [
          {
           "hovertemplate": "country=ger<br>date_str=2019-12-29<br>score_difference=%{r}<br>term=%{theta}<extra></extra>",
           "legendgroup": "ger",
           "line": {
            "color": "#636efa",
            "dash": "solid",
            "shape": "spline"
           },
           "mode": "lines",
           "name": "ger",
           "r": [
            15,
            15
           ],
           "showlegend": true,
           "subplot": "polar",
           "theta": [
            "restaurant",
            "restaurant"
           ],
           "type": "scatterpolar"
          },
          {
           "hovertemplate": "country=nl<br>date_str=2019-12-29<br>score_difference=%{r}<br>term=%{theta}<extra></extra>",
           "legendgroup": "nl",
           "line": {
            "color": "#EF553B",
            "dash": "solid",
            "shape": "spline"
           },
           "mode": "lines",
           "name": "nl",
           "r": [
            0,
            0
           ],
           "showlegend": true,
           "subplot": "polar",
           "theta": [
            "restaurant",
            "restaurant"
           ],
           "type": "scatterpolar"
          },
          {
           "hovertemplate": "country=uk<br>date_str=2019-12-29<br>score_difference=%{r}<br>term=%{theta}<extra></extra>",
           "legendgroup": "uk",
           "line": {
            "color": "#00cc96",
            "dash": "solid",
            "shape": "spline"
           },
           "mode": "lines",
           "name": "uk",
           "r": [
            6,
            6
           ],
           "showlegend": true,
           "subplot": "polar",
           "theta": [
            "restaurant",
            "restaurant"
           ],
           "type": "scatterpolar"
          }
         ],
         "name": "2019-12-29"
        },
        {
         "data": [
          {
           "hovertemplate": "country=ger<br>date_str=2020-01-05<br>score_difference=%{r}<br>term=%{theta}<extra></extra>",
           "legendgroup": "ger",
           "line": {
            "color": "#636efa",
            "dash": "solid",
            "shape": "spline"
           },
           "mode": "lines",
           "name": "ger",
           "r": [
            10,
            10
           ],
           "showlegend": true,
           "subplot": "polar",
           "theta": [
            "restaurant",
            "restaurant"
           ],
           "type": "scatterpolar"
          },
          {
           "hovertemplate": "country=nl<br>date_str=2020-01-05<br>score_difference=%{r}<br>term=%{theta}<extra></extra>",
           "legendgroup": "nl",
           "line": {
            "color": "#EF553B",
            "dash": "solid",
            "shape": "spline"
           },
           "mode": "lines",
           "name": "nl",
           "r": [
            1,
            1
           ],
           "showlegend": true,
           "subplot": "polar",
           "theta": [
            "restaurant",
            "restaurant"
           ],
           "type": "scatterpolar"
          },
          {
           "hovertemplate": "country=uk<br>date_str=2020-01-05<br>score_difference=%{r}<br>term=%{theta}<extra></extra>",
           "legendgroup": "uk",
           "line": {
            "color": "#00cc96",
            "dash": "solid",
            "shape": "spline"
           },
           "mode": "lines",
           "name": "uk",
           "r": [
            0,
            0
           ],
           "showlegend": true,
           "subplot": "polar",
           "theta": [
            "restaurant",
            "restaurant"
           ],
           "type": "scatterpolar"
          }
         ],
         "name": "2020-01-05"
        },
        {
         "data": [
          {
           "hovertemplate": "country=ger<br>date_str=2020-01-12<br>score_difference=%{r}<br>term=%{theta}<extra></extra>",
           "legendgroup": "ger",
           "line": {
            "color": "#636efa",
            "dash": "solid",
            "shape": "spline"
           },
           "mode": "lines",
           "name": "ger",
           "r": [
            9,
            9
           ],
           "showlegend": true,
           "subplot": "polar",
           "theta": [
            "restaurant",
            "restaurant"
           ],
           "type": "scatterpolar"
          },
          {
           "hovertemplate": "country=nl<br>date_str=2020-01-12<br>score_difference=%{r}<br>term=%{theta}<extra></extra>",
           "legendgroup": "nl",
           "line": {
            "color": "#EF553B",
            "dash": "solid",
            "shape": "spline"
           },
           "mode": "lines",
           "name": "nl",
           "r": [
            10,
            10
           ],
           "showlegend": true,
           "subplot": "polar",
           "theta": [
            "restaurant",
            "restaurant"
           ],
           "type": "scatterpolar"
          },
          {
           "hovertemplate": "country=uk<br>date_str=2020-01-12<br>score_difference=%{r}<br>term=%{theta}<extra></extra>",
           "legendgroup": "uk",
           "line": {
            "color": "#00cc96",
            "dash": "solid",
            "shape": "spline"
           },
           "mode": "lines",
           "name": "uk",
           "r": [
            3,
            3
           ],
           "showlegend": true,
           "subplot": "polar",
           "theta": [
            "restaurant",
            "restaurant"
           ],
           "type": "scatterpolar"
          }
         ],
         "name": "2020-01-12"
        },
        {
         "data": [
          {
           "hovertemplate": "country=ger<br>date_str=2020-01-19<br>score_difference=%{r}<br>term=%{theta}<extra></extra>",
           "legendgroup": "ger",
           "line": {
            "color": "#636efa",
            "dash": "solid",
            "shape": "spline"
           },
           "mode": "lines",
           "name": "ger",
           "r": [
            11,
            11
           ],
           "showlegend": true,
           "subplot": "polar",
           "theta": [
            "restaurant",
            "restaurant"
           ],
           "type": "scatterpolar"
          },
          {
           "hovertemplate": "country=nl<br>date_str=2020-01-19<br>score_difference=%{r}<br>term=%{theta}<extra></extra>",
           "legendgroup": "nl",
           "line": {
            "color": "#EF553B",
            "dash": "solid",
            "shape": "spline"
           },
           "mode": "lines",
           "name": "nl",
           "r": [
            7,
            7
           ],
           "showlegend": true,
           "subplot": "polar",
           "theta": [
            "restaurant",
            "restaurant"
           ],
           "type": "scatterpolar"
          },
          {
           "hovertemplate": "country=uk<br>date_str=2020-01-19<br>score_difference=%{r}<br>term=%{theta}<extra></extra>",
           "legendgroup": "uk",
           "line": {
            "color": "#00cc96",
            "dash": "solid",
            "shape": "spline"
           },
           "mode": "lines",
           "name": "uk",
           "r": [
            2,
            2
           ],
           "showlegend": true,
           "subplot": "polar",
           "theta": [
            "restaurant",
            "restaurant"
           ],
           "type": "scatterpolar"
          }
         ],
         "name": "2020-01-19"
        },
        {
         "data": [
          {
           "hovertemplate": "country=ger<br>date_str=2020-01-26<br>score_difference=%{r}<br>term=%{theta}<extra></extra>",
           "legendgroup": "ger",
           "line": {
            "color": "#636efa",
            "dash": "solid",
            "shape": "spline"
           },
           "mode": "lines",
           "name": "ger",
           "r": [
            9,
            9
           ],
           "showlegend": true,
           "subplot": "polar",
           "theta": [
            "restaurant",
            "restaurant"
           ],
           "type": "scatterpolar"
          },
          {
           "hovertemplate": "country=nl<br>date_str=2020-01-26<br>score_difference=%{r}<br>term=%{theta}<extra></extra>",
           "legendgroup": "nl",
           "line": {
            "color": "#EF553B",
            "dash": "solid",
            "shape": "spline"
           },
           "mode": "lines",
           "name": "nl",
           "r": [
            4,
            4
           ],
           "showlegend": true,
           "subplot": "polar",
           "theta": [
            "restaurant",
            "restaurant"
           ],
           "type": "scatterpolar"
          },
          {
           "hovertemplate": "country=uk<br>date_str=2020-01-26<br>score_difference=%{r}<br>term=%{theta}<extra></extra>",
           "legendgroup": "uk",
           "line": {
            "color": "#00cc96",
            "dash": "solid",
            "shape": "spline"
           },
           "mode": "lines",
           "name": "uk",
           "r": [
            5,
            5
           ],
           "showlegend": true,
           "subplot": "polar",
           "theta": [
            "restaurant",
            "restaurant"
           ],
           "type": "scatterpolar"
          }
         ],
         "name": "2020-01-26"
        },
        {
         "data": [
          {
           "hovertemplate": "country=ger<br>date_str=2020-02-02<br>score_difference=%{r}<br>term=%{theta}<extra></extra>",
           "legendgroup": "ger",
           "line": {
            "color": "#636efa",
            "dash": "solid",
            "shape": "spline"
           },
           "mode": "lines",
           "name": "ger",
           "r": [
            2,
            2
           ],
           "showlegend": true,
           "subplot": "polar",
           "theta": [
            "restaurant",
            "restaurant"
           ],
           "type": "scatterpolar"
          },
          {
           "hovertemplate": "country=nl<br>date_str=2020-02-02<br>score_difference=%{r}<br>term=%{theta}<extra></extra>",
           "legendgroup": "nl",
           "line": {
            "color": "#EF553B",
            "dash": "solid",
            "shape": "spline"
           },
           "mode": "lines",
           "name": "nl",
           "r": [
            1,
            1
           ],
           "showlegend": true,
           "subplot": "polar",
           "theta": [
            "restaurant",
            "restaurant"
           ],
           "type": "scatterpolar"
          },
          {
           "hovertemplate": "country=uk<br>date_str=2020-02-02<br>score_difference=%{r}<br>term=%{theta}<extra></extra>",
           "legendgroup": "uk",
           "line": {
            "color": "#00cc96",
            "dash": "solid",
            "shape": "spline"
           },
           "mode": "lines",
           "name": "uk",
           "r": [
            2,
            2
           ],
           "showlegend": true,
           "subplot": "polar",
           "theta": [
            "restaurant",
            "restaurant"
           ],
           "type": "scatterpolar"
          }
         ],
         "name": "2020-02-02"
        },
        {
         "data": [
          {
           "hovertemplate": "country=ger<br>date_str=2020-02-09<br>score_difference=%{r}<br>term=%{theta}<extra></extra>",
           "legendgroup": "ger",
           "line": {
            "color": "#636efa",
            "dash": "solid",
            "shape": "spline"
           },
           "mode": "lines",
           "name": "ger",
           "r": [
            3,
            3
           ],
           "showlegend": true,
           "subplot": "polar",
           "theta": [
            "restaurant",
            "restaurant"
           ],
           "type": "scatterpolar"
          },
          {
           "hovertemplate": "country=nl<br>date_str=2020-02-09<br>score_difference=%{r}<br>term=%{theta}<extra></extra>",
           "legendgroup": "nl",
           "line": {
            "color": "#EF553B",
            "dash": "solid",
            "shape": "spline"
           },
           "mode": "lines",
           "name": "nl",
           "r": [
            3,
            3
           ],
           "showlegend": true,
           "subplot": "polar",
           "theta": [
            "restaurant",
            "restaurant"
           ],
           "type": "scatterpolar"
          },
          {
           "hovertemplate": "country=uk<br>date_str=2020-02-09<br>score_difference=%{r}<br>term=%{theta}<extra></extra>",
           "legendgroup": "uk",
           "line": {
            "color": "#00cc96",
            "dash": "solid",
            "shape": "spline"
           },
           "mode": "lines",
           "name": "uk",
           "r": [
            1,
            1
           ],
           "showlegend": true,
           "subplot": "polar",
           "theta": [
            "restaurant",
            "restaurant"
           ],
           "type": "scatterpolar"
          }
         ],
         "name": "2020-02-09"
        },
        {
         "data": [
          {
           "hovertemplate": "country=ger<br>date_str=2020-02-16<br>score_difference=%{r}<br>term=%{theta}<extra></extra>",
           "legendgroup": "ger",
           "line": {
            "color": "#636efa",
            "dash": "solid",
            "shape": "spline"
           },
           "mode": "lines",
           "name": "ger",
           "r": [
            5,
            5
           ],
           "showlegend": true,
           "subplot": "polar",
           "theta": [
            "restaurant",
            "restaurant"
           ],
           "type": "scatterpolar"
          },
          {
           "hovertemplate": "country=nl<br>date_str=2020-02-16<br>score_difference=%{r}<br>term=%{theta}<extra></extra>",
           "legendgroup": "nl",
           "line": {
            "color": "#EF553B",
            "dash": "solid",
            "shape": "spline"
           },
           "mode": "lines",
           "name": "nl",
           "r": [
            1,
            1
           ],
           "showlegend": true,
           "subplot": "polar",
           "theta": [
            "restaurant",
            "restaurant"
           ],
           "type": "scatterpolar"
          },
          {
           "hovertemplate": "country=uk<br>date_str=2020-02-16<br>score_difference=%{r}<br>term=%{theta}<extra></extra>",
           "legendgroup": "uk",
           "line": {
            "color": "#00cc96",
            "dash": "solid",
            "shape": "spline"
           },
           "mode": "lines",
           "name": "uk",
           "r": [
            0,
            0
           ],
           "showlegend": true,
           "subplot": "polar",
           "theta": [
            "restaurant",
            "restaurant"
           ],
           "type": "scatterpolar"
          }
         ],
         "name": "2020-02-16"
        },
        {
         "data": [
          {
           "hovertemplate": "country=ger<br>date_str=2020-02-23<br>score_difference=%{r}<br>term=%{theta}<extra></extra>",
           "legendgroup": "ger",
           "line": {
            "color": "#636efa",
            "dash": "solid",
            "shape": "spline"
           },
           "mode": "lines",
           "name": "ger",
           "r": [
            2,
            2
           ],
           "showlegend": true,
           "subplot": "polar",
           "theta": [
            "restaurant",
            "restaurant"
           ],
           "type": "scatterpolar"
          },
          {
           "hovertemplate": "country=nl<br>date_str=2020-02-23<br>score_difference=%{r}<br>term=%{theta}<extra></extra>",
           "legendgroup": "nl",
           "line": {
            "color": "#EF553B",
            "dash": "solid",
            "shape": "spline"
           },
           "mode": "lines",
           "name": "nl",
           "r": [
            8,
            8
           ],
           "showlegend": true,
           "subplot": "polar",
           "theta": [
            "restaurant",
            "restaurant"
           ],
           "type": "scatterpolar"
          },
          {
           "hovertemplate": "country=uk<br>date_str=2020-02-23<br>score_difference=%{r}<br>term=%{theta}<extra></extra>",
           "legendgroup": "uk",
           "line": {
            "color": "#00cc96",
            "dash": "solid",
            "shape": "spline"
           },
           "mode": "lines",
           "name": "uk",
           "r": [
            1,
            1
           ],
           "showlegend": true,
           "subplot": "polar",
           "theta": [
            "restaurant",
            "restaurant"
           ],
           "type": "scatterpolar"
          }
         ],
         "name": "2020-02-23"
        },
        {
         "data": [
          {
           "hovertemplate": "country=ger<br>date_str=2020-03-01<br>score_difference=%{r}<br>term=%{theta}<extra></extra>",
           "legendgroup": "ger",
           "line": {
            "color": "#636efa",
            "dash": "solid",
            "shape": "spline"
           },
           "mode": "lines",
           "name": "ger",
           "r": [
            7,
            7
           ],
           "showlegend": true,
           "subplot": "polar",
           "theta": [
            "restaurant",
            "restaurant"
           ],
           "type": "scatterpolar"
          },
          {
           "hovertemplate": "country=nl<br>date_str=2020-03-01<br>score_difference=%{r}<br>term=%{theta}<extra></extra>",
           "legendgroup": "nl",
           "line": {
            "color": "#EF553B",
            "dash": "solid",
            "shape": "spline"
           },
           "mode": "lines",
           "name": "nl",
           "r": [
            3,
            3
           ],
           "showlegend": true,
           "subplot": "polar",
           "theta": [
            "restaurant",
            "restaurant"
           ],
           "type": "scatterpolar"
          },
          {
           "hovertemplate": "country=uk<br>date_str=2020-03-01<br>score_difference=%{r}<br>term=%{theta}<extra></extra>",
           "legendgroup": "uk",
           "line": {
            "color": "#00cc96",
            "dash": "solid",
            "shape": "spline"
           },
           "mode": "lines",
           "name": "uk",
           "r": [
            3,
            3
           ],
           "showlegend": true,
           "subplot": "polar",
           "theta": [
            "restaurant",
            "restaurant"
           ],
           "type": "scatterpolar"
          }
         ],
         "name": "2020-03-01"
        },
        {
         "data": [
          {
           "hovertemplate": "country=ger<br>date_str=2020-03-08<br>score_difference=%{r}<br>term=%{theta}<extra></extra>",
           "legendgroup": "ger",
           "line": {
            "color": "#636efa",
            "dash": "solid",
            "shape": "spline"
           },
           "mode": "lines",
           "name": "ger",
           "r": [
            19,
            19
           ],
           "showlegend": true,
           "subplot": "polar",
           "theta": [
            "restaurant",
            "restaurant"
           ],
           "type": "scatterpolar"
          },
          {
           "hovertemplate": "country=nl<br>date_str=2020-03-08<br>score_difference=%{r}<br>term=%{theta}<extra></extra>",
           "legendgroup": "nl",
           "line": {
            "color": "#EF553B",
            "dash": "solid",
            "shape": "spline"
           },
           "mode": "lines",
           "name": "nl",
           "r": [
            13,
            13
           ],
           "showlegend": true,
           "subplot": "polar",
           "theta": [
            "restaurant",
            "restaurant"
           ],
           "type": "scatterpolar"
          },
          {
           "hovertemplate": "country=uk<br>date_str=2020-03-08<br>score_difference=%{r}<br>term=%{theta}<extra></extra>",
           "legendgroup": "uk",
           "line": {
            "color": "#00cc96",
            "dash": "solid",
            "shape": "spline"
           },
           "mode": "lines",
           "name": "uk",
           "r": [
            17,
            17
           ],
           "showlegend": true,
           "subplot": "polar",
           "theta": [
            "restaurant",
            "restaurant"
           ],
           "type": "scatterpolar"
          }
         ],
         "name": "2020-03-08"
        },
        {
         "data": [
          {
           "hovertemplate": "country=ger<br>date_str=2020-03-15<br>score_difference=%{r}<br>term=%{theta}<extra></extra>",
           "legendgroup": "ger",
           "line": {
            "color": "#636efa",
            "dash": "solid",
            "shape": "spline"
           },
           "mode": "lines",
           "name": "ger",
           "r": [
            37,
            37
           ],
           "showlegend": true,
           "subplot": "polar",
           "theta": [
            "restaurant",
            "restaurant"
           ],
           "type": "scatterpolar"
          },
          {
           "hovertemplate": "country=nl<br>date_str=2020-03-15<br>score_difference=%{r}<br>term=%{theta}<extra></extra>",
           "legendgroup": "nl",
           "line": {
            "color": "#EF553B",
            "dash": "solid",
            "shape": "spline"
           },
           "mode": "lines",
           "name": "nl",
           "r": [
            36,
            36
           ],
           "showlegend": true,
           "subplot": "polar",
           "theta": [
            "restaurant",
            "restaurant"
           ],
           "type": "scatterpolar"
          },
          {
           "hovertemplate": "country=uk<br>date_str=2020-03-15<br>score_difference=%{r}<br>term=%{theta}<extra></extra>",
           "legendgroup": "uk",
           "line": {
            "color": "#00cc96",
            "dash": "solid",
            "shape": "spline"
           },
           "mode": "lines",
           "name": "uk",
           "r": [
            35,
            35
           ],
           "showlegend": true,
           "subplot": "polar",
           "theta": [
            "restaurant",
            "restaurant"
           ],
           "type": "scatterpolar"
          }
         ],
         "name": "2020-03-15"
        },
        {
         "data": [
          {
           "hovertemplate": "country=ger<br>date_str=2020-03-22<br>score_difference=%{r}<br>term=%{theta}<extra></extra>",
           "legendgroup": "ger",
           "line": {
            "color": "#636efa",
            "dash": "solid",
            "shape": "spline"
           },
           "mode": "lines",
           "name": "ger",
           "r": [
            51,
            51
           ],
           "showlegend": true,
           "subplot": "polar",
           "theta": [
            "restaurant",
            "restaurant"
           ],
           "type": "scatterpolar"
          },
          {
           "hovertemplate": "country=nl<br>date_str=2020-03-22<br>score_difference=%{r}<br>term=%{theta}<extra></extra>",
           "legendgroup": "nl",
           "line": {
            "color": "#EF553B",
            "dash": "solid",
            "shape": "spline"
           },
           "mode": "lines",
           "name": "nl",
           "r": [
            43,
            43
           ],
           "showlegend": true,
           "subplot": "polar",
           "theta": [
            "restaurant",
            "restaurant"
           ],
           "type": "scatterpolar"
          },
          {
           "hovertemplate": "country=uk<br>date_str=2020-03-22<br>score_difference=%{r}<br>term=%{theta}<extra></extra>",
           "legendgroup": "uk",
           "line": {
            "color": "#00cc96",
            "dash": "solid",
            "shape": "spline"
           },
           "mode": "lines",
           "name": "uk",
           "r": [
            47,
            47
           ],
           "showlegend": true,
           "subplot": "polar",
           "theta": [
            "restaurant",
            "restaurant"
           ],
           "type": "scatterpolar"
          }
         ],
         "name": "2020-03-22"
        },
        {
         "data": [
          {
           "hovertemplate": "country=ger<br>date_str=2020-03-29<br>score_difference=%{r}<br>term=%{theta}<extra></extra>",
           "legendgroup": "ger",
           "line": {
            "color": "#636efa",
            "dash": "solid",
            "shape": "spline"
           },
           "mode": "lines",
           "name": "ger",
           "r": [
            45,
            45
           ],
           "showlegend": true,
           "subplot": "polar",
           "theta": [
            "restaurant",
            "restaurant"
           ],
           "type": "scatterpolar"
          },
          {
           "hovertemplate": "country=nl<br>date_str=2020-03-29<br>score_difference=%{r}<br>term=%{theta}<extra></extra>",
           "legendgroup": "nl",
           "line": {
            "color": "#EF553B",
            "dash": "solid",
            "shape": "spline"
           },
           "mode": "lines",
           "name": "nl",
           "r": [
            40,
            40
           ],
           "showlegend": true,
           "subplot": "polar",
           "theta": [
            "restaurant",
            "restaurant"
           ],
           "type": "scatterpolar"
          },
          {
           "hovertemplate": "country=uk<br>date_str=2020-03-29<br>score_difference=%{r}<br>term=%{theta}<extra></extra>",
           "legendgroup": "uk",
           "line": {
            "color": "#00cc96",
            "dash": "solid",
            "shape": "spline"
           },
           "mode": "lines",
           "name": "uk",
           "r": [
            43,
            43
           ],
           "showlegend": true,
           "subplot": "polar",
           "theta": [
            "restaurant",
            "restaurant"
           ],
           "type": "scatterpolar"
          }
         ],
         "name": "2020-03-29"
        },
        {
         "data": [
          {
           "hovertemplate": "country=ger<br>date_str=2020-04-05<br>score_difference=%{r}<br>term=%{theta}<extra></extra>",
           "legendgroup": "ger",
           "line": {
            "color": "#636efa",
            "dash": "solid",
            "shape": "spline"
           },
           "mode": "lines",
           "name": "ger",
           "r": [
            46,
            46
           ],
           "showlegend": true,
           "subplot": "polar",
           "theta": [
            "restaurant",
            "restaurant"
           ],
           "type": "scatterpolar"
          },
          {
           "hovertemplate": "country=nl<br>date_str=2020-04-05<br>score_difference=%{r}<br>term=%{theta}<extra></extra>",
           "legendgroup": "nl",
           "line": {
            "color": "#EF553B",
            "dash": "solid",
            "shape": "spline"
           },
           "mode": "lines",
           "name": "nl",
           "r": [
            45,
            45
           ],
           "showlegend": true,
           "subplot": "polar",
           "theta": [
            "restaurant",
            "restaurant"
           ],
           "type": "scatterpolar"
          },
          {
           "hovertemplate": "country=uk<br>date_str=2020-04-05<br>score_difference=%{r}<br>term=%{theta}<extra></extra>",
           "legendgroup": "uk",
           "line": {
            "color": "#00cc96",
            "dash": "solid",
            "shape": "spline"
           },
           "mode": "lines",
           "name": "uk",
           "r": [
            44,
            44
           ],
           "showlegend": true,
           "subplot": "polar",
           "theta": [
            "restaurant",
            "restaurant"
           ],
           "type": "scatterpolar"
          }
         ],
         "name": "2020-04-05"
        },
        {
         "data": [
          {
           "hovertemplate": "country=ger<br>date_str=2020-04-12<br>score_difference=%{r}<br>term=%{theta}<extra></extra>",
           "legendgroup": "ger",
           "line": {
            "color": "#636efa",
            "dash": "solid",
            "shape": "spline"
           },
           "mode": "lines",
           "name": "ger",
           "r": [
            57,
            57
           ],
           "showlegend": true,
           "subplot": "polar",
           "theta": [
            "restaurant",
            "restaurant"
           ],
           "type": "scatterpolar"
          },
          {
           "hovertemplate": "country=nl<br>date_str=2020-04-12<br>score_difference=%{r}<br>term=%{theta}<extra></extra>",
           "legendgroup": "nl",
           "line": {
            "color": "#EF553B",
            "dash": "solid",
            "shape": "spline"
           },
           "mode": "lines",
           "name": "nl",
           "r": [
            42,
            42
           ],
           "showlegend": true,
           "subplot": "polar",
           "theta": [
            "restaurant",
            "restaurant"
           ],
           "type": "scatterpolar"
          },
          {
           "hovertemplate": "country=uk<br>date_str=2020-04-12<br>score_difference=%{r}<br>term=%{theta}<extra></extra>",
           "legendgroup": "uk",
           "line": {
            "color": "#00cc96",
            "dash": "solid",
            "shape": "spline"
           },
           "mode": "lines",
           "name": "uk",
           "r": [
            42,
            42
           ],
           "showlegend": true,
           "subplot": "polar",
           "theta": [
            "restaurant",
            "restaurant"
           ],
           "type": "scatterpolar"
          }
         ],
         "name": "2020-04-12"
        },
        {
         "data": [
          {
           "hovertemplate": "country=ger<br>date_str=2020-04-19<br>score_difference=%{r}<br>term=%{theta}<extra></extra>",
           "legendgroup": "ger",
           "line": {
            "color": "#636efa",
            "dash": "solid",
            "shape": "spline"
           },
           "mode": "lines",
           "name": "ger",
           "r": [
            50,
            50
           ],
           "showlegend": true,
           "subplot": "polar",
           "theta": [
            "restaurant",
            "restaurant"
           ],
           "type": "scatterpolar"
          },
          {
           "hovertemplate": "country=nl<br>date_str=2020-04-19<br>score_difference=%{r}<br>term=%{theta}<extra></extra>",
           "legendgroup": "nl",
           "line": {
            "color": "#EF553B",
            "dash": "solid",
            "shape": "spline"
           },
           "mode": "lines",
           "name": "nl",
           "r": [
            44,
            44
           ],
           "showlegend": true,
           "subplot": "polar",
           "theta": [
            "restaurant",
            "restaurant"
           ],
           "type": "scatterpolar"
          },
          {
           "hovertemplate": "country=uk<br>date_str=2020-04-19<br>score_difference=%{r}<br>term=%{theta}<extra></extra>",
           "legendgroup": "uk",
           "line": {
            "color": "#00cc96",
            "dash": "solid",
            "shape": "spline"
           },
           "mode": "lines",
           "name": "uk",
           "r": [
            38,
            38
           ],
           "showlegend": true,
           "subplot": "polar",
           "theta": [
            "restaurant",
            "restaurant"
           ],
           "type": "scatterpolar"
          }
         ],
         "name": "2020-04-19"
        },
        {
         "data": [
          {
           "hovertemplate": "country=ger<br>date_str=2020-04-26<br>score_difference=%{r}<br>term=%{theta}<extra></extra>",
           "legendgroup": "ger",
           "line": {
            "color": "#636efa",
            "dash": "solid",
            "shape": "spline"
           },
           "mode": "lines",
           "name": "ger",
           "r": [
            45,
            45
           ],
           "showlegend": true,
           "subplot": "polar",
           "theta": [
            "restaurant",
            "restaurant"
           ],
           "type": "scatterpolar"
          },
          {
           "hovertemplate": "country=nl<br>date_str=2020-04-26<br>score_difference=%{r}<br>term=%{theta}<extra></extra>",
           "legendgroup": "nl",
           "line": {
            "color": "#EF553B",
            "dash": "solid",
            "shape": "spline"
           },
           "mode": "lines",
           "name": "nl",
           "r": [
            48,
            48
           ],
           "showlegend": true,
           "subplot": "polar",
           "theta": [
            "restaurant",
            "restaurant"
           ],
           "type": "scatterpolar"
          },
          {
           "hovertemplate": "country=uk<br>date_str=2020-04-26<br>score_difference=%{r}<br>term=%{theta}<extra></extra>",
           "legendgroup": "uk",
           "line": {
            "color": "#00cc96",
            "dash": "solid",
            "shape": "spline"
           },
           "mode": "lines",
           "name": "uk",
           "r": [
            38,
            38
           ],
           "showlegend": true,
           "subplot": "polar",
           "theta": [
            "restaurant",
            "restaurant"
           ],
           "type": "scatterpolar"
          }
         ],
         "name": "2020-04-26"
        },
        {
         "data": [
          {
           "hovertemplate": "country=ger<br>date_str=2020-05-03<br>score_difference=%{r}<br>term=%{theta}<extra></extra>",
           "legendgroup": "ger",
           "line": {
            "color": "#636efa",
            "dash": "solid",
            "shape": "spline"
           },
           "mode": "lines",
           "name": "ger",
           "r": [
            41,
            41
           ],
           "showlegend": true,
           "subplot": "polar",
           "theta": [
            "restaurant",
            "restaurant"
           ],
           "type": "scatterpolar"
          },
          {
           "hovertemplate": "country=nl<br>date_str=2020-05-03<br>score_difference=%{r}<br>term=%{theta}<extra></extra>",
           "legendgroup": "nl",
           "line": {
            "color": "#EF553B",
            "dash": "solid",
            "shape": "spline"
           },
           "mode": "lines",
           "name": "nl",
           "r": [
            35,
            35
           ],
           "showlegend": true,
           "subplot": "polar",
           "theta": [
            "restaurant",
            "restaurant"
           ],
           "type": "scatterpolar"
          },
          {
           "hovertemplate": "country=uk<br>date_str=2020-05-03<br>score_difference=%{r}<br>term=%{theta}<extra></extra>",
           "legendgroup": "uk",
           "line": {
            "color": "#00cc96",
            "dash": "solid",
            "shape": "spline"
           },
           "mode": "lines",
           "name": "uk",
           "r": [
            38,
            38
           ],
           "showlegend": true,
           "subplot": "polar",
           "theta": [
            "restaurant",
            "restaurant"
           ],
           "type": "scatterpolar"
          }
         ],
         "name": "2020-05-03"
        },
        {
         "data": [
          {
           "hovertemplate": "country=ger<br>date_str=2020-05-10<br>score_difference=%{r}<br>term=%{theta}<extra></extra>",
           "legendgroup": "ger",
           "line": {
            "color": "#636efa",
            "dash": "solid",
            "shape": "spline"
           },
           "mode": "lines",
           "name": "ger",
           "r": [
            25,
            25
           ],
           "showlegend": true,
           "subplot": "polar",
           "theta": [
            "restaurant",
            "restaurant"
           ],
           "type": "scatterpolar"
          },
          {
           "hovertemplate": "country=nl<br>date_str=2020-05-10<br>score_difference=%{r}<br>term=%{theta}<extra></extra>",
           "legendgroup": "nl",
           "line": {
            "color": "#EF553B",
            "dash": "solid",
            "shape": "spline"
           },
           "mode": "lines",
           "name": "nl",
           "r": [
            37,
            37
           ],
           "showlegend": true,
           "subplot": "polar",
           "theta": [
            "restaurant",
            "restaurant"
           ],
           "type": "scatterpolar"
          },
          {
           "hovertemplate": "country=uk<br>date_str=2020-05-10<br>score_difference=%{r}<br>term=%{theta}<extra></extra>",
           "legendgroup": "uk",
           "line": {
            "color": "#00cc96",
            "dash": "solid",
            "shape": "spline"
           },
           "mode": "lines",
           "name": "uk",
           "r": [
            39,
            39
           ],
           "showlegend": true,
           "subplot": "polar",
           "theta": [
            "restaurant",
            "restaurant"
           ],
           "type": "scatterpolar"
          }
         ],
         "name": "2020-05-10"
        },
        {
         "data": [
          {
           "hovertemplate": "country=ger<br>date_str=2020-05-17<br>score_difference=%{r}<br>term=%{theta}<extra></extra>",
           "legendgroup": "ger",
           "line": {
            "color": "#636efa",
            "dash": "solid",
            "shape": "spline"
           },
           "mode": "lines",
           "name": "ger",
           "r": [
            7,
            7
           ],
           "showlegend": true,
           "subplot": "polar",
           "theta": [
            "restaurant",
            "restaurant"
           ],
           "type": "scatterpolar"
          },
          {
           "hovertemplate": "country=nl<br>date_str=2020-05-17<br>score_difference=%{r}<br>term=%{theta}<extra></extra>",
           "legendgroup": "nl",
           "line": {
            "color": "#EF553B",
            "dash": "solid",
            "shape": "spline"
           },
           "mode": "lines",
           "name": "nl",
           "r": [
            30,
            30
           ],
           "showlegend": true,
           "subplot": "polar",
           "theta": [
            "restaurant",
            "restaurant"
           ],
           "type": "scatterpolar"
          },
          {
           "hovertemplate": "country=uk<br>date_str=2020-05-17<br>score_difference=%{r}<br>term=%{theta}<extra></extra>",
           "legendgroup": "uk",
           "line": {
            "color": "#00cc96",
            "dash": "solid",
            "shape": "spline"
           },
           "mode": "lines",
           "name": "uk",
           "r": [
            40,
            40
           ],
           "showlegend": true,
           "subplot": "polar",
           "theta": [
            "restaurant",
            "restaurant"
           ],
           "type": "scatterpolar"
          }
         ],
         "name": "2020-05-17"
        },
        {
         "data": [
          {
           "hovertemplate": "country=ger<br>date_str=2020-05-24<br>score_difference=%{r}<br>term=%{theta}<extra></extra>",
           "legendgroup": "ger",
           "line": {
            "color": "#636efa",
            "dash": "solid",
            "shape": "spline"
           },
           "mode": "lines",
           "name": "ger",
           "r": [
            17,
            17
           ],
           "showlegend": true,
           "subplot": "polar",
           "theta": [
            "restaurant",
            "restaurant"
           ],
           "type": "scatterpolar"
          },
          {
           "hovertemplate": "country=nl<br>date_str=2020-05-24<br>score_difference=%{r}<br>term=%{theta}<extra></extra>",
           "legendgroup": "nl",
           "line": {
            "color": "#EF553B",
            "dash": "solid",
            "shape": "spline"
           },
           "mode": "lines",
           "name": "nl",
           "r": [
            38,
            38
           ],
           "showlegend": true,
           "subplot": "polar",
           "theta": [
            "restaurant",
            "restaurant"
           ],
           "type": "scatterpolar"
          },
          {
           "hovertemplate": "country=uk<br>date_str=2020-05-24<br>score_difference=%{r}<br>term=%{theta}<extra></extra>",
           "legendgroup": "uk",
           "line": {
            "color": "#00cc96",
            "dash": "solid",
            "shape": "spline"
           },
           "mode": "lines",
           "name": "uk",
           "r": [
            43,
            43
           ],
           "showlegend": true,
           "subplot": "polar",
           "theta": [
            "restaurant",
            "restaurant"
           ],
           "type": "scatterpolar"
          }
         ],
         "name": "2020-05-24"
        },
        {
         "data": [
          {
           "hovertemplate": "country=ger<br>date_str=2020-05-31<br>score_difference=%{r}<br>term=%{theta}<extra></extra>",
           "legendgroup": "ger",
           "line": {
            "color": "#636efa",
            "dash": "solid",
            "shape": "spline"
           },
           "mode": "lines",
           "name": "ger",
           "r": [
            1,
            1
           ],
           "showlegend": true,
           "subplot": "polar",
           "theta": [
            "restaurant",
            "restaurant"
           ],
           "type": "scatterpolar"
          },
          {
           "hovertemplate": "country=nl<br>date_str=2020-05-31<br>score_difference=%{r}<br>term=%{theta}<extra></extra>",
           "legendgroup": "nl",
           "line": {
            "color": "#EF553B",
            "dash": "solid",
            "shape": "spline"
           },
           "mode": "lines",
           "name": "nl",
           "r": [
            9,
            9
           ],
           "showlegend": true,
           "subplot": "polar",
           "theta": [
            "restaurant",
            "restaurant"
           ],
           "type": "scatterpolar"
          },
          {
           "hovertemplate": "country=uk<br>date_str=2020-05-31<br>score_difference=%{r}<br>term=%{theta}<extra></extra>",
           "legendgroup": "uk",
           "line": {
            "color": "#00cc96",
            "dash": "solid",
            "shape": "spline"
           },
           "mode": "lines",
           "name": "uk",
           "r": [
            37,
            37
           ],
           "showlegend": true,
           "subplot": "polar",
           "theta": [
            "restaurant",
            "restaurant"
           ],
           "type": "scatterpolar"
          }
         ],
         "name": "2020-05-31"
        },
        {
         "data": [
          {
           "hovertemplate": "country=ger<br>date_str=2020-06-07<br>score_difference=%{r}<br>term=%{theta}<extra></extra>",
           "legendgroup": "ger",
           "line": {
            "color": "#636efa",
            "dash": "solid",
            "shape": "spline"
           },
           "mode": "lines",
           "name": "ger",
           "r": [
            3,
            3
           ],
           "showlegend": true,
           "subplot": "polar",
           "theta": [
            "restaurant",
            "restaurant"
           ],
           "type": "scatterpolar"
          },
          {
           "hovertemplate": "country=nl<br>date_str=2020-06-07<br>score_difference=%{r}<br>term=%{theta}<extra></extra>",
           "legendgroup": "nl",
           "line": {
            "color": "#EF553B",
            "dash": "solid",
            "shape": "spline"
           },
           "mode": "lines",
           "name": "nl",
           "r": [
            8,
            8
           ],
           "showlegend": true,
           "subplot": "polar",
           "theta": [
            "restaurant",
            "restaurant"
           ],
           "type": "scatterpolar"
          },
          {
           "hovertemplate": "country=uk<br>date_str=2020-06-07<br>score_difference=%{r}<br>term=%{theta}<extra></extra>",
           "legendgroup": "uk",
           "line": {
            "color": "#00cc96",
            "dash": "solid",
            "shape": "spline"
           },
           "mode": "lines",
           "name": "uk",
           "r": [
            41,
            41
           ],
           "showlegend": true,
           "subplot": "polar",
           "theta": [
            "restaurant",
            "restaurant"
           ],
           "type": "scatterpolar"
          }
         ],
         "name": "2020-06-07"
        },
        {
         "data": [
          {
           "hovertemplate": "country=ger<br>date_str=2020-06-14<br>score_difference=%{r}<br>term=%{theta}<extra></extra>",
           "legendgroup": "ger",
           "line": {
            "color": "#636efa",
            "dash": "solid",
            "shape": "spline"
           },
           "mode": "lines",
           "name": "ger",
           "r": [
            8,
            8
           ],
           "showlegend": true,
           "subplot": "polar",
           "theta": [
            "restaurant",
            "restaurant"
           ],
           "type": "scatterpolar"
          },
          {
           "hovertemplate": "country=nl<br>date_str=2020-06-14<br>score_difference=%{r}<br>term=%{theta}<extra></extra>",
           "legendgroup": "nl",
           "line": {
            "color": "#EF553B",
            "dash": "solid",
            "shape": "spline"
           },
           "mode": "lines",
           "name": "nl",
           "r": [
            0,
            0
           ],
           "showlegend": true,
           "subplot": "polar",
           "theta": [
            "restaurant",
            "restaurant"
           ],
           "type": "scatterpolar"
          },
          {
           "hovertemplate": "country=uk<br>date_str=2020-06-14<br>score_difference=%{r}<br>term=%{theta}<extra></extra>",
           "legendgroup": "uk",
           "line": {
            "color": "#00cc96",
            "dash": "solid",
            "shape": "spline"
           },
           "mode": "lines",
           "name": "uk",
           "r": [
            38,
            38
           ],
           "showlegend": true,
           "subplot": "polar",
           "theta": [
            "restaurant",
            "restaurant"
           ],
           "type": "scatterpolar"
          }
         ],
         "name": "2020-06-14"
        },
        {
         "data": [
          {
           "hovertemplate": "country=ger<br>date_str=2020-06-21<br>score_difference=%{r}<br>term=%{theta}<extra></extra>",
           "legendgroup": "ger",
           "line": {
            "color": "#636efa",
            "dash": "solid",
            "shape": "spline"
           },
           "mode": "lines",
           "name": "ger",
           "r": [
            5,
            5
           ],
           "showlegend": true,
           "subplot": "polar",
           "theta": [
            "restaurant",
            "restaurant"
           ],
           "type": "scatterpolar"
          },
          {
           "hovertemplate": "country=nl<br>date_str=2020-06-21<br>score_difference=%{r}<br>term=%{theta}<extra></extra>",
           "legendgroup": "nl",
           "line": {
            "color": "#EF553B",
            "dash": "solid",
            "shape": "spline"
           },
           "mode": "lines",
           "name": "nl",
           "r": [
            8,
            8
           ],
           "showlegend": true,
           "subplot": "polar",
           "theta": [
            "restaurant",
            "restaurant"
           ],
           "type": "scatterpolar"
          },
          {
           "hovertemplate": "country=uk<br>date_str=2020-06-21<br>score_difference=%{r}<br>term=%{theta}<extra></extra>",
           "legendgroup": "uk",
           "line": {
            "color": "#00cc96",
            "dash": "solid",
            "shape": "spline"
           },
           "mode": "lines",
           "name": "uk",
           "r": [
            31,
            31
           ],
           "showlegend": true,
           "subplot": "polar",
           "theta": [
            "restaurant",
            "restaurant"
           ],
           "type": "scatterpolar"
          }
         ],
         "name": "2020-06-21"
        },
        {
         "data": [
          {
           "hovertemplate": "country=ger<br>date_str=2020-06-28<br>score_difference=%{r}<br>term=%{theta}<extra></extra>",
           "legendgroup": "ger",
           "line": {
            "color": "#636efa",
            "dash": "solid",
            "shape": "spline"
           },
           "mode": "lines",
           "name": "ger",
           "r": [
            6,
            6
           ],
           "showlegend": true,
           "subplot": "polar",
           "theta": [
            "restaurant",
            "restaurant"
           ],
           "type": "scatterpolar"
          },
          {
           "hovertemplate": "country=nl<br>date_str=2020-06-28<br>score_difference=%{r}<br>term=%{theta}<extra></extra>",
           "legendgroup": "nl",
           "line": {
            "color": "#EF553B",
            "dash": "solid",
            "shape": "spline"
           },
           "mode": "lines",
           "name": "nl",
           "r": [
            7,
            7
           ],
           "showlegend": true,
           "subplot": "polar",
           "theta": [
            "restaurant",
            "restaurant"
           ],
           "type": "scatterpolar"
          },
          {
           "hovertemplate": "country=uk<br>date_str=2020-06-28<br>score_difference=%{r}<br>term=%{theta}<extra></extra>",
           "legendgroup": "uk",
           "line": {
            "color": "#00cc96",
            "dash": "solid",
            "shape": "spline"
           },
           "mode": "lines",
           "name": "uk",
           "r": [
            23,
            23
           ],
           "showlegend": true,
           "subplot": "polar",
           "theta": [
            "restaurant",
            "restaurant"
           ],
           "type": "scatterpolar"
          }
         ],
         "name": "2020-06-28"
        },
        {
         "data": [
          {
           "hovertemplate": "country=ger<br>date_str=2020-07-05<br>score_difference=%{r}<br>term=%{theta}<extra></extra>",
           "legendgroup": "ger",
           "line": {
            "color": "#636efa",
            "dash": "solid",
            "shape": "spline"
           },
           "mode": "lines",
           "name": "ger",
           "r": [
            8,
            8
           ],
           "showlegend": true,
           "subplot": "polar",
           "theta": [
            "restaurant",
            "restaurant"
           ],
           "type": "scatterpolar"
          },
          {
           "hovertemplate": "country=nl<br>date_str=2020-07-05<br>score_difference=%{r}<br>term=%{theta}<extra></extra>",
           "legendgroup": "nl",
           "line": {
            "color": "#EF553B",
            "dash": "solid",
            "shape": "spline"
           },
           "mode": "lines",
           "name": "nl",
           "r": [
            13,
            13
           ],
           "showlegend": true,
           "subplot": "polar",
           "theta": [
            "restaurant",
            "restaurant"
           ],
           "type": "scatterpolar"
          },
          {
           "hovertemplate": "country=uk<br>date_str=2020-07-05<br>score_difference=%{r}<br>term=%{theta}<extra></extra>",
           "legendgroup": "uk",
           "line": {
            "color": "#00cc96",
            "dash": "solid",
            "shape": "spline"
           },
           "mode": "lines",
           "name": "uk",
           "r": [
            14,
            14
           ],
           "showlegend": true,
           "subplot": "polar",
           "theta": [
            "restaurant",
            "restaurant"
           ],
           "type": "scatterpolar"
          }
         ],
         "name": "2020-07-05"
        },
        {
         "data": [
          {
           "hovertemplate": "country=ger<br>date_str=2020-07-12<br>score_difference=%{r}<br>term=%{theta}<extra></extra>",
           "legendgroup": "ger",
           "line": {
            "color": "#636efa",
            "dash": "solid",
            "shape": "spline"
           },
           "mode": "lines",
           "name": "ger",
           "r": [
            10,
            10
           ],
           "showlegend": true,
           "subplot": "polar",
           "theta": [
            "restaurant",
            "restaurant"
           ],
           "type": "scatterpolar"
          },
          {
           "hovertemplate": "country=nl<br>date_str=2020-07-12<br>score_difference=%{r}<br>term=%{theta}<extra></extra>",
           "legendgroup": "nl",
           "line": {
            "color": "#EF553B",
            "dash": "solid",
            "shape": "spline"
           },
           "mode": "lines",
           "name": "nl",
           "r": [
            13,
            13
           ],
           "showlegend": true,
           "subplot": "polar",
           "theta": [
            "restaurant",
            "restaurant"
           ],
           "type": "scatterpolar"
          },
          {
           "hovertemplate": "country=uk<br>date_str=2020-07-12<br>score_difference=%{r}<br>term=%{theta}<extra></extra>",
           "legendgroup": "uk",
           "line": {
            "color": "#00cc96",
            "dash": "solid",
            "shape": "spline"
           },
           "mode": "lines",
           "name": "uk",
           "r": [
            9,
            9
           ],
           "showlegend": true,
           "subplot": "polar",
           "theta": [
            "restaurant",
            "restaurant"
           ],
           "type": "scatterpolar"
          }
         ],
         "name": "2020-07-12"
        },
        {
         "data": [
          {
           "hovertemplate": "country=ger<br>date_str=2020-07-19<br>score_difference=%{r}<br>term=%{theta}<extra></extra>",
           "legendgroup": "ger",
           "line": {
            "color": "#636efa",
            "dash": "solid",
            "shape": "spline"
           },
           "mode": "lines",
           "name": "ger",
           "r": [
            16,
            16
           ],
           "showlegend": true,
           "subplot": "polar",
           "theta": [
            "restaurant",
            "restaurant"
           ],
           "type": "scatterpolar"
          },
          {
           "hovertemplate": "country=nl<br>date_str=2020-07-19<br>score_difference=%{r}<br>term=%{theta}<extra></extra>",
           "legendgroup": "nl",
           "line": {
            "color": "#EF553B",
            "dash": "solid",
            "shape": "spline"
           },
           "mode": "lines",
           "name": "nl",
           "r": [
            20,
            20
           ],
           "showlegend": true,
           "subplot": "polar",
           "theta": [
            "restaurant",
            "restaurant"
           ],
           "type": "scatterpolar"
          },
          {
           "hovertemplate": "country=uk<br>date_str=2020-07-19<br>score_difference=%{r}<br>term=%{theta}<extra></extra>",
           "legendgroup": "uk",
           "line": {
            "color": "#00cc96",
            "dash": "solid",
            "shape": "spline"
           },
           "mode": "lines",
           "name": "uk",
           "r": [
            3,
            3
           ],
           "showlegend": true,
           "subplot": "polar",
           "theta": [
            "restaurant",
            "restaurant"
           ],
           "type": "scatterpolar"
          }
         ],
         "name": "2020-07-19"
        },
        {
         "data": [
          {
           "hovertemplate": "country=ger<br>date_str=2020-07-26<br>score_difference=%{r}<br>term=%{theta}<extra></extra>",
           "legendgroup": "ger",
           "line": {
            "color": "#636efa",
            "dash": "solid",
            "shape": "spline"
           },
           "mode": "lines",
           "name": "ger",
           "r": [
            10,
            10
           ],
           "showlegend": true,
           "subplot": "polar",
           "theta": [
            "restaurant",
            "restaurant"
           ],
           "type": "scatterpolar"
          },
          {
           "hovertemplate": "country=nl<br>date_str=2020-07-26<br>score_difference=%{r}<br>term=%{theta}<extra></extra>",
           "legendgroup": "nl",
           "line": {
            "color": "#EF553B",
            "dash": "solid",
            "shape": "spline"
           },
           "mode": "lines",
           "name": "nl",
           "r": [
            12,
            12
           ],
           "showlegend": true,
           "subplot": "polar",
           "theta": [
            "restaurant",
            "restaurant"
           ],
           "type": "scatterpolar"
          },
          {
           "hovertemplate": "country=uk<br>date_str=2020-07-26<br>score_difference=%{r}<br>term=%{theta}<extra></extra>",
           "legendgroup": "uk",
           "line": {
            "color": "#00cc96",
            "dash": "solid",
            "shape": "spline"
           },
           "mode": "lines",
           "name": "uk",
           "r": [
            4,
            4
           ],
           "showlegend": true,
           "subplot": "polar",
           "theta": [
            "restaurant",
            "restaurant"
           ],
           "type": "scatterpolar"
          }
         ],
         "name": "2020-07-26"
        },
        {
         "data": [
          {
           "hovertemplate": "country=ger<br>date_str=2020-08-02<br>score_difference=%{r}<br>term=%{theta}<extra></extra>",
           "legendgroup": "ger",
           "line": {
            "color": "#636efa",
            "dash": "solid",
            "shape": "spline"
           },
           "mode": "lines",
           "name": "ger",
           "r": [
            6,
            6
           ],
           "showlegend": true,
           "subplot": "polar",
           "theta": [
            "restaurant",
            "restaurant"
           ],
           "type": "scatterpolar"
          },
          {
           "hovertemplate": "country=nl<br>date_str=2020-08-02<br>score_difference=%{r}<br>term=%{theta}<extra></extra>",
           "legendgroup": "nl",
           "line": {
            "color": "#EF553B",
            "dash": "solid",
            "shape": "spline"
           },
           "mode": "lines",
           "name": "nl",
           "r": [
            8,
            8
           ],
           "showlegend": true,
           "subplot": "polar",
           "theta": [
            "restaurant",
            "restaurant"
           ],
           "type": "scatterpolar"
          },
          {
           "hovertemplate": "country=uk<br>date_str=2020-08-02<br>score_difference=%{r}<br>term=%{theta}<extra></extra>",
           "legendgroup": "uk",
           "line": {
            "color": "#00cc96",
            "dash": "solid",
            "shape": "spline"
           },
           "mode": "lines",
           "name": "uk",
           "r": [
            13,
            13
           ],
           "showlegend": true,
           "subplot": "polar",
           "theta": [
            "restaurant",
            "restaurant"
           ],
           "type": "scatterpolar"
          }
         ],
         "name": "2020-08-02"
        },
        {
         "data": [
          {
           "hovertemplate": "country=ger<br>date_str=2020-08-09<br>score_difference=%{r}<br>term=%{theta}<extra></extra>",
           "legendgroup": "ger",
           "line": {
            "color": "#636efa",
            "dash": "solid",
            "shape": "spline"
           },
           "mode": "lines",
           "name": "ger",
           "r": [
            8,
            8
           ],
           "showlegend": true,
           "subplot": "polar",
           "theta": [
            "restaurant",
            "restaurant"
           ],
           "type": "scatterpolar"
          },
          {
           "hovertemplate": "country=nl<br>date_str=2020-08-09<br>score_difference=%{r}<br>term=%{theta}<extra></extra>",
           "legendgroup": "nl",
           "line": {
            "color": "#EF553B",
            "dash": "solid",
            "shape": "spline"
           },
           "mode": "lines",
           "name": "nl",
           "r": [
            4,
            4
           ],
           "showlegend": true,
           "subplot": "polar",
           "theta": [
            "restaurant",
            "restaurant"
           ],
           "type": "scatterpolar"
          },
          {
           "hovertemplate": "country=uk<br>date_str=2020-08-09<br>score_difference=%{r}<br>term=%{theta}<extra></extra>",
           "legendgroup": "uk",
           "line": {
            "color": "#00cc96",
            "dash": "solid",
            "shape": "spline"
           },
           "mode": "lines",
           "name": "uk",
           "r": [
            16,
            16
           ],
           "showlegend": true,
           "subplot": "polar",
           "theta": [
            "restaurant",
            "restaurant"
           ],
           "type": "scatterpolar"
          }
         ],
         "name": "2020-08-09"
        },
        {
         "data": [
          {
           "hovertemplate": "country=ger<br>date_str=2020-08-16<br>score_difference=%{r}<br>term=%{theta}<extra></extra>",
           "legendgroup": "ger",
           "line": {
            "color": "#636efa",
            "dash": "solid",
            "shape": "spline"
           },
           "mode": "lines",
           "name": "ger",
           "r": [
            17,
            17
           ],
           "showlegend": true,
           "subplot": "polar",
           "theta": [
            "restaurant",
            "restaurant"
           ],
           "type": "scatterpolar"
          },
          {
           "hovertemplate": "country=nl<br>date_str=2020-08-16<br>score_difference=%{r}<br>term=%{theta}<extra></extra>",
           "legendgroup": "nl",
           "line": {
            "color": "#EF553B",
            "dash": "solid",
            "shape": "spline"
           },
           "mode": "lines",
           "name": "nl",
           "r": [
            16,
            16
           ],
           "showlegend": true,
           "subplot": "polar",
           "theta": [
            "restaurant",
            "restaurant"
           ],
           "type": "scatterpolar"
          },
          {
           "hovertemplate": "country=uk<br>date_str=2020-08-16<br>score_difference=%{r}<br>term=%{theta}<extra></extra>",
           "legendgroup": "uk",
           "line": {
            "color": "#00cc96",
            "dash": "solid",
            "shape": "spline"
           },
           "mode": "lines",
           "name": "uk",
           "r": [
            25,
            25
           ],
           "showlegend": true,
           "subplot": "polar",
           "theta": [
            "restaurant",
            "restaurant"
           ],
           "type": "scatterpolar"
          }
         ],
         "name": "2020-08-16"
        },
        {
         "data": [
          {
           "hovertemplate": "country=ger<br>date_str=2020-08-23<br>score_difference=%{r}<br>term=%{theta}<extra></extra>",
           "legendgroup": "ger",
           "line": {
            "color": "#636efa",
            "dash": "solid",
            "shape": "spline"
           },
           "mode": "lines",
           "name": "ger",
           "r": [
            19,
            19
           ],
           "showlegend": true,
           "subplot": "polar",
           "theta": [
            "restaurant",
            "restaurant"
           ],
           "type": "scatterpolar"
          },
          {
           "hovertemplate": "country=nl<br>date_str=2020-08-23<br>score_difference=%{r}<br>term=%{theta}<extra></extra>",
           "legendgroup": "nl",
           "line": {
            "color": "#EF553B",
            "dash": "solid",
            "shape": "spline"
           },
           "mode": "lines",
           "name": "nl",
           "r": [
            13,
            13
           ],
           "showlegend": true,
           "subplot": "polar",
           "theta": [
            "restaurant",
            "restaurant"
           ],
           "type": "scatterpolar"
          },
          {
           "hovertemplate": "country=uk<br>date_str=2020-08-23<br>score_difference=%{r}<br>term=%{theta}<extra></extra>",
           "legendgroup": "uk",
           "line": {
            "color": "#00cc96",
            "dash": "solid",
            "shape": "spline"
           },
           "mode": "lines",
           "name": "uk",
           "r": [
            26,
            26
           ],
           "showlegend": true,
           "subplot": "polar",
           "theta": [
            "restaurant",
            "restaurant"
           ],
           "type": "scatterpolar"
          }
         ],
         "name": "2020-08-23"
        },
        {
         "data": [
          {
           "hovertemplate": "country=ger<br>date_str=2020-08-30<br>score_difference=%{r}<br>term=%{theta}<extra></extra>",
           "legendgroup": "ger",
           "line": {
            "color": "#636efa",
            "dash": "solid",
            "shape": "spline"
           },
           "mode": "lines",
           "name": "ger",
           "r": [
            11,
            11
           ],
           "showlegend": true,
           "subplot": "polar",
           "theta": [
            "restaurant",
            "restaurant"
           ],
           "type": "scatterpolar"
          },
          {
           "hovertemplate": "country=nl<br>date_str=2020-08-30<br>score_difference=%{r}<br>term=%{theta}<extra></extra>",
           "legendgroup": "nl",
           "line": {
            "color": "#EF553B",
            "dash": "solid",
            "shape": "spline"
           },
           "mode": "lines",
           "name": "nl",
           "r": [
            15,
            15
           ],
           "showlegend": true,
           "subplot": "polar",
           "theta": [
            "restaurant",
            "restaurant"
           ],
           "type": "scatterpolar"
          },
          {
           "hovertemplate": "country=uk<br>date_str=2020-08-30<br>score_difference=%{r}<br>term=%{theta}<extra></extra>",
           "legendgroup": "uk",
           "line": {
            "color": "#00cc96",
            "dash": "solid",
            "shape": "spline"
           },
           "mode": "lines",
           "name": "uk",
           "r": [
            17,
            17
           ],
           "showlegend": true,
           "subplot": "polar",
           "theta": [
            "restaurant",
            "restaurant"
           ],
           "type": "scatterpolar"
          }
         ],
         "name": "2020-08-30"
        },
        {
         "data": [
          {
           "hovertemplate": "country=ger<br>date_str=2020-09-06<br>score_difference=%{r}<br>term=%{theta}<extra></extra>",
           "legendgroup": "ger",
           "line": {
            "color": "#636efa",
            "dash": "solid",
            "shape": "spline"
           },
           "mode": "lines",
           "name": "ger",
           "r": [
            16,
            16
           ],
           "showlegend": true,
           "subplot": "polar",
           "theta": [
            "restaurant",
            "restaurant"
           ],
           "type": "scatterpolar"
          },
          {
           "hovertemplate": "country=nl<br>date_str=2020-09-06<br>score_difference=%{r}<br>term=%{theta}<extra></extra>",
           "legendgroup": "nl",
           "line": {
            "color": "#EF553B",
            "dash": "solid",
            "shape": "spline"
           },
           "mode": "lines",
           "name": "nl",
           "r": [
            20,
            20
           ],
           "showlegend": true,
           "subplot": "polar",
           "theta": [
            "restaurant",
            "restaurant"
           ],
           "type": "scatterpolar"
          },
          {
           "hovertemplate": "country=uk<br>date_str=2020-09-06<br>score_difference=%{r}<br>term=%{theta}<extra></extra>",
           "legendgroup": "uk",
           "line": {
            "color": "#00cc96",
            "dash": "solid",
            "shape": "spline"
           },
           "mode": "lines",
           "name": "uk",
           "r": [
            1,
            1
           ],
           "showlegend": true,
           "subplot": "polar",
           "theta": [
            "restaurant",
            "restaurant"
           ],
           "type": "scatterpolar"
          }
         ],
         "name": "2020-09-06"
        },
        {
         "data": [
          {
           "hovertemplate": "country=ger<br>date_str=2020-09-13<br>score_difference=%{r}<br>term=%{theta}<extra></extra>",
           "legendgroup": "ger",
           "line": {
            "color": "#636efa",
            "dash": "solid",
            "shape": "spline"
           },
           "mode": "lines",
           "name": "ger",
           "r": [
            11,
            11
           ],
           "showlegend": true,
           "subplot": "polar",
           "theta": [
            "restaurant",
            "restaurant"
           ],
           "type": "scatterpolar"
          },
          {
           "hovertemplate": "country=nl<br>date_str=2020-09-13<br>score_difference=%{r}<br>term=%{theta}<extra></extra>",
           "legendgroup": "nl",
           "line": {
            "color": "#EF553B",
            "dash": "solid",
            "shape": "spline"
           },
           "mode": "lines",
           "name": "nl",
           "r": [
            13,
            13
           ],
           "showlegend": true,
           "subplot": "polar",
           "theta": [
            "restaurant",
            "restaurant"
           ],
           "type": "scatterpolar"
          },
          {
           "hovertemplate": "country=uk<br>date_str=2020-09-13<br>score_difference=%{r}<br>term=%{theta}<extra></extra>",
           "legendgroup": "uk",
           "line": {
            "color": "#00cc96",
            "dash": "solid",
            "shape": "spline"
           },
           "mode": "lines",
           "name": "uk",
           "r": [
            3,
            3
           ],
           "showlegend": true,
           "subplot": "polar",
           "theta": [
            "restaurant",
            "restaurant"
           ],
           "type": "scatterpolar"
          }
         ],
         "name": "2020-09-13"
        },
        {
         "data": [
          {
           "hovertemplate": "country=ger<br>date_str=2020-09-20<br>score_difference=%{r}<br>term=%{theta}<extra></extra>",
           "legendgroup": "ger",
           "line": {
            "color": "#636efa",
            "dash": "solid",
            "shape": "spline"
           },
           "mode": "lines",
           "name": "ger",
           "r": [
            11,
            11
           ],
           "showlegend": true,
           "subplot": "polar",
           "theta": [
            "restaurant",
            "restaurant"
           ],
           "type": "scatterpolar"
          },
          {
           "hovertemplate": "country=nl<br>date_str=2020-09-20<br>score_difference=%{r}<br>term=%{theta}<extra></extra>",
           "legendgroup": "nl",
           "line": {
            "color": "#EF553B",
            "dash": "solid",
            "shape": "spline"
           },
           "mode": "lines",
           "name": "nl",
           "r": [
            8,
            8
           ],
           "showlegend": true,
           "subplot": "polar",
           "theta": [
            "restaurant",
            "restaurant"
           ],
           "type": "scatterpolar"
          },
          {
           "hovertemplate": "country=uk<br>date_str=2020-09-20<br>score_difference=%{r}<br>term=%{theta}<extra></extra>",
           "legendgroup": "uk",
           "line": {
            "color": "#00cc96",
            "dash": "solid",
            "shape": "spline"
           },
           "mode": "lines",
           "name": "uk",
           "r": [
            5,
            5
           ],
           "showlegend": true,
           "subplot": "polar",
           "theta": [
            "restaurant",
            "restaurant"
           ],
           "type": "scatterpolar"
          }
         ],
         "name": "2020-09-20"
        },
        {
         "data": [
          {
           "hovertemplate": "country=ger<br>date_str=2020-09-27<br>score_difference=%{r}<br>term=%{theta}<extra></extra>",
           "legendgroup": "ger",
           "line": {
            "color": "#636efa",
            "dash": "solid",
            "shape": "spline"
           },
           "mode": "lines",
           "name": "ger",
           "r": [
            5,
            5
           ],
           "showlegend": true,
           "subplot": "polar",
           "theta": [
            "restaurant",
            "restaurant"
           ],
           "type": "scatterpolar"
          },
          {
           "hovertemplate": "country=nl<br>date_str=2020-09-27<br>score_difference=%{r}<br>term=%{theta}<extra></extra>",
           "legendgroup": "nl",
           "line": {
            "color": "#EF553B",
            "dash": "solid",
            "shape": "spline"
           },
           "mode": "lines",
           "name": "nl",
           "r": [
            0,
            0
           ],
           "showlegend": true,
           "subplot": "polar",
           "theta": [
            "restaurant",
            "restaurant"
           ],
           "type": "scatterpolar"
          },
          {
           "hovertemplate": "country=uk<br>date_str=2020-09-27<br>score_difference=%{r}<br>term=%{theta}<extra></extra>",
           "legendgroup": "uk",
           "line": {
            "color": "#00cc96",
            "dash": "solid",
            "shape": "spline"
           },
           "mode": "lines",
           "name": "uk",
           "r": [
            7,
            7
           ],
           "showlegend": true,
           "subplot": "polar",
           "theta": [
            "restaurant",
            "restaurant"
           ],
           "type": "scatterpolar"
          }
         ],
         "name": "2020-09-27"
        },
        {
         "data": [
          {
           "hovertemplate": "country=ger<br>date_str=2020-10-04<br>score_difference=%{r}<br>term=%{theta}<extra></extra>",
           "legendgroup": "ger",
           "line": {
            "color": "#636efa",
            "dash": "solid",
            "shape": "spline"
           },
           "mode": "lines",
           "name": "ger",
           "r": [
            2,
            2
           ],
           "showlegend": true,
           "subplot": "polar",
           "theta": [
            "restaurant",
            "restaurant"
           ],
           "type": "scatterpolar"
          },
          {
           "hovertemplate": "country=nl<br>date_str=2020-10-04<br>score_difference=%{r}<br>term=%{theta}<extra></extra>",
           "legendgroup": "nl",
           "line": {
            "color": "#EF553B",
            "dash": "solid",
            "shape": "spline"
           },
           "mode": "lines",
           "name": "nl",
           "r": [
            11,
            11
           ],
           "showlegend": true,
           "subplot": "polar",
           "theta": [
            "restaurant",
            "restaurant"
           ],
           "type": "scatterpolar"
          },
          {
           "hovertemplate": "country=uk<br>date_str=2020-10-04<br>score_difference=%{r}<br>term=%{theta}<extra></extra>",
           "legendgroup": "uk",
           "line": {
            "color": "#00cc96",
            "dash": "solid",
            "shape": "spline"
           },
           "mode": "lines",
           "name": "uk",
           "r": [
            11,
            11
           ],
           "showlegend": true,
           "subplot": "polar",
           "theta": [
            "restaurant",
            "restaurant"
           ],
           "type": "scatterpolar"
          }
         ],
         "name": "2020-10-04"
        },
        {
         "data": [
          {
           "hovertemplate": "country=ger<br>date_str=2020-10-11<br>score_difference=%{r}<br>term=%{theta}<extra></extra>",
           "legendgroup": "ger",
           "line": {
            "color": "#636efa",
            "dash": "solid",
            "shape": "spline"
           },
           "mode": "lines",
           "name": "ger",
           "r": [
            6,
            6
           ],
           "showlegend": true,
           "subplot": "polar",
           "theta": [
            "restaurant",
            "restaurant"
           ],
           "type": "scatterpolar"
          },
          {
           "hovertemplate": "country=nl<br>date_str=2020-10-11<br>score_difference=%{r}<br>term=%{theta}<extra></extra>",
           "legendgroup": "nl",
           "line": {
            "color": "#EF553B",
            "dash": "solid",
            "shape": "spline"
           },
           "mode": "lines",
           "name": "nl",
           "r": [
            27,
            27
           ],
           "showlegend": true,
           "subplot": "polar",
           "theta": [
            "restaurant",
            "restaurant"
           ],
           "type": "scatterpolar"
          },
          {
           "hovertemplate": "country=uk<br>date_str=2020-10-11<br>score_difference=%{r}<br>term=%{theta}<extra></extra>",
           "legendgroup": "uk",
           "line": {
            "color": "#00cc96",
            "dash": "solid",
            "shape": "spline"
           },
           "mode": "lines",
           "name": "uk",
           "r": [
            13,
            13
           ],
           "showlegend": true,
           "subplot": "polar",
           "theta": [
            "restaurant",
            "restaurant"
           ],
           "type": "scatterpolar"
          }
         ],
         "name": "2020-10-11"
        },
        {
         "data": [
          {
           "hovertemplate": "country=ger<br>date_str=2020-10-18<br>score_difference=%{r}<br>term=%{theta}<extra></extra>",
           "legendgroup": "ger",
           "line": {
            "color": "#636efa",
            "dash": "solid",
            "shape": "spline"
           },
           "mode": "lines",
           "name": "ger",
           "r": [
            14,
            14
           ],
           "showlegend": true,
           "subplot": "polar",
           "theta": [
            "restaurant",
            "restaurant"
           ],
           "type": "scatterpolar"
          },
          {
           "hovertemplate": "country=nl<br>date_str=2020-10-18<br>score_difference=%{r}<br>term=%{theta}<extra></extra>",
           "legendgroup": "nl",
           "line": {
            "color": "#EF553B",
            "dash": "solid",
            "shape": "spline"
           },
           "mode": "lines",
           "name": "nl",
           "r": [
            48,
            48
           ],
           "showlegend": true,
           "subplot": "polar",
           "theta": [
            "restaurant",
            "restaurant"
           ],
           "type": "scatterpolar"
          },
          {
           "hovertemplate": "country=uk<br>date_str=2020-10-18<br>score_difference=%{r}<br>term=%{theta}<extra></extra>",
           "legendgroup": "uk",
           "line": {
            "color": "#00cc96",
            "dash": "solid",
            "shape": "spline"
           },
           "mode": "lines",
           "name": "uk",
           "r": [
            17,
            17
           ],
           "showlegend": true,
           "subplot": "polar",
           "theta": [
            "restaurant",
            "restaurant"
           ],
           "type": "scatterpolar"
          }
         ],
         "name": "2020-10-18"
        },
        {
         "data": [
          {
           "hovertemplate": "country=ger<br>date_str=2020-10-25<br>score_difference=%{r}<br>term=%{theta}<extra></extra>",
           "legendgroup": "ger",
           "line": {
            "color": "#636efa",
            "dash": "solid",
            "shape": "spline"
           },
           "mode": "lines",
           "name": "ger",
           "r": [
            23,
            23
           ],
           "showlegend": true,
           "subplot": "polar",
           "theta": [
            "restaurant",
            "restaurant"
           ],
           "type": "scatterpolar"
          },
          {
           "hovertemplate": "country=nl<br>date_str=2020-10-25<br>score_difference=%{r}<br>term=%{theta}<extra></extra>",
           "legendgroup": "nl",
           "line": {
            "color": "#EF553B",
            "dash": "solid",
            "shape": "spline"
           },
           "mode": "lines",
           "name": "nl",
           "r": [
            43,
            43
           ],
           "showlegend": true,
           "subplot": "polar",
           "theta": [
            "restaurant",
            "restaurant"
           ],
           "type": "scatterpolar"
          },
          {
           "hovertemplate": "country=uk<br>date_str=2020-10-25<br>score_difference=%{r}<br>term=%{theta}<extra></extra>",
           "legendgroup": "uk",
           "line": {
            "color": "#00cc96",
            "dash": "solid",
            "shape": "spline"
           },
           "mode": "lines",
           "name": "uk",
           "r": [
            14,
            14
           ],
           "showlegend": true,
           "subplot": "polar",
           "theta": [
            "restaurant",
            "restaurant"
           ],
           "type": "scatterpolar"
          }
         ],
         "name": "2020-10-25"
        },
        {
         "data": [
          {
           "hovertemplate": "country=ger<br>date_str=2020-11-01<br>score_difference=%{r}<br>term=%{theta}<extra></extra>",
           "legendgroup": "ger",
           "line": {
            "color": "#636efa",
            "dash": "solid",
            "shape": "spline"
           },
           "mode": "lines",
           "name": "ger",
           "r": [
            50,
            50
           ],
           "showlegend": true,
           "subplot": "polar",
           "theta": [
            "restaurant",
            "restaurant"
           ],
           "type": "scatterpolar"
          },
          {
           "hovertemplate": "country=nl<br>date_str=2020-11-01<br>score_difference=%{r}<br>term=%{theta}<extra></extra>",
           "legendgroup": "nl",
           "line": {
            "color": "#EF553B",
            "dash": "solid",
            "shape": "spline"
           },
           "mode": "lines",
           "name": "nl",
           "r": [
            50,
            50
           ],
           "showlegend": true,
           "subplot": "polar",
           "theta": [
            "restaurant",
            "restaurant"
           ],
           "type": "scatterpolar"
          },
          {
           "hovertemplate": "country=uk<br>date_str=2020-11-01<br>score_difference=%{r}<br>term=%{theta}<extra></extra>",
           "legendgroup": "uk",
           "line": {
            "color": "#00cc96",
            "dash": "solid",
            "shape": "spline"
           },
           "mode": "lines",
           "name": "uk",
           "r": [
            29,
            29
           ],
           "showlegend": true,
           "subplot": "polar",
           "theta": [
            "restaurant",
            "restaurant"
           ],
           "type": "scatterpolar"
          }
         ],
         "name": "2020-11-01"
        }
       ],
       "layout": {
        "height": 700,
        "legend": {
         "title": {
          "text": "country"
         },
         "tracegroupgap": 0
        },
        "polar": {
         "angularaxis": {
          "direction": "clockwise",
          "rotation": 90
         },
         "domain": {
          "x": [
           0,
           1
          ],
          "y": [
           0,
           1
          ]
         },
         "radialaxis": {
          "range": [
           -50,
           100
          ]
         }
        },
        "sliders": [
         {
          "active": 0,
          "currentvalue": {
           "prefix": "date_str="
          },
          "len": 0.9,
          "pad": {
           "b": 10,
           "t": 60
          },
          "steps": [
           {
            "args": [
             [
              "2019-11-03"
             ],
             {
              "frame": {
               "duration": 0,
               "redraw": true
              },
              "fromcurrent": true,
              "mode": "immediate",
              "transition": {
               "duration": 0,
               "easing": "linear"
              }
             }
            ],
            "label": "2019-11-03",
            "method": "animate"
           },
           {
            "args": [
             [
              "2019-11-10"
             ],
             {
              "frame": {
               "duration": 0,
               "redraw": true
              },
              "fromcurrent": true,
              "mode": "immediate",
              "transition": {
               "duration": 0,
               "easing": "linear"
              }
             }
            ],
            "label": "2019-11-10",
            "method": "animate"
           },
           {
            "args": [
             [
              "2019-11-17"
             ],
             {
              "frame": {
               "duration": 0,
               "redraw": true
              },
              "fromcurrent": true,
              "mode": "immediate",
              "transition": {
               "duration": 0,
               "easing": "linear"
              }
             }
            ],
            "label": "2019-11-17",
            "method": "animate"
           },
           {
            "args": [
             [
              "2019-11-24"
             ],
             {
              "frame": {
               "duration": 0,
               "redraw": true
              },
              "fromcurrent": true,
              "mode": "immediate",
              "transition": {
               "duration": 0,
               "easing": "linear"
              }
             }
            ],
            "label": "2019-11-24",
            "method": "animate"
           },
           {
            "args": [
             [
              "2019-12-01"
             ],
             {
              "frame": {
               "duration": 0,
               "redraw": true
              },
              "fromcurrent": true,
              "mode": "immediate",
              "transition": {
               "duration": 0,
               "easing": "linear"
              }
             }
            ],
            "label": "2019-12-01",
            "method": "animate"
           },
           {
            "args": [
             [
              "2019-12-08"
             ],
             {
              "frame": {
               "duration": 0,
               "redraw": true
              },
              "fromcurrent": true,
              "mode": "immediate",
              "transition": {
               "duration": 0,
               "easing": "linear"
              }
             }
            ],
            "label": "2019-12-08",
            "method": "animate"
           },
           {
            "args": [
             [
              "2019-12-15"
             ],
             {
              "frame": {
               "duration": 0,
               "redraw": true
              },
              "fromcurrent": true,
              "mode": "immediate",
              "transition": {
               "duration": 0,
               "easing": "linear"
              }
             }
            ],
            "label": "2019-12-15",
            "method": "animate"
           },
           {
            "args": [
             [
              "2019-12-22"
             ],
             {
              "frame": {
               "duration": 0,
               "redraw": true
              },
              "fromcurrent": true,
              "mode": "immediate",
              "transition": {
               "duration": 0,
               "easing": "linear"
              }
             }
            ],
            "label": "2019-12-22",
            "method": "animate"
           },
           {
            "args": [
             [
              "2019-12-29"
             ],
             {
              "frame": {
               "duration": 0,
               "redraw": true
              },
              "fromcurrent": true,
              "mode": "immediate",
              "transition": {
               "duration": 0,
               "easing": "linear"
              }
             }
            ],
            "label": "2019-12-29",
            "method": "animate"
           },
           {
            "args": [
             [
              "2020-01-05"
             ],
             {
              "frame": {
               "duration": 0,
               "redraw": true
              },
              "fromcurrent": true,
              "mode": "immediate",
              "transition": {
               "duration": 0,
               "easing": "linear"
              }
             }
            ],
            "label": "2020-01-05",
            "method": "animate"
           },
           {
            "args": [
             [
              "2020-01-12"
             ],
             {
              "frame": {
               "duration": 0,
               "redraw": true
              },
              "fromcurrent": true,
              "mode": "immediate",
              "transition": {
               "duration": 0,
               "easing": "linear"
              }
             }
            ],
            "label": "2020-01-12",
            "method": "animate"
           },
           {
            "args": [
             [
              "2020-01-19"
             ],
             {
              "frame": {
               "duration": 0,
               "redraw": true
              },
              "fromcurrent": true,
              "mode": "immediate",
              "transition": {
               "duration": 0,
               "easing": "linear"
              }
             }
            ],
            "label": "2020-01-19",
            "method": "animate"
           },
           {
            "args": [
             [
              "2020-01-26"
             ],
             {
              "frame": {
               "duration": 0,
               "redraw": true
              },
              "fromcurrent": true,
              "mode": "immediate",
              "transition": {
               "duration": 0,
               "easing": "linear"
              }
             }
            ],
            "label": "2020-01-26",
            "method": "animate"
           },
           {
            "args": [
             [
              "2020-02-02"
             ],
             {
              "frame": {
               "duration": 0,
               "redraw": true
              },
              "fromcurrent": true,
              "mode": "immediate",
              "transition": {
               "duration": 0,
               "easing": "linear"
              }
             }
            ],
            "label": "2020-02-02",
            "method": "animate"
           },
           {
            "args": [
             [
              "2020-02-09"
             ],
             {
              "frame": {
               "duration": 0,
               "redraw": true
              },
              "fromcurrent": true,
              "mode": "immediate",
              "transition": {
               "duration": 0,
               "easing": "linear"
              }
             }
            ],
            "label": "2020-02-09",
            "method": "animate"
           },
           {
            "args": [
             [
              "2020-02-16"
             ],
             {
              "frame": {
               "duration": 0,
               "redraw": true
              },
              "fromcurrent": true,
              "mode": "immediate",
              "transition": {
               "duration": 0,
               "easing": "linear"
              }
             }
            ],
            "label": "2020-02-16",
            "method": "animate"
           },
           {
            "args": [
             [
              "2020-02-23"
             ],
             {
              "frame": {
               "duration": 0,
               "redraw": true
              },
              "fromcurrent": true,
              "mode": "immediate",
              "transition": {
               "duration": 0,
               "easing": "linear"
              }
             }
            ],
            "label": "2020-02-23",
            "method": "animate"
           },
           {
            "args": [
             [
              "2020-03-01"
             ],
             {
              "frame": {
               "duration": 0,
               "redraw": true
              },
              "fromcurrent": true,
              "mode": "immediate",
              "transition": {
               "duration": 0,
               "easing": "linear"
              }
             }
            ],
            "label": "2020-03-01",
            "method": "animate"
           },
           {
            "args": [
             [
              "2020-03-08"
             ],
             {
              "frame": {
               "duration": 0,
               "redraw": true
              },
              "fromcurrent": true,
              "mode": "immediate",
              "transition": {
               "duration": 0,
               "easing": "linear"
              }
             }
            ],
            "label": "2020-03-08",
            "method": "animate"
           },
           {
            "args": [
             [
              "2020-03-15"
             ],
             {
              "frame": {
               "duration": 0,
               "redraw": true
              },
              "fromcurrent": true,
              "mode": "immediate",
              "transition": {
               "duration": 0,
               "easing": "linear"
              }
             }
            ],
            "label": "2020-03-15",
            "method": "animate"
           },
           {
            "args": [
             [
              "2020-03-22"
             ],
             {
              "frame": {
               "duration": 0,
               "redraw": true
              },
              "fromcurrent": true,
              "mode": "immediate",
              "transition": {
               "duration": 0,
               "easing": "linear"
              }
             }
            ],
            "label": "2020-03-22",
            "method": "animate"
           },
           {
            "args": [
             [
              "2020-03-29"
             ],
             {
              "frame": {
               "duration": 0,
               "redraw": true
              },
              "fromcurrent": true,
              "mode": "immediate",
              "transition": {
               "duration": 0,
               "easing": "linear"
              }
             }
            ],
            "label": "2020-03-29",
            "method": "animate"
           },
           {
            "args": [
             [
              "2020-04-05"
             ],
             {
              "frame": {
               "duration": 0,
               "redraw": true
              },
              "fromcurrent": true,
              "mode": "immediate",
              "transition": {
               "duration": 0,
               "easing": "linear"
              }
             }
            ],
            "label": "2020-04-05",
            "method": "animate"
           },
           {
            "args": [
             [
              "2020-04-12"
             ],
             {
              "frame": {
               "duration": 0,
               "redraw": true
              },
              "fromcurrent": true,
              "mode": "immediate",
              "transition": {
               "duration": 0,
               "easing": "linear"
              }
             }
            ],
            "label": "2020-04-12",
            "method": "animate"
           },
           {
            "args": [
             [
              "2020-04-19"
             ],
             {
              "frame": {
               "duration": 0,
               "redraw": true
              },
              "fromcurrent": true,
              "mode": "immediate",
              "transition": {
               "duration": 0,
               "easing": "linear"
              }
             }
            ],
            "label": "2020-04-19",
            "method": "animate"
           },
           {
            "args": [
             [
              "2020-04-26"
             ],
             {
              "frame": {
               "duration": 0,
               "redraw": true
              },
              "fromcurrent": true,
              "mode": "immediate",
              "transition": {
               "duration": 0,
               "easing": "linear"
              }
             }
            ],
            "label": "2020-04-26",
            "method": "animate"
           },
           {
            "args": [
             [
              "2020-05-03"
             ],
             {
              "frame": {
               "duration": 0,
               "redraw": true
              },
              "fromcurrent": true,
              "mode": "immediate",
              "transition": {
               "duration": 0,
               "easing": "linear"
              }
             }
            ],
            "label": "2020-05-03",
            "method": "animate"
           },
           {
            "args": [
             [
              "2020-05-10"
             ],
             {
              "frame": {
               "duration": 0,
               "redraw": true
              },
              "fromcurrent": true,
              "mode": "immediate",
              "transition": {
               "duration": 0,
               "easing": "linear"
              }
             }
            ],
            "label": "2020-05-10",
            "method": "animate"
           },
           {
            "args": [
             [
              "2020-05-17"
             ],
             {
              "frame": {
               "duration": 0,
               "redraw": true
              },
              "fromcurrent": true,
              "mode": "immediate",
              "transition": {
               "duration": 0,
               "easing": "linear"
              }
             }
            ],
            "label": "2020-05-17",
            "method": "animate"
           },
           {
            "args": [
             [
              "2020-05-24"
             ],
             {
              "frame": {
               "duration": 0,
               "redraw": true
              },
              "fromcurrent": true,
              "mode": "immediate",
              "transition": {
               "duration": 0,
               "easing": "linear"
              }
             }
            ],
            "label": "2020-05-24",
            "method": "animate"
           },
           {
            "args": [
             [
              "2020-05-31"
             ],
             {
              "frame": {
               "duration": 0,
               "redraw": true
              },
              "fromcurrent": true,
              "mode": "immediate",
              "transition": {
               "duration": 0,
               "easing": "linear"
              }
             }
            ],
            "label": "2020-05-31",
            "method": "animate"
           },
           {
            "args": [
             [
              "2020-06-07"
             ],
             {
              "frame": {
               "duration": 0,
               "redraw": true
              },
              "fromcurrent": true,
              "mode": "immediate",
              "transition": {
               "duration": 0,
               "easing": "linear"
              }
             }
            ],
            "label": "2020-06-07",
            "method": "animate"
           },
           {
            "args": [
             [
              "2020-06-14"
             ],
             {
              "frame": {
               "duration": 0,
               "redraw": true
              },
              "fromcurrent": true,
              "mode": "immediate",
              "transition": {
               "duration": 0,
               "easing": "linear"
              }
             }
            ],
            "label": "2020-06-14",
            "method": "animate"
           },
           {
            "args": [
             [
              "2020-06-21"
             ],
             {
              "frame": {
               "duration": 0,
               "redraw": true
              },
              "fromcurrent": true,
              "mode": "immediate",
              "transition": {
               "duration": 0,
               "easing": "linear"
              }
             }
            ],
            "label": "2020-06-21",
            "method": "animate"
           },
           {
            "args": [
             [
              "2020-06-28"
             ],
             {
              "frame": {
               "duration": 0,
               "redraw": true
              },
              "fromcurrent": true,
              "mode": "immediate",
              "transition": {
               "duration": 0,
               "easing": "linear"
              }
             }
            ],
            "label": "2020-06-28",
            "method": "animate"
           },
           {
            "args": [
             [
              "2020-07-05"
             ],
             {
              "frame": {
               "duration": 0,
               "redraw": true
              },
              "fromcurrent": true,
              "mode": "immediate",
              "transition": {
               "duration": 0,
               "easing": "linear"
              }
             }
            ],
            "label": "2020-07-05",
            "method": "animate"
           },
           {
            "args": [
             [
              "2020-07-12"
             ],
             {
              "frame": {
               "duration": 0,
               "redraw": true
              },
              "fromcurrent": true,
              "mode": "immediate",
              "transition": {
               "duration": 0,
               "easing": "linear"
              }
             }
            ],
            "label": "2020-07-12",
            "method": "animate"
           },
           {
            "args": [
             [
              "2020-07-19"
             ],
             {
              "frame": {
               "duration": 0,
               "redraw": true
              },
              "fromcurrent": true,
              "mode": "immediate",
              "transition": {
               "duration": 0,
               "easing": "linear"
              }
             }
            ],
            "label": "2020-07-19",
            "method": "animate"
           },
           {
            "args": [
             [
              "2020-07-26"
             ],
             {
              "frame": {
               "duration": 0,
               "redraw": true
              },
              "fromcurrent": true,
              "mode": "immediate",
              "transition": {
               "duration": 0,
               "easing": "linear"
              }
             }
            ],
            "label": "2020-07-26",
            "method": "animate"
           },
           {
            "args": [
             [
              "2020-08-02"
             ],
             {
              "frame": {
               "duration": 0,
               "redraw": true
              },
              "fromcurrent": true,
              "mode": "immediate",
              "transition": {
               "duration": 0,
               "easing": "linear"
              }
             }
            ],
            "label": "2020-08-02",
            "method": "animate"
           },
           {
            "args": [
             [
              "2020-08-09"
             ],
             {
              "frame": {
               "duration": 0,
               "redraw": true
              },
              "fromcurrent": true,
              "mode": "immediate",
              "transition": {
               "duration": 0,
               "easing": "linear"
              }
             }
            ],
            "label": "2020-08-09",
            "method": "animate"
           },
           {
            "args": [
             [
              "2020-08-16"
             ],
             {
              "frame": {
               "duration": 0,
               "redraw": true
              },
              "fromcurrent": true,
              "mode": "immediate",
              "transition": {
               "duration": 0,
               "easing": "linear"
              }
             }
            ],
            "label": "2020-08-16",
            "method": "animate"
           },
           {
            "args": [
             [
              "2020-08-23"
             ],
             {
              "frame": {
               "duration": 0,
               "redraw": true
              },
              "fromcurrent": true,
              "mode": "immediate",
              "transition": {
               "duration": 0,
               "easing": "linear"
              }
             }
            ],
            "label": "2020-08-23",
            "method": "animate"
           },
           {
            "args": [
             [
              "2020-08-30"
             ],
             {
              "frame": {
               "duration": 0,
               "redraw": true
              },
              "fromcurrent": true,
              "mode": "immediate",
              "transition": {
               "duration": 0,
               "easing": "linear"
              }
             }
            ],
            "label": "2020-08-30",
            "method": "animate"
           },
           {
            "args": [
             [
              "2020-09-06"
             ],
             {
              "frame": {
               "duration": 0,
               "redraw": true
              },
              "fromcurrent": true,
              "mode": "immediate",
              "transition": {
               "duration": 0,
               "easing": "linear"
              }
             }
            ],
            "label": "2020-09-06",
            "method": "animate"
           },
           {
            "args": [
             [
              "2020-09-13"
             ],
             {
              "frame": {
               "duration": 0,
               "redraw": true
              },
              "fromcurrent": true,
              "mode": "immediate",
              "transition": {
               "duration": 0,
               "easing": "linear"
              }
             }
            ],
            "label": "2020-09-13",
            "method": "animate"
           },
           {
            "args": [
             [
              "2020-09-20"
             ],
             {
              "frame": {
               "duration": 0,
               "redraw": true
              },
              "fromcurrent": true,
              "mode": "immediate",
              "transition": {
               "duration": 0,
               "easing": "linear"
              }
             }
            ],
            "label": "2020-09-20",
            "method": "animate"
           },
           {
            "args": [
             [
              "2020-09-27"
             ],
             {
              "frame": {
               "duration": 0,
               "redraw": true
              },
              "fromcurrent": true,
              "mode": "immediate",
              "transition": {
               "duration": 0,
               "easing": "linear"
              }
             }
            ],
            "label": "2020-09-27",
            "method": "animate"
           },
           {
            "args": [
             [
              "2020-10-04"
             ],
             {
              "frame": {
               "duration": 0,
               "redraw": true
              },
              "fromcurrent": true,
              "mode": "immediate",
              "transition": {
               "duration": 0,
               "easing": "linear"
              }
             }
            ],
            "label": "2020-10-04",
            "method": "animate"
           },
           {
            "args": [
             [
              "2020-10-11"
             ],
             {
              "frame": {
               "duration": 0,
               "redraw": true
              },
              "fromcurrent": true,
              "mode": "immediate",
              "transition": {
               "duration": 0,
               "easing": "linear"
              }
             }
            ],
            "label": "2020-10-11",
            "method": "animate"
           },
           {
            "args": [
             [
              "2020-10-18"
             ],
             {
              "frame": {
               "duration": 0,
               "redraw": true
              },
              "fromcurrent": true,
              "mode": "immediate",
              "transition": {
               "duration": 0,
               "easing": "linear"
              }
             }
            ],
            "label": "2020-10-18",
            "method": "animate"
           },
           {
            "args": [
             [
              "2020-10-25"
             ],
             {
              "frame": {
               "duration": 0,
               "redraw": true
              },
              "fromcurrent": true,
              "mode": "immediate",
              "transition": {
               "duration": 0,
               "easing": "linear"
              }
             }
            ],
            "label": "2020-10-25",
            "method": "animate"
           },
           {
            "args": [
             [
              "2020-11-01"
             ],
             {
              "frame": {
               "duration": 0,
               "redraw": true
              },
              "fromcurrent": true,
              "mode": "immediate",
              "transition": {
               "duration": 0,
               "easing": "linear"
              }
             }
            ],
            "label": "2020-11-01",
            "method": "animate"
           }
          ],
          "x": 0.1,
          "xanchor": "left",
          "y": 0,
          "yanchor": "top"
         }
        ],
        "template": {
         "data": {
          "bar": [
           {
            "error_x": {
             "color": "#2a3f5f"
            },
            "error_y": {
             "color": "#2a3f5f"
            },
            "marker": {
             "line": {
              "color": "#E5ECF6",
              "width": 0.5
             }
            },
            "type": "bar"
           }
          ],
          "barpolar": [
           {
            "marker": {
             "line": {
              "color": "#E5ECF6",
              "width": 0.5
             }
            },
            "type": "barpolar"
           }
          ],
          "carpet": [
           {
            "aaxis": {
             "endlinecolor": "#2a3f5f",
             "gridcolor": "white",
             "linecolor": "white",
             "minorgridcolor": "white",
             "startlinecolor": "#2a3f5f"
            },
            "baxis": {
             "endlinecolor": "#2a3f5f",
             "gridcolor": "white",
             "linecolor": "white",
             "minorgridcolor": "white",
             "startlinecolor": "#2a3f5f"
            },
            "type": "carpet"
           }
          ],
          "choropleth": [
           {
            "colorbar": {
             "outlinewidth": 0,
             "ticks": ""
            },
            "type": "choropleth"
           }
          ],
          "contour": [
           {
            "colorbar": {
             "outlinewidth": 0,
             "ticks": ""
            },
            "colorscale": [
             [
              0,
              "#0d0887"
             ],
             [
              0.1111111111111111,
              "#46039f"
             ],
             [
              0.2222222222222222,
              "#7201a8"
             ],
             [
              0.3333333333333333,
              "#9c179e"
             ],
             [
              0.4444444444444444,
              "#bd3786"
             ],
             [
              0.5555555555555556,
              "#d8576b"
             ],
             [
              0.6666666666666666,
              "#ed7953"
             ],
             [
              0.7777777777777778,
              "#fb9f3a"
             ],
             [
              0.8888888888888888,
              "#fdca26"
             ],
             [
              1,
              "#f0f921"
             ]
            ],
            "type": "contour"
           }
          ],
          "contourcarpet": [
           {
            "colorbar": {
             "outlinewidth": 0,
             "ticks": ""
            },
            "type": "contourcarpet"
           }
          ],
          "heatmap": [
           {
            "colorbar": {
             "outlinewidth": 0,
             "ticks": ""
            },
            "colorscale": [
             [
              0,
              "#0d0887"
             ],
             [
              0.1111111111111111,
              "#46039f"
             ],
             [
              0.2222222222222222,
              "#7201a8"
             ],
             [
              0.3333333333333333,
              "#9c179e"
             ],
             [
              0.4444444444444444,
              "#bd3786"
             ],
             [
              0.5555555555555556,
              "#d8576b"
             ],
             [
              0.6666666666666666,
              "#ed7953"
             ],
             [
              0.7777777777777778,
              "#fb9f3a"
             ],
             [
              0.8888888888888888,
              "#fdca26"
             ],
             [
              1,
              "#f0f921"
             ]
            ],
            "type": "heatmap"
           }
          ],
          "heatmapgl": [
           {
            "colorbar": {
             "outlinewidth": 0,
             "ticks": ""
            },
            "colorscale": [
             [
              0,
              "#0d0887"
             ],
             [
              0.1111111111111111,
              "#46039f"
             ],
             [
              0.2222222222222222,
              "#7201a8"
             ],
             [
              0.3333333333333333,
              "#9c179e"
             ],
             [
              0.4444444444444444,
              "#bd3786"
             ],
             [
              0.5555555555555556,
              "#d8576b"
             ],
             [
              0.6666666666666666,
              "#ed7953"
             ],
             [
              0.7777777777777778,
              "#fb9f3a"
             ],
             [
              0.8888888888888888,
              "#fdca26"
             ],
             [
              1,
              "#f0f921"
             ]
            ],
            "type": "heatmapgl"
           }
          ],
          "histogram": [
           {
            "marker": {
             "colorbar": {
              "outlinewidth": 0,
              "ticks": ""
             }
            },
            "type": "histogram"
           }
          ],
          "histogram2d": [
           {
            "colorbar": {
             "outlinewidth": 0,
             "ticks": ""
            },
            "colorscale": [
             [
              0,
              "#0d0887"
             ],
             [
              0.1111111111111111,
              "#46039f"
             ],
             [
              0.2222222222222222,
              "#7201a8"
             ],
             [
              0.3333333333333333,
              "#9c179e"
             ],
             [
              0.4444444444444444,
              "#bd3786"
             ],
             [
              0.5555555555555556,
              "#d8576b"
             ],
             [
              0.6666666666666666,
              "#ed7953"
             ],
             [
              0.7777777777777778,
              "#fb9f3a"
             ],
             [
              0.8888888888888888,
              "#fdca26"
             ],
             [
              1,
              "#f0f921"
             ]
            ],
            "type": "histogram2d"
           }
          ],
          "histogram2dcontour": [
           {
            "colorbar": {
             "outlinewidth": 0,
             "ticks": ""
            },
            "colorscale": [
             [
              0,
              "#0d0887"
             ],
             [
              0.1111111111111111,
              "#46039f"
             ],
             [
              0.2222222222222222,
              "#7201a8"
             ],
             [
              0.3333333333333333,
              "#9c179e"
             ],
             [
              0.4444444444444444,
              "#bd3786"
             ],
             [
              0.5555555555555556,
              "#d8576b"
             ],
             [
              0.6666666666666666,
              "#ed7953"
             ],
             [
              0.7777777777777778,
              "#fb9f3a"
             ],
             [
              0.8888888888888888,
              "#fdca26"
             ],
             [
              1,
              "#f0f921"
             ]
            ],
            "type": "histogram2dcontour"
           }
          ],
          "mesh3d": [
           {
            "colorbar": {
             "outlinewidth": 0,
             "ticks": ""
            },
            "type": "mesh3d"
           }
          ],
          "parcoords": [
           {
            "line": {
             "colorbar": {
              "outlinewidth": 0,
              "ticks": ""
             }
            },
            "type": "parcoords"
           }
          ],
          "pie": [
           {
            "automargin": true,
            "type": "pie"
           }
          ],
          "scatter": [
           {
            "marker": {
             "colorbar": {
              "outlinewidth": 0,
              "ticks": ""
             }
            },
            "type": "scatter"
           }
          ],
          "scatter3d": [
           {
            "line": {
             "colorbar": {
              "outlinewidth": 0,
              "ticks": ""
             }
            },
            "marker": {
             "colorbar": {
              "outlinewidth": 0,
              "ticks": ""
             }
            },
            "type": "scatter3d"
           }
          ],
          "scattercarpet": [
           {
            "marker": {
             "colorbar": {
              "outlinewidth": 0,
              "ticks": ""
             }
            },
            "type": "scattercarpet"
           }
          ],
          "scattergeo": [
           {
            "marker": {
             "colorbar": {
              "outlinewidth": 0,
              "ticks": ""
             }
            },
            "type": "scattergeo"
           }
          ],
          "scattergl": [
           {
            "marker": {
             "colorbar": {
              "outlinewidth": 0,
              "ticks": ""
             }
            },
            "type": "scattergl"
           }
          ],
          "scattermapbox": [
           {
            "marker": {
             "colorbar": {
              "outlinewidth": 0,
              "ticks": ""
             }
            },
            "type": "scattermapbox"
           }
          ],
          "scatterpolar": [
           {
            "marker": {
             "colorbar": {
              "outlinewidth": 0,
              "ticks": ""
             }
            },
            "type": "scatterpolar"
           }
          ],
          "scatterpolargl": [
           {
            "marker": {
             "colorbar": {
              "outlinewidth": 0,
              "ticks": ""
             }
            },
            "type": "scatterpolargl"
           }
          ],
          "scatterternary": [
           {
            "marker": {
             "colorbar": {
              "outlinewidth": 0,
              "ticks": ""
             }
            },
            "type": "scatterternary"
           }
          ],
          "surface": [
           {
            "colorbar": {
             "outlinewidth": 0,
             "ticks": ""
            },
            "colorscale": [
             [
              0,
              "#0d0887"
             ],
             [
              0.1111111111111111,
              "#46039f"
             ],
             [
              0.2222222222222222,
              "#7201a8"
             ],
             [
              0.3333333333333333,
              "#9c179e"
             ],
             [
              0.4444444444444444,
              "#bd3786"
             ],
             [
              0.5555555555555556,
              "#d8576b"
             ],
             [
              0.6666666666666666,
              "#ed7953"
             ],
             [
              0.7777777777777778,
              "#fb9f3a"
             ],
             [
              0.8888888888888888,
              "#fdca26"
             ],
             [
              1,
              "#f0f921"
             ]
            ],
            "type": "surface"
           }
          ],
          "table": [
           {
            "cells": {
             "fill": {
              "color": "#EBF0F8"
             },
             "line": {
              "color": "white"
             }
            },
            "header": {
             "fill": {
              "color": "#C8D4E3"
             },
             "line": {
              "color": "white"
             }
            },
            "type": "table"
           }
          ]
         },
         "layout": {
          "annotationdefaults": {
           "arrowcolor": "#2a3f5f",
           "arrowhead": 0,
           "arrowwidth": 1
          },
          "coloraxis": {
           "colorbar": {
            "outlinewidth": 0,
            "ticks": ""
           }
          },
          "colorscale": {
           "diverging": [
            [
             0,
             "#8e0152"
            ],
            [
             0.1,
             "#c51b7d"
            ],
            [
             0.2,
             "#de77ae"
            ],
            [
             0.3,
             "#f1b6da"
            ],
            [
             0.4,
             "#fde0ef"
            ],
            [
             0.5,
             "#f7f7f7"
            ],
            [
             0.6,
             "#e6f5d0"
            ],
            [
             0.7,
             "#b8e186"
            ],
            [
             0.8,
             "#7fbc41"
            ],
            [
             0.9,
             "#4d9221"
            ],
            [
             1,
             "#276419"
            ]
           ],
           "sequential": [
            [
             0,
             "#0d0887"
            ],
            [
             0.1111111111111111,
             "#46039f"
            ],
            [
             0.2222222222222222,
             "#7201a8"
            ],
            [
             0.3333333333333333,
             "#9c179e"
            ],
            [
             0.4444444444444444,
             "#bd3786"
            ],
            [
             0.5555555555555556,
             "#d8576b"
            ],
            [
             0.6666666666666666,
             "#ed7953"
            ],
            [
             0.7777777777777778,
             "#fb9f3a"
            ],
            [
             0.8888888888888888,
             "#fdca26"
            ],
            [
             1,
             "#f0f921"
            ]
           ],
           "sequentialminus": [
            [
             0,
             "#0d0887"
            ],
            [
             0.1111111111111111,
             "#46039f"
            ],
            [
             0.2222222222222222,
             "#7201a8"
            ],
            [
             0.3333333333333333,
             "#9c179e"
            ],
            [
             0.4444444444444444,
             "#bd3786"
            ],
            [
             0.5555555555555556,
             "#d8576b"
            ],
            [
             0.6666666666666666,
             "#ed7953"
            ],
            [
             0.7777777777777778,
             "#fb9f3a"
            ],
            [
             0.8888888888888888,
             "#fdca26"
            ],
            [
             1,
             "#f0f921"
            ]
           ]
          },
          "colorway": [
           "#636efa",
           "#EF553B",
           "#00cc96",
           "#ab63fa",
           "#FFA15A",
           "#19d3f3",
           "#FF6692",
           "#B6E880",
           "#FF97FF",
           "#FECB52"
          ],
          "font": {
           "color": "#2a3f5f"
          },
          "geo": {
           "bgcolor": "white",
           "lakecolor": "white",
           "landcolor": "#E5ECF6",
           "showlakes": true,
           "showland": true,
           "subunitcolor": "white"
          },
          "hoverlabel": {
           "align": "left"
          },
          "hovermode": "closest",
          "mapbox": {
           "style": "light"
          },
          "paper_bgcolor": "white",
          "plot_bgcolor": "#E5ECF6",
          "polar": {
           "angularaxis": {
            "gridcolor": "white",
            "linecolor": "white",
            "ticks": ""
           },
           "bgcolor": "#E5ECF6",
           "radialaxis": {
            "gridcolor": "white",
            "linecolor": "white",
            "ticks": ""
           }
          },
          "scene": {
           "xaxis": {
            "backgroundcolor": "#E5ECF6",
            "gridcolor": "white",
            "gridwidth": 2,
            "linecolor": "white",
            "showbackground": true,
            "ticks": "",
            "zerolinecolor": "white"
           },
           "yaxis": {
            "backgroundcolor": "#E5ECF6",
            "gridcolor": "white",
            "gridwidth": 2,
            "linecolor": "white",
            "showbackground": true,
            "ticks": "",
            "zerolinecolor": "white"
           },
           "zaxis": {
            "backgroundcolor": "#E5ECF6",
            "gridcolor": "white",
            "gridwidth": 2,
            "linecolor": "white",
            "showbackground": true,
            "ticks": "",
            "zerolinecolor": "white"
           }
          },
          "shapedefaults": {
           "line": {
            "color": "#2a3f5f"
           }
          },
          "ternary": {
           "aaxis": {
            "gridcolor": "white",
            "linecolor": "white",
            "ticks": ""
           },
           "baxis": {
            "gridcolor": "white",
            "linecolor": "white",
            "ticks": ""
           },
           "bgcolor": "#E5ECF6",
           "caxis": {
            "gridcolor": "white",
            "linecolor": "white",
            "ticks": ""
           }
          },
          "title": {
           "x": 0.05
          },
          "xaxis": {
           "automargin": true,
           "gridcolor": "white",
           "linecolor": "white",
           "ticks": "",
           "title": {
            "standoff": 15
           },
           "zerolinecolor": "white",
           "zerolinewidth": 2
          },
          "yaxis": {
           "automargin": true,
           "gridcolor": "white",
           "linecolor": "white",
           "ticks": "",
           "title": {
            "standoff": 15
           },
           "zerolinecolor": "white",
           "zerolinewidth": 2
          }
         }
        },
        "title": {
         "text": "Search term evolution for Germany"
        },
        "updatemenus": [
         {
          "buttons": [
           {
            "args": [
             null,
             {
              "frame": {
               "duration": 500,
               "redraw": true
              },
              "fromcurrent": true,
              "mode": "immediate",
              "transition": {
               "duration": 500,
               "easing": "linear"
              }
             }
            ],
            "label": "&#9654;",
            "method": "animate"
           },
           {
            "args": [
             [
              null
             ],
             {
              "frame": {
               "duration": 0,
               "redraw": true
              },
              "fromcurrent": true,
              "mode": "immediate",
              "transition": {
               "duration": 0,
               "easing": "linear"
              }
             }
            ],
            "label": "&#9724;",
            "method": "animate"
           }
          ],
          "direction": "left",
          "pad": {
           "r": 10,
           "t": 70
          },
          "showactive": false,
          "type": "buttons",
          "x": 0.1,
          "xanchor": "right",
          "y": 0,
          "yanchor": "top"
         }
        ],
        "width": 700
       }
      },
      "text/html": [
       "<div>\n",
       "        \n",
       "        \n",
       "            <div id=\"3a622c5f-aa6f-4cb1-bfdb-373858a2186f\" class=\"plotly-graph-div\" style=\"height:700px; width:700px;\"></div>\n",
       "            <script type=\"text/javascript\">\n",
       "                require([\"plotly\"], function(Plotly) {\n",
       "                    window.PLOTLYENV=window.PLOTLYENV || {};\n",
       "                    \n",
       "                if (document.getElementById(\"3a622c5f-aa6f-4cb1-bfdb-373858a2186f\")) {\n",
       "                    Plotly.newPlot(\n",
       "                        '3a622c5f-aa6f-4cb1-bfdb-373858a2186f',\n",
       "                        [{\"hovertemplate\": \"country=ger<br>date_str=2019-11-03<br>score_difference=%{r}<br>term=%{theta}<extra></extra>\", \"legendgroup\": \"ger\", \"line\": {\"color\": \"#636efa\", \"dash\": \"solid\", \"shape\": \"spline\"}, \"mode\": \"lines\", \"name\": \"ger\", \"r\": [11.0, 11.0], \"showlegend\": true, \"subplot\": \"polar\", \"theta\": [\"restaurant\", \"restaurant\"], \"type\": \"scatterpolar\"}, {\"hovertemplate\": \"country=nl<br>date_str=2019-11-03<br>score_difference=%{r}<br>term=%{theta}<extra></extra>\", \"legendgroup\": \"nl\", \"line\": {\"color\": \"#EF553B\", \"dash\": \"solid\", \"shape\": \"spline\"}, \"mode\": \"lines\", \"name\": \"nl\", \"r\": [1.0, 1.0], \"showlegend\": true, \"subplot\": \"polar\", \"theta\": [\"restaurant\", \"restaurant\"], \"type\": \"scatterpolar\"}, {\"hovertemplate\": \"country=uk<br>date_str=2019-11-03<br>score_difference=%{r}<br>term=%{theta}<extra></extra>\", \"legendgroup\": \"uk\", \"line\": {\"color\": \"#00cc96\", \"dash\": \"solid\", \"shape\": \"spline\"}, \"mode\": \"lines\", \"name\": \"uk\", \"r\": [0.0, 0.0], \"showlegend\": true, \"subplot\": \"polar\", \"theta\": [\"restaurant\", \"restaurant\"], \"type\": \"scatterpolar\"}],\n",
       "                        {\"height\": 700, \"legend\": {\"title\": {\"text\": \"country\"}, \"tracegroupgap\": 0}, \"polar\": {\"angularaxis\": {\"direction\": \"clockwise\", \"rotation\": 90}, \"domain\": {\"x\": [0.0, 1.0], \"y\": [0.0, 1.0]}, \"radialaxis\": {\"range\": [-50.0, 100.0]}}, \"sliders\": [{\"active\": 0, \"currentvalue\": {\"prefix\": \"date_str=\"}, \"len\": 0.9, \"pad\": {\"b\": 10, \"t\": 60}, \"steps\": [{\"args\": [[\"2019-11-03\"], {\"frame\": {\"duration\": 0, \"redraw\": true}, \"fromcurrent\": true, \"mode\": \"immediate\", \"transition\": {\"duration\": 0, \"easing\": \"linear\"}}], \"label\": \"2019-11-03\", \"method\": \"animate\"}, {\"args\": [[\"2019-11-10\"], {\"frame\": {\"duration\": 0, \"redraw\": true}, \"fromcurrent\": true, \"mode\": \"immediate\", \"transition\": {\"duration\": 0, \"easing\": \"linear\"}}], \"label\": \"2019-11-10\", \"method\": \"animate\"}, {\"args\": [[\"2019-11-17\"], {\"frame\": {\"duration\": 0, \"redraw\": true}, \"fromcurrent\": true, \"mode\": \"immediate\", \"transition\": {\"duration\": 0, \"easing\": \"linear\"}}], \"label\": \"2019-11-17\", \"method\": \"animate\"}, {\"args\": [[\"2019-11-24\"], {\"frame\": {\"duration\": 0, \"redraw\": true}, \"fromcurrent\": true, \"mode\": \"immediate\", \"transition\": {\"duration\": 0, \"easing\": \"linear\"}}], \"label\": \"2019-11-24\", \"method\": \"animate\"}, {\"args\": [[\"2019-12-01\"], {\"frame\": {\"duration\": 0, \"redraw\": true}, \"fromcurrent\": true, \"mode\": \"immediate\", \"transition\": {\"duration\": 0, \"easing\": \"linear\"}}], \"label\": \"2019-12-01\", \"method\": \"animate\"}, {\"args\": [[\"2019-12-08\"], {\"frame\": {\"duration\": 0, \"redraw\": true}, \"fromcurrent\": true, \"mode\": \"immediate\", \"transition\": {\"duration\": 0, \"easing\": \"linear\"}}], \"label\": \"2019-12-08\", \"method\": \"animate\"}, {\"args\": [[\"2019-12-15\"], {\"frame\": {\"duration\": 0, \"redraw\": true}, \"fromcurrent\": true, \"mode\": \"immediate\", \"transition\": {\"duration\": 0, \"easing\": \"linear\"}}], \"label\": \"2019-12-15\", \"method\": \"animate\"}, {\"args\": [[\"2019-12-22\"], {\"frame\": {\"duration\": 0, \"redraw\": true}, \"fromcurrent\": true, \"mode\": \"immediate\", \"transition\": {\"duration\": 0, \"easing\": \"linear\"}}], \"label\": \"2019-12-22\", \"method\": \"animate\"}, {\"args\": [[\"2019-12-29\"], {\"frame\": {\"duration\": 0, \"redraw\": true}, \"fromcurrent\": true, \"mode\": \"immediate\", \"transition\": {\"duration\": 0, \"easing\": \"linear\"}}], \"label\": \"2019-12-29\", \"method\": \"animate\"}, {\"args\": [[\"2020-01-05\"], {\"frame\": {\"duration\": 0, \"redraw\": true}, \"fromcurrent\": true, \"mode\": \"immediate\", \"transition\": {\"duration\": 0, \"easing\": \"linear\"}}], \"label\": \"2020-01-05\", \"method\": \"animate\"}, {\"args\": [[\"2020-01-12\"], {\"frame\": {\"duration\": 0, \"redraw\": true}, \"fromcurrent\": true, \"mode\": \"immediate\", \"transition\": {\"duration\": 0, \"easing\": \"linear\"}}], \"label\": \"2020-01-12\", \"method\": \"animate\"}, {\"args\": [[\"2020-01-19\"], {\"frame\": {\"duration\": 0, \"redraw\": true}, \"fromcurrent\": true, \"mode\": \"immediate\", \"transition\": {\"duration\": 0, \"easing\": \"linear\"}}], \"label\": \"2020-01-19\", \"method\": \"animate\"}, {\"args\": [[\"2020-01-26\"], {\"frame\": {\"duration\": 0, \"redraw\": true}, \"fromcurrent\": true, \"mode\": \"immediate\", \"transition\": {\"duration\": 0, \"easing\": \"linear\"}}], \"label\": \"2020-01-26\", \"method\": \"animate\"}, {\"args\": [[\"2020-02-02\"], {\"frame\": {\"duration\": 0, \"redraw\": true}, \"fromcurrent\": true, \"mode\": \"immediate\", \"transition\": {\"duration\": 0, \"easing\": \"linear\"}}], \"label\": \"2020-02-02\", \"method\": \"animate\"}, {\"args\": [[\"2020-02-09\"], {\"frame\": {\"duration\": 0, \"redraw\": true}, \"fromcurrent\": true, \"mode\": \"immediate\", \"transition\": {\"duration\": 0, \"easing\": \"linear\"}}], \"label\": \"2020-02-09\", \"method\": \"animate\"}, {\"args\": [[\"2020-02-16\"], {\"frame\": {\"duration\": 0, \"redraw\": true}, \"fromcurrent\": true, \"mode\": \"immediate\", \"transition\": {\"duration\": 0, \"easing\": \"linear\"}}], \"label\": \"2020-02-16\", \"method\": \"animate\"}, {\"args\": [[\"2020-02-23\"], {\"frame\": {\"duration\": 0, \"redraw\": true}, \"fromcurrent\": true, \"mode\": \"immediate\", \"transition\": {\"duration\": 0, \"easing\": \"linear\"}}], \"label\": \"2020-02-23\", \"method\": \"animate\"}, {\"args\": [[\"2020-03-01\"], {\"frame\": {\"duration\": 0, \"redraw\": true}, \"fromcurrent\": true, \"mode\": \"immediate\", \"transition\": {\"duration\": 0, \"easing\": \"linear\"}}], \"label\": \"2020-03-01\", \"method\": \"animate\"}, {\"args\": [[\"2020-03-08\"], {\"frame\": {\"duration\": 0, \"redraw\": true}, \"fromcurrent\": true, \"mode\": \"immediate\", \"transition\": {\"duration\": 0, \"easing\": \"linear\"}}], \"label\": \"2020-03-08\", \"method\": \"animate\"}, {\"args\": [[\"2020-03-15\"], {\"frame\": {\"duration\": 0, \"redraw\": true}, \"fromcurrent\": true, \"mode\": \"immediate\", \"transition\": {\"duration\": 0, \"easing\": \"linear\"}}], \"label\": \"2020-03-15\", \"method\": \"animate\"}, {\"args\": [[\"2020-03-22\"], {\"frame\": {\"duration\": 0, \"redraw\": true}, \"fromcurrent\": true, \"mode\": \"immediate\", \"transition\": {\"duration\": 0, \"easing\": \"linear\"}}], \"label\": \"2020-03-22\", \"method\": \"animate\"}, {\"args\": [[\"2020-03-29\"], {\"frame\": {\"duration\": 0, \"redraw\": true}, \"fromcurrent\": true, \"mode\": \"immediate\", \"transition\": {\"duration\": 0, \"easing\": \"linear\"}}], \"label\": \"2020-03-29\", \"method\": \"animate\"}, {\"args\": [[\"2020-04-05\"], {\"frame\": {\"duration\": 0, \"redraw\": true}, \"fromcurrent\": true, \"mode\": \"immediate\", \"transition\": {\"duration\": 0, \"easing\": \"linear\"}}], \"label\": \"2020-04-05\", \"method\": \"animate\"}, {\"args\": [[\"2020-04-12\"], {\"frame\": {\"duration\": 0, \"redraw\": true}, \"fromcurrent\": true, \"mode\": \"immediate\", \"transition\": {\"duration\": 0, \"easing\": \"linear\"}}], \"label\": \"2020-04-12\", \"method\": \"animate\"}, {\"args\": [[\"2020-04-19\"], {\"frame\": {\"duration\": 0, \"redraw\": true}, \"fromcurrent\": true, \"mode\": \"immediate\", \"transition\": {\"duration\": 0, \"easing\": \"linear\"}}], \"label\": \"2020-04-19\", \"method\": \"animate\"}, {\"args\": [[\"2020-04-26\"], {\"frame\": {\"duration\": 0, \"redraw\": true}, \"fromcurrent\": true, \"mode\": \"immediate\", \"transition\": {\"duration\": 0, \"easing\": \"linear\"}}], \"label\": \"2020-04-26\", \"method\": \"animate\"}, {\"args\": [[\"2020-05-03\"], {\"frame\": {\"duration\": 0, \"redraw\": true}, \"fromcurrent\": true, \"mode\": \"immediate\", \"transition\": {\"duration\": 0, \"easing\": \"linear\"}}], \"label\": \"2020-05-03\", \"method\": \"animate\"}, {\"args\": [[\"2020-05-10\"], {\"frame\": {\"duration\": 0, \"redraw\": true}, \"fromcurrent\": true, \"mode\": \"immediate\", \"transition\": {\"duration\": 0, \"easing\": \"linear\"}}], \"label\": \"2020-05-10\", \"method\": \"animate\"}, {\"args\": [[\"2020-05-17\"], {\"frame\": {\"duration\": 0, \"redraw\": true}, \"fromcurrent\": true, \"mode\": \"immediate\", \"transition\": {\"duration\": 0, \"easing\": \"linear\"}}], \"label\": \"2020-05-17\", \"method\": \"animate\"}, {\"args\": [[\"2020-05-24\"], {\"frame\": {\"duration\": 0, \"redraw\": true}, \"fromcurrent\": true, \"mode\": \"immediate\", \"transition\": {\"duration\": 0, \"easing\": \"linear\"}}], \"label\": \"2020-05-24\", \"method\": \"animate\"}, {\"args\": [[\"2020-05-31\"], {\"frame\": {\"duration\": 0, \"redraw\": true}, \"fromcurrent\": true, \"mode\": \"immediate\", \"transition\": {\"duration\": 0, \"easing\": \"linear\"}}], \"label\": \"2020-05-31\", \"method\": \"animate\"}, {\"args\": [[\"2020-06-07\"], {\"frame\": {\"duration\": 0, \"redraw\": true}, \"fromcurrent\": true, \"mode\": \"immediate\", \"transition\": {\"duration\": 0, \"easing\": \"linear\"}}], \"label\": \"2020-06-07\", \"method\": \"animate\"}, {\"args\": [[\"2020-06-14\"], {\"frame\": {\"duration\": 0, \"redraw\": true}, \"fromcurrent\": true, \"mode\": \"immediate\", \"transition\": {\"duration\": 0, \"easing\": \"linear\"}}], \"label\": \"2020-06-14\", \"method\": \"animate\"}, {\"args\": [[\"2020-06-21\"], {\"frame\": {\"duration\": 0, \"redraw\": true}, \"fromcurrent\": true, \"mode\": \"immediate\", \"transition\": {\"duration\": 0, \"easing\": \"linear\"}}], \"label\": \"2020-06-21\", \"method\": \"animate\"}, {\"args\": [[\"2020-06-28\"], {\"frame\": {\"duration\": 0, \"redraw\": true}, \"fromcurrent\": true, \"mode\": \"immediate\", \"transition\": {\"duration\": 0, \"easing\": \"linear\"}}], \"label\": \"2020-06-28\", \"method\": \"animate\"}, {\"args\": [[\"2020-07-05\"], {\"frame\": {\"duration\": 0, \"redraw\": true}, \"fromcurrent\": true, \"mode\": \"immediate\", \"transition\": {\"duration\": 0, \"easing\": \"linear\"}}], \"label\": \"2020-07-05\", \"method\": \"animate\"}, {\"args\": [[\"2020-07-12\"], {\"frame\": {\"duration\": 0, \"redraw\": true}, \"fromcurrent\": true, \"mode\": \"immediate\", \"transition\": {\"duration\": 0, \"easing\": \"linear\"}}], \"label\": \"2020-07-12\", \"method\": \"animate\"}, {\"args\": [[\"2020-07-19\"], {\"frame\": {\"duration\": 0, \"redraw\": true}, \"fromcurrent\": true, \"mode\": \"immediate\", \"transition\": {\"duration\": 0, \"easing\": \"linear\"}}], \"label\": \"2020-07-19\", \"method\": \"animate\"}, {\"args\": [[\"2020-07-26\"], {\"frame\": {\"duration\": 0, \"redraw\": true}, \"fromcurrent\": true, \"mode\": \"immediate\", \"transition\": {\"duration\": 0, \"easing\": \"linear\"}}], \"label\": \"2020-07-26\", \"method\": \"animate\"}, {\"args\": [[\"2020-08-02\"], {\"frame\": {\"duration\": 0, \"redraw\": true}, \"fromcurrent\": true, \"mode\": \"immediate\", \"transition\": {\"duration\": 0, \"easing\": \"linear\"}}], \"label\": \"2020-08-02\", \"method\": \"animate\"}, {\"args\": [[\"2020-08-09\"], {\"frame\": {\"duration\": 0, \"redraw\": true}, \"fromcurrent\": true, \"mode\": \"immediate\", \"transition\": {\"duration\": 0, \"easing\": \"linear\"}}], \"label\": \"2020-08-09\", \"method\": \"animate\"}, {\"args\": [[\"2020-08-16\"], {\"frame\": {\"duration\": 0, \"redraw\": true}, \"fromcurrent\": true, \"mode\": \"immediate\", \"transition\": {\"duration\": 0, \"easing\": \"linear\"}}], \"label\": \"2020-08-16\", \"method\": \"animate\"}, {\"args\": [[\"2020-08-23\"], {\"frame\": {\"duration\": 0, \"redraw\": true}, \"fromcurrent\": true, \"mode\": \"immediate\", \"transition\": {\"duration\": 0, \"easing\": \"linear\"}}], \"label\": \"2020-08-23\", \"method\": \"animate\"}, {\"args\": [[\"2020-08-30\"], {\"frame\": {\"duration\": 0, \"redraw\": true}, \"fromcurrent\": true, \"mode\": \"immediate\", \"transition\": {\"duration\": 0, \"easing\": \"linear\"}}], \"label\": \"2020-08-30\", \"method\": \"animate\"}, {\"args\": [[\"2020-09-06\"], {\"frame\": {\"duration\": 0, \"redraw\": true}, \"fromcurrent\": true, \"mode\": \"immediate\", \"transition\": {\"duration\": 0, \"easing\": \"linear\"}}], \"label\": \"2020-09-06\", \"method\": \"animate\"}, {\"args\": [[\"2020-09-13\"], {\"frame\": {\"duration\": 0, \"redraw\": true}, \"fromcurrent\": true, \"mode\": \"immediate\", \"transition\": {\"duration\": 0, \"easing\": \"linear\"}}], \"label\": \"2020-09-13\", \"method\": \"animate\"}, {\"args\": [[\"2020-09-20\"], {\"frame\": {\"duration\": 0, \"redraw\": true}, \"fromcurrent\": true, \"mode\": \"immediate\", \"transition\": {\"duration\": 0, \"easing\": \"linear\"}}], \"label\": \"2020-09-20\", \"method\": \"animate\"}, {\"args\": [[\"2020-09-27\"], {\"frame\": {\"duration\": 0, \"redraw\": true}, \"fromcurrent\": true, \"mode\": \"immediate\", \"transition\": {\"duration\": 0, \"easing\": \"linear\"}}], \"label\": \"2020-09-27\", \"method\": \"animate\"}, {\"args\": [[\"2020-10-04\"], {\"frame\": {\"duration\": 0, \"redraw\": true}, \"fromcurrent\": true, \"mode\": \"immediate\", \"transition\": {\"duration\": 0, \"easing\": \"linear\"}}], \"label\": \"2020-10-04\", \"method\": \"animate\"}, {\"args\": [[\"2020-10-11\"], {\"frame\": {\"duration\": 0, \"redraw\": true}, \"fromcurrent\": true, \"mode\": \"immediate\", \"transition\": {\"duration\": 0, \"easing\": \"linear\"}}], \"label\": \"2020-10-11\", \"method\": \"animate\"}, {\"args\": [[\"2020-10-18\"], {\"frame\": {\"duration\": 0, \"redraw\": true}, \"fromcurrent\": true, \"mode\": \"immediate\", \"transition\": {\"duration\": 0, \"easing\": \"linear\"}}], \"label\": \"2020-10-18\", \"method\": \"animate\"}, {\"args\": [[\"2020-10-25\"], {\"frame\": {\"duration\": 0, \"redraw\": true}, \"fromcurrent\": true, \"mode\": \"immediate\", \"transition\": {\"duration\": 0, \"easing\": \"linear\"}}], \"label\": \"2020-10-25\", \"method\": \"animate\"}, {\"args\": [[\"2020-11-01\"], {\"frame\": {\"duration\": 0, \"redraw\": true}, \"fromcurrent\": true, \"mode\": \"immediate\", \"transition\": {\"duration\": 0, \"easing\": \"linear\"}}], \"label\": \"2020-11-01\", \"method\": \"animate\"}], \"x\": 0.1, \"xanchor\": \"left\", \"y\": 0, \"yanchor\": \"top\"}], \"template\": {\"data\": {\"bar\": [{\"error_x\": {\"color\": \"#2a3f5f\"}, \"error_y\": {\"color\": \"#2a3f5f\"}, \"marker\": {\"line\": {\"color\": \"#E5ECF6\", \"width\": 0.5}}, \"type\": \"bar\"}], \"barpolar\": [{\"marker\": {\"line\": {\"color\": \"#E5ECF6\", \"width\": 0.5}}, \"type\": \"barpolar\"}], \"carpet\": [{\"aaxis\": {\"endlinecolor\": \"#2a3f5f\", \"gridcolor\": \"white\", \"linecolor\": \"white\", \"minorgridcolor\": \"white\", \"startlinecolor\": \"#2a3f5f\"}, \"baxis\": {\"endlinecolor\": \"#2a3f5f\", \"gridcolor\": \"white\", \"linecolor\": \"white\", \"minorgridcolor\": \"white\", \"startlinecolor\": \"#2a3f5f\"}, \"type\": \"carpet\"}], \"choropleth\": [{\"colorbar\": {\"outlinewidth\": 0, \"ticks\": \"\"}, \"type\": \"choropleth\"}], \"contour\": [{\"colorbar\": {\"outlinewidth\": 0, \"ticks\": \"\"}, \"colorscale\": [[0.0, \"#0d0887\"], [0.1111111111111111, \"#46039f\"], [0.2222222222222222, \"#7201a8\"], [0.3333333333333333, \"#9c179e\"], [0.4444444444444444, \"#bd3786\"], [0.5555555555555556, \"#d8576b\"], [0.6666666666666666, \"#ed7953\"], [0.7777777777777778, \"#fb9f3a\"], [0.8888888888888888, \"#fdca26\"], [1.0, \"#f0f921\"]], \"type\": \"contour\"}], \"contourcarpet\": [{\"colorbar\": {\"outlinewidth\": 0, \"ticks\": \"\"}, \"type\": \"contourcarpet\"}], \"heatmap\": [{\"colorbar\": {\"outlinewidth\": 0, \"ticks\": \"\"}, \"colorscale\": [[0.0, \"#0d0887\"], [0.1111111111111111, \"#46039f\"], [0.2222222222222222, \"#7201a8\"], [0.3333333333333333, \"#9c179e\"], [0.4444444444444444, \"#bd3786\"], [0.5555555555555556, \"#d8576b\"], [0.6666666666666666, \"#ed7953\"], [0.7777777777777778, \"#fb9f3a\"], [0.8888888888888888, \"#fdca26\"], [1.0, \"#f0f921\"]], \"type\": \"heatmap\"}], \"heatmapgl\": [{\"colorbar\": {\"outlinewidth\": 0, \"ticks\": \"\"}, \"colorscale\": [[0.0, \"#0d0887\"], [0.1111111111111111, \"#46039f\"], [0.2222222222222222, \"#7201a8\"], [0.3333333333333333, \"#9c179e\"], [0.4444444444444444, \"#bd3786\"], [0.5555555555555556, \"#d8576b\"], [0.6666666666666666, \"#ed7953\"], [0.7777777777777778, \"#fb9f3a\"], [0.8888888888888888, \"#fdca26\"], [1.0, \"#f0f921\"]], \"type\": \"heatmapgl\"}], \"histogram\": [{\"marker\": {\"colorbar\": {\"outlinewidth\": 0, \"ticks\": \"\"}}, \"type\": \"histogram\"}], \"histogram2d\": [{\"colorbar\": {\"outlinewidth\": 0, \"ticks\": \"\"}, \"colorscale\": [[0.0, \"#0d0887\"], [0.1111111111111111, \"#46039f\"], [0.2222222222222222, \"#7201a8\"], [0.3333333333333333, \"#9c179e\"], [0.4444444444444444, \"#bd3786\"], [0.5555555555555556, \"#d8576b\"], [0.6666666666666666, \"#ed7953\"], [0.7777777777777778, \"#fb9f3a\"], [0.8888888888888888, \"#fdca26\"], [1.0, \"#f0f921\"]], \"type\": \"histogram2d\"}], \"histogram2dcontour\": [{\"colorbar\": {\"outlinewidth\": 0, \"ticks\": \"\"}, \"colorscale\": [[0.0, \"#0d0887\"], [0.1111111111111111, \"#46039f\"], [0.2222222222222222, \"#7201a8\"], [0.3333333333333333, \"#9c179e\"], [0.4444444444444444, \"#bd3786\"], [0.5555555555555556, \"#d8576b\"], [0.6666666666666666, \"#ed7953\"], [0.7777777777777778, \"#fb9f3a\"], [0.8888888888888888, \"#fdca26\"], [1.0, \"#f0f921\"]], \"type\": \"histogram2dcontour\"}], \"mesh3d\": [{\"colorbar\": {\"outlinewidth\": 0, \"ticks\": \"\"}, \"type\": \"mesh3d\"}], \"parcoords\": [{\"line\": {\"colorbar\": {\"outlinewidth\": 0, \"ticks\": \"\"}}, \"type\": \"parcoords\"}], \"pie\": [{\"automargin\": true, \"type\": \"pie\"}], \"scatter\": [{\"marker\": {\"colorbar\": {\"outlinewidth\": 0, \"ticks\": \"\"}}, \"type\": \"scatter\"}], \"scatter3d\": [{\"line\": {\"colorbar\": {\"outlinewidth\": 0, \"ticks\": \"\"}}, \"marker\": {\"colorbar\": {\"outlinewidth\": 0, \"ticks\": \"\"}}, \"type\": \"scatter3d\"}], \"scattercarpet\": [{\"marker\": {\"colorbar\": {\"outlinewidth\": 0, \"ticks\": \"\"}}, \"type\": \"scattercarpet\"}], \"scattergeo\": [{\"marker\": {\"colorbar\": {\"outlinewidth\": 0, \"ticks\": \"\"}}, \"type\": \"scattergeo\"}], \"scattergl\": [{\"marker\": {\"colorbar\": {\"outlinewidth\": 0, \"ticks\": \"\"}}, \"type\": \"scattergl\"}], \"scattermapbox\": [{\"marker\": {\"colorbar\": {\"outlinewidth\": 0, \"ticks\": \"\"}}, \"type\": \"scattermapbox\"}], \"scatterpolar\": [{\"marker\": {\"colorbar\": {\"outlinewidth\": 0, \"ticks\": \"\"}}, \"type\": \"scatterpolar\"}], \"scatterpolargl\": [{\"marker\": {\"colorbar\": {\"outlinewidth\": 0, \"ticks\": \"\"}}, \"type\": \"scatterpolargl\"}], \"scatterternary\": [{\"marker\": {\"colorbar\": {\"outlinewidth\": 0, \"ticks\": \"\"}}, \"type\": \"scatterternary\"}], \"surface\": [{\"colorbar\": {\"outlinewidth\": 0, \"ticks\": \"\"}, \"colorscale\": [[0.0, \"#0d0887\"], [0.1111111111111111, \"#46039f\"], [0.2222222222222222, \"#7201a8\"], [0.3333333333333333, \"#9c179e\"], [0.4444444444444444, \"#bd3786\"], [0.5555555555555556, \"#d8576b\"], [0.6666666666666666, \"#ed7953\"], [0.7777777777777778, \"#fb9f3a\"], [0.8888888888888888, \"#fdca26\"], [1.0, \"#f0f921\"]], \"type\": \"surface\"}], \"table\": [{\"cells\": {\"fill\": {\"color\": \"#EBF0F8\"}, \"line\": {\"color\": \"white\"}}, \"header\": {\"fill\": {\"color\": \"#C8D4E3\"}, \"line\": {\"color\": \"white\"}}, \"type\": \"table\"}]}, \"layout\": {\"annotationdefaults\": {\"arrowcolor\": \"#2a3f5f\", \"arrowhead\": 0, \"arrowwidth\": 1}, \"coloraxis\": {\"colorbar\": {\"outlinewidth\": 0, \"ticks\": \"\"}}, \"colorscale\": {\"diverging\": [[0, \"#8e0152\"], [0.1, \"#c51b7d\"], [0.2, \"#de77ae\"], [0.3, \"#f1b6da\"], [0.4, \"#fde0ef\"], [0.5, \"#f7f7f7\"], [0.6, \"#e6f5d0\"], [0.7, \"#b8e186\"], [0.8, \"#7fbc41\"], [0.9, \"#4d9221\"], [1, \"#276419\"]], \"sequential\": [[0.0, \"#0d0887\"], [0.1111111111111111, \"#46039f\"], [0.2222222222222222, \"#7201a8\"], [0.3333333333333333, \"#9c179e\"], [0.4444444444444444, \"#bd3786\"], [0.5555555555555556, \"#d8576b\"], [0.6666666666666666, \"#ed7953\"], [0.7777777777777778, \"#fb9f3a\"], [0.8888888888888888, \"#fdca26\"], [1.0, \"#f0f921\"]], \"sequentialminus\": [[0.0, \"#0d0887\"], [0.1111111111111111, \"#46039f\"], [0.2222222222222222, \"#7201a8\"], [0.3333333333333333, \"#9c179e\"], [0.4444444444444444, \"#bd3786\"], [0.5555555555555556, \"#d8576b\"], [0.6666666666666666, \"#ed7953\"], [0.7777777777777778, \"#fb9f3a\"], [0.8888888888888888, \"#fdca26\"], [1.0, \"#f0f921\"]]}, \"colorway\": [\"#636efa\", \"#EF553B\", \"#00cc96\", \"#ab63fa\", \"#FFA15A\", \"#19d3f3\", \"#FF6692\", \"#B6E880\", \"#FF97FF\", \"#FECB52\"], \"font\": {\"color\": \"#2a3f5f\"}, \"geo\": {\"bgcolor\": \"white\", \"lakecolor\": \"white\", \"landcolor\": \"#E5ECF6\", \"showlakes\": true, \"showland\": true, \"subunitcolor\": \"white\"}, \"hoverlabel\": {\"align\": \"left\"}, \"hovermode\": \"closest\", \"mapbox\": {\"style\": \"light\"}, \"paper_bgcolor\": \"white\", \"plot_bgcolor\": \"#E5ECF6\", \"polar\": {\"angularaxis\": {\"gridcolor\": \"white\", \"linecolor\": \"white\", \"ticks\": \"\"}, \"bgcolor\": \"#E5ECF6\", \"radialaxis\": {\"gridcolor\": \"white\", \"linecolor\": \"white\", \"ticks\": \"\"}}, \"scene\": {\"xaxis\": {\"backgroundcolor\": \"#E5ECF6\", \"gridcolor\": \"white\", \"gridwidth\": 2, \"linecolor\": \"white\", \"showbackground\": true, \"ticks\": \"\", \"zerolinecolor\": \"white\"}, \"yaxis\": {\"backgroundcolor\": \"#E5ECF6\", \"gridcolor\": \"white\", \"gridwidth\": 2, \"linecolor\": \"white\", \"showbackground\": true, \"ticks\": \"\", \"zerolinecolor\": \"white\"}, \"zaxis\": {\"backgroundcolor\": \"#E5ECF6\", \"gridcolor\": \"white\", \"gridwidth\": 2, \"linecolor\": \"white\", \"showbackground\": true, \"ticks\": \"\", \"zerolinecolor\": \"white\"}}, \"shapedefaults\": {\"line\": {\"color\": \"#2a3f5f\"}}, \"ternary\": {\"aaxis\": {\"gridcolor\": \"white\", \"linecolor\": \"white\", \"ticks\": \"\"}, \"baxis\": {\"gridcolor\": \"white\", \"linecolor\": \"white\", \"ticks\": \"\"}, \"bgcolor\": \"#E5ECF6\", \"caxis\": {\"gridcolor\": \"white\", \"linecolor\": \"white\", \"ticks\": \"\"}}, \"title\": {\"x\": 0.05}, \"xaxis\": {\"automargin\": true, \"gridcolor\": \"white\", \"linecolor\": \"white\", \"ticks\": \"\", \"title\": {\"standoff\": 15}, \"zerolinecolor\": \"white\", \"zerolinewidth\": 2}, \"yaxis\": {\"automargin\": true, \"gridcolor\": \"white\", \"linecolor\": \"white\", \"ticks\": \"\", \"title\": {\"standoff\": 15}, \"zerolinecolor\": \"white\", \"zerolinewidth\": 2}}}, \"title\": {\"text\": \"Search term evolution for Germany\"}, \"updatemenus\": [{\"buttons\": [{\"args\": [null, {\"frame\": {\"duration\": 500, \"redraw\": true}, \"fromcurrent\": true, \"mode\": \"immediate\", \"transition\": {\"duration\": 500, \"easing\": \"linear\"}}], \"label\": \"&#9654;\", \"method\": \"animate\"}, {\"args\": [[null], {\"frame\": {\"duration\": 0, \"redraw\": true}, \"fromcurrent\": true, \"mode\": \"immediate\", \"transition\": {\"duration\": 0, \"easing\": \"linear\"}}], \"label\": \"&#9724;\", \"method\": \"animate\"}], \"direction\": \"left\", \"pad\": {\"r\": 10, \"t\": 70}, \"showactive\": false, \"type\": \"buttons\", \"x\": 0.1, \"xanchor\": \"right\", \"y\": 0, \"yanchor\": \"top\"}], \"width\": 700},\n",
       "                        {\"responsive\": true}\n",
       "                    ).then(function(){\n",
       "                            Plotly.addFrames('3a622c5f-aa6f-4cb1-bfdb-373858a2186f', [{\"data\": [{\"hovertemplate\": \"country=ger<br>date_str=2019-11-03<br>score_difference=%{r}<br>term=%{theta}<extra></extra>\", \"legendgroup\": \"ger\", \"line\": {\"color\": \"#636efa\", \"dash\": \"solid\", \"shape\": \"spline\"}, \"mode\": \"lines\", \"name\": \"ger\", \"r\": [11.0, 11.0], \"showlegend\": true, \"subplot\": \"polar\", \"theta\": [\"restaurant\", \"restaurant\"], \"type\": \"scatterpolar\"}, {\"hovertemplate\": \"country=nl<br>date_str=2019-11-03<br>score_difference=%{r}<br>term=%{theta}<extra></extra>\", \"legendgroup\": \"nl\", \"line\": {\"color\": \"#EF553B\", \"dash\": \"solid\", \"shape\": \"spline\"}, \"mode\": \"lines\", \"name\": \"nl\", \"r\": [1.0, 1.0], \"showlegend\": true, \"subplot\": \"polar\", \"theta\": [\"restaurant\", \"restaurant\"], \"type\": \"scatterpolar\"}, {\"hovertemplate\": \"country=uk<br>date_str=2019-11-03<br>score_difference=%{r}<br>term=%{theta}<extra></extra>\", \"legendgroup\": \"uk\", \"line\": {\"color\": \"#00cc96\", \"dash\": \"solid\", \"shape\": \"spline\"}, \"mode\": \"lines\", \"name\": \"uk\", \"r\": [0.0, 0.0], \"showlegend\": true, \"subplot\": \"polar\", \"theta\": [\"restaurant\", \"restaurant\"], \"type\": \"scatterpolar\"}], \"name\": \"2019-11-03\"}, {\"data\": [{\"hovertemplate\": \"country=ger<br>date_str=2019-11-10<br>score_difference=%{r}<br>term=%{theta}<extra></extra>\", \"legendgroup\": \"ger\", \"line\": {\"color\": \"#636efa\", \"dash\": \"solid\", \"shape\": \"spline\"}, \"mode\": \"lines\", \"name\": \"ger\", \"r\": [8.0, 8.0], \"showlegend\": true, \"subplot\": \"polar\", \"theta\": [\"restaurant\", \"restaurant\"], \"type\": \"scatterpolar\"}, {\"hovertemplate\": \"country=nl<br>date_str=2019-11-10<br>score_difference=%{r}<br>term=%{theta}<extra></extra>\", \"legendgroup\": \"nl\", \"line\": {\"color\": \"#EF553B\", \"dash\": \"solid\", \"shape\": \"spline\"}, \"mode\": \"lines\", \"name\": \"nl\", \"r\": [2.0, 2.0], \"showlegend\": true, \"subplot\": \"polar\", \"theta\": [\"restaurant\", \"restaurant\"], \"type\": \"scatterpolar\"}, {\"hovertemplate\": \"country=uk<br>date_str=2019-11-10<br>score_difference=%{r}<br>term=%{theta}<extra></extra>\", \"legendgroup\": \"uk\", \"line\": {\"color\": \"#00cc96\", \"dash\": \"solid\", \"shape\": \"spline\"}, \"mode\": \"lines\", \"name\": \"uk\", \"r\": [2.0, 2.0], \"showlegend\": true, \"subplot\": \"polar\", \"theta\": [\"restaurant\", \"restaurant\"], \"type\": \"scatterpolar\"}], \"name\": \"2019-11-10\"}, {\"data\": [{\"hovertemplate\": \"country=ger<br>date_str=2019-11-17<br>score_difference=%{r}<br>term=%{theta}<extra></extra>\", \"legendgroup\": \"ger\", \"line\": {\"color\": \"#636efa\", \"dash\": \"solid\", \"shape\": \"spline\"}, \"mode\": \"lines\", \"name\": \"ger\", \"r\": [9.0, 9.0], \"showlegend\": true, \"subplot\": \"polar\", \"theta\": [\"restaurant\", \"restaurant\"], \"type\": \"scatterpolar\"}, {\"hovertemplate\": \"country=nl<br>date_str=2019-11-17<br>score_difference=%{r}<br>term=%{theta}<extra></extra>\", \"legendgroup\": \"nl\", \"line\": {\"color\": \"#EF553B\", \"dash\": \"solid\", \"shape\": \"spline\"}, \"mode\": \"lines\", \"name\": \"nl\", \"r\": [6.0, 6.0], \"showlegend\": true, \"subplot\": \"polar\", \"theta\": [\"restaurant\", \"restaurant\"], \"type\": \"scatterpolar\"}, {\"hovertemplate\": \"country=uk<br>date_str=2019-11-17<br>score_difference=%{r}<br>term=%{theta}<extra></extra>\", \"legendgroup\": \"uk\", \"line\": {\"color\": \"#00cc96\", \"dash\": \"solid\", \"shape\": \"spline\"}, \"mode\": \"lines\", \"name\": \"uk\", \"r\": [3.0, 3.0], \"showlegend\": true, \"subplot\": \"polar\", \"theta\": [\"restaurant\", \"restaurant\"], \"type\": \"scatterpolar\"}], \"name\": \"2019-11-17\"}, {\"data\": [{\"hovertemplate\": \"country=ger<br>date_str=2019-11-24<br>score_difference=%{r}<br>term=%{theta}<extra></extra>\", \"legendgroup\": \"ger\", \"line\": {\"color\": \"#636efa\", \"dash\": \"solid\", \"shape\": \"spline\"}, \"mode\": \"lines\", \"name\": \"ger\", \"r\": [5.0, 5.0], \"showlegend\": true, \"subplot\": \"polar\", \"theta\": [\"restaurant\", \"restaurant\"], \"type\": \"scatterpolar\"}, {\"hovertemplate\": \"country=nl<br>date_str=2019-11-24<br>score_difference=%{r}<br>term=%{theta}<extra></extra>\", \"legendgroup\": \"nl\", \"line\": {\"color\": \"#EF553B\", \"dash\": \"solid\", \"shape\": \"spline\"}, \"mode\": \"lines\", \"name\": \"nl\", \"r\": [1.0, 1.0], \"showlegend\": true, \"subplot\": \"polar\", \"theta\": [\"restaurant\", \"restaurant\"], \"type\": \"scatterpolar\"}, {\"hovertemplate\": \"country=uk<br>date_str=2019-11-24<br>score_difference=%{r}<br>term=%{theta}<extra></extra>\", \"legendgroup\": \"uk\", \"line\": {\"color\": \"#00cc96\", \"dash\": \"solid\", \"shape\": \"spline\"}, \"mode\": \"lines\", \"name\": \"uk\", \"r\": [2.0, 2.0], \"showlegend\": true, \"subplot\": \"polar\", \"theta\": [\"restaurant\", \"restaurant\"], \"type\": \"scatterpolar\"}], \"name\": \"2019-11-24\"}, {\"data\": [{\"hovertemplate\": \"country=ger<br>date_str=2019-12-01<br>score_difference=%{r}<br>term=%{theta}<extra></extra>\", \"legendgroup\": \"ger\", \"line\": {\"color\": \"#636efa\", \"dash\": \"solid\", \"shape\": \"spline\"}, \"mode\": \"lines\", \"name\": \"ger\", \"r\": [3.0, 3.0], \"showlegend\": true, \"subplot\": \"polar\", \"theta\": [\"restaurant\", \"restaurant\"], \"type\": \"scatterpolar\"}, {\"hovertemplate\": \"country=nl<br>date_str=2019-12-01<br>score_difference=%{r}<br>term=%{theta}<extra></extra>\", \"legendgroup\": \"nl\", \"line\": {\"color\": \"#EF553B\", \"dash\": \"solid\", \"shape\": \"spline\"}, \"mode\": \"lines\", \"name\": \"nl\", \"r\": [2.0, 2.0], \"showlegend\": true, \"subplot\": \"polar\", \"theta\": [\"restaurant\", \"restaurant\"], \"type\": \"scatterpolar\"}, {\"hovertemplate\": \"country=uk<br>date_str=2019-12-01<br>score_difference=%{r}<br>term=%{theta}<extra></extra>\", \"legendgroup\": \"uk\", \"line\": {\"color\": \"#00cc96\", \"dash\": \"solid\", \"shape\": \"spline\"}, \"mode\": \"lines\", \"name\": \"uk\", \"r\": [3.0, 3.0], \"showlegend\": true, \"subplot\": \"polar\", \"theta\": [\"restaurant\", \"restaurant\"], \"type\": \"scatterpolar\"}], \"name\": \"2019-12-01\"}, {\"data\": [{\"hovertemplate\": \"country=ger<br>date_str=2019-12-08<br>score_difference=%{r}<br>term=%{theta}<extra></extra>\", \"legendgroup\": \"ger\", \"line\": {\"color\": \"#636efa\", \"dash\": \"solid\", \"shape\": \"spline\"}, \"mode\": \"lines\", \"name\": \"ger\", \"r\": [3.0, 3.0], \"showlegend\": true, \"subplot\": \"polar\", \"theta\": [\"restaurant\", \"restaurant\"], \"type\": \"scatterpolar\"}, {\"hovertemplate\": \"country=nl<br>date_str=2019-12-08<br>score_difference=%{r}<br>term=%{theta}<extra></extra>\", \"legendgroup\": \"nl\", \"line\": {\"color\": \"#EF553B\", \"dash\": \"solid\", \"shape\": \"spline\"}, \"mode\": \"lines\", \"name\": \"nl\", \"r\": [1.0, 1.0], \"showlegend\": true, \"subplot\": \"polar\", \"theta\": [\"restaurant\", \"restaurant\"], \"type\": \"scatterpolar\"}, {\"hovertemplate\": \"country=uk<br>date_str=2019-12-08<br>score_difference=%{r}<br>term=%{theta}<extra></extra>\", \"legendgroup\": \"uk\", \"line\": {\"color\": \"#00cc96\", \"dash\": \"solid\", \"shape\": \"spline\"}, \"mode\": \"lines\", \"name\": \"uk\", \"r\": [7.0, 7.0], \"showlegend\": true, \"subplot\": \"polar\", \"theta\": [\"restaurant\", \"restaurant\"], \"type\": \"scatterpolar\"}], \"name\": \"2019-12-08\"}, {\"data\": [{\"hovertemplate\": \"country=ger<br>date_str=2019-12-15<br>score_difference=%{r}<br>term=%{theta}<extra></extra>\", \"legendgroup\": \"ger\", \"line\": {\"color\": \"#636efa\", \"dash\": \"solid\", \"shape\": \"spline\"}, \"mode\": \"lines\", \"name\": \"ger\", \"r\": [6.0, 6.0], \"showlegend\": true, \"subplot\": \"polar\", \"theta\": [\"restaurant\", \"restaurant\"], \"type\": \"scatterpolar\"}, {\"hovertemplate\": \"country=nl<br>date_str=2019-12-15<br>score_difference=%{r}<br>term=%{theta}<extra></extra>\", \"legendgroup\": \"nl\", \"line\": {\"color\": \"#EF553B\", \"dash\": \"solid\", \"shape\": \"spline\"}, \"mode\": \"lines\", \"name\": \"nl\", \"r\": [4.0, 4.0], \"showlegend\": true, \"subplot\": \"polar\", \"theta\": [\"restaurant\", \"restaurant\"], \"type\": \"scatterpolar\"}, {\"hovertemplate\": \"country=uk<br>date_str=2019-12-15<br>score_difference=%{r}<br>term=%{theta}<extra></extra>\", \"legendgroup\": \"uk\", \"line\": {\"color\": \"#00cc96\", \"dash\": \"solid\", \"shape\": \"spline\"}, \"mode\": \"lines\", \"name\": \"uk\", \"r\": [6.0, 6.0], \"showlegend\": true, \"subplot\": \"polar\", \"theta\": [\"restaurant\", \"restaurant\"], \"type\": \"scatterpolar\"}], \"name\": \"2019-12-15\"}, {\"data\": [{\"hovertemplate\": \"country=ger<br>date_str=2019-12-22<br>score_difference=%{r}<br>term=%{theta}<extra></extra>\", \"legendgroup\": \"ger\", \"line\": {\"color\": \"#636efa\", \"dash\": \"solid\", \"shape\": \"spline\"}, \"mode\": \"lines\", \"name\": \"ger\", \"r\": [7.0, 7.0], \"showlegend\": true, \"subplot\": \"polar\", \"theta\": [\"restaurant\", \"restaurant\"], \"type\": \"scatterpolar\"}, {\"hovertemplate\": \"country=nl<br>date_str=2019-12-22<br>score_difference=%{r}<br>term=%{theta}<extra></extra>\", \"legendgroup\": \"nl\", \"line\": {\"color\": \"#EF553B\", \"dash\": \"solid\", \"shape\": \"spline\"}, \"mode\": \"lines\", \"name\": \"nl\", \"r\": [3.0, 3.0], \"showlegend\": true, \"subplot\": \"polar\", \"theta\": [\"restaurant\", \"restaurant\"], \"type\": \"scatterpolar\"}, {\"hovertemplate\": \"country=uk<br>date_str=2019-12-22<br>score_difference=%{r}<br>term=%{theta}<extra></extra>\", \"legendgroup\": \"uk\", \"line\": {\"color\": \"#00cc96\", \"dash\": \"solid\", \"shape\": \"spline\"}, \"mode\": \"lines\", \"name\": \"uk\", \"r\": [3.0, 3.0], \"showlegend\": true, \"subplot\": \"polar\", \"theta\": [\"restaurant\", \"restaurant\"], \"type\": \"scatterpolar\"}], \"name\": \"2019-12-22\"}, {\"data\": [{\"hovertemplate\": \"country=ger<br>date_str=2019-12-29<br>score_difference=%{r}<br>term=%{theta}<extra></extra>\", \"legendgroup\": \"ger\", \"line\": {\"color\": \"#636efa\", \"dash\": \"solid\", \"shape\": \"spline\"}, \"mode\": \"lines\", \"name\": \"ger\", \"r\": [15.0, 15.0], \"showlegend\": true, \"subplot\": \"polar\", \"theta\": [\"restaurant\", \"restaurant\"], \"type\": \"scatterpolar\"}, {\"hovertemplate\": \"country=nl<br>date_str=2019-12-29<br>score_difference=%{r}<br>term=%{theta}<extra></extra>\", \"legendgroup\": \"nl\", \"line\": {\"color\": \"#EF553B\", \"dash\": \"solid\", \"shape\": \"spline\"}, \"mode\": \"lines\", \"name\": \"nl\", \"r\": [0.0, 0.0], \"showlegend\": true, \"subplot\": \"polar\", \"theta\": [\"restaurant\", \"restaurant\"], \"type\": \"scatterpolar\"}, {\"hovertemplate\": \"country=uk<br>date_str=2019-12-29<br>score_difference=%{r}<br>term=%{theta}<extra></extra>\", \"legendgroup\": \"uk\", \"line\": {\"color\": \"#00cc96\", \"dash\": \"solid\", \"shape\": \"spline\"}, \"mode\": \"lines\", \"name\": \"uk\", \"r\": [6.0, 6.0], \"showlegend\": true, \"subplot\": \"polar\", \"theta\": [\"restaurant\", \"restaurant\"], \"type\": \"scatterpolar\"}], \"name\": \"2019-12-29\"}, {\"data\": [{\"hovertemplate\": \"country=ger<br>date_str=2020-01-05<br>score_difference=%{r}<br>term=%{theta}<extra></extra>\", \"legendgroup\": \"ger\", \"line\": {\"color\": \"#636efa\", \"dash\": \"solid\", \"shape\": \"spline\"}, \"mode\": \"lines\", \"name\": \"ger\", \"r\": [10.0, 10.0], \"showlegend\": true, \"subplot\": \"polar\", \"theta\": [\"restaurant\", \"restaurant\"], \"type\": \"scatterpolar\"}, {\"hovertemplate\": \"country=nl<br>date_str=2020-01-05<br>score_difference=%{r}<br>term=%{theta}<extra></extra>\", \"legendgroup\": \"nl\", \"line\": {\"color\": \"#EF553B\", \"dash\": \"solid\", \"shape\": \"spline\"}, \"mode\": \"lines\", \"name\": \"nl\", \"r\": [1.0, 1.0], \"showlegend\": true, \"subplot\": \"polar\", \"theta\": [\"restaurant\", \"restaurant\"], \"type\": \"scatterpolar\"}, {\"hovertemplate\": \"country=uk<br>date_str=2020-01-05<br>score_difference=%{r}<br>term=%{theta}<extra></extra>\", \"legendgroup\": \"uk\", \"line\": {\"color\": \"#00cc96\", \"dash\": \"solid\", \"shape\": \"spline\"}, \"mode\": \"lines\", \"name\": \"uk\", \"r\": [0.0, 0.0], \"showlegend\": true, \"subplot\": \"polar\", \"theta\": [\"restaurant\", \"restaurant\"], \"type\": \"scatterpolar\"}], \"name\": \"2020-01-05\"}, {\"data\": [{\"hovertemplate\": \"country=ger<br>date_str=2020-01-12<br>score_difference=%{r}<br>term=%{theta}<extra></extra>\", \"legendgroup\": \"ger\", \"line\": {\"color\": \"#636efa\", \"dash\": \"solid\", \"shape\": \"spline\"}, \"mode\": \"lines\", \"name\": \"ger\", \"r\": [9.0, 9.0], \"showlegend\": true, \"subplot\": \"polar\", \"theta\": [\"restaurant\", \"restaurant\"], \"type\": \"scatterpolar\"}, {\"hovertemplate\": \"country=nl<br>date_str=2020-01-12<br>score_difference=%{r}<br>term=%{theta}<extra></extra>\", \"legendgroup\": \"nl\", \"line\": {\"color\": \"#EF553B\", \"dash\": \"solid\", \"shape\": \"spline\"}, \"mode\": \"lines\", \"name\": \"nl\", \"r\": [10.0, 10.0], \"showlegend\": true, \"subplot\": \"polar\", \"theta\": [\"restaurant\", \"restaurant\"], \"type\": \"scatterpolar\"}, {\"hovertemplate\": \"country=uk<br>date_str=2020-01-12<br>score_difference=%{r}<br>term=%{theta}<extra></extra>\", \"legendgroup\": \"uk\", \"line\": {\"color\": \"#00cc96\", \"dash\": \"solid\", \"shape\": \"spline\"}, \"mode\": \"lines\", \"name\": \"uk\", \"r\": [3.0, 3.0], \"showlegend\": true, \"subplot\": \"polar\", \"theta\": [\"restaurant\", \"restaurant\"], \"type\": \"scatterpolar\"}], \"name\": \"2020-01-12\"}, {\"data\": [{\"hovertemplate\": \"country=ger<br>date_str=2020-01-19<br>score_difference=%{r}<br>term=%{theta}<extra></extra>\", \"legendgroup\": \"ger\", \"line\": {\"color\": \"#636efa\", \"dash\": \"solid\", \"shape\": \"spline\"}, \"mode\": \"lines\", \"name\": \"ger\", \"r\": [11.0, 11.0], \"showlegend\": true, \"subplot\": \"polar\", \"theta\": [\"restaurant\", \"restaurant\"], \"type\": \"scatterpolar\"}, {\"hovertemplate\": \"country=nl<br>date_str=2020-01-19<br>score_difference=%{r}<br>term=%{theta}<extra></extra>\", \"legendgroup\": \"nl\", \"line\": {\"color\": \"#EF553B\", \"dash\": \"solid\", \"shape\": \"spline\"}, \"mode\": \"lines\", \"name\": \"nl\", \"r\": [7.0, 7.0], \"showlegend\": true, \"subplot\": \"polar\", \"theta\": [\"restaurant\", \"restaurant\"], \"type\": \"scatterpolar\"}, {\"hovertemplate\": \"country=uk<br>date_str=2020-01-19<br>score_difference=%{r}<br>term=%{theta}<extra></extra>\", \"legendgroup\": \"uk\", \"line\": {\"color\": \"#00cc96\", \"dash\": \"solid\", \"shape\": \"spline\"}, \"mode\": \"lines\", \"name\": \"uk\", \"r\": [2.0, 2.0], \"showlegend\": true, \"subplot\": \"polar\", \"theta\": [\"restaurant\", \"restaurant\"], \"type\": \"scatterpolar\"}], \"name\": \"2020-01-19\"}, {\"data\": [{\"hovertemplate\": \"country=ger<br>date_str=2020-01-26<br>score_difference=%{r}<br>term=%{theta}<extra></extra>\", \"legendgroup\": \"ger\", \"line\": {\"color\": \"#636efa\", \"dash\": \"solid\", \"shape\": \"spline\"}, \"mode\": \"lines\", \"name\": \"ger\", \"r\": [9.0, 9.0], \"showlegend\": true, \"subplot\": \"polar\", \"theta\": [\"restaurant\", \"restaurant\"], \"type\": \"scatterpolar\"}, {\"hovertemplate\": \"country=nl<br>date_str=2020-01-26<br>score_difference=%{r}<br>term=%{theta}<extra></extra>\", \"legendgroup\": \"nl\", \"line\": {\"color\": \"#EF553B\", \"dash\": \"solid\", \"shape\": \"spline\"}, \"mode\": \"lines\", \"name\": \"nl\", \"r\": [4.0, 4.0], \"showlegend\": true, \"subplot\": \"polar\", \"theta\": [\"restaurant\", \"restaurant\"], \"type\": \"scatterpolar\"}, {\"hovertemplate\": \"country=uk<br>date_str=2020-01-26<br>score_difference=%{r}<br>term=%{theta}<extra></extra>\", \"legendgroup\": \"uk\", \"line\": {\"color\": \"#00cc96\", \"dash\": \"solid\", \"shape\": \"spline\"}, \"mode\": \"lines\", \"name\": \"uk\", \"r\": [5.0, 5.0], \"showlegend\": true, \"subplot\": \"polar\", \"theta\": [\"restaurant\", \"restaurant\"], \"type\": \"scatterpolar\"}], \"name\": \"2020-01-26\"}, {\"data\": [{\"hovertemplate\": \"country=ger<br>date_str=2020-02-02<br>score_difference=%{r}<br>term=%{theta}<extra></extra>\", \"legendgroup\": \"ger\", \"line\": {\"color\": \"#636efa\", \"dash\": \"solid\", \"shape\": \"spline\"}, \"mode\": \"lines\", \"name\": \"ger\", \"r\": [2.0, 2.0], \"showlegend\": true, \"subplot\": \"polar\", \"theta\": [\"restaurant\", \"restaurant\"], \"type\": \"scatterpolar\"}, {\"hovertemplate\": \"country=nl<br>date_str=2020-02-02<br>score_difference=%{r}<br>term=%{theta}<extra></extra>\", \"legendgroup\": \"nl\", \"line\": {\"color\": \"#EF553B\", \"dash\": \"solid\", \"shape\": \"spline\"}, \"mode\": \"lines\", \"name\": \"nl\", \"r\": [1.0, 1.0], \"showlegend\": true, \"subplot\": \"polar\", \"theta\": [\"restaurant\", \"restaurant\"], \"type\": \"scatterpolar\"}, {\"hovertemplate\": \"country=uk<br>date_str=2020-02-02<br>score_difference=%{r}<br>term=%{theta}<extra></extra>\", \"legendgroup\": \"uk\", \"line\": {\"color\": \"#00cc96\", \"dash\": \"solid\", \"shape\": \"spline\"}, \"mode\": \"lines\", \"name\": \"uk\", \"r\": [2.0, 2.0], \"showlegend\": true, \"subplot\": \"polar\", \"theta\": [\"restaurant\", \"restaurant\"], \"type\": \"scatterpolar\"}], \"name\": \"2020-02-02\"}, {\"data\": [{\"hovertemplate\": \"country=ger<br>date_str=2020-02-09<br>score_difference=%{r}<br>term=%{theta}<extra></extra>\", \"legendgroup\": \"ger\", \"line\": {\"color\": \"#636efa\", \"dash\": \"solid\", \"shape\": \"spline\"}, \"mode\": \"lines\", \"name\": \"ger\", \"r\": [3.0, 3.0], \"showlegend\": true, \"subplot\": \"polar\", \"theta\": [\"restaurant\", \"restaurant\"], \"type\": \"scatterpolar\"}, {\"hovertemplate\": \"country=nl<br>date_str=2020-02-09<br>score_difference=%{r}<br>term=%{theta}<extra></extra>\", \"legendgroup\": \"nl\", \"line\": {\"color\": \"#EF553B\", \"dash\": \"solid\", \"shape\": \"spline\"}, \"mode\": \"lines\", \"name\": \"nl\", \"r\": [3.0, 3.0], \"showlegend\": true, \"subplot\": \"polar\", \"theta\": [\"restaurant\", \"restaurant\"], \"type\": \"scatterpolar\"}, {\"hovertemplate\": \"country=uk<br>date_str=2020-02-09<br>score_difference=%{r}<br>term=%{theta}<extra></extra>\", \"legendgroup\": \"uk\", \"line\": {\"color\": \"#00cc96\", \"dash\": \"solid\", \"shape\": \"spline\"}, \"mode\": \"lines\", \"name\": \"uk\", \"r\": [1.0, 1.0], \"showlegend\": true, \"subplot\": \"polar\", \"theta\": [\"restaurant\", \"restaurant\"], \"type\": \"scatterpolar\"}], \"name\": \"2020-02-09\"}, {\"data\": [{\"hovertemplate\": \"country=ger<br>date_str=2020-02-16<br>score_difference=%{r}<br>term=%{theta}<extra></extra>\", \"legendgroup\": \"ger\", \"line\": {\"color\": \"#636efa\", \"dash\": \"solid\", \"shape\": \"spline\"}, \"mode\": \"lines\", \"name\": \"ger\", \"r\": [5.0, 5.0], \"showlegend\": true, \"subplot\": \"polar\", \"theta\": [\"restaurant\", \"restaurant\"], \"type\": \"scatterpolar\"}, {\"hovertemplate\": \"country=nl<br>date_str=2020-02-16<br>score_difference=%{r}<br>term=%{theta}<extra></extra>\", \"legendgroup\": \"nl\", \"line\": {\"color\": \"#EF553B\", \"dash\": \"solid\", \"shape\": \"spline\"}, \"mode\": \"lines\", \"name\": \"nl\", \"r\": [1.0, 1.0], \"showlegend\": true, \"subplot\": \"polar\", \"theta\": [\"restaurant\", \"restaurant\"], \"type\": \"scatterpolar\"}, {\"hovertemplate\": \"country=uk<br>date_str=2020-02-16<br>score_difference=%{r}<br>term=%{theta}<extra></extra>\", \"legendgroup\": \"uk\", \"line\": {\"color\": \"#00cc96\", \"dash\": \"solid\", \"shape\": \"spline\"}, \"mode\": \"lines\", \"name\": \"uk\", \"r\": [0.0, 0.0], \"showlegend\": true, \"subplot\": \"polar\", \"theta\": [\"restaurant\", \"restaurant\"], \"type\": \"scatterpolar\"}], \"name\": \"2020-02-16\"}, {\"data\": [{\"hovertemplate\": \"country=ger<br>date_str=2020-02-23<br>score_difference=%{r}<br>term=%{theta}<extra></extra>\", \"legendgroup\": \"ger\", \"line\": {\"color\": \"#636efa\", \"dash\": \"solid\", \"shape\": \"spline\"}, \"mode\": \"lines\", \"name\": \"ger\", \"r\": [2.0, 2.0], \"showlegend\": true, \"subplot\": \"polar\", \"theta\": [\"restaurant\", \"restaurant\"], \"type\": \"scatterpolar\"}, {\"hovertemplate\": \"country=nl<br>date_str=2020-02-23<br>score_difference=%{r}<br>term=%{theta}<extra></extra>\", \"legendgroup\": \"nl\", \"line\": {\"color\": \"#EF553B\", \"dash\": \"solid\", \"shape\": \"spline\"}, \"mode\": \"lines\", \"name\": \"nl\", \"r\": [8.0, 8.0], \"showlegend\": true, \"subplot\": \"polar\", \"theta\": [\"restaurant\", \"restaurant\"], \"type\": \"scatterpolar\"}, {\"hovertemplate\": \"country=uk<br>date_str=2020-02-23<br>score_difference=%{r}<br>term=%{theta}<extra></extra>\", \"legendgroup\": \"uk\", \"line\": {\"color\": \"#00cc96\", \"dash\": \"solid\", \"shape\": \"spline\"}, \"mode\": \"lines\", \"name\": \"uk\", \"r\": [1.0, 1.0], \"showlegend\": true, \"subplot\": \"polar\", \"theta\": [\"restaurant\", \"restaurant\"], \"type\": \"scatterpolar\"}], \"name\": \"2020-02-23\"}, {\"data\": [{\"hovertemplate\": \"country=ger<br>date_str=2020-03-01<br>score_difference=%{r}<br>term=%{theta}<extra></extra>\", \"legendgroup\": \"ger\", \"line\": {\"color\": \"#636efa\", \"dash\": \"solid\", \"shape\": \"spline\"}, \"mode\": \"lines\", \"name\": \"ger\", \"r\": [7.0, 7.0], \"showlegend\": true, \"subplot\": \"polar\", \"theta\": [\"restaurant\", \"restaurant\"], \"type\": \"scatterpolar\"}, {\"hovertemplate\": \"country=nl<br>date_str=2020-03-01<br>score_difference=%{r}<br>term=%{theta}<extra></extra>\", \"legendgroup\": \"nl\", \"line\": {\"color\": \"#EF553B\", \"dash\": \"solid\", \"shape\": \"spline\"}, \"mode\": \"lines\", \"name\": \"nl\", \"r\": [3.0, 3.0], \"showlegend\": true, \"subplot\": \"polar\", \"theta\": [\"restaurant\", \"restaurant\"], \"type\": \"scatterpolar\"}, {\"hovertemplate\": \"country=uk<br>date_str=2020-03-01<br>score_difference=%{r}<br>term=%{theta}<extra></extra>\", \"legendgroup\": \"uk\", \"line\": {\"color\": \"#00cc96\", \"dash\": \"solid\", \"shape\": \"spline\"}, \"mode\": \"lines\", \"name\": \"uk\", \"r\": [3.0, 3.0], \"showlegend\": true, \"subplot\": \"polar\", \"theta\": [\"restaurant\", \"restaurant\"], \"type\": \"scatterpolar\"}], \"name\": \"2020-03-01\"}, {\"data\": [{\"hovertemplate\": \"country=ger<br>date_str=2020-03-08<br>score_difference=%{r}<br>term=%{theta}<extra></extra>\", \"legendgroup\": \"ger\", \"line\": {\"color\": \"#636efa\", \"dash\": \"solid\", \"shape\": \"spline\"}, \"mode\": \"lines\", \"name\": \"ger\", \"r\": [19.0, 19.0], \"showlegend\": true, \"subplot\": \"polar\", \"theta\": [\"restaurant\", \"restaurant\"], \"type\": \"scatterpolar\"}, {\"hovertemplate\": \"country=nl<br>date_str=2020-03-08<br>score_difference=%{r}<br>term=%{theta}<extra></extra>\", \"legendgroup\": \"nl\", \"line\": {\"color\": \"#EF553B\", \"dash\": \"solid\", \"shape\": \"spline\"}, \"mode\": \"lines\", \"name\": \"nl\", \"r\": [13.0, 13.0], \"showlegend\": true, \"subplot\": \"polar\", \"theta\": [\"restaurant\", \"restaurant\"], \"type\": \"scatterpolar\"}, {\"hovertemplate\": \"country=uk<br>date_str=2020-03-08<br>score_difference=%{r}<br>term=%{theta}<extra></extra>\", \"legendgroup\": \"uk\", \"line\": {\"color\": \"#00cc96\", \"dash\": \"solid\", \"shape\": \"spline\"}, \"mode\": \"lines\", \"name\": \"uk\", \"r\": [17.0, 17.0], \"showlegend\": true, \"subplot\": \"polar\", \"theta\": [\"restaurant\", \"restaurant\"], \"type\": \"scatterpolar\"}], \"name\": \"2020-03-08\"}, {\"data\": [{\"hovertemplate\": \"country=ger<br>date_str=2020-03-15<br>score_difference=%{r}<br>term=%{theta}<extra></extra>\", \"legendgroup\": \"ger\", \"line\": {\"color\": \"#636efa\", \"dash\": \"solid\", \"shape\": \"spline\"}, \"mode\": \"lines\", \"name\": \"ger\", \"r\": [37.0, 37.0], \"showlegend\": true, \"subplot\": \"polar\", \"theta\": [\"restaurant\", \"restaurant\"], \"type\": \"scatterpolar\"}, {\"hovertemplate\": \"country=nl<br>date_str=2020-03-15<br>score_difference=%{r}<br>term=%{theta}<extra></extra>\", \"legendgroup\": \"nl\", \"line\": {\"color\": \"#EF553B\", \"dash\": \"solid\", \"shape\": \"spline\"}, \"mode\": \"lines\", \"name\": \"nl\", \"r\": [36.0, 36.0], \"showlegend\": true, \"subplot\": \"polar\", \"theta\": [\"restaurant\", \"restaurant\"], \"type\": \"scatterpolar\"}, {\"hovertemplate\": \"country=uk<br>date_str=2020-03-15<br>score_difference=%{r}<br>term=%{theta}<extra></extra>\", \"legendgroup\": \"uk\", \"line\": {\"color\": \"#00cc96\", \"dash\": \"solid\", \"shape\": \"spline\"}, \"mode\": \"lines\", \"name\": \"uk\", \"r\": [35.0, 35.0], \"showlegend\": true, \"subplot\": \"polar\", \"theta\": [\"restaurant\", \"restaurant\"], \"type\": \"scatterpolar\"}], \"name\": \"2020-03-15\"}, {\"data\": [{\"hovertemplate\": \"country=ger<br>date_str=2020-03-22<br>score_difference=%{r}<br>term=%{theta}<extra></extra>\", \"legendgroup\": \"ger\", \"line\": {\"color\": \"#636efa\", \"dash\": \"solid\", \"shape\": \"spline\"}, \"mode\": \"lines\", \"name\": \"ger\", \"r\": [51.0, 51.0], \"showlegend\": true, \"subplot\": \"polar\", \"theta\": [\"restaurant\", \"restaurant\"], \"type\": \"scatterpolar\"}, {\"hovertemplate\": \"country=nl<br>date_str=2020-03-22<br>score_difference=%{r}<br>term=%{theta}<extra></extra>\", \"legendgroup\": \"nl\", \"line\": {\"color\": \"#EF553B\", \"dash\": \"solid\", \"shape\": \"spline\"}, \"mode\": \"lines\", \"name\": \"nl\", \"r\": [43.0, 43.0], \"showlegend\": true, \"subplot\": \"polar\", \"theta\": [\"restaurant\", \"restaurant\"], \"type\": \"scatterpolar\"}, {\"hovertemplate\": \"country=uk<br>date_str=2020-03-22<br>score_difference=%{r}<br>term=%{theta}<extra></extra>\", \"legendgroup\": \"uk\", \"line\": {\"color\": \"#00cc96\", \"dash\": \"solid\", \"shape\": \"spline\"}, \"mode\": \"lines\", \"name\": \"uk\", \"r\": [47.0, 47.0], \"showlegend\": true, \"subplot\": \"polar\", \"theta\": [\"restaurant\", \"restaurant\"], \"type\": \"scatterpolar\"}], \"name\": \"2020-03-22\"}, {\"data\": [{\"hovertemplate\": \"country=ger<br>date_str=2020-03-29<br>score_difference=%{r}<br>term=%{theta}<extra></extra>\", \"legendgroup\": \"ger\", \"line\": {\"color\": \"#636efa\", \"dash\": \"solid\", \"shape\": \"spline\"}, \"mode\": \"lines\", \"name\": \"ger\", \"r\": [45.0, 45.0], \"showlegend\": true, \"subplot\": \"polar\", \"theta\": [\"restaurant\", \"restaurant\"], \"type\": \"scatterpolar\"}, {\"hovertemplate\": \"country=nl<br>date_str=2020-03-29<br>score_difference=%{r}<br>term=%{theta}<extra></extra>\", \"legendgroup\": \"nl\", \"line\": {\"color\": \"#EF553B\", \"dash\": \"solid\", \"shape\": \"spline\"}, \"mode\": \"lines\", \"name\": \"nl\", \"r\": [40.0, 40.0], \"showlegend\": true, \"subplot\": \"polar\", \"theta\": [\"restaurant\", \"restaurant\"], \"type\": \"scatterpolar\"}, {\"hovertemplate\": \"country=uk<br>date_str=2020-03-29<br>score_difference=%{r}<br>term=%{theta}<extra></extra>\", \"legendgroup\": \"uk\", \"line\": {\"color\": \"#00cc96\", \"dash\": \"solid\", \"shape\": \"spline\"}, \"mode\": \"lines\", \"name\": \"uk\", \"r\": [43.0, 43.0], \"showlegend\": true, \"subplot\": \"polar\", \"theta\": [\"restaurant\", \"restaurant\"], \"type\": \"scatterpolar\"}], \"name\": \"2020-03-29\"}, {\"data\": [{\"hovertemplate\": \"country=ger<br>date_str=2020-04-05<br>score_difference=%{r}<br>term=%{theta}<extra></extra>\", \"legendgroup\": \"ger\", \"line\": {\"color\": \"#636efa\", \"dash\": \"solid\", \"shape\": \"spline\"}, \"mode\": \"lines\", \"name\": \"ger\", \"r\": [46.0, 46.0], \"showlegend\": true, \"subplot\": \"polar\", \"theta\": [\"restaurant\", \"restaurant\"], \"type\": \"scatterpolar\"}, {\"hovertemplate\": \"country=nl<br>date_str=2020-04-05<br>score_difference=%{r}<br>term=%{theta}<extra></extra>\", \"legendgroup\": \"nl\", \"line\": {\"color\": \"#EF553B\", \"dash\": \"solid\", \"shape\": \"spline\"}, \"mode\": \"lines\", \"name\": \"nl\", \"r\": [45.0, 45.0], \"showlegend\": true, \"subplot\": \"polar\", \"theta\": [\"restaurant\", \"restaurant\"], \"type\": \"scatterpolar\"}, {\"hovertemplate\": \"country=uk<br>date_str=2020-04-05<br>score_difference=%{r}<br>term=%{theta}<extra></extra>\", \"legendgroup\": \"uk\", \"line\": {\"color\": \"#00cc96\", \"dash\": \"solid\", \"shape\": \"spline\"}, \"mode\": \"lines\", \"name\": \"uk\", \"r\": [44.0, 44.0], \"showlegend\": true, \"subplot\": \"polar\", \"theta\": [\"restaurant\", \"restaurant\"], \"type\": \"scatterpolar\"}], \"name\": \"2020-04-05\"}, {\"data\": [{\"hovertemplate\": \"country=ger<br>date_str=2020-04-12<br>score_difference=%{r}<br>term=%{theta}<extra></extra>\", \"legendgroup\": \"ger\", \"line\": {\"color\": \"#636efa\", \"dash\": \"solid\", \"shape\": \"spline\"}, \"mode\": \"lines\", \"name\": \"ger\", \"r\": [57.0, 57.0], \"showlegend\": true, \"subplot\": \"polar\", \"theta\": [\"restaurant\", \"restaurant\"], \"type\": \"scatterpolar\"}, {\"hovertemplate\": \"country=nl<br>date_str=2020-04-12<br>score_difference=%{r}<br>term=%{theta}<extra></extra>\", \"legendgroup\": \"nl\", \"line\": {\"color\": \"#EF553B\", \"dash\": \"solid\", \"shape\": \"spline\"}, \"mode\": \"lines\", \"name\": \"nl\", \"r\": [42.0, 42.0], \"showlegend\": true, \"subplot\": \"polar\", \"theta\": [\"restaurant\", \"restaurant\"], \"type\": \"scatterpolar\"}, {\"hovertemplate\": \"country=uk<br>date_str=2020-04-12<br>score_difference=%{r}<br>term=%{theta}<extra></extra>\", \"legendgroup\": \"uk\", \"line\": {\"color\": \"#00cc96\", \"dash\": \"solid\", \"shape\": \"spline\"}, \"mode\": \"lines\", \"name\": \"uk\", \"r\": [42.0, 42.0], \"showlegend\": true, \"subplot\": \"polar\", \"theta\": [\"restaurant\", \"restaurant\"], \"type\": \"scatterpolar\"}], \"name\": \"2020-04-12\"}, {\"data\": [{\"hovertemplate\": \"country=ger<br>date_str=2020-04-19<br>score_difference=%{r}<br>term=%{theta}<extra></extra>\", \"legendgroup\": \"ger\", \"line\": {\"color\": \"#636efa\", \"dash\": \"solid\", \"shape\": \"spline\"}, \"mode\": \"lines\", \"name\": \"ger\", \"r\": [50.0, 50.0], \"showlegend\": true, \"subplot\": \"polar\", \"theta\": [\"restaurant\", \"restaurant\"], \"type\": \"scatterpolar\"}, {\"hovertemplate\": \"country=nl<br>date_str=2020-04-19<br>score_difference=%{r}<br>term=%{theta}<extra></extra>\", \"legendgroup\": \"nl\", \"line\": {\"color\": \"#EF553B\", \"dash\": \"solid\", \"shape\": \"spline\"}, \"mode\": \"lines\", \"name\": \"nl\", \"r\": [44.0, 44.0], \"showlegend\": true, \"subplot\": \"polar\", \"theta\": [\"restaurant\", \"restaurant\"], \"type\": \"scatterpolar\"}, {\"hovertemplate\": \"country=uk<br>date_str=2020-04-19<br>score_difference=%{r}<br>term=%{theta}<extra></extra>\", \"legendgroup\": \"uk\", \"line\": {\"color\": \"#00cc96\", \"dash\": \"solid\", \"shape\": \"spline\"}, \"mode\": \"lines\", \"name\": \"uk\", \"r\": [38.0, 38.0], \"showlegend\": true, \"subplot\": \"polar\", \"theta\": [\"restaurant\", \"restaurant\"], \"type\": \"scatterpolar\"}], \"name\": \"2020-04-19\"}, {\"data\": [{\"hovertemplate\": \"country=ger<br>date_str=2020-04-26<br>score_difference=%{r}<br>term=%{theta}<extra></extra>\", \"legendgroup\": \"ger\", \"line\": {\"color\": \"#636efa\", \"dash\": \"solid\", \"shape\": \"spline\"}, \"mode\": \"lines\", \"name\": \"ger\", \"r\": [45.0, 45.0], \"showlegend\": true, \"subplot\": \"polar\", \"theta\": [\"restaurant\", \"restaurant\"], \"type\": \"scatterpolar\"}, {\"hovertemplate\": \"country=nl<br>date_str=2020-04-26<br>score_difference=%{r}<br>term=%{theta}<extra></extra>\", \"legendgroup\": \"nl\", \"line\": {\"color\": \"#EF553B\", \"dash\": \"solid\", \"shape\": \"spline\"}, \"mode\": \"lines\", \"name\": \"nl\", \"r\": [48.0, 48.0], \"showlegend\": true, \"subplot\": \"polar\", \"theta\": [\"restaurant\", \"restaurant\"], \"type\": \"scatterpolar\"}, {\"hovertemplate\": \"country=uk<br>date_str=2020-04-26<br>score_difference=%{r}<br>term=%{theta}<extra></extra>\", \"legendgroup\": \"uk\", \"line\": {\"color\": \"#00cc96\", \"dash\": \"solid\", \"shape\": \"spline\"}, \"mode\": \"lines\", \"name\": \"uk\", \"r\": [38.0, 38.0], \"showlegend\": true, \"subplot\": \"polar\", \"theta\": [\"restaurant\", \"restaurant\"], \"type\": \"scatterpolar\"}], \"name\": \"2020-04-26\"}, {\"data\": [{\"hovertemplate\": \"country=ger<br>date_str=2020-05-03<br>score_difference=%{r}<br>term=%{theta}<extra></extra>\", \"legendgroup\": \"ger\", \"line\": {\"color\": \"#636efa\", \"dash\": \"solid\", \"shape\": \"spline\"}, \"mode\": \"lines\", \"name\": \"ger\", \"r\": [41.0, 41.0], \"showlegend\": true, \"subplot\": \"polar\", \"theta\": [\"restaurant\", \"restaurant\"], \"type\": \"scatterpolar\"}, {\"hovertemplate\": \"country=nl<br>date_str=2020-05-03<br>score_difference=%{r}<br>term=%{theta}<extra></extra>\", \"legendgroup\": \"nl\", \"line\": {\"color\": \"#EF553B\", \"dash\": \"solid\", \"shape\": \"spline\"}, \"mode\": \"lines\", \"name\": \"nl\", \"r\": [35.0, 35.0], \"showlegend\": true, \"subplot\": \"polar\", \"theta\": [\"restaurant\", \"restaurant\"], \"type\": \"scatterpolar\"}, {\"hovertemplate\": \"country=uk<br>date_str=2020-05-03<br>score_difference=%{r}<br>term=%{theta}<extra></extra>\", \"legendgroup\": \"uk\", \"line\": {\"color\": \"#00cc96\", \"dash\": \"solid\", \"shape\": \"spline\"}, \"mode\": \"lines\", \"name\": \"uk\", \"r\": [38.0, 38.0], \"showlegend\": true, \"subplot\": \"polar\", \"theta\": [\"restaurant\", \"restaurant\"], \"type\": \"scatterpolar\"}], \"name\": \"2020-05-03\"}, {\"data\": [{\"hovertemplate\": \"country=ger<br>date_str=2020-05-10<br>score_difference=%{r}<br>term=%{theta}<extra></extra>\", \"legendgroup\": \"ger\", \"line\": {\"color\": \"#636efa\", \"dash\": \"solid\", \"shape\": \"spline\"}, \"mode\": \"lines\", \"name\": \"ger\", \"r\": [25.0, 25.0], \"showlegend\": true, \"subplot\": \"polar\", \"theta\": [\"restaurant\", \"restaurant\"], \"type\": \"scatterpolar\"}, {\"hovertemplate\": \"country=nl<br>date_str=2020-05-10<br>score_difference=%{r}<br>term=%{theta}<extra></extra>\", \"legendgroup\": \"nl\", \"line\": {\"color\": \"#EF553B\", \"dash\": \"solid\", \"shape\": \"spline\"}, \"mode\": \"lines\", \"name\": \"nl\", \"r\": [37.0, 37.0], \"showlegend\": true, \"subplot\": \"polar\", \"theta\": [\"restaurant\", \"restaurant\"], \"type\": \"scatterpolar\"}, {\"hovertemplate\": \"country=uk<br>date_str=2020-05-10<br>score_difference=%{r}<br>term=%{theta}<extra></extra>\", \"legendgroup\": \"uk\", \"line\": {\"color\": \"#00cc96\", \"dash\": \"solid\", \"shape\": \"spline\"}, \"mode\": \"lines\", \"name\": \"uk\", \"r\": [39.0, 39.0], \"showlegend\": true, \"subplot\": \"polar\", \"theta\": [\"restaurant\", \"restaurant\"], \"type\": \"scatterpolar\"}], \"name\": \"2020-05-10\"}, {\"data\": [{\"hovertemplate\": \"country=ger<br>date_str=2020-05-17<br>score_difference=%{r}<br>term=%{theta}<extra></extra>\", \"legendgroup\": \"ger\", \"line\": {\"color\": \"#636efa\", \"dash\": \"solid\", \"shape\": \"spline\"}, \"mode\": \"lines\", \"name\": \"ger\", \"r\": [7.0, 7.0], \"showlegend\": true, \"subplot\": \"polar\", \"theta\": [\"restaurant\", \"restaurant\"], \"type\": \"scatterpolar\"}, {\"hovertemplate\": \"country=nl<br>date_str=2020-05-17<br>score_difference=%{r}<br>term=%{theta}<extra></extra>\", \"legendgroup\": \"nl\", \"line\": {\"color\": \"#EF553B\", \"dash\": \"solid\", \"shape\": \"spline\"}, \"mode\": \"lines\", \"name\": \"nl\", \"r\": [30.0, 30.0], \"showlegend\": true, \"subplot\": \"polar\", \"theta\": [\"restaurant\", \"restaurant\"], \"type\": \"scatterpolar\"}, {\"hovertemplate\": \"country=uk<br>date_str=2020-05-17<br>score_difference=%{r}<br>term=%{theta}<extra></extra>\", \"legendgroup\": \"uk\", \"line\": {\"color\": \"#00cc96\", \"dash\": \"solid\", \"shape\": \"spline\"}, \"mode\": \"lines\", \"name\": \"uk\", \"r\": [40.0, 40.0], \"showlegend\": true, \"subplot\": \"polar\", \"theta\": [\"restaurant\", \"restaurant\"], \"type\": \"scatterpolar\"}], \"name\": \"2020-05-17\"}, {\"data\": [{\"hovertemplate\": \"country=ger<br>date_str=2020-05-24<br>score_difference=%{r}<br>term=%{theta}<extra></extra>\", \"legendgroup\": \"ger\", \"line\": {\"color\": \"#636efa\", \"dash\": \"solid\", \"shape\": \"spline\"}, \"mode\": \"lines\", \"name\": \"ger\", \"r\": [17.0, 17.0], \"showlegend\": true, \"subplot\": \"polar\", \"theta\": [\"restaurant\", \"restaurant\"], \"type\": \"scatterpolar\"}, {\"hovertemplate\": \"country=nl<br>date_str=2020-05-24<br>score_difference=%{r}<br>term=%{theta}<extra></extra>\", \"legendgroup\": \"nl\", \"line\": {\"color\": \"#EF553B\", \"dash\": \"solid\", \"shape\": \"spline\"}, \"mode\": \"lines\", \"name\": \"nl\", \"r\": [38.0, 38.0], \"showlegend\": true, \"subplot\": \"polar\", \"theta\": [\"restaurant\", \"restaurant\"], \"type\": \"scatterpolar\"}, {\"hovertemplate\": \"country=uk<br>date_str=2020-05-24<br>score_difference=%{r}<br>term=%{theta}<extra></extra>\", \"legendgroup\": \"uk\", \"line\": {\"color\": \"#00cc96\", \"dash\": \"solid\", \"shape\": \"spline\"}, \"mode\": \"lines\", \"name\": \"uk\", \"r\": [43.0, 43.0], \"showlegend\": true, \"subplot\": \"polar\", \"theta\": [\"restaurant\", \"restaurant\"], \"type\": \"scatterpolar\"}], \"name\": \"2020-05-24\"}, {\"data\": [{\"hovertemplate\": \"country=ger<br>date_str=2020-05-31<br>score_difference=%{r}<br>term=%{theta}<extra></extra>\", \"legendgroup\": \"ger\", \"line\": {\"color\": \"#636efa\", \"dash\": \"solid\", \"shape\": \"spline\"}, \"mode\": \"lines\", \"name\": \"ger\", \"r\": [1.0, 1.0], \"showlegend\": true, \"subplot\": \"polar\", \"theta\": [\"restaurant\", \"restaurant\"], \"type\": \"scatterpolar\"}, {\"hovertemplate\": \"country=nl<br>date_str=2020-05-31<br>score_difference=%{r}<br>term=%{theta}<extra></extra>\", \"legendgroup\": \"nl\", \"line\": {\"color\": \"#EF553B\", \"dash\": \"solid\", \"shape\": \"spline\"}, \"mode\": \"lines\", \"name\": \"nl\", \"r\": [9.0, 9.0], \"showlegend\": true, \"subplot\": \"polar\", \"theta\": [\"restaurant\", \"restaurant\"], \"type\": \"scatterpolar\"}, {\"hovertemplate\": \"country=uk<br>date_str=2020-05-31<br>score_difference=%{r}<br>term=%{theta}<extra></extra>\", \"legendgroup\": \"uk\", \"line\": {\"color\": \"#00cc96\", \"dash\": \"solid\", \"shape\": \"spline\"}, \"mode\": \"lines\", \"name\": \"uk\", \"r\": [37.0, 37.0], \"showlegend\": true, \"subplot\": \"polar\", \"theta\": [\"restaurant\", \"restaurant\"], \"type\": \"scatterpolar\"}], \"name\": \"2020-05-31\"}, {\"data\": [{\"hovertemplate\": \"country=ger<br>date_str=2020-06-07<br>score_difference=%{r}<br>term=%{theta}<extra></extra>\", \"legendgroup\": \"ger\", \"line\": {\"color\": \"#636efa\", \"dash\": \"solid\", \"shape\": \"spline\"}, \"mode\": \"lines\", \"name\": \"ger\", \"r\": [3.0, 3.0], \"showlegend\": true, \"subplot\": \"polar\", \"theta\": [\"restaurant\", \"restaurant\"], \"type\": \"scatterpolar\"}, {\"hovertemplate\": \"country=nl<br>date_str=2020-06-07<br>score_difference=%{r}<br>term=%{theta}<extra></extra>\", \"legendgroup\": \"nl\", \"line\": {\"color\": \"#EF553B\", \"dash\": \"solid\", \"shape\": \"spline\"}, \"mode\": \"lines\", \"name\": \"nl\", \"r\": [8.0, 8.0], \"showlegend\": true, \"subplot\": \"polar\", \"theta\": [\"restaurant\", \"restaurant\"], \"type\": \"scatterpolar\"}, {\"hovertemplate\": \"country=uk<br>date_str=2020-06-07<br>score_difference=%{r}<br>term=%{theta}<extra></extra>\", \"legendgroup\": \"uk\", \"line\": {\"color\": \"#00cc96\", \"dash\": \"solid\", \"shape\": \"spline\"}, \"mode\": \"lines\", \"name\": \"uk\", \"r\": [41.0, 41.0], \"showlegend\": true, \"subplot\": \"polar\", \"theta\": [\"restaurant\", \"restaurant\"], \"type\": \"scatterpolar\"}], \"name\": \"2020-06-07\"}, {\"data\": [{\"hovertemplate\": \"country=ger<br>date_str=2020-06-14<br>score_difference=%{r}<br>term=%{theta}<extra></extra>\", \"legendgroup\": \"ger\", \"line\": {\"color\": \"#636efa\", \"dash\": \"solid\", \"shape\": \"spline\"}, \"mode\": \"lines\", \"name\": \"ger\", \"r\": [8.0, 8.0], \"showlegend\": true, \"subplot\": \"polar\", \"theta\": [\"restaurant\", \"restaurant\"], \"type\": \"scatterpolar\"}, {\"hovertemplate\": \"country=nl<br>date_str=2020-06-14<br>score_difference=%{r}<br>term=%{theta}<extra></extra>\", \"legendgroup\": \"nl\", \"line\": {\"color\": \"#EF553B\", \"dash\": \"solid\", \"shape\": \"spline\"}, \"mode\": \"lines\", \"name\": \"nl\", \"r\": [0.0, 0.0], \"showlegend\": true, \"subplot\": \"polar\", \"theta\": [\"restaurant\", \"restaurant\"], \"type\": \"scatterpolar\"}, {\"hovertemplate\": \"country=uk<br>date_str=2020-06-14<br>score_difference=%{r}<br>term=%{theta}<extra></extra>\", \"legendgroup\": \"uk\", \"line\": {\"color\": \"#00cc96\", \"dash\": \"solid\", \"shape\": \"spline\"}, \"mode\": \"lines\", \"name\": \"uk\", \"r\": [38.0, 38.0], \"showlegend\": true, \"subplot\": \"polar\", \"theta\": [\"restaurant\", \"restaurant\"], \"type\": \"scatterpolar\"}], \"name\": \"2020-06-14\"}, {\"data\": [{\"hovertemplate\": \"country=ger<br>date_str=2020-06-21<br>score_difference=%{r}<br>term=%{theta}<extra></extra>\", \"legendgroup\": \"ger\", \"line\": {\"color\": \"#636efa\", \"dash\": \"solid\", \"shape\": \"spline\"}, \"mode\": \"lines\", \"name\": \"ger\", \"r\": [5.0, 5.0], \"showlegend\": true, \"subplot\": \"polar\", \"theta\": [\"restaurant\", \"restaurant\"], \"type\": \"scatterpolar\"}, {\"hovertemplate\": \"country=nl<br>date_str=2020-06-21<br>score_difference=%{r}<br>term=%{theta}<extra></extra>\", \"legendgroup\": \"nl\", \"line\": {\"color\": \"#EF553B\", \"dash\": \"solid\", \"shape\": \"spline\"}, \"mode\": \"lines\", \"name\": \"nl\", \"r\": [8.0, 8.0], \"showlegend\": true, \"subplot\": \"polar\", \"theta\": [\"restaurant\", \"restaurant\"], \"type\": \"scatterpolar\"}, {\"hovertemplate\": \"country=uk<br>date_str=2020-06-21<br>score_difference=%{r}<br>term=%{theta}<extra></extra>\", \"legendgroup\": \"uk\", \"line\": {\"color\": \"#00cc96\", \"dash\": \"solid\", \"shape\": \"spline\"}, \"mode\": \"lines\", \"name\": \"uk\", \"r\": [31.0, 31.0], \"showlegend\": true, \"subplot\": \"polar\", \"theta\": [\"restaurant\", \"restaurant\"], \"type\": \"scatterpolar\"}], \"name\": \"2020-06-21\"}, {\"data\": [{\"hovertemplate\": \"country=ger<br>date_str=2020-06-28<br>score_difference=%{r}<br>term=%{theta}<extra></extra>\", \"legendgroup\": \"ger\", \"line\": {\"color\": \"#636efa\", \"dash\": \"solid\", \"shape\": \"spline\"}, \"mode\": \"lines\", \"name\": \"ger\", \"r\": [6.0, 6.0], \"showlegend\": true, \"subplot\": \"polar\", \"theta\": [\"restaurant\", \"restaurant\"], \"type\": \"scatterpolar\"}, {\"hovertemplate\": \"country=nl<br>date_str=2020-06-28<br>score_difference=%{r}<br>term=%{theta}<extra></extra>\", \"legendgroup\": \"nl\", \"line\": {\"color\": \"#EF553B\", \"dash\": \"solid\", \"shape\": \"spline\"}, \"mode\": \"lines\", \"name\": \"nl\", \"r\": [7.0, 7.0], \"showlegend\": true, \"subplot\": \"polar\", \"theta\": [\"restaurant\", \"restaurant\"], \"type\": \"scatterpolar\"}, {\"hovertemplate\": \"country=uk<br>date_str=2020-06-28<br>score_difference=%{r}<br>term=%{theta}<extra></extra>\", \"legendgroup\": \"uk\", \"line\": {\"color\": \"#00cc96\", \"dash\": \"solid\", \"shape\": \"spline\"}, \"mode\": \"lines\", \"name\": \"uk\", \"r\": [23.0, 23.0], \"showlegend\": true, \"subplot\": \"polar\", \"theta\": [\"restaurant\", \"restaurant\"], \"type\": \"scatterpolar\"}], \"name\": \"2020-06-28\"}, {\"data\": [{\"hovertemplate\": \"country=ger<br>date_str=2020-07-05<br>score_difference=%{r}<br>term=%{theta}<extra></extra>\", \"legendgroup\": \"ger\", \"line\": {\"color\": \"#636efa\", \"dash\": \"solid\", \"shape\": \"spline\"}, \"mode\": \"lines\", \"name\": \"ger\", \"r\": [8.0, 8.0], \"showlegend\": true, \"subplot\": \"polar\", \"theta\": [\"restaurant\", \"restaurant\"], \"type\": \"scatterpolar\"}, {\"hovertemplate\": \"country=nl<br>date_str=2020-07-05<br>score_difference=%{r}<br>term=%{theta}<extra></extra>\", \"legendgroup\": \"nl\", \"line\": {\"color\": \"#EF553B\", \"dash\": \"solid\", \"shape\": \"spline\"}, \"mode\": \"lines\", \"name\": \"nl\", \"r\": [13.0, 13.0], \"showlegend\": true, \"subplot\": \"polar\", \"theta\": [\"restaurant\", \"restaurant\"], \"type\": \"scatterpolar\"}, {\"hovertemplate\": \"country=uk<br>date_str=2020-07-05<br>score_difference=%{r}<br>term=%{theta}<extra></extra>\", \"legendgroup\": \"uk\", \"line\": {\"color\": \"#00cc96\", \"dash\": \"solid\", \"shape\": \"spline\"}, \"mode\": \"lines\", \"name\": \"uk\", \"r\": [14.0, 14.0], \"showlegend\": true, \"subplot\": \"polar\", \"theta\": [\"restaurant\", \"restaurant\"], \"type\": \"scatterpolar\"}], \"name\": \"2020-07-05\"}, {\"data\": [{\"hovertemplate\": \"country=ger<br>date_str=2020-07-12<br>score_difference=%{r}<br>term=%{theta}<extra></extra>\", \"legendgroup\": \"ger\", \"line\": {\"color\": \"#636efa\", \"dash\": \"solid\", \"shape\": \"spline\"}, \"mode\": \"lines\", \"name\": \"ger\", \"r\": [10.0, 10.0], \"showlegend\": true, \"subplot\": \"polar\", \"theta\": [\"restaurant\", \"restaurant\"], \"type\": \"scatterpolar\"}, {\"hovertemplate\": \"country=nl<br>date_str=2020-07-12<br>score_difference=%{r}<br>term=%{theta}<extra></extra>\", \"legendgroup\": \"nl\", \"line\": {\"color\": \"#EF553B\", \"dash\": \"solid\", \"shape\": \"spline\"}, \"mode\": \"lines\", \"name\": \"nl\", \"r\": [13.0, 13.0], \"showlegend\": true, \"subplot\": \"polar\", \"theta\": [\"restaurant\", \"restaurant\"], \"type\": \"scatterpolar\"}, {\"hovertemplate\": \"country=uk<br>date_str=2020-07-12<br>score_difference=%{r}<br>term=%{theta}<extra></extra>\", \"legendgroup\": \"uk\", \"line\": {\"color\": \"#00cc96\", \"dash\": \"solid\", \"shape\": \"spline\"}, \"mode\": \"lines\", \"name\": \"uk\", \"r\": [9.0, 9.0], \"showlegend\": true, \"subplot\": \"polar\", \"theta\": [\"restaurant\", \"restaurant\"], \"type\": \"scatterpolar\"}], \"name\": \"2020-07-12\"}, {\"data\": [{\"hovertemplate\": \"country=ger<br>date_str=2020-07-19<br>score_difference=%{r}<br>term=%{theta}<extra></extra>\", \"legendgroup\": \"ger\", \"line\": {\"color\": \"#636efa\", \"dash\": \"solid\", \"shape\": \"spline\"}, \"mode\": \"lines\", \"name\": \"ger\", \"r\": [16.0, 16.0], \"showlegend\": true, \"subplot\": \"polar\", \"theta\": [\"restaurant\", \"restaurant\"], \"type\": \"scatterpolar\"}, {\"hovertemplate\": \"country=nl<br>date_str=2020-07-19<br>score_difference=%{r}<br>term=%{theta}<extra></extra>\", \"legendgroup\": \"nl\", \"line\": {\"color\": \"#EF553B\", \"dash\": \"solid\", \"shape\": \"spline\"}, \"mode\": \"lines\", \"name\": \"nl\", \"r\": [20.0, 20.0], \"showlegend\": true, \"subplot\": \"polar\", \"theta\": [\"restaurant\", \"restaurant\"], \"type\": \"scatterpolar\"}, {\"hovertemplate\": \"country=uk<br>date_str=2020-07-19<br>score_difference=%{r}<br>term=%{theta}<extra></extra>\", \"legendgroup\": \"uk\", \"line\": {\"color\": \"#00cc96\", \"dash\": \"solid\", \"shape\": \"spline\"}, \"mode\": \"lines\", \"name\": \"uk\", \"r\": [3.0, 3.0], \"showlegend\": true, \"subplot\": \"polar\", \"theta\": [\"restaurant\", \"restaurant\"], \"type\": \"scatterpolar\"}], \"name\": \"2020-07-19\"}, {\"data\": [{\"hovertemplate\": \"country=ger<br>date_str=2020-07-26<br>score_difference=%{r}<br>term=%{theta}<extra></extra>\", \"legendgroup\": \"ger\", \"line\": {\"color\": \"#636efa\", \"dash\": \"solid\", \"shape\": \"spline\"}, \"mode\": \"lines\", \"name\": \"ger\", \"r\": [10.0, 10.0], \"showlegend\": true, \"subplot\": \"polar\", \"theta\": [\"restaurant\", \"restaurant\"], \"type\": \"scatterpolar\"}, {\"hovertemplate\": \"country=nl<br>date_str=2020-07-26<br>score_difference=%{r}<br>term=%{theta}<extra></extra>\", \"legendgroup\": \"nl\", \"line\": {\"color\": \"#EF553B\", \"dash\": \"solid\", \"shape\": \"spline\"}, \"mode\": \"lines\", \"name\": \"nl\", \"r\": [12.0, 12.0], \"showlegend\": true, \"subplot\": \"polar\", \"theta\": [\"restaurant\", \"restaurant\"], \"type\": \"scatterpolar\"}, {\"hovertemplate\": \"country=uk<br>date_str=2020-07-26<br>score_difference=%{r}<br>term=%{theta}<extra></extra>\", \"legendgroup\": \"uk\", \"line\": {\"color\": \"#00cc96\", \"dash\": \"solid\", \"shape\": \"spline\"}, \"mode\": \"lines\", \"name\": \"uk\", \"r\": [4.0, 4.0], \"showlegend\": true, \"subplot\": \"polar\", \"theta\": [\"restaurant\", \"restaurant\"], \"type\": \"scatterpolar\"}], \"name\": \"2020-07-26\"}, {\"data\": [{\"hovertemplate\": \"country=ger<br>date_str=2020-08-02<br>score_difference=%{r}<br>term=%{theta}<extra></extra>\", \"legendgroup\": \"ger\", \"line\": {\"color\": \"#636efa\", \"dash\": \"solid\", \"shape\": \"spline\"}, \"mode\": \"lines\", \"name\": \"ger\", \"r\": [6.0, 6.0], \"showlegend\": true, \"subplot\": \"polar\", \"theta\": [\"restaurant\", \"restaurant\"], \"type\": \"scatterpolar\"}, {\"hovertemplate\": \"country=nl<br>date_str=2020-08-02<br>score_difference=%{r}<br>term=%{theta}<extra></extra>\", \"legendgroup\": \"nl\", \"line\": {\"color\": \"#EF553B\", \"dash\": \"solid\", \"shape\": \"spline\"}, \"mode\": \"lines\", \"name\": \"nl\", \"r\": [8.0, 8.0], \"showlegend\": true, \"subplot\": \"polar\", \"theta\": [\"restaurant\", \"restaurant\"], \"type\": \"scatterpolar\"}, {\"hovertemplate\": \"country=uk<br>date_str=2020-08-02<br>score_difference=%{r}<br>term=%{theta}<extra></extra>\", \"legendgroup\": \"uk\", \"line\": {\"color\": \"#00cc96\", \"dash\": \"solid\", \"shape\": \"spline\"}, \"mode\": \"lines\", \"name\": \"uk\", \"r\": [13.0, 13.0], \"showlegend\": true, \"subplot\": \"polar\", \"theta\": [\"restaurant\", \"restaurant\"], \"type\": \"scatterpolar\"}], \"name\": \"2020-08-02\"}, {\"data\": [{\"hovertemplate\": \"country=ger<br>date_str=2020-08-09<br>score_difference=%{r}<br>term=%{theta}<extra></extra>\", \"legendgroup\": \"ger\", \"line\": {\"color\": \"#636efa\", \"dash\": \"solid\", \"shape\": \"spline\"}, \"mode\": \"lines\", \"name\": \"ger\", \"r\": [8.0, 8.0], \"showlegend\": true, \"subplot\": \"polar\", \"theta\": [\"restaurant\", \"restaurant\"], \"type\": \"scatterpolar\"}, {\"hovertemplate\": \"country=nl<br>date_str=2020-08-09<br>score_difference=%{r}<br>term=%{theta}<extra></extra>\", \"legendgroup\": \"nl\", \"line\": {\"color\": \"#EF553B\", \"dash\": \"solid\", \"shape\": \"spline\"}, \"mode\": \"lines\", \"name\": \"nl\", \"r\": [4.0, 4.0], \"showlegend\": true, \"subplot\": \"polar\", \"theta\": [\"restaurant\", \"restaurant\"], \"type\": \"scatterpolar\"}, {\"hovertemplate\": \"country=uk<br>date_str=2020-08-09<br>score_difference=%{r}<br>term=%{theta}<extra></extra>\", \"legendgroup\": \"uk\", \"line\": {\"color\": \"#00cc96\", \"dash\": \"solid\", \"shape\": \"spline\"}, \"mode\": \"lines\", \"name\": \"uk\", \"r\": [16.0, 16.0], \"showlegend\": true, \"subplot\": \"polar\", \"theta\": [\"restaurant\", \"restaurant\"], \"type\": \"scatterpolar\"}], \"name\": \"2020-08-09\"}, {\"data\": [{\"hovertemplate\": \"country=ger<br>date_str=2020-08-16<br>score_difference=%{r}<br>term=%{theta}<extra></extra>\", \"legendgroup\": \"ger\", \"line\": {\"color\": \"#636efa\", \"dash\": \"solid\", \"shape\": \"spline\"}, \"mode\": \"lines\", \"name\": \"ger\", \"r\": [17.0, 17.0], \"showlegend\": true, \"subplot\": \"polar\", \"theta\": [\"restaurant\", \"restaurant\"], \"type\": \"scatterpolar\"}, {\"hovertemplate\": \"country=nl<br>date_str=2020-08-16<br>score_difference=%{r}<br>term=%{theta}<extra></extra>\", \"legendgroup\": \"nl\", \"line\": {\"color\": \"#EF553B\", \"dash\": \"solid\", \"shape\": \"spline\"}, \"mode\": \"lines\", \"name\": \"nl\", \"r\": [16.0, 16.0], \"showlegend\": true, \"subplot\": \"polar\", \"theta\": [\"restaurant\", \"restaurant\"], \"type\": \"scatterpolar\"}, {\"hovertemplate\": \"country=uk<br>date_str=2020-08-16<br>score_difference=%{r}<br>term=%{theta}<extra></extra>\", \"legendgroup\": \"uk\", \"line\": {\"color\": \"#00cc96\", \"dash\": \"solid\", \"shape\": \"spline\"}, \"mode\": \"lines\", \"name\": \"uk\", \"r\": [25.0, 25.0], \"showlegend\": true, \"subplot\": \"polar\", \"theta\": [\"restaurant\", \"restaurant\"], \"type\": \"scatterpolar\"}], \"name\": \"2020-08-16\"}, {\"data\": [{\"hovertemplate\": \"country=ger<br>date_str=2020-08-23<br>score_difference=%{r}<br>term=%{theta}<extra></extra>\", \"legendgroup\": \"ger\", \"line\": {\"color\": \"#636efa\", \"dash\": \"solid\", \"shape\": \"spline\"}, \"mode\": \"lines\", \"name\": \"ger\", \"r\": [19.0, 19.0], \"showlegend\": true, \"subplot\": \"polar\", \"theta\": [\"restaurant\", \"restaurant\"], \"type\": \"scatterpolar\"}, {\"hovertemplate\": \"country=nl<br>date_str=2020-08-23<br>score_difference=%{r}<br>term=%{theta}<extra></extra>\", \"legendgroup\": \"nl\", \"line\": {\"color\": \"#EF553B\", \"dash\": \"solid\", \"shape\": \"spline\"}, \"mode\": \"lines\", \"name\": \"nl\", \"r\": [13.0, 13.0], \"showlegend\": true, \"subplot\": \"polar\", \"theta\": [\"restaurant\", \"restaurant\"], \"type\": \"scatterpolar\"}, {\"hovertemplate\": \"country=uk<br>date_str=2020-08-23<br>score_difference=%{r}<br>term=%{theta}<extra></extra>\", \"legendgroup\": \"uk\", \"line\": {\"color\": \"#00cc96\", \"dash\": \"solid\", \"shape\": \"spline\"}, \"mode\": \"lines\", \"name\": \"uk\", \"r\": [26.0, 26.0], \"showlegend\": true, \"subplot\": \"polar\", \"theta\": [\"restaurant\", \"restaurant\"], \"type\": \"scatterpolar\"}], \"name\": \"2020-08-23\"}, {\"data\": [{\"hovertemplate\": \"country=ger<br>date_str=2020-08-30<br>score_difference=%{r}<br>term=%{theta}<extra></extra>\", \"legendgroup\": \"ger\", \"line\": {\"color\": \"#636efa\", \"dash\": \"solid\", \"shape\": \"spline\"}, \"mode\": \"lines\", \"name\": \"ger\", \"r\": [11.0, 11.0], \"showlegend\": true, \"subplot\": \"polar\", \"theta\": [\"restaurant\", \"restaurant\"], \"type\": \"scatterpolar\"}, {\"hovertemplate\": \"country=nl<br>date_str=2020-08-30<br>score_difference=%{r}<br>term=%{theta}<extra></extra>\", \"legendgroup\": \"nl\", \"line\": {\"color\": \"#EF553B\", \"dash\": \"solid\", \"shape\": \"spline\"}, \"mode\": \"lines\", \"name\": \"nl\", \"r\": [15.0, 15.0], \"showlegend\": true, \"subplot\": \"polar\", \"theta\": [\"restaurant\", \"restaurant\"], \"type\": \"scatterpolar\"}, {\"hovertemplate\": \"country=uk<br>date_str=2020-08-30<br>score_difference=%{r}<br>term=%{theta}<extra></extra>\", \"legendgroup\": \"uk\", \"line\": {\"color\": \"#00cc96\", \"dash\": \"solid\", \"shape\": \"spline\"}, \"mode\": \"lines\", \"name\": \"uk\", \"r\": [17.0, 17.0], \"showlegend\": true, \"subplot\": \"polar\", \"theta\": [\"restaurant\", \"restaurant\"], \"type\": \"scatterpolar\"}], \"name\": \"2020-08-30\"}, {\"data\": [{\"hovertemplate\": \"country=ger<br>date_str=2020-09-06<br>score_difference=%{r}<br>term=%{theta}<extra></extra>\", \"legendgroup\": \"ger\", \"line\": {\"color\": \"#636efa\", \"dash\": \"solid\", \"shape\": \"spline\"}, \"mode\": \"lines\", \"name\": \"ger\", \"r\": [16.0, 16.0], \"showlegend\": true, \"subplot\": \"polar\", \"theta\": [\"restaurant\", \"restaurant\"], \"type\": \"scatterpolar\"}, {\"hovertemplate\": \"country=nl<br>date_str=2020-09-06<br>score_difference=%{r}<br>term=%{theta}<extra></extra>\", \"legendgroup\": \"nl\", \"line\": {\"color\": \"#EF553B\", \"dash\": \"solid\", \"shape\": \"spline\"}, \"mode\": \"lines\", \"name\": \"nl\", \"r\": [20.0, 20.0], \"showlegend\": true, \"subplot\": \"polar\", \"theta\": [\"restaurant\", \"restaurant\"], \"type\": \"scatterpolar\"}, {\"hovertemplate\": \"country=uk<br>date_str=2020-09-06<br>score_difference=%{r}<br>term=%{theta}<extra></extra>\", \"legendgroup\": \"uk\", \"line\": {\"color\": \"#00cc96\", \"dash\": \"solid\", \"shape\": \"spline\"}, \"mode\": \"lines\", \"name\": \"uk\", \"r\": [1.0, 1.0], \"showlegend\": true, \"subplot\": \"polar\", \"theta\": [\"restaurant\", \"restaurant\"], \"type\": \"scatterpolar\"}], \"name\": \"2020-09-06\"}, {\"data\": [{\"hovertemplate\": \"country=ger<br>date_str=2020-09-13<br>score_difference=%{r}<br>term=%{theta}<extra></extra>\", \"legendgroup\": \"ger\", \"line\": {\"color\": \"#636efa\", \"dash\": \"solid\", \"shape\": \"spline\"}, \"mode\": \"lines\", \"name\": \"ger\", \"r\": [11.0, 11.0], \"showlegend\": true, \"subplot\": \"polar\", \"theta\": [\"restaurant\", \"restaurant\"], \"type\": \"scatterpolar\"}, {\"hovertemplate\": \"country=nl<br>date_str=2020-09-13<br>score_difference=%{r}<br>term=%{theta}<extra></extra>\", \"legendgroup\": \"nl\", \"line\": {\"color\": \"#EF553B\", \"dash\": \"solid\", \"shape\": \"spline\"}, \"mode\": \"lines\", \"name\": \"nl\", \"r\": [13.0, 13.0], \"showlegend\": true, \"subplot\": \"polar\", \"theta\": [\"restaurant\", \"restaurant\"], \"type\": \"scatterpolar\"}, {\"hovertemplate\": \"country=uk<br>date_str=2020-09-13<br>score_difference=%{r}<br>term=%{theta}<extra></extra>\", \"legendgroup\": \"uk\", \"line\": {\"color\": \"#00cc96\", \"dash\": \"solid\", \"shape\": \"spline\"}, \"mode\": \"lines\", \"name\": \"uk\", \"r\": [3.0, 3.0], \"showlegend\": true, \"subplot\": \"polar\", \"theta\": [\"restaurant\", \"restaurant\"], \"type\": \"scatterpolar\"}], \"name\": \"2020-09-13\"}, {\"data\": [{\"hovertemplate\": \"country=ger<br>date_str=2020-09-20<br>score_difference=%{r}<br>term=%{theta}<extra></extra>\", \"legendgroup\": \"ger\", \"line\": {\"color\": \"#636efa\", \"dash\": \"solid\", \"shape\": \"spline\"}, \"mode\": \"lines\", \"name\": \"ger\", \"r\": [11.0, 11.0], \"showlegend\": true, \"subplot\": \"polar\", \"theta\": [\"restaurant\", \"restaurant\"], \"type\": \"scatterpolar\"}, {\"hovertemplate\": \"country=nl<br>date_str=2020-09-20<br>score_difference=%{r}<br>term=%{theta}<extra></extra>\", \"legendgroup\": \"nl\", \"line\": {\"color\": \"#EF553B\", \"dash\": \"solid\", \"shape\": \"spline\"}, \"mode\": \"lines\", \"name\": \"nl\", \"r\": [8.0, 8.0], \"showlegend\": true, \"subplot\": \"polar\", \"theta\": [\"restaurant\", \"restaurant\"], \"type\": \"scatterpolar\"}, {\"hovertemplate\": \"country=uk<br>date_str=2020-09-20<br>score_difference=%{r}<br>term=%{theta}<extra></extra>\", \"legendgroup\": \"uk\", \"line\": {\"color\": \"#00cc96\", \"dash\": \"solid\", \"shape\": \"spline\"}, \"mode\": \"lines\", \"name\": \"uk\", \"r\": [5.0, 5.0], \"showlegend\": true, \"subplot\": \"polar\", \"theta\": [\"restaurant\", \"restaurant\"], \"type\": \"scatterpolar\"}], \"name\": \"2020-09-20\"}, {\"data\": [{\"hovertemplate\": \"country=ger<br>date_str=2020-09-27<br>score_difference=%{r}<br>term=%{theta}<extra></extra>\", \"legendgroup\": \"ger\", \"line\": {\"color\": \"#636efa\", \"dash\": \"solid\", \"shape\": \"spline\"}, \"mode\": \"lines\", \"name\": \"ger\", \"r\": [5.0, 5.0], \"showlegend\": true, \"subplot\": \"polar\", \"theta\": [\"restaurant\", \"restaurant\"], \"type\": \"scatterpolar\"}, {\"hovertemplate\": \"country=nl<br>date_str=2020-09-27<br>score_difference=%{r}<br>term=%{theta}<extra></extra>\", \"legendgroup\": \"nl\", \"line\": {\"color\": \"#EF553B\", \"dash\": \"solid\", \"shape\": \"spline\"}, \"mode\": \"lines\", \"name\": \"nl\", \"r\": [0.0, 0.0], \"showlegend\": true, \"subplot\": \"polar\", \"theta\": [\"restaurant\", \"restaurant\"], \"type\": \"scatterpolar\"}, {\"hovertemplate\": \"country=uk<br>date_str=2020-09-27<br>score_difference=%{r}<br>term=%{theta}<extra></extra>\", \"legendgroup\": \"uk\", \"line\": {\"color\": \"#00cc96\", \"dash\": \"solid\", \"shape\": \"spline\"}, \"mode\": \"lines\", \"name\": \"uk\", \"r\": [7.0, 7.0], \"showlegend\": true, \"subplot\": \"polar\", \"theta\": [\"restaurant\", \"restaurant\"], \"type\": \"scatterpolar\"}], \"name\": \"2020-09-27\"}, {\"data\": [{\"hovertemplate\": \"country=ger<br>date_str=2020-10-04<br>score_difference=%{r}<br>term=%{theta}<extra></extra>\", \"legendgroup\": \"ger\", \"line\": {\"color\": \"#636efa\", \"dash\": \"solid\", \"shape\": \"spline\"}, \"mode\": \"lines\", \"name\": \"ger\", \"r\": [2.0, 2.0], \"showlegend\": true, \"subplot\": \"polar\", \"theta\": [\"restaurant\", \"restaurant\"], \"type\": \"scatterpolar\"}, {\"hovertemplate\": \"country=nl<br>date_str=2020-10-04<br>score_difference=%{r}<br>term=%{theta}<extra></extra>\", \"legendgroup\": \"nl\", \"line\": {\"color\": \"#EF553B\", \"dash\": \"solid\", \"shape\": \"spline\"}, \"mode\": \"lines\", \"name\": \"nl\", \"r\": [11.0, 11.0], \"showlegend\": true, \"subplot\": \"polar\", \"theta\": [\"restaurant\", \"restaurant\"], \"type\": \"scatterpolar\"}, {\"hovertemplate\": \"country=uk<br>date_str=2020-10-04<br>score_difference=%{r}<br>term=%{theta}<extra></extra>\", \"legendgroup\": \"uk\", \"line\": {\"color\": \"#00cc96\", \"dash\": \"solid\", \"shape\": \"spline\"}, \"mode\": \"lines\", \"name\": \"uk\", \"r\": [11.0, 11.0], \"showlegend\": true, \"subplot\": \"polar\", \"theta\": [\"restaurant\", \"restaurant\"], \"type\": \"scatterpolar\"}], \"name\": \"2020-10-04\"}, {\"data\": [{\"hovertemplate\": \"country=ger<br>date_str=2020-10-11<br>score_difference=%{r}<br>term=%{theta}<extra></extra>\", \"legendgroup\": \"ger\", \"line\": {\"color\": \"#636efa\", \"dash\": \"solid\", \"shape\": \"spline\"}, \"mode\": \"lines\", \"name\": \"ger\", \"r\": [6.0, 6.0], \"showlegend\": true, \"subplot\": \"polar\", \"theta\": [\"restaurant\", \"restaurant\"], \"type\": \"scatterpolar\"}, {\"hovertemplate\": \"country=nl<br>date_str=2020-10-11<br>score_difference=%{r}<br>term=%{theta}<extra></extra>\", \"legendgroup\": \"nl\", \"line\": {\"color\": \"#EF553B\", \"dash\": \"solid\", \"shape\": \"spline\"}, \"mode\": \"lines\", \"name\": \"nl\", \"r\": [27.0, 27.0], \"showlegend\": true, \"subplot\": \"polar\", \"theta\": [\"restaurant\", \"restaurant\"], \"type\": \"scatterpolar\"}, {\"hovertemplate\": \"country=uk<br>date_str=2020-10-11<br>score_difference=%{r}<br>term=%{theta}<extra></extra>\", \"legendgroup\": \"uk\", \"line\": {\"color\": \"#00cc96\", \"dash\": \"solid\", \"shape\": \"spline\"}, \"mode\": \"lines\", \"name\": \"uk\", \"r\": [13.0, 13.0], \"showlegend\": true, \"subplot\": \"polar\", \"theta\": [\"restaurant\", \"restaurant\"], \"type\": \"scatterpolar\"}], \"name\": \"2020-10-11\"}, {\"data\": [{\"hovertemplate\": \"country=ger<br>date_str=2020-10-18<br>score_difference=%{r}<br>term=%{theta}<extra></extra>\", \"legendgroup\": \"ger\", \"line\": {\"color\": \"#636efa\", \"dash\": \"solid\", \"shape\": \"spline\"}, \"mode\": \"lines\", \"name\": \"ger\", \"r\": [14.0, 14.0], \"showlegend\": true, \"subplot\": \"polar\", \"theta\": [\"restaurant\", \"restaurant\"], \"type\": \"scatterpolar\"}, {\"hovertemplate\": \"country=nl<br>date_str=2020-10-18<br>score_difference=%{r}<br>term=%{theta}<extra></extra>\", \"legendgroup\": \"nl\", \"line\": {\"color\": \"#EF553B\", \"dash\": \"solid\", \"shape\": \"spline\"}, \"mode\": \"lines\", \"name\": \"nl\", \"r\": [48.0, 48.0], \"showlegend\": true, \"subplot\": \"polar\", \"theta\": [\"restaurant\", \"restaurant\"], \"type\": \"scatterpolar\"}, {\"hovertemplate\": \"country=uk<br>date_str=2020-10-18<br>score_difference=%{r}<br>term=%{theta}<extra></extra>\", \"legendgroup\": \"uk\", \"line\": {\"color\": \"#00cc96\", \"dash\": \"solid\", \"shape\": \"spline\"}, \"mode\": \"lines\", \"name\": \"uk\", \"r\": [17.0, 17.0], \"showlegend\": true, \"subplot\": \"polar\", \"theta\": [\"restaurant\", \"restaurant\"], \"type\": \"scatterpolar\"}], \"name\": \"2020-10-18\"}, {\"data\": [{\"hovertemplate\": \"country=ger<br>date_str=2020-10-25<br>score_difference=%{r}<br>term=%{theta}<extra></extra>\", \"legendgroup\": \"ger\", \"line\": {\"color\": \"#636efa\", \"dash\": \"solid\", \"shape\": \"spline\"}, \"mode\": \"lines\", \"name\": \"ger\", \"r\": [23.0, 23.0], \"showlegend\": true, \"subplot\": \"polar\", \"theta\": [\"restaurant\", \"restaurant\"], \"type\": \"scatterpolar\"}, {\"hovertemplate\": \"country=nl<br>date_str=2020-10-25<br>score_difference=%{r}<br>term=%{theta}<extra></extra>\", \"legendgroup\": \"nl\", \"line\": {\"color\": \"#EF553B\", \"dash\": \"solid\", \"shape\": \"spline\"}, \"mode\": \"lines\", \"name\": \"nl\", \"r\": [43.0, 43.0], \"showlegend\": true, \"subplot\": \"polar\", \"theta\": [\"restaurant\", \"restaurant\"], \"type\": \"scatterpolar\"}, {\"hovertemplate\": \"country=uk<br>date_str=2020-10-25<br>score_difference=%{r}<br>term=%{theta}<extra></extra>\", \"legendgroup\": \"uk\", \"line\": {\"color\": \"#00cc96\", \"dash\": \"solid\", \"shape\": \"spline\"}, \"mode\": \"lines\", \"name\": \"uk\", \"r\": [14.0, 14.0], \"showlegend\": true, \"subplot\": \"polar\", \"theta\": [\"restaurant\", \"restaurant\"], \"type\": \"scatterpolar\"}], \"name\": \"2020-10-25\"}, {\"data\": [{\"hovertemplate\": \"country=ger<br>date_str=2020-11-01<br>score_difference=%{r}<br>term=%{theta}<extra></extra>\", \"legendgroup\": \"ger\", \"line\": {\"color\": \"#636efa\", \"dash\": \"solid\", \"shape\": \"spline\"}, \"mode\": \"lines\", \"name\": \"ger\", \"r\": [50.0, 50.0], \"showlegend\": true, \"subplot\": \"polar\", \"theta\": [\"restaurant\", \"restaurant\"], \"type\": \"scatterpolar\"}, {\"hovertemplate\": \"country=nl<br>date_str=2020-11-01<br>score_difference=%{r}<br>term=%{theta}<extra></extra>\", \"legendgroup\": \"nl\", \"line\": {\"color\": \"#EF553B\", \"dash\": \"solid\", \"shape\": \"spline\"}, \"mode\": \"lines\", \"name\": \"nl\", \"r\": [50.0, 50.0], \"showlegend\": true, \"subplot\": \"polar\", \"theta\": [\"restaurant\", \"restaurant\"], \"type\": \"scatterpolar\"}, {\"hovertemplate\": \"country=uk<br>date_str=2020-11-01<br>score_difference=%{r}<br>term=%{theta}<extra></extra>\", \"legendgroup\": \"uk\", \"line\": {\"color\": \"#00cc96\", \"dash\": \"solid\", \"shape\": \"spline\"}, \"mode\": \"lines\", \"name\": \"uk\", \"r\": [29.0, 29.0], \"showlegend\": true, \"subplot\": \"polar\", \"theta\": [\"restaurant\", \"restaurant\"], \"type\": \"scatterpolar\"}], \"name\": \"2020-11-01\"}]);\n",
       "                        }).then(function(){\n",
       "                            \n",
       "var gd = document.getElementById('3a622c5f-aa6f-4cb1-bfdb-373858a2186f');\n",
       "var x = new MutationObserver(function (mutations, observer) {{\n",
       "        var display = window.getComputedStyle(gd).display;\n",
       "        if (!display || display === 'none') {{\n",
       "            console.log([gd, 'removed!']);\n",
       "            Plotly.purge(gd);\n",
       "            observer.disconnect();\n",
       "        }}\n",
       "}});\n",
       "\n",
       "// Listen for the removal of the full notebook cells\n",
       "var notebookContainer = gd.closest('#notebook-container');\n",
       "if (notebookContainer) {{\n",
       "    x.observe(notebookContainer, {childList: true});\n",
       "}}\n",
       "\n",
       "// Listen for the clearing of the current output cell\n",
       "var outputEl = gd.closest('.output');\n",
       "if (outputEl) {{\n",
       "    x.observe(outputEl, {childList: true});\n",
       "}}\n",
       "\n",
       "                        })\n",
       "                };\n",
       "                });\n",
       "            </script>\n",
       "        </div>"
      ]
     },
     "metadata": {},
     "output_type": "display_data"
    }
   ],
   "source": [
    "# Make radar chart with 3 lines \n",
    "fig = px.line_polar(transformed_data, \n",
    "                    r = \"score_difference\", \n",
    "                    theta = \"term\", \n",
    "                    color = \"country\", \n",
    "                    line_close = True,\n",
    "                    line_shape = \"spline\", # or linear\n",
    "                    range_r = [min(nl[\"score_difference\"]), max(nl[\"score_difference\"])],\n",
    "                    render_mode = \"auto\",\n",
    "                    animation_frame = \"date_str\", \n",
    "                    title = \"Search term evolution for Germany\", # \"the Netherlands\" has to be replaced by name of input\n",
    "                    width = 700,\n",
    "                    height = 700,\n",
    "                    #color_discrete_sequence = px.colors.sequential.Plasma_r\n",
    "                    )\n",
    "fig.show()\n",
    "    "
   ]
  },
  {
   "cell_type": "code",
   "execution_count": null,
   "metadata": {},
   "outputs": [],
   "source": []
  }
 ],
 "metadata": {
  "kernelspec": {
   "display_name": "Python 3",
   "language": "python",
   "name": "python3"
  },
  "language_info": {
   "codemirror_mode": {
    "name": "ipython",
    "version": 3
   },
   "file_extension": ".py",
   "mimetype": "text/x-python",
   "name": "python",
   "nbconvert_exporter": "python",
   "pygments_lexer": "ipython3",
   "version": "3.6.12"
  }
 },
 "nbformat": 4,
 "nbformat_minor": 2
}
